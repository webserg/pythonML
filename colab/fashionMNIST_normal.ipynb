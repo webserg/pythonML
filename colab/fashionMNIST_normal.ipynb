{
  "nbformat": 4,
  "nbformat_minor": 0,
  "metadata": {
    "colab": {
      "name": "fashionMNIST_normal.ipynb",
      "version": "0.3.2",
      "provenance": [],
      "collapsed_sections": []
    },
    "kernelspec": {
      "display_name": "Python 3",
      "language": "python",
      "name": "python3"
    },
    "accelerator": "GPU"
  },
  "cells": [
    {
      "cell_type": "markdown",
      "metadata": {
        "id": "view-in-github",
        "colab_type": "text"
      },
      "source": [
        "[View in Colaboratory](https://colab.research.google.com/github/webserg/pythonML/blob/master/colab/fashionMNIST_normal.ipynb)"
      ]
    },
    {
      "metadata": {
        "id": "MpjxIAhoxRNB",
        "colab_type": "code",
        "colab": {
          "base_uri": "https://localhost:8080/",
          "height": 269
        },
        "outputId": "f4696f9c-562b-4188-819f-530ab051e753"
      },
      "cell_type": "code",
      "source": [
        "!pip install kaggle"
      ],
      "execution_count": 1,
      "outputs": [
        {
          "output_type": "stream",
          "text": [
            "Collecting kaggle\n",
            "  Downloading https://files.pythonhosted.org/packages/74/9b/a6bdc22939c32e1cecc086a972b5e3f7c991b73d74dab0e5d82ff80c5968/kaggle-1.3.8.tar.gz\n",
            "Requirement already satisfied: urllib3>=1.15 in /usr/local/lib/python3.6/dist-packages (from kaggle) (1.22)\n",
            "Requirement already satisfied: six>=1.10 in /usr/local/lib/python3.6/dist-packages (from kaggle) (1.11.0)\n",
            "Requirement already satisfied: certifi in /usr/local/lib/python3.6/dist-packages (from kaggle) (2018.4.16)\n",
            "Requirement already satisfied: python-dateutil in /usr/local/lib/python3.6/dist-packages (from kaggle) (2.5.3)\n",
            "Requirement already satisfied: requests in /usr/local/lib/python3.6/dist-packages (from kaggle) (2.18.4)\n",
            "Requirement already satisfied: chardet<3.1.0,>=3.0.2 in /usr/local/lib/python3.6/dist-packages (from requests->kaggle) (3.0.4)\n",
            "Requirement already satisfied: idna<2.7,>=2.5 in /usr/local/lib/python3.6/dist-packages (from requests->kaggle) (2.6)\n",
            "Building wheels for collected packages: kaggle\n",
            "  Running setup.py bdist_wheel for kaggle ... \u001b[?25l-\b \b\\\b \bdone\n",
            "\u001b[?25h  Stored in directory: /content/.cache/pip/wheels/d6/3c/92/375decc0cf0a65b281db3cca9b8e21dc27b8ebc4d1ce29afca\n",
            "Successfully built kaggle\n",
            "Installing collected packages: kaggle\n",
            "Successfully installed kaggle-1.3.8\n"
          ],
          "name": "stdout"
        }
      ]
    },
    {
      "metadata": {
        "id": "fjEzwoPsyMFR",
        "colab_type": "code",
        "colab": {
          "base_uri": "https://localhost:8080/",
          "height": 34
        },
        "outputId": "1dd6be94-e9c4-42a9-f3e8-39e08ca9ac86"
      },
      "cell_type": "code",
      "source": [
        "from googleapiclient.discovery import build\n",
        "import io, os\n",
        "from googleapiclient.http import MediaIoBaseDownload\n",
        "from google.colab import auth\n",
        "\n",
        "auth.authenticate_user()\n",
        "\n",
        "drive_service = build('drive', 'v3')\n",
        "results = drive_service.files().list(\n",
        "        q=\"name = 'kaggle.json'\", fields=\"files(id)\").execute()\n",
        "kaggle_api_key = results.get('files', [])\n",
        "\n",
        "filename = \"/content/.kaggle/kaggle.json\"\n",
        "os.makedirs(os.path.dirname(filename), exist_ok=True)\n",
        "\n",
        "request = drive_service.files().get_media(fileId=kaggle_api_key[0]['id'])\n",
        "fh = io.FileIO(filename, 'wb')\n",
        "downloader = MediaIoBaseDownload(fh, request)\n",
        "done = False\n",
        "while done is False:\n",
        "    status, done = downloader.next_chunk()\n",
        "    print(\"Download %d%%.\" % int(status.progress() * 100))\n",
        "os.chmod(filename, 600)"
      ],
      "execution_count": 2,
      "outputs": [
        {
          "output_type": "stream",
          "text": [
            "Download 100%.\n"
          ],
          "name": "stdout"
        }
      ]
    },
    {
      "metadata": {
        "id": "LVWMF1bmxOOR",
        "colab_type": "code",
        "colab": {
          "base_uri": "https://localhost:8080/",
          "height": 34
        },
        "outputId": "22345770-c1a6-496b-de7a-76f2b7f625de"
      },
      "cell_type": "code",
      "source": [
        "!pwd"
      ],
      "execution_count": 3,
      "outputs": [
        {
          "output_type": "stream",
          "text": [
            "/content\r\n"
          ],
          "name": "stdout"
        }
      ]
    },
    {
      "metadata": {
        "id": "onMR-_idwmT_",
        "colab_type": "code",
        "colab": {
          "base_uri": "https://localhost:8080/",
          "height": 34
        },
        "outputId": "65272fd9-9710-4830-ca58-9e4af5558fbf"
      },
      "cell_type": "code",
      "source": [
        "!kaggle datasets download -d zalando-research/fashionmnist -p ./fashionmnist"
      ],
      "execution_count": 5,
      "outputs": [
        {
          "output_type": "stream",
          "text": [
            "fashionmnist.zip: Downloaded 69MB of 69MB to ./fashionmnist\n"
          ],
          "name": "stdout"
        }
      ]
    },
    {
      "metadata": {
        "id": "ItLWbZWmXhV7",
        "colab_type": "code",
        "colab": {
          "base_uri": "https://localhost:8080/",
          "height": 34
        },
        "outputId": "192a5a02-11b8-4161-d939-e52858c21dc1"
      },
      "cell_type": "code",
      "source": [
        "from keras.utils import to_categorical\n",
        "import numpy as np\n",
        "import pandas as pd\n",
        "from sklearn.model_selection import train_test_split"
      ],
      "execution_count": 6,
      "outputs": [
        {
          "output_type": "stream",
          "text": [
            "Using TensorFlow backend.\n"
          ],
          "name": "stderr"
        }
      ]
    },
    {
      "metadata": {
        "id": "AusNDCC8XhV_",
        "colab_type": "code",
        "colab": {}
      },
      "cell_type": "code",
      "source": [
        "data_train = pd.read_csv('./fashionmnist/fashion-mnist_train.csv')\n",
        "data_test = pd.read_csv('./fashionmnist/fashion-mnist_test.csv')\n",
        "img_rows, img_cols = 28, 28\n",
        "input_shape = (img_rows, img_cols, 1)"
      ],
      "execution_count": 0,
      "outputs": []
    },
    {
      "metadata": {
        "id": "AC-EVDRpXhWC",
        "colab_type": "code",
        "colab": {
          "base_uri": "https://localhost:8080/",
          "height": 244
        },
        "outputId": "8b7fdf56-54ad-4d43-99f8-9406c61aef26"
      },
      "cell_type": "code",
      "source": [
        "size_of_image = (img_rows, img_cols)\n",
        "data_train.head()"
      ],
      "execution_count": 8,
      "outputs": [
        {
          "output_type": "execute_result",
          "data": {
            "text/html": [
              "<div>\n",
              "<style scoped>\n",
              "    .dataframe tbody tr th:only-of-type {\n",
              "        vertical-align: middle;\n",
              "    }\n",
              "\n",
              "    .dataframe tbody tr th {\n",
              "        vertical-align: top;\n",
              "    }\n",
              "\n",
              "    .dataframe thead th {\n",
              "        text-align: right;\n",
              "    }\n",
              "</style>\n",
              "<table border=\"1\" class=\"dataframe\">\n",
              "  <thead>\n",
              "    <tr style=\"text-align: right;\">\n",
              "      <th></th>\n",
              "      <th>label</th>\n",
              "      <th>pixel1</th>\n",
              "      <th>pixel2</th>\n",
              "      <th>pixel3</th>\n",
              "      <th>pixel4</th>\n",
              "      <th>pixel5</th>\n",
              "      <th>pixel6</th>\n",
              "      <th>pixel7</th>\n",
              "      <th>pixel8</th>\n",
              "      <th>pixel9</th>\n",
              "      <th>...</th>\n",
              "      <th>pixel775</th>\n",
              "      <th>pixel776</th>\n",
              "      <th>pixel777</th>\n",
              "      <th>pixel778</th>\n",
              "      <th>pixel779</th>\n",
              "      <th>pixel780</th>\n",
              "      <th>pixel781</th>\n",
              "      <th>pixel782</th>\n",
              "      <th>pixel783</th>\n",
              "      <th>pixel784</th>\n",
              "    </tr>\n",
              "  </thead>\n",
              "  <tbody>\n",
              "    <tr>\n",
              "      <th>0</th>\n",
              "      <td>2</td>\n",
              "      <td>0</td>\n",
              "      <td>0</td>\n",
              "      <td>0</td>\n",
              "      <td>0</td>\n",
              "      <td>0</td>\n",
              "      <td>0</td>\n",
              "      <td>0</td>\n",
              "      <td>0</td>\n",
              "      <td>0</td>\n",
              "      <td>...</td>\n",
              "      <td>0</td>\n",
              "      <td>0</td>\n",
              "      <td>0</td>\n",
              "      <td>0</td>\n",
              "      <td>0</td>\n",
              "      <td>0</td>\n",
              "      <td>0</td>\n",
              "      <td>0</td>\n",
              "      <td>0</td>\n",
              "      <td>0</td>\n",
              "    </tr>\n",
              "    <tr>\n",
              "      <th>1</th>\n",
              "      <td>9</td>\n",
              "      <td>0</td>\n",
              "      <td>0</td>\n",
              "      <td>0</td>\n",
              "      <td>0</td>\n",
              "      <td>0</td>\n",
              "      <td>0</td>\n",
              "      <td>0</td>\n",
              "      <td>0</td>\n",
              "      <td>0</td>\n",
              "      <td>...</td>\n",
              "      <td>0</td>\n",
              "      <td>0</td>\n",
              "      <td>0</td>\n",
              "      <td>0</td>\n",
              "      <td>0</td>\n",
              "      <td>0</td>\n",
              "      <td>0</td>\n",
              "      <td>0</td>\n",
              "      <td>0</td>\n",
              "      <td>0</td>\n",
              "    </tr>\n",
              "    <tr>\n",
              "      <th>2</th>\n",
              "      <td>6</td>\n",
              "      <td>0</td>\n",
              "      <td>0</td>\n",
              "      <td>0</td>\n",
              "      <td>0</td>\n",
              "      <td>0</td>\n",
              "      <td>0</td>\n",
              "      <td>0</td>\n",
              "      <td>5</td>\n",
              "      <td>0</td>\n",
              "      <td>...</td>\n",
              "      <td>0</td>\n",
              "      <td>0</td>\n",
              "      <td>0</td>\n",
              "      <td>30</td>\n",
              "      <td>43</td>\n",
              "      <td>0</td>\n",
              "      <td>0</td>\n",
              "      <td>0</td>\n",
              "      <td>0</td>\n",
              "      <td>0</td>\n",
              "    </tr>\n",
              "    <tr>\n",
              "      <th>3</th>\n",
              "      <td>0</td>\n",
              "      <td>0</td>\n",
              "      <td>0</td>\n",
              "      <td>0</td>\n",
              "      <td>1</td>\n",
              "      <td>2</td>\n",
              "      <td>0</td>\n",
              "      <td>0</td>\n",
              "      <td>0</td>\n",
              "      <td>0</td>\n",
              "      <td>...</td>\n",
              "      <td>3</td>\n",
              "      <td>0</td>\n",
              "      <td>0</td>\n",
              "      <td>0</td>\n",
              "      <td>0</td>\n",
              "      <td>1</td>\n",
              "      <td>0</td>\n",
              "      <td>0</td>\n",
              "      <td>0</td>\n",
              "      <td>0</td>\n",
              "    </tr>\n",
              "    <tr>\n",
              "      <th>4</th>\n",
              "      <td>3</td>\n",
              "      <td>0</td>\n",
              "      <td>0</td>\n",
              "      <td>0</td>\n",
              "      <td>0</td>\n",
              "      <td>0</td>\n",
              "      <td>0</td>\n",
              "      <td>0</td>\n",
              "      <td>0</td>\n",
              "      <td>0</td>\n",
              "      <td>...</td>\n",
              "      <td>0</td>\n",
              "      <td>0</td>\n",
              "      <td>0</td>\n",
              "      <td>0</td>\n",
              "      <td>0</td>\n",
              "      <td>0</td>\n",
              "      <td>0</td>\n",
              "      <td>0</td>\n",
              "      <td>0</td>\n",
              "      <td>0</td>\n",
              "    </tr>\n",
              "  </tbody>\n",
              "</table>\n",
              "<p>5 rows × 785 columns</p>\n",
              "</div>"
            ],
            "text/plain": [
              "   label  pixel1  pixel2  pixel3  pixel4  pixel5  pixel6  pixel7  pixel8  \\\n",
              "0      2       0       0       0       0       0       0       0       0   \n",
              "1      9       0       0       0       0       0       0       0       0   \n",
              "2      6       0       0       0       0       0       0       0       5   \n",
              "3      0       0       0       0       1       2       0       0       0   \n",
              "4      3       0       0       0       0       0       0       0       0   \n",
              "\n",
              "   pixel9    ...     pixel775  pixel776  pixel777  pixel778  pixel779  \\\n",
              "0       0    ...            0         0         0         0         0   \n",
              "1       0    ...            0         0         0         0         0   \n",
              "2       0    ...            0         0         0        30        43   \n",
              "3       0    ...            3         0         0         0         0   \n",
              "4       0    ...            0         0         0         0         0   \n",
              "\n",
              "   pixel780  pixel781  pixel782  pixel783  pixel784  \n",
              "0         0         0         0         0         0  \n",
              "1         0         0         0         0         0  \n",
              "2         0         0         0         0         0  \n",
              "3         1         0         0         0         0  \n",
              "4         0         0         0         0         0  \n",
              "\n",
              "[5 rows x 785 columns]"
            ]
          },
          "metadata": {
            "tags": []
          },
          "execution_count": 8
        }
      ]
    },
    {
      "metadata": {
        "id": "L1SM_o0PXhWF",
        "colab_type": "code",
        "colab": {
          "base_uri": "https://localhost:8080/",
          "height": 244
        },
        "outputId": "0c5b1a60-0956-472c-92f9-528b783668da"
      },
      "cell_type": "code",
      "source": [
        "data_train.iloc[:,1:].head()"
      ],
      "execution_count": 9,
      "outputs": [
        {
          "output_type": "execute_result",
          "data": {
            "text/html": [
              "<div>\n",
              "<style scoped>\n",
              "    .dataframe tbody tr th:only-of-type {\n",
              "        vertical-align: middle;\n",
              "    }\n",
              "\n",
              "    .dataframe tbody tr th {\n",
              "        vertical-align: top;\n",
              "    }\n",
              "\n",
              "    .dataframe thead th {\n",
              "        text-align: right;\n",
              "    }\n",
              "</style>\n",
              "<table border=\"1\" class=\"dataframe\">\n",
              "  <thead>\n",
              "    <tr style=\"text-align: right;\">\n",
              "      <th></th>\n",
              "      <th>pixel1</th>\n",
              "      <th>pixel2</th>\n",
              "      <th>pixel3</th>\n",
              "      <th>pixel4</th>\n",
              "      <th>pixel5</th>\n",
              "      <th>pixel6</th>\n",
              "      <th>pixel7</th>\n",
              "      <th>pixel8</th>\n",
              "      <th>pixel9</th>\n",
              "      <th>pixel10</th>\n",
              "      <th>...</th>\n",
              "      <th>pixel775</th>\n",
              "      <th>pixel776</th>\n",
              "      <th>pixel777</th>\n",
              "      <th>pixel778</th>\n",
              "      <th>pixel779</th>\n",
              "      <th>pixel780</th>\n",
              "      <th>pixel781</th>\n",
              "      <th>pixel782</th>\n",
              "      <th>pixel783</th>\n",
              "      <th>pixel784</th>\n",
              "    </tr>\n",
              "  </thead>\n",
              "  <tbody>\n",
              "    <tr>\n",
              "      <th>0</th>\n",
              "      <td>0</td>\n",
              "      <td>0</td>\n",
              "      <td>0</td>\n",
              "      <td>0</td>\n",
              "      <td>0</td>\n",
              "      <td>0</td>\n",
              "      <td>0</td>\n",
              "      <td>0</td>\n",
              "      <td>0</td>\n",
              "      <td>0</td>\n",
              "      <td>...</td>\n",
              "      <td>0</td>\n",
              "      <td>0</td>\n",
              "      <td>0</td>\n",
              "      <td>0</td>\n",
              "      <td>0</td>\n",
              "      <td>0</td>\n",
              "      <td>0</td>\n",
              "      <td>0</td>\n",
              "      <td>0</td>\n",
              "      <td>0</td>\n",
              "    </tr>\n",
              "    <tr>\n",
              "      <th>1</th>\n",
              "      <td>0</td>\n",
              "      <td>0</td>\n",
              "      <td>0</td>\n",
              "      <td>0</td>\n",
              "      <td>0</td>\n",
              "      <td>0</td>\n",
              "      <td>0</td>\n",
              "      <td>0</td>\n",
              "      <td>0</td>\n",
              "      <td>0</td>\n",
              "      <td>...</td>\n",
              "      <td>0</td>\n",
              "      <td>0</td>\n",
              "      <td>0</td>\n",
              "      <td>0</td>\n",
              "      <td>0</td>\n",
              "      <td>0</td>\n",
              "      <td>0</td>\n",
              "      <td>0</td>\n",
              "      <td>0</td>\n",
              "      <td>0</td>\n",
              "    </tr>\n",
              "    <tr>\n",
              "      <th>2</th>\n",
              "      <td>0</td>\n",
              "      <td>0</td>\n",
              "      <td>0</td>\n",
              "      <td>0</td>\n",
              "      <td>0</td>\n",
              "      <td>0</td>\n",
              "      <td>0</td>\n",
              "      <td>5</td>\n",
              "      <td>0</td>\n",
              "      <td>0</td>\n",
              "      <td>...</td>\n",
              "      <td>0</td>\n",
              "      <td>0</td>\n",
              "      <td>0</td>\n",
              "      <td>30</td>\n",
              "      <td>43</td>\n",
              "      <td>0</td>\n",
              "      <td>0</td>\n",
              "      <td>0</td>\n",
              "      <td>0</td>\n",
              "      <td>0</td>\n",
              "    </tr>\n",
              "    <tr>\n",
              "      <th>3</th>\n",
              "      <td>0</td>\n",
              "      <td>0</td>\n",
              "      <td>0</td>\n",
              "      <td>1</td>\n",
              "      <td>2</td>\n",
              "      <td>0</td>\n",
              "      <td>0</td>\n",
              "      <td>0</td>\n",
              "      <td>0</td>\n",
              "      <td>0</td>\n",
              "      <td>...</td>\n",
              "      <td>3</td>\n",
              "      <td>0</td>\n",
              "      <td>0</td>\n",
              "      <td>0</td>\n",
              "      <td>0</td>\n",
              "      <td>1</td>\n",
              "      <td>0</td>\n",
              "      <td>0</td>\n",
              "      <td>0</td>\n",
              "      <td>0</td>\n",
              "    </tr>\n",
              "    <tr>\n",
              "      <th>4</th>\n",
              "      <td>0</td>\n",
              "      <td>0</td>\n",
              "      <td>0</td>\n",
              "      <td>0</td>\n",
              "      <td>0</td>\n",
              "      <td>0</td>\n",
              "      <td>0</td>\n",
              "      <td>0</td>\n",
              "      <td>0</td>\n",
              "      <td>0</td>\n",
              "      <td>...</td>\n",
              "      <td>0</td>\n",
              "      <td>0</td>\n",
              "      <td>0</td>\n",
              "      <td>0</td>\n",
              "      <td>0</td>\n",
              "      <td>0</td>\n",
              "      <td>0</td>\n",
              "      <td>0</td>\n",
              "      <td>0</td>\n",
              "      <td>0</td>\n",
              "    </tr>\n",
              "  </tbody>\n",
              "</table>\n",
              "<p>5 rows × 784 columns</p>\n",
              "</div>"
            ],
            "text/plain": [
              "   pixel1  pixel2  pixel3  pixel4  pixel5  pixel6  pixel7  pixel8  pixel9  \\\n",
              "0       0       0       0       0       0       0       0       0       0   \n",
              "1       0       0       0       0       0       0       0       0       0   \n",
              "2       0       0       0       0       0       0       0       5       0   \n",
              "3       0       0       0       1       2       0       0       0       0   \n",
              "4       0       0       0       0       0       0       0       0       0   \n",
              "\n",
              "   pixel10    ...     pixel775  pixel776  pixel777  pixel778  pixel779  \\\n",
              "0        0    ...            0         0         0         0         0   \n",
              "1        0    ...            0         0         0         0         0   \n",
              "2        0    ...            0         0         0        30        43   \n",
              "3        0    ...            3         0         0         0         0   \n",
              "4        0    ...            0         0         0         0         0   \n",
              "\n",
              "   pixel780  pixel781  pixel782  pixel783  pixel784  \n",
              "0         0         0         0         0         0  \n",
              "1         0         0         0         0         0  \n",
              "2         0         0         0         0         0  \n",
              "3         1         0         0         0         0  \n",
              "4         0         0         0         0         0  \n",
              "\n",
              "[5 rows x 784 columns]"
            ]
          },
          "metadata": {
            "tags": []
          },
          "execution_count": 9
        }
      ]
    },
    {
      "metadata": {
        "id": "W8GyltChXhWI",
        "colab_type": "code",
        "colab": {
          "base_uri": "https://localhost:8080/",
          "height": 34
        },
        "outputId": "c541414e-5326-481e-fe4f-0aa6592dbe50"
      },
      "cell_type": "code",
      "source": [
        "X = np.array(data_train.iloc[:, 1:])\n",
        "X[0].shape"
      ],
      "execution_count": 10,
      "outputs": [
        {
          "output_type": "execute_result",
          "data": {
            "text/plain": [
              "(784,)"
            ]
          },
          "metadata": {
            "tags": []
          },
          "execution_count": 10
        }
      ]
    },
    {
      "metadata": {
        "id": "KeJPFvAXXhWL",
        "colab_type": "code",
        "colab": {
          "base_uri": "https://localhost:8080/",
          "height": 138
        },
        "outputId": "d143b0b3-0cca-48df-8158-f6a8eea5a4d5"
      },
      "cell_type": "code",
      "source": [
        "from matplotlib import pyplot\n",
        "pyplot.subplot(330 + 1+ 1)\n",
        "pyplot.imshow(X[0].reshape(28,28),  cmap=pyplot.get_cmap('gray'))\n",
        "pyplot.show()"
      ],
      "execution_count": 11,
      "outputs": [
        {
          "output_type": "display_data",
          "data": {
            "image/png": "[encoded data removed]",
            "text/plain": [
              "<matplotlib.figure.Figure at 0x7f9ac92320b8>"
            ]
          },
          "metadata": {
            "tags": []
          }
        }
      ]
    },
    {
      "metadata": {
        "id": "mKtzVegpXhWT",
        "colab_type": "code",
        "colab": {
          "base_uri": "https://localhost:8080/",
          "height": 134
        },
        "outputId": "7aa3952f-1738-4dc2-9e3d-30bcf71141d5"
      },
      "cell_type": "code",
      "source": [
        "y = to_categorical(np.array(data_train.iloc[:, 0]))\n",
        "y"
      ],
      "execution_count": 12,
      "outputs": [
        {
          "output_type": "execute_result",
          "data": {
            "text/plain": [
              "array([[0., 0., 1., ..., 0., 0., 0.],\n",
              "       [0., 0., 0., ..., 0., 0., 1.],\n",
              "       [0., 0., 0., ..., 0., 0., 0.],\n",
              "       ...,\n",
              "       [0., 0., 0., ..., 0., 1., 0.],\n",
              "       [0., 0., 0., ..., 0., 1., 0.],\n",
              "       [0., 0., 0., ..., 1., 0., 0.]], dtype=float32)"
            ]
          },
          "metadata": {
            "tags": []
          },
          "execution_count": 12
        }
      ]
    },
    {
      "metadata": {
        "id": "cQnyjbmGXhWX",
        "colab_type": "code",
        "colab": {}
      },
      "cell_type": "code",
      "source": [
        "X_train, X_val, y_train, y_val = train_test_split(X, y, test_size=0.2, random_state=13)"
      ],
      "execution_count": 0,
      "outputs": []
    },
    {
      "metadata": {
        "id": "vqiCNWGUXhWa",
        "colab_type": "code",
        "colab": {}
      },
      "cell_type": "code",
      "source": [
        "X_test = np.array(data_test.iloc[:, 1:])\n",
        "y_test = to_categorical(np.array(data_test.iloc[:, 0]))"
      ],
      "execution_count": 0,
      "outputs": []
    },
    {
      "metadata": {
        "id": "m5oSlsb1XhWd",
        "colab_type": "code",
        "colab": {
          "base_uri": "https://localhost:8080/",
          "height": 34
        },
        "outputId": "9c01914a-7e7a-4e88-ad42-bd79898f218a"
      },
      "cell_type": "code",
      "source": [
        "X_train = X_train.reshape(X_train.shape[0], img_rows, img_cols, 1)\n",
        "print(X_train.shape)\n",
        "X_test = X_test.reshape(X_test.shape[0], img_rows, img_cols, 1)\n",
        "X_val = X_val.reshape(X_val.shape[0], img_rows, img_cols, 1)\n",
        "# convert from int to float\n",
        "X_train = X_train.astype('float32')\n",
        "X_val = X_val.astype('float32')\n",
        "X_test = X_test.astype('float32')"
      ],
      "execution_count": 15,
      "outputs": [
        {
          "output_type": "stream",
          "text": [
            "(48000, 28, 28, 1)\n"
          ],
          "name": "stdout"
        }
      ]
    },
    {
      "metadata": {
        "id": "iD5tBlwuXhWf",
        "colab_type": "code",
        "colab": {
          "base_uri": "https://localhost:8080/",
          "height": 349
        },
        "outputId": "eb61a497-3df9-45dc-9f55-dbb6b8212380"
      },
      "cell_type": "code",
      "source": [
        "from keras.preprocessing.image import ImageDataGenerator\n",
        "train_datagen = ImageDataGenerator(featurewise_center=True, featurewise_std_normalization=True)\n",
        "# fit parameters from data\n",
        "train_datagen.fit(X_train)\n",
        "\n",
        "validation_datagen = ImageDataGenerator(featurewise_center=True, featurewise_std_normalization=True)\n",
        "# fit parameters from data\n",
        "validation_datagen.fit(X_val)\n",
        "# configure batch size and retrieve one batch of images\n",
        "for X_batch, y_batch in train_datagen.flow(X_train, y_train, batch_size=9):\n",
        "    # create a grid of 3x3 images\n",
        "    for i in range(0, 9):\n",
        "        pyplot.subplot(330 + 1 + i)\n",
        "        pyplot.imshow(X_batch[i].reshape(28, 28), cmap=pyplot.get_cmap('gray'))\n",
        "    # show the plot\n",
        "    pyplot.show()\n",
        "    break"
      ],
      "execution_count": 16,
      "outputs": [
        {
          "output_type": "display_data",
          "data": {
            "image/png": "[encoded data removed]",
            "text/plain": [
              "<matplotlib.figure.Figure at 0x7f9ac9634630>"
            ]
          },
          "metadata": {
            "tags": []
          }
        }
      ]
    },
    {
      "metadata": {
        "id": "qk7Pk934wmUv",
        "colab_type": "code",
        "colab": {}
      },
      "cell_type": "code",
      "source": [
        "train_generator = train_datagen.flow(\n",
        "X_train,\n",
        "y_train,\n",
        "batch_size=32)\n",
        "validation_generator = validation_datagen.flow(\n",
        "X_val,\n",
        "y_val,\n",
        "batch_size=32)"
      ],
      "execution_count": 0,
      "outputs": []
    },
    {
      "metadata": {
        "id": "85qgRgw9huVO",
        "colab_type": "code",
        "colab": {
          "base_uri": "https://localhost:8080/",
          "height": 205
        },
        "outputId": "eb881eae-d29e-4342-f29f-26332b93e7d5"
      },
      "cell_type": "code",
      "source": [
        "from matplotlib import pyplot\n",
        "print(validation_generator.batch_size)\n",
        "print(type(validation_generator.next()))\n",
        "(q,w)=validation_generator.next()\n",
        "print(type(q[0]))\n",
        "print(q[2].shape)\n",
        "pyplot.subplot(330 + 1 + 1)\n",
        "pyplot.imshow(q[4].reshape(size_of_image),  cmap=pyplot.get_cmap('gray'))\n",
        "pyplot.show()"
      ],
      "execution_count": 18,
      "outputs": [
        {
          "output_type": "stream",
          "text": [
            "32\n",
            "<class 'tuple'>\n",
            "<class 'numpy.ndarray'>\n",
            "(28, 28, 1)\n"
          ],
          "name": "stdout"
        },
        {
          "output_type": "display_data",
          "data": {
            "image/png": "[encoded data removed]",
            "text/plain": [
              "<matplotlib.figure.Figure at 0x7f9ac9490c18>"
            ]
          },
          "metadata": {
            "tags": []
          }
        }
      ]
    },
    {
      "metadata": {
        "id": "TjBQpj1-wmUz",
        "colab_type": "code",
        "colab": {
          "base_uri": "https://localhost:8080/",
          "height": 538
        },
        "outputId": "c0d33ef5-69fa-4896-c9be-085c2af6ab44"
      },
      "cell_type": "code",
      "source": [
        "from keras import layers\n",
        "from keras import models\n",
        "\n",
        "\n",
        "model = models.Sequential()\n",
        "model.add(layers.Conv2D(32, kernel_size=(3, 3),\n",
        "                 activation='relu',\n",
        "                 kernel_initializer='he_normal',\n",
        "                 input_shape=input_shape))\n",
        "model.add(layers.MaxPooling2D((2, 2)))\n",
        "model.add(layers.Dropout(0.2))\n",
        "model.add(layers.Conv2D(64, (3, 3), activation='relu'))\n",
        "model.add(layers.MaxPooling2D((2, 2)))\n",
        "model.add(layers.Dropout(0.2))\n",
        "model.add(layers.Conv2D(128, (3, 3), activation='relu'))\n",
        "model.add(layers.MaxPooling2D((2, 2)))\n",
        "model.add(layers.Dropout(0.5))\n",
        "model.add(layers.Flatten())\n",
        "model.add(layers.Dense(256, activation='relu'))\n",
        "model.add(layers.Dense(10, activation='softmax'))\n",
        "\n",
        "model.summary()"
      ],
      "execution_count": 47,
      "outputs": [
        {
          "output_type": "stream",
          "text": [
            "_________________________________________________________________\n",
            "Layer (type)                 Output Shape              Param #   \n",
            "=================================================================\n",
            "conv2d_29 (Conv2D)           (None, 26, 26, 32)        320       \n",
            "_________________________________________________________________\n",
            "max_pooling2d_25 (MaxPooling (None, 13, 13, 32)        0         \n",
            "_________________________________________________________________\n",
            "dropout_8 (Dropout)          (None, 13, 13, 32)        0         \n",
            "_________________________________________________________________\n",
            "conv2d_30 (Conv2D)           (None, 11, 11, 64)        18496     \n",
            "_________________________________________________________________\n",
            "max_pooling2d_26 (MaxPooling (None, 5, 5, 64)          0         \n",
            "_________________________________________________________________\n",
            "dropout_9 (Dropout)          (None, 5, 5, 64)          0         \n",
            "_________________________________________________________________\n",
            "conv2d_31 (Conv2D)           (None, 3, 3, 128)         73856     \n",
            "_________________________________________________________________\n",
            "max_pooling2d_27 (MaxPooling (None, 1, 1, 128)         0         \n",
            "_________________________________________________________________\n",
            "dropout_10 (Dropout)         (None, 1, 1, 128)         0         \n",
            "_________________________________________________________________\n",
            "flatten_5 (Flatten)          (None, 128)               0         \n",
            "_________________________________________________________________\n",
            "dense_9 (Dense)              (None, 256)               33024     \n",
            "_________________________________________________________________\n",
            "dense_10 (Dense)             (None, 10)                2570      \n",
            "=================================================================\n",
            "Total params: 128,266\n",
            "Trainable params: 128,266\n",
            "Non-trainable params: 0\n",
            "_________________________________________________________________\n"
          ],
          "name": "stdout"
        }
      ]
    },
    {
      "metadata": {
        "id": "NXcd6YDlwmU2",
        "colab_type": "code",
        "colab": {}
      },
      "cell_type": "code",
      "source": [
        "from keras import optimizers\n",
        "from keras import losses\n",
        "model.compile(loss=losses.categorical_crossentropy,\n",
        "              optimizer=optimizers.Adam(lr=0.0001),\n",
        "              metrics=['accuracy'])"
      ],
      "execution_count": 0,
      "outputs": []
    },
    {
      "metadata": {
        "id": "gIxgTWSvwmU5",
        "colab_type": "code",
        "colab": {
          "base_uri": "https://localhost:8080/",
          "height": 1717
        },
        "outputId": "85c3332c-8f9e-4e3e-8ad6-502e69705f17"
      },
      "cell_type": "code",
      "source": [
        "history = model.fit_generator(train_generator,\n",
        "          epochs=50,\n",
        "          verbose=1,\n",
        "          validation_data=validation_generator)\n",
        "model.save('./fashion_1.h5')"
      ],
      "execution_count": 49,
      "outputs": [
        {
          "output_type": "stream",
          "text": [
            "Epoch 1/50\n",
            "1500/1500 [==============================] - 22s 15ms/step - loss: 1.1049 - acc: 0.5944 - val_loss: 0.6757 - val_acc: 0.7589\n",
            "Epoch 2/50\n",
            "1153/1500 [======================>.......] - ETA: 4s - loss: 0.7327 - acc: 0.7334"
          ],
          "name": "stdout"
        },
        {
          "output_type": "stream",
          "text": [
            "1500/1500 [==============================] - 22s 15ms/step - loss: 0.7245 - acc: 0.7368 - val_loss: 0.5792 - val_acc: 0.7871\n",
            "Epoch 3/50\n",
            "1500/1500 [==============================] - 22s 15ms/step - loss: 0.6458 - acc: 0.7665 - val_loss: 0.5325 - val_acc: 0.8023\n",
            "Epoch 4/50\n",
            " 121/1500 [=>............................] - ETA: 18s - loss: 0.6258 - acc: 0.7714"
          ],
          "name": "stdout"
        },
        {
          "output_type": "stream",
          "text": [
            "1500/1500 [==============================] - 22s 15ms/step - loss: 0.6045 - acc: 0.7810 - val_loss: 0.4961 - val_acc: 0.8183\n",
            "Epoch 5/50\n",
            "1322/1500 [=========================>....] - ETA: 2s - loss: 0.5719 - acc: 0.7940"
          ],
          "name": "stdout"
        },
        {
          "output_type": "stream",
          "text": [
            "1500/1500 [==============================] - 22s 15ms/step - loss: 0.5687 - acc: 0.7956 - val_loss: 0.4652 - val_acc: 0.8271\n",
            "Epoch 6/50\n",
            "1500/1500 [==============================] - 22s 14ms/step - loss: 0.5419 - acc: 0.8045 - val_loss: 0.4463 - val_acc: 0.8330\n",
            "Epoch 7/50\n",
            " 170/1500 [==>...........................] - ETA: 17s - loss: 0.5425 - acc: 0.8050"
          ],
          "name": "stdout"
        },
        {
          "output_type": "stream",
          "text": [
            "1500/1500 [==============================] - 22s 14ms/step - loss: 0.5214 - acc: 0.8118 - val_loss: 0.4338 - val_acc: 0.8389\n",
            "Epoch 8/50\n",
            "1346/1500 [=========================>....] - ETA: 2s - loss: 0.5077 - acc: 0.8173"
          ],
          "name": "stdout"
        },
        {
          "output_type": "stream",
          "text": [
            "1500/1500 [==============================] - 22s 14ms/step - loss: 0.5049 - acc: 0.8181 - val_loss: 0.4175 - val_acc: 0.8448\n",
            "Epoch 9/50\n",
            "1500/1500 [==============================] - 22s 14ms/step - loss: 0.4886 - acc: 0.8254 - val_loss: 0.4071 - val_acc: 0.8520\n",
            "Epoch 10/50\n",
            " 173/1500 [==>...........................] - ETA: 17s - loss: 0.4885 - acc: 0.8241"
          ],
          "name": "stdout"
        },
        {
          "output_type": "stream",
          "text": [
            "1500/1500 [==============================] - 22s 14ms/step - loss: 0.4709 - acc: 0.8300 - val_loss: 0.3998 - val_acc: 0.8495\n",
            "Epoch 11/50\n",
            "1347/1500 [=========================>....] - ETA: 2s - loss: 0.4626 - acc: 0.8318"
          ],
          "name": "stdout"
        },
        {
          "output_type": "stream",
          "text": [
            "1500/1500 [==============================] - 22s 15ms/step - loss: 0.4607 - acc: 0.8326 - val_loss: 0.3857 - val_acc: 0.8566\n",
            "Epoch 12/50\n",
            "1500/1500 [==============================] - 22s 14ms/step - loss: 0.4504 - acc: 0.8365 - val_loss: 0.3826 - val_acc: 0.8569\n",
            "Epoch 13/50\n",
            " 181/1500 [==>...........................] - ETA: 17s - loss: 0.4218 - acc: 0.8462"
          ],
          "name": "stdout"
        },
        {
          "output_type": "stream",
          "text": [
            "1500/1500 [==============================] - 22s 14ms/step - loss: 0.4409 - acc: 0.8391 - val_loss: 0.3753 - val_acc: 0.8607\n",
            "Epoch 14/50\n",
            "1345/1500 [=========================>....] - ETA: 2s - loss: 0.4327 - acc: 0.8445"
          ],
          "name": "stdout"
        },
        {
          "output_type": "stream",
          "text": [
            "1500/1500 [==============================] - 22s 14ms/step - loss: 0.4321 - acc: 0.8457 - val_loss: 0.3704 - val_acc: 0.8593\n",
            "Epoch 15/50\n",
            "1500/1500 [==============================] - 22s 14ms/step - loss: 0.4229 - acc: 0.8454 - val_loss: 0.3560 - val_acc: 0.8661\n",
            "Epoch 16/50\n",
            " 172/1500 [==>...........................] - ETA: 17s - loss: 0.4091 - acc: 0.8517"
          ],
          "name": "stdout"
        },
        {
          "output_type": "stream",
          "text": [
            "1500/1500 [==============================] - 22s 14ms/step - loss: 0.4157 - acc: 0.8498 - val_loss: 0.3569 - val_acc: 0.8658\n",
            "Epoch 17/50\n",
            "1354/1500 [==========================>...] - ETA: 1s - loss: 0.4108 - acc: 0.8522"
          ],
          "name": "stdout"
        },
        {
          "output_type": "stream",
          "text": [
            "1500/1500 [==============================] - 22s 14ms/step - loss: 0.4079 - acc: 0.8527 - val_loss: 0.3549 - val_acc: 0.8650\n",
            "Epoch 18/50\n",
            "1500/1500 [==============================] - 22s 14ms/step - loss: 0.4034 - acc: 0.8543 - val_loss: 0.3418 - val_acc: 0.8729\n",
            "Epoch 19/50\n",
            " 181/1500 [==>...........................] - ETA: 17s - loss: 0.3777 - acc: 0.8610"
          ],
          "name": "stdout"
        },
        {
          "output_type": "stream",
          "text": [
            "1500/1500 [==============================] - 22s 14ms/step - loss: 0.3982 - acc: 0.8560 - val_loss: 0.3413 - val_acc: 0.8748\n",
            "Epoch 20/50\n",
            "1351/1500 [==========================>...] - ETA: 1s - loss: 0.3915 - acc: 0.8574"
          ],
          "name": "stdout"
        },
        {
          "output_type": "stream",
          "text": [
            "1500/1500 [==============================] - 22s 14ms/step - loss: 0.3922 - acc: 0.8575 - val_loss: 0.3386 - val_acc: 0.8738\n",
            "Epoch 21/50\n",
            "1500/1500 [==============================] - 22s 14ms/step - loss: 0.3876 - acc: 0.8599 - val_loss: 0.3309 - val_acc: 0.8790\n",
            "Epoch 22/50\n",
            " 169/1500 [==>...........................] - ETA: 17s - loss: 0.3759 - acc: 0.8628"
          ],
          "name": "stdout"
        },
        {
          "output_type": "stream",
          "text": [
            "1500/1500 [==============================] - 22s 14ms/step - loss: 0.3799 - acc: 0.8613 - val_loss: 0.3300 - val_acc: 0.8768\n",
            "Epoch 23/50\n",
            "1364/1500 [==========================>...] - ETA: 1s - loss: 0.3787 - acc: 0.8617"
          ],
          "name": "stdout"
        },
        {
          "output_type": "stream",
          "text": [
            "1500/1500 [==============================] - 21s 14ms/step - loss: 0.3778 - acc: 0.8618 - val_loss: 0.3329 - val_acc: 0.8765\n",
            "Epoch 24/50\n",
            "1500/1500 [==============================] - 22s 14ms/step - loss: 0.3723 - acc: 0.8659 - val_loss: 0.3256 - val_acc: 0.8781\n",
            "Epoch 25/50\n",
            " 176/1500 [==>...........................] - ETA: 17s - loss: 0.3630 - acc: 0.8679"
          ],
          "name": "stdout"
        },
        {
          "output_type": "stream",
          "text": [
            "1500/1500 [==============================] - 22s 14ms/step - loss: 0.3680 - acc: 0.8673 - val_loss: 0.3181 - val_acc: 0.8823\n",
            "Epoch 26/50\n",
            "1354/1500 [==========================>...] - ETA: 1s - loss: 0.3632 - acc: 0.8677"
          ],
          "name": "stdout"
        },
        {
          "output_type": "stream",
          "text": [
            "1500/1500 [==============================] - 22s 14ms/step - loss: 0.3656 - acc: 0.8675 - val_loss: 0.3153 - val_acc: 0.8816\n",
            "Epoch 27/50\n",
            "1500/1500 [==============================] - 21s 14ms/step - loss: 0.3659 - acc: 0.8656 - val_loss: 0.3211 - val_acc: 0.8778\n",
            "Epoch 28/50\n",
            " 192/1500 [==>...........................] - ETA: 17s - loss: 0.3622 - acc: 0.8690"
          ],
          "name": "stdout"
        },
        {
          "output_type": "stream",
          "text": [
            "1500/1500 [==============================] - 21s 14ms/step - loss: 0.3551 - acc: 0.8720 - val_loss: 0.3147 - val_acc: 0.8827\n",
            "Epoch 29/50\n",
            "1366/1500 [==========================>...] - ETA: 1s - loss: 0.3524 - acc: 0.8723"
          ],
          "name": "stdout"
        },
        {
          "output_type": "stream",
          "text": [
            "1500/1500 [==============================] - 21s 14ms/step - loss: 0.3539 - acc: 0.8718 - val_loss: 0.3122 - val_acc: 0.8845\n",
            "Epoch 30/50\n",
            "1500/1500 [==============================] - 22s 14ms/step - loss: 0.3494 - acc: 0.8725 - val_loss: 0.3044 - val_acc: 0.8871\n",
            "Epoch 31/50\n",
            " 176/1500 [==>...........................] - ETA: 17s - loss: 0.3390 - acc: 0.8791"
          ],
          "name": "stdout"
        },
        {
          "output_type": "stream",
          "text": [
            "1500/1500 [==============================] - 22s 14ms/step - loss: 0.3484 - acc: 0.8736 - val_loss: 0.3092 - val_acc: 0.8836\n",
            "Epoch 32/50\n",
            "1350/1500 [==========================>...] - ETA: 2s - loss: 0.3407 - acc: 0.8758"
          ],
          "name": "stdout"
        },
        {
          "output_type": "stream",
          "text": [
            "1500/1500 [==============================] - 22s 15ms/step - loss: 0.3418 - acc: 0.8752 - val_loss: 0.3230 - val_acc: 0.8781\n",
            "Epoch 33/50\n",
            "1500/1500 [==============================] - 22s 14ms/step - loss: 0.3392 - acc: 0.8741 - val_loss: 0.3022 - val_acc: 0.8869\n",
            "Epoch 34/50\n",
            " 169/1500 [==>...........................] - ETA: 17s - loss: 0.3374 - acc: 0.8826"
          ],
          "name": "stdout"
        },
        {
          "output_type": "stream",
          "text": [
            "1500/1500 [==============================] - 22s 15ms/step - loss: 0.3413 - acc: 0.8771 - val_loss: 0.3026 - val_acc: 0.8882\n",
            "Epoch 35/50\n",
            "1344/1500 [=========================>....] - ETA: 2s - loss: 0.3383 - acc: 0.8775"
          ],
          "name": "stdout"
        },
        {
          "output_type": "stream",
          "text": [
            "1500/1500 [==============================] - 22s 14ms/step - loss: 0.3372 - acc: 0.8775 - val_loss: 0.2992 - val_acc: 0.8890\n",
            "Epoch 36/50\n",
            "1500/1500 [==============================] - 21s 14ms/step - loss: 0.3294 - acc: 0.8790 - val_loss: 0.2980 - val_acc: 0.8882\n",
            "Epoch 37/50\n",
            " 179/1500 [==>...........................] - ETA: 17s - loss: 0.3273 - acc: 0.8774"
          ],
          "name": "stdout"
        },
        {
          "output_type": "stream",
          "text": [
            "1500/1500 [==============================] - 21s 14ms/step - loss: 0.3280 - acc: 0.8796 - val_loss: 0.3004 - val_acc: 0.8860\n",
            "Epoch 38/50\n",
            "1369/1500 [==========================>...] - ETA: 1s - loss: 0.3317 - acc: 0.8775"
          ],
          "name": "stdout"
        },
        {
          "output_type": "stream",
          "text": [
            "1500/1500 [==============================] - 21s 14ms/step - loss: 0.3312 - acc: 0.8782 - val_loss: 0.2968 - val_acc: 0.8889\n",
            "Epoch 39/50\n",
            "1500/1500 [==============================] - 22s 14ms/step - loss: 0.3247 - acc: 0.8815 - val_loss: 0.2901 - val_acc: 0.8913\n",
            "Epoch 40/50\n",
            " 180/1500 [==>...........................] - ETA: 17s - loss: 0.3265 - acc: 0.8762"
          ],
          "name": "stdout"
        },
        {
          "output_type": "stream",
          "text": [
            "1500/1500 [==============================] - 22s 14ms/step - loss: 0.3233 - acc: 0.8811 - val_loss: 0.2906 - val_acc: 0.8931\n",
            "Epoch 41/50\n",
            "1367/1500 [==========================>...] - ETA: 1s - loss: 0.3216 - acc: 0.8826"
          ],
          "name": "stdout"
        },
        {
          "output_type": "stream",
          "text": [
            "1500/1500 [==============================] - 22s 14ms/step - loss: 0.3213 - acc: 0.8827 - val_loss: 0.2900 - val_acc: 0.8896\n",
            "Epoch 42/50\n",
            "1500/1500 [==============================] - 22s 14ms/step - loss: 0.3211 - acc: 0.8835 - val_loss: 0.2917 - val_acc: 0.8903\n",
            "Epoch 43/50\n",
            " 182/1500 [==>...........................] - ETA: 17s - loss: 0.3199 - acc: 0.8870"
          ],
          "name": "stdout"
        },
        {
          "output_type": "stream",
          "text": [
            "1500/1500 [==============================] - 21s 14ms/step - loss: 0.3176 - acc: 0.8839 - val_loss: 0.2891 - val_acc: 0.8926\n",
            "Epoch 44/50\n",
            "1376/1500 [==========================>...] - ETA: 1s - loss: 0.3148 - acc: 0.8846"
          ],
          "name": "stdout"
        },
        {
          "output_type": "stream",
          "text": [
            "1500/1500 [==============================] - 21s 14ms/step - loss: 0.3140 - acc: 0.8850 - val_loss: 0.2874 - val_acc: 0.8935\n",
            "Epoch 45/50\n",
            "1500/1500 [==============================] - 21s 14ms/step - loss: 0.3136 - acc: 0.8860 - val_loss: 0.2879 - val_acc: 0.8944\n",
            "Epoch 46/50\n",
            " 187/1500 [==>...........................] - ETA: 17s - loss: 0.3075 - acc: 0.8879"
          ],
          "name": "stdout"
        },
        {
          "output_type": "stream",
          "text": [
            "1500/1500 [==============================] - 21s 14ms/step - loss: 0.3117 - acc: 0.8859 - val_loss: 0.2859 - val_acc: 0.8956\n",
            "Epoch 47/50\n",
            "1388/1500 [==========================>...] - ETA: 1s - loss: 0.3069 - acc: 0.8857"
          ],
          "name": "stdout"
        },
        {
          "output_type": "stream",
          "text": [
            "1500/1500 [==============================] - 21s 14ms/step - loss: 0.3067 - acc: 0.8863 - val_loss: 0.2902 - val_acc: 0.8928\n",
            "Epoch 48/50\n",
            "1500/1500 [==============================] - 21s 14ms/step - loss: 0.3090 - acc: 0.8855 - val_loss: 0.2809 - val_acc: 0.8954\n",
            "Epoch 49/50\n",
            " 202/1500 [===>..........................] - ETA: 16s - loss: 0.2994 - acc: 0.8878"
          ],
          "name": "stdout"
        },
        {
          "output_type": "stream",
          "text": [
            "1500/1500 [==============================] - 21s 14ms/step - loss: 0.3053 - acc: 0.8885 - val_loss: 0.2789 - val_acc: 0.8952\n",
            "Epoch 50/50\n",
            "1406/1500 [===========================>..] - ETA: 1s - loss: 0.3032 - acc: 0.8892"
          ],
          "name": "stdout"
        },
        {
          "output_type": "stream",
          "text": [
            "1500/1500 [==============================] - 21s 14ms/step - loss: 0.3029 - acc: 0.8891 - val_loss: 0.2850 - val_acc: 0.8972\n"
          ],
          "name": "stdout"
        }
      ]
    },
    {
      "metadata": {
        "id": "exNUDYpMwmU-",
        "colab_type": "code",
        "colab": {
          "base_uri": "https://localhost:8080/",
          "height": 706
        },
        "outputId": "1edbb1a2-b210-4f3c-cd8d-b81632627e9a"
      },
      "cell_type": "code",
      "source": [
        "import matplotlib.pyplot as plt\n",
        "\n",
        "acc = history.history['acc']\n",
        "val_acc = history.history['val_acc']\n",
        "loss = history.history['loss']\n",
        "val_loss = history.history['val_loss']\n",
        "\n",
        "epochs = range(len(acc))\n",
        "\n",
        "plt.plot(epochs, acc, 'bo', label='Training acc')\n",
        "plt.plot(epochs, val_acc, 'b', label='Validation acc')\n",
        "plt.title('Training and validation accuracy')\n",
        "plt.legend()\n",
        "\n",
        "plt.figure()\n",
        "\n",
        "plt.plot(epochs, loss, 'bo', label='Training loss')\n",
        "plt.plot(epochs, val_loss, 'b', label='Validation loss')\n",
        "plt.title('Training and validation loss')\n",
        "plt.legend()\n",
        "\n",
        "plt.show()"
      ],
      "execution_count": 50,
      "outputs": [
        {
          "output_type": "display_data",
          "data": {
            "image/png": "[encoded data removed]",
            "text/plain": [
              "<matplotlib.figure.Figure at 0x7f9ac3f2f390>"
            ]
          },
          "metadata": {
            "tags": []
          }
        },
        {
          "output_type": "display_data",
          "data": {
            "image/png": "[encoded data removed]",
            "text/plain": [
              "<matplotlib.figure.Figure at 0x7f9ac3f53dd8>"
            ]
          },
          "metadata": {
            "tags": []
          }
        }
      ]
    },
    {
      "metadata": {
        "id": "AUV0kenlwmVC",
        "colab_type": "code",
        "colab": {
          "base_uri": "https://localhost:8080/",
          "height": 34
        },
        "outputId": "6501b941-8ae4-415a-8f6e-597e33babc35"
      },
      "cell_type": "code",
      "source": [
        "print(history.history.keys())"
      ],
      "execution_count": 0,
      "outputs": [
        {
          "output_type": "stream",
          "text": [
            "dict_keys(['val_loss', 'val_acc', 'loss', 'acc'])\n"
          ],
          "name": "stdout"
        }
      ]
    },
    {
      "metadata": {
        "id": "HinDSdTmwmVF",
        "colab_type": "code",
        "colab": {}
      },
      "cell_type": "code",
      "source": [
        "from keras.preprocessing.image import ImageDataGenerator\n",
        "test_datagen = ImageDataGenerator(featurewise_center=True, featurewise_std_normalization=True)\n",
        "test_datagen.fit(X_test)\n",
        "test_generator = test_datagen.flow(\n",
        "X_test,\n",
        "y_test,\n",
        "batch_size=32)"
      ],
      "execution_count": 0,
      "outputs": []
    },
    {
      "metadata": {
        "id": "GZ4KDz1tXhW8",
        "colab_type": "code",
        "colab": {}
      },
      "cell_type": "code",
      "source": [
        "import numpy as np\n",
        "res = model.evaluate_generator(test_generator)"
      ],
      "execution_count": 0,
      "outputs": []
    },
    {
      "metadata": {
        "id": "j8tNaqdswmVK",
        "colab_type": "code",
        "colab": {
          "base_uri": "https://localhost:8080/",
          "height": 67
        },
        "outputId": "6930515d-a042-4d24-f52f-dc834233162b"
      },
      "cell_type": "code",
      "source": [
        "print(res)\n",
        "print('Test loss:', res[0])\n",
        "print('Test accuracy:', res[1])"
      ],
      "execution_count": 53,
      "outputs": [
        {
          "output_type": "stream",
          "text": [
            "[0.26464100942611696, 0.9022]\n",
            "Test loss: 0.26464100942611696\n",
            "Test accuracy: 0.9022\n"
          ],
          "name": "stdout"
        }
      ]
    },
    {
      "metadata": {
        "id": "p9ArCS90oDGu",
        "colab_type": "code",
        "colab": {}
      },
      "cell_type": "code",
      "source": [
        "#get the predictions for the test data\n",
        "predicted_classes = model.predict_classes(X_test)\n",
        "\n",
        "#get the indices to be plotted\n",
        "y_true = data_test.iloc[:, 0]\n",
        "correct = np.nonzero(predicted_classes==y_true)[0]\n",
        "incorrect = np.nonzero(predicted_classes!=y_true)[0]"
      ],
      "execution_count": 0,
      "outputs": []
    },
    {
      "metadata": {
        "id": "ZWEUBPkNoF3K",
        "colab_type": "code",
        "colab": {
          "base_uri": "https://localhost:8080/",
          "height": 269
        },
        "outputId": "854d2f2e-4f1e-4801-fa29-5f2cff8eacf7"
      },
      "cell_type": "code",
      "source": [
        "from sklearn.metrics import classification_report\n",
        "target_names = [\"Class {}\".format(i) for i in range(10)]\n",
        "print(classification_report(y_true, predicted_classes, target_names=target_names))"
      ],
      "execution_count": 56,
      "outputs": [
        {
          "output_type": "stream",
          "text": [
            "             precision    recall  f1-score   support\n",
            "\n",
            "    Class 0       0.93      0.63      0.75      1000\n",
            "    Class 1       0.95      0.97      0.96      1000\n",
            "    Class 2       0.78      0.19      0.30      1000\n",
            "    Class 3       0.96      0.69      0.80      1000\n",
            "    Class 4       0.33      0.99      0.50      1000\n",
            "    Class 5       0.78      0.98      0.87      1000\n",
            "    Class 6       0.61      0.22      0.32      1000\n",
            "    Class 7       0.92      0.75      0.82      1000\n",
            "    Class 8       0.96      0.95      0.96      1000\n",
            "    Class 9       0.97      0.89      0.93      1000\n",
            "\n",
            "avg / total       0.82      0.73      0.72     10000\n",
            "\n"
          ],
          "name": "stdout"
        }
      ]
    },
    {
      "metadata": {
        "id": "a15cpgzRoN0K",
        "colab_type": "code",
        "colab": {
          "base_uri": "https://localhost:8080/",
          "height": 401
        },
        "outputId": "90b87837-bac6-4f14-c70f-22a35fe4fd4e"
      },
      "cell_type": "code",
      "source": [
        "for i, correct in enumerate(correct[:9]):\n",
        "    plt.subplot(3,3,i+1)\n",
        "    plt.imshow(X_test[correct].reshape(28,28), cmap='gray', interpolation='none')\n",
        "    plt.title(\"Predicted {}, Class {}\".format(predicted_classes[correct], y_true[correct]))\n",
        "    plt.tight_layout()"
      ],
      "execution_count": 57,
      "outputs": [
        {
          "output_type": "display_data",
          "data": {
            "image/png": "[encoded data removed]",
            "text/plain": [
              "<matplotlib.figure.Figure at 0x7f9ac3f1a668>"
            ]
          },
          "metadata": {
            "tags": []
          }
        }
      ]
    },
    {
      "metadata": {
        "id": "iBSKNXpyohEa",
        "colab_type": "code",
        "colab": {
          "base_uri": "https://localhost:8080/",
          "height": 401
        },
        "outputId": "53cbfa9b-c892-419a-ee25-2c74e29e171a"
      },
      "cell_type": "code",
      "source": [
        "for i, incorrect in enumerate(incorrect[0:9]):\n",
        "    plt.subplot(3,3,i+1)\n",
        "    plt.imshow(X_test[incorrect].reshape(28,28), cmap='gray', interpolation='none')\n",
        "    plt.title(\"Predicted {}, Class {}\".format(predicted_classes[incorrect], y_true[incorrect]))\n",
        "    plt.tight_layout()"
      ],
      "execution_count": 58,
      "outputs": [
        {
          "output_type": "display_data",
          "data": {
            "image/png": "[encoded data removed]",
            "text/plain": [
              "<matplotlib.figure.Figure at 0x7f9ac5259438>"
            ]
          },
          "metadata": {
            "tags": []
          }
        }
      ]
    },
    {
      "metadata": {
        "id": "hPtfCWnkosL3",
        "colab_type": "code",
        "colab": {
          "base_uri": "https://localhost:8080/",
          "height": 347
        },
        "outputId": "3941067f-6731-482e-a056-1831dcd47497"
      },
      "cell_type": "code",
      "source": [
        "test_im = X_train[154]\n",
        "plt.imshow(test_im.reshape(28,28), cmap='viridis', interpolation='none')\n",
        "plt.show()"
      ],
      "execution_count": 59,
      "outputs": [
        {
          "output_type": "display_data",
          "data": {
            "image/png": "[encoded data removed]",
            "text/plain": [
              "<matplotlib.figure.Figure at 0x7f9ac3f1a4e0>"
            ]
          },
          "metadata": {
            "tags": []
          }
        }
      ]
    },
    {
      "metadata": {
        "id": "VOCC0yTZov_B",
        "colab_type": "code",
        "colab": {
          "base_uri": "https://localhost:8080/",
          "height": 406
        },
        "outputId": "9b374863-4e02-4d56-f94e-5d54559bae82"
      },
      "cell_type": "code",
      "source": [
        "from keras import models\n",
        "layer_outputs = [layer.output for layer in model.layers[:8]]\n",
        "activation_model = models.Model(input=model.input, output=layer_outputs)\n",
        "activations = activation_model.predict(test_im.reshape(1,28,28,1))\n",
        "\n",
        "first_layer_activation = activations[0]\n",
        "plt.matshow(first_layer_activation[0, :, :, 4], cmap='viridis')"
      ],
      "execution_count": 60,
      "outputs": [
        {
          "output_type": "stream",
          "text": [
            "/usr/local/lib/python3.6/dist-packages/ipykernel_launcher.py:3: UserWarning: Update your `Model` call to the Keras 2 API: `Model(inputs=Tensor(\"co..., outputs=[<tf.Tenso...)`\n",
            "  This is separate from the ipykernel package so we can avoid doing imports until\n"
          ],
          "name": "stderr"
        },
        {
          "output_type": "execute_result",
          "data": {
            "text/plain": [
              "<matplotlib.image.AxesImage at 0x7f9abeb6c978>"
            ]
          },
          "metadata": {
            "tags": []
          },
          "execution_count": 60
        },
        {
          "output_type": "display_data",
          "data": {
            "image/png": "[encoded data removed]",
            "text/plain": [
              "<matplotlib.figure.Figure at 0x7f9abeb9bef0>"
            ]
          },
          "metadata": {
            "tags": []
          }
        }
      ]
    },
    {
      "metadata": {
        "id": "SgacoMfOo2iq",
        "colab_type": "code",
        "colab": {
          "base_uri": "https://localhost:8080/",
          "height": 950
        },
        "outputId": "238b8d2e-fc2a-42fd-dfb0-af9f34cade37"
      },
      "cell_type": "code",
      "source": [
        "layer_names = []\n",
        "for layer in model.layers[:-1]:\n",
        "    layer_names.append(layer.name) \n",
        "images_per_row = 16\n",
        "for layer_name, layer_activation in zip(layer_names, activations):\n",
        "    if layer_name.startswith('conv'):\n",
        "        n_features = layer_activation.shape[-1]\n",
        "        size = layer_activation.shape[1]\n",
        "        n_cols = n_features // images_per_row\n",
        "        display_grid = np.zeros((size * n_cols, images_per_row * size))\n",
        "        for col in range(n_cols):\n",
        "            for row in range(images_per_row):\n",
        "                channel_image = layer_activation[0,:, :, col * images_per_row + row]\n",
        "                channel_image -= channel_image.mean()\n",
        "                channel_image /= channel_image.std()\n",
        "                channel_image *= 64\n",
        "                channel_image += 128\n",
        "                channel_image = np.clip(channel_image, 0, 255).astype('uint8')\n",
        "                display_grid[col * size : (col + 1) * size,\n",
        "                             row * size : (row + 1) * size] = channel_image\n",
        "        scale = 1. / size\n",
        "        plt.figure(figsize=(scale * display_grid.shape[1],\n",
        "                            scale * display_grid.shape[0]))\n",
        "        plt.title(layer_name)\n",
        "        plt.grid(False)\n",
        "        plt.imshow(display_grid, aspect='auto', cmap='viridis')"
      ],
      "execution_count": 61,
      "outputs": [
        {
          "output_type": "stream",
          "text": [
            "/usr/local/lib/python3.6/dist-packages/ipykernel_launcher.py:15: RuntimeWarning: invalid value encountered in true_divide\n",
            "  from ipykernel import kernelapp as app\n"
          ],
          "name": "stderr"
        },
        {
          "output_type": "display_data",
          "data": {
            "image/png": "[encoded data removed]",
            "text/plain": [
              "<matplotlib.figure.Figure at 0x7f9abeb1a3c8>"
            ]
          },
          "metadata": {
            "tags": []
          }
        },
        {
          "output_type": "display_data",
          "data": {
            "image/png": "[encoded data removed]",
            "text/plain": [
              "<matplotlib.figure.Figure at 0x7f9abeae0240>"
            ]
          },
          "metadata": {
            "tags": []
          }
        },
        {
          "output_type": "display_data",
          "data": {
            "image/png": "[encoded data removed]",
            "text/plain": [
              "<matplotlib.figure.Figure at 0x7f9abea9d630>"
            ]
          },
          "metadata": {
            "tags": []
          }
        }
      ]
    },
    {
      "metadata": {
        "id": "37GymmJtGME1",
        "colab_type": "code",
        "colab": {
          "base_uri": "https://localhost:8080/",
          "height": 34
        },
        "outputId": "aec9a6c6-9291-45fd-84ff-6e5fb4b1beb5"
      },
      "cell_type": "code",
      "source": [
        "!kaggle competitions submit -c datasciencebowl -f /content/plankton/result.csv -m \"Adam(lr=0.001) 20 epoch gray scale\""
      ],
      "execution_count": 0,
      "outputs": [
        {
          "output_type": "stream",
          "text": [
            "Successfully submitted to National Data Science Bowl"
          ],
          "name": "stdout"
        }
      ]
    },
    {
      "metadata": {
        "id": "IcrwP662s002",
        "colab_type": "code",
        "colab": {}
      },
      "cell_type": "code",
      "source": [
        "from google.colab import files\n",
        "files.download('./fashion_1.h5')"
      ],
      "execution_count": 0,
      "outputs": []
    }
  ]
}