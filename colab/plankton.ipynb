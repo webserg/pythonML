{
  "nbformat": 4,
  "nbformat_minor": 0,
  "metadata": {
    "colab": {
      "name": "plankton.ipynb",
      "version": "0.3.2",
      "provenance": [],
      "collapsed_sections": []
    },
    "kernelspec": {
      "display_name": "Python 3",
      "language": "python",
      "name": "python3"
    },
    "accelerator": "GPU"
  },
  "cells": [
    {
      "cell_type": "markdown",
      "metadata": {
        "id": "view-in-github",
        "colab_type": "text"
      },
      "source": [
        "[View in Colaboratory](https://colab.research.google.com/github/webserg/pythonML/blob/master/colab/plankton.ipynb)"
      ]
    },
    {
      "metadata": {
        "id": "kEb5hhttwmT4",
        "colab_type": "text"
      },
      "cell_type": "markdown",
      "source": [
        "https://www.kaggle.com/c/datasciencebowl/data\n",
        "http://benanne.github.io/2015/03/17/plankton.html\n"
      ]
    },
    {
      "metadata": {
        "id": "MpjxIAhoxRNB",
        "colab_type": "code",
        "colab": {
          "base_uri": "https://localhost:8080/",
          "height": 269
        },
        "outputId": "7c80472f-ecf1-4b65-d5df-870bbb21de95"
      },
      "cell_type": "code",
      "source": [
        "!pip install kaggle"
      ],
      "execution_count": 1,
      "outputs": [
        {
          "output_type": "stream",
          "text": [
            "Collecting kaggle\n",
            "  Downloading https://files.pythonhosted.org/packages/74/9b/a6bdc22939c32e1cecc086a972b5e3f7c991b73d74dab0e5d82ff80c5968/kaggle-1.3.8.tar.gz\n",
            "Requirement already satisfied: urllib3>=1.15 in /usr/local/lib/python3.6/dist-packages (from kaggle) (1.22)\n",
            "Requirement already satisfied: six>=1.10 in /usr/local/lib/python3.6/dist-packages (from kaggle) (1.11.0)\n",
            "Requirement already satisfied: certifi in /usr/local/lib/python3.6/dist-packages (from kaggle) (2018.4.16)\n",
            "Requirement already satisfied: python-dateutil in /usr/local/lib/python3.6/dist-packages (from kaggle) (2.5.3)\n",
            "Requirement already satisfied: requests in /usr/local/lib/python3.6/dist-packages (from kaggle) (2.18.4)\n",
            "Requirement already satisfied: chardet<3.1.0,>=3.0.2 in /usr/local/lib/python3.6/dist-packages (from requests->kaggle) (3.0.4)\n",
            "Requirement already satisfied: idna<2.7,>=2.5 in /usr/local/lib/python3.6/dist-packages (from requests->kaggle) (2.6)\n",
            "Building wheels for collected packages: kaggle\n",
            "  Running setup.py bdist_wheel for kaggle ... \u001b[?25l-\b \b\\\b \bdone\n",
            "\u001b[?25h  Stored in directory: /content/.cache/pip/wheels/d6/3c/92/375decc0cf0a65b281db3cca9b8e21dc27b8ebc4d1ce29afca\n",
            "Successfully built kaggle\n",
            "Installing collected packages: kaggle\n",
            "Successfully installed kaggle-1.3.8\n"
          ],
          "name": "stdout"
        }
      ]
    },
    {
      "metadata": {
        "id": "fjEzwoPsyMFR",
        "colab_type": "code",
        "colab": {
          "base_uri": "https://localhost:8080/",
          "height": 34
        },
        "outputId": "ff29820d-2c9e-4bd6-ac12-220ec085ff2b"
      },
      "cell_type": "code",
      "source": [
        "from googleapiclient.discovery import build\n",
        "import io, os\n",
        "from googleapiclient.http import MediaIoBaseDownload\n",
        "from google.colab import auth\n",
        "\n",
        "auth.authenticate_user()\n",
        "\n",
        "drive_service = build('drive', 'v3')\n",
        "results = drive_service.files().list(\n",
        "        q=\"name = 'kaggle.json'\", fields=\"files(id)\").execute()\n",
        "kaggle_api_key = results.get('files', [])\n",
        "\n",
        "filename = \"/content/.kaggle/kaggle.json\"\n",
        "os.makedirs(os.path.dirname(filename), exist_ok=True)\n",
        "\n",
        "request = drive_service.files().get_media(fileId=kaggle_api_key[0]['id'])\n",
        "fh = io.FileIO(filename, 'wb')\n",
        "downloader = MediaIoBaseDownload(fh, request)\n",
        "done = False\n",
        "while done is False:\n",
        "    status, done = downloader.next_chunk()\n",
        "    print(\"Download %d%%.\" % int(status.progress() * 100))\n",
        "os.chmod(filename, 600)"
      ],
      "execution_count": 2,
      "outputs": [
        {
          "output_type": "stream",
          "text": [
            "Download 100%.\n"
          ],
          "name": "stdout"
        }
      ]
    },
    {
      "metadata": {
        "id": "34urnKPzwmT6",
        "colab_type": "code",
        "colab": {}
      },
      "cell_type": "code",
      "source": [
        "!kaggle competitions list"
      ],
      "execution_count": 0,
      "outputs": []
    },
    {
      "metadata": {
        "id": "LVWMF1bmxOOR",
        "colab_type": "code",
        "colab": {
          "base_uri": "https://localhost:8080/",
          "height": 34
        },
        "outputId": "2f99f70e-155f-4012-96d0-21ea0340acb9"
      },
      "cell_type": "code",
      "source": [
        "!pwd"
      ],
      "execution_count": 4,
      "outputs": [
        {
          "output_type": "stream",
          "text": [
            "/content\r\n"
          ],
          "name": "stdout"
        }
      ]
    },
    {
      "metadata": {
        "id": "3Qzd4MG9y8hd",
        "colab_type": "code",
        "colab": {
          "base_uri": "https://localhost:8080/",
          "height": 50
        },
        "outputId": "81c9874b-1599-4fa7-b5fb-43ebac7d9eea"
      },
      "cell_type": "code",
      "source": [
        "!ls -l"
      ],
      "execution_count": 3,
      "outputs": [
        {
          "output_type": "stream",
          "text": [
            "total 4\r\n",
            "drwxr-xr-x 1 root root 4096 May 21 06:19 datalab\r\n"
          ],
          "name": "stdout"
        }
      ]
    },
    {
      "metadata": {
        "id": "onMR-_idwmT_",
        "colab_type": "code",
        "colab": {
          "base_uri": "https://localhost:8080/",
          "height": 84
        },
        "outputId": "c270216f-2c02-48dc-bfe2-8b9f3edbf7ff"
      },
      "cell_type": "code",
      "source": [
        "!kaggle competitions download -c datasciencebowl -p ./plankton"
      ],
      "execution_count": 3,
      "outputs": [
        {
          "output_type": "stream",
          "text": [
            "sampleSubmission.csv.zip: Downloaded 886KB of 886KB to ./plankton\n",
            "train.zip: Downloaded 76MB of 76MB to ./plankton\n",
            "test.zip: Downloaded 347MB of 347MB to ./plankton\n",
            "plankton_identification.pdf: Downloaded 2MB of 2MB to ./plankton\n"
          ],
          "name": "stdout"
        }
      ]
    },
    {
      "metadata": {
        "id": "1yUtCZGX0na5",
        "colab_type": "code",
        "colab": {}
      },
      "cell_type": "code",
      "source": [
        "%mkdir /content/plankton/validation/"
      ],
      "execution_count": 0,
      "outputs": []
    },
    {
      "metadata": {
        "id": "lbcQ9q-e0pMT",
        "colab_type": "code",
        "colab": {
          "base_uri": "https://localhost:8080/",
          "height": 34
        },
        "outputId": "5d348ca4-b5c6-4228-dad6-fe74de014fcf"
      },
      "cell_type": "code",
      "source": [
        "%ls -l"
      ],
      "execution_count": 5,
      "outputs": [
        {
          "output_type": "stream",
          "text": [
            "total 0\r\n"
          ],
          "name": "stdout"
        }
      ]
    },
    {
      "metadata": {
        "id": "-baOY53TwmUA",
        "colab_type": "code",
        "colab": {
          "base_uri": "https://localhost:8080/",
          "height": 34
        },
        "outputId": "34671ecb-8e94-4a29-c3fd-97095ececac4"
      },
      "cell_type": "code",
      "source": [
        "import zipfile\n",
        "import os\n",
        "data_dir = \"/content/plankton\"\n",
        "path_to_data = \"/content/plankton/train.zip\"\n",
        "path_to_data"
      ],
      "execution_count": 5,
      "outputs": [
        {
          "output_type": "execute_result",
          "data": {
            "text/plain": [
              "'/content/plankton/train.zip'"
            ]
          },
          "metadata": {
            "tags": []
          },
          "execution_count": 5
        }
      ]
    },
    {
      "metadata": {
        "id": "ZIaJb8Y3wmUG",
        "colab_type": "code",
        "colab": {}
      },
      "cell_type": "code",
      "source": [
        "if os.path.exists(data_dir) == False:\n",
        "    os.makedirs(data_dir)"
      ],
      "execution_count": 0,
      "outputs": []
    },
    {
      "metadata": {
        "id": "fGtyia52wmUI",
        "colab_type": "code",
        "colab": {}
      },
      "cell_type": "code",
      "source": [
        "zip_ref = zipfile.ZipFile(path_to_data, 'r')\n",
        "zip_ref.extractall(data_dir)\n",
        "zip_ref.close()"
      ],
      "execution_count": 0,
      "outputs": []
    },
    {
      "metadata": {
        "id": "HxMMJss7wmUL",
        "colab_type": "code",
        "colab": {
          "base_uri": "https://localhost:8080/",
          "height": 34
        },
        "outputId": "90f586be-6a6e-4ca1-8c56-ece4dc1f5695"
      },
      "cell_type": "code",
      "source": [
        "path_to_test = \"/content/plankton/test.zip\"\n",
        "path_to_test"
      ],
      "execution_count": 7,
      "outputs": [
        {
          "output_type": "execute_result",
          "data": {
            "text/plain": [
              "'/content/plankton/test.zip'"
            ]
          },
          "metadata": {
            "tags": []
          },
          "execution_count": 7
        }
      ]
    },
    {
      "metadata": {
        "id": "dA3x2NAV77HX",
        "colab_type": "code",
        "colab": {}
      },
      "cell_type": "code",
      "source": [
        " os.makedirs(data_dir + \"/test\")"
      ],
      "execution_count": 0,
      "outputs": []
    },
    {
      "metadata": {
        "id": "c5EUd30mwmUP",
        "colab_type": "code",
        "colab": {}
      },
      "cell_type": "code",
      "source": [
        "zip_ref = zipfile.ZipFile(path_to_test, 'r')\n",
        "zip_ref.extractall(data_dir + \"/test\")\n",
        "zip_ref.close()"
      ],
      "execution_count": 0,
      "outputs": []
    },
    {
      "metadata": {
        "id": "j36SRCelwmUS",
        "colab_type": "code",
        "colab": {}
      },
      "cell_type": "code",
      "source": [
        "validation_dir = os.path.join(data_dir, 'validation')\n",
        "if os.path.exists(validation_dir) == False:\n",
        "    os.mkdir(validation_dir)"
      ],
      "execution_count": 0,
      "outputs": []
    },
    {
      "metadata": {
        "id": "z_bPVsbswmUU",
        "colab_type": "code",
        "colab": {}
      },
      "cell_type": "code",
      "source": [
        "import shutil\n",
        "train_dir = os.path.join(data_dir, 'train')\n",
        "test_dir = os.path.join(data_dir, 'test')"
      ],
      "execution_count": 0,
      "outputs": []
    },
    {
      "metadata": {
        "id": "uC_QYuZQwmUY",
        "colab_type": "code",
        "colab": {}
      },
      "cell_type": "code",
      "source": [
        "validation_dir = os.path.join(data_dir, 'validation')\n",
        "\n",
        "dir_info = [x for x in os.walk(train_dir)]\n",
        "for dir in dir_info[1:]:\n",
        "    #print(len(dir[2]))\n",
        "    validation_number = int(round(len(dir[2])/20))\n",
        "    #print(validation_number)\n",
        "    #print(dir[2])\n",
        "    #print(dir[2][:validation_number])\n",
        "    dir_name = os.path.split(dir[0])[1]\n",
        "    #print(dir_name)\n",
        "    validation_dir_current = os.path.join(validation_dir, dir_name)\n",
        "    if os.path.exists(validation_dir_current) == False:\n",
        "        os.mkdir(validation_dir_current)\n",
        "    for fname in dir[2][:validation_number]:\n",
        "        src = os.path.join(train_dir, dir_name, fname)\n",
        "        dst = os.path.join(validation_dir_current, fname)\n",
        "        #print(src)\n",
        "        #print(dst)\n",
        "        shutil.move(src, dst)\n"
      ],
      "execution_count": 0,
      "outputs": []
    },
    {
      "metadata": {
        "id": "tCKx3EdtwmUd",
        "colab_type": "code",
        "colab": {}
      },
      "cell_type": "code",
      "source": [
        "if os.path.exists(validation_dir) == False:\n",
        "    print(\"false\")"
      ],
      "execution_count": 0,
      "outputs": []
    },
    {
      "metadata": {
        "id": "v2BkRdn6wmUh",
        "colab_type": "code",
        "colab": {
          "base_uri": "https://localhost:8080/",
          "height": 50
        },
        "outputId": "4e3718d3-5fda-4a30-e5cc-fed9504aa8be"
      },
      "cell_type": "code",
      "source": [
        "print('total training categories:', len(os.listdir(train_dir)))\n",
        "cpt = sum([len(files) for r, d, files in os.walk(train_dir)])\n",
        "print('all train images: ',cpt )"
      ],
      "execution_count": 12,
      "outputs": [
        {
          "output_type": "stream",
          "text": [
            "total training categories: 121\n",
            "all train images:  28813\n"
          ],
          "name": "stdout"
        }
      ]
    },
    {
      "metadata": {
        "id": "Jqkh4-HhwmUk",
        "colab_type": "code",
        "colab": {
          "base_uri": "https://localhost:8080/",
          "height": 50
        },
        "outputId": "50e5dc6a-a5d3-46b9-c1c6-f232e737e45c"
      },
      "cell_type": "code",
      "source": [
        "print('total validation categories:', len(os.listdir(validation_dir)))\n",
        "cpt = sum([len(files) for r, d, files in os.walk(validation_dir)])\n",
        "print('all validation images: ',cpt )"
      ],
      "execution_count": 13,
      "outputs": [
        {
          "output_type": "stream",
          "text": [
            "total validation categories: 121\n",
            "all validation images:  1523\n"
          ],
          "name": "stdout"
        }
      ]
    },
    {
      "metadata": {
        "id": "Xoh1kurpk_Ri",
        "colab_type": "code",
        "colab": {}
      },
      "cell_type": "code",
      "source": [
        "size_of_image = (300, 300)"
      ],
      "execution_count": 0,
      "outputs": []
    },
    {
      "metadata": {
        "id": "qk7Pk934wmUv",
        "colab_type": "code",
        "colab": {
          "base_uri": "https://localhost:8080/",
          "height": 50
        },
        "outputId": "ae3adadd-56cf-4dfe-d897-c2cbce74b11a"
      },
      "cell_type": "code",
      "source": [
        "from keras.preprocessing.image import ImageDataGenerator\n",
        "#train_datagen = ImageDataGenerator(rescale=1./255)\n",
        "train_datagen = ImageDataGenerator(\n",
        "    rescale=1./255,\n",
        "    rotation_range=90,\n",
        "    width_shift_range=0.2,\n",
        "    height_shift_range=0.2,\n",
        "    shear_range=0.2,\n",
        "    zoom_range=0.2,\n",
        "    horizontal_flip=True,\n",
        "    )\n",
        "validation_datagen = ImageDataGenerator(rescale=1./255)\n",
        "\n",
        "train_generator = train_datagen.flow_from_directory(\n",
        "train_dir,\n",
        "target_size=size_of_image,\n",
        "batch_size=32,\n",
        "color_mode='grayscale',\n",
        "class_mode='categorical')\n",
        "validation_generator = validation_datagen.flow_from_directory(\n",
        "validation_dir,\n",
        "target_size=size_of_image,\n",
        "batch_size=32,\n",
        "color_mode='grayscale',\n",
        "class_mode='categorical')"
      ],
      "execution_count": 63,
      "outputs": [
        {
          "output_type": "stream",
          "text": [
            "Found 28813 images belonging to 121 classes.\n",
            "Found 1523 images belonging to 121 classes.\n"
          ],
          "name": "stdout"
        }
      ]
    },
    {
      "metadata": {
        "id": "85qgRgw9huVO",
        "colab_type": "code",
        "colab": {
          "base_uri": "https://localhost:8080/",
          "height": 417
        },
        "outputId": "73088103-8ee3-46b9-9c9d-ff75d9ecac2e"
      },
      "cell_type": "code",
      "source": [
        "from matplotlib import pyplot\n",
        "print(train_generator.batch_size)\n",
        "print(type(train_generator.next()))\n",
        "(q,w)=train_generator.next()\n",
        "print(type(q[0]))\n",
        "print(q[2].shape)\n",
        "pyplot.imshow(q[4].reshape(size_of_image),  cmap=pyplot.get_cmap('gray'))\n",
        "pyplot.show()"
      ],
      "execution_count": 64,
      "outputs": [
        {
          "output_type": "stream",
          "text": [
            "32\n",
            "<class 'tuple'>\n",
            "<class 'numpy.ndarray'>\n",
            "(300, 300, 1)\n"
          ],
          "name": "stdout"
        },
        {
          "output_type": "display_data",
          "data": {
            "image/png": "[encoded data removed]",
            "text/plain": [
              "<matplotlib.figure.Figure at 0x7efbef2a6f60>"
            ]
          },
          "metadata": {
            "tags": []
          }
        }
      ]
    },
    {
      "metadata": {
        "id": "TjBQpj1-wmUz",
        "colab_type": "code",
        "colab": {
          "base_uri": "https://localhost:8080/",
          "height": 739
        },
        "outputId": "789ba8a6-1610-4f81-c4ab-ae98986eef79"
      },
      "cell_type": "code",
      "source": [
        "from keras import layers\n",
        "from keras import models\n",
        "\n",
        "model = models.Sequential()\n",
        "model.add(layers.Conv2D(32, (3, 3), activation='relu',\n",
        "                        input_shape=(size_of_image[0], size_of_image[1], 1)))\n",
        "model.add(layers.Conv2D(16, (3, 3), activation='relu'))\n",
        "model.add(layers.MaxPooling2D((3, 3),strides=2))\n",
        "model.add(layers.Conv2D(64, (3, 3), activation='relu'))\n",
        "model.add(layers.Conv2D(32, (3, 3), activation='relu'))\n",
        "model.add(layers.MaxPooling2D((3, 3),strides=2))\n",
        "model.add(layers.Conv2D(128, (3, 3), activation='relu'))\n",
        "model.add(layers.Conv2D(64, (3, 3), activation='relu'))\n",
        "model.add(layers.MaxPooling2D((3, 3),strides=2))\n",
        "model.add(layers.Dropout(0.25))\n",
        "model.add(layers.Conv2D(256, (3, 3), activation='relu'))\n",
        "model.add(layers.Conv2D(128, (3, 3), activation='relu'))\n",
        "model.add(layers.MaxPooling2D((3, 3),strides=2))\n",
        "model.add(layers.Dropout(0.25))\n",
        "model.add(layers.Flatten())\n",
        "model.add(layers.Dense(512, activation='relu'))\n",
        "model.add(layers.Dropout(0.5))\n",
        "model.add(layers.Dense(121, activation='softmax'))\n",
        "model.summary()"
      ],
      "execution_count": 65,
      "outputs": [
        {
          "output_type": "stream",
          "text": [
            "_________________________________________________________________\n",
            "Layer (type)                 Output Shape              Param #   \n",
            "=================================================================\n",
            "conv2d_25 (Conv2D)           (None, 298, 298, 32)      320       \n",
            "_________________________________________________________________\n",
            "conv2d_26 (Conv2D)           (None, 296, 296, 16)      4624      \n",
            "_________________________________________________________________\n",
            "max_pooling2d_13 (MaxPooling (None, 147, 147, 16)      0         \n",
            "_________________________________________________________________\n",
            "conv2d_27 (Conv2D)           (None, 145, 145, 64)      9280      \n",
            "_________________________________________________________________\n",
            "conv2d_28 (Conv2D)           (None, 143, 143, 32)      18464     \n",
            "_________________________________________________________________\n",
            "max_pooling2d_14 (MaxPooling (None, 71, 71, 32)        0         \n",
            "_________________________________________________________________\n",
            "conv2d_29 (Conv2D)           (None, 69, 69, 128)       36992     \n",
            "_________________________________________________________________\n",
            "conv2d_30 (Conv2D)           (None, 67, 67, 64)        73792     \n",
            "_________________________________________________________________\n",
            "max_pooling2d_15 (MaxPooling (None, 33, 33, 64)        0         \n",
            "_________________________________________________________________\n",
            "dropout_10 (Dropout)         (None, 33, 33, 64)        0         \n",
            "_________________________________________________________________\n",
            "conv2d_31 (Conv2D)           (None, 31, 31, 256)       147712    \n",
            "_________________________________________________________________\n",
            "conv2d_32 (Conv2D)           (None, 29, 29, 128)       295040    \n",
            "_________________________________________________________________\n",
            "max_pooling2d_16 (MaxPooling (None, 14, 14, 128)       0         \n",
            "_________________________________________________________________\n",
            "dropout_11 (Dropout)         (None, 14, 14, 128)       0         \n",
            "_________________________________________________________________\n",
            "flatten_4 (Flatten)          (None, 25088)             0         \n",
            "_________________________________________________________________\n",
            "dense_7 (Dense)              (None, 512)               12845568  \n",
            "_________________________________________________________________\n",
            "dropout_12 (Dropout)         (None, 512)               0         \n",
            "_________________________________________________________________\n",
            "dense_8 (Dense)              (None, 121)               62073     \n",
            "=================================================================\n",
            "Total params: 13,493,865\n",
            "Trainable params: 13,493,865\n",
            "Non-trainable params: 0\n",
            "_________________________________________________________________\n"
          ],
          "name": "stdout"
        }
      ]
    },
    {
      "metadata": {
        "id": "NXcd6YDlwmU2",
        "colab_type": "code",
        "colab": {}
      },
      "cell_type": "code",
      "source": [
        "from keras import optimizers\n",
        "model.compile(loss='categorical_crossentropy',\n",
        "optimizer=optimizers.Adam(lr=0.001),\n",
        "metrics=['acc'])"
      ],
      "execution_count": 0,
      "outputs": []
    },
    {
      "metadata": {
        "id": "gIxgTWSvwmU5",
        "colab_type": "code",
        "colab": {
          "base_uri": "https://localhost:8080/",
          "height": 709
        },
        "outputId": "2d91a5ee-5995-4891-9d20-cf84ba53c7a6"
      },
      "cell_type": "code",
      "source": [
        "history = model.fit_generator(\n",
        "train_generator,\n",
        "epochs=20,\n",
        "validation_data=validation_generator)\n",
        "model.save('/content/plankton/plankton_1.h5')"
      ],
      "execution_count": 67,
      "outputs": [
        {
          "output_type": "stream",
          "text": [
            "Epoch 1/20\n",
            "901/901 [==============================] - 355s 394ms/step - loss: 4.2169 - acc: 0.0612 - val_loss: 4.1711 - val_acc: 0.0650\n",
            "Epoch 2/20\n",
            " 74/901 [=>............................] - ETA: 5:12 - loss: 4.1831 - acc: 0.0633"
          ],
          "name": "stdout"
        },
        {
          "output_type": "stream",
          "text": [
            "901/901 [==============================] - 347s 385ms/step - loss: 4.1899 - acc: 0.0650 - val_loss: 4.1654 - val_acc: 0.0637\n",
            "Epoch 3/20\n",
            "151/901 [====>.........................] - ETA: 4:43 - loss: 4.1596 - acc: 0.0613"
          ],
          "name": "stdout"
        },
        {
          "output_type": "stream",
          "text": [
            "901/901 [==============================] - 347s 385ms/step - loss: 4.1791 - acc: 0.0629 - val_loss: 4.1639 - val_acc: 0.0637\n",
            "Epoch 4/20\n",
            "180/901 [====>.........................] - ETA: 4:32 - loss: 4.1641 - acc: 0.0705"
          ],
          "name": "stdout"
        },
        {
          "output_type": "stream",
          "text": [
            "901/901 [==============================] - 347s 385ms/step - loss: 4.1757 - acc: 0.0645 - val_loss: 4.1663 - val_acc: 0.0650\n",
            "Epoch 5/20\n",
            "191/901 [=====>........................] - ETA: 4:28 - loss: 4.1747 - acc: 0.0640"
          ],
          "name": "stdout"
        },
        {
          "output_type": "stream",
          "text": [
            "901/901 [==============================] - 346s 384ms/step - loss: 4.1746 - acc: 0.0648 - val_loss: 4.1648 - val_acc: 0.0650\n",
            "Epoch 6/20\n",
            "195/901 [=====>........................] - ETA: 4:26 - loss: 4.1726 - acc: 0.0681"
          ],
          "name": "stdout"
        },
        {
          "output_type": "stream",
          "text": [
            "901/901 [==============================] - 346s 384ms/step - loss: 4.1723 - acc: 0.0639 - val_loss: 4.1634 - val_acc: 0.0637\n",
            "Epoch 7/20\n",
            "196/901 [=====>........................] - ETA: 4:26 - loss: 4.1649 - acc: 0.0657"
          ],
          "name": "stdout"
        },
        {
          "output_type": "stream",
          "text": [
            "901/901 [==============================] - 347s 385ms/step - loss: 4.1689 - acc: 0.0637 - val_loss: 4.1643 - val_acc: 0.0637\n",
            "Epoch 8/20\n",
            "197/901 [=====>........................] - ETA: 4:25 - loss: 4.1489 - acc: 0.0723"
          ],
          "name": "stdout"
        },
        {
          "output_type": "stream",
          "text": [
            "901/901 [==============================] - 346s 385ms/step - loss: 4.1690 - acc: 0.0662 - val_loss: 4.1621 - val_acc: 0.0637\n",
            "Epoch 9/20\n",
            "197/901 [=====>........................] - ETA: 4:25 - loss: 4.1517 - acc: 0.0684"
          ],
          "name": "stdout"
        },
        {
          "output_type": "stream",
          "text": [
            "901/901 [==============================] - 347s 385ms/step - loss: 4.1667 - acc: 0.0653 - val_loss: 4.1624 - val_acc: 0.0650\n",
            "Epoch 10/20\n",
            "196/901 [=====>........................] - ETA: 4:26 - loss: 4.1706 - acc: 0.0646"
          ],
          "name": "stdout"
        },
        {
          "output_type": "stream",
          "text": [
            "901/901 [==============================] - 347s 385ms/step - loss: 4.1676 - acc: 0.0644 - val_loss: 4.1618 - val_acc: 0.0637\n",
            "Epoch 11/20\n",
            "196/901 [=====>........................] - ETA: 4:25 - loss: 4.1722 - acc: 0.0560"
          ],
          "name": "stdout"
        },
        {
          "output_type": "stream",
          "text": [
            "901/901 [==============================] - 347s 385ms/step - loss: 4.1679 - acc: 0.0609 - val_loss: 4.1619 - val_acc: 0.0650\n",
            "Epoch 12/20\n",
            "196/901 [=====>........................] - ETA: 4:26 - loss: 4.1788 - acc: 0.0674"
          ],
          "name": "stdout"
        },
        {
          "output_type": "stream",
          "text": [
            "901/901 [==============================] - 347s 385ms/step - loss: 4.1668 - acc: 0.0657 - val_loss: 4.1619 - val_acc: 0.0650\n",
            "Epoch 13/20\n",
            "196/901 [=====>........................] - ETA: 4:26 - loss: 4.1630 - acc: 0.0623"
          ],
          "name": "stdout"
        },
        {
          "output_type": "stream",
          "text": [
            "901/901 [==============================] - 347s 385ms/step - loss: 4.1669 - acc: 0.0627 - val_loss: 4.1620 - val_acc: 0.0637\n",
            "Epoch 14/20\n",
            "196/901 [=====>........................] - ETA: 4:25 - loss: 4.1482 - acc: 0.0628"
          ],
          "name": "stdout"
        },
        {
          "output_type": "stream",
          "text": [
            "901/901 [==============================] - 347s 385ms/step - loss: 4.1665 - acc: 0.0657 - val_loss: 4.1616 - val_acc: 0.0637\n",
            "Epoch 15/20\n",
            "196/901 [=====>........................] - ETA: 4:26 - loss: 4.1767 - acc: 0.0603"
          ],
          "name": "stdout"
        },
        {
          "output_type": "stream",
          "text": [
            "901/901 [==============================] - 347s 385ms/step - loss: 4.1657 - acc: 0.0652 - val_loss: 4.1617 - val_acc: 0.0637\n",
            "Epoch 16/20\n",
            "196/901 [=====>........................] - ETA: 4:26 - loss: 4.1598 - acc: 0.0654"
          ],
          "name": "stdout"
        },
        {
          "output_type": "stream",
          "text": [
            "901/901 [==============================] - 347s 385ms/step - loss: 4.1656 - acc: 0.0646 - val_loss: 4.1614 - val_acc: 0.0637\n",
            "Epoch 17/20\n",
            "196/901 [=====>........................] - ETA: 4:25 - loss: 4.1591 - acc: 0.0623"
          ],
          "name": "stdout"
        },
        {
          "output_type": "stream",
          "text": [
            "901/901 [==============================] - 347s 385ms/step - loss: 4.1648 - acc: 0.0626 - val_loss: 4.1617 - val_acc: 0.0637\n",
            "Epoch 18/20\n",
            "196/901 [=====>........................] - ETA: 4:26 - loss: 4.1781 - acc: 0.0649"
          ],
          "name": "stdout"
        },
        {
          "output_type": "stream",
          "text": [
            "901/901 [==============================] - 347s 385ms/step - loss: 4.1655 - acc: 0.0651 - val_loss: 4.1617 - val_acc: 0.0650\n",
            "Epoch 19/20\n",
            "196/901 [=====>........................] - ETA: 4:26 - loss: 4.1694 - acc: 0.0643"
          ],
          "name": "stdout"
        },
        {
          "output_type": "stream",
          "text": [
            "901/901 [==============================] - 347s 385ms/step - loss: 4.1656 - acc: 0.0653 - val_loss: 4.1614 - val_acc: 0.0650\n",
            "Epoch 20/20\n",
            "196/901 [=====>........................] - ETA: 4:26 - loss: 4.1935 - acc: 0.0603"
          ],
          "name": "stdout"
        },
        {
          "output_type": "stream",
          "text": [
            "901/901 [==============================] - 347s 385ms/step - loss: 4.1655 - acc: 0.0643 - val_loss: 4.1614 - val_acc: 0.0650\n"
          ],
          "name": "stdout"
        }
      ]
    },
    {
      "metadata": {
        "id": "exNUDYpMwmU-",
        "colab_type": "code",
        "colab": {
          "base_uri": "https://localhost:8080/",
          "height": 706
        },
        "outputId": "0bf76aa5-7800-4dc9-dcdf-008060552551"
      },
      "cell_type": "code",
      "source": [
        "import matplotlib.pyplot as plt\n",
        "\n",
        "acc = history.history['acc']\n",
        "val_acc = history.history['val_acc']\n",
        "loss = history.history['loss']\n",
        "val_loss = history.history['val_loss']\n",
        "\n",
        "epochs = range(len(acc))\n",
        "\n",
        "plt.plot(epochs, acc, 'bo', label='Training acc')\n",
        "plt.plot(epochs, val_acc, 'b', label='Validation acc')\n",
        "plt.title('Training and validation accuracy')\n",
        "plt.legend()\n",
        "\n",
        "plt.figure()\n",
        "\n",
        "plt.plot(epochs, loss, 'bo', label='Training loss')\n",
        "plt.plot(epochs, val_loss, 'b', label='Validation loss')\n",
        "plt.title('Training and validation loss')\n",
        "plt.legend()\n",
        "\n",
        "plt.show()"
      ],
      "execution_count": 68,
      "outputs": [
        {
          "output_type": "display_data",
          "data": {
            "image/png": "[encoded data removed]",
            "text/plain": [
              "<matplotlib.figure.Figure at 0x7efc2cba5908>"
            ]
          },
          "metadata": {
            "tags": []
          }
        },
        {
          "output_type": "display_data",
          "data": {
            "image/png": "[encoded data removed]",
            "text/plain": [
              "<matplotlib.figure.Figure at 0x7efc2ea975c0>"
            ]
          },
          "metadata": {
            "tags": []
          }
        }
      ]
    },
    {
      "metadata": {
        "id": "AUV0kenlwmVC",
        "colab_type": "code",
        "colab": {
          "base_uri": "https://localhost:8080/",
          "height": 34
        },
        "outputId": "6501b941-8ae4-415a-8f6e-597e33babc35"
      },
      "cell_type": "code",
      "source": [
        "print(history.history.keys())"
      ],
      "execution_count": 41,
      "outputs": [
        {
          "output_type": "stream",
          "text": [
            "dict_keys(['val_loss', 'val_acc', 'loss', 'acc'])\n"
          ],
          "name": "stdout"
        }
      ]
    },
    {
      "metadata": {
        "id": "HinDSdTmwmVF",
        "colab_type": "code",
        "colab": {
          "base_uri": "https://localhost:8080/",
          "height": 50
        },
        "outputId": "1b2f4fbc-f3be-4aeb-81aa-12fcce9abd77"
      },
      "cell_type": "code",
      "source": [
        "print(test_dir)\n",
        "from keras.preprocessing.image import ImageDataGenerator\n",
        "test_datagen = ImageDataGenerator(rescale=1./255)\n",
        "test_generator = test_datagen.flow_from_directory(\n",
        "        test_dir,\n",
        "        target_size=size_of_image,\n",
        "        color_mode='grayscale',\n",
        "        classes=None,\n",
        "        class_mode=None)\n"
      ],
      "execution_count": 69,
      "outputs": [
        {
          "output_type": "stream",
          "text": [
            "/content/plankton/test\n",
            "Found 130400 images belonging to 1 classes.\n"
          ],
          "name": "stdout"
        }
      ]
    },
    {
      "metadata": {
        "id": "Rw-6YQsIwmVJ",
        "colab_type": "code",
        "colab": {}
      },
      "cell_type": "code",
      "source": [
        "from keras.models import load_model\n",
        "saved_model = load_model('plankton_1.h5')"
      ],
      "execution_count": 0,
      "outputs": []
    },
    {
      "metadata": {
        "id": "j8tNaqdswmVK",
        "colab_type": "code",
        "colab": {}
      },
      "cell_type": "code",
      "source": [
        "import numpy as np\n",
        "res = model.predict_generator(test_generator)\n"
      ],
      "execution_count": 0,
      "outputs": []
    },
    {
      "metadata": {
        "id": "AKdA5BlPwmVM",
        "colab_type": "code",
        "colab": {
          "base_uri": "https://localhost:8080/",
          "height": 34
        },
        "outputId": "4e6feb4e-d39c-448d-ac4d-12b1f7475ec8"
      },
      "cell_type": "code",
      "source": [
        "len(test_generator.filenames)"
      ],
      "execution_count": 26,
      "outputs": [
        {
          "output_type": "execute_result",
          "data": {
            "text/plain": [
              "130400"
            ]
          },
          "metadata": {
            "tags": []
          },
          "execution_count": 26
        }
      ]
    },
    {
      "metadata": {
        "id": "Yj1F-b2HZJDg",
        "colab_type": "code",
        "colab": {
          "base_uri": "https://localhost:8080/",
          "height": 34
        },
        "outputId": "b12cdf2d-21e0-4962-ca50-b4c4e61c9df6"
      },
      "cell_type": "code",
      "source": [
        "res[100][5]"
      ],
      "execution_count": 27,
      "outputs": [
        {
          "output_type": "execute_result",
          "data": {
            "text/plain": [
              "0.0126115"
            ]
          },
          "metadata": {
            "tags": []
          },
          "execution_count": 27
        }
      ]
    },
    {
      "metadata": {
        "id": "0RyIXc9TwmV7",
        "colab_type": "code",
        "colab": {
          "base_uri": "https://localhost:8080/",
          "height": 244
        },
        "outputId": "67fbcf89-4948-40a5-e7c9-2aedaa391701"
      },
      "cell_type": "code",
      "source": [
        "import pandas as pd\n",
        "image_index = [x.replace(\"test/\",\"\") for x in test_generator.filenames]\n",
        "df = pd.DataFrame(data=res, columns=[*train_generator.class_indices],index=image_index)\n",
        "df.head()"
      ],
      "execution_count": 71,
      "outputs": [
        {
          "output_type": "execute_result",
          "data": {
            "text/html": [
              "<div>\n",
              "<style scoped>\n",
              "    .dataframe tbody tr th:only-of-type {\n",
              "        vertical-align: middle;\n",
              "    }\n",
              "\n",
              "    .dataframe tbody tr th {\n",
              "        vertical-align: top;\n",
              "    }\n",
              "\n",
              "    .dataframe thead th {\n",
              "        text-align: right;\n",
              "    }\n",
              "</style>\n",
              "<table border=\"1\" class=\"dataframe\">\n",
              "  <thead>\n",
              "    <tr style=\"text-align: right;\">\n",
              "      <th></th>\n",
              "      <th>acantharia_protist</th>\n",
              "      <th>acantharia_protist_big_center</th>\n",
              "      <th>acantharia_protist_halo</th>\n",
              "      <th>amphipods</th>\n",
              "      <th>appendicularian_fritillaridae</th>\n",
              "      <th>appendicularian_s_shape</th>\n",
              "      <th>appendicularian_slight_curve</th>\n",
              "      <th>appendicularian_straight</th>\n",
              "      <th>artifacts</th>\n",
              "      <th>artifacts_edge</th>\n",
              "      <th>...</th>\n",
              "      <th>trichodesmium_tuft</th>\n",
              "      <th>trochophore_larvae</th>\n",
              "      <th>tunicate_doliolid</th>\n",
              "      <th>tunicate_doliolid_nurse</th>\n",
              "      <th>tunicate_partial</th>\n",
              "      <th>tunicate_salp</th>\n",
              "      <th>tunicate_salp_chains</th>\n",
              "      <th>unknown_blobs_and_smudges</th>\n",
              "      <th>unknown_sticks</th>\n",
              "      <th>unknown_unclassified</th>\n",
              "    </tr>\n",
              "  </thead>\n",
              "  <tbody>\n",
              "    <tr>\n",
              "      <th>1.jpg</th>\n",
              "      <td>0.030023</td>\n",
              "      <td>0.00039</td>\n",
              "      <td>0.002175</td>\n",
              "      <td>0.001533</td>\n",
              "      <td>0.000493</td>\n",
              "      <td>0.022557</td>\n",
              "      <td>0.018688</td>\n",
              "      <td>0.008578</td>\n",
              "      <td>0.012234</td>\n",
              "      <td>0.005953</td>\n",
              "      <td>...</td>\n",
              "      <td>0.021413</td>\n",
              "      <td>0.000871</td>\n",
              "      <td>0.014855</td>\n",
              "      <td>0.012931</td>\n",
              "      <td>0.011088</td>\n",
              "      <td>0.008216</td>\n",
              "      <td>0.002267</td>\n",
              "      <td>0.010644</td>\n",
              "      <td>0.005649</td>\n",
              "      <td>0.014549</td>\n",
              "    </tr>\n",
              "    <tr>\n",
              "      <th>10.jpg</th>\n",
              "      <td>0.030023</td>\n",
              "      <td>0.00039</td>\n",
              "      <td>0.002175</td>\n",
              "      <td>0.001533</td>\n",
              "      <td>0.000493</td>\n",
              "      <td>0.022557</td>\n",
              "      <td>0.018688</td>\n",
              "      <td>0.008578</td>\n",
              "      <td>0.012234</td>\n",
              "      <td>0.005953</td>\n",
              "      <td>...</td>\n",
              "      <td>0.021413</td>\n",
              "      <td>0.000871</td>\n",
              "      <td>0.014855</td>\n",
              "      <td>0.012931</td>\n",
              "      <td>0.011088</td>\n",
              "      <td>0.008216</td>\n",
              "      <td>0.002267</td>\n",
              "      <td>0.010644</td>\n",
              "      <td>0.005649</td>\n",
              "      <td>0.014549</td>\n",
              "    </tr>\n",
              "    <tr>\n",
              "      <th>100.jpg</th>\n",
              "      <td>0.030023</td>\n",
              "      <td>0.00039</td>\n",
              "      <td>0.002175</td>\n",
              "      <td>0.001533</td>\n",
              "      <td>0.000493</td>\n",
              "      <td>0.022557</td>\n",
              "      <td>0.018688</td>\n",
              "      <td>0.008578</td>\n",
              "      <td>0.012234</td>\n",
              "      <td>0.005953</td>\n",
              "      <td>...</td>\n",
              "      <td>0.021413</td>\n",
              "      <td>0.000871</td>\n",
              "      <td>0.014855</td>\n",
              "      <td>0.012931</td>\n",
              "      <td>0.011088</td>\n",
              "      <td>0.008216</td>\n",
              "      <td>0.002267</td>\n",
              "      <td>0.010644</td>\n",
              "      <td>0.005649</td>\n",
              "      <td>0.014549</td>\n",
              "    </tr>\n",
              "    <tr>\n",
              "      <th>1000.jpg</th>\n",
              "      <td>0.030023</td>\n",
              "      <td>0.00039</td>\n",
              "      <td>0.002175</td>\n",
              "      <td>0.001533</td>\n",
              "      <td>0.000493</td>\n",
              "      <td>0.022557</td>\n",
              "      <td>0.018688</td>\n",
              "      <td>0.008578</td>\n",
              "      <td>0.012234</td>\n",
              "      <td>0.005953</td>\n",
              "      <td>...</td>\n",
              "      <td>0.021413</td>\n",
              "      <td>0.000871</td>\n",
              "      <td>0.014855</td>\n",
              "      <td>0.012931</td>\n",
              "      <td>0.011088</td>\n",
              "      <td>0.008216</td>\n",
              "      <td>0.002267</td>\n",
              "      <td>0.010644</td>\n",
              "      <td>0.005649</td>\n",
              "      <td>0.014549</td>\n",
              "    </tr>\n",
              "    <tr>\n",
              "      <th>10000.jpg</th>\n",
              "      <td>0.030023</td>\n",
              "      <td>0.00039</td>\n",
              "      <td>0.002175</td>\n",
              "      <td>0.001533</td>\n",
              "      <td>0.000493</td>\n",
              "      <td>0.022557</td>\n",
              "      <td>0.018688</td>\n",
              "      <td>0.008578</td>\n",
              "      <td>0.012234</td>\n",
              "      <td>0.005953</td>\n",
              "      <td>...</td>\n",
              "      <td>0.021413</td>\n",
              "      <td>0.000871</td>\n",
              "      <td>0.014855</td>\n",
              "      <td>0.012931</td>\n",
              "      <td>0.011088</td>\n",
              "      <td>0.008216</td>\n",
              "      <td>0.002267</td>\n",
              "      <td>0.010644</td>\n",
              "      <td>0.005649</td>\n",
              "      <td>0.014549</td>\n",
              "    </tr>\n",
              "  </tbody>\n",
              "</table>\n",
              "<p>5 rows × 121 columns</p>\n",
              "</div>"
            ],
            "text/plain": [
              "           acantharia_protist  acantharia_protist_big_center  \\\n",
              "1.jpg                0.030023                        0.00039   \n",
              "10.jpg               0.030023                        0.00039   \n",
              "100.jpg              0.030023                        0.00039   \n",
              "1000.jpg             0.030023                        0.00039   \n",
              "10000.jpg            0.030023                        0.00039   \n",
              "\n",
              "           acantharia_protist_halo  amphipods  appendicularian_fritillaridae  \\\n",
              "1.jpg                     0.002175   0.001533                       0.000493   \n",
              "10.jpg                    0.002175   0.001533                       0.000493   \n",
              "100.jpg                   0.002175   0.001533                       0.000493   \n",
              "1000.jpg                  0.002175   0.001533                       0.000493   \n",
              "10000.jpg                 0.002175   0.001533                       0.000493   \n",
              "\n",
              "           appendicularian_s_shape  appendicularian_slight_curve  \\\n",
              "1.jpg                     0.022557                      0.018688   \n",
              "10.jpg                    0.022557                      0.018688   \n",
              "100.jpg                   0.022557                      0.018688   \n",
              "1000.jpg                  0.022557                      0.018688   \n",
              "10000.jpg                 0.022557                      0.018688   \n",
              "\n",
              "           appendicularian_straight  artifacts  artifacts_edge  \\\n",
              "1.jpg                      0.008578   0.012234        0.005953   \n",
              "10.jpg                     0.008578   0.012234        0.005953   \n",
              "100.jpg                    0.008578   0.012234        0.005953   \n",
              "1000.jpg                   0.008578   0.012234        0.005953   \n",
              "10000.jpg                  0.008578   0.012234        0.005953   \n",
              "\n",
              "                   ...           trichodesmium_tuft  trochophore_larvae  \\\n",
              "1.jpg              ...                     0.021413            0.000871   \n",
              "10.jpg             ...                     0.021413            0.000871   \n",
              "100.jpg            ...                     0.021413            0.000871   \n",
              "1000.jpg           ...                     0.021413            0.000871   \n",
              "10000.jpg          ...                     0.021413            0.000871   \n",
              "\n",
              "           tunicate_doliolid  tunicate_doliolid_nurse  tunicate_partial  \\\n",
              "1.jpg               0.014855                 0.012931          0.011088   \n",
              "10.jpg              0.014855                 0.012931          0.011088   \n",
              "100.jpg             0.014855                 0.012931          0.011088   \n",
              "1000.jpg            0.014855                 0.012931          0.011088   \n",
              "10000.jpg           0.014855                 0.012931          0.011088   \n",
              "\n",
              "           tunicate_salp  tunicate_salp_chains  unknown_blobs_and_smudges  \\\n",
              "1.jpg           0.008216              0.002267                   0.010644   \n",
              "10.jpg          0.008216              0.002267                   0.010644   \n",
              "100.jpg         0.008216              0.002267                   0.010644   \n",
              "1000.jpg        0.008216              0.002267                   0.010644   \n",
              "10000.jpg       0.008216              0.002267                   0.010644   \n",
              "\n",
              "           unknown_sticks  unknown_unclassified  \n",
              "1.jpg            0.005649              0.014549  \n",
              "10.jpg           0.005649              0.014549  \n",
              "100.jpg          0.005649              0.014549  \n",
              "1000.jpg         0.005649              0.014549  \n",
              "10000.jpg        0.005649              0.014549  \n",
              "\n",
              "[5 rows x 121 columns]"
            ]
          },
          "metadata": {
            "tags": []
          },
          "execution_count": 71
        }
      ]
    },
    {
      "metadata": {
        "id": "rR_flPQ1wmV-",
        "colab_type": "code",
        "colab": {
          "base_uri": "https://localhost:8080/",
          "height": 274
        },
        "outputId": "07d6e9ef-512d-456b-a560-8cb16655534a"
      },
      "cell_type": "code",
      "source": [
        "df.index.name = 'image'\n",
        "df.head()"
      ],
      "execution_count": 72,
      "outputs": [
        {
          "output_type": "execute_result",
          "data": {
            "text/html": [
              "<div>\n",
              "<style scoped>\n",
              "    .dataframe tbody tr th:only-of-type {\n",
              "        vertical-align: middle;\n",
              "    }\n",
              "\n",
              "    .dataframe tbody tr th {\n",
              "        vertical-align: top;\n",
              "    }\n",
              "\n",
              "    .dataframe thead th {\n",
              "        text-align: right;\n",
              "    }\n",
              "</style>\n",
              "<table border=\"1\" class=\"dataframe\">\n",
              "  <thead>\n",
              "    <tr style=\"text-align: right;\">\n",
              "      <th></th>\n",
              "      <th>acantharia_protist</th>\n",
              "      <th>acantharia_protist_big_center</th>\n",
              "      <th>acantharia_protist_halo</th>\n",
              "      <th>amphipods</th>\n",
              "      <th>appendicularian_fritillaridae</th>\n",
              "      <th>appendicularian_s_shape</th>\n",
              "      <th>appendicularian_slight_curve</th>\n",
              "      <th>appendicularian_straight</th>\n",
              "      <th>artifacts</th>\n",
              "      <th>artifacts_edge</th>\n",
              "      <th>...</th>\n",
              "      <th>trichodesmium_tuft</th>\n",
              "      <th>trochophore_larvae</th>\n",
              "      <th>tunicate_doliolid</th>\n",
              "      <th>tunicate_doliolid_nurse</th>\n",
              "      <th>tunicate_partial</th>\n",
              "      <th>tunicate_salp</th>\n",
              "      <th>tunicate_salp_chains</th>\n",
              "      <th>unknown_blobs_and_smudges</th>\n",
              "      <th>unknown_sticks</th>\n",
              "      <th>unknown_unclassified</th>\n",
              "    </tr>\n",
              "    <tr>\n",
              "      <th>image</th>\n",
              "      <th></th>\n",
              "      <th></th>\n",
              "      <th></th>\n",
              "      <th></th>\n",
              "      <th></th>\n",
              "      <th></th>\n",
              "      <th></th>\n",
              "      <th></th>\n",
              "      <th></th>\n",
              "      <th></th>\n",
              "      <th></th>\n",
              "      <th></th>\n",
              "      <th></th>\n",
              "      <th></th>\n",
              "      <th></th>\n",
              "      <th></th>\n",
              "      <th></th>\n",
              "      <th></th>\n",
              "      <th></th>\n",
              "      <th></th>\n",
              "      <th></th>\n",
              "    </tr>\n",
              "  </thead>\n",
              "  <tbody>\n",
              "    <tr>\n",
              "      <th>1.jpg</th>\n",
              "      <td>0.030023</td>\n",
              "      <td>0.00039</td>\n",
              "      <td>0.002175</td>\n",
              "      <td>0.001533</td>\n",
              "      <td>0.000493</td>\n",
              "      <td>0.022557</td>\n",
              "      <td>0.018688</td>\n",
              "      <td>0.008578</td>\n",
              "      <td>0.012234</td>\n",
              "      <td>0.005953</td>\n",
              "      <td>...</td>\n",
              "      <td>0.021413</td>\n",
              "      <td>0.000871</td>\n",
              "      <td>0.014855</td>\n",
              "      <td>0.012931</td>\n",
              "      <td>0.011088</td>\n",
              "      <td>0.008216</td>\n",
              "      <td>0.002267</td>\n",
              "      <td>0.010644</td>\n",
              "      <td>0.005649</td>\n",
              "      <td>0.014549</td>\n",
              "    </tr>\n",
              "    <tr>\n",
              "      <th>10.jpg</th>\n",
              "      <td>0.030023</td>\n",
              "      <td>0.00039</td>\n",
              "      <td>0.002175</td>\n",
              "      <td>0.001533</td>\n",
              "      <td>0.000493</td>\n",
              "      <td>0.022557</td>\n",
              "      <td>0.018688</td>\n",
              "      <td>0.008578</td>\n",
              "      <td>0.012234</td>\n",
              "      <td>0.005953</td>\n",
              "      <td>...</td>\n",
              "      <td>0.021413</td>\n",
              "      <td>0.000871</td>\n",
              "      <td>0.014855</td>\n",
              "      <td>0.012931</td>\n",
              "      <td>0.011088</td>\n",
              "      <td>0.008216</td>\n",
              "      <td>0.002267</td>\n",
              "      <td>0.010644</td>\n",
              "      <td>0.005649</td>\n",
              "      <td>0.014549</td>\n",
              "    </tr>\n",
              "    <tr>\n",
              "      <th>100.jpg</th>\n",
              "      <td>0.030023</td>\n",
              "      <td>0.00039</td>\n",
              "      <td>0.002175</td>\n",
              "      <td>0.001533</td>\n",
              "      <td>0.000493</td>\n",
              "      <td>0.022557</td>\n",
              "      <td>0.018688</td>\n",
              "      <td>0.008578</td>\n",
              "      <td>0.012234</td>\n",
              "      <td>0.005953</td>\n",
              "      <td>...</td>\n",
              "      <td>0.021413</td>\n",
              "      <td>0.000871</td>\n",
              "      <td>0.014855</td>\n",
              "      <td>0.012931</td>\n",
              "      <td>0.011088</td>\n",
              "      <td>0.008216</td>\n",
              "      <td>0.002267</td>\n",
              "      <td>0.010644</td>\n",
              "      <td>0.005649</td>\n",
              "      <td>0.014549</td>\n",
              "    </tr>\n",
              "    <tr>\n",
              "      <th>1000.jpg</th>\n",
              "      <td>0.030023</td>\n",
              "      <td>0.00039</td>\n",
              "      <td>0.002175</td>\n",
              "      <td>0.001533</td>\n",
              "      <td>0.000493</td>\n",
              "      <td>0.022557</td>\n",
              "      <td>0.018688</td>\n",
              "      <td>0.008578</td>\n",
              "      <td>0.012234</td>\n",
              "      <td>0.005953</td>\n",
              "      <td>...</td>\n",
              "      <td>0.021413</td>\n",
              "      <td>0.000871</td>\n",
              "      <td>0.014855</td>\n",
              "      <td>0.012931</td>\n",
              "      <td>0.011088</td>\n",
              "      <td>0.008216</td>\n",
              "      <td>0.002267</td>\n",
              "      <td>0.010644</td>\n",
              "      <td>0.005649</td>\n",
              "      <td>0.014549</td>\n",
              "    </tr>\n",
              "    <tr>\n",
              "      <th>10000.jpg</th>\n",
              "      <td>0.030023</td>\n",
              "      <td>0.00039</td>\n",
              "      <td>0.002175</td>\n",
              "      <td>0.001533</td>\n",
              "      <td>0.000493</td>\n",
              "      <td>0.022557</td>\n",
              "      <td>0.018688</td>\n",
              "      <td>0.008578</td>\n",
              "      <td>0.012234</td>\n",
              "      <td>0.005953</td>\n",
              "      <td>...</td>\n",
              "      <td>0.021413</td>\n",
              "      <td>0.000871</td>\n",
              "      <td>0.014855</td>\n",
              "      <td>0.012931</td>\n",
              "      <td>0.011088</td>\n",
              "      <td>0.008216</td>\n",
              "      <td>0.002267</td>\n",
              "      <td>0.010644</td>\n",
              "      <td>0.005649</td>\n",
              "      <td>0.014549</td>\n",
              "    </tr>\n",
              "  </tbody>\n",
              "</table>\n",
              "<p>5 rows × 121 columns</p>\n",
              "</div>"
            ],
            "text/plain": [
              "           acantharia_protist  acantharia_protist_big_center  \\\n",
              "image                                                          \n",
              "1.jpg                0.030023                        0.00039   \n",
              "10.jpg               0.030023                        0.00039   \n",
              "100.jpg              0.030023                        0.00039   \n",
              "1000.jpg             0.030023                        0.00039   \n",
              "10000.jpg            0.030023                        0.00039   \n",
              "\n",
              "           acantharia_protist_halo  amphipods  appendicularian_fritillaridae  \\\n",
              "image                                                                          \n",
              "1.jpg                     0.002175   0.001533                       0.000493   \n",
              "10.jpg                    0.002175   0.001533                       0.000493   \n",
              "100.jpg                   0.002175   0.001533                       0.000493   \n",
              "1000.jpg                  0.002175   0.001533                       0.000493   \n",
              "10000.jpg                 0.002175   0.001533                       0.000493   \n",
              "\n",
              "           appendicularian_s_shape  appendicularian_slight_curve  \\\n",
              "image                                                              \n",
              "1.jpg                     0.022557                      0.018688   \n",
              "10.jpg                    0.022557                      0.018688   \n",
              "100.jpg                   0.022557                      0.018688   \n",
              "1000.jpg                  0.022557                      0.018688   \n",
              "10000.jpg                 0.022557                      0.018688   \n",
              "\n",
              "           appendicularian_straight  artifacts  artifacts_edge  \\\n",
              "image                                                            \n",
              "1.jpg                      0.008578   0.012234        0.005953   \n",
              "10.jpg                     0.008578   0.012234        0.005953   \n",
              "100.jpg                    0.008578   0.012234        0.005953   \n",
              "1000.jpg                   0.008578   0.012234        0.005953   \n",
              "10000.jpg                  0.008578   0.012234        0.005953   \n",
              "\n",
              "                   ...           trichodesmium_tuft  trochophore_larvae  \\\n",
              "image              ...                                                    \n",
              "1.jpg              ...                     0.021413            0.000871   \n",
              "10.jpg             ...                     0.021413            0.000871   \n",
              "100.jpg            ...                     0.021413            0.000871   \n",
              "1000.jpg           ...                     0.021413            0.000871   \n",
              "10000.jpg          ...                     0.021413            0.000871   \n",
              "\n",
              "           tunicate_doliolid  tunicate_doliolid_nurse  tunicate_partial  \\\n",
              "image                                                                     \n",
              "1.jpg               0.014855                 0.012931          0.011088   \n",
              "10.jpg              0.014855                 0.012931          0.011088   \n",
              "100.jpg             0.014855                 0.012931          0.011088   \n",
              "1000.jpg            0.014855                 0.012931          0.011088   \n",
              "10000.jpg           0.014855                 0.012931          0.011088   \n",
              "\n",
              "           tunicate_salp  tunicate_salp_chains  unknown_blobs_and_smudges  \\\n",
              "image                                                                       \n",
              "1.jpg           0.008216              0.002267                   0.010644   \n",
              "10.jpg          0.008216              0.002267                   0.010644   \n",
              "100.jpg         0.008216              0.002267                   0.010644   \n",
              "1000.jpg        0.008216              0.002267                   0.010644   \n",
              "10000.jpg       0.008216              0.002267                   0.010644   \n",
              "\n",
              "           unknown_sticks  unknown_unclassified  \n",
              "image                                            \n",
              "1.jpg            0.005649              0.014549  \n",
              "10.jpg           0.005649              0.014549  \n",
              "100.jpg          0.005649              0.014549  \n",
              "1000.jpg         0.005649              0.014549  \n",
              "10000.jpg        0.005649              0.014549  \n",
              "\n",
              "[5 rows x 121 columns]"
            ]
          },
          "metadata": {
            "tags": []
          },
          "execution_count": 72
        }
      ]
    },
    {
      "metadata": {
        "id": "VGWonxNpJeDr",
        "colab_type": "code",
        "colab": {
          "base_uri": "https://localhost:8080/",
          "height": 185
        },
        "outputId": "157f85c2-0f7b-4e0f-f35c-e87136cc80a4"
      },
      "cell_type": "code",
      "source": [
        "df.to_csv(\"/content/plankton/result.csv\", encoding='utf-8',index=image_index)\n",
        "result2 = pd.read_csv('/content/plankton/result.csv')\n",
        "result2.columns"
      ],
      "execution_count": 73,
      "outputs": [
        {
          "output_type": "execute_result",
          "data": {
            "text/plain": [
              "Index(['image', 'acantharia_protist', 'acantharia_protist_big_center',\n",
              "       'acantharia_protist_halo', 'amphipods', 'appendicularian_fritillaridae',\n",
              "       'appendicularian_s_shape', 'appendicularian_slight_curve',\n",
              "       'appendicularian_straight', 'artifacts',\n",
              "       ...\n",
              "       'trichodesmium_tuft', 'trochophore_larvae', 'tunicate_doliolid',\n",
              "       'tunicate_doliolid_nurse', 'tunicate_partial', 'tunicate_salp',\n",
              "       'tunicate_salp_chains', 'unknown_blobs_and_smudges', 'unknown_sticks',\n",
              "       'unknown_unclassified'],\n",
              "      dtype='object', length=122)"
            ]
          },
          "metadata": {
            "tags": []
          },
          "execution_count": 73
        }
      ]
    },
    {
      "metadata": {
        "id": "37GymmJtGME1",
        "colab_type": "code",
        "colab": {
          "base_uri": "https://localhost:8080/",
          "height": 34
        },
        "outputId": "aec9a6c6-9291-45fd-84ff-6e5fb4b1beb5"
      },
      "cell_type": "code",
      "source": [
        "!kaggle competitions submit -c datasciencebowl -f /content/plankton/result.csv -m \"Adam(lr=0.001) 20 epoch gray scale\""
      ],
      "execution_count": 74,
      "outputs": [
        {
          "output_type": "stream",
          "text": [
            "Successfully submitted to National Data Science Bowl"
          ],
          "name": "stdout"
        }
      ]
    }
  ]
}