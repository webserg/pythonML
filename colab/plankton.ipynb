{
  "nbformat": 4,
  "nbformat_minor": 0,
  "metadata": {
    "colab": {
      "name": "plankton.ipynb",
      "version": "0.3.2",
      "provenance": [],
      "collapsed_sections": []
    },
    "kernelspec": {
      "display_name": "Python 3",
      "language": "python",
      "name": "python3"
    },
    "accelerator": "GPU"
  },
  "cells": [
    {
      "cell_type": "markdown",
      "metadata": {
        "id": "view-in-github",
        "colab_type": "text"
      },
      "source": [
        "[View in Colaboratory](https://colab.research.google.com/github/webserg/pythonML/blob/master/colab/plankton.ipynb)"
      ]
    },
    {
      "metadata": {
        "id": "kEb5hhttwmT4",
        "colab_type": "text"
      },
      "cell_type": "markdown",
      "source": [
        "https://www.kaggle.com/c/datasciencebowl/data\n",
        "http://benanne.github.io/2015/03/17/plankton.html\n"
      ]
    },
    {
      "metadata": {
        "id": "MpjxIAhoxRNB",
        "colab_type": "code",
        "colab": {
          "base_uri": "https://localhost:8080/",
          "height": 269
        },
        "outputId": "34bedd08-7457-43c7-e161-546bdcfe8787"
      },
      "cell_type": "code",
      "source": [
        "!pip install kaggle"
      ],
      "execution_count": 1,
      "outputs": [
        {
          "output_type": "stream",
          "text": [
            "Collecting kaggle\n",
            "  Downloading https://files.pythonhosted.org/packages/74/9b/a6bdc22939c32e1cecc086a972b5e3f7c991b73d74dab0e5d82ff80c5968/kaggle-1.3.8.tar.gz\n",
            "Requirement already satisfied: urllib3>=1.15 in /usr/local/lib/python3.6/dist-packages (from kaggle) (1.22)\n",
            "Requirement already satisfied: six>=1.10 in /usr/local/lib/python3.6/dist-packages (from kaggle) (1.11.0)\n",
            "Requirement already satisfied: certifi in /usr/local/lib/python3.6/dist-packages (from kaggle) (2018.4.16)\n",
            "Requirement already satisfied: python-dateutil in /usr/local/lib/python3.6/dist-packages (from kaggle) (2.5.3)\n",
            "Requirement already satisfied: requests in /usr/local/lib/python3.6/dist-packages (from kaggle) (2.18.4)\n",
            "Requirement already satisfied: idna<2.7,>=2.5 in /usr/local/lib/python3.6/dist-packages (from requests->kaggle) (2.6)\n",
            "Requirement already satisfied: chardet<3.1.0,>=3.0.2 in /usr/local/lib/python3.6/dist-packages (from requests->kaggle) (3.0.4)\n",
            "Building wheels for collected packages: kaggle\n",
            "  Running setup.py bdist_wheel for kaggle ... \u001b[?25l-\b \b\\\b \bdone\n",
            "\u001b[?25h  Stored in directory: /content/.cache/pip/wheels/d6/3c/92/375decc0cf0a65b281db3cca9b8e21dc27b8ebc4d1ce29afca\n",
            "Successfully built kaggle\n",
            "Installing collected packages: kaggle\n",
            "Successfully installed kaggle-1.3.8\n"
          ],
          "name": "stdout"
        }
      ]
    },
    {
      "metadata": {
        "id": "fjEzwoPsyMFR",
        "colab_type": "code",
        "colab": {
          "base_uri": "https://localhost:8080/",
          "height": 34
        },
        "outputId": "6c6f0774-8b1c-47e0-c3e0-ba1c9cf9afdf"
      },
      "cell_type": "code",
      "source": [
        "from googleapiclient.discovery import build\n",
        "import io, os\n",
        "from googleapiclient.http import MediaIoBaseDownload\n",
        "from google.colab import auth\n",
        "\n",
        "auth.authenticate_user()\n",
        "\n",
        "drive_service = build('drive', 'v3')\n",
        "results = drive_service.files().list(\n",
        "        q=\"name = 'kaggle.json'\", fields=\"files(id)\").execute()\n",
        "kaggle_api_key = results.get('files', [])\n",
        "\n",
        "filename = \"/content/.kaggle/kaggle.json\"\n",
        "os.makedirs(os.path.dirname(filename), exist_ok=True)\n",
        "\n",
        "request = drive_service.files().get_media(fileId=kaggle_api_key[0]['id'])\n",
        "fh = io.FileIO(filename, 'wb')\n",
        "downloader = MediaIoBaseDownload(fh, request)\n",
        "done = False\n",
        "while done is False:\n",
        "    status, done = downloader.next_chunk()\n",
        "    print(\"Download %d%%.\" % int(status.progress() * 100))\n",
        "os.chmod(filename, 600)"
      ],
      "execution_count": 2,
      "outputs": [
        {
          "output_type": "stream",
          "text": [
            "Download 100%.\n"
          ],
          "name": "stdout"
        }
      ]
    },
    {
      "metadata": {
        "id": "34urnKPzwmT6",
        "colab_type": "code",
        "colab": {
          "base_uri": "https://localhost:8080/",
          "height": 386
        },
        "outputId": "b4a6b459-cb3c-4b6d-92aa-23e7f9e53160"
      },
      "cell_type": "code",
      "source": [
        "!kaggle competitions list"
      ],
      "execution_count": 3,
      "outputs": [
        {
          "output_type": "stream",
          "text": [
            "ref                                             deadline             category            reward  teamCount  userHasEntered  \r\n",
            "----------------------------------------------  -------------------  ---------------  ---------  ---------  --------------  \r\n",
            "imagenet-object-detection-challenge             2029-12-31 07:00:00  Research         Knowledge          0           False  \r\n",
            "imagenet-object-detection-from-video-challenge  2029-12-31 07:00:00  Research         Knowledge          0           False  \r\n",
            "imagenet-object-localization-challenge          2029-12-31 07:00:00  Research         Knowledge          8           False  \r\n",
            "titanic                                         2020-04-07 00:00:00  Getting Started  Knowledge      11284            True  \r\n",
            "house-prices-advanced-regression-techniques     2020-03-01 23:59:00  Getting Started  Knowledge       5403           False  \r\n",
            "digit-recognizer                                2020-01-07 00:00:00  Getting Started  Knowledge       2504           False  \r\n",
            "competitive-data-science-predict-future-sales   2019-01-01 23:59:00  Playground           Kudos        526           False  \r\n",
            "home-credit-default-risk                        2018-08-29 23:59:00  Featured           $70,000        285           False  \r\n",
            "trackml-particle-identification                 2018-08-13 23:59:00  Featured           $25,000        260           False  \r\n",
            "freesound-audio-tagging                         2018-07-31 23:59:00  Research         Knowledge        183           False  \r\n",
            "whale-categorization-playground                 2018-07-09 23:59:00  Playground           Kudos        290           False  \r\n",
            "avito-demand-prediction                         2018-06-27 23:59:00  Featured           $25,000       1115           False  \r\n",
            "cvpr-2018-autonomous-driving                    2018-06-11 23:59:00  Research            $2,500         86           False  \r\n",
            "inaturalist-2018                                2018-06-04 23:59:00  Research             Kudos         45           False  \r\n",
            "imaterialist-challenge-fashion-2018             2018-05-30 23:59:00  Research            $2,500        169           False  \r\n",
            "imaterialist-challenge-furniture-2018           2018-05-30 23:59:00  Research            $2,500        396            True  \r\n",
            "landmark-retrieval-challenge                    2018-05-22 23:59:00  Research            $2,500        198           False  \r\n",
            "landmark-recognition-challenge                  2018-05-22 23:59:00  Research            $2,500        446           False  \r\n",
            "talkingdata-adtracking-fraud-detection          2018-05-07 23:59:00  Featured           $25,000       3967           False  \r\n",
            "donorschoose-application-screening              2018-04-25 23:59:00  Playground            Swag        581           False  \r\n"
          ],
          "name": "stdout"
        }
      ]
    },
    {
      "metadata": {
        "id": "LVWMF1bmxOOR",
        "colab_type": "code",
        "colab": {
          "base_uri": "https://localhost:8080/",
          "height": 34
        },
        "outputId": "2f99f70e-155f-4012-96d0-21ea0340acb9"
      },
      "cell_type": "code",
      "source": [
        "!pwd"
      ],
      "execution_count": 4,
      "outputs": [
        {
          "output_type": "stream",
          "text": [
            "/content\r\n"
          ],
          "name": "stdout"
        }
      ]
    },
    {
      "metadata": {
        "id": "3Qzd4MG9y8hd",
        "colab_type": "code",
        "colab": {
          "base_uri": "https://localhost:8080/",
          "height": 84
        },
        "outputId": "945d2d03-fd8f-4e9c-a832-499ca5169ca4"
      },
      "cell_type": "code",
      "source": [
        "!ls -l"
      ],
      "execution_count": 8,
      "outputs": [
        {
          "output_type": "stream",
          "text": [
            "total 12\r\n",
            "drwxr-xr-x 1 root root 4096 May 20 15:25 datalab\r\n",
            "drwxr-xr-x 2 root root 4096 May 20 15:25 datasciencebowl\r\n",
            "drwxr-xr-x 2 root root 4096 May 20 15:26 plankton\r\n"
          ],
          "name": "stdout"
        }
      ]
    },
    {
      "metadata": {
        "id": "onMR-_idwmT_",
        "colab_type": "code",
        "colab": {
          "base_uri": "https://localhost:8080/",
          "height": 84
        },
        "outputId": "05b51dc3-9366-4b31-c5c6-80e8cce7c824"
      },
      "cell_type": "code",
      "source": [
        "!kaggle competitions download -c datasciencebowl -p ./plankton"
      ],
      "execution_count": 7,
      "outputs": [
        {
          "output_type": "stream",
          "text": [
            "sampleSubmission.csv.zip: Downloaded 886KB of 886KB to ./plankton\n",
            "train.zip: Downloaded 76MB of 76MB to ./plankton\n",
            "test.zip: Downloaded 347MB of 347MB to ./plankton\n",
            "plankton_identification.pdf: Downloaded 2MB of 2MB to ./plankton\n"
          ],
          "name": "stdout"
        }
      ]
    },
    {
      "metadata": {
        "id": "1yUtCZGX0na5",
        "colab_type": "code",
        "colab": {
          "base_uri": "https://localhost:8080/",
          "height": 34
        },
        "outputId": "aca780ab-4aa6-4dec-bafe-0f9020026b9e"
      },
      "cell_type": "code",
      "source": [
        "%mkdir /content/plankton/validation/\n",
        "%cd /content/plankton/validation/"
      ],
      "execution_count": 12,
      "outputs": [
        {
          "output_type": "stream",
          "text": [
            "/content/plankton/validation\n"
          ],
          "name": "stdout"
        }
      ]
    },
    {
      "metadata": {
        "id": "lbcQ9q-e0pMT",
        "colab_type": "code",
        "colab": {
          "base_uri": "https://localhost:8080/",
          "height": 34
        },
        "outputId": "6fc7a454-ed4e-45bb-e411-42345d7a3485"
      },
      "cell_type": "code",
      "source": [
        "%ls -l"
      ],
      "execution_count": 13,
      "outputs": [
        {
          "output_type": "stream",
          "text": [
            "total 0\r\n"
          ],
          "name": "stdout"
        }
      ]
    },
    {
      "metadata": {
        "id": "-baOY53TwmUA",
        "colab_type": "code",
        "colab": {
          "base_uri": "https://localhost:8080/",
          "height": 34
        },
        "outputId": "db094b82-f6e7-4fc6-82b2-c055ae3a5c3c"
      },
      "cell_type": "code",
      "source": [
        "import zipfile\n",
        "import os\n",
        "data_dir = \"/content/plankton\"\n",
        "path_to_data = \"/content/plankton/train.zip\"\n",
        "path_to_data"
      ],
      "execution_count": 14,
      "outputs": [
        {
          "output_type": "execute_result",
          "data": {
            "text/plain": [
              "'/content/plankton/train.zip'"
            ]
          },
          "metadata": {
            "tags": []
          },
          "execution_count": 14
        }
      ]
    },
    {
      "metadata": {
        "id": "ZIaJb8Y3wmUG",
        "colab_type": "code",
        "colab": {}
      },
      "cell_type": "code",
      "source": [
        "if os.path.exists(data_dir) == False:\n",
        "    os.makedirs(data_dir)"
      ],
      "execution_count": 0,
      "outputs": []
    },
    {
      "metadata": {
        "id": "fGtyia52wmUI",
        "colab_type": "code",
        "colab": {}
      },
      "cell_type": "code",
      "source": [
        "zip_ref = zipfile.ZipFile(path_to_data, 'r')\n",
        "zip_ref.extractall(data_dir)\n",
        "zip_ref.close()"
      ],
      "execution_count": 0,
      "outputs": []
    },
    {
      "metadata": {
        "id": "HxMMJss7wmUL",
        "colab_type": "code",
        "colab": {
          "base_uri": "https://localhost:8080/",
          "height": 34
        },
        "outputId": "890987b0-1999-4239-a2c4-a80b5208e0e6"
      },
      "cell_type": "code",
      "source": [
        "path_to_test = \"/content/plankton/test.zip\"\n",
        "path_to_test"
      ],
      "execution_count": 16,
      "outputs": [
        {
          "output_type": "execute_result",
          "data": {
            "text/plain": [
              "'/content/plankton/test.zip'"
            ]
          },
          "metadata": {
            "tags": []
          },
          "execution_count": 16
        }
      ]
    },
    {
      "metadata": {
        "id": "dA3x2NAV77HX",
        "colab_type": "code",
        "colab": {}
      },
      "cell_type": "code",
      "source": [
        " os.makedirs(data_dir + \"/test\")"
      ],
      "execution_count": 0,
      "outputs": []
    },
    {
      "metadata": {
        "id": "c5EUd30mwmUP",
        "colab_type": "code",
        "colab": {}
      },
      "cell_type": "code",
      "source": [
        "zip_ref = zipfile.ZipFile(path_to_test, 'r')\n",
        "zip_ref.extractall(data_dir + \"/test\")\n",
        "zip_ref.close()"
      ],
      "execution_count": 0,
      "outputs": []
    },
    {
      "metadata": {
        "id": "j36SRCelwmUS",
        "colab_type": "code",
        "colab": {}
      },
      "cell_type": "code",
      "source": [
        "validation_dir = os.path.join(data_dir, 'validation')\n",
        "if os.path.exists(validation_dir) == False:\n",
        "    os.mkdir(validation_dir)"
      ],
      "execution_count": 0,
      "outputs": []
    },
    {
      "metadata": {
        "id": "z_bPVsbswmUU",
        "colab_type": "code",
        "colab": {}
      },
      "cell_type": "code",
      "source": [
        "import shutil\n",
        "train_dir = os.path.join(data_dir, 'train')\n",
        "test_dir = os.path.join(data_dir, 'test')"
      ],
      "execution_count": 0,
      "outputs": []
    },
    {
      "metadata": {
        "id": "uC_QYuZQwmUY",
        "colab_type": "code",
        "colab": {}
      },
      "cell_type": "code",
      "source": [
        "validation_dir = os.path.join(data_dir, 'validation')\n",
        "\n",
        "dir_info = [x for x in os.walk(train_dir)]\n",
        "for dir in dir_info[1:]:\n",
        "    #print(len(dir[2]))\n",
        "    validation_number = int(round(len(dir[2])/10))\n",
        "    #print(validation_number)\n",
        "    #print(dir[2])\n",
        "    #print(dir[2][:validation_number])\n",
        "    dir_name = os.path.split(dir[0])[1]\n",
        "    #print(dir_name)\n",
        "    validation_dir_current = os.path.join(validation_dir, dir_name)\n",
        "    if os.path.exists(validation_dir_current) == False:\n",
        "        os.mkdir(validation_dir_current)\n",
        "    for fname in dir[2][:validation_number]:\n",
        "        src = os.path.join(train_dir, dir_name, fname)\n",
        "        dst = os.path.join(validation_dir_current, fname)\n",
        "        #print(src)\n",
        "        #print(dst)\n",
        "        shutil.move(src, dst)\n"
      ],
      "execution_count": 0,
      "outputs": []
    },
    {
      "metadata": {
        "id": "tCKx3EdtwmUd",
        "colab_type": "code",
        "colab": {}
      },
      "cell_type": "code",
      "source": [
        "if os.path.exists(validation_dir) == False:\n",
        "    print(\"false\")"
      ],
      "execution_count": 0,
      "outputs": []
    },
    {
      "metadata": {
        "id": "v2BkRdn6wmUh",
        "colab_type": "code",
        "colab": {
          "base_uri": "https://localhost:8080/",
          "height": 50
        },
        "outputId": "950e6e4c-9593-4076-8519-51fa4cc5a7b1"
      },
      "cell_type": "code",
      "source": [
        "print('total training categories:', len(os.listdir(train_dir)))\n",
        "cpt = sum([len(files) for r, d, files in os.walk(train_dir)])\n",
        "print('all train images: ',cpt )"
      ],
      "execution_count": 58,
      "outputs": [
        {
          "output_type": "stream",
          "text": [
            "total training categories: 121\n",
            "all train images:  17431\n"
          ],
          "name": "stdout"
        }
      ]
    },
    {
      "metadata": {
        "id": "Jqkh4-HhwmUk",
        "colab_type": "code",
        "colab": {
          "base_uri": "https://localhost:8080/",
          "height": 50
        },
        "outputId": "0b158083-b432-4930-b619-58d2e6d64462"
      },
      "cell_type": "code",
      "source": [
        "print('total validation categories:', len(os.listdir(validation_dir)))\n",
        "cpt = sum([len(files) for r, d, files in os.walk(validation_dir)])\n",
        "print('all validation images: ',cpt )"
      ],
      "execution_count": 24,
      "outputs": [
        {
          "output_type": "stream",
          "text": [
            "total validation categories: 121\n",
            "all validation images:  3032\n"
          ],
          "name": "stdout"
        }
      ]
    },
    {
      "metadata": {
        "id": "qk7Pk934wmUv",
        "colab_type": "code",
        "colab": {
          "base_uri": "https://localhost:8080/",
          "height": 50
        },
        "outputId": "90e9dc6d-c205-4f38-ef1d-c8974af70bbd"
      },
      "cell_type": "code",
      "source": [
        "from keras.preprocessing.image import ImageDataGenerator\n",
        "#train_datagen = ImageDataGenerator(rescale=1./255)\n",
        "train_datagen = ImageDataGenerator(\n",
        "    rescale=1./255,\n",
        "    rotation_range=40,\n",
        "    width_shift_range=0.2,\n",
        "    height_shift_range=0.2,\n",
        "    shear_range=0.2,\n",
        "    zoom_range=0.2,\n",
        "    horizontal_flip=True,\n",
        "    vertical_flip=True,)\n",
        "validation_datagen = ImageDataGenerator(rescale=1./255)\n",
        "\n",
        "train_generator = train_datagen.flow_from_directory(\n",
        "train_dir,\n",
        "target_size=(200, 200),\n",
        "batch_size=20,\n",
        "class_mode='categorical')\n",
        "validation_generator = validation_datagen.flow_from_directory(\n",
        "validation_dir,\n",
        "target_size=(200, 200),\n",
        "batch_size=20,\n",
        "class_mode='categorical')"
      ],
      "execution_count": 50,
      "outputs": [
        {
          "output_type": "stream",
          "text": [
            "Found 27304 images belonging to 121 classes.\n",
            "Found 3032 images belonging to 121 classes.\n"
          ],
          "name": "stdout"
        }
      ]
    },
    {
      "metadata": {
        "id": "TjBQpj1-wmUz",
        "colab_type": "code",
        "colab": {
          "base_uri": "https://localhost:8080/",
          "height": 672
        },
        "outputId": "56a51483-f790-40b0-f27a-3b559ceee06b"
      },
      "cell_type": "code",
      "source": [
        "from keras import layers\n",
        "from keras import models\n",
        "\n",
        "model = models.Sequential()\n",
        "model.add(layers.Conv2D(32, (3, 3), activation='relu',\n",
        "                        input_shape=(200, 200, 3)))\n",
        "model.add(layers.Conv2D(16, (3, 3), activation='relu'))\n",
        "model.add(layers.MaxPooling2D((3, 3),strides=2))\n",
        "model.add(layers.Conv2D(64, (3, 3), activation='relu'))\n",
        "model.add(layers.Conv2D(32, (3, 3), activation='relu'))\n",
        "model.add(layers.MaxPooling2D((3, 3),strides=2))\n",
        "model.add(layers.Conv2D(128, (3, 3), activation='relu'))\n",
        "model.add(layers.Conv2D(128, (3, 3), activation='relu'))\n",
        "model.add(layers.Conv2D(64, (3, 3), activation='relu'))\n",
        "model.add(layers.MaxPooling2D((3, 3),strides=2))\n",
        "model.add(layers.Conv2D(128, (3, 3), activation='relu'))\n",
        "model.add(layers.MaxPooling2D((2, 2)))\n",
        "model.add(layers.Flatten())\n",
        "model.add(layers.Dropout(0.5))\n",
        "model.add(layers.Dense(512, activation='relu'))\n",
        "model.add(layers.Dense(121, activation='softmax'))\n",
        "model.summary()"
      ],
      "execution_count": 30,
      "outputs": [
        {
          "output_type": "stream",
          "text": [
            "_________________________________________________________________\n",
            "Layer (type)                 Output Shape              Param #   \n",
            "=================================================================\n",
            "conv2d_9 (Conv2D)            (None, 198, 198, 32)      896       \n",
            "_________________________________________________________________\n",
            "conv2d_10 (Conv2D)           (None, 196, 196, 16)      4624      \n",
            "_________________________________________________________________\n",
            "max_pooling2d_5 (MaxPooling2 (None, 97, 97, 16)        0         \n",
            "_________________________________________________________________\n",
            "conv2d_11 (Conv2D)           (None, 95, 95, 64)        9280      \n",
            "_________________________________________________________________\n",
            "conv2d_12 (Conv2D)           (None, 93, 93, 32)        18464     \n",
            "_________________________________________________________________\n",
            "max_pooling2d_6 (MaxPooling2 (None, 46, 46, 32)        0         \n",
            "_________________________________________________________________\n",
            "conv2d_13 (Conv2D)           (None, 44, 44, 128)       36992     \n",
            "_________________________________________________________________\n",
            "conv2d_14 (Conv2D)           (None, 42, 42, 128)       147584    \n",
            "_________________________________________________________________\n",
            "conv2d_15 (Conv2D)           (None, 40, 40, 64)        73792     \n",
            "_________________________________________________________________\n",
            "max_pooling2d_7 (MaxPooling2 (None, 19, 19, 64)        0         \n",
            "_________________________________________________________________\n",
            "conv2d_16 (Conv2D)           (None, 17, 17, 128)       73856     \n",
            "_________________________________________________________________\n",
            "max_pooling2d_8 (MaxPooling2 (None, 8, 8, 128)         0         \n",
            "_________________________________________________________________\n",
            "flatten_2 (Flatten)          (None, 8192)              0         \n",
            "_________________________________________________________________\n",
            "dropout_2 (Dropout)          (None, 8192)              0         \n",
            "_________________________________________________________________\n",
            "dense_3 (Dense)              (None, 512)               4194816   \n",
            "_________________________________________________________________\n",
            "dense_4 (Dense)              (None, 121)               62073     \n",
            "=================================================================\n",
            "Total params: 4,622,377\n",
            "Trainable params: 4,622,377\n",
            "Non-trainable params: 0\n",
            "_________________________________________________________________\n"
          ],
          "name": "stdout"
        }
      ]
    },
    {
      "metadata": {
        "id": "NXcd6YDlwmU2",
        "colab_type": "code",
        "colab": {}
      },
      "cell_type": "code",
      "source": [
        "from keras import optimizers\n",
        "model.compile(loss='categorical_crossentropy',\n",
        "optimizer=optimizers.Adam(lr=0.001),\n",
        "metrics=['acc'])"
      ],
      "execution_count": 0,
      "outputs": []
    },
    {
      "metadata": {
        "id": "gIxgTWSvwmU5",
        "colab_type": "code",
        "colab": {
          "base_uri": "https://localhost:8080/",
          "height": 1717
        },
        "outputId": "6090a19a-15fa-4827-8d34-dac7758c0b56"
      },
      "cell_type": "code",
      "source": [
        "history = model.fit_generator(\n",
        "train_generator,\n",
        "steps_per_epoch=150,\n",
        "epochs=50,\n",
        "validation_data=validation_generator,\n",
        "validation_steps=50)\n",
        "model.save('/content/plankton/plankton_1.h5')"
      ],
      "execution_count": 32,
      "outputs": [
        {
          "output_type": "stream",
          "text": [
            "Epoch 1/50\n",
            "150/150 [==============================] - 44s 294ms/step - loss: 4.3089 - acc: 0.0567 - val_loss: 4.1604 - val_acc: 0.0460\n",
            "Epoch 2/50\n",
            "150/150 [==============================] - 40s 268ms/step - loss: 4.2327 - acc: 0.0640 - val_loss: 4.1590 - val_acc: 0.0460\n",
            "Epoch 3/50\n",
            "145/150 [============================>.] - ETA: 1s - loss: 4.1953 - acc: 0.0624"
          ],
          "name": "stdout"
        },
        {
          "output_type": "stream",
          "text": [
            "150/150 [==============================] - 41s 271ms/step - loss: 4.1910 - acc: 0.0623 - val_loss: 4.1485 - val_acc: 0.0460\n",
            "Epoch 4/50\n",
            "150/150 [==============================] - 41s 271ms/step - loss: 4.1973 - acc: 0.0543 - val_loss: 4.1473 - val_acc: 0.0460\n",
            "Epoch 5/50\n",
            "150/150 [==============================] - 41s 270ms/step - loss: 4.1940 - acc: 0.0547 - val_loss: 4.1609 - val_acc: 0.0800\n",
            "Epoch 6/50\n",
            " 29/150 [====>.........................] - ETA: 26s - loss: 4.1498 - acc: 0.0741"
          ],
          "name": "stdout"
        },
        {
          "output_type": "stream",
          "text": [
            "150/150 [==============================] - 41s 273ms/step - loss: 4.1814 - acc: 0.0677 - val_loss: 4.1551 - val_acc: 0.0800\n",
            "Epoch 7/50\n",
            "150/150 [==============================] - 41s 270ms/step - loss: 4.1471 - acc: 0.0623 - val_loss: 4.1448 - val_acc: 0.0800\n",
            "Epoch 8/50\n",
            "150/150 [==============================] - 40s 267ms/step - loss: 4.1771 - acc: 0.0587 - val_loss: 4.1392 - val_acc: 0.0800\n",
            "Epoch 9/50\n",
            " 11/150 [=>............................] - ETA: 20s - loss: 4.1346 - acc: 0.0818"
          ],
          "name": "stdout"
        },
        {
          "output_type": "stream",
          "text": [
            "150/150 [==============================] - 40s 268ms/step - loss: 4.1855 - acc: 0.0653 - val_loss: 4.1534 - val_acc: 0.0460\n",
            "Epoch 10/50\n",
            "150/150 [==============================] - 41s 270ms/step - loss: 4.1528 - acc: 0.0633 - val_loss: 4.1454 - val_acc: 0.0460\n",
            "Epoch 11/50\n",
            "150/150 [==============================] - 40s 270ms/step - loss: 4.1869 - acc: 0.0623 - val_loss: 4.1391 - val_acc: 0.0800\n",
            "Epoch 12/50\n",
            "  7/150 [>.............................] - ETA: 21s - loss: 4.2590 - acc: 0.0429"
          ],
          "name": "stdout"
        },
        {
          "output_type": "stream",
          "text": [
            "150/150 [==============================] - 41s 271ms/step - loss: 4.1750 - acc: 0.0623 - val_loss: 4.1503 - val_acc: 0.0460\n",
            "Epoch 13/50\n",
            "150/150 [==============================] - 41s 273ms/step - loss: 4.1735 - acc: 0.0627 - val_loss: 4.1441 - val_acc: 0.0460\n",
            "Epoch 14/50\n",
            "150/150 [==============================] - 41s 271ms/step - loss: 4.1619 - acc: 0.0657 - val_loss: 4.1389 - val_acc: 0.0460\n",
            "Epoch 15/50\n",
            "  6/150 [>.............................] - ETA: 21s - loss: 4.1403 - acc: 0.0750"
          ],
          "name": "stdout"
        },
        {
          "output_type": "stream",
          "text": [
            "150/150 [==============================] - 41s 270ms/step - loss: 4.1753 - acc: 0.0657 - val_loss: 4.1419 - val_acc: 0.0460\n",
            "Epoch 16/50\n",
            "150/150 [==============================] - 41s 271ms/step - loss: 4.1642 - acc: 0.0670 - val_loss: 4.1362 - val_acc: 0.0800\n",
            "Epoch 17/50\n",
            "150/150 [==============================] - 41s 270ms/step - loss: 4.1721 - acc: 0.0640 - val_loss: 4.1349 - val_acc: 0.0800\n",
            "Epoch 18/50\n",
            "  6/150 [>.............................] - ETA: 21s - loss: 4.1115 - acc: 0.0667"
          ],
          "name": "stdout"
        },
        {
          "output_type": "stream",
          "text": [
            "150/150 [==============================] - 41s 271ms/step - loss: 4.1834 - acc: 0.0577 - val_loss: 4.1400 - val_acc: 0.0800\n",
            "Epoch 19/50\n",
            "150/150 [==============================] - 41s 272ms/step - loss: 4.1800 - acc: 0.0647 - val_loss: 4.1343 - val_acc: 0.0800\n",
            "Epoch 20/50\n",
            "150/150 [==============================] - 41s 271ms/step - loss: 4.1712 - acc: 0.0647 - val_loss: 4.1337 - val_acc: 0.0460\n",
            "Epoch 21/50\n",
            "  6/150 [>.............................] - ETA: 21s - loss: 4.1106 - acc: 0.1083"
          ],
          "name": "stdout"
        },
        {
          "output_type": "stream",
          "text": [
            "150/150 [==============================] - 41s 271ms/step - loss: 4.1504 - acc: 0.0723 - val_loss: 4.1420 - val_acc: 0.0800\n",
            "Epoch 22/50\n",
            "150/150 [==============================] - 41s 271ms/step - loss: 4.1931 - acc: 0.0593 - val_loss: 4.1375 - val_acc: 0.0460\n",
            "Epoch 23/50\n",
            "150/150 [==============================] - 42s 282ms/step - loss: 4.1674 - acc: 0.0607 - val_loss: 4.1410 - val_acc: 0.0460\n",
            "Epoch 24/50\n",
            "  6/150 [>.............................] - ETA: 21s - loss: 3.9732 - acc: 0.0667"
          ],
          "name": "stdout"
        },
        {
          "output_type": "stream",
          "text": [
            "150/150 [==============================] - 41s 274ms/step - loss: 4.1891 - acc: 0.0620 - val_loss: 4.1374 - val_acc: 0.0460\n",
            "Epoch 25/50\n",
            "150/150 [==============================] - 41s 272ms/step - loss: 4.1841 - acc: 0.0650 - val_loss: 4.1442 - val_acc: 0.0460\n",
            "Epoch 26/50\n",
            "150/150 [==============================] - 41s 270ms/step - loss: 4.1528 - acc: 0.0673 - val_loss: 4.1386 - val_acc: 0.0800\n",
            "Epoch 27/50\n",
            "  6/150 [>.............................] - ETA: 21s - loss: 4.2504 - acc: 0.0667"
          ],
          "name": "stdout"
        },
        {
          "output_type": "stream",
          "text": [
            "150/150 [==============================] - 54s 362ms/step - loss: 4.1556 - acc: 0.0647 - val_loss: 4.1364 - val_acc: 0.0460\n",
            "Epoch 28/50\n",
            "150/150 [==============================] - 68s 452ms/step - loss: 4.1683 - acc: 0.0633 - val_loss: 4.1450 - val_acc: 0.0460\n",
            "Epoch 29/50\n",
            "150/150 [==============================] - 68s 451ms/step - loss: 4.1718 - acc: 0.0693 - val_loss: 4.1340 - val_acc: 0.0800\n",
            "Epoch 30/50\n",
            "  4/150 [..............................] - ETA: 29s - loss: 4.2275 - acc: 0.0500"
          ],
          "name": "stdout"
        },
        {
          "output_type": "stream",
          "text": [
            "150/150 [==============================] - 62s 411ms/step - loss: 4.1586 - acc: 0.0623 - val_loss: 4.1410 - val_acc: 0.0800\n",
            "Epoch 31/50\n",
            "150/150 [==============================] - 41s 274ms/step - loss: 4.1845 - acc: 0.0627 - val_loss: 4.1460 - val_acc: 0.0460\n",
            "Epoch 32/50\n",
            "150/150 [==============================] - 41s 273ms/step - loss: 4.1507 - acc: 0.0663 - val_loss: 4.1265 - val_acc: 0.0460\n",
            "Epoch 33/50\n",
            "  6/150 [>.............................] - ETA: 21s - loss: 4.1333 - acc: 0.0667"
          ],
          "name": "stdout"
        },
        {
          "output_type": "stream",
          "text": [
            "150/150 [==============================] - 41s 273ms/step - loss: 4.1827 - acc: 0.0640 - val_loss: 4.1373 - val_acc: 0.0800\n",
            "Epoch 34/50\n",
            "150/150 [==============================] - 41s 273ms/step - loss: 4.1759 - acc: 0.0663 - val_loss: 4.1321 - val_acc: 0.0460\n",
            "Epoch 35/50\n",
            "150/150 [==============================] - 41s 277ms/step - loss: 4.1372 - acc: 0.0650 - val_loss: 4.1384 - val_acc: 0.0800\n",
            "Epoch 36/50\n",
            "  6/150 [>.............................] - ETA: 20s - loss: 4.2633 - acc: 0.0583"
          ],
          "name": "stdout"
        },
        {
          "output_type": "stream",
          "text": [
            "150/150 [==============================] - 41s 274ms/step - loss: 4.1925 - acc: 0.0627 - val_loss: 4.1415 - val_acc: 0.0460\n",
            "Epoch 37/50\n",
            "150/150 [==============================] - 41s 275ms/step - loss: 4.1661 - acc: 0.0600 - val_loss: 4.1381 - val_acc: 0.0460\n",
            "Epoch 38/50\n",
            "150/150 [==============================] - 41s 275ms/step - loss: 4.1767 - acc: 0.0657 - val_loss: 4.1384 - val_acc: 0.0800\n",
            "Epoch 39/50\n",
            "  6/150 [>.............................] - ETA: 21s - loss: 4.1354 - acc: 0.0667"
          ],
          "name": "stdout"
        },
        {
          "output_type": "stream",
          "text": [
            "150/150 [==============================] - 41s 273ms/step - loss: 4.1551 - acc: 0.0680 - val_loss: 4.1457 - val_acc: 0.0460\n",
            "Epoch 40/50\n",
            "150/150 [==============================] - 41s 274ms/step - loss: 4.1699 - acc: 0.0647 - val_loss: 4.1461 - val_acc: 0.0460\n",
            "Epoch 41/50\n",
            "150/150 [==============================] - 41s 273ms/step - loss: 4.1446 - acc: 0.0657 - val_loss: 4.1465 - val_acc: 0.0460\n",
            "Epoch 42/50\n",
            "  6/150 [>.............................] - ETA: 20s - loss: 4.1923 - acc: 0.0500"
          ],
          "name": "stdout"
        },
        {
          "output_type": "stream",
          "text": [
            "150/150 [==============================] - 41s 274ms/step - loss: 4.1793 - acc: 0.0640 - val_loss: 4.1406 - val_acc: 0.0460\n",
            "Epoch 43/50\n",
            "150/150 [==============================] - 41s 273ms/step - loss: 4.1838 - acc: 0.0620 - val_loss: 4.1408 - val_acc: 0.0460\n",
            "Epoch 44/50\n",
            "150/150 [==============================] - 41s 271ms/step - loss: 4.1697 - acc: 0.0600 - val_loss: 4.1310 - val_acc: 0.0800\n",
            "Epoch 45/50\n",
            "  6/150 [>.............................] - ETA: 20s - loss: 4.1535 - acc: 0.0917"
          ],
          "name": "stdout"
        },
        {
          "output_type": "stream",
          "text": [
            "150/150 [==============================] - 41s 272ms/step - loss: 4.1712 - acc: 0.0660 - val_loss: 4.1310 - val_acc: 0.0800\n",
            "Epoch 46/50\n",
            "150/150 [==============================] - 41s 273ms/step - loss: 4.1486 - acc: 0.0703 - val_loss: 4.1296 - val_acc: 0.0800\n",
            "Epoch 47/50\n",
            "150/150 [==============================] - 41s 273ms/step - loss: 4.2112 - acc: 0.0613 - val_loss: 4.1360 - val_acc: 0.0460\n",
            "Epoch 48/50\n",
            "  6/150 [>.............................] - ETA: 21s - loss: 4.1355 - acc: 0.0417"
          ],
          "name": "stdout"
        },
        {
          "output_type": "stream",
          "text": [
            "150/150 [==============================] - 41s 274ms/step - loss: 4.1616 - acc: 0.0690 - val_loss: 4.1508 - val_acc: 0.0460\n",
            "Epoch 49/50\n",
            "150/150 [==============================] - 41s 274ms/step - loss: 4.1760 - acc: 0.0603 - val_loss: 4.1401 - val_acc: 0.0800\n",
            "Epoch 50/50\n",
            "150/150 [==============================] - 41s 272ms/step - loss: 4.1304 - acc: 0.0727 - val_loss: 4.1363 - val_acc: 0.0800\n"
          ],
          "name": "stdout"
        }
      ]
    },
    {
      "metadata": {
        "id": "exNUDYpMwmU-",
        "colab_type": "code",
        "colab": {
          "base_uri": "https://localhost:8080/",
          "height": 706
        },
        "outputId": "0cf6c59a-c07a-49c0-f50b-d2b4dc7c7918"
      },
      "cell_type": "code",
      "source": [
        "import matplotlib.pyplot as plt\n",
        "\n",
        "acc = history.history['acc']\n",
        "val_acc = history.history['val_acc']\n",
        "loss = history.history['loss']\n",
        "val_loss = history.history['val_loss']\n",
        "\n",
        "epochs = range(len(acc))\n",
        "\n",
        "plt.plot(epochs, acc, 'bo', label='Training acc')\n",
        "plt.plot(epochs, val_acc, 'b', label='Validation acc')\n",
        "plt.title('Training and validation accuracy')\n",
        "plt.legend()\n",
        "\n",
        "plt.figure()\n",
        "\n",
        "plt.plot(epochs, loss, 'bo', label='Training loss')\n",
        "plt.plot(epochs, val_loss, 'b', label='Validation loss')\n",
        "plt.title('Training and validation loss')\n",
        "plt.legend()\n",
        "\n",
        "plt.show()"
      ],
      "execution_count": 33,
      "outputs": [
        {
          "output_type": "display_data",
          "data": {
            "image/png": "[encoded data removed]",
            "text/plain": [
              "<matplotlib.figure.Figure at 0x7fb51d4ba080>"
            ]
          },
          "metadata": {
            "tags": []
          }
        },
        {
          "output_type": "display_data",
          "data": {
            "image/png": "[encoded data removed]",
            "text/plain": [
              "<matplotlib.figure.Figure at 0x7fb55aad32e8>"
            ]
          },
          "metadata": {
            "tags": []
          }
        }
      ]
    },
    {
      "metadata": {
        "id": "AUV0kenlwmVC",
        "colab_type": "code",
        "colab": {
          "base_uri": "https://localhost:8080/",
          "height": 34
        },
        "outputId": "6501b941-8ae4-415a-8f6e-597e33babc35"
      },
      "cell_type": "code",
      "source": [
        "print(history.history.keys())"
      ],
      "execution_count": 41,
      "outputs": [
        {
          "output_type": "stream",
          "text": [
            "dict_keys(['val_loss', 'val_acc', 'loss', 'acc'])\n"
          ],
          "name": "stdout"
        }
      ]
    },
    {
      "metadata": {
        "id": "HinDSdTmwmVF",
        "colab_type": "code",
        "colab": {
          "base_uri": "https://localhost:8080/",
          "height": 50
        },
        "outputId": "89397486-4744-4a2b-faaa-3b2ac360687c"
      },
      "cell_type": "code",
      "source": [
        "print(test_dir)\n",
        "from keras.preprocessing.image import ImageDataGenerator\n",
        "test_datagen = ImageDataGenerator(rescale=1./255)\n",
        "test_generator = test_datagen.flow_from_directory(\n",
        "        test_dir,\n",
        "        target_size=(200, 200),\n",
        "        batch_size=20,\n",
        "        classes=None,\n",
        "        class_mode=None)\n"
      ],
      "execution_count": 34,
      "outputs": [
        {
          "output_type": "stream",
          "text": [
            "/content/plankton/test\n",
            "Found 130400 images belonging to 1 classes.\n"
          ],
          "name": "stdout"
        }
      ]
    },
    {
      "metadata": {
        "id": "Rw-6YQsIwmVJ",
        "colab_type": "code",
        "colab": {}
      },
      "cell_type": "code",
      "source": [
        "from keras.models import load_model\n",
        "saved_model = load_model('plankton_1.h5')"
      ],
      "execution_count": 0,
      "outputs": []
    },
    {
      "metadata": {
        "id": "j8tNaqdswmVK",
        "colab_type": "code",
        "colab": {}
      },
      "cell_type": "code",
      "source": [
        "import numpy as np\n",
        "res = model.predict_generator(test_generator)\n"
      ],
      "execution_count": 0,
      "outputs": []
    },
    {
      "metadata": {
        "id": "AKdA5BlPwmVM",
        "colab_type": "code",
        "colab": {
          "base_uri": "https://localhost:8080/",
          "height": 34
        },
        "outputId": "d37cb99b-01f9-4cbd-9979-dd266be27633"
      },
      "cell_type": "code",
      "source": [
        "len(test_generator.filenames)"
      ],
      "execution_count": 30,
      "outputs": [
        {
          "output_type": "execute_result",
          "data": {
            "text/plain": [
              "130400"
            ]
          },
          "metadata": {
            "tags": []
          },
          "execution_count": 30
        }
      ]
    },
    {
      "metadata": {
        "id": "Yj1F-b2HZJDg",
        "colab_type": "code",
        "colab": {
          "base_uri": "https://localhost:8080/",
          "height": 34
        },
        "outputId": "2c3992d1-e168-4285-b9a8-8256ae4c2ae6"
      },
      "cell_type": "code",
      "source": [
        "res[100][5]"
      ],
      "execution_count": 60,
      "outputs": [
        {
          "output_type": "execute_result",
          "data": {
            "text/plain": [
              "0.021835314"
            ]
          },
          "metadata": {
            "tags": []
          },
          "execution_count": 60
        }
      ]
    },
    {
      "metadata": {
        "id": "0RyIXc9TwmV7",
        "colab_type": "code",
        "colab": {
          "base_uri": "https://localhost:8080/",
          "height": 244
        },
        "outputId": "efad6f47-9037-481f-cf61-02274991bce5"
      },
      "cell_type": "code",
      "source": [
        "import pandas as pd\n",
        "image_index = [x.replace(\"test/\",\"\") for x in test_generator.filenames]\n",
        "df = pd.DataFrame(data=res, columns=[*train_generator.class_indices],index=image_index)\n",
        "df.head()"
      ],
      "execution_count": 42,
      "outputs": [
        {
          "output_type": "execute_result",
          "data": {
            "text/html": [
              "<div>\n",
              "<style scoped>\n",
              "    .dataframe tbody tr th:only-of-type {\n",
              "        vertical-align: middle;\n",
              "    }\n",
              "\n",
              "    .dataframe tbody tr th {\n",
              "        vertical-align: top;\n",
              "    }\n",
              "\n",
              "    .dataframe thead th {\n",
              "        text-align: right;\n",
              "    }\n",
              "</style>\n",
              "<table border=\"1\" class=\"dataframe\">\n",
              "  <thead>\n",
              "    <tr style=\"text-align: right;\">\n",
              "      <th></th>\n",
              "      <th>acantharia_protist</th>\n",
              "      <th>acantharia_protist_big_center</th>\n",
              "      <th>acantharia_protist_halo</th>\n",
              "      <th>amphipods</th>\n",
              "      <th>appendicularian_fritillaridae</th>\n",
              "      <th>appendicularian_s_shape</th>\n",
              "      <th>appendicularian_slight_curve</th>\n",
              "      <th>appendicularian_straight</th>\n",
              "      <th>artifacts</th>\n",
              "      <th>artifacts_edge</th>\n",
              "      <th>...</th>\n",
              "      <th>trichodesmium_tuft</th>\n",
              "      <th>trochophore_larvae</th>\n",
              "      <th>tunicate_doliolid</th>\n",
              "      <th>tunicate_doliolid_nurse</th>\n",
              "      <th>tunicate_partial</th>\n",
              "      <th>tunicate_salp</th>\n",
              "      <th>tunicate_salp_chains</th>\n",
              "      <th>unknown_blobs_and_smudges</th>\n",
              "      <th>unknown_sticks</th>\n",
              "      <th>unknown_unclassified</th>\n",
              "    </tr>\n",
              "  </thead>\n",
              "  <tbody>\n",
              "    <tr>\n",
              "      <th>1.jpg</th>\n",
              "      <td>0.028449</td>\n",
              "      <td>0.000611</td>\n",
              "      <td>0.002634</td>\n",
              "      <td>0.001587</td>\n",
              "      <td>0.000595</td>\n",
              "      <td>0.021835</td>\n",
              "      <td>0.019459</td>\n",
              "      <td>0.00934</td>\n",
              "      <td>0.011754</td>\n",
              "      <td>0.006463</td>\n",
              "      <td>...</td>\n",
              "      <td>0.019762</td>\n",
              "      <td>0.001103</td>\n",
              "      <td>0.01486</td>\n",
              "      <td>0.01423</td>\n",
              "      <td>0.01126</td>\n",
              "      <td>0.00779</td>\n",
              "      <td>0.002407</td>\n",
              "      <td>0.009504</td>\n",
              "      <td>0.005515</td>\n",
              "      <td>0.016659</td>\n",
              "    </tr>\n",
              "    <tr>\n",
              "      <th>10.jpg</th>\n",
              "      <td>0.028449</td>\n",
              "      <td>0.000611</td>\n",
              "      <td>0.002634</td>\n",
              "      <td>0.001587</td>\n",
              "      <td>0.000595</td>\n",
              "      <td>0.021835</td>\n",
              "      <td>0.019459</td>\n",
              "      <td>0.00934</td>\n",
              "      <td>0.011754</td>\n",
              "      <td>0.006463</td>\n",
              "      <td>...</td>\n",
              "      <td>0.019762</td>\n",
              "      <td>0.001103</td>\n",
              "      <td>0.01486</td>\n",
              "      <td>0.01423</td>\n",
              "      <td>0.01126</td>\n",
              "      <td>0.00779</td>\n",
              "      <td>0.002407</td>\n",
              "      <td>0.009504</td>\n",
              "      <td>0.005515</td>\n",
              "      <td>0.016659</td>\n",
              "    </tr>\n",
              "    <tr>\n",
              "      <th>100.jpg</th>\n",
              "      <td>0.028449</td>\n",
              "      <td>0.000611</td>\n",
              "      <td>0.002634</td>\n",
              "      <td>0.001587</td>\n",
              "      <td>0.000595</td>\n",
              "      <td>0.021835</td>\n",
              "      <td>0.019459</td>\n",
              "      <td>0.00934</td>\n",
              "      <td>0.011754</td>\n",
              "      <td>0.006463</td>\n",
              "      <td>...</td>\n",
              "      <td>0.019762</td>\n",
              "      <td>0.001103</td>\n",
              "      <td>0.01486</td>\n",
              "      <td>0.01423</td>\n",
              "      <td>0.01126</td>\n",
              "      <td>0.00779</td>\n",
              "      <td>0.002407</td>\n",
              "      <td>0.009504</td>\n",
              "      <td>0.005515</td>\n",
              "      <td>0.016659</td>\n",
              "    </tr>\n",
              "    <tr>\n",
              "      <th>1000.jpg</th>\n",
              "      <td>0.028449</td>\n",
              "      <td>0.000611</td>\n",
              "      <td>0.002634</td>\n",
              "      <td>0.001587</td>\n",
              "      <td>0.000595</td>\n",
              "      <td>0.021835</td>\n",
              "      <td>0.019459</td>\n",
              "      <td>0.00934</td>\n",
              "      <td>0.011754</td>\n",
              "      <td>0.006463</td>\n",
              "      <td>...</td>\n",
              "      <td>0.019762</td>\n",
              "      <td>0.001103</td>\n",
              "      <td>0.01486</td>\n",
              "      <td>0.01423</td>\n",
              "      <td>0.01126</td>\n",
              "      <td>0.00779</td>\n",
              "      <td>0.002407</td>\n",
              "      <td>0.009504</td>\n",
              "      <td>0.005515</td>\n",
              "      <td>0.016659</td>\n",
              "    </tr>\n",
              "    <tr>\n",
              "      <th>10000.jpg</th>\n",
              "      <td>0.028449</td>\n",
              "      <td>0.000611</td>\n",
              "      <td>0.002634</td>\n",
              "      <td>0.001587</td>\n",
              "      <td>0.000595</td>\n",
              "      <td>0.021835</td>\n",
              "      <td>0.019459</td>\n",
              "      <td>0.00934</td>\n",
              "      <td>0.011754</td>\n",
              "      <td>0.006463</td>\n",
              "      <td>...</td>\n",
              "      <td>0.019762</td>\n",
              "      <td>0.001103</td>\n",
              "      <td>0.01486</td>\n",
              "      <td>0.01423</td>\n",
              "      <td>0.01126</td>\n",
              "      <td>0.00779</td>\n",
              "      <td>0.002407</td>\n",
              "      <td>0.009504</td>\n",
              "      <td>0.005515</td>\n",
              "      <td>0.016659</td>\n",
              "    </tr>\n",
              "  </tbody>\n",
              "</table>\n",
              "<p>5 rows × 121 columns</p>\n",
              "</div>"
            ],
            "text/plain": [
              "           acantharia_protist  acantharia_protist_big_center  \\\n",
              "1.jpg                0.028449                       0.000611   \n",
              "10.jpg               0.028449                       0.000611   \n",
              "100.jpg              0.028449                       0.000611   \n",
              "1000.jpg             0.028449                       0.000611   \n",
              "10000.jpg            0.028449                       0.000611   \n",
              "\n",
              "           acantharia_protist_halo  amphipods  appendicularian_fritillaridae  \\\n",
              "1.jpg                     0.002634   0.001587                       0.000595   \n",
              "10.jpg                    0.002634   0.001587                       0.000595   \n",
              "100.jpg                   0.002634   0.001587                       0.000595   \n",
              "1000.jpg                  0.002634   0.001587                       0.000595   \n",
              "10000.jpg                 0.002634   0.001587                       0.000595   \n",
              "\n",
              "           appendicularian_s_shape  appendicularian_slight_curve  \\\n",
              "1.jpg                     0.021835                      0.019459   \n",
              "10.jpg                    0.021835                      0.019459   \n",
              "100.jpg                   0.021835                      0.019459   \n",
              "1000.jpg                  0.021835                      0.019459   \n",
              "10000.jpg                 0.021835                      0.019459   \n",
              "\n",
              "           appendicularian_straight  artifacts  artifacts_edge  \\\n",
              "1.jpg                       0.00934   0.011754        0.006463   \n",
              "10.jpg                      0.00934   0.011754        0.006463   \n",
              "100.jpg                     0.00934   0.011754        0.006463   \n",
              "1000.jpg                    0.00934   0.011754        0.006463   \n",
              "10000.jpg                   0.00934   0.011754        0.006463   \n",
              "\n",
              "                   ...           trichodesmium_tuft  trochophore_larvae  \\\n",
              "1.jpg              ...                     0.019762            0.001103   \n",
              "10.jpg             ...                     0.019762            0.001103   \n",
              "100.jpg            ...                     0.019762            0.001103   \n",
              "1000.jpg           ...                     0.019762            0.001103   \n",
              "10000.jpg          ...                     0.019762            0.001103   \n",
              "\n",
              "           tunicate_doliolid  tunicate_doliolid_nurse  tunicate_partial  \\\n",
              "1.jpg                0.01486                  0.01423           0.01126   \n",
              "10.jpg               0.01486                  0.01423           0.01126   \n",
              "100.jpg              0.01486                  0.01423           0.01126   \n",
              "1000.jpg             0.01486                  0.01423           0.01126   \n",
              "10000.jpg            0.01486                  0.01423           0.01126   \n",
              "\n",
              "           tunicate_salp  tunicate_salp_chains  unknown_blobs_and_smudges  \\\n",
              "1.jpg            0.00779              0.002407                   0.009504   \n",
              "10.jpg           0.00779              0.002407                   0.009504   \n",
              "100.jpg          0.00779              0.002407                   0.009504   \n",
              "1000.jpg         0.00779              0.002407                   0.009504   \n",
              "10000.jpg        0.00779              0.002407                   0.009504   \n",
              "\n",
              "           unknown_sticks  unknown_unclassified  \n",
              "1.jpg            0.005515              0.016659  \n",
              "10.jpg           0.005515              0.016659  \n",
              "100.jpg          0.005515              0.016659  \n",
              "1000.jpg         0.005515              0.016659  \n",
              "10000.jpg        0.005515              0.016659  \n",
              "\n",
              "[5 rows x 121 columns]"
            ]
          },
          "metadata": {
            "tags": []
          },
          "execution_count": 42
        }
      ]
    },
    {
      "metadata": {
        "id": "rR_flPQ1wmV-",
        "colab_type": "code",
        "colab": {
          "base_uri": "https://localhost:8080/",
          "height": 274
        },
        "outputId": "a9804150-a874-482c-bc43-534d31f3504e"
      },
      "cell_type": "code",
      "source": [
        "#header = \"acantharia_protist_big_center,acantharia_protist_halo,acantharia_protist,amphipods,appendicularian_fritillaridae,appendicularian_s_shape,appendicularian_slight_curve,appendicularian_straight,artifacts_edge,artifacts,chaetognath_non_sagitta,chaetognath_other,chaetognath_sagitta,chordate_type1,copepod_calanoid_eggs,copepod_calanoid_eucalanus,copepod_calanoid_flatheads,copepod_calanoid_frillyAntennae,copepod_calanoid_large_side_antennatucked,copepod_calanoid_large,copepod_calanoid_octomoms,copepod_calanoid_small_longantennae,copepod_calanoid,copepod_cyclopoid_copilia,copepod_cyclopoid_oithona_eggs,copepod_cyclopoid_oithona,copepod_other,crustacean_other,ctenophore_cestid,ctenophore_cydippid_no_tentacles,ctenophore_cydippid_tentacles,ctenophore_lobate,decapods,detritus_blob,detritus_filamentous,detritus_other,diatom_chain_string,diatom_chain_tube,echinoderm_larva_pluteus_brittlestar,echinoderm_larva_pluteus_early,echinoderm_larva_pluteus_typeC,echinoderm_larva_pluteus_urchin,echinoderm_larva_seastar_bipinnaria,echinoderm_larva_seastar_brachiolaria,echinoderm_seacucumber_auricularia_larva,echinopluteus,ephyra,euphausiids_young,euphausiids,fecal_pellet,fish_larvae_deep_body,fish_larvae_leptocephali,fish_larvae_medium_body,fish_larvae_myctophids,fish_larvae_thin_body,fish_larvae_very_thin_body,heteropod,hydromedusae_aglaura,hydromedusae_bell_and_tentacles,hydromedusae_h15,hydromedusae_haliscera_small_sideview,hydromedusae_haliscera,hydromedusae_liriope,hydromedusae_narco_dark,hydromedusae_narco_young,hydromedusae_narcomedusae,hydromedusae_other,hydromedusae_partial_dark,hydromedusae_shapeA_sideview_small,hydromedusae_shapeA,hydromedusae_shapeB,hydromedusae_sideview_big,hydromedusae_solmaris,hydromedusae_solmundella,hydromedusae_typeD_bell_and_tentacles,hydromedusae_typeD,hydromedusae_typeE,hydromedusae_typeF,invertebrate_larvae_other_A,invertebrate_larvae_other_B,jellies_tentacles,polychaete,protist_dark_center,protist_fuzzy_olive,protist_noctiluca,protist_other,protist_star,pteropod_butterfly,pteropod_theco_dev_seq,pteropod_triangle,radiolarian_chain,radiolarian_colony,shrimp_caridean,shrimp_sergestidae,shrimp_zoea,shrimp-like_other,siphonophore_calycophoran_abylidae,siphonophore_calycophoran_rocketship_adult,siphonophore_calycophoran_rocketship_young,siphonophore_calycophoran_sphaeronectes_stem,siphonophore_calycophoran_sphaeronectes_young,siphonophore_calycophoran_sphaeronectes,siphonophore_other_parts,siphonophore_partial,siphonophore_physonect_young,siphonophore_physonect,stomatopod,tornaria_acorn_worm_larvae,trichodesmium_bowtie,trichodesmium_multiple,trichodesmium_puff,trichodesmium_tuft,trochophore_larvae,tunicate_doliolid_nurse,tunicate_doliolid,tunicate_partial,tunicate_salp_chains,tunicate_salp,unknown_blobs_and_smudges,unknown_sticks,unknown_unclassified\"\n",
        "#df = df[['acantharia_protist_big_center,acantharia_protist_halo,acantharia_protist,amphipods,appendicularian_fritillaridae,appendicularian_s_shape,appendicularian_slight_curve,appendicularian_straight,artifacts_edge,artifacts,chaetognath_non_sagitta,chaetognath_other,chaetognath_sagitta,chordate_type1,copepod_calanoid_eggs,copepod_calanoid_eucalanus,copepod_calanoid_flatheads,copepod_calanoid_frillyAntennae,copepod_calanoid_large_side_antennatucked,copepod_calanoid_large,copepod_calanoid_octomoms,copepod_calanoid_small_longantennae,copepod_calanoid,copepod_cyclopoid_copilia,copepod_cyclopoid_oithona_eggs,copepod_cyclopoid_oithona,copepod_other,crustacean_other,ctenophore_cestid,ctenophore_cydippid_no_tentacles,ctenophore_cydippid_tentacles,ctenophore_lobate,decapods,detritus_blob,detritus_filamentous,detritus_other,diatom_chain_string,diatom_chain_tube,echinoderm_larva_pluteus_brittlestar,echinoderm_larva_pluteus_early,echinoderm_larva_pluteus_typeC,echinoderm_larva_pluteus_urchin,echinoderm_larva_seastar_bipinnaria,echinoderm_larva_seastar_brachiolaria,echinoderm_seacucumber_auricularia_larva,echinopluteus,ephyra,euphausiids_young,euphausiids,fecal_pellet,fish_larvae_deep_body,fish_larvae_leptocephali,fish_larvae_medium_body,fish_larvae_myctophids,fish_larvae_thin_body,fish_larvae_very_thin_body,heteropod,hydromedusae_aglaura,hydromedusae_bell_and_tentacles,hydromedusae_h15,hydromedusae_haliscera_small_sideview,hydromedusae_haliscera,hydromedusae_liriope,hydromedusae_narco_dark,hydromedusae_narco_young,hydromedusae_narcomedusae,hydromedusae_other,hydromedusae_partial_dark,hydromedusae_shapeA_sideview_small,hydromedusae_shapeA,hydromedusae_shapeB,hydromedusae_sideview_big,hydromedusae_solmaris,hydromedusae_solmundella,hydromedusae_typeD_bell_and_tentacles,hydromedusae_typeD,hydromedusae_typeE,hydromedusae_typeF,invertebrate_larvae_other_A,invertebrate_larvae_other_B,jellies_tentacles,polychaete,protist_dark_center,protist_fuzzy_olive,protist_noctiluca,protist_other,protist_star,pteropod_butterfly,pteropod_theco_dev_seq,pteropod_triangle,radiolarian_chain,radiolarian_colony,shrimp_caridean,shrimp_sergestidae,shrimp_zoea,shrimp-like_other,siphonophore_calycophoran_abylidae,siphonophore_calycophoran_rocketship_adult,siphonophore_calycophoran_rocketship_young,siphonophore_calycophoran_sphaeronectes_stem,siphonophore_calycophoran_sphaeronectes_young,siphonophore_calycophoran_sphaeronectes,siphonophore_other_parts,siphonophore_partial,siphonophore_physonect_young,siphonophore_physonect,stomatopod,tornaria_acorn_worm_larvae,trichodesmium_bowtie,trichodesmium_multiple,trichodesmium_puff,trichodesmium_tuft,trochophore_larvae,tunicate_doliolid_nurse,tunicate_doliolid,tunicate_partial,tunicate_salp_chains,tunicate_salp,unknown_blobs_and_smudges,unknown_sticks,unknown_unclassified']]\n",
        "df.index.name = 'image'\n",
        "df.head()"
      ],
      "execution_count": 43,
      "outputs": [
        {
          "output_type": "execute_result",
          "data": {
            "text/html": [
              "<div>\n",
              "<style scoped>\n",
              "    .dataframe tbody tr th:only-of-type {\n",
              "        vertical-align: middle;\n",
              "    }\n",
              "\n",
              "    .dataframe tbody tr th {\n",
              "        vertical-align: top;\n",
              "    }\n",
              "\n",
              "    .dataframe thead th {\n",
              "        text-align: right;\n",
              "    }\n",
              "</style>\n",
              "<table border=\"1\" class=\"dataframe\">\n",
              "  <thead>\n",
              "    <tr style=\"text-align: right;\">\n",
              "      <th></th>\n",
              "      <th>acantharia_protist</th>\n",
              "      <th>acantharia_protist_big_center</th>\n",
              "      <th>acantharia_protist_halo</th>\n",
              "      <th>amphipods</th>\n",
              "      <th>appendicularian_fritillaridae</th>\n",
              "      <th>appendicularian_s_shape</th>\n",
              "      <th>appendicularian_slight_curve</th>\n",
              "      <th>appendicularian_straight</th>\n",
              "      <th>artifacts</th>\n",
              "      <th>artifacts_edge</th>\n",
              "      <th>...</th>\n",
              "      <th>trichodesmium_tuft</th>\n",
              "      <th>trochophore_larvae</th>\n",
              "      <th>tunicate_doliolid</th>\n",
              "      <th>tunicate_doliolid_nurse</th>\n",
              "      <th>tunicate_partial</th>\n",
              "      <th>tunicate_salp</th>\n",
              "      <th>tunicate_salp_chains</th>\n",
              "      <th>unknown_blobs_and_smudges</th>\n",
              "      <th>unknown_sticks</th>\n",
              "      <th>unknown_unclassified</th>\n",
              "    </tr>\n",
              "    <tr>\n",
              "      <th>image</th>\n",
              "      <th></th>\n",
              "      <th></th>\n",
              "      <th></th>\n",
              "      <th></th>\n",
              "      <th></th>\n",
              "      <th></th>\n",
              "      <th></th>\n",
              "      <th></th>\n",
              "      <th></th>\n",
              "      <th></th>\n",
              "      <th></th>\n",
              "      <th></th>\n",
              "      <th></th>\n",
              "      <th></th>\n",
              "      <th></th>\n",
              "      <th></th>\n",
              "      <th></th>\n",
              "      <th></th>\n",
              "      <th></th>\n",
              "      <th></th>\n",
              "      <th></th>\n",
              "    </tr>\n",
              "  </thead>\n",
              "  <tbody>\n",
              "    <tr>\n",
              "      <th>1.jpg</th>\n",
              "      <td>0.028449</td>\n",
              "      <td>0.000611</td>\n",
              "      <td>0.002634</td>\n",
              "      <td>0.001587</td>\n",
              "      <td>0.000595</td>\n",
              "      <td>0.021835</td>\n",
              "      <td>0.019459</td>\n",
              "      <td>0.00934</td>\n",
              "      <td>0.011754</td>\n",
              "      <td>0.006463</td>\n",
              "      <td>...</td>\n",
              "      <td>0.019762</td>\n",
              "      <td>0.001103</td>\n",
              "      <td>0.01486</td>\n",
              "      <td>0.01423</td>\n",
              "      <td>0.01126</td>\n",
              "      <td>0.00779</td>\n",
              "      <td>0.002407</td>\n",
              "      <td>0.009504</td>\n",
              "      <td>0.005515</td>\n",
              "      <td>0.016659</td>\n",
              "    </tr>\n",
              "    <tr>\n",
              "      <th>10.jpg</th>\n",
              "      <td>0.028449</td>\n",
              "      <td>0.000611</td>\n",
              "      <td>0.002634</td>\n",
              "      <td>0.001587</td>\n",
              "      <td>0.000595</td>\n",
              "      <td>0.021835</td>\n",
              "      <td>0.019459</td>\n",
              "      <td>0.00934</td>\n",
              "      <td>0.011754</td>\n",
              "      <td>0.006463</td>\n",
              "      <td>...</td>\n",
              "      <td>0.019762</td>\n",
              "      <td>0.001103</td>\n",
              "      <td>0.01486</td>\n",
              "      <td>0.01423</td>\n",
              "      <td>0.01126</td>\n",
              "      <td>0.00779</td>\n",
              "      <td>0.002407</td>\n",
              "      <td>0.009504</td>\n",
              "      <td>0.005515</td>\n",
              "      <td>0.016659</td>\n",
              "    </tr>\n",
              "    <tr>\n",
              "      <th>100.jpg</th>\n",
              "      <td>0.028449</td>\n",
              "      <td>0.000611</td>\n",
              "      <td>0.002634</td>\n",
              "      <td>0.001587</td>\n",
              "      <td>0.000595</td>\n",
              "      <td>0.021835</td>\n",
              "      <td>0.019459</td>\n",
              "      <td>0.00934</td>\n",
              "      <td>0.011754</td>\n",
              "      <td>0.006463</td>\n",
              "      <td>...</td>\n",
              "      <td>0.019762</td>\n",
              "      <td>0.001103</td>\n",
              "      <td>0.01486</td>\n",
              "      <td>0.01423</td>\n",
              "      <td>0.01126</td>\n",
              "      <td>0.00779</td>\n",
              "      <td>0.002407</td>\n",
              "      <td>0.009504</td>\n",
              "      <td>0.005515</td>\n",
              "      <td>0.016659</td>\n",
              "    </tr>\n",
              "    <tr>\n",
              "      <th>1000.jpg</th>\n",
              "      <td>0.028449</td>\n",
              "      <td>0.000611</td>\n",
              "      <td>0.002634</td>\n",
              "      <td>0.001587</td>\n",
              "      <td>0.000595</td>\n",
              "      <td>0.021835</td>\n",
              "      <td>0.019459</td>\n",
              "      <td>0.00934</td>\n",
              "      <td>0.011754</td>\n",
              "      <td>0.006463</td>\n",
              "      <td>...</td>\n",
              "      <td>0.019762</td>\n",
              "      <td>0.001103</td>\n",
              "      <td>0.01486</td>\n",
              "      <td>0.01423</td>\n",
              "      <td>0.01126</td>\n",
              "      <td>0.00779</td>\n",
              "      <td>0.002407</td>\n",
              "      <td>0.009504</td>\n",
              "      <td>0.005515</td>\n",
              "      <td>0.016659</td>\n",
              "    </tr>\n",
              "    <tr>\n",
              "      <th>10000.jpg</th>\n",
              "      <td>0.028449</td>\n",
              "      <td>0.000611</td>\n",
              "      <td>0.002634</td>\n",
              "      <td>0.001587</td>\n",
              "      <td>0.000595</td>\n",
              "      <td>0.021835</td>\n",
              "      <td>0.019459</td>\n",
              "      <td>0.00934</td>\n",
              "      <td>0.011754</td>\n",
              "      <td>0.006463</td>\n",
              "      <td>...</td>\n",
              "      <td>0.019762</td>\n",
              "      <td>0.001103</td>\n",
              "      <td>0.01486</td>\n",
              "      <td>0.01423</td>\n",
              "      <td>0.01126</td>\n",
              "      <td>0.00779</td>\n",
              "      <td>0.002407</td>\n",
              "      <td>0.009504</td>\n",
              "      <td>0.005515</td>\n",
              "      <td>0.016659</td>\n",
              "    </tr>\n",
              "  </tbody>\n",
              "</table>\n",
              "<p>5 rows × 121 columns</p>\n",
              "</div>"
            ],
            "text/plain": [
              "           acantharia_protist  acantharia_protist_big_center  \\\n",
              "image                                                          \n",
              "1.jpg                0.028449                       0.000611   \n",
              "10.jpg               0.028449                       0.000611   \n",
              "100.jpg              0.028449                       0.000611   \n",
              "1000.jpg             0.028449                       0.000611   \n",
              "10000.jpg            0.028449                       0.000611   \n",
              "\n",
              "           acantharia_protist_halo  amphipods  appendicularian_fritillaridae  \\\n",
              "image                                                                          \n",
              "1.jpg                     0.002634   0.001587                       0.000595   \n",
              "10.jpg                    0.002634   0.001587                       0.000595   \n",
              "100.jpg                   0.002634   0.001587                       0.000595   \n",
              "1000.jpg                  0.002634   0.001587                       0.000595   \n",
              "10000.jpg                 0.002634   0.001587                       0.000595   \n",
              "\n",
              "           appendicularian_s_shape  appendicularian_slight_curve  \\\n",
              "image                                                              \n",
              "1.jpg                     0.021835                      0.019459   \n",
              "10.jpg                    0.021835                      0.019459   \n",
              "100.jpg                   0.021835                      0.019459   \n",
              "1000.jpg                  0.021835                      0.019459   \n",
              "10000.jpg                 0.021835                      0.019459   \n",
              "\n",
              "           appendicularian_straight  artifacts  artifacts_edge  \\\n",
              "image                                                            \n",
              "1.jpg                       0.00934   0.011754        0.006463   \n",
              "10.jpg                      0.00934   0.011754        0.006463   \n",
              "100.jpg                     0.00934   0.011754        0.006463   \n",
              "1000.jpg                    0.00934   0.011754        0.006463   \n",
              "10000.jpg                   0.00934   0.011754        0.006463   \n",
              "\n",
              "                   ...           trichodesmium_tuft  trochophore_larvae  \\\n",
              "image              ...                                                    \n",
              "1.jpg              ...                     0.019762            0.001103   \n",
              "10.jpg             ...                     0.019762            0.001103   \n",
              "100.jpg            ...                     0.019762            0.001103   \n",
              "1000.jpg           ...                     0.019762            0.001103   \n",
              "10000.jpg          ...                     0.019762            0.001103   \n",
              "\n",
              "           tunicate_doliolid  tunicate_doliolid_nurse  tunicate_partial  \\\n",
              "image                                                                     \n",
              "1.jpg                0.01486                  0.01423           0.01126   \n",
              "10.jpg               0.01486                  0.01423           0.01126   \n",
              "100.jpg              0.01486                  0.01423           0.01126   \n",
              "1000.jpg             0.01486                  0.01423           0.01126   \n",
              "10000.jpg            0.01486                  0.01423           0.01126   \n",
              "\n",
              "           tunicate_salp  tunicate_salp_chains  unknown_blobs_and_smudges  \\\n",
              "image                                                                       \n",
              "1.jpg            0.00779              0.002407                   0.009504   \n",
              "10.jpg           0.00779              0.002407                   0.009504   \n",
              "100.jpg          0.00779              0.002407                   0.009504   \n",
              "1000.jpg         0.00779              0.002407                   0.009504   \n",
              "10000.jpg        0.00779              0.002407                   0.009504   \n",
              "\n",
              "           unknown_sticks  unknown_unclassified  \n",
              "image                                            \n",
              "1.jpg            0.005515              0.016659  \n",
              "10.jpg           0.005515              0.016659  \n",
              "100.jpg          0.005515              0.016659  \n",
              "1000.jpg         0.005515              0.016659  \n",
              "10000.jpg        0.005515              0.016659  \n",
              "\n",
              "[5 rows x 121 columns]"
            ]
          },
          "metadata": {
            "tags": []
          },
          "execution_count": 43
        }
      ]
    },
    {
      "metadata": {
        "id": "VGWonxNpJeDr",
        "colab_type": "code",
        "colab": {
          "base_uri": "https://localhost:8080/",
          "height": 185
        },
        "outputId": "59b8b784-c1fa-4acb-c180-9ad989842daf"
      },
      "cell_type": "code",
      "source": [
        "df.to_csv(\"/content/plankton/result.csv\", encoding='utf-8',index=image_index)\n",
        "result2 = pd.read_csv('/content/plankton/result.csv')\n",
        "result2.columns"
      ],
      "execution_count": 48,
      "outputs": [
        {
          "output_type": "execute_result",
          "data": {
            "text/plain": [
              "Index(['image', 'acantharia_protist', 'acantharia_protist_big_center',\n",
              "       'acantharia_protist_halo', 'amphipods', 'appendicularian_fritillaridae',\n",
              "       'appendicularian_s_shape', 'appendicularian_slight_curve',\n",
              "       'appendicularian_straight', 'artifacts',\n",
              "       ...\n",
              "       'trichodesmium_tuft', 'trochophore_larvae', 'tunicate_doliolid',\n",
              "       'tunicate_doliolid_nurse', 'tunicate_partial', 'tunicate_salp',\n",
              "       'tunicate_salp_chains', 'unknown_blobs_and_smudges', 'unknown_sticks',\n",
              "       'unknown_unclassified'],\n",
              "      dtype='object', length=122)"
            ]
          },
          "metadata": {
            "tags": []
          },
          "execution_count": 48
        }
      ]
    },
    {
      "metadata": {
        "id": "37GymmJtGME1",
        "colab_type": "code",
        "colab": {
          "base_uri": "https://localhost:8080/",
          "height": 34
        },
        "outputId": "0a9c17c0-ea8a-4b0f-fed4-476386f2e87b"
      },
      "cell_type": "code",
      "source": [
        "!kaggle competitions submit -c datasciencebowl -f /content/plankton/result.csv -m \"50 epoch + augmented data generation+ add layers\""
      ],
      "execution_count": 49,
      "outputs": [
        {
          "output_type": "stream",
          "text": [
            "Successfully submitted to National Data Science Bowl"
          ],
          "name": "stdout"
        }
      ]
    }
  ]
}