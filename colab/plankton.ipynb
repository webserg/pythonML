{
  "nbformat": 4,
  "nbformat_minor": 0,
  "metadata": {
    "colab": {
      "name": "plankton.ipynb",
      "version": "0.3.2",
      "provenance": [],
      "collapsed_sections": []
    },
    "kernelspec": {
      "display_name": "Python 3",
      "language": "python",
      "name": "python3"
    },
    "accelerator": "GPU"
  },
  "cells": [
    {
      "cell_type": "markdown",
      "metadata": {
        "id": "view-in-github",
        "colab_type": "text"
      },
      "source": [
        "[View in Colaboratory](https://colab.research.google.com/github/webserg/pythonML/blob/master/colab/plankton.ipynb)"
      ]
    },
    {
      "metadata": {
        "id": "kEb5hhttwmT4",
        "colab_type": "text"
      },
      "cell_type": "markdown",
      "source": [
        "https://www.kaggle.com/c/datasciencebowl/data\n",
        "http://benanne.github.io/2015/03/17/plankton.html\n"
      ]
    },
    {
      "metadata": {
        "id": "MpjxIAhoxRNB",
        "colab_type": "code",
        "colab": {
          "base_uri": "https://localhost:8080/",
          "height": 269
        },
        "outputId": "dc79634b-de08-4164-e608-7fdd3a4df07f"
      },
      "cell_type": "code",
      "source": [
        "!pip install kaggle"
      ],
      "execution_count": 11,
      "outputs": [
        {
          "output_type": "stream",
          "text": [
            "Collecting kaggle\n",
            "  Downloading https://files.pythonhosted.org/packages/74/9b/a6bdc22939c32e1cecc086a972b5e3f7c991b73d74dab0e5d82ff80c5968/kaggle-1.3.8.tar.gz\n",
            "Requirement already satisfied: urllib3>=1.15 in /usr/local/lib/python3.6/dist-packages (from kaggle) (1.22)\n",
            "Requirement already satisfied: six>=1.10 in /usr/local/lib/python3.6/dist-packages (from kaggle) (1.11.0)\n",
            "Requirement already satisfied: certifi in /usr/local/lib/python3.6/dist-packages (from kaggle) (2018.4.16)\n",
            "Requirement already satisfied: python-dateutil in /usr/local/lib/python3.6/dist-packages (from kaggle) (2.5.3)\n",
            "Requirement already satisfied: requests in /usr/local/lib/python3.6/dist-packages (from kaggle) (2.18.4)\n",
            "Requirement already satisfied: chardet<3.1.0,>=3.0.2 in /usr/local/lib/python3.6/dist-packages (from requests->kaggle) (3.0.4)\n",
            "Requirement already satisfied: idna<2.7,>=2.5 in /usr/local/lib/python3.6/dist-packages (from requests->kaggle) (2.6)\n",
            "Building wheels for collected packages: kaggle\n",
            "  Running setup.py bdist_wheel for kaggle ... \u001b[?25l-\b \b\\\b \bdone\n",
            "\u001b[?25h  Stored in directory: /content/.cache/pip/wheels/d6/3c/92/375decc0cf0a65b281db3cca9b8e21dc27b8ebc4d1ce29afca\n",
            "Successfully built kaggle\n",
            "Installing collected packages: kaggle\n",
            "Successfully installed kaggle-1.3.8\n"
          ],
          "name": "stdout"
        }
      ]
    },
    {
      "metadata": {
        "id": "fjEzwoPsyMFR",
        "colab_type": "code",
        "colab": {
          "base_uri": "https://localhost:8080/",
          "height": 34
        },
        "outputId": "6ea4fd4c-d136-46df-d858-771a975a7fab"
      },
      "cell_type": "code",
      "source": [
        "from googleapiclient.discovery import build\n",
        "import io, os\n",
        "from googleapiclient.http import MediaIoBaseDownload\n",
        "from google.colab import auth\n",
        "\n",
        "auth.authenticate_user()\n",
        "\n",
        "drive_service = build('drive', 'v3')\n",
        "results = drive_service.files().list(\n",
        "        q=\"name = 'kaggle.json'\", fields=\"files(id)\").execute()\n",
        "kaggle_api_key = results.get('files', [])\n",
        "\n",
        "filename = \"/content/.kaggle/kaggle.json\"\n",
        "os.makedirs(os.path.dirname(filename), exist_ok=True)\n",
        "\n",
        "request = drive_service.files().get_media(fileId=kaggle_api_key[0]['id'])\n",
        "fh = io.FileIO(filename, 'wb')\n",
        "downloader = MediaIoBaseDownload(fh, request)\n",
        "done = False\n",
        "while done is False:\n",
        "    status, done = downloader.next_chunk()\n",
        "    print(\"Download %d%%.\" % int(status.progress() * 100))\n",
        "os.chmod(filename, 600)"
      ],
      "execution_count": 12,
      "outputs": [
        {
          "output_type": "stream",
          "text": [
            "Download 100%.\n"
          ],
          "name": "stdout"
        }
      ]
    },
    {
      "metadata": {
        "id": "34urnKPzwmT6",
        "colab_type": "code",
        "colab": {
          "base_uri": "https://localhost:8080/",
          "height": 386
        },
        "outputId": "d863eae3-fa37-462c-9656-2ddc1b89770e"
      },
      "cell_type": "code",
      "source": [
        "!kaggle competitions list"
      ],
      "execution_count": 13,
      "outputs": [
        {
          "output_type": "stream",
          "text": [
            "ref                                             deadline             category            reward  teamCount  userHasEntered  \r\n",
            "----------------------------------------------  -------------------  ---------------  ---------  ---------  --------------  \r\n",
            "imagenet-object-detection-challenge             2029-12-31 07:00:00  Research         Knowledge          0           False  \r\n",
            "imagenet-object-detection-from-video-challenge  2029-12-31 07:00:00  Research         Knowledge          0           False  \r\n",
            "imagenet-object-localization-challenge          2029-12-31 07:00:00  Research         Knowledge          8           False  \r\n",
            "titanic                                         2020-04-07 00:00:00  Getting Started  Knowledge      11326            True  \r\n",
            "house-prices-advanced-regression-techniques     2020-03-01 23:59:00  Getting Started  Knowledge       5397           False  \r\n",
            "digit-recognizer                                2020-01-07 00:00:00  Getting Started  Knowledge       2506           False  \r\n",
            "competitive-data-science-predict-future-sales   2019-01-01 23:59:00  Playground           Kudos        517           False  \r\n",
            "home-credit-default-risk                        2018-08-29 23:59:00  Featured           $70,000        116           False  \r\n",
            "trackml-particle-identification                 2018-08-13 23:59:00  Featured           $25,000        245           False  \r\n",
            "freesound-audio-tagging                         2018-07-31 23:59:00  Research         Knowledge        178           False  \r\n",
            "whale-categorization-playground                 2018-07-09 23:59:00  Playground           Kudos        283           False  \r\n",
            "avito-demand-prediction                         2018-06-27 23:59:00  Featured           $25,000       1076           False  \r\n",
            "cvpr-2018-autonomous-driving                    2018-06-11 23:59:00  Research            $2,500         81           False  \r\n",
            "inaturalist-2018                                2018-06-04 23:59:00  Research             Kudos         45           False  \r\n",
            "imaterialist-challenge-fashion-2018             2018-05-30 23:59:00  Research            $2,500        164           False  \r\n",
            "imaterialist-challenge-furniture-2018           2018-05-30 23:59:00  Research            $2,500        386            True  \r\n",
            "landmark-retrieval-challenge                    2018-05-22 23:59:00  Research            $2,500        194           False  \r\n",
            "landmark-recognition-challenge                  2018-05-22 23:59:00  Research            $2,500        442           False  \r\n",
            "talkingdata-adtracking-fraud-detection          2018-05-07 23:59:00  Featured           $25,000       3967           False  \r\n",
            "donorschoose-application-screening              2018-04-25 23:59:00  Playground            Swag        581           False  \r\n"
          ],
          "name": "stdout"
        }
      ]
    },
    {
      "metadata": {
        "id": "LVWMF1bmxOOR",
        "colab_type": "code",
        "colab": {
          "base_uri": "https://localhost:8080/",
          "height": 34
        },
        "outputId": "6c545f1a-4620-4471-be22-54f8d1c08dd5"
      },
      "cell_type": "code",
      "source": [
        "!pwd"
      ],
      "execution_count": 8,
      "outputs": [
        {
          "output_type": "stream",
          "text": [
            "/content\r\n"
          ],
          "name": "stdout"
        }
      ]
    },
    {
      "metadata": {
        "id": "ri-G-2VTz4BW",
        "colab_type": "code",
        "colab": {}
      },
      "cell_type": "code",
      "source": [
        "!mkdir datasciencebowl"
      ],
      "execution_count": 0,
      "outputs": []
    },
    {
      "metadata": {
        "id": "3Qzd4MG9y8hd",
        "colab_type": "code",
        "colab": {
          "base_uri": "https://localhost:8080/",
          "height": 67
        },
        "outputId": "9b129df0-94bd-45f9-821e-d4851fed7921"
      },
      "cell_type": "code",
      "source": [
        "!ls -l"
      ],
      "execution_count": 15,
      "outputs": [
        {
          "output_type": "stream",
          "text": [
            "total 8\r\n",
            "drwxr-xr-x 1 root root 4096 May 18 20:25 datalab\r\n",
            "drwxr-xr-x 2 root root 4096 May 18 20:25 datasciencebowl\r\n"
          ],
          "name": "stdout"
        }
      ]
    },
    {
      "metadata": {
        "id": "onMR-_idwmT_",
        "colab_type": "code",
        "colab": {
          "base_uri": "https://localhost:8080/",
          "height": 84
        },
        "outputId": "00915fc2-9a26-49a2-f7c0-7e3268a635d2"
      },
      "cell_type": "code",
      "source": [
        "!kaggle competitions download -c datasciencebowl -p ./plankton"
      ],
      "execution_count": 16,
      "outputs": [
        {
          "output_type": "stream",
          "text": [
            "sampleSubmission.csv.zip: Downloaded 886KB of 886KB to ./plankton\n",
            "train.zip: Downloaded 76MB of 76MB to ./plankton\n",
            "test.zip: Downloaded 347MB of 347MB to ./plankton\n",
            "plankton_identification.pdf: Downloaded 2MB of 2MB to ./plankton\n"
          ],
          "name": "stdout"
        }
      ]
    },
    {
      "metadata": {
        "id": "1yUtCZGX0na5",
        "colab_type": "code",
        "colab": {
          "base_uri": "https://localhost:8080/",
          "height": 34
        },
        "outputId": "38074446-8997-49bd-a2d5-cb47349bfaec"
      },
      "cell_type": "code",
      "source": [
        "%cd /content/plankton/validation/"
      ],
      "execution_count": 30,
      "outputs": [
        {
          "output_type": "stream",
          "text": [
            "/content/plankton/validation\n"
          ],
          "name": "stdout"
        }
      ]
    },
    {
      "metadata": {
        "id": "lbcQ9q-e0pMT",
        "colab_type": "code",
        "colab": {
          "base_uri": "https://localhost:8080/",
          "height": 50
        },
        "outputId": "47320275-50c0-4222-8901-c11cba960a64"
      },
      "cell_type": "code",
      "source": [
        "%ls -l"
      ],
      "execution_count": 28,
      "outputs": [
        {
          "output_type": "stream",
          "text": [
            "total 3684\r\n",
            "drwxr-xr-x 2 root root 3768320 May 18 20:28 \u001b[0m\u001b[01;34mtest\u001b[0m/\r\n"
          ],
          "name": "stdout"
        }
      ]
    },
    {
      "metadata": {
        "id": "-baOY53TwmUA",
        "colab_type": "code",
        "colab": {
          "base_uri": "https://localhost:8080/",
          "height": 34
        },
        "outputId": "1a12112a-6ae7-468a-96f0-4b115970a129"
      },
      "cell_type": "code",
      "source": [
        "import zipfile\n",
        "import os\n",
        "data_dir = \"/content/plankton\"\n",
        "path_to_data = \"/content/plankton/train.zip\"\n",
        "path_to_data"
      ],
      "execution_count": 19,
      "outputs": [
        {
          "output_type": "execute_result",
          "data": {
            "text/plain": [
              "'/content/plankton/train.zip'"
            ]
          },
          "metadata": {
            "tags": []
          },
          "execution_count": 19
        }
      ]
    },
    {
      "metadata": {
        "id": "ZIaJb8Y3wmUG",
        "colab_type": "code",
        "colab": {}
      },
      "cell_type": "code",
      "source": [
        "if os.path.exists(data_dir) == False:\n",
        "    os.makedirs(data_dir)"
      ],
      "execution_count": 0,
      "outputs": []
    },
    {
      "metadata": {
        "id": "fGtyia52wmUI",
        "colab_type": "code",
        "colab": {}
      },
      "cell_type": "code",
      "source": [
        "zip_ref = zipfile.ZipFile(path_to_data, 'r')\n",
        "zip_ref.extractall(data_dir)\n",
        "zip_ref.close()"
      ],
      "execution_count": 0,
      "outputs": []
    },
    {
      "metadata": {
        "id": "HxMMJss7wmUL",
        "colab_type": "code",
        "colab": {
          "base_uri": "https://localhost:8080/",
          "height": 34
        },
        "outputId": "c3042560-05a3-47ee-c9b8-0ea4920bf1ec"
      },
      "cell_type": "code",
      "source": [
        "path_to_test = \"/content/plankton/test.zip\"\n",
        "path_to_test"
      ],
      "execution_count": 21,
      "outputs": [
        {
          "output_type": "execute_result",
          "data": {
            "text/plain": [
              "'/content/plankton/test.zip'"
            ]
          },
          "metadata": {
            "tags": []
          },
          "execution_count": 21
        }
      ]
    },
    {
      "metadata": {
        "id": "dA3x2NAV77HX",
        "colab_type": "code",
        "colab": {}
      },
      "cell_type": "code",
      "source": [
        " os.makedirs(data_dir + \"/test\")"
      ],
      "execution_count": 0,
      "outputs": []
    },
    {
      "metadata": {
        "id": "c5EUd30mwmUP",
        "colab_type": "code",
        "colab": {}
      },
      "cell_type": "code",
      "source": [
        "zip_ref = zipfile.ZipFile(path_to_test, 'r')\n",
        "zip_ref.extractall(data_dir + \"/test\")\n",
        "zip_ref.close()"
      ],
      "execution_count": 0,
      "outputs": []
    },
    {
      "metadata": {
        "id": "j36SRCelwmUS",
        "colab_type": "code",
        "colab": {}
      },
      "cell_type": "code",
      "source": [
        "validation_dir = os.path.join(data_dir, 'validation')\n",
        "if os.path.exists(validation_dir) == False:\n",
        "    os.mkdir(validation_dir)"
      ],
      "execution_count": 0,
      "outputs": []
    },
    {
      "metadata": {
        "id": "z_bPVsbswmUU",
        "colab_type": "code",
        "colab": {}
      },
      "cell_type": "code",
      "source": [
        "import shutil\n",
        "train_dir = os.path.join(data_dir, 'train')\n",
        "test_dir = os.path.join(data_dir, 'test')"
      ],
      "execution_count": 0,
      "outputs": []
    },
    {
      "metadata": {
        "id": "uC_QYuZQwmUY",
        "colab_type": "code",
        "colab": {}
      },
      "cell_type": "code",
      "source": [
        "validation_dir = os.path.join(data_dir, 'validation')\n",
        "\n",
        "dir_info = [x for x in os.walk(train_dir)]\n",
        "for dir in dir_info[1:]:\n",
        "    print(len(dir[2]))\n",
        "    validation_number = int(round(len(dir[2])/10))\n",
        "    print(validation_number)\n",
        "    print(dir[2])\n",
        "    print(dir[2][:validation_number])\n",
        "    dir_name = os.path.split(dir[0])[1]\n",
        "    print(dir_name)\n",
        "    validation_dir_current = os.path.join(validation_dir, dir_name)\n",
        "    if os.path.exists(validation_dir_current) == False:\n",
        "        os.mkdir(validation_dir_current)\n",
        "    for fname in dir[2][:validation_number]:\n",
        "        src = os.path.join(train_dir, dir_name, fname)\n",
        "        dst = os.path.join(validation_dir_current, fname)\n",
        "        print(src)\n",
        "        print(dst)\n",
        "        shutil.move(src, dst)\n"
      ],
      "execution_count": 0,
      "outputs": []
    },
    {
      "metadata": {
        "id": "tCKx3EdtwmUd",
        "colab_type": "code",
        "colab": {}
      },
      "cell_type": "code",
      "source": [
        "if os.path.exists(validation_dir) == False:\n",
        "    print(\"false\")"
      ],
      "execution_count": 0,
      "outputs": []
    },
    {
      "metadata": {
        "id": "v2BkRdn6wmUh",
        "colab_type": "code",
        "colab": {
          "base_uri": "https://localhost:8080/",
          "height": 50
        },
        "outputId": "17c28823-d605-4287-b0ec-7a11045b5630"
      },
      "cell_type": "code",
      "source": [
        "print('total training categories:', len(os.listdir(train_dir)))\n",
        "cpt = sum([len(files) for r, d, files in os.walk(train_dir)])\n",
        "print('all train images: ',cpt )"
      ],
      "execution_count": 34,
      "outputs": [
        {
          "output_type": "stream",
          "text": [
            "total training categories: 121\n",
            "all train images:  27304\n"
          ],
          "name": "stdout"
        }
      ]
    },
    {
      "metadata": {
        "id": "Jqkh4-HhwmUk",
        "colab_type": "code",
        "colab": {
          "base_uri": "https://localhost:8080/",
          "height": 50
        },
        "outputId": "cd62559d-8c10-4141-e4a7-bb9a6d62b468"
      },
      "cell_type": "code",
      "source": [
        "print('total validation categories:', len(os.listdir(validation_dir)))\n",
        "cpt = sum([len(files) for r, d, files in os.walk(validation_dir)])\n",
        "print('all train images: ',cpt )"
      ],
      "execution_count": 35,
      "outputs": [
        {
          "output_type": "stream",
          "text": [
            "total validation categories: 121\n",
            "all train images:  3032\n"
          ],
          "name": "stdout"
        }
      ]
    },
    {
      "metadata": {
        "id": "qk7Pk934wmUv",
        "colab_type": "code",
        "colab": {
          "base_uri": "https://localhost:8080/",
          "height": 67
        },
        "outputId": "887249ad-158e-44ec-ecd8-26ef97f300e2"
      },
      "cell_type": "code",
      "source": [
        "from keras.preprocessing.image import ImageDataGenerator\n",
        "train_datagen = ImageDataGenerator(rescale=1./255)\n",
        "validation_datagen = ImageDataGenerator(rescale=1./255)\n",
        "\n",
        "train_generator = train_datagen.flow_from_directory(\n",
        "train_dir,\n",
        "target_size=(150, 150),\n",
        "batch_size=20,\n",
        "class_mode='categorical')\n",
        "validation_generator = validation_datagen.flow_from_directory(\n",
        "validation_dir,\n",
        "target_size=(150, 150),\n",
        "batch_size=20,\n",
        "class_mode='categorical')"
      ],
      "execution_count": 36,
      "outputs": [
        {
          "output_type": "stream",
          "text": [
            "Using TensorFlow backend.\n"
          ],
          "name": "stderr"
        },
        {
          "output_type": "stream",
          "text": [
            "Found 27304 images belonging to 121 classes.\n",
            "Found 3032 images belonging to 121 classes.\n"
          ],
          "name": "stdout"
        }
      ]
    },
    {
      "metadata": {
        "id": "TjBQpj1-wmUz",
        "colab_type": "code",
        "colab": {
          "base_uri": "https://localhost:8080/",
          "height": 504
        },
        "outputId": "1c359e0a-5d2f-4e68-c85f-308afc36244a"
      },
      "cell_type": "code",
      "source": [
        "from keras import layers\n",
        "from keras import models\n",
        "\n",
        "model = models.Sequential()\n",
        "model.add(layers.Conv2D(32, (3, 3), activation='relu',\n",
        "                        input_shape=(150, 150, 3)))\n",
        "model.add(layers.MaxPooling2D((2, 2)))\n",
        "model.add(layers.Conv2D(64, (3, 3), activation='relu'))\n",
        "model.add(layers.MaxPooling2D((2, 2)))\n",
        "model.add(layers.Conv2D(128, (3, 3), activation='relu'))\n",
        "model.add(layers.MaxPooling2D((2, 2)))\n",
        "model.add(layers.Conv2D(128, (3, 3), activation='relu'))\n",
        "model.add(layers.MaxPooling2D((2, 2)))\n",
        "model.add(layers.Flatten())\n",
        "model.add(layers.Dense(512, activation='relu'))\n",
        "model.add(layers.Dense(121, activation='softmax'))\n",
        "model.summary()"
      ],
      "execution_count": 37,
      "outputs": [
        {
          "output_type": "stream",
          "text": [
            "_________________________________________________________________\n",
            "Layer (type)                 Output Shape              Param #   \n",
            "=================================================================\n",
            "conv2d_1 (Conv2D)            (None, 148, 148, 32)      896       \n",
            "_________________________________________________________________\n",
            "max_pooling2d_1 (MaxPooling2 (None, 74, 74, 32)        0         \n",
            "_________________________________________________________________\n",
            "conv2d_2 (Conv2D)            (None, 72, 72, 64)        18496     \n",
            "_________________________________________________________________\n",
            "max_pooling2d_2 (MaxPooling2 (None, 36, 36, 64)        0         \n",
            "_________________________________________________________________\n",
            "conv2d_3 (Conv2D)            (None, 34, 34, 128)       73856     \n",
            "_________________________________________________________________\n",
            "max_pooling2d_3 (MaxPooling2 (None, 17, 17, 128)       0         \n",
            "_________________________________________________________________\n",
            "conv2d_4 (Conv2D)            (None, 15, 15, 128)       147584    \n",
            "_________________________________________________________________\n",
            "max_pooling2d_4 (MaxPooling2 (None, 7, 7, 128)         0         \n",
            "_________________________________________________________________\n",
            "flatten_1 (Flatten)          (None, 6272)              0         \n",
            "_________________________________________________________________\n",
            "dense_1 (Dense)              (None, 512)               3211776   \n",
            "_________________________________________________________________\n",
            "dense_2 (Dense)              (None, 121)               62073     \n",
            "=================================================================\n",
            "Total params: 3,514,681\n",
            "Trainable params: 3,514,681\n",
            "Non-trainable params: 0\n",
            "_________________________________________________________________\n"
          ],
          "name": "stdout"
        }
      ]
    },
    {
      "metadata": {
        "id": "NXcd6YDlwmU2",
        "colab_type": "code",
        "colab": {}
      },
      "cell_type": "code",
      "source": [
        "from keras import optimizers\n",
        "model.compile(loss='categorical_crossentropy',\n",
        "optimizer=optimizers.RMSprop(lr=1e-4),\n",
        "metrics=['acc'])"
      ],
      "execution_count": 0,
      "outputs": []
    },
    {
      "metadata": {
        "id": "gIxgTWSvwmU5",
        "colab_type": "code",
        "colab": {
          "base_uri": "https://localhost:8080/",
          "height": 1045
        },
        "outputId": "fe64873c-4e2b-43bf-a12b-35c12b6e870c"
      },
      "cell_type": "code",
      "source": [
        "history = model.fit_generator(\n",
        "train_generator,\n",
        "steps_per_epoch=100,\n",
        "epochs=30,\n",
        "validation_data=validation_generator,\n",
        "validation_steps=50)\n",
        "model.save('/content/plankton/plankton_1.h5')"
      ],
      "execution_count": 39,
      "outputs": [
        {
          "output_type": "stream",
          "text": [
            "Epoch 1/30\n",
            "100/100 [==============================] - 8s 81ms/step - loss: 4.2815 - acc: 0.0845 - val_loss: 4.1399 - val_acc: 0.1210\n",
            "Epoch 2/30\n",
            "100/100 [==============================] - 6s 58ms/step - loss: 4.0871 - acc: 0.1055 - val_loss: 3.9092 - val_acc: 0.1360\n",
            "Epoch 3/30\n",
            "100/100 [==============================] - 6s 59ms/step - loss: 3.7274 - acc: 0.1650 - val_loss: 3.4829 - val_acc: 0.2210\n",
            "Epoch 4/30\n",
            "100/100 [==============================] - 6s 59ms/step - loss: 3.4398 - acc: 0.2260 - val_loss: 3.2470 - val_acc: 0.2470\n",
            "Epoch 5/30\n",
            " 16/100 [===>..........................] - ETA: 4s - loss: 3.4657 - acc: 0.2094"
          ],
          "name": "stdout"
        },
        {
          "output_type": "stream",
          "text": [
            "100/100 [==============================] - 6s 60ms/step - loss: 3.2605 - acc: 0.2475 - val_loss: 3.0873 - val_acc: 0.2690\n",
            "Epoch 6/30\n",
            "100/100 [==============================] - 6s 59ms/step - loss: 3.0895 - acc: 0.2760 - val_loss: 3.0161 - val_acc: 0.2720\n",
            "Epoch 7/30\n",
            "100/100 [==============================] - 6s 59ms/step - loss: 2.9652 - acc: 0.2935 - val_loss: 2.8221 - val_acc: 0.3290\n",
            "Epoch 8/30\n",
            "100/100 [==============================] - 6s 58ms/step - loss: 2.8675 - acc: 0.3200 - val_loss: 2.8761 - val_acc: 0.3160\n",
            "Epoch 9/30\n",
            " 19/100 [====>.........................] - ETA: 4s - loss: 2.8605 - acc: 0.3053"
          ],
          "name": "stdout"
        },
        {
          "output_type": "stream",
          "text": [
            "100/100 [==============================] - 6s 59ms/step - loss: 2.8140 - acc: 0.3335 - val_loss: 2.7930 - val_acc: 0.3290\n",
            "Epoch 10/30\n",
            "100/100 [==============================] - 6s 59ms/step - loss: 2.6953 - acc: 0.3460 - val_loss: 2.5982 - val_acc: 0.3620\n",
            "Epoch 11/30\n",
            "100/100 [==============================] - 6s 58ms/step - loss: 2.6665 - acc: 0.3670 - val_loss: 2.5683 - val_acc: 0.3600\n",
            "Epoch 12/30\n",
            "100/100 [==============================] - 6s 57ms/step - loss: 2.6184 - acc: 0.3685 - val_loss: 2.4800 - val_acc: 0.3760\n",
            "Epoch 13/30\n",
            " 38/100 [==========>...................] - ETA: 3s - loss: 2.6754 - acc: 0.3618"
          ],
          "name": "stdout"
        },
        {
          "output_type": "stream",
          "text": [
            "100/100 [==============================] - 6s 57ms/step - loss: 2.5773 - acc: 0.3745 - val_loss: 2.4581 - val_acc: 0.3960\n",
            "Epoch 14/30\n",
            "100/100 [==============================] - 6s 57ms/step - loss: 2.4116 - acc: 0.4025 - val_loss: 2.5712 - val_acc: 0.3660\n",
            "Epoch 15/30\n",
            "100/100 [==============================] - 6s 59ms/step - loss: 2.3501 - acc: 0.4185 - val_loss: 2.3552 - val_acc: 0.4110\n",
            "Epoch 16/30\n",
            "100/100 [==============================] - 6s 58ms/step - loss: 2.2525 - acc: 0.4335 - val_loss: 2.2901 - val_acc: 0.4390\n",
            "Epoch 17/30\n",
            " 39/100 [==========>...................] - ETA: 3s - loss: 2.4073 - acc: 0.4038"
          ],
          "name": "stdout"
        },
        {
          "output_type": "stream",
          "text": [
            "100/100 [==============================] - 6s 59ms/step - loss: 2.3007 - acc: 0.4210 - val_loss: 2.2310 - val_acc: 0.4440\n",
            "Epoch 18/30\n",
            "100/100 [==============================] - 6s 58ms/step - loss: 2.2511 - acc: 0.4215 - val_loss: 2.2204 - val_acc: 0.4320\n",
            "Epoch 19/30\n",
            "100/100 [==============================] - 6s 59ms/step - loss: 2.2318 - acc: 0.4315 - val_loss: 2.2435 - val_acc: 0.4140\n",
            "Epoch 20/30\n",
            "100/100 [==============================] - 6s 59ms/step - loss: 2.1649 - acc: 0.4545 - val_loss: 2.1471 - val_acc: 0.4540\n",
            "Epoch 21/30\n",
            " 26/100 [======>.......................] - ETA: 3s - loss: 2.1627 - acc: 0.4808"
          ],
          "name": "stdout"
        },
        {
          "output_type": "stream",
          "text": [
            "100/100 [==============================] - 6s 59ms/step - loss: 2.1541 - acc: 0.4645 - val_loss: 2.1344 - val_acc: 0.4670\n",
            "Epoch 22/30\n",
            "100/100 [==============================] - 6s 59ms/step - loss: 2.1217 - acc: 0.4505 - val_loss: 2.1454 - val_acc: 0.4510\n",
            "Epoch 23/30\n",
            "100/100 [==============================] - 6s 59ms/step - loss: 2.0747 - acc: 0.4620 - val_loss: 2.1086 - val_acc: 0.4560\n",
            "Epoch 24/30\n",
            "100/100 [==============================] - 6s 59ms/step - loss: 2.0991 - acc: 0.4625 - val_loss: 2.1391 - val_acc: 0.4470\n",
            "Epoch 25/30\n",
            " 29/100 [=======>......................] - ETA: 3s - loss: 2.0120 - acc: 0.4897"
          ],
          "name": "stdout"
        },
        {
          "output_type": "stream",
          "text": [
            "100/100 [==============================] - 6s 58ms/step - loss: 2.0151 - acc: 0.4850 - val_loss: 2.0366 - val_acc: 0.4720\n",
            "Epoch 26/30\n",
            "100/100 [==============================] - 6s 57ms/step - loss: 2.0183 - acc: 0.4815 - val_loss: 2.0925 - val_acc: 0.4540\n",
            "Epoch 27/30\n",
            "100/100 [==============================] - 6s 58ms/step - loss: 2.0465 - acc: 0.4900 - val_loss: 2.0162 - val_acc: 0.4580\n",
            "Epoch 28/30\n",
            "100/100 [==============================] - 6s 58ms/step - loss: 1.9354 - acc: 0.4780 - val_loss: 2.0065 - val_acc: 0.4830\n",
            "Epoch 29/30\n",
            " 57/100 [================>.............] - ETA: 2s - loss: 1.8159 - acc: 0.5219"
          ],
          "name": "stdout"
        },
        {
          "output_type": "stream",
          "text": [
            "100/100 [==============================] - 6s 58ms/step - loss: 1.8066 - acc: 0.5270 - val_loss: 2.0593 - val_acc: 0.4750\n",
            "Epoch 30/30\n",
            "100/100 [==============================] - 6s 59ms/step - loss: 1.9335 - acc: 0.5110 - val_loss: 1.9275 - val_acc: 0.4950\n"
          ],
          "name": "stdout"
        }
      ]
    },
    {
      "metadata": {
        "id": "exNUDYpMwmU-",
        "colab_type": "code",
        "colab": {
          "base_uri": "https://localhost:8080/",
          "height": 706
        },
        "outputId": "d27f099d-0fdc-4ee0-d7bd-a01f4be15be5"
      },
      "cell_type": "code",
      "source": [
        "import matplotlib.pyplot as plt\n",
        "\n",
        "acc = history.history['acc']\n",
        "val_acc = history.history['val_acc']\n",
        "loss = history.history['loss']\n",
        "val_loss = history.history['val_loss']\n",
        "\n",
        "epochs = range(len(acc))\n",
        "\n",
        "plt.plot(epochs, acc, 'bo', label='Training acc')\n",
        "plt.plot(epochs, val_acc, 'b', label='Validation acc')\n",
        "plt.title('Training and validation accuracy')\n",
        "plt.legend()\n",
        "\n",
        "plt.figure()\n",
        "\n",
        "plt.plot(epochs, loss, 'bo', label='Training loss')\n",
        "plt.plot(epochs, val_loss, 'b', label='Validation loss')\n",
        "plt.title('Training and validation loss')\n",
        "plt.legend()\n",
        "\n",
        "plt.show()"
      ],
      "execution_count": 40,
      "outputs": [
        {
          "output_type": "display_data",
          "data": {
            "image/png": "[encoded data removed]",
            "text/plain": [
              "<matplotlib.figure.Figure at 0x7f14a7bdb2b0>"
            ]
          },
          "metadata": {
            "tags": []
          }
        },
        {
          "output_type": "display_data",
          "data": {
            "image/png": "[encoded data removed]",
            "text/plain": [
              "<matplotlib.figure.Figure at 0x7f14dec73240>"
            ]
          },
          "metadata": {
            "tags": []
          }
        }
      ]
    },
    {
      "metadata": {
        "id": "AUV0kenlwmVC",
        "colab_type": "code",
        "colab": {
          "base_uri": "https://localhost:8080/",
          "height": 34
        },
        "outputId": "6501b941-8ae4-415a-8f6e-597e33babc35"
      },
      "cell_type": "code",
      "source": [
        "print(history.history.keys())"
      ],
      "execution_count": 41,
      "outputs": [
        {
          "output_type": "stream",
          "text": [
            "dict_keys(['val_loss', 'val_acc', 'loss', 'acc'])\n"
          ],
          "name": "stdout"
        }
      ]
    },
    {
      "metadata": {
        "id": "9rOo9URswmVE",
        "colab_type": "code",
        "colab": {}
      },
      "cell_type": "code",
      "source": [
        "model1.evaluate(test_generator, y = ytestenc, batch_size=384, verbose=1)"
      ],
      "execution_count": 0,
      "outputs": []
    },
    {
      "metadata": {
        "id": "HinDSdTmwmVF",
        "colab_type": "code",
        "colab": {
          "base_uri": "https://localhost:8080/",
          "height": 50
        },
        "outputId": "0b727fdc-265b-4e36-81dd-1df25f934350"
      },
      "cell_type": "code",
      "source": [
        "print(test_dir)\n",
        "from keras.preprocessing.image import ImageDataGenerator\n",
        "test_datagen = ImageDataGenerator(rescale=1./255)\n",
        "test_generator = test_datagen.flow_from_directory(\n",
        "        test_dir,\n",
        "        target_size=(150, 150),\n",
        "        batch_size=20,\n",
        "        classes=None,\n",
        "        class_mode=None)\n"
      ],
      "execution_count": 42,
      "outputs": [
        {
          "output_type": "stream",
          "text": [
            "/content/plankton/test\n",
            "Found 130400 images belonging to 1 classes.\n"
          ],
          "name": "stdout"
        }
      ]
    },
    {
      "metadata": {
        "id": "Rw-6YQsIwmVJ",
        "colab_type": "code",
        "colab": {}
      },
      "cell_type": "code",
      "source": [
        "from keras.models import load_model\n",
        "saved_model = load_model('plankton_1.h5')"
      ],
      "execution_count": 0,
      "outputs": []
    },
    {
      "metadata": {
        "id": "j8tNaqdswmVK",
        "colab_type": "code",
        "colab": {}
      },
      "cell_type": "code",
      "source": [
        "import numpy as np\n",
        "res = model.predict_generator(test_generator)\n"
      ],
      "execution_count": 0,
      "outputs": []
    },
    {
      "metadata": {
        "id": "AKdA5BlPwmVM",
        "colab_type": "code",
        "colab": {
          "base_uri": "https://localhost:8080/",
          "height": 34
        },
        "outputId": "c75960fe-508a-4ed6-cc49-ac7e0dfe3506"
      },
      "cell_type": "code",
      "source": [
        "len(test_generator.filenames)"
      ],
      "execution_count": 44,
      "outputs": [
        {
          "output_type": "execute_result",
          "data": {
            "text/plain": [
              "130400"
            ]
          },
          "metadata": {
            "tags": []
          },
          "execution_count": 44
        }
      ]
    },
    {
      "metadata": {
        "id": "0RyIXc9TwmV7",
        "colab_type": "code",
        "colab": {}
      },
      "cell_type": "code",
      "source": [
        "import pandas as pd\n",
        "df = pd.DataFrame(data=res, columns=[*train_generator.class_indices])\n",
        "df['image'] = [x.replace(\"test/\",\"\") for x in test_generator.filenames]\n",
        "df['image']\n"
      ],
      "execution_count": 0,
      "outputs": []
    },
    {
      "metadata": {
        "id": "rR_flPQ1wmV-",
        "colab_type": "code",
        "colab": {
          "base_uri": "https://localhost:8080/",
          "height": 328
        },
        "outputId": "ca7ebde7-9ace-4b4f-ba04-87ec01f64de6"
      },
      "cell_type": "code",
      "source": [
        "df.to_csv(\"/content/plankton/result.csv\", encoding='utf-8',index=False)\n",
        "df.head()"
      ],
      "execution_count": 71,
      "outputs": [
        {
          "output_type": "execute_result",
          "data": {
            "text/html": [
              "<div>\n",
              "<style scoped>\n",
              "    .dataframe tbody tr th:only-of-type {\n",
              "        vertical-align: middle;\n",
              "    }\n",
              "\n",
              "    .dataframe tbody tr th {\n",
              "        vertical-align: top;\n",
              "    }\n",
              "\n",
              "    .dataframe thead th {\n",
              "        text-align: right;\n",
              "    }\n",
              "</style>\n",
              "<table border=\"1\" class=\"dataframe\">\n",
              "  <thead>\n",
              "    <tr style=\"text-align: right;\">\n",
              "      <th></th>\n",
              "      <th>acantharia_protist</th>\n",
              "      <th>acantharia_protist_big_center</th>\n",
              "      <th>acantharia_protist_halo</th>\n",
              "      <th>amphipods</th>\n",
              "      <th>appendicularian_fritillaridae</th>\n",
              "      <th>appendicularian_s_shape</th>\n",
              "      <th>appendicularian_slight_curve</th>\n",
              "      <th>appendicularian_straight</th>\n",
              "      <th>artifacts</th>\n",
              "      <th>artifacts_edge</th>\n",
              "      <th>...</th>\n",
              "      <th>trochophore_larvae</th>\n",
              "      <th>tunicate_doliolid</th>\n",
              "      <th>tunicate_doliolid_nurse</th>\n",
              "      <th>tunicate_partial</th>\n",
              "      <th>tunicate_salp</th>\n",
              "      <th>tunicate_salp_chains</th>\n",
              "      <th>unknown_blobs_and_smudges</th>\n",
              "      <th>unknown_sticks</th>\n",
              "      <th>unknown_unclassified</th>\n",
              "      <th>image</th>\n",
              "    </tr>\n",
              "  </thead>\n",
              "  <tbody>\n",
              "    <tr>\n",
              "      <th>0</th>\n",
              "      <td>0.028220</td>\n",
              "      <td>1.977395e-08</td>\n",
              "      <td>1.825410e-05</td>\n",
              "      <td>2.372684e-08</td>\n",
              "      <td>7.344640e-09</td>\n",
              "      <td>0.000034</td>\n",
              "      <td>0.000190</td>\n",
              "      <td>0.000084</td>\n",
              "      <td>0.122174</td>\n",
              "      <td>2.557359e-03</td>\n",
              "      <td>...</td>\n",
              "      <td>6.317570e-08</td>\n",
              "      <td>0.000021</td>\n",
              "      <td>0.000002</td>\n",
              "      <td>1.816994e-08</td>\n",
              "      <td>6.513609e-09</td>\n",
              "      <td>5.062655e-09</td>\n",
              "      <td>0.000431</td>\n",
              "      <td>0.000281</td>\n",
              "      <td>0.000585</td>\n",
              "      <td>1.jpg</td>\n",
              "    </tr>\n",
              "    <tr>\n",
              "      <th>1</th>\n",
              "      <td>0.000025</td>\n",
              "      <td>2.295016e-08</td>\n",
              "      <td>4.764014e-04</td>\n",
              "      <td>1.875574e-04</td>\n",
              "      <td>8.176722e-07</td>\n",
              "      <td>0.000263</td>\n",
              "      <td>0.000142</td>\n",
              "      <td>0.000265</td>\n",
              "      <td>0.000002</td>\n",
              "      <td>8.488574e-07</td>\n",
              "      <td>...</td>\n",
              "      <td>4.591848e-06</td>\n",
              "      <td>0.001316</td>\n",
              "      <td>0.001148</td>\n",
              "      <td>1.772603e-06</td>\n",
              "      <td>5.030629e-05</td>\n",
              "      <td>8.383949e-06</td>\n",
              "      <td>0.008346</td>\n",
              "      <td>0.000346</td>\n",
              "      <td>0.012560</td>\n",
              "      <td>10.jpg</td>\n",
              "    </tr>\n",
              "    <tr>\n",
              "      <th>2</th>\n",
              "      <td>0.017032</td>\n",
              "      <td>2.465684e-06</td>\n",
              "      <td>3.015024e-03</td>\n",
              "      <td>1.307744e-04</td>\n",
              "      <td>1.914554e-05</td>\n",
              "      <td>0.023317</td>\n",
              "      <td>0.019739</td>\n",
              "      <td>0.008481</td>\n",
              "      <td>0.017547</td>\n",
              "      <td>9.055361e-04</td>\n",
              "      <td>...</td>\n",
              "      <td>3.366441e-05</td>\n",
              "      <td>0.007432</td>\n",
              "      <td>0.001271</td>\n",
              "      <td>3.710407e-06</td>\n",
              "      <td>2.521064e-05</td>\n",
              "      <td>3.364211e-06</td>\n",
              "      <td>0.014288</td>\n",
              "      <td>0.008402</td>\n",
              "      <td>0.011961</td>\n",
              "      <td>100.jpg</td>\n",
              "    </tr>\n",
              "    <tr>\n",
              "      <th>3</th>\n",
              "      <td>0.000063</td>\n",
              "      <td>2.128904e-08</td>\n",
              "      <td>1.624104e-03</td>\n",
              "      <td>3.928225e-04</td>\n",
              "      <td>2.615836e-07</td>\n",
              "      <td>0.000141</td>\n",
              "      <td>0.000234</td>\n",
              "      <td>0.000827</td>\n",
              "      <td>0.000003</td>\n",
              "      <td>3.322414e-05</td>\n",
              "      <td>...</td>\n",
              "      <td>2.929890e-05</td>\n",
              "      <td>0.003914</td>\n",
              "      <td>0.006489</td>\n",
              "      <td>6.773369e-05</td>\n",
              "      <td>1.110332e-03</td>\n",
              "      <td>8.872343e-05</td>\n",
              "      <td>0.001414</td>\n",
              "      <td>0.000139</td>\n",
              "      <td>0.019378</td>\n",
              "      <td>1000.jpg</td>\n",
              "    </tr>\n",
              "    <tr>\n",
              "      <th>4</th>\n",
              "      <td>0.000025</td>\n",
              "      <td>1.177097e-09</td>\n",
              "      <td>2.473762e-07</td>\n",
              "      <td>1.305699e-04</td>\n",
              "      <td>7.218599e-09</td>\n",
              "      <td>0.000349</td>\n",
              "      <td>0.001096</td>\n",
              "      <td>0.004977</td>\n",
              "      <td>0.000002</td>\n",
              "      <td>1.088048e-05</td>\n",
              "      <td>...</td>\n",
              "      <td>6.341718e-08</td>\n",
              "      <td>0.000035</td>\n",
              "      <td>0.000592</td>\n",
              "      <td>1.186635e-05</td>\n",
              "      <td>9.566836e-06</td>\n",
              "      <td>3.341473e-05</td>\n",
              "      <td>0.002892</td>\n",
              "      <td>0.001429</td>\n",
              "      <td>0.002651</td>\n",
              "      <td>10000.jpg</td>\n",
              "    </tr>\n",
              "  </tbody>\n",
              "</table>\n",
              "<p>5 rows × 122 columns</p>\n",
              "</div>"
            ],
            "text/plain": [
              "   acantharia_protist  acantharia_protist_big_center  acantharia_protist_halo  \\\n",
              "0            0.028220                   1.977395e-08             1.825410e-05   \n",
              "1            0.000025                   2.295016e-08             4.764014e-04   \n",
              "2            0.017032                   2.465684e-06             3.015024e-03   \n",
              "3            0.000063                   2.128904e-08             1.624104e-03   \n",
              "4            0.000025                   1.177097e-09             2.473762e-07   \n",
              "\n",
              "      amphipods  appendicularian_fritillaridae  appendicularian_s_shape  \\\n",
              "0  2.372684e-08                   7.344640e-09                 0.000034   \n",
              "1  1.875574e-04                   8.176722e-07                 0.000263   \n",
              "2  1.307744e-04                   1.914554e-05                 0.023317   \n",
              "3  3.928225e-04                   2.615836e-07                 0.000141   \n",
              "4  1.305699e-04                   7.218599e-09                 0.000349   \n",
              "\n",
              "   appendicularian_slight_curve  appendicularian_straight  artifacts  \\\n",
              "0                      0.000190                  0.000084   0.122174   \n",
              "1                      0.000142                  0.000265   0.000002   \n",
              "2                      0.019739                  0.008481   0.017547   \n",
              "3                      0.000234                  0.000827   0.000003   \n",
              "4                      0.001096                  0.004977   0.000002   \n",
              "\n",
              "   artifacts_edge    ...      trochophore_larvae  tunicate_doliolid  \\\n",
              "0    2.557359e-03    ...            6.317570e-08           0.000021   \n",
              "1    8.488574e-07    ...            4.591848e-06           0.001316   \n",
              "2    9.055361e-04    ...            3.366441e-05           0.007432   \n",
              "3    3.322414e-05    ...            2.929890e-05           0.003914   \n",
              "4    1.088048e-05    ...            6.341718e-08           0.000035   \n",
              "\n",
              "   tunicate_doliolid_nurse  tunicate_partial  tunicate_salp  \\\n",
              "0                 0.000002      1.816994e-08   6.513609e-09   \n",
              "1                 0.001148      1.772603e-06   5.030629e-05   \n",
              "2                 0.001271      3.710407e-06   2.521064e-05   \n",
              "3                 0.006489      6.773369e-05   1.110332e-03   \n",
              "4                 0.000592      1.186635e-05   9.566836e-06   \n",
              "\n",
              "   tunicate_salp_chains  unknown_blobs_and_smudges  unknown_sticks  \\\n",
              "0          5.062655e-09                   0.000431        0.000281   \n",
              "1          8.383949e-06                   0.008346        0.000346   \n",
              "2          3.364211e-06                   0.014288        0.008402   \n",
              "3          8.872343e-05                   0.001414        0.000139   \n",
              "4          3.341473e-05                   0.002892        0.001429   \n",
              "\n",
              "   unknown_unclassified      image  \n",
              "0              0.000585      1.jpg  \n",
              "1              0.012560     10.jpg  \n",
              "2              0.011961    100.jpg  \n",
              "3              0.019378   1000.jpg  \n",
              "4              0.002651  10000.jpg  \n",
              "\n",
              "[5 rows x 122 columns]"
            ]
          },
          "metadata": {
            "tags": []
          },
          "execution_count": 71
        }
      ]
    },
    {
      "metadata": {
        "id": "VGWonxNpJeDr",
        "colab_type": "code",
        "colab": {
          "base_uri": "https://localhost:8080/",
          "height": 185
        },
        "outputId": "b1b955da-a7b0-413c-f7e9-e2da0d6161a8"
      },
      "cell_type": "code",
      "source": [
        "result2 = pd.read_csv('/content/plankton/result.csv')\n",
        "result2.columns"
      ],
      "execution_count": 72,
      "outputs": [
        {
          "output_type": "execute_result",
          "data": {
            "text/plain": [
              "Index(['acantharia_protist', 'acantharia_protist_big_center',\n",
              "       'acantharia_protist_halo', 'amphipods', 'appendicularian_fritillaridae',\n",
              "       'appendicularian_s_shape', 'appendicularian_slight_curve',\n",
              "       'appendicularian_straight', 'artifacts', 'artifacts_edge',\n",
              "       ...\n",
              "       'trochophore_larvae', 'tunicate_doliolid', 'tunicate_doliolid_nurse',\n",
              "       'tunicate_partial', 'tunicate_salp', 'tunicate_salp_chains',\n",
              "       'unknown_blobs_and_smudges', 'unknown_sticks', 'unknown_unclassified',\n",
              "       'image'],\n",
              "      dtype='object', length=122)"
            ]
          },
          "metadata": {
            "tags": []
          },
          "execution_count": 72
        }
      ]
    },
    {
      "metadata": {
        "id": "37GymmJtGME1",
        "colab_type": "code",
        "colab": {
          "base_uri": "https://localhost:8080/",
          "height": 34
        },
        "outputId": "651f8b26-3cfc-4db4-a7fb-5cea8d772e25"
      },
      "cell_type": "code",
      "source": [
        "!kaggle competitions submit -c datasciencebowl -f /content/plankton/result.csv -m \"first one\""
      ],
      "execution_count": 73,
      "outputs": [
        {
          "output_type": "stream",
          "text": [
            "Successfully submitted to National Data Science Bowl"
          ],
          "name": "stdout"
        }
      ]
    }
  ]
}