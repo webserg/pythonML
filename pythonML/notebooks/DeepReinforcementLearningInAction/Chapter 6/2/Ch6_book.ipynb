{
 "cells": [
  {
   "cell_type": "markdown",
   "metadata": {},
   "source": [
    "# Chapter 6 - Evolutionary Algorithms\n",
    "### Deep Reinforcement Learning *in Action*"
   ]
  },
  {
   "cell_type": "markdown",
   "metadata": {},
   "source": [
    "##### Listing 6.1"
   ]
  },
  {
   "cell_type": "code",
   "execution_count": 1,
   "metadata": {},
   "outputs": [],
   "source": [
    "import random\n",
    "import numpy as np\n",
    "from matplotlib import pyplot as plt\n",
    "\n",
    "alphabet = \"abcdefghijklmnopqrstuvwxyzABCDEFGHIJKLMNOPQRSTUVWXYZ,.! \" #A\n",
    "target = \"Hello World!\" #B\n",
    "\n",
    "class Individual: #C\n",
    "    def __init__(self, string, fitness=0):\n",
    "        self.string = string\n",
    "        self.fitness = fitness\n",
    "\n",
    "from difflib import SequenceMatcher\n",
    "\n",
    "def similar(a, b): #D\n",
    "    return SequenceMatcher(None, a, b).ratio()\n",
    "\n",
    "def spawn_population(length=26,size=100): #E\n",
    "    pop = []\n",
    "    for i in range(size):\n",
    "        string = ''.join(random.choices(alphabet,k=length))\n",
    "        individual = Individual(string)\n",
    "        pop.append(individual)\n",
    "    return pop\n",
    "\n",
    "#A This is the list of characters we sample from to produce random strings\n",
    "#B This is the string we’re trying to evolve from a random population\n",
    "#C We set up a simple class to store information about each member of the population\n",
    "#D This method will compute a similarity metric between two strings, giving us a fitness score\n",
    "#E This method will produce an initial random population of strings"
   ]
  },
  {
   "cell_type": "markdown",
   "metadata": {},
   "source": [
    "##### Listing 6.2"
   ]
  },
  {
   "cell_type": "code",
   "execution_count": 2,
   "metadata": {},
   "outputs": [],
   "source": [
    "def recombine(p1_, p2_): #A\n",
    "    p1 = p1_.string\n",
    "    p2 = p2_.string\n",
    "    child1 = []\n",
    "    child2 = []\n",
    "    cross_pt = random.randint(0,len(p1))\n",
    "    child1.extend(p1[0:cross_pt])\n",
    "    child1.extend(p2[cross_pt:])\n",
    "    child2.extend(p2[0:cross_pt])\n",
    "    child2.extend(p1[cross_pt:])\n",
    "    c1 = Individual(''.join(child1))\n",
    "    c2 = Individual(''.join(child2))\n",
    "    return c1, c2\n",
    "\n",
    "def mutate(x, mut_rate=0.01): #B\n",
    "    new_x_ = []\n",
    "    for char in x.string:\n",
    "        if random.random() < mut_rate:\n",
    "            new_x_.extend(random.choices(alphabet,k=1))\n",
    "        else:\n",
    "            new_x_.append(char)\n",
    "    new_x = Individual(''.join(new_x_))\n",
    "    return new_x\n",
    "\n",
    "#A This function recombines two parent strings into two new offspring\n",
    "#B This function will mutate a string by randomly flipping characters"
   ]
  },
  {
   "cell_type": "markdown",
   "metadata": {},
   "source": [
    "##### Listing 6.3"
   ]
  },
  {
   "cell_type": "code",
   "execution_count": 3,
   "metadata": {},
   "outputs": [],
   "source": [
    "def evaluate_population(pop, target): #A\n",
    "    avg_fit = 0\n",
    "    for i in range(len(pop)):\n",
    "        fit = similar(pop[i].string, target)\n",
    "        pop[i].fitness = fit\n",
    "        avg_fit += fit\n",
    "    avg_fit /= len(pop)\n",
    "    return pop, avg_fit\n",
    "\n",
    "def next_generation(pop, size=100, length=26, mut_rate=0.01): #B\n",
    "    new_pop = []\n",
    "    while len(new_pop) < size:\n",
    "        parents = random.choices(pop,k=2, weights=[x.fitness for x in pop])\n",
    "        offspring_ = recombine(parents[0],parents[1])\n",
    "        child1 = mutate(offspring_[0], mut_rate=mut_rate)\n",
    "        child2 = mutate(offspring_[1], mut_rate=mut_rate)\n",
    "        offspring = [child1, child2]\n",
    "        new_pop.extend(offspring)\n",
    "    return new_pop\n",
    "\n",
    "#A This function assigns a fitness score to each individual in the population\n",
    "#B This function generates a new generation by recombination and mutation"
   ]
  },
  {
   "cell_type": "markdown",
   "metadata": {},
   "source": [
    "##### Listing 6.4"
   ]
  },
  {
   "cell_type": "code",
   "execution_count": 4,
   "metadata": {},
   "outputs": [
    {
     "name": "stdout",
     "output_type": "stream",
     "text": [
      "Target Found!\n"
     ]
    }
   ],
   "source": [
    "num_generations = 150\n",
    "population_size = 900\n",
    "str_len = len(target)\n",
    "mutation_rate = 0.00001 #A\n",
    "\n",
    "pop_fit = []\n",
    "pop = spawn_population(size=population_size, length=str_len) #B\n",
    "done = False\n",
    "for gen in range(num_generations):\n",
    "    pop, avg_fit = evaluate_population(pop, target)\n",
    "    pop_fit.append(avg_fit) #C\n",
    "    new_pop = next_generation(pop, \\\n",
    "        size=population_size, length=str_len, mut_rate=mutation_rate)\n",
    "    pop = new_pop\n",
    "    for x in pop: \n",
    "        if x.string == target: \n",
    "            print(\"Target Found!\")\n",
    "            done = True\n",
    "    if done:\n",
    "        break\n",
    "#A Set the mutation rate to 0.1%\n",
    "#B Create the initial random population\n",
    "#C Record population average fitness over training time"
   ]
  },
  {
   "cell_type": "code",
   "execution_count": 5,
   "metadata": {},
   "outputs": [
    {
     "data": {
      "text/plain": [
       "'HllHoWr.rod!'"
      ]
     },
     "execution_count": 5,
     "metadata": {},
     "output_type": "execute_result"
    }
   ],
   "source": [
    "pop.sort(key=lambda x: x.fitness, reverse=True) #sort in place, highest fitness first\n",
    "pop[0].string"
   ]
  },
  {
   "cell_type": "code",
   "execution_count": 6,
   "metadata": {},
   "outputs": [
    {
     "data": {
      "text/plain": [
       "[<matplotlib.lines.Line2D at 0x1656c23aac8>]"
      ]
     },
     "execution_count": 6,
     "metadata": {},
     "output_type": "execute_result"
    },
    {
     "data": {
      "image/png": "[encoded data removed]",
      "text/plain": [
       "<Figure size 864x504 with 1 Axes>"
      ]
     },
     "metadata": {
      "needs_background": "light"
     },
     "output_type": "display_data"
    }
   ],
   "source": [
    "plt.figure(figsize=(12,7))\n",
    "plt.xlabel(\"Generations\",fontsize=22)\n",
    "plt.ylabel(\"Fitness\",fontsize=22)\n",
    "plt.plot(pop_fit)"
   ]
  },
  {
   "cell_type": "markdown",
   "metadata": {},
   "source": [
    "##### Listing 6.5\n",
    "CartPole Example"
   ]
  },
  {
   "cell_type": "code",
   "execution_count": 7,
   "metadata": {},
   "outputs": [],
   "source": [
    "import torch"
   ]
  },
  {
   "cell_type": "markdown",
   "metadata": {},
   "source": [
    "Total number of parameters: $4*25 + 25 + 10*25 + 10 + 2*10 + 2 = 407$"
   ]
  },
  {
   "cell_type": "code",
   "execution_count": 8,
   "metadata": {},
   "outputs": [],
   "source": [
    "def model(x,unpacked_params):\n",
    "    l1,b1,l2,b2,l3,b3 = unpacked_params #A\n",
    "    y = torch.nn.functional.linear(x,l1,b1) #B\n",
    "    y = torch.relu(y) #C\n",
    "    y = torch.nn.functional.linear(y,l2,b2)\n",
    "    y = torch.relu(y)\n",
    "    y = torch.nn.functional.linear(y,l3,b3)\n",
    "    y = torch.log_softmax(y,dim=0) #D\n",
    "    return y\n",
    "\n",
    "#A Unpack the parameter vector into individual layer matrices\n",
    "#B Simple linear layer with bias\n",
    "#C Rectified linear unit activation function\n",
    "#D The last layer will output log-probabilities over actions"
   ]
  },
  {
   "cell_type": "markdown",
   "metadata": {},
   "source": [
    "##### Listing 6.6"
   ]
  },
  {
   "cell_type": "code",
   "execution_count": 9,
   "metadata": {},
   "outputs": [],
   "source": [
    "def unpack_params(params, layers=[(25,4),(10,25),(2,10)]): #A\n",
    "    unpacked_params = [] #B\n",
    "    e = 0\n",
    "    for i,l in enumerate(layers): #C\n",
    "        s,e = e,e+np.prod(l)\n",
    "        weights = params[s:e].view(l) #D\n",
    "        s,e = e,e+l[0]\n",
    "        bias = params[s:e]\n",
    "        unpacked_params.extend([weights,bias]) #E\n",
    "    return unpacked_params\n",
    "\n",
    "#A The `layers` parameter specifies the shape of each layer matrix\n",
    "#B Store each individual layer tensor\n",
    "#C Iterate through each layer\n",
    "#D Unpack the indivudal layer into matrix form\n",
    "#E Add the unpacked tensor to the list"
   ]
  },
  {
   "cell_type": "markdown",
   "metadata": {},
   "source": [
    "##### Listing 6.7"
   ]
  },
  {
   "cell_type": "code",
   "execution_count": 10,
   "metadata": {},
   "outputs": [],
   "source": [
    "def spawn_population(N=50,size=407): #A\n",
    "    pop = []\n",
    "    for i in range(N):\n",
    "        vec = torch.randn(size) / 2.0 #B\n",
    "        fit = 0\n",
    "        p = {'params':vec, 'fitness':fit} #C\n",
    "        pop.append(p)\n",
    "    return pop\n",
    "\n",
    "#A `N` is the number of individuals in the population, `size` is the length of the parameter vectors\n",
    "#B Create a randomly initialized parameter vector\n",
    "#C Create a dictionary to store the parameter vector and its associated fitness score"
   ]
  },
  {
   "cell_type": "markdown",
   "metadata": {},
   "source": [
    "##### Listing 6.8"
   ]
  },
  {
   "cell_type": "code",
   "execution_count": 11,
   "metadata": {},
   "outputs": [],
   "source": [
    "def recombine(x1,x2): #A\n",
    "    x1 = x1['params'] #B\n",
    "    x2 = x2['params']\n",
    "    l = x1.shape[0]\n",
    "    split_pt = np.random.randint(l) #C\n",
    "    child1 = torch.zeros(l)\n",
    "    child2 = torch.zeros(l)\n",
    "    child1[0:split_pt] = x1[0:split_pt] #D\n",
    "    child1[split_pt:] = x2[split_pt:]\n",
    "    child2[0:split_pt] = x2[0:split_pt]\n",
    "    child2[split_pt:] = x1[split_pt:]\n",
    "    c1 = {'params':child1, 'fitness': 0.0} #E\n",
    "    c2 = {'params':child2, 'fitness': 0.0}\n",
    "    return c1, c2\n",
    "\n",
    "#A x1 and x2 are agents which are dictionaries\n",
    "#B Extract just the parameter vector\n",
    "#C Randomly produce a split or crossover point\n",
    "#D The first child is produced by taking the first segment of parent 1 and the second segment of parent 2\n",
    "#E Create new children agents by packaging the new parameter vectors into dictionaries"
   ]
  },
  {
   "cell_type": "markdown",
   "metadata": {},
   "source": [
    "##### Listing 6.9"
   ]
  },
  {
   "cell_type": "code",
   "execution_count": 12,
   "metadata": {},
   "outputs": [],
   "source": [
    "def mutate(x, rate=0.01): #A\n",
    "    x_ = x['params']\n",
    "    num_to_change = int(rate * x_.shape[0]) #B\n",
    "    idx = np.random.randint(low=0,high=x_.shape[0],size=(num_to_change,))\n",
    "    x_[idx] = torch.randn(num_to_change) / 10.0 #C\n",
    "    x['params'] = x_\n",
    "    return x\n",
    "\n",
    "#A `rate` is the mutation rate where 0.01 is a 1% mutation rate\n",
    "#B Use the mutation rate to decide how many elements in the parameter vector to mutate\n",
    "#C Randomly reset the selected elements in the parameter vector"
   ]
  },
  {
   "cell_type": "markdown",
   "metadata": {},
   "source": [
    "##### Listing 6.10"
   ]
  },
  {
   "cell_type": "code",
   "execution_count": 13,
   "metadata": {},
   "outputs": [],
   "source": [
    "import gym\n",
    "env = gym.make(\"CartPole-v0\")"
   ]
  },
  {
   "cell_type": "code",
   "execution_count": 14,
   "metadata": {},
   "outputs": [],
   "source": [
    "def test_model(agent):\n",
    "    done = False\n",
    "    state = torch.from_numpy(env.reset()).float()\n",
    "    score = 0\n",
    "    while not done: #A\n",
    "        params = unpack_params(agent['params'])\n",
    "        probs = model(state,params) #B\n",
    "        action = torch.distributions.Categorical(probs=probs).sample() #C\n",
    "        state_, reward, done, info = env.step(action.item())\n",
    "        state = torch.from_numpy(state_).float()\n",
    "        score += 1 #D\n",
    "    return score\n",
    "\n",
    "#A While game is not lost\n",
    "#B Get the action probabilities from the model using the agent's parameter vector\n",
    "#C Probabilistically select an action by sampling from a categorical distribution\n",
    "#D Keep track of the number of time steps the game is not lost as the score"
   ]
  },
  {
   "cell_type": "markdown",
   "metadata": {},
   "source": [
    "##### Listing 6.11"
   ]
  },
  {
   "cell_type": "code",
   "execution_count": 15,
   "metadata": {},
   "outputs": [],
   "source": [
    "def evaluate_population(pop):\n",
    "    tot_fit = 0 #A\n",
    "    lp = len(pop)\n",
    "    for agent in pop: #B\n",
    "        score = test_model(agent) #C\n",
    "        agent['fitness'] = score #D\n",
    "        tot_fit += score\n",
    "    avg_fit = tot_fit / lp\n",
    "    return pop, avg_fit\n",
    "\n",
    "#A Total fitness for this population; used to later calculate the average fitness of the population\n",
    "#B Iterate through each agent in the population\n",
    "#C Run the agent in the environment to assess its fitness\n",
    "#D Store the fitness value"
   ]
  },
  {
   "cell_type": "markdown",
   "metadata": {},
   "source": [
    "##### Listing 6.12"
   ]
  },
  {
   "cell_type": "code",
   "execution_count": 16,
   "metadata": {},
   "outputs": [],
   "source": [
    "def next_generation(pop,mut_rate=0.001,tournament_size=0.2):\n",
    "    new_pop = []\n",
    "    lp = len(pop)\n",
    "    while len(new_pop) < len(pop): #A\n",
    "        rids = np.random.randint(low=0,high=lp,size=(int(tournament_size*lp))) #B\n",
    "        batch = np.array([[i,x['fitness']] for (i,x) in enumerate(pop) if i in rids]) #C\n",
    "        scores = batch[batch[:, 1].argsort()] #D\n",
    "        i0, i1 = int(scores[-1][0]),int(scores[-2][0]) #E\n",
    "        parent0,parent1 = pop[i0],pop[i1]\n",
    "        offspring_ = recombine(parent0,parent1) #F\n",
    "        child1 = mutate(offspring_[0], rate=mut_rate) #G\n",
    "        child2 = mutate(offspring_[1], rate=mut_rate)\n",
    "        offspring = [child1, child2]\n",
    "        new_pop.extend(offspring)\n",
    "    return new_pop\n",
    "\n",
    "#A While the new population is not full\n",
    "#B Select a percentage of the full population as a subset\n",
    "#C Subset the population to get a batch of agents and match each one with their index value in the original population\n",
    "#D Sort this batch in increasing order of score\n",
    "#E The last agents in the sorted batch are the agents with the highest scores; select the top 2 as parents\n",
    "#F Recombine the parents to get offspring\n",
    "#G Mutate the children before putting them into the next generation"
   ]
  },
  {
   "cell_type": "markdown",
   "metadata": {},
   "source": [
    "##### Listing 6.13"
   ]
  },
  {
   "cell_type": "code",
   "execution_count": 17,
   "metadata": {},
   "outputs": [],
   "source": [
    "num_generations = 20 #A\n",
    "population_size = 500 #B\n",
    "mutation_rate = 0.01\n",
    "pop_fit = []\n",
    "pop = spawn_population(N=population_size,size=407) #C\n",
    "for i in range(num_generations):\n",
    "    pop, avg_fit = evaluate_population(pop) #D\n",
    "    pop_fit.append(avg_fit)\n",
    "    pop = next_generation(pop, mut_rate=mutation_rate,tournament_size=0.2) #E\n",
    "    \n",
    "#A The number of generations to evolve\n",
    "#B The number of individuals in each generation\n",
    "#C Initialize a population\n",
    "#D Evaluate the fitness of each agent in the population\n",
    "#E Populate the next generation"
   ]
  },
  {
   "cell_type": "code",
   "execution_count": 20,
   "metadata": {},
   "outputs": [
    {
     "data": {
      "text/plain": [
       "[<matplotlib.lines.Line2D at 0x1656ecfb438>]"
      ]
     },
     "execution_count": 20,
     "metadata": {},
     "output_type": "execute_result"
    },
    {
     "data": {
      "image/png": "[encoded data removed]",
      "text/plain": [
       "<Figure size 864x504 with 1 Axes>"
      ]
     },
     "metadata": {
      "needs_background": "light"
     },
     "output_type": "display_data"
    }
   ],
   "source": [
    "plt.figure(figsize=(12,7))\n",
    "plt.xlabel(\"Generations\",fontsize=22)\n",
    "plt.ylabel(\"Score\",fontsize=22)\n",
    "plt.plot(running_mean(np.array(pop_fit),3))"
   ]
  },
  {
   "cell_type": "code",
   "execution_count": 21,
   "metadata": {},
   "outputs": [
    {
     "data": {
      "text/plain": [
       "121"
      ]
     },
     "execution_count": 21,
     "metadata": {},
     "output_type": "execute_result"
    }
   ],
   "source": [
    "test_model(pop[0])"
   ]
  },
  {
   "cell_type": "code",
   "execution_count": 22,
   "metadata": {},
   "outputs": [
    {
     "name": "stderr",
     "output_type": "stream",
     "text": [
      "C:\\Users\\webse\\Anaconda3\\envs\\tensorflow\\lib\\site-packages\\ipykernel\\__main__.py:6: RuntimeWarning: divide by zero encountered in log\n"
     ]
    },
    {
     "data": {
      "text/plain": [
       "[<matplotlib.lines.Line2D at 0x1656ed59ef0>]"
      ]
     },
     "execution_count": 22,
     "metadata": {},
     "output_type": "execute_result"
    },
    {
     "data": {
      "image/png": "[encoded data removed]",
      "text/plain": [
       "<Figure size 1080x504 with 1 Axes>"
      ]
     },
     "metadata": {
      "needs_background": "light"
     },
     "output_type": "display_data"
    }
   ],
   "source": [
    "plt.figure(figsize=(15,7))\n",
    "plt.axis('off')\n",
    "plt.xlabel(\"Compute resources\",fontsize=22)\n",
    "plt.ylabel(\"Performance\",fontsize=22)\n",
    "x = np.linspace(0,100,1000)\n",
    "y = np.log(x)\n",
    "plt.plot(x,y)"
   ]
  },
  {
   "cell_type": "code",
   "execution_count": 19,
   "metadata": {},
   "outputs": [],
   "source": [
    "def running_mean(x,n=5):\n",
    "    conv = np.ones(n)\n",
    "    y = np.zeros(x.shape[0]-n)\n",
    "    for i in range(x.shape[0]-n):\n",
    "        y[i] = (conv @ x[i:i+n]) / n\n",
    "    return y"
   ]
  },
  {
   "cell_type": "code",
   "execution_count": null,
   "metadata": {},
   "outputs": [],
   "source": []
  }
 ],
 "metadata": {
  "kernelspec": {
   "display_name": "Python [conda env:tensorflow]",
   "language": "python",
   "name": "conda-env-tensorflow-py"
  },
  "language_info": {
   "codemirror_mode": {
    "name": "ipython",
    "version": 3
   },
   "file_extension": ".py",
   "mimetype": "text/x-python",
   "name": "python",
   "nbconvert_exporter": "python",
   "pygments_lexer": "ipython3",
   "version": "3.6.6"
  }
 },
 "nbformat": 4,
 "nbformat_minor": 2
}
