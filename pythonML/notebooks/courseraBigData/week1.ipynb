{
 "cells": [
  {
   "cell_type": "code",
   "execution_count": 1,
   "metadata": {},
   "outputs": [
    {
     "name": "stdout",
     "output_type": "stream",
     "text": [
      "Found 2 items\n",
      "drwxr-xr-x   - root supergroup          0 2017-10-15 16:30 /data\n",
      "drwxr-xr-x   - root supergroup          0 2017-10-15 12:23 /user\n"
     ]
    }
   ],
   "source": [
    "%%bash\n",
    "hdfs dfs -ls /"
   ]
  },
  {
   "cell_type": "code",
   "execution_count": 2,
   "metadata": {},
   "outputs": [
    {
     "name": "stdout",
     "output_type": "stream",
     "text": [
      "Found 1 items\r\n",
      "drwxrwxrwx   - jovyan supergroup          0 2017-10-15 16:30 /data/wiki/en_articles_part\r\n"
     ]
    }
   ],
   "source": [
    "! hdfs dfs -ls /data/wiki"
   ]
  },
  {
   "cell_type": "code",
   "execution_count": 3,
   "metadata": {},
   "outputs": [
    {
     "name": "stdout",
     "output_type": "stream",
     "text": [
      "73.3 M  /data/wiki\r\n"
     ]
    }
   ],
   "source": [
    "! hdfs dfs -du -h /data"
   ]
  },
  {
   "cell_type": "code",
   "execution_count": 5,
   "metadata": {},
   "outputs": [
    {
     "name": "stdout",
     "output_type": "stream",
     "text": [
      "Configured Capacity: 975919009792 (908.90 GB)\n",
      "Present Capacity: 888855756800 (827.81 GB)\n",
      "DFS Remaining: 888778240000 (827.74 GB)\n",
      "DFS Used: 77516800 (73.93 MB)\n",
      "DFS Used%: 0.01%\n",
      "Under replicated blocks: 0\n",
      "Blocks with corrupt replicas: 0\n",
      "Missing blocks: 0\n",
      "Missing blocks (with replication factor 1): 0\n",
      "Pending deletion blocks: 0\n",
      "\n",
      "-------------------------------------------------\n",
      "report: Access denied for user jovyan. Superuser privilege is required\n"
     ]
    }
   ],
   "source": [
    "! hdfs dfsadmin -report"
   ]
  },
  {
   "cell_type": "code",
   "execution_count": 7,
   "metadata": {},
   "outputs": [
    {
     "data": {
      "text/plain": [
       "14062"
      ]
     },
     "execution_count": 7,
     "metadata": {},
     "output_type": "execute_result"
    }
   ],
   "source": [
    "(1*1000*1000 / 64) * 300 * 3 / 1000"
   ]
  },
  {
   "cell_type": "code",
   "execution_count": 12,
   "metadata": {},
   "outputs": [],
   "source": [
    "! hdfs dfs -mkdir /user/jovyan/assignment1"
   ]
  },
  {
   "cell_type": "code",
   "execution_count": 13,
   "metadata": {},
   "outputs": [
    {
     "name": "stdout",
     "output_type": "stream",
     "text": [
      "Found 2 items\r\n",
      "-rw-r--r--   1 jovyan supergroup        239 2017-10-15 16:30 /user/jovyan/README.md\r\n",
      "drwxr-xr-x   - jovyan supergroup          0 2017-11-06 15:40 /user/jovyan/assignment1\r\n"
     ]
    }
   ],
   "source": [
    "! hdfs dfs -ls /user/jovyan"
   ]
  },
  {
   "cell_type": "code",
   "execution_count": 15,
   "metadata": {},
   "outputs": [],
   "source": [
    "%%bash\n",
    "touch test.txt"
   ]
  },
  {
   "cell_type": "code",
   "execution_count": 16,
   "metadata": {},
   "outputs": [
    {
     "name": "stdout",
     "output_type": "stream",
     "text": [
      "total 16\n",
      "-rw-rw-r-- 1 jovyan root  3388 Nov  6 15:41 Demo.ipynb\n",
      "-rw-rw-r-- 1 jovyan root   239 Oct 15 16:10 README.md\n",
      "-rw-r--r-- 1 root   users  757 Nov  6 14:59 supervisord.log\n",
      "-rw-r--r-- 1 root   users    2 Nov  6 14:58 supervisord.pid\n",
      "-rw-r--r-- 1 jovyan users    0 Nov  6 15:41 test.txt\n"
     ]
    }
   ],
   "source": [
    "%%bash\n",
    "ls -l"
   ]
  },
  {
   "cell_type": "code",
   "execution_count": 17,
   "metadata": {},
   "outputs": [
    {
     "name": "stdout",
     "output_type": "stream",
     "text": [
      "Found 1 items\r\n",
      "-rw-r--r--   1 jovyan supergroup          0 2017-11-06 15:43 /user/jovyan/assignment1/test.txt\r\n"
     ]
    }
   ],
   "source": [
    "! hdfs dfs -put ./test.txt /user/jovyan/assignment1\n",
    "! hdfs dfs -ls /user/jovyan/assignment1"
   ]
  },
  {
   "cell_type": "code",
   "execution_count": 19,
   "metadata": {},
   "outputs": [
    {
     "name": "stdout",
     "output_type": "stream",
     "text": [
      "Found 1 items\r\n",
      "-rw-------   1 jovyan supergroup          0 2017-11-06 15:43 /user/jovyan/assignment1/test.txt\r\n"
     ]
    }
   ],
   "source": [
    "! hdfs dfs -chmod 600 /user/jovyan/assignment1/test.txt\n",
    "! hdfs dfs -ls /user/jovyan/assignment1"
   ]
  },
  {
   "cell_type": "code",
   "execution_count": 22,
   "metadata": {},
   "outputs": [],
   "source": [
    "! hdfs dfs -cat /user/jovyan/assignment1/test.txt | head -n10"
   ]
  },
  {
   "cell_type": "code",
   "execution_count": 23,
   "metadata": {},
   "outputs": [],
   "source": [
    "! hdfs dfs -mv /user/jovyan/assignment1/test.txt /user/jovyan/assignment1/test2.txt"
   ]
  },
  {
   "cell_type": "code",
   "execution_count": 24,
   "metadata": {},
   "outputs": [
    {
     "name": "stdout",
     "output_type": "stream",
     "text": [
      "Found 1 items\r\n",
      "-rw-------   1 jovyan supergroup          0 2017-11-06 15:43 /user/jovyan/assignment1/test2.txt\r\n"
     ]
    }
   ],
   "source": [
    "! hdfs dfs -ls /user/jovyan/assignment1"
   ]
  },
  {
   "cell_type": "code",
   "execution_count": 26,
   "metadata": {},
   "outputs": [
    {
     "name": "stdout",
     "output_type": "stream",
     "text": [
      "Connecting to namenode via http://localhost:50070/fsck?ugi=jovyan&files=1&blocks=1&locations=1&racks=1&path=%2Fdata%2Fwiki%2Fen_articles_part%2Farticles-part\n",
      "FSCK started by jovyan (auth:SIMPLE) from /127.0.0.1 for path /data/wiki/en_articles_part/articles-part at Mon Nov 06 17:44:29 UTC 2017\n",
      "/data/wiki/en_articles_part/articles-part 76861985 bytes, 1 block(s):  OK\n",
      "0. BP-1063377466-172.17.0.1-1508070197087:blk_1073741825_1001 len=76861985 Live_repl=1 [/default-rack/127.0.0.1:50010]\n",
      "\n",
      "Status: HEALTHY\n",
      " Total size:\t76861985 B\n",
      " Total dirs:\t0\n",
      " Total files:\t1\n",
      " Total symlinks:\t\t0\n",
      " Total blocks (validated):\t1 (avg. block size 76861985 B)\n",
      " Minimally replicated blocks:\t1 (100.0 %)\n",
      " Over-replicated blocks:\t0 (0.0 %)\n",
      " Under-replicated blocks:\t0 (0.0 %)\n",
      " Mis-replicated blocks:\t\t0 (0.0 %)\n",
      " Default replication factor:\t1\n",
      " Average block replication:\t1.0\n",
      " Corrupt blocks:\t\t0\n",
      " Missing replicas:\t\t0 (0.0 %)\n",
      " Number of data-nodes:\t\t1\n",
      " Number of racks:\t\t1\n",
      "FSCK ended at Mon Nov 06 17:44:29 UTC 2017 in 10 milliseconds\n",
      "\n",
      "\n",
      "The filesystem under path '/data/wiki/en_articles_part/articles-part' is HEALTHY\n"
     ]
    }
   ],
   "source": [
    "! hdfs fsck /data/wiki/en_articles_part/articles-part -files -blocks -locations -racks "
   ]
  },
  {
   "cell_type": "code",
   "execution_count": 29,
   "metadata": {},
   "outputs": [
    {
     "name": "stdout",
     "output_type": "stream",
     "text": [
      "Connecting to namenode via http://localhost:50070/fsck?ugi=jovyan&files=1&blocks=1&locations=1&racks=1&path=%2F\n",
      "FSCK started by jovyan (auth:SIMPLE) from /127.0.0.1 for path / at Mon Nov 06 17:51:33 UTC 2017\n",
      "/ <dir>\n",
      "/data <dir>\n",
      "/data/wiki <dir>\n",
      "/data/wiki/en_articles_part <dir>\n",
      "/data/wiki/en_articles_part/articles-part 76861985 bytes, 1 block(s):  OK\n",
      "0. BP-1063377466-172.17.0.1-1508070197087:blk_1073741825_1001 len=76861985 Live_repl=1 [/default-rack/127.0.0.1:50010]\n",
      "\n",
      "/user <dir>\n",
      "/user/jovyan <dir>\n",
      "/user/jovyan/README.md 239 bytes, 1 block(s):  OK\n",
      "0. BP-1063377466-172.17.0.1-1508070197087:blk_1073741826_1002 len=239 Live_repl=1 [/default-rack/127.0.0.1:50010]\n",
      "\n",
      "/user/jovyan/assignment1 <dir>\n",
      "/user/jovyan/assignment1/test2.txt 0 bytes, 0 block(s):  OK\n",
      "\n",
      "Status: HEALTHY\n",
      " Total size:\t76862224 B\n",
      " Total dirs:\t7\n",
      " Total files:\t3\n",
      " Total symlinks:\t\t0\n",
      " Total blocks (validated):\t2 (avg. block size 38431112 B)\n",
      " Minimally replicated blocks:\t2 (100.0 %)\n",
      " Over-replicated blocks:\t0 (0.0 %)\n",
      " Under-replicated blocks:\t0 (0.0 %)\n",
      " Mis-replicated blocks:\t\t0 (0.0 %)\n",
      " Default replication factor:\t1\n",
      " Average block replication:\t1.0\n",
      " Corrupt blocks:\t\t0\n",
      " Missing replicas:\t\t0 (0.0 %)\n",
      " Number of data-nodes:\t\t1\n",
      " Number of racks:\t\t1\n",
      "FSCK ended at Mon Nov 06 17:51:33 UTC 2017 in 5 milliseconds\n",
      "\n",
      "\n",
      "The filesystem under path '/' is HEALTHY\n"
     ]
    }
   ],
   "source": [
    "! hdfs fsck / -files -blocks -locations -racks"
   ]
  },
  {
   "cell_type": "code",
   "execution_count": null,
   "metadata": {},
   "outputs": [],
   "source": []
  }
 ],
 "metadata": {
  "kernelspec": {
   "display_name": "Python 2",
   "language": "python",
   "name": "python2"
  },
  "language_info": {
   "codemirror_mode": {
    "name": "ipython",
    "version": 2
   },
   "file_extension": ".py",
   "mimetype": "text/x-python",
   "name": "python",
   "nbconvert_exporter": "python",
   "pygments_lexer": "ipython2",
   "version": "2.7.12"
  }
 },
 "nbformat": 4,
 "nbformat_minor": 2
}
