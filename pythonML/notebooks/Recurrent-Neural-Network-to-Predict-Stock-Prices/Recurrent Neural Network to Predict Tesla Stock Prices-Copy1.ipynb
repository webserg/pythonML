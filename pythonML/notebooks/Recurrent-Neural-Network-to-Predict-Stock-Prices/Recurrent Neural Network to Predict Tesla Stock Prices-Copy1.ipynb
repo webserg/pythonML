{
 "cells": [
  {
   "cell_type": "markdown",
   "metadata": {},
   "source": [
    "# Recurrent Neural Network to Predict Stock Prices\n",
    "\n",
    "## Background\n",
    "\n",
    "This study is based on a paper from Stanford University.\n",
    "\n",
    "http://cs229.stanford.edu/proj2012/BernalFokPidaparthi-FinancialMarketTimeSeriesPredictionwithRecurrentNeural.pdf\n",
    "\n",
    "## Data\n",
    "\n",
    "https://finance.yahoo.com/quote/TSLA/history?p=TSLA\n",
    "\n",
    "## Introduction\n",
    "\n",
    "Recurrent Neural Networks are excellent to use along with time series analysis to predict stock prices. What is time series analysis? Time series analysis comprises methods for analyzing time series data in order to extract meaningful statistics and other characteristics of the data. Time series forecasting is the use of a model to predict future values based on previously observed values.\n",
    "\n",
    "An example is this. Would today affect the stock prices of tomorrow? Would last week affect the stock prices of tomorrow? How about last month? Last year? Seasons or fiscal quarters? Decades? Although stock advisors may have different opinions, recurrent neural networks uses every single case and finds the best method to predict.\n",
    "\n",
    "Problem: Client wants to know when to invest to get largest return in 2017.\n",
    "\n",
    "Data: 5 years of Tesla stock prices. (2012-2017)\n",
    "\n",
    "Solution: Use recurrent neural networks to predict Tesla stock prices in 2017 using data from 2012-2016."
   ]
  },
  {
   "cell_type": "markdown",
   "metadata": {},
   "source": [
    "## Data Visualization"
   ]
  },
  {
   "cell_type": "code",
   "execution_count": 2,
   "metadata": {},
   "outputs": [],
   "source": [
    "# Importing the libraries\n",
    "import numpy as np\n",
    "import matplotlib.pyplot as plt\n",
    "import pandas as pd\n",
    "import pandas_datareader as pdr\n",
    "from datetime import datetime"
   ]
  },
  {
   "cell_type": "code",
   "execution_count": null,
   "metadata": {},
   "outputs": [],
   "source": []
  },
  {
   "cell_type": "code",
   "execution_count": 3,
   "metadata": {},
   "outputs": [
    {
     "data": {
      "text/html": [
       "<div>\n",
       "<style scoped>\n",
       "    .dataframe tbody tr th:only-of-type {\n",
       "        vertical-align: middle;\n",
       "    }\n",
       "\n",
       "    .dataframe tbody tr th {\n",
       "        vertical-align: top;\n",
       "    }\n",
       "\n",
       "    .dataframe thead th {\n",
       "        text-align: right;\n",
       "    }\n",
       "</style>\n",
       "<table border=\"1\" class=\"dataframe\">\n",
       "  <thead>\n",
       "    <tr style=\"text-align: right;\">\n",
       "      <th></th>\n",
       "      <th>Date</th>\n",
       "      <th>Open</th>\n",
       "      <th>High</th>\n",
       "      <th>Low</th>\n",
       "      <th>Close</th>\n",
       "      <th>Adj Close</th>\n",
       "      <th>Volume</th>\n",
       "    </tr>\n",
       "  </thead>\n",
       "  <tbody>\n",
       "    <tr>\n",
       "      <th>0</th>\n",
       "      <td>2012-01-03</td>\n",
       "      <td>28.940001</td>\n",
       "      <td>29.500000</td>\n",
       "      <td>27.650000</td>\n",
       "      <td>28.080000</td>\n",
       "      <td>28.080000</td>\n",
       "      <td>928100</td>\n",
       "    </tr>\n",
       "    <tr>\n",
       "      <th>1</th>\n",
       "      <td>2012-01-04</td>\n",
       "      <td>28.209999</td>\n",
       "      <td>28.670000</td>\n",
       "      <td>27.500000</td>\n",
       "      <td>27.709999</td>\n",
       "      <td>27.709999</td>\n",
       "      <td>630100</td>\n",
       "    </tr>\n",
       "    <tr>\n",
       "      <th>2</th>\n",
       "      <td>2012-01-05</td>\n",
       "      <td>27.760000</td>\n",
       "      <td>27.930000</td>\n",
       "      <td>26.850000</td>\n",
       "      <td>27.120001</td>\n",
       "      <td>27.120001</td>\n",
       "      <td>1005500</td>\n",
       "    </tr>\n",
       "    <tr>\n",
       "      <th>3</th>\n",
       "      <td>2012-01-06</td>\n",
       "      <td>27.200001</td>\n",
       "      <td>27.790001</td>\n",
       "      <td>26.410000</td>\n",
       "      <td>26.910000</td>\n",
       "      <td>26.910000</td>\n",
       "      <td>986300</td>\n",
       "    </tr>\n",
       "    <tr>\n",
       "      <th>4</th>\n",
       "      <td>2012-01-09</td>\n",
       "      <td>27.000000</td>\n",
       "      <td>27.490000</td>\n",
       "      <td>26.120001</td>\n",
       "      <td>27.250000</td>\n",
       "      <td>27.250000</td>\n",
       "      <td>897000</td>\n",
       "    </tr>\n",
       "  </tbody>\n",
       "</table>\n",
       "</div>"
      ],
      "text/plain": [
       "         Date       Open       High        Low      Close  Adj Close   Volume\n",
       "0  2012-01-03  28.940001  29.500000  27.650000  28.080000  28.080000   928100\n",
       "1  2012-01-04  28.209999  28.670000  27.500000  27.709999  27.709999   630100\n",
       "2  2012-01-05  27.760000  27.930000  26.850000  27.120001  27.120001  1005500\n",
       "3  2012-01-06  27.200001  27.790001  26.410000  26.910000  26.910000   986300\n",
       "4  2012-01-09  27.000000  27.490000  26.120001  27.250000  27.250000   897000"
      ]
     },
     "execution_count": 3,
     "metadata": {},
     "output_type": "execute_result"
    }
   ],
   "source": [
    "# Reading CSV file into training set\n",
    "training_set = pd.read_csv('C:/git/pythonML/pythonML/notebooks/Recurrent-Neural-Network-to-Predict-Stock-Prices/TSLA_2012-2016.csv')\n",
    "training_set.head()"
   ]
  },
  {
   "cell_type": "code",
   "execution_count": 4,
   "metadata": {},
   "outputs": [
    {
     "data": {
      "text/html": [
       "<div>\n",
       "<style scoped>\n",
       "    .dataframe tbody tr th:only-of-type {\n",
       "        vertical-align: middle;\n",
       "    }\n",
       "\n",
       "    .dataframe tbody tr th {\n",
       "        vertical-align: top;\n",
       "    }\n",
       "\n",
       "    .dataframe thead th {\n",
       "        text-align: right;\n",
       "    }\n",
       "</style>\n",
       "<table border=\"1\" class=\"dataframe\">\n",
       "  <thead>\n",
       "    <tr style=\"text-align: right;\">\n",
       "      <th></th>\n",
       "      <th>Open</th>\n",
       "      <th>High</th>\n",
       "      <th>Low</th>\n",
       "      <th>Close</th>\n",
       "      <th>Adj Close</th>\n",
       "      <th>Volume</th>\n",
       "    </tr>\n",
       "  </thead>\n",
       "  <tbody>\n",
       "    <tr>\n",
       "      <th>count</th>\n",
       "      <td>1258.000000</td>\n",
       "      <td>1258.000000</td>\n",
       "      <td>1258.000000</td>\n",
       "      <td>1258.000000</td>\n",
       "      <td>1258.000000</td>\n",
       "      <td>1.258000e+03</td>\n",
       "    </tr>\n",
       "    <tr>\n",
       "      <th>mean</th>\n",
       "      <td>159.989491</td>\n",
       "      <td>162.793354</td>\n",
       "      <td>157.018482</td>\n",
       "      <td>159.946224</td>\n",
       "      <td>159.946224</td>\n",
       "      <td>5.101530e+06</td>\n",
       "    </tr>\n",
       "    <tr>\n",
       "      <th>std</th>\n",
       "      <td>84.557575</td>\n",
       "      <td>85.742714</td>\n",
       "      <td>83.246223</td>\n",
       "      <td>84.517502</td>\n",
       "      <td>84.517502</td>\n",
       "      <td>4.517660e+06</td>\n",
       "    </tr>\n",
       "    <tr>\n",
       "      <th>min</th>\n",
       "      <td>26.620001</td>\n",
       "      <td>26.850000</td>\n",
       "      <td>22.639999</td>\n",
       "      <td>22.790001</td>\n",
       "      <td>22.790001</td>\n",
       "      <td>3.649000e+05</td>\n",
       "    </tr>\n",
       "    <tr>\n",
       "      <th>25%</th>\n",
       "      <td>42.015000</td>\n",
       "      <td>42.780000</td>\n",
       "      <td>40.985000</td>\n",
       "      <td>41.897500</td>\n",
       "      <td>41.897500</td>\n",
       "      <td>2.118800e+06</td>\n",
       "    </tr>\n",
       "    <tr>\n",
       "      <th>50%</th>\n",
       "      <td>197.055001</td>\n",
       "      <td>200.620002</td>\n",
       "      <td>193.544998</td>\n",
       "      <td>197.135002</td>\n",
       "      <td>197.135002</td>\n",
       "      <td>4.011550e+06</td>\n",
       "    </tr>\n",
       "    <tr>\n",
       "      <th>75%</th>\n",
       "      <td>226.072498</td>\n",
       "      <td>229.674999</td>\n",
       "      <td>221.515003</td>\n",
       "      <td>225.382496</td>\n",
       "      <td>225.382496</td>\n",
       "      <td>6.490300e+06</td>\n",
       "    </tr>\n",
       "    <tr>\n",
       "      <th>max</th>\n",
       "      <td>287.670013</td>\n",
       "      <td>291.420013</td>\n",
       "      <td>280.399994</td>\n",
       "      <td>286.040009</td>\n",
       "      <td>286.040009</td>\n",
       "      <td>3.716390e+07</td>\n",
       "    </tr>\n",
       "  </tbody>\n",
       "</table>\n",
       "</div>"
      ],
      "text/plain": [
       "              Open         High          Low        Close    Adj Close  \\\n",
       "count  1258.000000  1258.000000  1258.000000  1258.000000  1258.000000   \n",
       "mean    159.989491   162.793354   157.018482   159.946224   159.946224   \n",
       "std      84.557575    85.742714    83.246223    84.517502    84.517502   \n",
       "min      26.620001    26.850000    22.639999    22.790001    22.790001   \n",
       "25%      42.015000    42.780000    40.985000    41.897500    41.897500   \n",
       "50%     197.055001   200.620002   193.544998   197.135002   197.135002   \n",
       "75%     226.072498   229.674999   221.515003   225.382496   225.382496   \n",
       "max     287.670013   291.420013   280.399994   286.040009   286.040009   \n",
       "\n",
       "             Volume  \n",
       "count  1.258000e+03  \n",
       "mean   5.101530e+06  \n",
       "std    4.517660e+06  \n",
       "min    3.649000e+05  \n",
       "25%    2.118800e+06  \n",
       "50%    4.011550e+06  \n",
       "75%    6.490300e+06  \n",
       "max    3.716390e+07  "
      ]
     },
     "execution_count": 4,
     "metadata": {},
     "output_type": "execute_result"
    }
   ],
   "source": [
    "training_set.describe()"
   ]
  },
  {
   "cell_type": "code",
   "execution_count": 5,
   "metadata": {},
   "outputs": [
    {
     "data": {
      "text/html": [
       "<div>\n",
       "<style scoped>\n",
       "    .dataframe tbody tr th:only-of-type {\n",
       "        vertical-align: middle;\n",
       "    }\n",
       "\n",
       "    .dataframe tbody tr th {\n",
       "        vertical-align: top;\n",
       "    }\n",
       "\n",
       "    .dataframe thead th {\n",
       "        text-align: right;\n",
       "    }\n",
       "</style>\n",
       "<table border=\"1\" class=\"dataframe\">\n",
       "  <thead>\n",
       "    <tr style=\"text-align: right;\">\n",
       "      <th></th>\n",
       "      <th>Date</th>\n",
       "      <th>Open</th>\n",
       "      <th>High</th>\n",
       "      <th>Low</th>\n",
       "      <th>Close</th>\n",
       "      <th>Adj Close</th>\n",
       "      <th>Volume</th>\n",
       "    </tr>\n",
       "  </thead>\n",
       "  <tbody>\n",
       "    <tr>\n",
       "      <th>0</th>\n",
       "      <td>2017-01-03</td>\n",
       "      <td>214.860001</td>\n",
       "      <td>220.330002</td>\n",
       "      <td>210.960007</td>\n",
       "      <td>216.990005</td>\n",
       "      <td>216.990005</td>\n",
       "      <td>5923300</td>\n",
       "    </tr>\n",
       "    <tr>\n",
       "      <th>1</th>\n",
       "      <td>2017-01-04</td>\n",
       "      <td>214.750000</td>\n",
       "      <td>228.000000</td>\n",
       "      <td>214.309998</td>\n",
       "      <td>226.990005</td>\n",
       "      <td>226.990005</td>\n",
       "      <td>11213500</td>\n",
       "    </tr>\n",
       "    <tr>\n",
       "      <th>2</th>\n",
       "      <td>2017-01-05</td>\n",
       "      <td>226.419998</td>\n",
       "      <td>227.479996</td>\n",
       "      <td>221.949997</td>\n",
       "      <td>226.750000</td>\n",
       "      <td>226.750000</td>\n",
       "      <td>5911700</td>\n",
       "    </tr>\n",
       "    <tr>\n",
       "      <th>3</th>\n",
       "      <td>2017-01-06</td>\n",
       "      <td>226.929993</td>\n",
       "      <td>230.309998</td>\n",
       "      <td>225.449997</td>\n",
       "      <td>229.009995</td>\n",
       "      <td>229.009995</td>\n",
       "      <td>5527900</td>\n",
       "    </tr>\n",
       "    <tr>\n",
       "      <th>4</th>\n",
       "      <td>2017-01-09</td>\n",
       "      <td>228.970001</td>\n",
       "      <td>231.919998</td>\n",
       "      <td>228.000000</td>\n",
       "      <td>231.279999</td>\n",
       "      <td>231.279999</td>\n",
       "      <td>3957000</td>\n",
       "    </tr>\n",
       "  </tbody>\n",
       "</table>\n",
       "</div>"
      ],
      "text/plain": [
       "         Date        Open        High         Low       Close   Adj Close  \\\n",
       "0  2017-01-03  214.860001  220.330002  210.960007  216.990005  216.990005   \n",
       "1  2017-01-04  214.750000  228.000000  214.309998  226.990005  226.990005   \n",
       "2  2017-01-05  226.419998  227.479996  221.949997  226.750000  226.750000   \n",
       "3  2017-01-06  226.929993  230.309998  225.449997  229.009995  229.009995   \n",
       "4  2017-01-09  228.970001  231.919998  228.000000  231.279999  231.279999   \n",
       "\n",
       "     Volume  \n",
       "0   5923300  \n",
       "1  11213500  \n",
       "2   5911700  \n",
       "3   5527900  \n",
       "4   3957000  "
      ]
     },
     "execution_count": 5,
     "metadata": {},
     "output_type": "execute_result"
    }
   ],
   "source": [
    "# Reading CSV file into test set\n",
    "test_set = pd.read_csv('C:/git/pythonML/pythonML/notebooks/Recurrent-Neural-Network-to-Predict-Stock-Prices/TSLA_2017.csv')\n",
    "test_set.head()"
   ]
  },
  {
   "cell_type": "code",
   "execution_count": 6,
   "metadata": {},
   "outputs": [
    {
     "data": {
      "text/html": [
       "<div>\n",
       "<style scoped>\n",
       "    .dataframe tbody tr th:only-of-type {\n",
       "        vertical-align: middle;\n",
       "    }\n",
       "\n",
       "    .dataframe tbody tr th {\n",
       "        vertical-align: top;\n",
       "    }\n",
       "\n",
       "    .dataframe thead th {\n",
       "        text-align: right;\n",
       "    }\n",
       "</style>\n",
       "<table border=\"1\" class=\"dataframe\">\n",
       "  <thead>\n",
       "    <tr style=\"text-align: right;\">\n",
       "      <th></th>\n",
       "      <th>Open</th>\n",
       "      <th>High</th>\n",
       "      <th>Low</th>\n",
       "      <th>Close</th>\n",
       "      <th>Adj Close</th>\n",
       "      <th>Volume</th>\n",
       "    </tr>\n",
       "  </thead>\n",
       "  <tbody>\n",
       "    <tr>\n",
       "      <th>count</th>\n",
       "      <td>251.000000</td>\n",
       "      <td>251.000000</td>\n",
       "      <td>251.000000</td>\n",
       "      <td>251.000000</td>\n",
       "      <td>251.000000</td>\n",
       "      <td>2.510000e+02</td>\n",
       "    </tr>\n",
       "    <tr>\n",
       "      <th>mean</th>\n",
       "      <td>314.296215</td>\n",
       "      <td>318.450598</td>\n",
       "      <td>309.686972</td>\n",
       "      <td>314.316295</td>\n",
       "      <td>314.316295</td>\n",
       "      <td>6.334172e+06</td>\n",
       "    </tr>\n",
       "    <tr>\n",
       "      <th>std</th>\n",
       "      <td>41.714910</td>\n",
       "      <td>41.883952</td>\n",
       "      <td>40.500712</td>\n",
       "      <td>40.966316</td>\n",
       "      <td>40.966316</td>\n",
       "      <td>2.888997e+06</td>\n",
       "    </tr>\n",
       "    <tr>\n",
       "      <th>min</th>\n",
       "      <td>214.750000</td>\n",
       "      <td>220.330002</td>\n",
       "      <td>210.960007</td>\n",
       "      <td>216.990005</td>\n",
       "      <td>216.990005</td>\n",
       "      <td>2.186700e+06</td>\n",
       "    </tr>\n",
       "    <tr>\n",
       "      <th>25%</th>\n",
       "      <td>291.800003</td>\n",
       "      <td>299.919998</td>\n",
       "      <td>287.669999</td>\n",
       "      <td>295.229995</td>\n",
       "      <td>295.229995</td>\n",
       "      <td>4.320200e+06</td>\n",
       "    </tr>\n",
       "    <tr>\n",
       "      <th>50%</th>\n",
       "      <td>317.279999</td>\n",
       "      <td>321.989990</td>\n",
       "      <td>313.149994</td>\n",
       "      <td>317.549988</td>\n",
       "      <td>317.549988</td>\n",
       "      <td>5.672300e+06</td>\n",
       "    </tr>\n",
       "    <tr>\n",
       "      <th>75%</th>\n",
       "      <td>348.134995</td>\n",
       "      <td>351.619995</td>\n",
       "      <td>341.929993</td>\n",
       "      <td>347.205001</td>\n",
       "      <td>347.205001</td>\n",
       "      <td>7.511750e+06</td>\n",
       "    </tr>\n",
       "    <tr>\n",
       "      <th>max</th>\n",
       "      <td>386.690002</td>\n",
       "      <td>389.609985</td>\n",
       "      <td>379.350006</td>\n",
       "      <td>385.000000</td>\n",
       "      <td>385.000000</td>\n",
       "      <td>1.979140e+07</td>\n",
       "    </tr>\n",
       "  </tbody>\n",
       "</table>\n",
       "</div>"
      ],
      "text/plain": [
       "             Open        High         Low       Close   Adj Close  \\\n",
       "count  251.000000  251.000000  251.000000  251.000000  251.000000   \n",
       "mean   314.296215  318.450598  309.686972  314.316295  314.316295   \n",
       "std     41.714910   41.883952   40.500712   40.966316   40.966316   \n",
       "min    214.750000  220.330002  210.960007  216.990005  216.990005   \n",
       "25%    291.800003  299.919998  287.669999  295.229995  295.229995   \n",
       "50%    317.279999  321.989990  313.149994  317.549988  317.549988   \n",
       "75%    348.134995  351.619995  341.929993  347.205001  347.205001   \n",
       "max    386.690002  389.609985  379.350006  385.000000  385.000000   \n",
       "\n",
       "             Volume  \n",
       "count  2.510000e+02  \n",
       "mean   6.334172e+06  \n",
       "std    2.888997e+06  \n",
       "min    2.186700e+06  \n",
       "25%    4.320200e+06  \n",
       "50%    5.672300e+06  \n",
       "75%    7.511750e+06  \n",
       "max    1.979140e+07  "
      ]
     },
     "execution_count": 6,
     "metadata": {},
     "output_type": "execute_result"
    }
   ],
   "source": [
    "test_set.describe()"
   ]
  },
  {
   "cell_type": "markdown",
   "metadata": {},
   "source": [
    "## Data Preprocessing\n",
    "\n",
    "Here, we are only interested in the opening price of the stock, so we just get that feature out."
   ]
  },
  {
   "cell_type": "code",
   "execution_count": 7,
   "metadata": {},
   "outputs": [
    {
     "data": {
      "text/html": [
       "<div>\n",
       "<style scoped>\n",
       "    .dataframe tbody tr th:only-of-type {\n",
       "        vertical-align: middle;\n",
       "    }\n",
       "\n",
       "    .dataframe tbody tr th {\n",
       "        vertical-align: top;\n",
       "    }\n",
       "\n",
       "    .dataframe thead th {\n",
       "        text-align: right;\n",
       "    }\n",
       "</style>\n",
       "<table border=\"1\" class=\"dataframe\">\n",
       "  <thead>\n",
       "    <tr style=\"text-align: right;\">\n",
       "      <th></th>\n",
       "      <th>Open</th>\n",
       "    </tr>\n",
       "  </thead>\n",
       "  <tbody>\n",
       "    <tr>\n",
       "      <th>0</th>\n",
       "      <td>28.940001</td>\n",
       "    </tr>\n",
       "    <tr>\n",
       "      <th>1</th>\n",
       "      <td>28.209999</td>\n",
       "    </tr>\n",
       "    <tr>\n",
       "      <th>2</th>\n",
       "      <td>27.760000</td>\n",
       "    </tr>\n",
       "    <tr>\n",
       "      <th>3</th>\n",
       "      <td>27.200001</td>\n",
       "    </tr>\n",
       "    <tr>\n",
       "      <th>4</th>\n",
       "      <td>27.000000</td>\n",
       "    </tr>\n",
       "  </tbody>\n",
       "</table>\n",
       "</div>"
      ],
      "text/plain": [
       "        Open\n",
       "0  28.940001\n",
       "1  28.209999\n",
       "2  27.760000\n",
       "3  27.200001\n",
       "4  27.000000"
      ]
     },
     "execution_count": 7,
     "metadata": {},
     "output_type": "execute_result"
    }
   ],
   "source": [
    "# Getting relevant feature\n",
    "training_set = training_set.iloc[:,1:2]\n",
    "training_set.head()"
   ]
  },
  {
   "cell_type": "code",
   "execution_count": 8,
   "metadata": {},
   "outputs": [
    {
     "data": {
      "text/plain": [
       "array([[ 28.940001],\n",
       "       [ 28.209999],\n",
       "       [ 27.76    ],\n",
       "       ...,\n",
       "       [221.529999],\n",
       "       [218.559998],\n",
       "       [216.300003]])"
      ]
     },
     "execution_count": 8,
     "metadata": {},
     "output_type": "execute_result"
    }
   ],
   "source": [
    "# Converting to 2D array\n",
    "training_set = training_set.values\n",
    "training_set"
   ]
  },
  {
   "cell_type": "markdown",
   "metadata": {},
   "source": [
    "Scaling our features using normalization"
   ]
  },
  {
   "cell_type": "code",
   "execution_count": 9,
   "metadata": {},
   "outputs": [
    {
     "data": {
      "text/plain": [
       "array([[0.00888719],\n",
       "       [0.00609078],\n",
       "       [0.00436698],\n",
       "       ...,\n",
       "       [0.74663853],\n",
       "       [0.7352614 ],\n",
       "       [0.72660407]])"
      ]
     },
     "execution_count": 9,
     "metadata": {},
     "output_type": "execute_result"
    }
   ],
   "source": [
    "# Feature Scaling\n",
    "from sklearn.preprocessing import MinMaxScaler\n",
    "sc = MinMaxScaler()\n",
    "training_set = sc.fit_transform(training_set)\n",
    "training_set"
   ]
  },
  {
   "cell_type": "markdown",
   "metadata": {},
   "source": [
    "Now we split our stock prices by shifting the cells one block. That way, the input would be one day and the output would be the very next day."
   ]
  },
  {
   "cell_type": "code",
   "execution_count": 10,
   "metadata": {},
   "outputs": [
    {
     "data": {
      "text/html": [
       "<div>\n",
       "<style scoped>\n",
       "    .dataframe tbody tr th:only-of-type {\n",
       "        vertical-align: middle;\n",
       "    }\n",
       "\n",
       "    .dataframe tbody tr th {\n",
       "        vertical-align: top;\n",
       "    }\n",
       "\n",
       "    .dataframe thead th {\n",
       "        text-align: right;\n",
       "    }\n",
       "</style>\n",
       "<table border=\"1\" class=\"dataframe\">\n",
       "  <thead>\n",
       "    <tr style=\"text-align: right;\">\n",
       "      <th></th>\n",
       "      <th>today</th>\n",
       "      <th>tomorrow</th>\n",
       "    </tr>\n",
       "  </thead>\n",
       "  <tbody>\n",
       "    <tr>\n",
       "      <th>0</th>\n",
       "      <td>0.008887</td>\n",
       "      <td>0.006091</td>\n",
       "    </tr>\n",
       "    <tr>\n",
       "      <th>1</th>\n",
       "      <td>0.006091</td>\n",
       "      <td>0.004367</td>\n",
       "    </tr>\n",
       "    <tr>\n",
       "      <th>2</th>\n",
       "      <td>0.004367</td>\n",
       "      <td>0.002222</td>\n",
       "    </tr>\n",
       "    <tr>\n",
       "      <th>3</th>\n",
       "      <td>0.002222</td>\n",
       "      <td>0.001456</td>\n",
       "    </tr>\n",
       "    <tr>\n",
       "      <th>4</th>\n",
       "      <td>0.001456</td>\n",
       "      <td>0.003141</td>\n",
       "    </tr>\n",
       "  </tbody>\n",
       "</table>\n",
       "</div>"
      ],
      "text/plain": [
       "      today  tomorrow\n",
       "0  0.008887  0.006091\n",
       "1  0.006091  0.004367\n",
       "2  0.004367  0.002222\n",
       "3  0.002222  0.001456\n",
       "4  0.001456  0.003141"
      ]
     },
     "execution_count": 10,
     "metadata": {},
     "output_type": "execute_result"
    }
   ],
   "source": [
    "# Getting the inputs and the ouputs\n",
    "X_train = training_set[0:1257]\n",
    "y_train = training_set[1:1258]\n",
    "\n",
    "# Example\n",
    "today = pd.DataFrame(X_train[0:5])\n",
    "tomorrow = pd.DataFrame(y_train[0:5])\n",
    "ex = pd.concat([today, tomorrow], axis=1)\n",
    "ex.columns = (['today', 'tomorrow'])\n",
    "ex"
   ]
  },
  {
   "cell_type": "markdown",
   "metadata": {},
   "source": [
    "We reshape our data into 3 dimensions, [batch_size, timesteps, input_dim], for Keras package data processing.\n",
    "\n",
    "Our batch size will be 1257 for the amount of data we have. Our timesteps will be 1 for each day. Our input will be 1 for one data point per observation."
   ]
  },
  {
   "cell_type": "code",
   "execution_count": 11,
   "metadata": {},
   "outputs": [
    {
     "data": {
      "text/plain": [
       "array([[[0.00888719]],\n",
       "\n",
       "       [[0.00609078]],\n",
       "\n",
       "       [[0.00436698]],\n",
       "\n",
       "       ...,\n",
       "\n",
       "       [[0.72116451]],\n",
       "\n",
       "       [[0.74663853]],\n",
       "\n",
       "       [[0.7352614 ]]])"
      ]
     },
     "execution_count": 11,
     "metadata": {},
     "output_type": "execute_result"
    }
   ],
   "source": [
    "# Reshaping into required shape for Keras\n",
    "X_train = np.reshape(X_train, (1257, 1, 1))\n",
    "X_train"
   ]
  },
  {
   "cell_type": "markdown",
   "metadata": {},
   "source": [
    "# Building the Recurrent Neural Network\n",
    "\n",
    "We import the Keras Sqeuential model since our recurrent neural network will be in order. We import the Dense layers since we will use it for the nodes. We finally used the LSTM layer for time series analysis."
   ]
  },
  {
   "cell_type": "code",
   "execution_count": 12,
   "metadata": {},
   "outputs": [
    {
     "name": "stderr",
     "output_type": "stream",
     "text": [
      "Using TensorFlow backend.\n"
     ]
    }
   ],
   "source": [
    "# Importing the Keras libraries and packages\n",
    "from keras.models import Sequential\n",
    "from keras.layers import Dense\n",
    "from keras.layers import LSTM"
   ]
  },
  {
   "cell_type": "markdown",
   "metadata": {},
   "source": [
    "We call our recurrent neural network a regressor since we are predicting using regression, not classification."
   ]
  },
  {
   "cell_type": "code",
   "execution_count": 13,
   "metadata": {
    "collapsed": true,
    "jupyter": {
     "outputs_hidden": true
    }
   },
   "outputs": [],
   "source": [
    "# Initializing the Recurrent Neural Network\n",
    "regressor = Sequential()"
   ]
  },
  {
   "cell_type": "markdown",
   "metadata": {},
   "source": [
    "Now we add the input layer with a sigmoid activation function. We use none then 1 for our input shape since we don't know what time step to use yet but we do know that each day contains one input."
   ]
  },
  {
   "cell_type": "code",
   "execution_count": 14,
   "metadata": {
    "collapsed": true,
    "jupyter": {
     "outputs_hidden": true
    }
   },
   "outputs": [],
   "source": [
    "# Adding the input layer and the LSTM layer\n",
    "regressor.add(LSTM(units = 4, activation = 'sigmoid', input_shape = (None, 1)))"
   ]
  },
  {
   "cell_type": "markdown",
   "metadata": {},
   "source": [
    "Our output layer will return the predicted stock price for the next day."
   ]
  },
  {
   "cell_type": "code",
   "execution_count": 15,
   "metadata": {
    "collapsed": true,
    "jupyter": {
     "outputs_hidden": true
    }
   },
   "outputs": [],
   "source": [
    "# Adding the output layer\n",
    "regressor.add(Dense(units = 1))"
   ]
  },
  {
   "cell_type": "code",
   "execution_count": 16,
   "metadata": {
    "collapsed": true,
    "jupyter": {
     "outputs_hidden": true
    }
   },
   "outputs": [],
   "source": [
    "# Compiling the Recurrent Neural Network\n",
    "regressor.compile(optimizer = 'adam', loss = 'mean_squared_error')"
   ]
  },
  {
   "cell_type": "code",
   "execution_count": 17,
   "metadata": {
    "collapsed": true,
    "jupyter": {
     "outputs_hidden": true
    }
   },
   "outputs": [
    {
     "name": "stdout",
     "output_type": "stream",
     "text": [
      "Epoch 1/200\n",
      "1257/1257 [==============================] - 1s 741us/step - loss: 0.2060\n",
      "Epoch 2/200\n",
      "1257/1257 [==============================] - 0s 66us/step - loss: 0.1544\n",
      "Epoch 3/200\n",
      "1257/1257 [==============================] - 0s 65us/step - loss: 0.1236\n",
      "Epoch 4/200\n",
      "1257/1257 [==============================] - 0s 66us/step - loss: 0.1072\n",
      "Epoch 5/200\n",
      "1257/1257 [==============================] - 0s 69us/step - loss: 0.0990\n",
      "Epoch 6/200\n",
      "1257/1257 [==============================] - 0s 69us/step - loss: 0.0950\n",
      "Epoch 7/200\n",
      "1257/1257 [==============================] - 0s 63us/step - loss: 0.0927\n",
      "Epoch 8/200\n",
      "1257/1257 [==============================] - 0s 67us/step - loss: 0.0909\n",
      "Epoch 9/200\n",
      "1257/1257 [==============================] - 0s 62us/step - loss: 0.0892\n",
      "Epoch 10/200\n",
      "1257/1257 [==============================] - 0s 79us/step - loss: 0.0876\n",
      "Epoch 11/200\n",
      "1257/1257 [==============================] - 0s 74us/step - loss: 0.0858\n",
      "Epoch 12/200\n",
      "1257/1257 [==============================] - 0s 67us/step - loss: 0.0840\n",
      "Epoch 13/200\n",
      "1257/1257 [==============================] - 0s 65us/step - loss: 0.0821\n",
      "Epoch 14/200\n",
      "1257/1257 [==============================] - 0s 68us/step - loss: 0.0800\n",
      "Epoch 15/200\n",
      "1257/1257 [==============================] - 0s 67us/step - loss: 0.0779\n",
      "Epoch 16/200\n",
      "1257/1257 [==============================] - 0s 63us/step - loss: 0.0757\n",
      "Epoch 17/200\n",
      "1257/1257 [==============================] - 0s 76us/step - loss: 0.0734\n",
      "Epoch 18/200\n",
      "1257/1257 [==============================] - 0s 64us/step - loss: 0.0710\n",
      "Epoch 19/200\n",
      "1257/1257 [==============================] - 0s 68us/step - loss: 0.0685\n",
      "Epoch 20/200\n",
      "1257/1257 [==============================] - 0s 67us/step - loss: 0.0660\n",
      "Epoch 21/200\n",
      "1257/1257 [==============================] - 0s 68us/step - loss: 0.0633\n",
      "Epoch 22/200\n",
      "1257/1257 [==============================] - 0s 63us/step - loss: 0.0606\n",
      "Epoch 23/200\n",
      "1257/1257 [==============================] - 0s 67us/step - loss: 0.0577\n",
      "Epoch 24/200\n",
      "1257/1257 [==============================] - 0s 65us/step - loss: 0.0549\n",
      "Epoch 25/200\n",
      "1257/1257 [==============================] - 0s 67us/step - loss: 0.0519\n",
      "Epoch 26/200\n",
      "1257/1257 [==============================] - 0s 67us/step - loss: 0.0489\n",
      "Epoch 27/200\n",
      "1257/1257 [==============================] - 0s 71us/step - loss: 0.0459\n",
      "Epoch 28/200\n",
      "1257/1257 [==============================] - 0s 67us/step - loss: 0.0429\n",
      "Epoch 29/200\n",
      "1257/1257 [==============================] - 0s 71us/step - loss: 0.0398\n",
      "Epoch 30/200\n",
      "1257/1257 [==============================] - 0s 71us/step - loss: 0.0368\n",
      "Epoch 31/200\n",
      "1257/1257 [==============================] - 0s 67us/step - loss: 0.0338\n",
      "Epoch 32/200\n",
      "1257/1257 [==============================] - 0s 68us/step - loss: 0.0308\n",
      "Epoch 33/200\n",
      "1257/1257 [==============================] - 0s 67us/step - loss: 0.0280\n",
      "Epoch 34/200\n",
      "1257/1257 [==============================] - 0s 65us/step - loss: 0.0252\n",
      "Epoch 35/200\n",
      "1257/1257 [==============================] - 0s 71us/step - loss: 0.0225\n",
      "Epoch 36/200\n",
      "1257/1257 [==============================] - 0s 64us/step - loss: 0.0200\n",
      "Epoch 37/200\n",
      "1257/1257 [==============================] - 0s 77us/step - loss: 0.0176\n",
      "Epoch 38/200\n",
      "1257/1257 [==============================] - 0s 75us/step - loss: 0.0154\n",
      "Epoch 39/200\n",
      "1257/1257 [==============================] - 0s 67us/step - loss: 0.0133\n",
      "Epoch 40/200\n",
      "1257/1257 [==============================] - 0s 72us/step - loss: 0.0115\n",
      "Epoch 41/200\n",
      "1257/1257 [==============================] - 0s 70us/step - loss: 0.0098\n",
      "Epoch 42/200\n",
      "1257/1257 [==============================] - 0s 71us/step - loss: 0.0083\n",
      "Epoch 43/200\n",
      "1257/1257 [==============================] - 0s 67us/step - loss: 0.0069\n",
      "Epoch 44/200\n",
      "1257/1257 [==============================] - 0s 73us/step - loss: 0.0058\n",
      "Epoch 45/200\n",
      "1257/1257 [==============================] - 0s 78us/step - loss: 0.0048\n",
      "Epoch 46/200\n",
      "1257/1257 [==============================] - 0s 67us/step - loss: 0.0039\n",
      "Epoch 47/200\n",
      "1257/1257 [==============================] - 0s 63us/step - loss: 0.0032\n",
      "Epoch 48/200\n",
      "1257/1257 [==============================] - 0s 62us/step - loss: 0.0026\n",
      "Epoch 49/200\n",
      "1257/1257 [==============================] - 0s 65us/step - loss: 0.0021\n",
      "Epoch 50/200\n",
      "1257/1257 [==============================] - 0s 70us/step - loss: 0.0017\n",
      "Epoch 51/200\n",
      "1257/1257 [==============================] - 0s 75us/step - loss: 0.0014\n",
      "Epoch 52/200\n",
      "1257/1257 [==============================] - 0s 80us/step - loss: 0.0012\n",
      "Epoch 53/200\n",
      "1257/1257 [==============================] - 0s 71us/step - loss: 9.7780e-04\n",
      "Epoch 54/200\n",
      "1257/1257 [==============================] - 0s 65us/step - loss: 8.3316e-04\n",
      "Epoch 55/200\n",
      "1257/1257 [==============================] - 0s 66us/step - loss: 7.1879e-04\n",
      "Epoch 56/200\n",
      "1257/1257 [==============================] - 0s 67us/step - loss: 6.3481e-04\n",
      "Epoch 57/200\n",
      "1257/1257 [==============================] - 0s 75us/step - loss: 5.7242e-04\n",
      "Epoch 58/200\n",
      "1257/1257 [==============================] - 0s 71us/step - loss: 5.2607e-04\n",
      "Epoch 59/200\n",
      "1257/1257 [==============================] - 0s 70us/step - loss: 4.9281e-04\n",
      "Epoch 60/200\n",
      "1257/1257 [==============================] - 0s 79us/step - loss: 4.6784e-04\n",
      "Epoch 61/200\n",
      "1257/1257 [==============================] - 0s 68us/step - loss: 4.5121e-04\n",
      "Epoch 62/200\n",
      "1257/1257 [==============================] - 0s 61us/step - loss: 4.4016e-04\n",
      "Epoch 63/200\n",
      "1257/1257 [==============================] - 0s 63us/step - loss: 4.3129e-04\n",
      "Epoch 64/200\n",
      "1257/1257 [==============================] - 0s 66us/step - loss: 4.2478e-04\n",
      "Epoch 65/200\n",
      "1257/1257 [==============================] - 0s 69us/step - loss: 4.2181e-04\n",
      "Epoch 66/200\n",
      "1257/1257 [==============================] - 0s 69us/step - loss: 4.1892e-04\n",
      "Epoch 67/200\n",
      "1257/1257 [==============================] - 0s 71us/step - loss: 4.1640e-04\n",
      "Epoch 68/200\n",
      "1257/1257 [==============================] - 0s 69us/step - loss: 4.1586e-04\n",
      "Epoch 69/200\n",
      "1257/1257 [==============================] - 0s 68us/step - loss: 4.1402e-04\n",
      "Epoch 70/200\n",
      "1257/1257 [==============================] - 0s 64us/step - loss: 4.1521e-04\n",
      "Epoch 71/200\n",
      "1257/1257 [==============================] - 0s 66us/step - loss: 4.1302e-04\n",
      "Epoch 72/200\n",
      "1257/1257 [==============================] - 0s 66us/step - loss: 4.1292e-04\n",
      "Epoch 73/200\n",
      "1257/1257 [==============================] - 0s 67us/step - loss: 4.1269e-04\n",
      "Epoch 74/200\n",
      "1257/1257 [==============================] - 0s 66us/step - loss: 4.1357e-04\n",
      "Epoch 75/200\n",
      "1257/1257 [==============================] - 0s 74us/step - loss: 4.1384e-04\n",
      "Epoch 76/200\n",
      "1257/1257 [==============================] - 0s 63us/step - loss: 4.1362e-04\n",
      "Epoch 77/200\n",
      "1257/1257 [==============================] - 0s 65us/step - loss: 4.1291e-04\n",
      "Epoch 78/200\n",
      "1257/1257 [==============================] - 0s 65us/step - loss: 4.1341e-04\n",
      "Epoch 79/200\n",
      "1257/1257 [==============================] - 0s 71us/step - loss: 4.1329e-04\n",
      "Epoch 80/200\n",
      "1257/1257 [==============================] - 0s 67us/step - loss: 4.1292e-04\n",
      "Epoch 81/200\n",
      "1257/1257 [==============================] - 0s 61us/step - loss: 4.1361e-04\n",
      "Epoch 82/200\n",
      "1257/1257 [==============================] - 0s 67us/step - loss: 4.1227e-04\n",
      "Epoch 83/200\n",
      "1257/1257 [==============================] - 0s 67us/step - loss: 4.1279e-04\n",
      "Epoch 84/200\n",
      "1257/1257 [==============================] - 0s 66us/step - loss: 4.1239e-04\n",
      "Epoch 85/200\n",
      "1257/1257 [==============================] - 0s 72us/step - loss: 4.1147e-04\n",
      "Epoch 86/200\n",
      "1257/1257 [==============================] - 0s 65us/step - loss: 4.1398e-04\n",
      "Epoch 87/200\n",
      "1257/1257 [==============================] - 0s 63us/step - loss: 4.1291e-04\n",
      "Epoch 88/200\n",
      "1257/1257 [==============================] - 0s 58us/step - loss: 4.1209e-04\n",
      "Epoch 89/200\n",
      "1257/1257 [==============================] - 0s 65us/step - loss: 4.1474e-04\n",
      "Epoch 90/200\n",
      "1257/1257 [==============================] - 0s 61us/step - loss: 4.1247e-04\n",
      "Epoch 91/200\n",
      "1257/1257 [==============================] - 0s 60us/step - loss: 4.1373e-04\n",
      "Epoch 92/200\n",
      "1257/1257 [==============================] - 0s 71us/step - loss: 4.1396e-04\n",
      "Epoch 93/200\n",
      "1257/1257 [==============================] - 0s 71us/step - loss: 4.1255e-04\n",
      "Epoch 94/200\n",
      "1257/1257 [==============================] - 0s 67us/step - loss: 4.1489e-04\n",
      "Epoch 95/200\n",
      "1257/1257 [==============================] - 0s 63us/step - loss: 4.1299e-04\n",
      "Epoch 96/200\n",
      "1257/1257 [==============================] - 0s 63us/step - loss: 4.1267e-04\n",
      "Epoch 97/200\n",
      "1257/1257 [==============================] - 0s 71us/step - loss: 4.1243e-04\n",
      "Epoch 98/200\n",
      "1257/1257 [==============================] - 0s 61us/step - loss: 4.1218e-04\n",
      "Epoch 99/200\n",
      "1257/1257 [==============================] - 0s 65us/step - loss: 4.1604e-04\n",
      "Epoch 100/200\n",
      "1257/1257 [==============================] - 0s 60us/step - loss: 4.1267e-04\n",
      "Epoch 101/200\n",
      "1257/1257 [==============================] - 0s 68us/step - loss: 4.1296e-04\n",
      "Epoch 102/200\n",
      "1257/1257 [==============================] - 0s 69us/step - loss: 4.1237e-04\n",
      "Epoch 103/200\n",
      "1257/1257 [==============================] - 0s 62us/step - loss: 4.1399e-04\n",
      "Epoch 104/200\n",
      "1257/1257 [==============================] - 0s 67us/step - loss: 4.1234e-04\n",
      "Epoch 105/200\n",
      "1257/1257 [==============================] - 0s 59us/step - loss: 4.1191e-04\n",
      "Epoch 106/200\n",
      "1257/1257 [==============================] - 0s 67us/step - loss: 4.1228e-04\n",
      "Epoch 107/200\n",
      "1257/1257 [==============================] - 0s 62us/step - loss: 4.1270e-04\n",
      "Epoch 108/200\n",
      "1257/1257 [==============================] - 0s 64us/step - loss: 4.1301e-04\n",
      "Epoch 109/200\n",
      "1257/1257 [==============================] - 0s 61us/step - loss: 4.1455e-04\n",
      "Epoch 110/200\n",
      "1257/1257 [==============================] - 0s 60us/step - loss: 4.1283e-04\n",
      "Epoch 111/200\n",
      "1257/1257 [==============================] - 0s 71us/step - loss: 4.1376e-04\n",
      "Epoch 112/200\n",
      "1257/1257 [==============================] - 0s 76us/step - loss: 4.1367e-04\n",
      "Epoch 113/200\n",
      "1257/1257 [==============================] - 0s 55us/step - loss: 4.1614e-04\n",
      "Epoch 114/200\n",
      "1257/1257 [==============================] - 0s 62us/step - loss: 4.1312e-04\n",
      "Epoch 115/200\n",
      "1257/1257 [==============================] - 0s 60us/step - loss: 4.1698e-04\n",
      "Epoch 116/200\n",
      "1257/1257 [==============================] - 0s 59us/step - loss: 4.1540e-04\n",
      "Epoch 117/200\n",
      "1257/1257 [==============================] - 0s 60us/step - loss: 4.1256e-04\n",
      "Epoch 118/200\n",
      "1257/1257 [==============================] - 0s 60us/step - loss: 4.1196e-04\n",
      "Epoch 119/200\n",
      "1257/1257 [==============================] - 0s 61us/step - loss: 4.1472e-04\n",
      "Epoch 120/200\n",
      "1257/1257 [==============================] - 0s 62us/step - loss: 4.1275e-04\n",
      "Epoch 121/200\n",
      "1257/1257 [==============================] - 0s 60us/step - loss: 4.1186e-04\n",
      "Epoch 122/200\n",
      "1257/1257 [==============================] - 0s 59us/step - loss: 4.1302e-04\n",
      "Epoch 123/200\n",
      "1257/1257 [==============================] - 0s 67us/step - loss: 4.1467e-04\n",
      "Epoch 124/200\n",
      "1257/1257 [==============================] - 0s 63us/step - loss: 4.1977e-04\n",
      "Epoch 125/200\n",
      "1257/1257 [==============================] - 0s 58us/step - loss: 4.1357e-04\n",
      "Epoch 126/200\n",
      "1257/1257 [==============================] - 0s 67us/step - loss: 4.1362e-04\n",
      "Epoch 127/200\n",
      "1257/1257 [==============================] - 0s 55us/step - loss: 4.1142e-04\n",
      "Epoch 128/200\n",
      "1257/1257 [==============================] - 0s 61us/step - loss: 4.1441e-04\n",
      "Epoch 129/200\n",
      "1257/1257 [==============================] - 0s 65us/step - loss: 4.1045e-04\n",
      "Epoch 130/200\n",
      "1257/1257 [==============================] - 0s 56us/step - loss: 4.1204e-04\n",
      "Epoch 131/200\n",
      "1257/1257 [==============================] - 0s 61us/step - loss: 4.1109e-04\n",
      "Epoch 132/200\n",
      "1257/1257 [==============================] - 0s 59us/step - loss: 4.1569e-04\n",
      "Epoch 133/200\n",
      "1257/1257 [==============================] - 0s 61us/step - loss: 4.1327e-04\n",
      "Epoch 134/200\n",
      "1257/1257 [==============================] - 0s 59us/step - loss: 4.1263e-04\n",
      "Epoch 135/200\n",
      "1257/1257 [==============================] - 0s 57us/step - loss: 4.1145e-04\n",
      "Epoch 136/200\n",
      "1257/1257 [==============================] - 0s 60us/step - loss: 4.1747e-04\n",
      "Epoch 137/200\n",
      "1257/1257 [==============================] - 0s 65us/step - loss: 4.1343e-04\n",
      "Epoch 138/200\n",
      "1257/1257 [==============================] - 0s 60us/step - loss: 4.1208e-04\n",
      "Epoch 139/200\n",
      "1257/1257 [==============================] - 0s 55us/step - loss: 4.1358e-04\n",
      "Epoch 140/200\n",
      "1257/1257 [==============================] - 0s 60us/step - loss: 4.1129e-04\n",
      "Epoch 141/200\n",
      "1257/1257 [==============================] - 0s 61us/step - loss: 4.1309e-04\n",
      "Epoch 142/200\n",
      "1257/1257 [==============================] - 0s 71us/step - loss: 4.1165e-04\n",
      "Epoch 143/200\n",
      "1257/1257 [==============================] - 0s 60us/step - loss: 4.1244e-04\n",
      "Epoch 144/200\n",
      "1257/1257 [==============================] - 0s 56us/step - loss: 4.1249e-04\n",
      "Epoch 145/200\n",
      "1257/1257 [==============================] - 0s 60us/step - loss: 4.1370e-04\n",
      "Epoch 146/200\n",
      "1257/1257 [==============================] - 0s 63us/step - loss: 4.1180e-04\n",
      "Epoch 147/200\n",
      "1257/1257 [==============================] - 0s 60us/step - loss: 4.1237e-04\n",
      "Epoch 148/200\n",
      "1257/1257 [==============================] - 0s 61us/step - loss: 4.1143e-04\n",
      "Epoch 149/200\n",
      "1257/1257 [==============================] - 0s 56us/step - loss: 4.1100e-04\n",
      "Epoch 150/200\n",
      "1257/1257 [==============================] - 0s 65us/step - loss: 4.1137e-04\n",
      "Epoch 151/200\n",
      "1257/1257 [==============================] - 0s 56us/step - loss: 4.0956e-04\n",
      "Epoch 152/200\n",
      "1257/1257 [==============================] - 0s 61us/step - loss: 4.1916e-04\n",
      "Epoch 153/200\n",
      "1257/1257 [==============================] - 0s 55us/step - loss: 4.1429e-04\n",
      "Epoch 154/200\n",
      "1257/1257 [==============================] - 0s 62us/step - loss: 4.1447e-04\n",
      "Epoch 155/200\n",
      "1257/1257 [==============================] - 0s 60us/step - loss: 4.1423e-04\n",
      "Epoch 156/200\n",
      "1257/1257 [==============================] - 0s 58us/step - loss: 4.1444e-04\n",
      "Epoch 157/200\n",
      "1257/1257 [==============================] - 0s 67us/step - loss: 4.1035e-04\n",
      "Epoch 158/200\n",
      "1257/1257 [==============================] - 0s 60us/step - loss: 4.1490e-04\n",
      "Epoch 159/200\n",
      "1257/1257 [==============================] - 0s 55us/step - loss: 4.1311e-04\n",
      "Epoch 160/200\n",
      "1257/1257 [==============================] - 0s 60us/step - loss: 4.1515e-04\n",
      "Epoch 161/200\n",
      "1257/1257 [==============================] - 0s 62us/step - loss: 4.1428e-04\n",
      "Epoch 162/200\n",
      "1257/1257 [==============================] - 0s 62us/step - loss: 4.1178e-04\n",
      "Epoch 163/200\n",
      "1257/1257 [==============================] - 0s 64us/step - loss: 4.1052e-04\n",
      "Epoch 164/200\n",
      "1257/1257 [==============================] - 0s 57us/step - loss: 4.1379e-04\n",
      "Epoch 165/200\n",
      "1257/1257 [==============================] - 0s 60us/step - loss: 4.1230e-04\n",
      "Epoch 166/200\n",
      "1257/1257 [==============================] - 0s 62us/step - loss: 4.0986e-04\n",
      "Epoch 167/200\n",
      "1257/1257 [==============================] - 0s 59us/step - loss: 4.0960e-04\n",
      "Epoch 168/200\n",
      "1257/1257 [==============================] - 0s 58us/step - loss: 4.1672e-04\n",
      "Epoch 169/200\n",
      "1257/1257 [==============================] - 0s 63us/step - loss: 4.1452e-04\n",
      "Epoch 170/200\n",
      "1257/1257 [==============================] - 0s 62us/step - loss: 4.1037e-04\n",
      "Epoch 171/200\n",
      "1257/1257 [==============================] - 0s 71us/step - loss: 4.1416e-04\n",
      "Epoch 172/200\n",
      "1257/1257 [==============================] - 0s 69us/step - loss: 4.1115e-04\n",
      "Epoch 173/200\n",
      "1257/1257 [==============================] - 0s 75us/step - loss: 4.1082e-04\n",
      "Epoch 174/200\n",
      "1257/1257 [==============================] - 0s 63us/step - loss: 4.1242e-04\n",
      "Epoch 175/200\n",
      "1257/1257 [==============================] - 0s 70us/step - loss: 4.0998e-04\n",
      "Epoch 176/200\n",
      "1257/1257 [==============================] - 0s 71us/step - loss: 4.0997e-04\n",
      "Epoch 177/200\n",
      "1257/1257 [==============================] - 0s 63us/step - loss: 4.1078e-04\n",
      "Epoch 178/200\n",
      "1257/1257 [==============================] - 0s 68us/step - loss: 4.1965e-04\n",
      "Epoch 179/200\n",
      "1257/1257 [==============================] - 0s 67us/step - loss: 4.1458e-04\n",
      "Epoch 180/200\n",
      "1257/1257 [==============================] - 0s 75us/step - loss: 4.1586e-04\n",
      "Epoch 181/200\n",
      "1257/1257 [==============================] - 0s 74us/step - loss: 4.1853e-04\n",
      "Epoch 182/200\n",
      "1257/1257 [==============================] - 0s 72us/step - loss: 4.1491e-04\n",
      "Epoch 183/200\n",
      "1257/1257 [==============================] - 0s 69us/step - loss: 4.1084e-04\n",
      "Epoch 184/200\n",
      "1257/1257 [==============================] - 0s 71us/step - loss: 4.1419e-04\n",
      "Epoch 185/200\n",
      "1257/1257 [==============================] - 0s 71us/step - loss: 4.1046e-04\n",
      "Epoch 186/200\n",
      "1257/1257 [==============================] - 0s 86us/step - loss: 4.1013e-04\n",
      "Epoch 187/200\n",
      "1257/1257 [==============================] - 0s 72us/step - loss: 4.0961e-04\n",
      "Epoch 188/200\n",
      "1257/1257 [==============================] - 0s 66us/step - loss: 4.1735e-04\n",
      "Epoch 189/200\n",
      "1257/1257 [==============================] - 0s 63us/step - loss: 4.1198e-04\n",
      "Epoch 190/200\n",
      "1257/1257 [==============================] - 0s 60us/step - loss: 4.1425e-04\n",
      "Epoch 191/200\n",
      "1257/1257 [==============================] - 0s 63us/step - loss: 4.1083e-04\n",
      "Epoch 192/200\n",
      "1257/1257 [==============================] - 0s 59us/step - loss: 4.1460e-04\n",
      "Epoch 193/200\n",
      "1257/1257 [==============================] - 0s 75us/step - loss: 4.1010e-04\n",
      "Epoch 194/200\n",
      "1257/1257 [==============================] - 0s 60us/step - loss: 4.1313e-04\n",
      "Epoch 195/200\n",
      "1257/1257 [==============================] - 0s 56us/step - loss: 4.2214e-04\n",
      "Epoch 196/200\n",
      "1257/1257 [==============================] - 0s 65us/step - loss: 4.0953e-04\n",
      "Epoch 197/200\n",
      "1257/1257 [==============================] - 0s 55us/step - loss: 4.1005e-04\n",
      "Epoch 198/200\n",
      "1257/1257 [==============================] - 0s 64us/step - loss: 4.1382e-04\n",
      "Epoch 199/200\n",
      "1257/1257 [==============================] - 0s 62us/step - loss: 4.1194e-04\n",
      "Epoch 200/200\n",
      "1257/1257 [==============================] - 0s 56us/step - loss: 4.1282e-04\n"
     ]
    },
    {
     "data": {
      "text/plain": [
       "<keras.callbacks.History at 0x178ae93f278>"
      ]
     },
     "execution_count": 17,
     "metadata": {},
     "output_type": "execute_result"
    }
   ],
   "source": [
    "# Fitting the Recurrent Neural Network to the Training set\n",
    "regressor.fit(X_train, y_train, batch_size = 32, epochs = 200)"
   ]
  },
  {
   "cell_type": "markdown",
   "metadata": {},
   "source": [
    "# Making Predictions and Visualizing the Results"
   ]
  },
  {
   "cell_type": "markdown",
   "metadata": {},
   "source": [
    "To test our recurrent neural network model, we take the real stock prices of 2017 and compare it with our model with predictions."
   ]
  },
  {
   "cell_type": "code",
   "execution_count": 18,
   "metadata": {},
   "outputs": [
    {
     "data": {
      "text/html": [
       "<div>\n",
       "<style scoped>\n",
       "    .dataframe tbody tr th:only-of-type {\n",
       "        vertical-align: middle;\n",
       "    }\n",
       "\n",
       "    .dataframe tbody tr th {\n",
       "        vertical-align: top;\n",
       "    }\n",
       "\n",
       "    .dataframe thead th {\n",
       "        text-align: right;\n",
       "    }\n",
       "</style>\n",
       "<table border=\"1\" class=\"dataframe\">\n",
       "  <thead>\n",
       "    <tr style=\"text-align: right;\">\n",
       "      <th></th>\n",
       "      <th>Date</th>\n",
       "      <th>Open</th>\n",
       "      <th>High</th>\n",
       "      <th>Low</th>\n",
       "      <th>Close</th>\n",
       "      <th>Adj Close</th>\n",
       "      <th>Volume</th>\n",
       "    </tr>\n",
       "  </thead>\n",
       "  <tbody>\n",
       "    <tr>\n",
       "      <th>0</th>\n",
       "      <td>2017-01-03</td>\n",
       "      <td>214.860001</td>\n",
       "      <td>220.330002</td>\n",
       "      <td>210.960007</td>\n",
       "      <td>216.990005</td>\n",
       "      <td>216.990005</td>\n",
       "      <td>5923300</td>\n",
       "    </tr>\n",
       "    <tr>\n",
       "      <th>1</th>\n",
       "      <td>2017-01-04</td>\n",
       "      <td>214.750000</td>\n",
       "      <td>228.000000</td>\n",
       "      <td>214.309998</td>\n",
       "      <td>226.990005</td>\n",
       "      <td>226.990005</td>\n",
       "      <td>11213500</td>\n",
       "    </tr>\n",
       "    <tr>\n",
       "      <th>2</th>\n",
       "      <td>2017-01-05</td>\n",
       "      <td>226.419998</td>\n",
       "      <td>227.479996</td>\n",
       "      <td>221.949997</td>\n",
       "      <td>226.750000</td>\n",
       "      <td>226.750000</td>\n",
       "      <td>5911700</td>\n",
       "    </tr>\n",
       "    <tr>\n",
       "      <th>3</th>\n",
       "      <td>2017-01-06</td>\n",
       "      <td>226.929993</td>\n",
       "      <td>230.309998</td>\n",
       "      <td>225.449997</td>\n",
       "      <td>229.009995</td>\n",
       "      <td>229.009995</td>\n",
       "      <td>5527900</td>\n",
       "    </tr>\n",
       "    <tr>\n",
       "      <th>4</th>\n",
       "      <td>2017-01-09</td>\n",
       "      <td>228.970001</td>\n",
       "      <td>231.919998</td>\n",
       "      <td>228.000000</td>\n",
       "      <td>231.279999</td>\n",
       "      <td>231.279999</td>\n",
       "      <td>3957000</td>\n",
       "    </tr>\n",
       "  </tbody>\n",
       "</table>\n",
       "</div>"
      ],
      "text/plain": [
       "         Date        Open        High         Low       Close   Adj Close  \\\n",
       "0  2017-01-03  214.860001  220.330002  210.960007  216.990005  216.990005   \n",
       "1  2017-01-04  214.750000  228.000000  214.309998  226.990005  226.990005   \n",
       "2  2017-01-05  226.419998  227.479996  221.949997  226.750000  226.750000   \n",
       "3  2017-01-06  226.929993  230.309998  225.449997  229.009995  229.009995   \n",
       "4  2017-01-09  228.970001  231.919998  228.000000  231.279999  231.279999   \n",
       "\n",
       "     Volume  \n",
       "0   5923300  \n",
       "1  11213500  \n",
       "2   5911700  \n",
       "3   5527900  \n",
       "4   3957000  "
      ]
     },
     "execution_count": 18,
     "metadata": {},
     "output_type": "execute_result"
    }
   ],
   "source": [
    "# Getting the real stock price of 2017\n",
    "test_set.head()"
   ]
  },
  {
   "cell_type": "code",
   "execution_count": 19,
   "metadata": {},
   "outputs": [
    {
     "data": {
      "text/html": [
       "<div>\n",
       "<style scoped>\n",
       "    .dataframe tbody tr th:only-of-type {\n",
       "        vertical-align: middle;\n",
       "    }\n",
       "\n",
       "    .dataframe tbody tr th {\n",
       "        vertical-align: top;\n",
       "    }\n",
       "\n",
       "    .dataframe thead th {\n",
       "        text-align: right;\n",
       "    }\n",
       "</style>\n",
       "<table border=\"1\" class=\"dataframe\">\n",
       "  <thead>\n",
       "    <tr style=\"text-align: right;\">\n",
       "      <th></th>\n",
       "      <th>Open</th>\n",
       "    </tr>\n",
       "  </thead>\n",
       "  <tbody>\n",
       "    <tr>\n",
       "      <th>0</th>\n",
       "      <td>214.860001</td>\n",
       "    </tr>\n",
       "    <tr>\n",
       "      <th>1</th>\n",
       "      <td>214.750000</td>\n",
       "    </tr>\n",
       "    <tr>\n",
       "      <th>2</th>\n",
       "      <td>226.419998</td>\n",
       "    </tr>\n",
       "    <tr>\n",
       "      <th>3</th>\n",
       "      <td>226.929993</td>\n",
       "    </tr>\n",
       "    <tr>\n",
       "      <th>4</th>\n",
       "      <td>228.970001</td>\n",
       "    </tr>\n",
       "  </tbody>\n",
       "</table>\n",
       "</div>"
      ],
      "text/plain": [
       "         Open\n",
       "0  214.860001\n",
       "1  214.750000\n",
       "2  226.419998\n",
       "3  226.929993\n",
       "4  228.970001"
      ]
     },
     "execution_count": 19,
     "metadata": {},
     "output_type": "execute_result"
    }
   ],
   "source": [
    "# Getting relevant feature\n",
    "real_stock_price = test_set.iloc[:,1:2]\n",
    "real_stock_price.head()"
   ]
  },
  {
   "cell_type": "code",
   "execution_count": 20,
   "metadata": {},
   "outputs": [],
   "source": [
    "# Converting to 2D array\n",
    "real_stock_price = real_stock_price.values"
   ]
  },
  {
   "cell_type": "code",
   "execution_count": 21,
   "metadata": {
    "collapsed": true,
    "jupyter": {
     "outputs_hidden": true
    }
   },
   "outputs": [],
   "source": [
    "# Getting the predicted stock price of 2017\n",
    "inputs = real_stock_price\n",
    "inputs = sc.transform(inputs)\n",
    "inputs = np.reshape(inputs, (251 , 1, 1))\n",
    "predicted_stock_price = regressor.predict(inputs)\n",
    "predicted_stock_price = sc.inverse_transform(predicted_stock_price)"
   ]
  },
  {
   "cell_type": "markdown",
   "metadata": {},
   "source": [
    "For 175 days, the predicted price is extremelly close."
   ]
  },
  {
   "cell_type": "code",
   "execution_count": 22,
   "metadata": {},
   "outputs": [
    {
     "data": {
      "image/png": "[encoded data removed]",
      "text/plain": [
       "<Figure size 432x288 with 1 Axes>"
      ]
     },
     "metadata": {
      "needs_background": "light"
     },
     "output_type": "display_data"
    }
   ],
   "source": [
    "# Visualizing the results\n",
    "plt.plot(real_stock_price, color = 'red', label = 'Real Tesla Stock Price')\n",
    "plt.plot(predicted_stock_price, color = 'blue', label = 'Predicted Tesla Stock Price')\n",
    "plt.title('Tesla Stock Price Prediction')\n",
    "plt.xlabel('Days')\n",
    "plt.ylabel('Tesla Stock Price')\n",
    "plt.legend()\n",
    "plt.show()"
   ]
  },
  {
   "cell_type": "markdown",
   "metadata": {},
   "source": [
    "Now we see if we can predict the past 5 years based on our model. At first it looks like the 'real tesla stock prices' isn't showing."
   ]
  },
  {
   "cell_type": "code",
   "execution_count": 23,
   "metadata": {},
   "outputs": [
    {
     "data": {
      "image/png": "[encoded data removed]",
      "text/plain": [
       "<Figure size 432x288 with 1 Axes>"
      ]
     },
     "metadata": {
      "needs_background": "light"
     },
     "output_type": "display_data"
    }
   ],
   "source": [
    "# Getting the real stock price of 2012 - 2016\n",
    "real_stock_price_train = pd.read_csv('C:/git/pythonML/pythonML/notebooks/Recurrent-Neural-Network-to-Predict-Stock-Prices/TSLA_2012-2016.csv')\n",
    "real_stock_price_train = real_stock_price_train.iloc[:,1:2].values\n",
    "\n",
    "# Getting the predicted stock price of 2012 - 2016\n",
    "predicted_stock_price_train = regressor.predict(X_train)\n",
    "predicted_stock_price_train = sc.inverse_transform(predicted_stock_price_train)\n",
    "\n",
    "# Visualising the results\n",
    "plt.plot(real_stock_price_train, color = 'red', label = 'Real Tesla Stock Price')\n",
    "plt.plot(predicted_stock_price_train, color = 'blue', label = 'Predicted Tesla Stock Price')\n",
    "plt.title('5-year Tesla Stock Price Prediction')\n",
    "plt.xlabel('Days')\n",
    "plt.ylabel('Tesla Stock Price')\n",
    "plt.legend()\n",
    "plt.show()"
   ]
  },
  {
   "cell_type": "markdown",
   "metadata": {},
   "source": [
    "However, after splitting the data, we can see that our predictions were also extremelly accurate."
   ]
  },
  {
   "cell_type": "code",
   "execution_count": 24,
   "metadata": {},
   "outputs": [
    {
     "data": {
      "image/png": "[encoded data removed]",
      "text/plain": [
       "<Figure size 432x288 with 1 Axes>"
      ]
     },
     "metadata": {
      "needs_background": "light"
     },
     "output_type": "display_data"
    }
   ],
   "source": [
    "plt.plot(real_stock_price_train, color = 'red', label = 'Real Tesla Stock Price')\n",
    "plt.title('5-year Tesla Stock Prices')\n",
    "plt.xlabel('Days')\n",
    "plt.ylabel('Tesla Stock Price')\n",
    "plt.legend()\n",
    "plt.show()"
   ]
  },
  {
   "cell_type": "code",
   "execution_count": 25,
   "metadata": {},
   "outputs": [
    {
     "data": {
      "image/png": "[encoded data removed]",
      "text/plain": [
       "<Figure size 432x288 with 1 Axes>"
      ]
     },
     "metadata": {
      "needs_background": "light"
     },
     "output_type": "display_data"
    }
   ],
   "source": [
    "plt.plot(predicted_stock_price_train, color = 'blue', label = 'Predicted Tesla Stock Price')\n",
    "plt.title('5-year Tesla Stock Price Prediction')\n",
    "plt.xlabel('Days')\n",
    "plt.ylabel('Tesla Stock Price')\n",
    "plt.legend()\n",
    "plt.show()"
   ]
  },
  {
   "cell_type": "code",
   "execution_count": null,
   "metadata": {
    "collapsed": true,
    "jupyter": {
     "outputs_hidden": true
    }
   },
   "outputs": [],
   "source": []
  }
 ],
 "metadata": {
  "kernelspec": {
   "display_name": "Python [conda env:tensorflow]",
   "language": "python",
   "name": "conda-env-tensorflow-py"
  },
  "language_info": {
   "codemirror_mode": {
    "name": "ipython",
    "version": 3
   },
   "file_extension": ".py",
   "mimetype": "text/x-python",
   "name": "python",
   "nbconvert_exporter": "python",
   "pygments_lexer": "ipython3",
   "version": "3.6.6"
  }
 },
 "nbformat": 4,
 "nbformat_minor": 4
}
