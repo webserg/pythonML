{
 "cells": [
  {
   "cell_type": "code",
   "execution_count": 44,
   "metadata": {
    "scrolled": false
   },
   "outputs": [
    {
     "name": "stdout",
     "output_type": "stream",
     "text": [
      "2.0.0\n"
     ]
    }
   ],
   "source": [
    "import tensorflow as tf\n",
    "print(tf.__version__)"
   ]
  },
  {
   "cell_type": "markdown",
   "metadata": {},
   "source": [
    "# The Keras functional API"
   ]
  },
  {
   "cell_type": "markdown",
   "metadata": {},
   "source": [
    " ## Coding tutorials\n",
    " #### [1. Multiple inputs and outputs](#coding_tutorial_1)\n",
    " #### [2. Tensors and Variables](#coding_tutorial_2)\n",
    " #### [3. Accessing model layers](#coding_tutorial_3)\n",
    " #### [4. Freezing layers](#coding_tutorial_4)"
   ]
  },
  {
   "cell_type": "markdown",
   "metadata": {},
   "source": [
    "***\n",
    "<a id=\"coding_tutorial_1\"></a>\n",
    "## Multiple inputs and outputs"
   ]
  },
  {
   "cell_type": "code",
   "execution_count": 45,
   "metadata": {
    "scrolled": false
   },
   "outputs": [],
   "source": [
    "import numpy as np\n",
    "import pandas as pd\n",
    "import matplotlib.pyplot as plt\n",
    "%matplotlib inline"
   ]
  },
  {
   "cell_type": "markdown",
   "metadata": {},
   "source": [
    "#### Load the acute inflammations dataset\n",
    "\n",
    "The `acute inflammations` was created by a medical expert as a data set to test the expert system, which will perform the presumptive diagnosis of two diseases of the urinary system. You can find out more about the dataset [here](https://archive.ics.uci.edu/ml/datasets/Acute+Inflammations).\n",
    "\n",
    "Attribute information:\n",
    "\n",
    "Inputs:\n",
    "- Temperature of patient : 35C-42C\n",
    "- Occurrence of nausea : yes/no\n",
    "- Lumbar pain : yes/no\n",
    "- Urine pushing (continuous need for urination) : yes/no\n",
    "- Micturition pains : yes/no\n",
    "- Burning of urethra, itch, swelling of urethra outlet : yes/no\n",
    "\n",
    "Outputs:\n",
    "- decision 1: Inflammation of urinary bladder : yes/no\n",
    "- decision 2: Nephritis of renal pelvis origin : yes/no"
   ]
  },
  {
   "cell_type": "markdown",
   "metadata": {},
   "source": [
    "#### Load the data"
   ]
  },
  {
   "cell_type": "code",
   "execution_count": 46,
   "metadata": {
    "scrolled": false
   },
   "outputs": [],
   "source": [
    "# Load the dataset\n",
    "\n",
    "from sklearn.model_selection import train_test_split\n",
    "\n",
    "pd_dat = pd.read_csv('data/diagnosis.csv')\n",
    "dataset = pd_dat.values"
   ]
  },
  {
   "cell_type": "code",
   "execution_count": 47,
   "metadata": {
    "scrolled": false
   },
   "outputs": [],
   "source": [
    "# Build train and test data splits\n",
    "\n",
    "X_train, X_test, Y_train, Y_test = train_test_split(dataset[:,:6], dataset[:,6:], test_size=0.33)"
   ]
  },
  {
   "cell_type": "code",
   "execution_count": 48,
   "metadata": {},
   "outputs": [
    {
     "data": {
      "text/plain": [
       "array([[0., 0.],\n",
       "       [1., 0.],\n",
       "       [1., 0.],\n",
       "       [1., 0.],\n",
       "       [0., 1.],\n",
       "       [1., 1.],\n",
       "       [0., 0.],\n",
       "       [1., 1.],\n",
       "       [0., 0.],\n",
       "       [1., 1.],\n",
       "       [0., 0.],\n",
       "       [1., 1.],\n",
       "       [1., 0.],\n",
       "       [0., 1.],\n",
       "       [1., 0.],\n",
       "       [0., 1.],\n",
       "       [1., 0.],\n",
       "       [1., 1.],\n",
       "       [0., 1.],\n",
       "       [0., 1.],\n",
       "       [1., 1.],\n",
       "       [1., 0.],\n",
       "       [1., 0.],\n",
       "       [1., 1.],\n",
       "       [0., 1.],\n",
       "       [1., 1.],\n",
       "       [1., 0.],\n",
       "       [0., 1.],\n",
       "       [0., 0.],\n",
       "       [1., 0.],\n",
       "       [0., 1.],\n",
       "       [0., 0.],\n",
       "       [0., 1.],\n",
       "       [1., 0.],\n",
       "       [0., 1.],\n",
       "       [0., 0.],\n",
       "       [1., 1.],\n",
       "       [0., 0.],\n",
       "       [1., 0.],\n",
       "       [0., 0.],\n",
       "       [1., 0.],\n",
       "       [0., 0.],\n",
       "       [0., 0.],\n",
       "       [0., 0.],\n",
       "       [1., 0.],\n",
       "       [1., 0.],\n",
       "       [0., 0.],\n",
       "       [1., 1.],\n",
       "       [0., 0.],\n",
       "       [0., 0.],\n",
       "       [1., 1.],\n",
       "       [0., 0.],\n",
       "       [1., 0.],\n",
       "       [0., 0.],\n",
       "       [1., 0.],\n",
       "       [0., 0.],\n",
       "       [1., 0.],\n",
       "       [1., 0.],\n",
       "       [1., 0.],\n",
       "       [1., 0.],\n",
       "       [0., 0.],\n",
       "       [1., 1.],\n",
       "       [1., 1.],\n",
       "       [0., 1.],\n",
       "       [1., 1.],\n",
       "       [0., 1.],\n",
       "       [1., 0.],\n",
       "       [1., 0.],\n",
       "       [1., 0.],\n",
       "       [1., 0.],\n",
       "       [0., 1.],\n",
       "       [0., 1.],\n",
       "       [1., 1.],\n",
       "       [1., 0.],\n",
       "       [0., 0.],\n",
       "       [0., 1.],\n",
       "       [1., 1.],\n",
       "       [1., 1.],\n",
       "       [0., 1.],\n",
       "       [1., 0.]])"
      ]
     },
     "execution_count": 48,
     "metadata": {},
     "output_type": "execute_result"
    }
   ],
   "source": [
    "Y_train"
   ]
  },
  {
   "cell_type": "code",
   "execution_count": 49,
   "metadata": {
    "scrolled": false
   },
   "outputs": [],
   "source": [
    "# Assign training and testing inputs/outputs\n",
    "\n",
    "temp_train, nocc_train, lumbp_train, up_train, mict_train, bis_train = np.transpose(X_train)\n",
    "temp_test, nocc_test, lumbp_test, up_test, mict_test, bis_test = np.transpose(X_test)\n",
    "\n",
    "inflam_train, nephr_train = Y_train[:, 0], Y_train[:, 1]\n",
    "inflam_test, nephr_test = Y_test[:, 0], Y_test[:, 1]"
   ]
  },
  {
   "cell_type": "markdown",
   "metadata": {},
   "source": [
    "#### Build the model"
   ]
  },
  {
   "cell_type": "code",
   "execution_count": 50,
   "metadata": {
    "scrolled": false
   },
   "outputs": [],
   "source": [
    "# Build the input layers\n",
    "from tensorflow.keras import Input, layers\n",
    "\n",
    "shape_inputs = (1,)\n",
    "temperature = Input(shape=shape_inputs, name ='temp')\n",
    "nausea_occurence = Input(shape=shape_inputs, name ='nocc')\n",
    "lumbar_pain = Input(shape=shape_inputs, name ='lumbp')\n",
    "urine_pushing = Input(shape=shape_inputs, name ='up')\n",
    "micturition_pains = Input(shape=shape_inputs, name ='mict')\n",
    "bis = Input(shape=shape_inputs, name ='bis')\n"
   ]
  },
  {
   "cell_type": "code",
   "execution_count": 51,
   "metadata": {
    "scrolled": true
   },
   "outputs": [],
   "source": [
    "# Create a list of all the inputs\n",
    "\n",
    "list_inputs = [temperature, nausea_occurence, lumbar_pain, urine_pushing, \n",
    "               micturition_pains, bis]"
   ]
  },
  {
   "cell_type": "code",
   "execution_count": 52,
   "metadata": {
    "scrolled": false
   },
   "outputs": [],
   "source": [
    "# Merge all input features into a single large vector\n",
    "x = layers.concatenate(list_inputs)\n"
   ]
  },
  {
   "cell_type": "code",
   "execution_count": 53,
   "metadata": {
    "scrolled": false
   },
   "outputs": [],
   "source": [
    "# Use a logistic regression classifier for disease prediction\n",
    "\n",
    "inflammation_pred = layers.Dense(1, activation='sigmoid', name='inflam')(x)\n",
    "nephritis_pred = layers.Dense(1, activation='sigmoid', name='nephr')(x)"
   ]
  },
  {
   "cell_type": "code",
   "execution_count": 54,
   "metadata": {
    "scrolled": true
   },
   "outputs": [],
   "source": [
    "# Create a list of all the outputs\n",
    "\n",
    "list_outputs = [inflammation_pred, nephritis_pred]"
   ]
  },
  {
   "cell_type": "code",
   "execution_count": 55,
   "metadata": {
    "scrolled": false
   },
   "outputs": [],
   "source": [
    "# Create the model object\n",
    "\n",
    "model = tf.keras.Model(inputs=list_inputs, outputs=list_outputs)"
   ]
  },
  {
   "cell_type": "markdown",
   "metadata": {},
   "source": [
    "#### Plot the model"
   ]
  },
  {
   "cell_type": "code",
   "execution_count": 56,
   "metadata": {
    "scrolled": false
   },
   "outputs": [
    {
     "data": {
      "image/png": "[encoded data removed]",
      "text/plain": [
       "<IPython.core.display.Image object>"
      ]
     },
     "execution_count": 56,
     "metadata": {},
     "output_type": "execute_result"
    }
   ],
   "source": [
    "# Display the multiple input/output model\n",
    "\n",
    "tf.keras.utils.plot_model(model, 'mulit_input_output_model.png', show_shapes=True)"
   ]
  },
  {
   "cell_type": "markdown",
   "metadata": {},
   "source": [
    "#### Compile the model"
   ]
  },
  {
   "cell_type": "code",
   "execution_count": 57,
   "metadata": {
    "scrolled": true
   },
   "outputs": [],
   "source": [
    "# Compile the model\n",
    "model.compile(optimizer=tf.keras.optimizers.RMSprop(1e-3),\n",
    "             loss={'inflam':'binary_crossentropy', 'nephr':'binary_crossentropy'},\n",
    "              metrics=[[\"acc\"],[\"mse\"]],\n",
    "              loss_weights=[1.,0.2])\n"
   ]
  },
  {
   "cell_type": "markdown",
   "metadata": {},
   "source": [
    "#### Fit the model "
   ]
  },
  {
   "cell_type": "code",
   "execution_count": 58,
   "metadata": {
    "scrolled": false
   },
   "outputs": [],
   "source": [
    "# Define training inputs and outputs\n",
    "\n",
    "inputs_train = {'temp': temp_train, 'nocc': nocc_train, 'lumbp': lumbp_train,\n",
    "                'up': up_train, 'mict': mict_train, 'bis': bis_train}\n",
    "\n",
    "outputs_train = {'inflam': inflam_train, 'nephr': nephr_train}"
   ]
  },
  {
   "cell_type": "code",
   "execution_count": 59,
   "metadata": {},
   "outputs": [
    {
     "name": "stdout",
     "output_type": "stream",
     "text": [
      "Train on 80 samples\n",
      "Epoch 1/1000\n",
      "80/80 [==============================] - 1s 18ms/sample - loss: 4.9220 - inflam_loss: 3.1033 - nephr_loss: 9.0935 - inflam_acc: 0.5500 - nephr_mse: 0.5875\n",
      "Epoch 2/1000\n",
      "80/80 [==============================] - 0s 785us/sample - loss: 4.8479 - inflam_loss: 3.0441 - nephr_loss: 9.0190 - inflam_acc: 0.5500 - nephr_mse: 0.5875\n",
      "Epoch 3/1000\n",
      "80/80 [==============================] - 0s 54us/sample - loss: 4.7942 - inflam_loss: 3.0012 - nephr_loss: 8.9650 - inflam_acc: 0.5500 - nephr_mse: 0.5875\n",
      "Epoch 4/1000\n",
      "80/80 [==============================] - 0s 53us/sample - loss: 4.7493 - inflam_loss: 2.9653 - nephr_loss: 8.9198 - inflam_acc: 0.5500 - nephr_mse: 0.5875\n",
      "Epoch 5/1000\n",
      "80/80 [==============================] - 0s 38us/sample - loss: 4.7094 - inflam_loss: 2.9335 - nephr_loss: 8.8797 - inflam_acc: 0.5500 - nephr_mse: 0.5875\n",
      "Epoch 6/1000\n",
      "80/80 [==============================] - 0s 1ms/sample - loss: 4.6729 - inflam_loss: 2.9043 - nephr_loss: 8.8429 - inflam_acc: 0.5500 - nephr_mse: 0.5875\n",
      "Epoch 7/1000\n",
      "80/80 [==============================] - 0s 41us/sample - loss: 4.6387 - inflam_loss: 2.8770 - nephr_loss: 8.8085 - inflam_acc: 0.5500 - nephr_mse: 0.5875\n",
      "Epoch 8/1000\n",
      "80/80 [==============================] - 0s 47us/sample - loss: 4.6064 - inflam_loss: 2.8512 - nephr_loss: 8.7759 - inflam_acc: 0.5500 - nephr_mse: 0.5875\n",
      "Epoch 9/1000\n",
      "80/80 [==============================] - 0s 46us/sample - loss: 4.5754 - inflam_loss: 2.8265 - nephr_loss: 8.7447 - inflam_acc: 0.5500 - nephr_mse: 0.5875\n",
      "Epoch 10/1000\n",
      "80/80 [==============================] - 0s 39us/sample - loss: 4.5456 - inflam_loss: 2.8026 - nephr_loss: 8.7147 - inflam_acc: 0.5500 - nephr_mse: 0.5875\n",
      "Epoch 11/1000\n",
      "80/80 [==============================] - 0s 35us/sample - loss: 4.5167 - inflam_loss: 2.7796 - nephr_loss: 8.6855 - inflam_acc: 0.5500 - nephr_mse: 0.5875\n",
      "Epoch 12/1000\n",
      "80/80 [==============================] - 0s 61us/sample - loss: 4.4885 - inflam_loss: 2.7571 - nephr_loss: 8.6571 - inflam_acc: 0.5500 - nephr_mse: 0.5875\n",
      "Epoch 13/1000\n",
      "80/80 [==============================] - 0s 46us/sample - loss: 4.4610 - inflam_loss: 2.7351 - nephr_loss: 8.6293 - inflam_acc: 0.5500 - nephr_mse: 0.5875\n",
      "Epoch 14/1000\n",
      "80/80 [==============================] - 0s 47us/sample - loss: 4.4340 - inflam_loss: 2.7136 - nephr_loss: 8.6020 - inflam_acc: 0.5500 - nephr_mse: 0.5875\n",
      "Epoch 15/1000\n",
      "80/80 [==============================] - 0s 37us/sample - loss: 4.4074 - inflam_loss: 2.6924 - nephr_loss: 8.5752 - inflam_acc: 0.5500 - nephr_mse: 0.5875\n",
      "Epoch 16/1000\n",
      "80/80 [==============================] - 0s 1ms/sample - loss: 4.3813 - inflam_loss: 2.6715 - nephr_loss: 8.5488 - inflam_acc: 0.5500 - nephr_mse: 0.5875\n",
      "Epoch 17/1000\n",
      "80/80 [==============================] - 0s 41us/sample - loss: 4.3555 - inflam_loss: 2.6509 - nephr_loss: 8.5227 - inflam_acc: 0.5500 - nephr_mse: 0.5875\n",
      "Epoch 18/1000\n",
      "80/80 [==============================] - 0s 44us/sample - loss: 4.3300 - inflam_loss: 2.6306 - nephr_loss: 8.4969 - inflam_acc: 0.5500 - nephr_mse: 0.5875\n",
      "Epoch 19/1000\n",
      "80/80 [==============================] - 0s 38us/sample - loss: 4.3048 - inflam_loss: 2.6105 - nephr_loss: 8.4714 - inflam_acc: 0.5500 - nephr_mse: 0.5875\n",
      "Epoch 20/1000\n",
      "80/80 [==============================] - 0s 37us/sample - loss: 4.2798 - inflam_loss: 2.5905 - nephr_loss: 8.4461 - inflam_acc: 0.5500 - nephr_mse: 0.5875\n",
      "Epoch 21/1000\n",
      "80/80 [==============================] - 0s 1ms/sample - loss: 4.2550 - inflam_loss: 2.5708 - nephr_loss: 8.4210 - inflam_acc: 0.5500 - nephr_mse: 0.5875\n",
      "Epoch 22/1000\n",
      "80/80 [==============================] - 0s 60us/sample - loss: 4.2303 - inflam_loss: 2.5511 - nephr_loss: 8.3960 - inflam_acc: 0.5500 - nephr_mse: 0.5875\n",
      "Epoch 23/1000\n",
      "80/80 [==============================] - 0s 44us/sample - loss: 4.2059 - inflam_loss: 2.5316 - nephr_loss: 8.3713 - inflam_acc: 0.5500 - nephr_mse: 0.5875\n",
      "Epoch 24/1000\n",
      "80/80 [==============================] - 0s 49us/sample - loss: 4.1816 - inflam_loss: 2.5123 - nephr_loss: 8.3466 - inflam_acc: 0.5500 - nephr_mse: 0.5875\n",
      "Epoch 25/1000\n",
      "80/80 [==============================] - 0s 1ms/sample - loss: 4.1574 - inflam_loss: 2.4930 - nephr_loss: 8.3221 - inflam_acc: 0.5500 - nephr_mse: 0.5875\n",
      "Epoch 26/1000\n",
      "80/80 [==============================] - 0s 65us/sample - loss: 4.1333 - inflam_loss: 2.4738 - nephr_loss: 8.2976 - inflam_acc: 0.5500 - nephr_mse: 0.5875\n",
      "Epoch 27/1000\n",
      "80/80 [==============================] - 0s 61us/sample - loss: 4.1094 - inflam_loss: 2.4547 - nephr_loss: 8.2733 - inflam_acc: 0.5500 - nephr_mse: 0.5875\n",
      "Epoch 28/1000\n",
      "80/80 [==============================] - 0s 39us/sample - loss: 4.0855 - inflam_loss: 2.4357 - nephr_loss: 8.2490 - inflam_acc: 0.5500 - nephr_mse: 0.5875\n",
      "Epoch 29/1000\n",
      "80/80 [==============================] - 0s 35us/sample - loss: 4.0618 - inflam_loss: 2.4168 - nephr_loss: 8.2249 - inflam_acc: 0.5500 - nephr_mse: 0.5875\n",
      "Epoch 30/1000\n",
      "80/80 [==============================] - 0s 996us/sample - loss: 4.0381 - inflam_loss: 2.3979 - nephr_loss: 8.2007 - inflam_acc: 0.5500 - nephr_mse: 0.5875\n",
      "Epoch 31/1000\n",
      "80/80 [==============================] - 0s 58us/sample - loss: 4.0144 - inflam_loss: 2.3791 - nephr_loss: 8.1767 - inflam_acc: 0.5500 - nephr_mse: 0.5875\n",
      "Epoch 32/1000\n",
      "80/80 [==============================] - 0s 48us/sample - loss: 3.9909 - inflam_loss: 2.3604 - nephr_loss: 8.1527 - inflam_acc: 0.5500 - nephr_mse: 0.5875\n",
      "Epoch 33/1000\n",
      "80/80 [==============================] - 0s 35us/sample - loss: 3.9674 - inflam_loss: 2.3417 - nephr_loss: 8.1287 - inflam_acc: 0.5500 - nephr_mse: 0.5875\n",
      "Epoch 34/1000\n",
      "80/80 [==============================] - 0s 32us/sample - loss: 3.9440 - inflam_loss: 2.3230 - nephr_loss: 8.1048 - inflam_acc: 0.5500 - nephr_mse: 0.5875\n",
      "Epoch 35/1000\n",
      "80/80 [==============================] - 0s 999us/sample - loss: 3.9206 - inflam_loss: 2.3044 - nephr_loss: 8.0809 - inflam_acc: 0.5500 - nephr_mse: 0.5875\n",
      "Epoch 36/1000\n",
      "80/80 [==============================] - 0s 55us/sample - loss: 3.8973 - inflam_loss: 2.2859 - nephr_loss: 8.0571 - inflam_acc: 0.5500 - nephr_mse: 0.5875\n",
      "Epoch 37/1000\n",
      "80/80 [==============================] - 0s 36us/sample - loss: 3.8741 - inflam_loss: 2.2674 - nephr_loss: 8.0333 - inflam_acc: 0.5500 - nephr_mse: 0.5875\n",
      "Epoch 38/1000\n",
      "80/80 [==============================] - 0s 43us/sample - loss: 3.8509 - inflam_loss: 2.2489 - nephr_loss: 8.0095 - inflam_acc: 0.5500 - nephr_mse: 0.5875\n",
      "Epoch 39/1000\n",
      "80/80 [==============================] - 0s 40us/sample - loss: 3.8277 - inflam_loss: 2.2305 - nephr_loss: 7.9858 - inflam_acc: 0.5500 - nephr_mse: 0.5875\n",
      "Epoch 40/1000\n",
      "80/80 [==============================] - 0s 32us/sample - loss: 3.8046 - inflam_loss: 2.2122 - nephr_loss: 7.9620 - inflam_acc: 0.5500 - nephr_mse: 0.5875\n",
      "Epoch 41/1000\n",
      "80/80 [==============================] - 0s 1ms/sample - loss: 3.7815 - inflam_loss: 2.1938 - nephr_loss: 7.9383 - inflam_acc: 0.5500 - nephr_mse: 0.5875\n",
      "Epoch 42/1000\n",
      "80/80 [==============================] - 0s 50us/sample - loss: 3.7584 - inflam_loss: 2.1755 - nephr_loss: 7.9146 - inflam_acc: 0.5500 - nephr_mse: 0.5875\n",
      "Epoch 43/1000\n",
      "80/80 [==============================] - 0s 56us/sample - loss: 3.7354 - inflam_loss: 2.1572 - nephr_loss: 7.8909 - inflam_acc: 0.5500 - nephr_mse: 0.5875\n",
      "Epoch 44/1000\n",
      "80/80 [==============================] - 0s 37us/sample - loss: 3.7125 - inflam_loss: 2.1390 - nephr_loss: 7.8673 - inflam_acc: 0.5500 - nephr_mse: 0.5875\n",
      "Epoch 45/1000\n",
      "80/80 [==============================] - 0s 35us/sample - loss: 3.6896 - inflam_loss: 2.1208 - nephr_loss: 7.8436 - inflam_acc: 0.5500 - nephr_mse: 0.5875\n",
      "Epoch 46/1000\n",
      "80/80 [==============================] - 0s 65us/sample - loss: 3.6667 - inflam_loss: 2.1027 - nephr_loss: 7.8200 - inflam_acc: 0.5500 - nephr_mse: 0.5875\n",
      "Epoch 47/1000\n",
      "80/80 [==============================] - 0s 59us/sample - loss: 3.6438 - inflam_loss: 2.0846 - nephr_loss: 7.7963 - inflam_acc: 0.5500 - nephr_mse: 0.5875\n",
      "Epoch 48/1000\n",
      "80/80 [==============================] - 0s 38us/sample - loss: 3.6210 - inflam_loss: 2.0665 - nephr_loss: 7.7727 - inflam_acc: 0.5500 - nephr_mse: 0.5875\n",
      "Epoch 49/1000\n",
      "80/80 [==============================] - 0s 40us/sample - loss: 3.5983 - inflam_loss: 2.0484 - nephr_loss: 7.7491 - inflam_acc: 0.5500 - nephr_mse: 0.5875\n",
      "Epoch 50/1000\n",
      "80/80 [==============================] - 0s 38us/sample - loss: 3.5755 - inflam_loss: 2.0304 - nephr_loss: 7.7255 - inflam_acc: 0.5500 - nephr_mse: 0.5875\n",
      "Epoch 51/1000\n",
      "80/80 [==============================] - 0s 968us/sample - loss: 3.5529 - inflam_loss: 2.0125 - nephr_loss: 7.7019 - inflam_acc: 0.5500 - nephr_mse: 0.5875\n",
      "Epoch 52/1000\n",
      "80/80 [==============================] - 0s 88us/sample - loss: 3.5302 - inflam_loss: 1.9946 - nephr_loss: 7.6783 - inflam_acc: 0.5500 - nephr_mse: 0.5875\n",
      "Epoch 53/1000\n",
      "80/80 [==============================] - 0s 45us/sample - loss: 3.5076 - inflam_loss: 1.9767 - nephr_loss: 7.6547 - inflam_acc: 0.5500 - nephr_mse: 0.5875\n",
      "Epoch 54/1000\n",
      "80/80 [==============================] - 0s 37us/sample - loss: 3.4851 - inflam_loss: 1.9588 - nephr_loss: 7.6311 - inflam_acc: 0.5500 - nephr_mse: 0.5875\n",
      "Epoch 55/1000\n",
      "80/80 [==============================] - 0s 34us/sample - loss: 3.4626 - inflam_loss: 1.9411 - nephr_loss: 7.6076 - inflam_acc: 0.5500 - nephr_mse: 0.5875\n",
      "Epoch 56/1000\n",
      "80/80 [==============================] - 0s 67us/sample - loss: 3.4401 - inflam_loss: 1.9233 - nephr_loss: 7.5840 - inflam_acc: 0.5500 - nephr_mse: 0.5875\n",
      "Epoch 57/1000\n",
      "80/80 [==============================] - 0s 60us/sample - loss: 3.4177 - inflam_loss: 1.9056 - nephr_loss: 7.5604 - inflam_acc: 0.5500 - nephr_mse: 0.5875\n",
      "Epoch 58/1000\n",
      "80/80 [==============================] - 0s 42us/sample - loss: 3.3953 - inflam_loss: 1.8879 - nephr_loss: 7.5368 - inflam_acc: 0.5500 - nephr_mse: 0.5875\n",
      "Epoch 59/1000\n",
      "80/80 [==============================] - 0s 38us/sample - loss: 3.3730 - inflam_loss: 1.8703 - nephr_loss: 7.5133 - inflam_acc: 0.5500 - nephr_mse: 0.5875\n",
      "Epoch 60/1000\n",
      "80/80 [==============================] - 0s 1ms/sample - loss: 3.3507 - inflam_loss: 1.8528 - nephr_loss: 7.4897 - inflam_acc: 0.5500 - nephr_mse: 0.5875\n",
      "Epoch 61/1000\n",
      "80/80 [==============================] - 0s 74us/sample - loss: 3.3285 - inflam_loss: 1.8353 - nephr_loss: 7.4662 - inflam_acc: 0.5500 - nephr_mse: 0.5875\n",
      "Epoch 62/1000\n",
      "80/80 [==============================] - 0s 42us/sample - loss: 3.3063 - inflam_loss: 1.8178 - nephr_loss: 7.4426 - inflam_acc: 0.5500 - nephr_mse: 0.5875\n",
      "Epoch 63/1000\n",
      "80/80 [==============================] - 0s 38us/sample - loss: 3.2842 - inflam_loss: 1.8004 - nephr_loss: 7.4190 - inflam_acc: 0.5500 - nephr_mse: 0.5875\n",
      "Epoch 64/1000\n",
      "80/80 [==============================] - 0s 36us/sample - loss: 3.2622 - inflam_loss: 1.7831 - nephr_loss: 7.3955 - inflam_acc: 0.5500 - nephr_mse: 0.5875\n",
      "Epoch 65/1000\n",
      "80/80 [==============================] - 0s 1ms/sample - loss: 3.2402 - inflam_loss: 1.7658 - nephr_loss: 7.3719 - inflam_acc: 0.5500 - nephr_mse: 0.5875\n",
      "Epoch 66/1000\n",
      "80/80 [==============================] - 0s 62us/sample - loss: 3.2182 - inflam_loss: 1.7485 - nephr_loss: 7.3484 - inflam_acc: 0.5500 - nephr_mse: 0.5875\n",
      "Epoch 67/1000\n",
      "80/80 [==============================] - 0s 47us/sample - loss: 3.1964 - inflam_loss: 1.7314 - nephr_loss: 7.3248 - inflam_acc: 0.5500 - nephr_mse: 0.5875\n",
      "Epoch 68/1000\n",
      "80/80 [==============================] - 0s 41us/sample - loss: 3.1745 - inflam_loss: 1.7143 - nephr_loss: 7.3013 - inflam_acc: 0.5500 - nephr_mse: 0.5875\n",
      "Epoch 69/1000\n",
      "80/80 [==============================] - 0s 988us/sample - loss: 3.1528 - inflam_loss: 1.6973 - nephr_loss: 7.2777 - inflam_acc: 0.5500 - nephr_mse: 0.5875\n",
      "Epoch 70/1000\n",
      "80/80 [==============================] - 0s 61us/sample - loss: 3.1311 - inflam_loss: 1.6803 - nephr_loss: 7.2542 - inflam_acc: 0.5500 - nephr_mse: 0.5875\n",
      "Epoch 71/1000\n",
      "80/80 [==============================] - 0s 60us/sample - loss: 3.1095 - inflam_loss: 1.6634 - nephr_loss: 7.2306 - inflam_acc: 0.5500 - nephr_mse: 0.5875\n",
      "Epoch 72/1000\n",
      "80/80 [==============================] - 0s 50us/sample - loss: 3.0880 - inflam_loss: 1.6466 - nephr_loss: 7.2071 - inflam_acc: 0.5500 - nephr_mse: 0.5875\n",
      "Epoch 73/1000\n",
      "80/80 [==============================] - 0s 1ms/sample - loss: 3.0666 - inflam_loss: 1.6299 - nephr_loss: 7.1836 - inflam_acc: 0.5500 - nephr_mse: 0.5875\n",
      "Epoch 74/1000\n",
      "80/80 [==============================] - 0s 52us/sample - loss: 3.0452 - inflam_loss: 1.6132 - nephr_loss: 7.1600 - inflam_acc: 0.5500 - nephr_mse: 0.5875\n",
      "Epoch 75/1000\n",
      "80/80 [==============================] - 0s 50us/sample - loss: 3.0239 - inflam_loss: 1.5966 - nephr_loss: 7.1365 - inflam_acc: 0.5500 - nephr_mse: 0.5875\n",
      "Epoch 76/1000\n",
      "80/80 [==============================] - 0s 48us/sample - loss: 3.0027 - inflam_loss: 1.5801 - nephr_loss: 7.1129 - inflam_acc: 0.5500 - nephr_mse: 0.5875\n",
      "Epoch 77/1000\n",
      "80/80 [==============================] - 0s 40us/sample - loss: 2.9816 - inflam_loss: 1.5637 - nephr_loss: 7.0894 - inflam_acc: 0.5500 - nephr_mse: 0.5875\n",
      "Epoch 78/1000\n",
      "80/80 [==============================] - 0s 997us/sample - loss: 2.9606 - inflam_loss: 1.5474 - nephr_loss: 7.0658 - inflam_acc: 0.5500 - nephr_mse: 0.5875\n",
      "Epoch 79/1000\n",
      "80/80 [==============================] - 0s 62us/sample - loss: 2.9396 - inflam_loss: 1.5312 - nephr_loss: 7.0423 - inflam_acc: 0.5500 - nephr_mse: 0.5875\n",
      "Epoch 80/1000\n",
      "80/80 [==============================] - 0s 51us/sample - loss: 2.9188 - inflam_loss: 1.5151 - nephr_loss: 7.0188 - inflam_acc: 0.5500 - nephr_mse: 0.5875\n",
      "Epoch 81/1000\n",
      "80/80 [==============================] - 0s 38us/sample - loss: 2.8981 - inflam_loss: 1.4990 - nephr_loss: 6.9952 - inflam_acc: 0.5500 - nephr_mse: 0.5875\n",
      "Epoch 82/1000\n",
      "80/80 [==============================] - 0s 34us/sample - loss: 2.8775 - inflam_loss: 1.4831 - nephr_loss: 6.9717 - inflam_acc: 0.5500 - nephr_mse: 0.5875\n",
      "Epoch 83/1000\n",
      "80/80 [==============================] - 0s 1ms/sample - loss: 2.8569 - inflam_loss: 1.4673 - nephr_loss: 6.9481 - inflam_acc: 0.5500 - nephr_mse: 0.5875\n",
      "Epoch 84/1000\n",
      "80/80 [==============================] - 0s 57us/sample - loss: 2.8365 - inflam_loss: 1.4516 - nephr_loss: 6.9246 - inflam_acc: 0.5500 - nephr_mse: 0.5875\n",
      "Epoch 85/1000\n",
      "80/80 [==============================] - 0s 49us/sample - loss: 2.8162 - inflam_loss: 1.4360 - nephr_loss: 6.9011 - inflam_acc: 0.5500 - nephr_mse: 0.5875\n",
      "Epoch 86/1000\n",
      "80/80 [==============================] - 0s 36us/sample - loss: 2.7960 - inflam_loss: 1.4205 - nephr_loss: 6.8775 - inflam_acc: 0.5500 - nephr_mse: 0.5875\n",
      "Epoch 87/1000\n",
      "80/80 [==============================] - 0s 42us/sample - loss: 2.7760 - inflam_loss: 1.4052 - nephr_loss: 6.8540 - inflam_acc: 0.5500 - nephr_mse: 0.5875\n",
      "Epoch 88/1000\n",
      "80/80 [==============================] - 0s 982us/sample - loss: 2.7560 - inflam_loss: 1.3900 - nephr_loss: 6.8304 - inflam_acc: 0.5500 - nephr_mse: 0.5875\n",
      "Epoch 89/1000\n",
      "80/80 [==============================] - 0s 56us/sample - loss: 2.7362 - inflam_loss: 1.3749 - nephr_loss: 6.8069 - inflam_acc: 0.5500 - nephr_mse: 0.5875\n",
      "Epoch 90/1000\n",
      "80/80 [==============================] - 0s 61us/sample - loss: 2.7166 - inflam_loss: 1.3599 - nephr_loss: 6.7834 - inflam_acc: 0.5500 - nephr_mse: 0.5875\n",
      "Epoch 91/1000\n",
      "80/80 [==============================] - 0s 47us/sample - loss: 2.6970 - inflam_loss: 1.3450 - nephr_loss: 6.7598 - inflam_acc: 0.5500 - nephr_mse: 0.5875\n",
      "Epoch 92/1000\n",
      "80/80 [==============================] - 0s 39us/sample - loss: 2.6776 - inflam_loss: 1.3304 - nephr_loss: 6.7363 - inflam_acc: 0.5500 - nephr_mse: 0.5875\n",
      "Epoch 93/1000\n",
      "80/80 [==============================] - 0s 1ms/sample - loss: 2.6583 - inflam_loss: 1.3158 - nephr_loss: 6.7127 - inflam_acc: 0.5500 - nephr_mse: 0.5875\n",
      "Epoch 94/1000\n",
      "80/80 [==============================] - 0s 46us/sample - loss: 2.6392 - inflam_loss: 1.3014 - nephr_loss: 6.6892 - inflam_acc: 0.5500 - nephr_mse: 0.5875\n",
      "Epoch 95/1000\n",
      "80/80 [==============================] - 0s 41us/sample - loss: 2.6203 - inflam_loss: 1.2871 - nephr_loss: 6.6657 - inflam_acc: 0.5500 - nephr_mse: 0.5875\n",
      "Epoch 96/1000\n",
      "80/80 [==============================] - 0s 46us/sample - loss: 2.6014 - inflam_loss: 1.2730 - nephr_loss: 6.6421 - inflam_acc: 0.5500 - nephr_mse: 0.5875\n",
      "Epoch 97/1000\n",
      "80/80 [==============================] - 0s 36us/sample - loss: 2.5828 - inflam_loss: 1.2591 - nephr_loss: 6.6186 - inflam_acc: 0.5500 - nephr_mse: 0.5875\n",
      "Epoch 98/1000\n",
      "80/80 [==============================] - 0s 1ms/sample - loss: 2.5643 - inflam_loss: 1.2453 - nephr_loss: 6.5951 - inflam_acc: 0.5500 - nephr_mse: 0.5875\n",
      "Epoch 99/1000\n",
      "80/80 [==============================] - 0s 59us/sample - loss: 2.5460 - inflam_loss: 1.2317 - nephr_loss: 6.5715 - inflam_acc: 0.5500 - nephr_mse: 0.5875\n",
      "Epoch 100/1000\n",
      "80/80 [==============================] - 0s 49us/sample - loss: 2.5278 - inflam_loss: 1.2182 - nephr_loss: 6.5480 - inflam_acc: 0.5500 - nephr_mse: 0.5875\n",
      "Epoch 101/1000\n",
      "80/80 [==============================] - 0s 40us/sample - loss: 2.5098 - inflam_loss: 1.2049 - nephr_loss: 6.5244 - inflam_acc: 0.5500 - nephr_mse: 0.5875\n",
      "Epoch 102/1000\n",
      "80/80 [==============================] - 0s 35us/sample - loss: 2.4920 - inflam_loss: 1.1918 - nephr_loss: 6.5009 - inflam_acc: 0.5500 - nephr_mse: 0.5875\n",
      "Epoch 103/1000\n",
      "80/80 [==============================] - 0s 1ms/sample - loss: 2.4743 - inflam_loss: 1.1789 - nephr_loss: 6.4774 - inflam_acc: 0.5500 - nephr_mse: 0.5875\n",
      "Epoch 104/1000\n",
      "80/80 [==============================] - 0s 65us/sample - loss: 2.4569 - inflam_loss: 1.1661 - nephr_loss: 6.4538 - inflam_acc: 0.5500 - nephr_mse: 0.5875\n",
      "Epoch 105/1000\n",
      "80/80 [==============================] - 0s 40us/sample - loss: 2.4396 - inflam_loss: 1.1535 - nephr_loss: 6.4303 - inflam_acc: 0.5500 - nephr_mse: 0.5875\n",
      "Epoch 106/1000\n",
      "80/80 [==============================] - 0s 47us/sample - loss: 2.4225 - inflam_loss: 1.1411 - nephr_loss: 6.4067 - inflam_acc: 0.5500 - nephr_mse: 0.5875\n",
      "Epoch 107/1000\n",
      "80/80 [==============================] - 0s 39us/sample - loss: 2.4056 - inflam_loss: 1.1289 - nephr_loss: 6.3832 - inflam_acc: 0.5500 - nephr_mse: 0.5875\n",
      "Epoch 108/1000\n",
      "80/80 [==============================] - 0s 1ms/sample - loss: 2.3888 - inflam_loss: 1.1169 - nephr_loss: 6.3597 - inflam_acc: 0.5500 - nephr_mse: 0.5875\n",
      "Epoch 109/1000\n",
      "80/80 [==============================] - 0s 65us/sample - loss: 2.3723 - inflam_loss: 1.1051 - nephr_loss: 6.3361 - inflam_acc: 0.5500 - nephr_mse: 0.5875\n",
      "Epoch 110/1000\n",
      "80/80 [==============================] - 0s 51us/sample - loss: 2.3560 - inflam_loss: 1.0934 - nephr_loss: 6.3126 - inflam_acc: 0.5500 - nephr_mse: 0.5875\n",
      "Epoch 111/1000\n",
      "80/80 [==============================] - 0s 41us/sample - loss: 2.3398 - inflam_loss: 1.0820 - nephr_loss: 6.2891 - inflam_acc: 0.5500 - nephr_mse: 0.5875\n",
      "Epoch 112/1000\n",
      "80/80 [==============================] - 0s 36us/sample - loss: 2.3239 - inflam_loss: 1.0708 - nephr_loss: 6.2655 - inflam_acc: 0.5500 - nephr_mse: 0.5875\n",
      "Epoch 113/1000\n",
      "80/80 [==============================] - 0s 1ms/sample - loss: 2.3081 - inflam_loss: 1.0597 - nephr_loss: 6.2420 - inflam_acc: 0.5500 - nephr_mse: 0.5875\n",
      "Epoch 114/1000\n",
      "80/80 [==============================] - 0s 62us/sample - loss: 2.2926 - inflam_loss: 1.0489 - nephr_loss: 6.2184 - inflam_acc: 0.5500 - nephr_mse: 0.5875\n",
      "Epoch 115/1000\n",
      "80/80 [==============================] - 0s 44us/sample - loss: 2.2773 - inflam_loss: 1.0383 - nephr_loss: 6.1949 - inflam_acc: 0.5500 - nephr_mse: 0.5875\n",
      "Epoch 116/1000\n",
      "80/80 [==============================] - 0s 36us/sample - loss: 2.2622 - inflam_loss: 1.0280 - nephr_loss: 6.1714 - inflam_acc: 0.5500 - nephr_mse: 0.5875\n",
      "Epoch 117/1000\n",
      "80/80 [==============================] - 0s 39us/sample - loss: 2.2474 - inflam_loss: 1.0178 - nephr_loss: 6.1478 - inflam_acc: 0.5500 - nephr_mse: 0.5875\n",
      "Epoch 118/1000\n",
      "80/80 [==============================] - 0s 1ms/sample - loss: 2.2327 - inflam_loss: 1.0079 - nephr_loss: 6.1243 - inflam_acc: 0.5500 - nephr_mse: 0.5875\n",
      "Epoch 119/1000\n",
      "80/80 [==============================] - 0s 76us/sample - loss: 2.2183 - inflam_loss: 0.9981 - nephr_loss: 6.1008 - inflam_acc: 0.5500 - nephr_mse: 0.5874\n",
      "Epoch 120/1000\n",
      "80/80 [==============================] - 0s 47us/sample - loss: 2.2041 - inflam_loss: 0.9886 - nephr_loss: 6.0772 - inflam_acc: 0.5500 - nephr_mse: 0.5874\n",
      "Epoch 121/1000\n",
      "80/80 [==============================] - 0s 34us/sample - loss: 2.1901 - inflam_loss: 0.9794 - nephr_loss: 6.0537 - inflam_acc: 0.5500 - nephr_mse: 0.5874\n",
      "Epoch 122/1000\n",
      "80/80 [==============================] - 0s 31us/sample - loss: 2.1764 - inflam_loss: 0.9703 - nephr_loss: 6.0302 - inflam_acc: 0.5500 - nephr_mse: 0.5874\n",
      "Epoch 123/1000\n",
      "80/80 [==============================] - 0s 1ms/sample - loss: 2.1629 - inflam_loss: 0.9615 - nephr_loss: 6.0066 - inflam_acc: 0.5500 - nephr_mse: 0.5874\n",
      "Epoch 124/1000\n",
      "80/80 [==============================] - 0s 72us/sample - loss: 2.1496 - inflam_loss: 0.9530 - nephr_loss: 5.9831 - inflam_acc: 0.5500 - nephr_mse: 0.5874\n",
      "Epoch 125/1000\n",
      "80/80 [==============================] - 0s 42us/sample - loss: 2.1365 - inflam_loss: 0.9446 - nephr_loss: 5.9595 - inflam_acc: 0.5500 - nephr_mse: 0.5874\n",
      "Epoch 126/1000\n",
      "80/80 [==============================] - 0s 35us/sample - loss: 2.1237 - inflam_loss: 0.9365 - nephr_loss: 5.9360 - inflam_acc: 0.5500 - nephr_mse: 0.5874\n",
      "Epoch 127/1000\n",
      "80/80 [==============================] - 0s 39us/sample - loss: 2.1111 - inflam_loss: 0.9286 - nephr_loss: 5.9125 - inflam_acc: 0.5500 - nephr_mse: 0.5874\n",
      "Epoch 128/1000\n",
      "80/80 [==============================] - 0s 1ms/sample - loss: 2.0988 - inflam_loss: 0.9210 - nephr_loss: 5.8889 - inflam_acc: 0.5500 - nephr_mse: 0.5874\n",
      "Epoch 129/1000\n",
      "80/80 [==============================] - 0s 50us/sample - loss: 2.0866 - inflam_loss: 0.9135 - nephr_loss: 5.8654 - inflam_acc: 0.5500 - nephr_mse: 0.5874\n",
      "Epoch 130/1000\n",
      "80/80 [==============================] - 0s 50us/sample - loss: 2.0747 - inflam_loss: 0.9064 - nephr_loss: 5.8419 - inflam_acc: 0.5500 - nephr_mse: 0.5874\n",
      "Epoch 131/1000\n",
      "80/80 [==============================] - 0s 40us/sample - loss: 2.0630 - inflam_loss: 0.8994 - nephr_loss: 5.8183 - inflam_acc: 0.5500 - nephr_mse: 0.5874\n",
      "Epoch 132/1000\n",
      "80/80 [==============================] - 0s 36us/sample - loss: 2.0516 - inflam_loss: 0.8926 - nephr_loss: 5.7948 - inflam_acc: 0.5500 - nephr_mse: 0.5874\n",
      "Epoch 133/1000\n",
      "80/80 [==============================] - 0s 33us/sample - loss: 2.0404 - inflam_loss: 0.8861 - nephr_loss: 5.7713 - inflam_acc: 0.5500 - nephr_mse: 0.5874\n",
      "Epoch 134/1000\n",
      "80/80 [==============================] - 0s 1ms/sample - loss: 2.0294 - inflam_loss: 0.8798 - nephr_loss: 5.7477 - inflam_acc: 0.5500 - nephr_mse: 0.5874\n",
      "Epoch 135/1000\n",
      "80/80 [==============================] - 0s 69us/sample - loss: 2.0186 - inflam_loss: 0.8737 - nephr_loss: 5.7242 - inflam_acc: 0.5500 - nephr_mse: 0.5874\n",
      "Epoch 136/1000\n",
      "80/80 [==============================] - 0s 54us/sample - loss: 2.0080 - inflam_loss: 0.8679 - nephr_loss: 5.7006 - inflam_acc: 0.5500 - nephr_mse: 0.5874\n",
      "Epoch 137/1000\n",
      "80/80 [==============================] - 0s 46us/sample - loss: 1.9977 - inflam_loss: 0.8623 - nephr_loss: 5.6771 - inflam_acc: 0.5500 - nephr_mse: 0.5874\n",
      "Epoch 138/1000\n",
      "80/80 [==============================] - 0s 1ms/sample - loss: 1.9876 - inflam_loss: 0.8569 - nephr_loss: 5.6536 - inflam_acc: 0.5125 - nephr_mse: 0.5874\n",
      "Epoch 139/1000\n",
      "80/80 [==============================] - 0s 68us/sample - loss: 1.9777 - inflam_loss: 0.8517 - nephr_loss: 5.6300 - inflam_acc: 0.4500 - nephr_mse: 0.5874\n",
      "Epoch 140/1000\n",
      "80/80 [==============================] - 0s 40us/sample - loss: 1.9680 - inflam_loss: 0.8467 - nephr_loss: 5.6065 - inflam_acc: 0.4500 - nephr_mse: 0.5874\n",
      "Epoch 141/1000\n",
      "80/80 [==============================] - 0s 35us/sample - loss: 1.9585 - inflam_loss: 0.8419 - nephr_loss: 5.5830 - inflam_acc: 0.4500 - nephr_mse: 0.5874\n",
      "Epoch 142/1000\n",
      "80/80 [==============================] - 0s 39us/sample - loss: 1.9493 - inflam_loss: 0.8374 - nephr_loss: 5.5594 - inflam_acc: 0.4500 - nephr_mse: 0.5874\n",
      "Epoch 143/1000\n",
      "80/80 [==============================] - 0s 37us/sample - loss: 1.9402 - inflam_loss: 0.8331 - nephr_loss: 5.5359 - inflam_acc: 0.4500 - nephr_mse: 0.5874\n",
      "Epoch 144/1000\n",
      "80/80 [==============================] - 0s 1ms/sample - loss: 1.9314 - inflam_loss: 0.8289 - nephr_loss: 5.5124 - inflam_acc: 0.4500 - nephr_mse: 0.5874\n",
      "Epoch 145/1000\n",
      "80/80 [==============================] - 0s 57us/sample - loss: 1.9228 - inflam_loss: 0.8250 - nephr_loss: 5.4888 - inflam_acc: 0.4500 - nephr_mse: 0.5874\n",
      "Epoch 146/1000\n",
      "80/80 [==============================] - 0s 38us/sample - loss: 1.9143 - inflam_loss: 0.8212 - nephr_loss: 5.4653 - inflam_acc: 0.4500 - nephr_mse: 0.5874\n",
      "Epoch 147/1000\n",
      "80/80 [==============================] - 0s 31us/sample - loss: 1.9061 - inflam_loss: 0.8177 - nephr_loss: 5.4418 - inflam_acc: 0.4500 - nephr_mse: 0.5873\n",
      "Epoch 148/1000\n",
      "80/80 [==============================] - 0s 30us/sample - loss: 1.8980 - inflam_loss: 0.8144 - nephr_loss: 5.4182 - inflam_acc: 0.4500 - nephr_mse: 0.5873\n",
      "Epoch 149/1000\n",
      "80/80 [==============================] - 0s 33us/sample - loss: 1.8901 - inflam_loss: 0.8112 - nephr_loss: 5.3947 - inflam_acc: 0.4500 - nephr_mse: 0.5873\n",
      "Epoch 150/1000\n",
      "80/80 [==============================] - 0s 31us/sample - loss: 1.8824 - inflam_loss: 0.8082 - nephr_loss: 5.3712 - inflam_acc: 0.4500 - nephr_mse: 0.5873\n",
      "Epoch 151/1000\n",
      "80/80 [==============================] - 0s 46us/sample - loss: 1.8749 - inflam_loss: 0.8054 - nephr_loss: 5.3476 - inflam_acc: 0.4500 - nephr_mse: 0.5873\n",
      "Epoch 152/1000\n",
      "80/80 [==============================] - 0s 60us/sample - loss: 1.8676 - inflam_loss: 0.8028 - nephr_loss: 5.3241 - inflam_acc: 0.4500 - nephr_mse: 0.5873\n",
      "Epoch 153/1000\n",
      "80/80 [==============================] - 0s 31us/sample - loss: 1.8604 - inflam_loss: 0.8003 - nephr_loss: 5.3006 - inflam_acc: 0.4500 - nephr_mse: 0.5873\n",
      "Epoch 154/1000\n",
      "80/80 [==============================] - 0s 34us/sample - loss: 1.8534 - inflam_loss: 0.7980 - nephr_loss: 5.2771 - inflam_acc: 0.4500 - nephr_mse: 0.5873\n",
      "Epoch 155/1000\n",
      "80/80 [==============================] - 0s 34us/sample - loss: 1.8465 - inflam_loss: 0.7958 - nephr_loss: 5.2535 - inflam_acc: 0.4500 - nephr_mse: 0.5873\n",
      "Epoch 156/1000\n",
      "80/80 [==============================] - 0s 993us/sample - loss: 1.8398 - inflam_loss: 0.7938 - nephr_loss: 5.2300 - inflam_acc: 0.4500 - nephr_mse: 0.5873\n",
      "Epoch 157/1000\n",
      "80/80 [==============================] - 0s 57us/sample - loss: 1.8332 - inflam_loss: 0.7919 - nephr_loss: 5.2065 - inflam_acc: 0.4500 - nephr_mse: 0.5873\n",
      "Epoch 158/1000\n",
      "80/80 [==============================] - 0s 42us/sample - loss: 1.8267 - inflam_loss: 0.7901 - nephr_loss: 5.1829 - inflam_acc: 0.4500 - nephr_mse: 0.5873\n",
      "Epoch 159/1000\n",
      "80/80 [==============================] - 0s 42us/sample - loss: 1.8204 - inflam_loss: 0.7885 - nephr_loss: 5.1594 - inflam_acc: 0.4500 - nephr_mse: 0.5873\n",
      "Epoch 160/1000\n",
      "80/80 [==============================] - 0s 30us/sample - loss: 1.8142 - inflam_loss: 0.7870 - nephr_loss: 5.1359 - inflam_acc: 0.4500 - nephr_mse: 0.5872\n",
      "Epoch 161/1000\n",
      "80/80 [==============================] - 0s 1ms/sample - loss: 1.8081 - inflam_loss: 0.7856 - nephr_loss: 5.1123 - inflam_acc: 0.4500 - nephr_mse: 0.5872\n",
      "Epoch 162/1000\n",
      "80/80 [==============================] - 0s 52us/sample - loss: 1.8021 - inflam_loss: 0.7843 - nephr_loss: 5.0888 - inflam_acc: 0.4500 - nephr_mse: 0.5872\n",
      "Epoch 163/1000\n",
      "80/80 [==============================] - 0s 35us/sample - loss: 1.7961 - inflam_loss: 0.7831 - nephr_loss: 5.0653 - inflam_acc: 0.4500 - nephr_mse: 0.5872\n",
      "Epoch 164/1000\n",
      "80/80 [==============================] - 0s 51us/sample - loss: 1.7903 - inflam_loss: 0.7820 - nephr_loss: 5.0418 - inflam_acc: 0.4500 - nephr_mse: 0.5872\n",
      "Epoch 165/1000\n",
      "80/80 [==============================] - 0s 39us/sample - loss: 1.7846 - inflam_loss: 0.7809 - nephr_loss: 5.0182 - inflam_acc: 0.4500 - nephr_mse: 0.5872\n",
      "Epoch 166/1000\n",
      "80/80 [==============================] - 0s 1ms/sample - loss: 1.7789 - inflam_loss: 0.7799 - nephr_loss: 4.9947 - inflam_acc: 0.4500 - nephr_mse: 0.5872\n",
      "Epoch 167/1000\n",
      "80/80 [==============================] - 0s 53us/sample - loss: 1.7732 - inflam_loss: 0.7790 - nephr_loss: 4.9712 - inflam_acc: 0.4500 - nephr_mse: 0.5872\n",
      "Epoch 168/1000\n",
      "80/80 [==============================] - 0s 53us/sample - loss: 1.7677 - inflam_loss: 0.7781 - nephr_loss: 4.9477 - inflam_acc: 0.4500 - nephr_mse: 0.5872\n",
      "Epoch 169/1000\n",
      "80/80 [==============================] - 0s 36us/sample - loss: 1.7622 - inflam_loss: 0.7773 - nephr_loss: 4.9241 - inflam_acc: 0.4500 - nephr_mse: 0.5871\n",
      "Epoch 170/1000\n",
      "80/80 [==============================] - 0s 32us/sample - loss: 1.7567 - inflam_loss: 0.7766 - nephr_loss: 4.9006 - inflam_acc: 0.4125 - nephr_mse: 0.5871\n",
      "Epoch 171/1000\n",
      "80/80 [==============================] - 0s 34us/sample - loss: 1.7512 - inflam_loss: 0.7758 - nephr_loss: 4.8771 - inflam_acc: 0.3125 - nephr_mse: 0.5871\n",
      "Epoch 172/1000\n",
      "80/80 [==============================] - 0s 55us/sample - loss: 1.7458 - inflam_loss: 0.7751 - nephr_loss: 4.8536 - inflam_acc: 0.3000 - nephr_mse: 0.5871\n",
      "Epoch 173/1000\n",
      "80/80 [==============================] - 0s 48us/sample - loss: 1.7404 - inflam_loss: 0.7744 - nephr_loss: 4.8300 - inflam_acc: 0.3000 - nephr_mse: 0.5871\n",
      "Epoch 174/1000\n",
      "80/80 [==============================] - 0s 34us/sample - loss: 1.7351 - inflam_loss: 0.7737 - nephr_loss: 4.8065 - inflam_acc: 0.3000 - nephr_mse: 0.5871\n",
      "Epoch 175/1000\n",
      "80/80 [==============================] - 0s 39us/sample - loss: 1.7297 - inflam_loss: 0.7731 - nephr_loss: 4.7830 - inflam_acc: 0.3000 - nephr_mse: 0.5870\n",
      "Epoch 176/1000\n",
      "80/80 [==============================] - 0s 41us/sample - loss: 1.7244 - inflam_loss: 0.7725 - nephr_loss: 4.7595 - inflam_acc: 0.3000 - nephr_mse: 0.5870\n",
      "Epoch 177/1000\n",
      "80/80 [==============================] - 0s 987us/sample - loss: 1.7190 - inflam_loss: 0.7718 - nephr_loss: 4.7360 - inflam_acc: 0.3000 - nephr_mse: 0.5870\n",
      "Epoch 178/1000\n",
      "80/80 [==============================] - 0s 54us/sample - loss: 1.7137 - inflam_loss: 0.7712 - nephr_loss: 4.7124 - inflam_acc: 0.3000 - nephr_mse: 0.5870\n",
      "Epoch 179/1000\n",
      "80/80 [==============================] - 0s 47us/sample - loss: 1.7084 - inflam_loss: 0.7706 - nephr_loss: 4.6889 - inflam_acc: 0.3000 - nephr_mse: 0.5870\n",
      "Epoch 180/1000\n",
      "80/80 [==============================] - 0s 65us/sample - loss: 1.7031 - inflam_loss: 0.7700 - nephr_loss: 4.6654 - inflam_acc: 0.3000 - nephr_mse: 0.5869\n",
      "Epoch 181/1000\n",
      "80/80 [==============================] - 0s 36us/sample - loss: 1.6978 - inflam_loss: 0.7694 - nephr_loss: 4.6419 - inflam_acc: 0.3000 - nephr_mse: 0.5869\n",
      "Epoch 182/1000\n",
      "80/80 [==============================] - 0s 999us/sample - loss: 1.6925 - inflam_loss: 0.7689 - nephr_loss: 4.6184 - inflam_acc: 0.3000 - nephr_mse: 0.5869\n",
      "Epoch 183/1000\n",
      "80/80 [==============================] - 0s 50us/sample - loss: 1.6872 - inflam_loss: 0.7683 - nephr_loss: 4.5949 - inflam_acc: 0.3000 - nephr_mse: 0.5869\n",
      "Epoch 184/1000\n",
      "80/80 [==============================] - 0s 36us/sample - loss: 1.6820 - inflam_loss: 0.7677 - nephr_loss: 4.5714 - inflam_acc: 0.3000 - nephr_mse: 0.5868\n",
      "Epoch 185/1000\n",
      "80/80 [==============================] - 0s 44us/sample - loss: 1.6767 - inflam_loss: 0.7671 - nephr_loss: 4.5478 - inflam_acc: 0.3000 - nephr_mse: 0.5868\n",
      "Epoch 186/1000\n",
      "80/80 [==============================] - 0s 33us/sample - loss: 1.6714 - inflam_loss: 0.7665 - nephr_loss: 4.5243 - inflam_acc: 0.3000 - nephr_mse: 0.5868\n",
      "Epoch 187/1000\n",
      "80/80 [==============================] - 0s 58us/sample - loss: 1.6661 - inflam_loss: 0.7659 - nephr_loss: 4.5008 - inflam_acc: 0.3000 - nephr_mse: 0.5868\n",
      "Epoch 188/1000\n",
      "80/80 [==============================] - 0s 62us/sample - loss: 1.6608 - inflam_loss: 0.7654 - nephr_loss: 4.4773 - inflam_acc: 0.3000 - nephr_mse: 0.5867\n",
      "Epoch 189/1000\n",
      "80/80 [==============================] - 0s 51us/sample - loss: 1.6556 - inflam_loss: 0.7648 - nephr_loss: 4.4538 - inflam_acc: 0.3000 - nephr_mse: 0.5867\n",
      "Epoch 190/1000\n",
      "80/80 [==============================] - 0s 38us/sample - loss: 1.6503 - inflam_loss: 0.7642 - nephr_loss: 4.4303 - inflam_acc: 0.3000 - nephr_mse: 0.5867\n",
      "Epoch 191/1000\n",
      "80/80 [==============================] - 0s 34us/sample - loss: 1.6450 - inflam_loss: 0.7637 - nephr_loss: 4.4068 - inflam_acc: 0.3000 - nephr_mse: 0.5866\n",
      "Epoch 192/1000\n",
      "80/80 [==============================] - 0s 35us/sample - loss: 1.6397 - inflam_loss: 0.7631 - nephr_loss: 4.3833 - inflam_acc: 0.3000 - nephr_mse: 0.5866\n",
      "Epoch 193/1000\n",
      "80/80 [==============================] - 0s 999us/sample - loss: 1.6345 - inflam_loss: 0.7625 - nephr_loss: 4.3598 - inflam_acc: 0.3000 - nephr_mse: 0.5866\n",
      "Epoch 194/1000\n",
      "80/80 [==============================] - 0s 46us/sample - loss: 1.6292 - inflam_loss: 0.7619 - nephr_loss: 4.3363 - inflam_acc: 0.3000 - nephr_mse: 0.5865\n",
      "Epoch 195/1000\n",
      "80/80 [==============================] - 0s 49us/sample - loss: 1.6239 - inflam_loss: 0.7614 - nephr_loss: 4.3128 - inflam_acc: 0.3000 - nephr_mse: 0.5865\n",
      "Epoch 196/1000\n",
      "80/80 [==============================] - 0s 35us/sample - loss: 1.6187 - inflam_loss: 0.7608 - nephr_loss: 4.2893 - inflam_acc: 0.3000 - nephr_mse: 0.5865\n",
      "Epoch 197/1000\n",
      "80/80 [==============================] - 0s 33us/sample - loss: 1.6134 - inflam_loss: 0.7602 - nephr_loss: 4.2658 - inflam_acc: 0.3000 - nephr_mse: 0.5864\n",
      "Epoch 198/1000\n",
      "80/80 [==============================] - 0s 37us/sample - loss: 1.6081 - inflam_loss: 0.7597 - nephr_loss: 4.2423 - inflam_acc: 0.3000 - nephr_mse: 0.5864\n",
      "Epoch 199/1000\n",
      "80/80 [==============================] - 0s 1ms/sample - loss: 1.6029 - inflam_loss: 0.7591 - nephr_loss: 4.2188 - inflam_acc: 0.3000 - nephr_mse: 0.5863\n",
      "Epoch 200/1000\n",
      "80/80 [==============================] - 0s 56us/sample - loss: 1.5976 - inflam_loss: 0.7586 - nephr_loss: 4.1954 - inflam_acc: 0.3000 - nephr_mse: 0.5863\n",
      "Epoch 201/1000\n",
      "80/80 [==============================] - 0s 35us/sample - loss: 1.5924 - inflam_loss: 0.7580 - nephr_loss: 4.1719 - inflam_acc: 0.3000 - nephr_mse: 0.5862\n",
      "Epoch 202/1000\n",
      "80/80 [==============================] - 0s 40us/sample - loss: 1.5871 - inflam_loss: 0.7574 - nephr_loss: 4.1484 - inflam_acc: 0.3000 - nephr_mse: 0.5862\n",
      "Epoch 203/1000\n",
      "80/80 [==============================] - 0s 37us/sample - loss: 1.5818 - inflam_loss: 0.7569 - nephr_loss: 4.1249 - inflam_acc: 0.3000 - nephr_mse: 0.5861\n",
      "Epoch 204/1000\n",
      "80/80 [==============================] - 0s 960us/sample - loss: 1.5766 - inflam_loss: 0.7563 - nephr_loss: 4.1014 - inflam_acc: 0.3000 - nephr_mse: 0.5861\n",
      "Epoch 205/1000\n",
      "80/80 [==============================] - 0s 49us/sample - loss: 1.5713 - inflam_loss: 0.7557 - nephr_loss: 4.0779 - inflam_acc: 0.3125 - nephr_mse: 0.5860\n",
      "Epoch 206/1000\n",
      "80/80 [==============================] - 0s 49us/sample - loss: 1.5661 - inflam_loss: 0.7552 - nephr_loss: 4.0545 - inflam_acc: 0.3250 - nephr_mse: 0.5859\n",
      "Epoch 207/1000\n",
      "80/80 [==============================] - 0s 40us/sample - loss: 1.5608 - inflam_loss: 0.7546 - nephr_loss: 4.0310 - inflam_acc: 0.3875 - nephr_mse: 0.5859\n",
      "Epoch 208/1000\n",
      "80/80 [==============================] - 0s 33us/sample - loss: 1.5556 - inflam_loss: 0.7541 - nephr_loss: 4.0075 - inflam_acc: 0.4125 - nephr_mse: 0.5858\n",
      "Epoch 209/1000\n",
      "80/80 [==============================] - 0s 1ms/sample - loss: 1.5503 - inflam_loss: 0.7535 - nephr_loss: 3.9841 - inflam_acc: 0.4375 - nephr_mse: 0.5857\n",
      "Epoch 210/1000\n",
      "80/80 [==============================] - 0s 53us/sample - loss: 1.5451 - inflam_loss: 0.7529 - nephr_loss: 3.9606 - inflam_acc: 0.4500 - nephr_mse: 0.5857\n",
      "Epoch 211/1000\n",
      "80/80 [==============================] - 0s 58us/sample - loss: 1.5398 - inflam_loss: 0.7524 - nephr_loss: 3.9372 - inflam_acc: 0.4500 - nephr_mse: 0.5856\n",
      "Epoch 212/1000\n",
      "80/80 [==============================] - 0s 45us/sample - loss: 1.5346 - inflam_loss: 0.7518 - nephr_loss: 3.9137 - inflam_acc: 0.4500 - nephr_mse: 0.5855\n",
      "Epoch 213/1000\n",
      "80/80 [==============================] - 0s 35us/sample - loss: 1.5293 - inflam_loss: 0.7513 - nephr_loss: 3.8903 - inflam_acc: 0.4500 - nephr_mse: 0.5854\n",
      "Epoch 214/1000\n",
      "80/80 [==============================] - 0s 38us/sample - loss: 1.5241 - inflam_loss: 0.7507 - nephr_loss: 3.8668 - inflam_acc: 0.4500 - nephr_mse: 0.5854\n",
      "Epoch 215/1000\n",
      "80/80 [==============================] - 0s 961us/sample - loss: 1.5188 - inflam_loss: 0.7502 - nephr_loss: 3.8434 - inflam_acc: 0.4500 - nephr_mse: 0.5853\n",
      "Epoch 216/1000\n",
      "80/80 [==============================] - 0s 65us/sample - loss: 1.5136 - inflam_loss: 0.7496 - nephr_loss: 3.8199 - inflam_acc: 0.4500 - nephr_mse: 0.5852\n",
      "Epoch 217/1000\n",
      "80/80 [==============================] - 0s 47us/sample - loss: 1.5083 - inflam_loss: 0.7491 - nephr_loss: 3.7965 - inflam_acc: 0.4500 - nephr_mse: 0.5851\n",
      "Epoch 218/1000\n",
      "80/80 [==============================] - 0s 35us/sample - loss: 1.5031 - inflam_loss: 0.7485 - nephr_loss: 3.7731 - inflam_acc: 0.4500 - nephr_mse: 0.5850\n",
      "Epoch 219/1000\n",
      "80/80 [==============================] - 0s 32us/sample - loss: 1.4979 - inflam_loss: 0.7479 - nephr_loss: 3.7496 - inflam_acc: 0.4500 - nephr_mse: 0.5849\n",
      "Epoch 220/1000\n",
      "80/80 [==============================] - 0s 30us/sample - loss: 1.4926 - inflam_loss: 0.7474 - nephr_loss: 3.7262 - inflam_acc: 0.4500 - nephr_mse: 0.5848\n",
      "Epoch 221/1000\n",
      "80/80 [==============================] - 0s 1ms/sample - loss: 1.4874 - inflam_loss: 0.7468 - nephr_loss: 3.7028 - inflam_acc: 0.4500 - nephr_mse: 0.5847\n",
      "Epoch 222/1000\n",
      "80/80 [==============================] - 0s 53us/sample - loss: 1.4822 - inflam_loss: 0.7463 - nephr_loss: 3.6794 - inflam_acc: 0.4500 - nephr_mse: 0.5846\n",
      "Epoch 223/1000\n",
      "80/80 [==============================] - 0s 40us/sample - loss: 1.4769 - inflam_loss: 0.7457 - nephr_loss: 3.6560 - inflam_acc: 0.4500 - nephr_mse: 0.5845\n",
      "Epoch 224/1000\n",
      "80/80 [==============================] - 0s 47us/sample - loss: 1.4717 - inflam_loss: 0.7452 - nephr_loss: 3.6326 - inflam_acc: 0.4500 - nephr_mse: 0.5843\n",
      "Epoch 225/1000\n",
      "80/80 [==============================] - 0s 30us/sample - loss: 1.4665 - inflam_loss: 0.7446 - nephr_loss: 3.6092 - inflam_acc: 0.4500 - nephr_mse: 0.5842\n",
      "Epoch 226/1000\n",
      "80/80 [==============================] - 0s 30us/sample - loss: 1.4612 - inflam_loss: 0.7441 - nephr_loss: 3.5858 - inflam_acc: 0.4875 - nephr_mse: 0.5841\n",
      "Epoch 227/1000\n",
      "80/80 [==============================] - 0s 1ms/sample - loss: 1.4560 - inflam_loss: 0.7435 - nephr_loss: 3.5624 - inflam_acc: 0.5250 - nephr_mse: 0.5839\n",
      "Epoch 228/1000\n",
      "80/80 [==============================] - 0s 114us/sample - loss: 1.4508 - inflam_loss: 0.7430 - nephr_loss: 3.5390 - inflam_acc: 0.6250 - nephr_mse: 0.5838\n",
      "Epoch 229/1000\n",
      "80/80 [==============================] - 0s 42us/sample - loss: 1.4455 - inflam_loss: 0.7424 - nephr_loss: 3.5157 - inflam_acc: 0.7000 - nephr_mse: 0.5837\n",
      "Epoch 230/1000\n",
      "80/80 [==============================] - 0s 36us/sample - loss: 1.4403 - inflam_loss: 0.7419 - nephr_loss: 3.4923 - inflam_acc: 0.7000 - nephr_mse: 0.5835\n",
      "Epoch 231/1000\n",
      "80/80 [==============================] - 0s 37us/sample - loss: 1.4351 - inflam_loss: 0.7413 - nephr_loss: 3.4689 - inflam_acc: 0.7000 - nephr_mse: 0.5833\n",
      "Epoch 232/1000\n",
      "80/80 [==============================] - 0s 29us/sample - loss: 1.4299 - inflam_loss: 0.7408 - nephr_loss: 3.4456 - inflam_acc: 0.7000 - nephr_mse: 0.5832\n",
      "Epoch 233/1000\n",
      "80/80 [==============================] - 0s 905us/sample - loss: 1.4247 - inflam_loss: 0.7402 - nephr_loss: 3.4223 - inflam_acc: 0.7000 - nephr_mse: 0.5830\n",
      "Epoch 234/1000\n",
      "80/80 [==============================] - 0s 47us/sample - loss: 1.4195 - inflam_loss: 0.7397 - nephr_loss: 3.3989 - inflam_acc: 0.7000 - nephr_mse: 0.5828\n",
      "Epoch 235/1000\n",
      "80/80 [==============================] - 0s 52us/sample - loss: 1.4142 - inflam_loss: 0.7391 - nephr_loss: 3.3756 - inflam_acc: 0.7125 - nephr_mse: 0.5826\n",
      "Epoch 236/1000\n",
      "80/80 [==============================] - 0s 45us/sample - loss: 1.4090 - inflam_loss: 0.7386 - nephr_loss: 3.3523 - inflam_acc: 0.7000 - nephr_mse: 0.5824\n",
      "Epoch 237/1000\n",
      "80/80 [==============================] - 0s 34us/sample - loss: 1.4038 - inflam_loss: 0.7380 - nephr_loss: 3.3290 - inflam_acc: 0.7625 - nephr_mse: 0.5822\n",
      "Epoch 238/1000\n",
      "80/80 [==============================] - 0s 1ms/sample - loss: 1.3987 - inflam_loss: 0.7376 - nephr_loss: 3.3057 - inflam_acc: 0.4500 - nephr_mse: 0.5820\n",
      "Epoch 239/1000\n",
      "80/80 [==============================] - 0s 42us/sample - loss: 1.3939 - inflam_loss: 0.7374 - nephr_loss: 3.2824 - inflam_acc: 0.6125 - nephr_mse: 0.5818\n",
      "Epoch 240/1000\n",
      "80/80 [==============================] - 0s 35us/sample - loss: 1.3885 - inflam_loss: 0.7366 - nephr_loss: 3.2591 - inflam_acc: 0.4500 - nephr_mse: 0.5816\n",
      "Epoch 241/1000\n",
      "80/80 [==============================] - 0s 34us/sample - loss: 1.3831 - inflam_loss: 0.7359 - nephr_loss: 3.2359 - inflam_acc: 0.7625 - nephr_mse: 0.5814\n",
      "Epoch 242/1000\n",
      "80/80 [==============================] - 0s 34us/sample - loss: 1.3778 - inflam_loss: 0.7353 - nephr_loss: 3.2126 - inflam_acc: 0.7000 - nephr_mse: 0.5811\n",
      "Epoch 243/1000\n",
      "80/80 [==============================] - 0s 35us/sample - loss: 1.3726 - inflam_loss: 0.7348 - nephr_loss: 3.1894 - inflam_acc: 0.7625 - nephr_mse: 0.5809\n",
      "Epoch 244/1000\n",
      "80/80 [==============================] - 0s 966us/sample - loss: 1.3675 - inflam_loss: 0.7342 - nephr_loss: 3.1662 - inflam_acc: 0.7000 - nephr_mse: 0.5806\n",
      "Epoch 245/1000\n",
      "80/80 [==============================] - 0s 55us/sample - loss: 1.3623 - inflam_loss: 0.7337 - nephr_loss: 3.1430 - inflam_acc: 0.7625 - nephr_mse: 0.5803\n",
      "Epoch 246/1000\n",
      "80/80 [==============================] - 0s 43us/sample - loss: 1.3571 - inflam_loss: 0.7331 - nephr_loss: 3.1198 - inflam_acc: 0.7000 - nephr_mse: 0.5800\n",
      "Epoch 247/1000\n",
      "80/80 [==============================] - 0s 32us/sample - loss: 1.3519 - inflam_loss: 0.7326 - nephr_loss: 3.0966 - inflam_acc: 0.7625 - nephr_mse: 0.5797\n",
      "Epoch 248/1000\n",
      "80/80 [==============================] - 0s 40us/sample - loss: 1.3467 - inflam_loss: 0.7320 - nephr_loss: 3.0734 - inflam_acc: 0.7000 - nephr_mse: 0.5794\n",
      "Epoch 249/1000\n",
      "80/80 [==============================] - 0s 40us/sample - loss: 1.3416 - inflam_loss: 0.7315 - nephr_loss: 3.0503 - inflam_acc: 0.7625 - nephr_mse: 0.5791\n",
      "Epoch 250/1000\n",
      "80/80 [==============================] - 0s 1ms/sample - loss: 1.3364 - inflam_loss: 0.7310 - nephr_loss: 3.0271 - inflam_acc: 0.7000 - nephr_mse: 0.5788\n",
      "Epoch 251/1000\n",
      "80/80 [==============================] - 0s 60us/sample - loss: 1.3312 - inflam_loss: 0.7304 - nephr_loss: 3.0040 - inflam_acc: 0.7625 - nephr_mse: 0.5785\n",
      "Epoch 252/1000\n",
      "80/80 [==============================] - 0s 47us/sample - loss: 1.3261 - inflam_loss: 0.7299 - nephr_loss: 2.9809 - inflam_acc: 0.7000 - nephr_mse: 0.5781\n",
      "Epoch 253/1000\n",
      "80/80 [==============================] - 0s 38us/sample - loss: 1.3209 - inflam_loss: 0.7294 - nephr_loss: 2.9578 - inflam_acc: 0.7625 - nephr_mse: 0.5777\n",
      "Epoch 254/1000\n",
      "80/80 [==============================] - 0s 39us/sample - loss: 1.3158 - inflam_loss: 0.7289 - nephr_loss: 2.9348 - inflam_acc: 0.7000 - nephr_mse: 0.5773\n",
      "Epoch 255/1000\n",
      "80/80 [==============================] - 0s 983us/sample - loss: 1.3107 - inflam_loss: 0.7284 - nephr_loss: 2.9117 - inflam_acc: 0.7625 - nephr_mse: 0.5769\n",
      "Epoch 256/1000\n",
      "80/80 [==============================] - 0s 73us/sample - loss: 1.3056 - inflam_loss: 0.7279 - nephr_loss: 2.8887 - inflam_acc: 0.6500 - nephr_mse: 0.5765\n",
      "Epoch 257/1000\n",
      "80/80 [==============================] - 0s 70us/sample - loss: 1.3005 - inflam_loss: 0.7273 - nephr_loss: 2.8657 - inflam_acc: 0.7625 - nephr_mse: 0.5761\n",
      "Epoch 258/1000\n",
      "80/80 [==============================] - 0s 49us/sample - loss: 1.2953 - inflam_loss: 0.7267 - nephr_loss: 2.8427 - inflam_acc: 0.7000 - nephr_mse: 0.5757\n",
      "Epoch 259/1000\n",
      "80/80 [==============================] - 0s 998us/sample - loss: 1.2901 - inflam_loss: 0.7262 - nephr_loss: 2.8198 - inflam_acc: 0.7625 - nephr_mse: 0.5752\n",
      "Epoch 260/1000\n",
      "80/80 [==============================] - 0s 57us/sample - loss: 1.2850 - inflam_loss: 0.7256 - nephr_loss: 2.7968 - inflam_acc: 0.7000 - nephr_mse: 0.5747\n",
      "Epoch 261/1000\n",
      "80/80 [==============================] - 0s 60us/sample - loss: 1.2799 - inflam_loss: 0.7251 - nephr_loss: 2.7739 - inflam_acc: 0.7625 - nephr_mse: 0.5742\n",
      "Epoch 262/1000\n",
      "80/80 [==============================] - 0s 37us/sample - loss: 1.2747 - inflam_loss: 0.7245 - nephr_loss: 2.7510 - inflam_acc: 0.7000 - nephr_mse: 0.5737\n",
      "Epoch 263/1000\n",
      "80/80 [==============================] - 0s 87us/sample - loss: 1.2696 - inflam_loss: 0.7240 - nephr_loss: 2.7282 - inflam_acc: 0.7625 - nephr_mse: 0.5732\n",
      "Epoch 264/1000\n",
      "80/80 [==============================] - 0s 954us/sample - loss: 1.2645 - inflam_loss: 0.7235 - nephr_loss: 2.7053 - inflam_acc: 0.7000 - nephr_mse: 0.5726\n",
      "Epoch 265/1000\n",
      "80/80 [==============================] - 0s 48us/sample - loss: 1.2594 - inflam_loss: 0.7229 - nephr_loss: 2.6825 - inflam_acc: 0.7625 - nephr_mse: 0.5720\n",
      "Epoch 266/1000\n",
      "80/80 [==============================] - 0s 43us/sample - loss: 1.2544 - inflam_loss: 0.7224 - nephr_loss: 2.6598 - inflam_acc: 0.7000 - nephr_mse: 0.5715\n",
      "Epoch 267/1000\n",
      "80/80 [==============================] - 0s 62us/sample - loss: 1.2493 - inflam_loss: 0.7219 - nephr_loss: 2.6370 - inflam_acc: 0.7625 - nephr_mse: 0.5708\n",
      "Epoch 268/1000\n",
      "80/80 [==============================] - 0s 37us/sample - loss: 1.2442 - inflam_loss: 0.7214 - nephr_loss: 2.6143 - inflam_acc: 0.7000 - nephr_mse: 0.5702\n",
      "Epoch 269/1000\n",
      "80/80 [==============================] - 0s 35us/sample - loss: 1.2392 - inflam_loss: 0.7209 - nephr_loss: 2.5917 - inflam_acc: 0.7625 - nephr_mse: 0.5695\n",
      "Epoch 270/1000\n",
      "80/80 [==============================] - 0s 54us/sample - loss: 1.2342 - inflam_loss: 0.7204 - nephr_loss: 2.5690 - inflam_acc: 0.7000 - nephr_mse: 0.5688\n",
      "Epoch 271/1000\n",
      "80/80 [==============================] - 0s 50us/sample - loss: 1.2291 - inflam_loss: 0.7198 - nephr_loss: 2.5465 - inflam_acc: 0.7625 - nephr_mse: 0.5681\n",
      "Epoch 272/1000\n",
      "80/80 [==============================] - 0s 47us/sample - loss: 1.2241 - inflam_loss: 0.7193 - nephr_loss: 2.5239 - inflam_acc: 0.7000 - nephr_mse: 0.5674\n",
      "Epoch 273/1000\n",
      "80/80 [==============================] - 0s 49us/sample - loss: 1.2190 - inflam_loss: 0.7187 - nephr_loss: 2.5014 - inflam_acc: 0.7625 - nephr_mse: 0.5666\n",
      "Epoch 274/1000\n",
      "80/80 [==============================] - 0s 41us/sample - loss: 1.2140 - inflam_loss: 0.7182 - nephr_loss: 2.4789 - inflam_acc: 0.7000 - nephr_mse: 0.5659\n",
      "Epoch 275/1000\n",
      "80/80 [==============================] - 0s 968us/sample - loss: 1.2089 - inflam_loss: 0.7176 - nephr_loss: 2.4565 - inflam_acc: 0.7625 - nephr_mse: 0.5650\n",
      "Epoch 276/1000\n",
      "80/80 [==============================] - 0s 49us/sample - loss: 1.2039 - inflam_loss: 0.7171 - nephr_loss: 2.4341 - inflam_acc: 0.7000 - nephr_mse: 0.5642\n",
      "Epoch 277/1000\n",
      "80/80 [==============================] - 0s 39us/sample - loss: 1.1989 - inflam_loss: 0.7166 - nephr_loss: 2.4117 - inflam_acc: 0.7625 - nephr_mse: 0.5633\n",
      "Epoch 278/1000\n",
      "80/80 [==============================] - 0s 63us/sample - loss: 1.1940 - inflam_loss: 0.7161 - nephr_loss: 2.3895 - inflam_acc: 0.7000 - nephr_mse: 0.5624\n",
      "Epoch 279/1000\n",
      "80/80 [==============================] - 0s 37us/sample - loss: 1.1890 - inflam_loss: 0.7155 - nephr_loss: 2.3672 - inflam_acc: 0.7625 - nephr_mse: 0.5615\n",
      "Epoch 280/1000\n",
      "80/80 [==============================] - 0s 1ms/sample - loss: 1.1840 - inflam_loss: 0.7150 - nephr_loss: 2.3450 - inflam_acc: 0.7000 - nephr_mse: 0.5605\n",
      "Epoch 281/1000\n",
      "80/80 [==============================] - 0s 61us/sample - loss: 1.1791 - inflam_loss: 0.7145 - nephr_loss: 2.3229 - inflam_acc: 0.7625 - nephr_mse: 0.5595\n",
      "Epoch 282/1000\n",
      "80/80 [==============================] - 0s 37us/sample - loss: 1.1741 - inflam_loss: 0.7140 - nephr_loss: 2.3008 - inflam_acc: 0.7000 - nephr_mse: 0.5585\n",
      "Epoch 283/1000\n",
      "80/80 [==============================] - 0s 46us/sample - loss: 1.1692 - inflam_loss: 0.7135 - nephr_loss: 2.2788 - inflam_acc: 0.7625 - nephr_mse: 0.5574\n",
      "Epoch 284/1000\n",
      "80/80 [==============================] - 0s 36us/sample - loss: 1.1643 - inflam_loss: 0.7129 - nephr_loss: 2.2568 - inflam_acc: 0.7000 - nephr_mse: 0.5563\n",
      "Epoch 285/1000\n",
      "80/80 [==============================] - 0s 34us/sample - loss: 1.1594 - inflam_loss: 0.7124 - nephr_loss: 2.2349 - inflam_acc: 0.7625 - nephr_mse: 0.5552\n",
      "Epoch 286/1000\n",
      "80/80 [==============================] - 0s 966us/sample - loss: 1.1545 - inflam_loss: 0.7119 - nephr_loss: 2.2131 - inflam_acc: 0.7000 - nephr_mse: 0.5540\n",
      "Epoch 287/1000\n",
      "80/80 [==============================] - 0s 48us/sample - loss: 1.1496 - inflam_loss: 0.7114 - nephr_loss: 2.1914 - inflam_acc: 0.7625 - nephr_mse: 0.5528\n",
      "Epoch 288/1000\n",
      "80/80 [==============================] - 0s 41us/sample - loss: 1.1448 - inflam_loss: 0.7108 - nephr_loss: 2.1697 - inflam_acc: 0.7000 - nephr_mse: 0.5515\n",
      "Epoch 289/1000\n",
      "80/80 [==============================] - 0s 37us/sample - loss: 1.1399 - inflam_loss: 0.7103 - nephr_loss: 2.1480 - inflam_acc: 0.7625 - nephr_mse: 0.5503\n",
      "Epoch 290/1000\n",
      "80/80 [==============================] - 0s 36us/sample - loss: 1.1351 - inflam_loss: 0.7098 - nephr_loss: 2.1265 - inflam_acc: 0.7000 - nephr_mse: 0.5489\n",
      "Epoch 291/1000\n",
      "80/80 [==============================] - 0s 31us/sample - loss: 1.1303 - inflam_loss: 0.7093 - nephr_loss: 2.1050 - inflam_acc: 0.7625 - nephr_mse: 0.5476\n",
      "Epoch 292/1000\n",
      "80/80 [==============================] - 0s 986us/sample - loss: 1.1255 - inflam_loss: 0.7087 - nephr_loss: 2.0836 - inflam_acc: 0.7000 - nephr_mse: 0.5462\n",
      "Epoch 293/1000\n",
      "80/80 [==============================] - 0s 55us/sample - loss: 1.1207 - inflam_loss: 0.7082 - nephr_loss: 2.0623 - inflam_acc: 0.7625 - nephr_mse: 0.5447\n",
      "Epoch 294/1000\n",
      "80/80 [==============================] - 0s 48us/sample - loss: 1.1159 - inflam_loss: 0.7077 - nephr_loss: 2.0411 - inflam_acc: 0.7000 - nephr_mse: 0.5432\n",
      "Epoch 295/1000\n",
      "80/80 [==============================] - 0s 36us/sample - loss: 1.1112 - inflam_loss: 0.7072 - nephr_loss: 2.0200 - inflam_acc: 0.7625 - nephr_mse: 0.5417\n",
      "Epoch 296/1000\n",
      "80/80 [==============================] - 0s 1ms/sample - loss: 1.1065 - inflam_loss: 0.7067 - nephr_loss: 1.9990 - inflam_acc: 0.7000 - nephr_mse: 0.5401\n",
      "Epoch 297/1000\n",
      "80/80 [==============================] - 0s 51us/sample - loss: 1.1018 - inflam_loss: 0.7062 - nephr_loss: 1.9780 - inflam_acc: 0.7625 - nephr_mse: 0.5385\n",
      "Epoch 298/1000\n",
      "80/80 [==============================] - 0s 50us/sample - loss: 1.0971 - inflam_loss: 0.7056 - nephr_loss: 1.9572 - inflam_acc: 0.7000 - nephr_mse: 0.5368\n",
      "Epoch 299/1000\n",
      "80/80 [==============================] - 0s 40us/sample - loss: 1.0924 - inflam_loss: 0.7051 - nephr_loss: 1.9364 - inflam_acc: 0.7625 - nephr_mse: 0.5351\n",
      "Epoch 300/1000\n",
      "80/80 [==============================] - 0s 30us/sample - loss: 1.0878 - inflam_loss: 0.7046 - nephr_loss: 1.9158 - inflam_acc: 0.7000 - nephr_mse: 0.5334\n",
      "Epoch 301/1000\n",
      "80/80 [==============================] - 0s 1ms/sample - loss: 1.0831 - inflam_loss: 0.7041 - nephr_loss: 1.8953 - inflam_acc: 0.7625 - nephr_mse: 0.5316\n",
      "Epoch 302/1000\n",
      "80/80 [==============================] - 0s 63us/sample - loss: 1.0785 - inflam_loss: 0.7036 - nephr_loss: 1.8749 - inflam_acc: 0.7000 - nephr_mse: 0.5297\n",
      "Epoch 303/1000\n",
      "80/80 [==============================] - 0s 53us/sample - loss: 1.0740 - inflam_loss: 0.7030 - nephr_loss: 1.8546 - inflam_acc: 0.7625 - nephr_mse: 0.5278\n",
      "Epoch 304/1000\n",
      "80/80 [==============================] - 0s 36us/sample - loss: 1.0694 - inflam_loss: 0.7025 - nephr_loss: 1.8344 - inflam_acc: 0.7000 - nephr_mse: 0.5259\n",
      "Epoch 305/1000\n",
      "80/80 [==============================] - 0s 31us/sample - loss: 1.0649 - inflam_loss: 0.7020 - nephr_loss: 1.8144 - inflam_acc: 0.7625 - nephr_mse: 0.5239\n",
      "Epoch 306/1000\n",
      "80/80 [==============================] - 0s 30us/sample - loss: 1.0604 - inflam_loss: 0.7015 - nephr_loss: 1.7944 - inflam_acc: 0.7000 - nephr_mse: 0.5219\n",
      "Epoch 307/1000\n",
      "80/80 [==============================] - 0s 972us/sample - loss: 1.0559 - inflam_loss: 0.7010 - nephr_loss: 1.7746 - inflam_acc: 0.7625 - nephr_mse: 0.5198\n",
      "Epoch 308/1000\n",
      "80/80 [==============================] - 0s 41us/sample - loss: 1.0515 - inflam_loss: 0.7005 - nephr_loss: 1.7550 - inflam_acc: 0.7000 - nephr_mse: 0.5177\n",
      "Epoch 309/1000\n",
      "80/80 [==============================] - 0s 53us/sample - loss: 1.0471 - inflam_loss: 0.7000 - nephr_loss: 1.7355 - inflam_acc: 0.7625 - nephr_mse: 0.5155\n",
      "Epoch 310/1000\n",
      "80/80 [==============================] - 0s 45us/sample - loss: 1.0427 - inflam_loss: 0.6995 - nephr_loss: 1.7161 - inflam_acc: 0.7000 - nephr_mse: 0.5133\n",
      "Epoch 311/1000\n",
      "80/80 [==============================] - 0s 41us/sample - loss: 1.0383 - inflam_loss: 0.6989 - nephr_loss: 1.6969 - inflam_acc: 0.7625 - nephr_mse: 0.5110\n",
      "Epoch 312/1000\n",
      "80/80 [==============================] - 0s 40us/sample - loss: 1.0340 - inflam_loss: 0.6984 - nephr_loss: 1.6778 - inflam_acc: 0.7000 - nephr_mse: 0.5087\n",
      "Epoch 313/1000\n",
      "80/80 [==============================] - 0s 41us/sample - loss: 1.0297 - inflam_loss: 0.6979 - nephr_loss: 1.6589 - inflam_acc: 0.7625 - nephr_mse: 0.5064\n",
      "Epoch 314/1000\n",
      "80/80 [==============================] - 0s 32us/sample - loss: 1.0254 - inflam_loss: 0.6974 - nephr_loss: 1.6401 - inflam_acc: 0.7500 - nephr_mse: 0.5040\n",
      "Epoch 315/1000\n",
      "80/80 [==============================] - 0s 33us/sample - loss: 1.0212 - inflam_loss: 0.6969 - nephr_loss: 1.6215 - inflam_acc: 0.7625 - nephr_mse: 0.5016\n",
      "Epoch 316/1000\n",
      "80/80 [==============================] - 0s 35us/sample - loss: 1.0170 - inflam_loss: 0.6964 - nephr_loss: 1.6031 - inflam_acc: 0.7625 - nephr_mse: 0.4991\n",
      "Epoch 317/1000\n",
      "80/80 [==============================] - 0s 32us/sample - loss: 1.0128 - inflam_loss: 0.6959 - nephr_loss: 1.5848 - inflam_acc: 0.7625 - nephr_mse: 0.4966\n",
      "Epoch 318/1000\n",
      "80/80 [==============================] - 0s 31us/sample - loss: 1.0087 - inflam_loss: 0.6954 - nephr_loss: 1.5667 - inflam_acc: 0.7625 - nephr_mse: 0.4940\n",
      "Epoch 319/1000\n",
      "80/80 [==============================] - 0s 1ms/sample - loss: 1.0046 - inflam_loss: 0.6948 - nephr_loss: 1.5488 - inflam_acc: 0.7625 - nephr_mse: 0.4914\n",
      "Epoch 320/1000\n",
      "80/80 [==============================] - 0s 59us/sample - loss: 1.0006 - inflam_loss: 0.6943 - nephr_loss: 1.5311 - inflam_acc: 0.7625 - nephr_mse: 0.4888\n",
      "Epoch 321/1000\n",
      "80/80 [==============================] - 0s 42us/sample - loss: 0.9965 - inflam_loss: 0.6938 - nephr_loss: 1.5136 - inflam_acc: 0.7625 - nephr_mse: 0.4862\n",
      "Epoch 322/1000\n",
      "80/80 [==============================] - 0s 42us/sample - loss: 0.9926 - inflam_loss: 0.6933 - nephr_loss: 1.4962 - inflam_acc: 0.7625 - nephr_mse: 0.4835\n",
      "Epoch 323/1000\n",
      "80/80 [==============================] - 0s 42us/sample - loss: 0.9886 - inflam_loss: 0.6928 - nephr_loss: 1.4791 - inflam_acc: 0.7625 - nephr_mse: 0.4808\n",
      "Epoch 324/1000\n",
      "80/80 [==============================] - 0s 986us/sample - loss: 0.9847 - inflam_loss: 0.6923 - nephr_loss: 1.4622 - inflam_acc: 0.7625 - nephr_mse: 0.4780\n",
      "Epoch 325/1000\n",
      "80/80 [==============================] - 0s 47us/sample - loss: 0.9809 - inflam_loss: 0.6918 - nephr_loss: 1.4454 - inflam_acc: 0.7625 - nephr_mse: 0.4752\n",
      "Epoch 326/1000\n",
      "80/80 [==============================] - 0s 39us/sample - loss: 0.9771 - inflam_loss: 0.6913 - nephr_loss: 1.4289 - inflam_acc: 0.7625 - nephr_mse: 0.4724\n",
      "Epoch 327/1000\n",
      "80/80 [==============================] - 0s 46us/sample - loss: 0.9733 - inflam_loss: 0.6908 - nephr_loss: 1.4126 - inflam_acc: 0.7625 - nephr_mse: 0.4696\n",
      "Epoch 328/1000\n",
      "80/80 [==============================] - 0s 36us/sample - loss: 0.9696 - inflam_loss: 0.6903 - nephr_loss: 1.3965 - inflam_acc: 0.7625 - nephr_mse: 0.4668\n",
      "Epoch 329/1000\n",
      "80/80 [==============================] - 0s 1ms/sample - loss: 0.9659 - inflam_loss: 0.6898 - nephr_loss: 1.3807 - inflam_acc: 0.7625 - nephr_mse: 0.4639\n",
      "Epoch 330/1000\n",
      "80/80 [==============================] - 0s 54us/sample - loss: 0.9623 - inflam_loss: 0.6893 - nephr_loss: 1.3650 - inflam_acc: 0.7625 - nephr_mse: 0.4610\n",
      "Epoch 331/1000\n",
      "80/80 [==============================] - 0s 44us/sample - loss: 0.9587 - inflam_loss: 0.6888 - nephr_loss: 1.3496 - inflam_acc: 0.7625 - nephr_mse: 0.4582\n",
      "Epoch 332/1000\n",
      "80/80 [==============================] - 0s 51us/sample - loss: 0.9552 - inflam_loss: 0.6883 - nephr_loss: 1.3344 - inflam_acc: 0.7625 - nephr_mse: 0.4553\n",
      "Epoch 333/1000\n",
      "80/80 [==============================] - 0s 42us/sample - loss: 0.9517 - inflam_loss: 0.6878 - nephr_loss: 1.3195 - inflam_acc: 0.7625 - nephr_mse: 0.4524\n",
      "Epoch 334/1000\n",
      "80/80 [==============================] - 0s 962us/sample - loss: 0.9482 - inflam_loss: 0.6873 - nephr_loss: 1.3048 - inflam_acc: 0.7625 - nephr_mse: 0.4494\n",
      "Epoch 335/1000\n",
      "80/80 [==============================] - 0s 56us/sample - loss: 0.9448 - inflam_loss: 0.6868 - nephr_loss: 1.2903 - inflam_acc: 0.7625 - nephr_mse: 0.4465\n",
      "Epoch 336/1000\n",
      "80/80 [==============================] - 0s 35us/sample - loss: 0.9415 - inflam_loss: 0.6863 - nephr_loss: 1.2761 - inflam_acc: 0.7625 - nephr_mse: 0.4436\n",
      "Epoch 337/1000\n",
      "80/80 [==============================] - 0s 39us/sample - loss: 0.9382 - inflam_loss: 0.6858 - nephr_loss: 1.2622 - inflam_acc: 0.7625 - nephr_mse: 0.4407\n",
      "Epoch 338/1000\n",
      "80/80 [==============================] - 0s 34us/sample - loss: 0.9350 - inflam_loss: 0.6853 - nephr_loss: 1.2485 - inflam_acc: 0.7625 - nephr_mse: 0.4378\n",
      "Epoch 339/1000\n",
      "80/80 [==============================] - 0s 29us/sample - loss: 0.9318 - inflam_loss: 0.6848 - nephr_loss: 1.2350 - inflam_acc: 0.7625 - nephr_mse: 0.4349\n",
      "Epoch 340/1000\n",
      "80/80 [==============================] - 0s 62us/sample - loss: 0.9286 - inflam_loss: 0.6843 - nephr_loss: 1.2218 - inflam_acc: 0.7625 - nephr_mse: 0.4320\n",
      "Epoch 341/1000\n",
      "80/80 [==============================] - 0s 54us/sample - loss: 0.9255 - inflam_loss: 0.6838 - nephr_loss: 1.2089 - inflam_acc: 0.7625 - nephr_mse: 0.4291\n",
      "Epoch 342/1000\n",
      "80/80 [==============================] - 0s 46us/sample - loss: 0.9225 - inflam_loss: 0.6833 - nephr_loss: 1.1962 - inflam_acc: 0.7625 - nephr_mse: 0.4262\n",
      "Epoch 343/1000\n",
      "80/80 [==============================] - 0s 41us/sample - loss: 0.9195 - inflam_loss: 0.6828 - nephr_loss: 1.1838 - inflam_acc: 0.7625 - nephr_mse: 0.4234\n",
      "Epoch 344/1000\n",
      "80/80 [==============================] - 0s 35us/sample - loss: 0.9166 - inflam_loss: 0.6823 - nephr_loss: 1.1716 - inflam_acc: 0.7625 - nephr_mse: 0.4205\n",
      "Epoch 345/1000\n",
      "80/80 [==============================] - 0s 995us/sample - loss: 0.9137 - inflam_loss: 0.6818 - nephr_loss: 1.1597 - inflam_acc: 0.7625 - nephr_mse: 0.4177\n",
      "Epoch 346/1000\n",
      "80/80 [==============================] - 0s 50us/sample - loss: 0.9109 - inflam_loss: 0.6813 - nephr_loss: 1.1481 - inflam_acc: 0.7625 - nephr_mse: 0.4149\n",
      "Epoch 347/1000\n",
      "80/80 [==============================] - 0s 49us/sample - loss: 0.9081 - inflam_loss: 0.6808 - nephr_loss: 1.1368 - inflam_acc: 0.7625 - nephr_mse: 0.4122\n",
      "Epoch 348/1000\n",
      "80/80 [==============================] - 0s 44us/sample - loss: 0.9054 - inflam_loss: 0.6803 - nephr_loss: 1.1257 - inflam_acc: 0.7625 - nephr_mse: 0.4094\n",
      "Epoch 349/1000\n",
      "80/80 [==============================] - 0s 41us/sample - loss: 0.9027 - inflam_loss: 0.6798 - nephr_loss: 1.1148 - inflam_acc: 0.7625 - nephr_mse: 0.4067\n",
      "Epoch 350/1000\n",
      "80/80 [==============================] - 0s 980us/sample - loss: 0.9001 - inflam_loss: 0.6793 - nephr_loss: 1.1043 - inflam_acc: 0.7625 - nephr_mse: 0.4040\n",
      "Epoch 351/1000\n",
      "80/80 [==============================] - 0s 46us/sample - loss: 0.8976 - inflam_loss: 0.6788 - nephr_loss: 1.0940 - inflam_acc: 0.7625 - nephr_mse: 0.4014\n",
      "Epoch 352/1000\n",
      "80/80 [==============================] - 0s 53us/sample - loss: 0.8951 - inflam_loss: 0.6783 - nephr_loss: 1.0839 - inflam_acc: 0.7625 - nephr_mse: 0.3987\n",
      "Epoch 353/1000\n",
      "80/80 [==============================] - 0s 41us/sample - loss: 0.8926 - inflam_loss: 0.6778 - nephr_loss: 1.0742 - inflam_acc: 0.7625 - nephr_mse: 0.3962\n",
      "Epoch 354/1000\n",
      "80/80 [==============================] - 0s 35us/sample - loss: 0.8902 - inflam_loss: 0.6773 - nephr_loss: 1.0646 - inflam_acc: 0.7625 - nephr_mse: 0.3936\n",
      "Epoch 355/1000\n",
      "80/80 [==============================] - 0s 30us/sample - loss: 0.8879 - inflam_loss: 0.6768 - nephr_loss: 1.0553 - inflam_acc: 0.7625 - nephr_mse: 0.3911\n",
      "Epoch 356/1000\n",
      "80/80 [==============================] - 0s 1ms/sample - loss: 0.8856 - inflam_loss: 0.6763 - nephr_loss: 1.0463 - inflam_acc: 0.7625 - nephr_mse: 0.3886\n",
      "Epoch 357/1000\n",
      "80/80 [==============================] - 0s 58us/sample - loss: 0.8833 - inflam_loss: 0.6758 - nephr_loss: 1.0375 - inflam_acc: 0.7625 - nephr_mse: 0.3861\n",
      "Epoch 358/1000\n",
      "80/80 [==============================] - 0s 38us/sample - loss: 0.8811 - inflam_loss: 0.6753 - nephr_loss: 1.0290 - inflam_acc: 0.7625 - nephr_mse: 0.3837\n",
      "Epoch 359/1000\n",
      "80/80 [==============================] - 0s 38us/sample - loss: 0.8790 - inflam_loss: 0.6748 - nephr_loss: 1.0207 - inflam_acc: 0.7625 - nephr_mse: 0.3813\n",
      "Epoch 360/1000\n",
      "80/80 [==============================] - 0s 34us/sample - loss: 0.8769 - inflam_loss: 0.6743 - nephr_loss: 1.0126 - inflam_acc: 0.7625 - nephr_mse: 0.3790\n",
      "Epoch 361/1000\n",
      "80/80 [==============================] - 0s 997us/sample - loss: 0.8748 - inflam_loss: 0.6738 - nephr_loss: 1.0048 - inflam_acc: 0.7625 - nephr_mse: 0.3767\n",
      "Epoch 362/1000\n",
      "80/80 [==============================] - 0s 129us/sample - loss: 0.8728 - inflam_loss: 0.6734 - nephr_loss: 0.9972 - inflam_acc: 0.7625 - nephr_mse: 0.3744\n",
      "Epoch 363/1000\n",
      "80/80 [==============================] - 0s 44us/sample - loss: 0.8708 - inflam_loss: 0.6729 - nephr_loss: 0.9899 - inflam_acc: 0.7625 - nephr_mse: 0.3721\n",
      "Epoch 364/1000\n",
      "80/80 [==============================] - 0s 42us/sample - loss: 0.8689 - inflam_loss: 0.6724 - nephr_loss: 0.9828 - inflam_acc: 0.7625 - nephr_mse: 0.3700\n",
      "Epoch 365/1000\n",
      "80/80 [==============================] - 0s 39us/sample - loss: 0.8671 - inflam_loss: 0.6719 - nephr_loss: 0.9759 - inflam_acc: 0.7625 - nephr_mse: 0.3678\n",
      "Epoch 366/1000\n",
      "80/80 [==============================] - 0s 39us/sample - loss: 0.8652 - inflam_loss: 0.6714 - nephr_loss: 0.9692 - inflam_acc: 0.7625 - nephr_mse: 0.3657\n",
      "Epoch 367/1000\n",
      "80/80 [==============================] - 0s 59us/sample - loss: 0.8635 - inflam_loss: 0.6709 - nephr_loss: 0.9628 - inflam_acc: 0.7625 - nephr_mse: 0.3637\n",
      "Epoch 368/1000\n",
      "80/80 [==============================] - 0s 58us/sample - loss: 0.8617 - inflam_loss: 0.6704 - nephr_loss: 0.9566 - inflam_acc: 0.7625 - nephr_mse: 0.3617\n",
      "Epoch 369/1000\n",
      "80/80 [==============================] - 0s 54us/sample - loss: 0.8601 - inflam_loss: 0.6699 - nephr_loss: 0.9507 - inflam_acc: 0.7625 - nephr_mse: 0.3597\n",
      "Epoch 370/1000\n",
      "80/80 [==============================] - 0s 54us/sample - loss: 0.8584 - inflam_loss: 0.6694 - nephr_loss: 0.9450 - inflam_acc: 0.7625 - nephr_mse: 0.3578\n",
      "Epoch 371/1000\n",
      "80/80 [==============================] - 0s 45us/sample - loss: 0.8568 - inflam_loss: 0.6689 - nephr_loss: 0.9395 - inflam_acc: 0.7625 - nephr_mse: 0.3559\n",
      "Epoch 372/1000\n",
      "80/80 [==============================] - 0s 957us/sample - loss: 0.8553 - inflam_loss: 0.6685 - nephr_loss: 0.9342 - inflam_acc: 0.7625 - nephr_mse: 0.3541\n",
      "Epoch 373/1000\n",
      "80/80 [==============================] - 0s 51us/sample - loss: 0.8538 - inflam_loss: 0.6680 - nephr_loss: 0.9292 - inflam_acc: 0.7625 - nephr_mse: 0.3524\n",
      "Epoch 374/1000\n",
      "80/80 [==============================] - 0s 37us/sample - loss: 0.8523 - inflam_loss: 0.6675 - nephr_loss: 0.9243 - inflam_acc: 0.7625 - nephr_mse: 0.3507\n",
      "Epoch 375/1000\n",
      "80/80 [==============================] - 0s 40us/sample - loss: 0.8509 - inflam_loss: 0.6670 - nephr_loss: 0.9197 - inflam_acc: 0.7625 - nephr_mse: 0.3490\n",
      "Epoch 376/1000\n",
      "80/80 [==============================] - 0s 32us/sample - loss: 0.8496 - inflam_loss: 0.6665 - nephr_loss: 0.9153 - inflam_acc: 0.7625 - nephr_mse: 0.3474\n",
      "Epoch 377/1000\n",
      "80/80 [==============================] - 0s 35us/sample - loss: 0.8482 - inflam_loss: 0.6660 - nephr_loss: 0.9111 - inflam_acc: 0.7625 - nephr_mse: 0.3459\n",
      "Epoch 378/1000\n",
      "80/80 [==============================] - 0s 56us/sample - loss: 0.8469 - inflam_loss: 0.6655 - nephr_loss: 0.9071 - inflam_acc: 0.7625 - nephr_mse: 0.3444\n",
      "Epoch 379/1000\n",
      "80/80 [==============================] - 0s 46us/sample - loss: 0.8457 - inflam_loss: 0.6650 - nephr_loss: 0.9033 - inflam_acc: 0.7625 - nephr_mse: 0.3429\n",
      "Epoch 380/1000\n",
      "80/80 [==============================] - 0s 50us/sample - loss: 0.8445 - inflam_loss: 0.6646 - nephr_loss: 0.8997 - inflam_acc: 0.7625 - nephr_mse: 0.3415\n",
      "Epoch 381/1000\n",
      "80/80 [==============================] - 0s 34us/sample - loss: 0.8433 - inflam_loss: 0.6641 - nephr_loss: 0.8963 - inflam_acc: 0.7625 - nephr_mse: 0.3402\n",
      "Epoch 382/1000\n",
      "80/80 [==============================] - 0s 34us/sample - loss: 0.8422 - inflam_loss: 0.6636 - nephr_loss: 0.8931 - inflam_acc: 0.7625 - nephr_mse: 0.3389\n",
      "Epoch 383/1000\n",
      "80/80 [==============================] - 0s 990us/sample - loss: 0.8411 - inflam_loss: 0.6631 - nephr_loss: 0.8900 - inflam_acc: 0.7625 - nephr_mse: 0.3377\n",
      "Epoch 384/1000\n",
      "80/80 [==============================] - 0s 43us/sample - loss: 0.8400 - inflam_loss: 0.6626 - nephr_loss: 0.8872 - inflam_acc: 0.7625 - nephr_mse: 0.3365\n",
      "Epoch 385/1000\n",
      "80/80 [==============================] - 0s 41us/sample - loss: 0.8390 - inflam_loss: 0.6621 - nephr_loss: 0.8845 - inflam_acc: 0.7625 - nephr_mse: 0.3353\n",
      "Epoch 386/1000\n",
      "80/80 [==============================] - 0s 54us/sample - loss: 0.8380 - inflam_loss: 0.6616 - nephr_loss: 0.8819 - inflam_acc: 0.7625 - nephr_mse: 0.3342\n",
      "Epoch 387/1000\n",
      "80/80 [==============================] - 0s 51us/sample - loss: 0.8371 - inflam_loss: 0.6612 - nephr_loss: 0.8795 - inflam_acc: 0.7625 - nephr_mse: 0.3332\n",
      "Epoch 388/1000\n",
      "80/80 [==============================] - 0s 999us/sample - loss: 0.8361 - inflam_loss: 0.6607 - nephr_loss: 0.8773 - inflam_acc: 0.7625 - nephr_mse: 0.3322\n",
      "Epoch 389/1000\n",
      "80/80 [==============================] - 0s 59us/sample - loss: 0.8352 - inflam_loss: 0.6602 - nephr_loss: 0.8752 - inflam_acc: 0.7625 - nephr_mse: 0.3312\n",
      "Epoch 390/1000\n",
      "80/80 [==============================] - 0s 62us/sample - loss: 0.8344 - inflam_loss: 0.6597 - nephr_loss: 0.8732 - inflam_acc: 0.7625 - nephr_mse: 0.3303\n",
      "Epoch 391/1000\n",
      "80/80 [==============================] - 0s 50us/sample - loss: 0.8335 - inflam_loss: 0.6592 - nephr_loss: 0.8714 - inflam_acc: 0.7625 - nephr_mse: 0.3294\n",
      "Epoch 392/1000\n",
      "80/80 [==============================] - 0s 1ms/sample - loss: 0.8327 - inflam_loss: 0.6587 - nephr_loss: 0.8697 - inflam_acc: 0.7625 - nephr_mse: 0.3286\n",
      "Epoch 393/1000\n",
      "80/80 [==============================] - 0s 63us/sample - loss: 0.8319 - inflam_loss: 0.6583 - nephr_loss: 0.8681 - inflam_acc: 0.7625 - nephr_mse: 0.3278\n",
      "Epoch 394/1000\n",
      "80/80 [==============================] - 0s 56us/sample - loss: 0.8311 - inflam_loss: 0.6578 - nephr_loss: 0.8666 - inflam_acc: 0.7625 - nephr_mse: 0.3270\n",
      "Epoch 395/1000\n",
      "80/80 [==============================] - 0s 39us/sample - loss: 0.8303 - inflam_loss: 0.6573 - nephr_loss: 0.8652 - inflam_acc: 0.7625 - nephr_mse: 0.3263\n",
      "Epoch 396/1000\n",
      "80/80 [==============================] - 0s 40us/sample - loss: 0.8296 - inflam_loss: 0.6568 - nephr_loss: 0.8639 - inflam_acc: 0.7625 - nephr_mse: 0.3256\n",
      "Epoch 397/1000\n",
      "80/80 [==============================] - 0s 988us/sample - loss: 0.8289 - inflam_loss: 0.6563 - nephr_loss: 0.8627 - inflam_acc: 0.7625 - nephr_mse: 0.3250\n",
      "Epoch 398/1000\n",
      "80/80 [==============================] - 0s 57us/sample - loss: 0.8282 - inflam_loss: 0.6558 - nephr_loss: 0.8616 - inflam_acc: 0.7625 - nephr_mse: 0.3244\n",
      "Epoch 399/1000\n",
      "80/80 [==============================] - 0s 52us/sample - loss: 0.8275 - inflam_loss: 0.6554 - nephr_loss: 0.8605 - inflam_acc: 0.7625 - nephr_mse: 0.3238\n",
      "Epoch 400/1000\n",
      "80/80 [==============================] - 0s 43us/sample - loss: 0.8268 - inflam_loss: 0.6549 - nephr_loss: 0.8595 - inflam_acc: 0.7625 - nephr_mse: 0.3232\n",
      "Epoch 401/1000\n",
      "80/80 [==============================] - 0s 36us/sample - loss: 0.8261 - inflam_loss: 0.6544 - nephr_loss: 0.8586 - inflam_acc: 0.7625 - nephr_mse: 0.3227\n",
      "Epoch 402/1000\n",
      "80/80 [==============================] - 0s 35us/sample - loss: 0.8255 - inflam_loss: 0.6539 - nephr_loss: 0.8577 - inflam_acc: 0.7625 - nephr_mse: 0.3222\n",
      "Epoch 403/1000\n",
      "80/80 [==============================] - 0s 969us/sample - loss: 0.8248 - inflam_loss: 0.6534 - nephr_loss: 0.8569 - inflam_acc: 0.7625 - nephr_mse: 0.3217\n",
      "Epoch 404/1000\n",
      "80/80 [==============================] - 0s 47us/sample - loss: 0.8242 - inflam_loss: 0.6530 - nephr_loss: 0.8561 - inflam_acc: 0.7625 - nephr_mse: 0.3212\n",
      "Epoch 405/1000\n",
      "80/80 [==============================] - 0s 40us/sample - loss: 0.8235 - inflam_loss: 0.6525 - nephr_loss: 0.8553 - inflam_acc: 0.7625 - nephr_mse: 0.3208\n",
      "Epoch 406/1000\n",
      "80/80 [==============================] - 0s 43us/sample - loss: 0.8229 - inflam_loss: 0.6520 - nephr_loss: 0.8546 - inflam_acc: 0.7625 - nephr_mse: 0.3203\n",
      "Epoch 407/1000\n",
      "80/80 [==============================] - 0s 43us/sample - loss: 0.8223 - inflam_loss: 0.6515 - nephr_loss: 0.8538 - inflam_acc: 0.7625 - nephr_mse: 0.3199\n",
      "Epoch 408/1000\n",
      "80/80 [==============================] - 0s 35us/sample - loss: 0.8217 - inflam_loss: 0.6511 - nephr_loss: 0.8532 - inflam_acc: 0.7625 - nephr_mse: 0.3195\n",
      "Epoch 409/1000\n",
      "80/80 [==============================] - 0s 974us/sample - loss: 0.8211 - inflam_loss: 0.6506 - nephr_loss: 0.8525 - inflam_acc: 0.7625 - nephr_mse: 0.3191\n",
      "Epoch 410/1000\n",
      "80/80 [==============================] - 0s 56us/sample - loss: 0.8205 - inflam_loss: 0.6501 - nephr_loss: 0.8518 - inflam_acc: 0.7625 - nephr_mse: 0.3188\n",
      "Epoch 411/1000\n",
      "80/80 [==============================] - 0s 52us/sample - loss: 0.8199 - inflam_loss: 0.6496 - nephr_loss: 0.8512 - inflam_acc: 0.7625 - nephr_mse: 0.3184\n",
      "Epoch 412/1000\n",
      "80/80 [==============================] - 0s 44us/sample - loss: 0.8193 - inflam_loss: 0.6491 - nephr_loss: 0.8506 - inflam_acc: 0.7500 - nephr_mse: 0.3181\n",
      "Epoch 413/1000\n",
      "80/80 [==============================] - 0s 44us/sample - loss: 0.8187 - inflam_loss: 0.6487 - nephr_loss: 0.8500 - inflam_acc: 0.7625 - nephr_mse: 0.3178\n",
      "Epoch 414/1000\n",
      "80/80 [==============================] - 0s 67us/sample - loss: 0.8181 - inflam_loss: 0.6482 - nephr_loss: 0.8494 - inflam_acc: 0.7500 - nephr_mse: 0.3174\n",
      "Epoch 415/1000\n",
      "80/80 [==============================] - 0s 44us/sample - loss: 0.8175 - inflam_loss: 0.6477 - nephr_loss: 0.8488 - inflam_acc: 0.7625 - nephr_mse: 0.3171\n",
      "Epoch 416/1000\n",
      "80/80 [==============================] - 0s 58us/sample - loss: 0.8169 - inflam_loss: 0.6472 - nephr_loss: 0.8482 - inflam_acc: 0.7500 - nephr_mse: 0.3168\n",
      "Epoch 417/1000\n",
      "80/80 [==============================] - 0s 40us/sample - loss: 0.8163 - inflam_loss: 0.6468 - nephr_loss: 0.8476 - inflam_acc: 0.7625 - nephr_mse: 0.3165\n",
      "Epoch 418/1000\n",
      "80/80 [==============================] - 0s 988us/sample - loss: 0.8157 - inflam_loss: 0.6463 - nephr_loss: 0.8470 - inflam_acc: 0.7500 - nephr_mse: 0.3163\n",
      "Epoch 419/1000\n",
      "80/80 [==============================] - 0s 54us/sample - loss: 0.8151 - inflam_loss: 0.6458 - nephr_loss: 0.8464 - inflam_acc: 0.7625 - nephr_mse: 0.3160\n",
      "Epoch 420/1000\n",
      "80/80 [==============================] - 0s 69us/sample - loss: 0.8145 - inflam_loss: 0.6453 - nephr_loss: 0.8458 - inflam_acc: 0.7500 - nephr_mse: 0.3157\n",
      "Epoch 421/1000\n",
      "80/80 [==============================] - 0s 41us/sample - loss: 0.8139 - inflam_loss: 0.6449 - nephr_loss: 0.8453 - inflam_acc: 0.7625 - nephr_mse: 0.3154\n",
      "Epoch 422/1000\n",
      "80/80 [==============================] - 0s 32us/sample - loss: 0.8133 - inflam_loss: 0.6444 - nephr_loss: 0.8447 - inflam_acc: 0.7500 - nephr_mse: 0.3152\n",
      "Epoch 423/1000\n",
      "80/80 [==============================] - 0s 32us/sample - loss: 0.8127 - inflam_loss: 0.6439 - nephr_loss: 0.8441 - inflam_acc: 0.7625 - nephr_mse: 0.3149\n",
      "Epoch 424/1000\n",
      "80/80 [==============================] - 0s 962us/sample - loss: 0.8122 - inflam_loss: 0.6434 - nephr_loss: 0.8436 - inflam_acc: 0.7500 - nephr_mse: 0.3146\n",
      "Epoch 425/1000\n",
      "80/80 [==============================] - 0s 55us/sample - loss: 0.8116 - inflam_loss: 0.6430 - nephr_loss: 0.8430 - inflam_acc: 0.7625 - nephr_mse: 0.3144\n",
      "Epoch 426/1000\n",
      "80/80 [==============================] - 0s 39us/sample - loss: 0.8110 - inflam_loss: 0.6425 - nephr_loss: 0.8424 - inflam_acc: 0.7375 - nephr_mse: 0.3141\n",
      "Epoch 427/1000\n",
      "80/80 [==============================] - 0s 54us/sample - loss: 0.8104 - inflam_loss: 0.6420 - nephr_loss: 0.8419 - inflam_acc: 0.7625 - nephr_mse: 0.3139\n",
      "Epoch 428/1000\n",
      "80/80 [==============================] - 0s 38us/sample - loss: 0.8098 - inflam_loss: 0.6416 - nephr_loss: 0.8413 - inflam_acc: 0.7375 - nephr_mse: 0.3136\n",
      "Epoch 429/1000\n",
      "80/80 [==============================] - 0s 1ms/sample - loss: 0.8092 - inflam_loss: 0.6411 - nephr_loss: 0.8408 - inflam_acc: 0.7625 - nephr_mse: 0.3133\n",
      "Epoch 430/1000\n",
      "80/80 [==============================] - 0s 47us/sample - loss: 0.8087 - inflam_loss: 0.6406 - nephr_loss: 0.8402 - inflam_acc: 0.7375 - nephr_mse: 0.3131\n",
      "Epoch 431/1000\n",
      "80/80 [==============================] - 0s 56us/sample - loss: 0.8081 - inflam_loss: 0.6401 - nephr_loss: 0.8396 - inflam_acc: 0.7625 - nephr_mse: 0.3128\n",
      "Epoch 432/1000\n",
      "80/80 [==============================] - 0s 52us/sample - loss: 0.8075 - inflam_loss: 0.6397 - nephr_loss: 0.8391 - inflam_acc: 0.7375 - nephr_mse: 0.3126\n",
      "Epoch 433/1000\n",
      "80/80 [==============================] - 0s 38us/sample - loss: 0.8069 - inflam_loss: 0.6392 - nephr_loss: 0.8385 - inflam_acc: 0.7625 - nephr_mse: 0.3123\n",
      "Epoch 434/1000\n",
      "80/80 [==============================] - 0s 60us/sample - loss: 0.8063 - inflam_loss: 0.6387 - nephr_loss: 0.8380 - inflam_acc: 0.7250 - nephr_mse: 0.3121\n",
      "Epoch 435/1000\n",
      "80/80 [==============================] - 0s 63us/sample - loss: 0.8057 - inflam_loss: 0.6383 - nephr_loss: 0.8374 - inflam_acc: 0.7625 - nephr_mse: 0.3118\n",
      "Epoch 436/1000\n",
      "80/80 [==============================] - 0s 49us/sample - loss: 0.8052 - inflam_loss: 0.6378 - nephr_loss: 0.8369 - inflam_acc: 0.7125 - nephr_mse: 0.3116\n",
      "Epoch 437/1000\n",
      "80/80 [==============================] - 0s 55us/sample - loss: 0.8046 - inflam_loss: 0.6373 - nephr_loss: 0.8363 - inflam_acc: 0.7625 - nephr_mse: 0.3113\n",
      "Epoch 438/1000\n",
      "80/80 [==============================] - 0s 40us/sample - loss: 0.8040 - inflam_loss: 0.6368 - nephr_loss: 0.8358 - inflam_acc: 0.7000 - nephr_mse: 0.3111\n",
      "Epoch 439/1000\n",
      "80/80 [==============================] - 0s 940us/sample - loss: 0.8034 - inflam_loss: 0.6364 - nephr_loss: 0.8352 - inflam_acc: 0.7625 - nephr_mse: 0.3109\n",
      "Epoch 440/1000\n",
      "80/80 [==============================] - 0s 56us/sample - loss: 0.8028 - inflam_loss: 0.6359 - nephr_loss: 0.8347 - inflam_acc: 0.7000 - nephr_mse: 0.3106\n",
      "Epoch 441/1000\n",
      "80/80 [==============================] - 0s 58us/sample - loss: 0.8023 - inflam_loss: 0.6354 - nephr_loss: 0.8341 - inflam_acc: 0.7625 - nephr_mse: 0.3104\n",
      "Epoch 442/1000\n",
      "80/80 [==============================] - 0s 33us/sample - loss: 0.8017 - inflam_loss: 0.6350 - nephr_loss: 0.8336 - inflam_acc: 0.7000 - nephr_mse: 0.3101\n",
      "Epoch 443/1000\n",
      "80/80 [==============================] - 0s 36us/sample - loss: 0.8011 - inflam_loss: 0.6345 - nephr_loss: 0.8330 - inflam_acc: 0.7625 - nephr_mse: 0.3099\n",
      "Epoch 444/1000\n",
      "80/80 [==============================] - 0s 1ms/sample - loss: 0.8005 - inflam_loss: 0.6340 - nephr_loss: 0.8325 - inflam_acc: 0.7000 - nephr_mse: 0.3096\n",
      "Epoch 445/1000\n",
      "80/80 [==============================] - 0s 78us/sample - loss: 0.8000 - inflam_loss: 0.6336 - nephr_loss: 0.8319 - inflam_acc: 0.7625 - nephr_mse: 0.3094\n",
      "Epoch 446/1000\n",
      "80/80 [==============================] - 0s 36us/sample - loss: 0.7994 - inflam_loss: 0.6331 - nephr_loss: 0.8314 - inflam_acc: 0.7000 - nephr_mse: 0.3091\n",
      "Epoch 447/1000\n",
      "80/80 [==============================] - 0s 37us/sample - loss: 0.7988 - inflam_loss: 0.6326 - nephr_loss: 0.8308 - inflam_acc: 0.7625 - nephr_mse: 0.3089\n",
      "Epoch 448/1000\n",
      "80/80 [==============================] - 0s 39us/sample - loss: 0.7982 - inflam_loss: 0.6322 - nephr_loss: 0.8303 - inflam_acc: 0.7000 - nephr_mse: 0.3086\n",
      "Epoch 449/1000\n",
      "80/80 [==============================] - 0s 990us/sample - loss: 0.7977 - inflam_loss: 0.6317 - nephr_loss: 0.8298 - inflam_acc: 0.7625 - nephr_mse: 0.3084\n",
      "Epoch 450/1000\n",
      "80/80 [==============================] - 0s 68us/sample - loss: 0.7971 - inflam_loss: 0.6312 - nephr_loss: 0.8292 - inflam_acc: 0.7000 - nephr_mse: 0.3082\n",
      "Epoch 451/1000\n",
      "80/80 [==============================] - 0s 47us/sample - loss: 0.7965 - inflam_loss: 0.6308 - nephr_loss: 0.8287 - inflam_acc: 0.7625 - nephr_mse: 0.3079\n",
      "Epoch 452/1000\n",
      "80/80 [==============================] - 0s 45us/sample - loss: 0.7959 - inflam_loss: 0.6303 - nephr_loss: 0.8281 - inflam_acc: 0.7000 - nephr_mse: 0.3077\n",
      "Epoch 453/1000\n",
      "80/80 [==============================] - 0s 1ms/sample - loss: 0.7954 - inflam_loss: 0.6298 - nephr_loss: 0.8276 - inflam_acc: 0.7625 - nephr_mse: 0.3074\n",
      "Epoch 454/1000\n",
      "80/80 [==============================] - 0s 57us/sample - loss: 0.7948 - inflam_loss: 0.6294 - nephr_loss: 0.8270 - inflam_acc: 0.7000 - nephr_mse: 0.3072\n",
      "Epoch 455/1000\n",
      "80/80 [==============================] - 0s 63us/sample - loss: 0.7942 - inflam_loss: 0.6289 - nephr_loss: 0.8265 - inflam_acc: 0.7625 - nephr_mse: 0.3069\n",
      "Epoch 456/1000\n",
      "80/80 [==============================] - 0s 47us/sample - loss: 0.7936 - inflam_loss: 0.6285 - nephr_loss: 0.8260 - inflam_acc: 0.7000 - nephr_mse: 0.3067\n",
      "Epoch 457/1000\n",
      "80/80 [==============================] - 0s 34us/sample - loss: 0.7931 - inflam_loss: 0.6280 - nephr_loss: 0.8254 - inflam_acc: 0.7625 - nephr_mse: 0.3065\n",
      "Epoch 458/1000\n",
      "80/80 [==============================] - 0s 1ms/sample - loss: 0.7925 - inflam_loss: 0.6275 - nephr_loss: 0.8249 - inflam_acc: 0.7000 - nephr_mse: 0.3062\n",
      "Epoch 459/1000\n",
      "80/80 [==============================] - 0s 81us/sample - loss: 0.7919 - inflam_loss: 0.6271 - nephr_loss: 0.8243 - inflam_acc: 0.7625 - nephr_mse: 0.3060\n",
      "Epoch 460/1000\n",
      "80/80 [==============================] - 0s 43us/sample - loss: 0.7914 - inflam_loss: 0.6266 - nephr_loss: 0.8238 - inflam_acc: 0.7000 - nephr_mse: 0.3057\n",
      "Epoch 461/1000\n",
      "80/80 [==============================] - 0s 35us/sample - loss: 0.7908 - inflam_loss: 0.6261 - nephr_loss: 0.8233 - inflam_acc: 0.7625 - nephr_mse: 0.3055\n",
      "Epoch 462/1000\n",
      "80/80 [==============================] - 0s 35us/sample - loss: 0.7902 - inflam_loss: 0.6257 - nephr_loss: 0.8227 - inflam_acc: 0.7000 - nephr_mse: 0.3052\n",
      "Epoch 463/1000\n",
      "80/80 [==============================] - 0s 963us/sample - loss: 0.7896 - inflam_loss: 0.6252 - nephr_loss: 0.8222 - inflam_acc: 0.7625 - nephr_mse: 0.3050\n",
      "Epoch 464/1000\n",
      "80/80 [==============================] - 0s 55us/sample - loss: 0.7891 - inflam_loss: 0.6248 - nephr_loss: 0.8216 - inflam_acc: 0.7000 - nephr_mse: 0.3048\n",
      "Epoch 465/1000\n",
      "80/80 [==============================] - 0s 38us/sample - loss: 0.7885 - inflam_loss: 0.6243 - nephr_loss: 0.8211 - inflam_acc: 0.7625 - nephr_mse: 0.3045\n",
      "Epoch 466/1000\n",
      "80/80 [==============================] - 0s 50us/sample - loss: 0.7879 - inflam_loss: 0.6238 - nephr_loss: 0.8206 - inflam_acc: 0.7000 - nephr_mse: 0.3043\n",
      "Epoch 467/1000\n",
      "80/80 [==============================] - 0s 54us/sample - loss: 0.7874 - inflam_loss: 0.6234 - nephr_loss: 0.8200 - inflam_acc: 0.7625 - nephr_mse: 0.3040\n",
      "Epoch 468/1000\n",
      "80/80 [==============================] - 0s 999us/sample - loss: 0.7868 - inflam_loss: 0.6229 - nephr_loss: 0.8195 - inflam_acc: 0.7000 - nephr_mse: 0.3038\n",
      "Epoch 469/1000\n",
      "80/80 [==============================] - 0s 63us/sample - loss: 0.7862 - inflam_loss: 0.6224 - nephr_loss: 0.8190 - inflam_acc: 0.7625 - nephr_mse: 0.3036\n",
      "Epoch 470/1000\n",
      "80/80 [==============================] - 0s 36us/sample - loss: 0.7857 - inflam_loss: 0.6220 - nephr_loss: 0.8184 - inflam_acc: 0.7000 - nephr_mse: 0.3033\n",
      "Epoch 471/1000\n",
      "80/80 [==============================] - 0s 47us/sample - loss: 0.7851 - inflam_loss: 0.6215 - nephr_loss: 0.8179 - inflam_acc: 0.7625 - nephr_mse: 0.3031\n",
      "Epoch 472/1000\n",
      "80/80 [==============================] - 0s 41us/sample - loss: 0.7845 - inflam_loss: 0.6211 - nephr_loss: 0.8173 - inflam_acc: 0.7000 - nephr_mse: 0.3028\n",
      "Epoch 473/1000\n",
      "80/80 [==============================] - 0s 36us/sample - loss: 0.7840 - inflam_loss: 0.6206 - nephr_loss: 0.8168 - inflam_acc: 0.7625 - nephr_mse: 0.3026\n",
      "Epoch 474/1000\n",
      "80/80 [==============================] - 0s 60us/sample - loss: 0.7834 - inflam_loss: 0.6201 - nephr_loss: 0.8163 - inflam_acc: 0.7000 - nephr_mse: 0.3023\n",
      "Epoch 475/1000\n",
      "80/80 [==============================] - 0s 39us/sample - loss: 0.7828 - inflam_loss: 0.6197 - nephr_loss: 0.8158 - inflam_acc: 0.7625 - nephr_mse: 0.3024\n",
      "Epoch 476/1000\n",
      "80/80 [==============================] - 0s 36us/sample - loss: 0.7824 - inflam_loss: 0.6192 - nephr_loss: 0.8156 - inflam_acc: 0.7000 - nephr_mse: 0.3012\n",
      "Epoch 477/1000\n",
      "80/80 [==============================] - 0s 47us/sample - loss: 0.7818 - inflam_loss: 0.6188 - nephr_loss: 0.8150 - inflam_acc: 0.7625 - nephr_mse: 0.3025\n",
      "Epoch 478/1000\n",
      "80/80 [==============================] - 0s 37us/sample - loss: 0.7812 - inflam_loss: 0.6183 - nephr_loss: 0.8142 - inflam_acc: 0.7000 - nephr_mse: 0.3011\n",
      "Epoch 479/1000\n",
      "80/80 [==============================] - 0s 995us/sample - loss: 0.7806 - inflam_loss: 0.6179 - nephr_loss: 0.8136 - inflam_acc: 0.7625 - nephr_mse: 0.3014\n",
      "Epoch 480/1000\n",
      "80/80 [==============================] - 0s 50us/sample - loss: 0.7800 - inflam_loss: 0.6174 - nephr_loss: 0.8131 - inflam_acc: 0.7000 - nephr_mse: 0.3008\n",
      "Epoch 481/1000\n",
      "80/80 [==============================] - 0s 40us/sample - loss: 0.7795 - inflam_loss: 0.6169 - nephr_loss: 0.8126 - inflam_acc: 0.7625 - nephr_mse: 0.3008\n",
      "Epoch 482/1000\n",
      "80/80 [==============================] - 0s 39us/sample - loss: 0.7789 - inflam_loss: 0.6165 - nephr_loss: 0.8120 - inflam_acc: 0.7000 - nephr_mse: 0.3004\n",
      "Epoch 483/1000\n",
      "80/80 [==============================] - 0s 36us/sample - loss: 0.7783 - inflam_loss: 0.6160 - nephr_loss: 0.8115 - inflam_acc: 0.7625 - nephr_mse: 0.3003\n",
      "Epoch 484/1000\n",
      "80/80 [==============================] - 0s 1ms/sample - loss: 0.7778 - inflam_loss: 0.6156 - nephr_loss: 0.8110 - inflam_acc: 0.7000 - nephr_mse: 0.3000\n",
      "Epoch 485/1000\n",
      "80/80 [==============================] - 0s 47us/sample - loss: 0.7772 - inflam_loss: 0.6151 - nephr_loss: 0.8104 - inflam_acc: 0.7625 - nephr_mse: 0.2998\n",
      "Epoch 486/1000\n",
      "80/80 [==============================] - 0s 35us/sample - loss: 0.7767 - inflam_loss: 0.6147 - nephr_loss: 0.8099 - inflam_acc: 0.7000 - nephr_mse: 0.2995\n",
      "Epoch 487/1000\n",
      "80/80 [==============================] - 0s 46us/sample - loss: 0.7761 - inflam_loss: 0.6142 - nephr_loss: 0.8094 - inflam_acc: 0.7625 - nephr_mse: 0.2993\n",
      "Epoch 488/1000\n",
      "80/80 [==============================] - 0s 42us/sample - loss: 0.7755 - inflam_loss: 0.6138 - nephr_loss: 0.8089 - inflam_acc: 0.7000 - nephr_mse: 0.2990\n",
      "Epoch 489/1000\n",
      "80/80 [==============================] - 0s 34us/sample - loss: 0.7750 - inflam_loss: 0.6133 - nephr_loss: 0.8083 - inflam_acc: 0.7625 - nephr_mse: 0.2989\n",
      "Epoch 490/1000\n",
      "80/80 [==============================] - 0s 920us/sample - loss: 0.7744 - inflam_loss: 0.6128 - nephr_loss: 0.8078 - inflam_acc: 0.7000 - nephr_mse: 0.2984\n",
      "Epoch 491/1000\n",
      "80/80 [==============================] - 0s 68us/sample - loss: 0.7739 - inflam_loss: 0.6124 - nephr_loss: 0.8073 - inflam_acc: 0.7625 - nephr_mse: 0.2986\n",
      "Epoch 492/1000\n",
      "80/80 [==============================] - 0s 38us/sample - loss: 0.7733 - inflam_loss: 0.6119 - nephr_loss: 0.8069 - inflam_acc: 0.7000 - nephr_mse: 0.2977\n",
      "Epoch 493/1000\n",
      "80/80 [==============================] - 0s 42us/sample - loss: 0.7728 - inflam_loss: 0.6115 - nephr_loss: 0.8064 - inflam_acc: 0.7625 - nephr_mse: 0.2984\n",
      "Epoch 494/1000\n",
      "80/80 [==============================] - 0s 36us/sample - loss: 0.7722 - inflam_loss: 0.6110 - nephr_loss: 0.8058 - inflam_acc: 0.7000 - nephr_mse: 0.2972\n",
      "Epoch 495/1000\n",
      "80/80 [==============================] - 0s 36us/sample - loss: 0.7716 - inflam_loss: 0.6106 - nephr_loss: 0.8053 - inflam_acc: 0.7625 - nephr_mse: 0.2978\n",
      "Epoch 496/1000\n",
      "80/80 [==============================] - 0s 962us/sample - loss: 0.7711 - inflam_loss: 0.6101 - nephr_loss: 0.8047 - inflam_acc: 0.7000 - nephr_mse: 0.2969\n",
      "Epoch 497/1000\n",
      "80/80 [==============================] - 0s 50us/sample - loss: 0.7705 - inflam_loss: 0.6097 - nephr_loss: 0.8042 - inflam_acc: 0.7625 - nephr_mse: 0.2971\n",
      "Epoch 498/1000\n",
      "80/80 [==============================] - 0s 51us/sample - loss: 0.7700 - inflam_loss: 0.6092 - nephr_loss: 0.8036 - inflam_acc: 0.7000 - nephr_mse: 0.2965\n",
      "Epoch 499/1000\n",
      "80/80 [==============================] - 0s 34us/sample - loss: 0.7694 - inflam_loss: 0.6088 - nephr_loss: 0.8031 - inflam_acc: 0.7625 - nephr_mse: 0.2966\n",
      "Epoch 500/1000\n",
      "80/80 [==============================] - 0s 30us/sample - loss: 0.7688 - inflam_loss: 0.6083 - nephr_loss: 0.8026 - inflam_acc: 0.7000 - nephr_mse: 0.2961\n",
      "Epoch 501/1000\n",
      "80/80 [==============================] - 0s 29us/sample - loss: 0.7683 - inflam_loss: 0.6079 - nephr_loss: 0.8021 - inflam_acc: 0.7625 - nephr_mse: 0.2961\n",
      "Epoch 502/1000\n",
      "80/80 [==============================] - 0s 1ms/sample - loss: 0.7677 - inflam_loss: 0.6074 - nephr_loss: 0.8016 - inflam_acc: 0.7000 - nephr_mse: 0.2956\n",
      "Epoch 503/1000\n",
      "80/80 [==============================] - 0s 49us/sample - loss: 0.7672 - inflam_loss: 0.6070 - nephr_loss: 0.8010 - inflam_acc: 0.7625 - nephr_mse: 0.2957\n",
      "Epoch 504/1000\n",
      "80/80 [==============================] - 0s 61us/sample - loss: 0.7666 - inflam_loss: 0.6065 - nephr_loss: 0.8005 - inflam_acc: 0.7000 - nephr_mse: 0.2951\n",
      "Epoch 505/1000\n",
      "80/80 [==============================] - 0s 40us/sample - loss: 0.7661 - inflam_loss: 0.6061 - nephr_loss: 0.8000 - inflam_acc: 0.7625 - nephr_mse: 0.2953\n",
      "Epoch 506/1000\n",
      "80/80 [==============================] - 0s 37us/sample - loss: 0.7655 - inflam_loss: 0.6056 - nephr_loss: 0.7995 - inflam_acc: 0.7000 - nephr_mse: 0.2945\n",
      "Epoch 507/1000\n",
      "80/80 [==============================] - 0s 1ms/sample - loss: 0.7650 - inflam_loss: 0.6052 - nephr_loss: 0.7990 - inflam_acc: 0.7625 - nephr_mse: 0.2950\n",
      "Epoch 508/1000\n",
      "80/80 [==============================] - 0s 64us/sample - loss: 0.7644 - inflam_loss: 0.6047 - nephr_loss: 0.7985 - inflam_acc: 0.7000 - nephr_mse: 0.2940\n",
      "Epoch 509/1000\n",
      "80/80 [==============================] - 0s 47us/sample - loss: 0.7639 - inflam_loss: 0.6043 - nephr_loss: 0.7980 - inflam_acc: 0.7625 - nephr_mse: 0.2945\n",
      "Epoch 510/1000\n",
      "80/80 [==============================] - 0s 43us/sample - loss: 0.7633 - inflam_loss: 0.6038 - nephr_loss: 0.7974 - inflam_acc: 0.7000 - nephr_mse: 0.2936\n",
      "Epoch 511/1000\n",
      "80/80 [==============================] - 0s 35us/sample - loss: 0.7628 - inflam_loss: 0.6034 - nephr_loss: 0.7969 - inflam_acc: 0.7625 - nephr_mse: 0.2939\n",
      "Epoch 512/1000\n",
      "80/80 [==============================] - 0s 1ms/sample - loss: 0.7622 - inflam_loss: 0.6029 - nephr_loss: 0.7964 - inflam_acc: 0.7000 - nephr_mse: 0.2932\n",
      "Epoch 513/1000\n",
      "80/80 [==============================] - 0s 42us/sample - loss: 0.7617 - inflam_loss: 0.6025 - nephr_loss: 0.7959 - inflam_acc: 0.7625 - nephr_mse: 0.2934\n",
      "Epoch 514/1000\n",
      "80/80 [==============================] - 0s 41us/sample - loss: 0.7611 - inflam_loss: 0.6020 - nephr_loss: 0.7953 - inflam_acc: 0.7000 - nephr_mse: 0.2928\n",
      "Epoch 515/1000\n",
      "80/80 [==============================] - 0s 40us/sample - loss: 0.7606 - inflam_loss: 0.6016 - nephr_loss: 0.7948 - inflam_acc: 0.7625 - nephr_mse: 0.2929\n",
      "Epoch 516/1000\n",
      "80/80 [==============================] - 0s 42us/sample - loss: 0.7600 - inflam_loss: 0.6011 - nephr_loss: 0.7943 - inflam_acc: 0.7000 - nephr_mse: 0.2923\n",
      "Epoch 517/1000\n",
      "80/80 [==============================] - 0s 42us/sample - loss: 0.7595 - inflam_loss: 0.6007 - nephr_loss: 0.7938 - inflam_acc: 0.7625 - nephr_mse: 0.2925\n",
      "Epoch 518/1000\n",
      "80/80 [==============================] - 0s 1ms/sample - loss: 0.7589 - inflam_loss: 0.6003 - nephr_loss: 0.7933 - inflam_acc: 0.7000 - nephr_mse: 0.2918\n",
      "Epoch 519/1000\n",
      "80/80 [==============================] - 0s 73us/sample - loss: 0.7584 - inflam_loss: 0.5998 - nephr_loss: 0.7928 - inflam_acc: 0.7625 - nephr_mse: 0.2921\n",
      "Epoch 520/1000\n",
      "80/80 [==============================] - 0s 35us/sample - loss: 0.7578 - inflam_loss: 0.5994 - nephr_loss: 0.7923 - inflam_acc: 0.7000 - nephr_mse: 0.2913\n",
      "Epoch 521/1000\n",
      "80/80 [==============================] - 0s 33us/sample - loss: 0.7573 - inflam_loss: 0.5989 - nephr_loss: 0.7918 - inflam_acc: 0.7625 - nephr_mse: 0.2916\n",
      "Epoch 522/1000\n",
      "80/80 [==============================] - 0s 33us/sample - loss: 0.7567 - inflam_loss: 0.5985 - nephr_loss: 0.7913 - inflam_acc: 0.7000 - nephr_mse: 0.2908\n",
      "Epoch 523/1000\n",
      "80/80 [==============================] - 0s 34us/sample - loss: 0.7562 - inflam_loss: 0.5980 - nephr_loss: 0.7908 - inflam_acc: 0.7625 - nephr_mse: 0.2912\n",
      "Epoch 524/1000\n",
      "80/80 [==============================] - 0s 31us/sample - loss: 0.7556 - inflam_loss: 0.5976 - nephr_loss: 0.7902 - inflam_acc: 0.7000 - nephr_mse: 0.2904\n",
      "Epoch 525/1000\n",
      "80/80 [==============================] - 0s 970us/sample - loss: 0.7551 - inflam_loss: 0.5971 - nephr_loss: 0.7897 - inflam_acc: 0.7625 - nephr_mse: 0.2907\n",
      "Epoch 526/1000\n",
      "80/80 [==============================] - 0s 54us/sample - loss: 0.7545 - inflam_loss: 0.5967 - nephr_loss: 0.7892 - inflam_acc: 0.7000 - nephr_mse: 0.2899\n",
      "Epoch 527/1000\n",
      "80/80 [==============================] - 0s 42us/sample - loss: 0.7540 - inflam_loss: 0.5963 - nephr_loss: 0.7887 - inflam_acc: 0.7625 - nephr_mse: 0.2902\n",
      "Epoch 528/1000\n",
      "80/80 [==============================] - 0s 38us/sample - loss: 0.7535 - inflam_loss: 0.5958 - nephr_loss: 0.7882 - inflam_acc: 0.7000 - nephr_mse: 0.2895\n",
      "Epoch 529/1000\n",
      "80/80 [==============================] - 0s 1ms/sample - loss: 0.7529 - inflam_loss: 0.5954 - nephr_loss: 0.7877 - inflam_acc: 0.7625 - nephr_mse: 0.2897\n",
      "Epoch 530/1000\n",
      "80/80 [==============================] - 0s 51us/sample - loss: 0.7524 - inflam_loss: 0.5949 - nephr_loss: 0.7872 - inflam_acc: 0.7000 - nephr_mse: 0.2890\n",
      "Epoch 531/1000\n",
      "80/80 [==============================] - 0s 49us/sample - loss: 0.7518 - inflam_loss: 0.5945 - nephr_loss: 0.7867 - inflam_acc: 0.7625 - nephr_mse: 0.2893\n",
      "Epoch 532/1000\n",
      "80/80 [==============================] - 0s 47us/sample - loss: 0.7513 - inflam_loss: 0.5940 - nephr_loss: 0.7862 - inflam_acc: 0.7000 - nephr_mse: 0.2885\n",
      "Epoch 533/1000\n",
      "80/80 [==============================] - 0s 36us/sample - loss: 0.7507 - inflam_loss: 0.5936 - nephr_loss: 0.7857 - inflam_acc: 0.7625 - nephr_mse: 0.2888\n",
      "Epoch 534/1000\n",
      "80/80 [==============================] - 0s 37us/sample - loss: 0.7502 - inflam_loss: 0.5932 - nephr_loss: 0.7852 - inflam_acc: 0.7000 - nephr_mse: 0.2881\n",
      "Epoch 535/1000\n",
      "80/80 [==============================] - 0s 1ms/sample - loss: 0.7497 - inflam_loss: 0.5927 - nephr_loss: 0.7847 - inflam_acc: 0.7625 - nephr_mse: 0.2884\n",
      "Epoch 536/1000\n",
      "80/80 [==============================] - 0s 47us/sample - loss: 0.7491 - inflam_loss: 0.5923 - nephr_loss: 0.7842 - inflam_acc: 0.7000 - nephr_mse: 0.2876\n",
      "Epoch 537/1000\n",
      "80/80 [==============================] - 0s 41us/sample - loss: 0.7486 - inflam_loss: 0.5918 - nephr_loss: 0.7836 - inflam_acc: 0.7625 - nephr_mse: 0.2879\n",
      "Epoch 538/1000\n",
      "80/80 [==============================] - 0s 47us/sample - loss: 0.7480 - inflam_loss: 0.5914 - nephr_loss: 0.7831 - inflam_acc: 0.7000 - nephr_mse: 0.2872\n",
      "Epoch 539/1000\n",
      "80/80 [==============================] - 0s 36us/sample - loss: 0.7475 - inflam_loss: 0.5910 - nephr_loss: 0.7826 - inflam_acc: 0.7625 - nephr_mse: 0.2875\n",
      "Epoch 540/1000\n",
      "80/80 [==============================] - 0s 35us/sample - loss: 0.7469 - inflam_loss: 0.5905 - nephr_loss: 0.7821 - inflam_acc: 0.7000 - nephr_mse: 0.2867\n",
      "Epoch 541/1000\n",
      "80/80 [==============================] - 0s 51us/sample - loss: 0.7464 - inflam_loss: 0.5901 - nephr_loss: 0.7816 - inflam_acc: 0.7625 - nephr_mse: 0.2870\n",
      "Epoch 542/1000\n",
      "80/80 [==============================] - 0s 43us/sample - loss: 0.7459 - inflam_loss: 0.5896 - nephr_loss: 0.7811 - inflam_acc: 0.7000 - nephr_mse: 0.2863\n",
      "Epoch 543/1000\n",
      "80/80 [==============================] - 0s 43us/sample - loss: 0.7453 - inflam_loss: 0.5892 - nephr_loss: 0.7806 - inflam_acc: 0.7625 - nephr_mse: 0.2865\n",
      "Epoch 544/1000\n",
      "80/80 [==============================] - 0s 34us/sample - loss: 0.7448 - inflam_loss: 0.5888 - nephr_loss: 0.7801 - inflam_acc: 0.7000 - nephr_mse: 0.2858\n",
      "Epoch 545/1000\n",
      "80/80 [==============================] - 0s 35us/sample - loss: 0.7443 - inflam_loss: 0.5883 - nephr_loss: 0.7796 - inflam_acc: 0.7625 - nephr_mse: 0.2861\n",
      "Epoch 546/1000\n",
      "80/80 [==============================] - 0s 1ms/sample - loss: 0.7437 - inflam_loss: 0.5879 - nephr_loss: 0.7791 - inflam_acc: 0.7000 - nephr_mse: 0.2853\n",
      "Epoch 547/1000\n",
      "80/80 [==============================] - 0s 50us/sample - loss: 0.7432 - inflam_loss: 0.5875 - nephr_loss: 0.7786 - inflam_acc: 0.7625 - nephr_mse: 0.2856\n",
      "Epoch 548/1000\n",
      "80/80 [==============================] - 0s 40us/sample - loss: 0.7426 - inflam_loss: 0.5870 - nephr_loss: 0.7781 - inflam_acc: 0.7000 - nephr_mse: 0.2849\n",
      "Epoch 549/1000\n",
      "80/80 [==============================] - 0s 42us/sample - loss: 0.7421 - inflam_loss: 0.5866 - nephr_loss: 0.7776 - inflam_acc: 0.7625 - nephr_mse: 0.2852\n",
      "Epoch 550/1000\n",
      "80/80 [==============================] - 0s 37us/sample - loss: 0.7416 - inflam_loss: 0.5861 - nephr_loss: 0.7771 - inflam_acc: 0.7000 - nephr_mse: 0.2844\n",
      "Epoch 551/1000\n",
      "80/80 [==============================] - 0s 33us/sample - loss: 0.7410 - inflam_loss: 0.5857 - nephr_loss: 0.7766 - inflam_acc: 0.7500 - nephr_mse: 0.2847\n",
      "Epoch 552/1000\n",
      "80/80 [==============================] - 0s 985us/sample - loss: 0.7405 - inflam_loss: 0.5853 - nephr_loss: 0.7761 - inflam_acc: 0.7000 - nephr_mse: 0.2840\n",
      "Epoch 553/1000\n",
      "80/80 [==============================] - 0s 43us/sample - loss: 0.7400 - inflam_loss: 0.5848 - nephr_loss: 0.7756 - inflam_acc: 0.7500 - nephr_mse: 0.2843\n",
      "Epoch 554/1000\n",
      "80/80 [==============================] - 0s 36us/sample - loss: 0.7394 - inflam_loss: 0.5844 - nephr_loss: 0.7751 - inflam_acc: 0.7000 - nephr_mse: 0.2835\n",
      "Epoch 555/1000\n",
      "80/80 [==============================] - 0s 42us/sample - loss: 0.7389 - inflam_loss: 0.5840 - nephr_loss: 0.7746 - inflam_acc: 0.7500 - nephr_mse: 0.2838\n",
      "Epoch 556/1000\n",
      "80/80 [==============================] - 0s 34us/sample - loss: 0.7384 - inflam_loss: 0.5835 - nephr_loss: 0.7741 - inflam_acc: 0.7000 - nephr_mse: 0.2831\n",
      "Epoch 557/1000\n",
      "80/80 [==============================] - 0s 998us/sample - loss: 0.7378 - inflam_loss: 0.5831 - nephr_loss: 0.7736 - inflam_acc: 0.7500 - nephr_mse: 0.2834\n",
      "Epoch 558/1000\n",
      "80/80 [==============================] - 0s 50us/sample - loss: 0.7373 - inflam_loss: 0.5827 - nephr_loss: 0.7731 - inflam_acc: 0.7000 - nephr_mse: 0.2826\n",
      "Epoch 559/1000\n",
      "80/80 [==============================] - 0s 62us/sample - loss: 0.7368 - inflam_loss: 0.5822 - nephr_loss: 0.7726 - inflam_acc: 0.7500 - nephr_mse: 0.2829\n",
      "Epoch 560/1000\n",
      "80/80 [==============================] - 0s 36us/sample - loss: 0.7362 - inflam_loss: 0.5818 - nephr_loss: 0.7721 - inflam_acc: 0.7000 - nephr_mse: 0.2822\n",
      "Epoch 561/1000\n",
      "80/80 [==============================] - 0s 33us/sample - loss: 0.7357 - inflam_loss: 0.5814 - nephr_loss: 0.7717 - inflam_acc: 0.7500 - nephr_mse: 0.2825\n",
      "Epoch 562/1000\n",
      "80/80 [==============================] - 0s 36us/sample - loss: 0.7352 - inflam_loss: 0.5809 - nephr_loss: 0.7712 - inflam_acc: 0.7000 - nephr_mse: 0.2817\n",
      "Epoch 563/1000\n",
      "80/80 [==============================] - 0s 1ms/sample - loss: 0.7346 - inflam_loss: 0.5805 - nephr_loss: 0.7707 - inflam_acc: 0.7500 - nephr_mse: 0.2820\n",
      "Epoch 564/1000\n",
      "80/80 [==============================] - 0s 60us/sample - loss: 0.7341 - inflam_loss: 0.5801 - nephr_loss: 0.7702 - inflam_acc: 0.7000 - nephr_mse: 0.2813\n",
      "Epoch 565/1000\n",
      "80/80 [==============================] - 0s 39us/sample - loss: 0.7336 - inflam_loss: 0.5796 - nephr_loss: 0.7697 - inflam_acc: 0.7500 - nephr_mse: 0.2816\n",
      "Epoch 566/1000\n",
      "80/80 [==============================] - 0s 36us/sample - loss: 0.7330 - inflam_loss: 0.5792 - nephr_loss: 0.7692 - inflam_acc: 0.7000 - nephr_mse: 0.2809\n",
      "Epoch 567/1000\n",
      "80/80 [==============================] - 0s 34us/sample - loss: 0.7325 - inflam_loss: 0.5788 - nephr_loss: 0.7687 - inflam_acc: 0.7500 - nephr_mse: 0.2811\n",
      "Epoch 568/1000\n",
      "80/80 [==============================] - 0s 1ms/sample - loss: 0.7320 - inflam_loss: 0.5783 - nephr_loss: 0.7682 - inflam_acc: 0.7000 - nephr_mse: 0.2804\n",
      "Epoch 569/1000\n",
      "80/80 [==============================] - 0s 50us/sample - loss: 0.7314 - inflam_loss: 0.5779 - nephr_loss: 0.7677 - inflam_acc: 0.7500 - nephr_mse: 0.2807\n",
      "Epoch 570/1000\n",
      "80/80 [==============================] - 0s 40us/sample - loss: 0.7309 - inflam_loss: 0.5775 - nephr_loss: 0.7672 - inflam_acc: 0.7000 - nephr_mse: 0.2800\n",
      "Epoch 571/1000\n",
      "80/80 [==============================] - 0s 36us/sample - loss: 0.7304 - inflam_loss: 0.5770 - nephr_loss: 0.7667 - inflam_acc: 0.7500 - nephr_mse: 0.2802\n",
      "Epoch 572/1000\n",
      "80/80 [==============================] - 0s 35us/sample - loss: 0.7299 - inflam_loss: 0.5766 - nephr_loss: 0.7662 - inflam_acc: 0.7000 - nephr_mse: 0.2795\n",
      "Epoch 573/1000\n",
      "80/80 [==============================] - 0s 995us/sample - loss: 0.7293 - inflam_loss: 0.5762 - nephr_loss: 0.7658 - inflam_acc: 0.7500 - nephr_mse: 0.2798\n",
      "Epoch 574/1000\n",
      "80/80 [==============================] - 0s 65us/sample - loss: 0.7288 - inflam_loss: 0.5758 - nephr_loss: 0.7653 - inflam_acc: 0.7000 - nephr_mse: 0.2791\n",
      "Epoch 575/1000\n",
      "80/80 [==============================] - 0s 50us/sample - loss: 0.7283 - inflam_loss: 0.5753 - nephr_loss: 0.7648 - inflam_acc: 0.7500 - nephr_mse: 0.2794\n",
      "Epoch 576/1000\n",
      "80/80 [==============================] - 0s 47us/sample - loss: 0.7278 - inflam_loss: 0.5749 - nephr_loss: 0.7643 - inflam_acc: 0.7000 - nephr_mse: 0.2786\n",
      "Epoch 577/1000\n",
      "80/80 [==============================] - 0s 35us/sample - loss: 0.7272 - inflam_loss: 0.5745 - nephr_loss: 0.7638 - inflam_acc: 0.7500 - nephr_mse: 0.2789\n",
      "Epoch 578/1000\n",
      "80/80 [==============================] - 0s 30us/sample - loss: 0.7267 - inflam_loss: 0.5740 - nephr_loss: 0.7633 - inflam_acc: 0.7000 - nephr_mse: 0.2782\n",
      "Epoch 579/1000\n",
      "80/80 [==============================] - 0s 971us/sample - loss: 0.7262 - inflam_loss: 0.5736 - nephr_loss: 0.7628 - inflam_acc: 0.7375 - nephr_mse: 0.2785\n",
      "Epoch 580/1000\n",
      "80/80 [==============================] - 0s 53us/sample - loss: 0.7257 - inflam_loss: 0.5732 - nephr_loss: 0.7623 - inflam_acc: 0.7000 - nephr_mse: 0.2778\n",
      "Epoch 581/1000\n",
      "80/80 [==============================] - 0s 53us/sample - loss: 0.7251 - inflam_loss: 0.5728 - nephr_loss: 0.7619 - inflam_acc: 0.7375 - nephr_mse: 0.2780\n",
      "Epoch 582/1000\n",
      "80/80 [==============================] - 0s 42us/sample - loss: 0.7246 - inflam_loss: 0.5723 - nephr_loss: 0.7614 - inflam_acc: 0.7000 - nephr_mse: 0.2773\n",
      "Epoch 583/1000\n",
      "80/80 [==============================] - 0s 1ms/sample - loss: 0.7241 - inflam_loss: 0.5719 - nephr_loss: 0.7609 - inflam_acc: 0.7375 - nephr_mse: 0.2776\n",
      "Epoch 584/1000\n",
      "80/80 [==============================] - 0s 58us/sample - loss: 0.7236 - inflam_loss: 0.5715 - nephr_loss: 0.7604 - inflam_acc: 0.7000 - nephr_mse: 0.2769\n",
      "Epoch 585/1000\n",
      "80/80 [==============================] - 0s 45us/sample - loss: 0.7230 - inflam_loss: 0.5710 - nephr_loss: 0.7599 - inflam_acc: 0.7375 - nephr_mse: 0.2772\n",
      "Epoch 586/1000\n",
      "80/80 [==============================] - 0s 50us/sample - loss: 0.7225 - inflam_loss: 0.5706 - nephr_loss: 0.7594 - inflam_acc: 0.7000 - nephr_mse: 0.2764\n",
      "Epoch 587/1000\n",
      "80/80 [==============================] - 0s 1ms/sample - loss: 0.7220 - inflam_loss: 0.5702 - nephr_loss: 0.7589 - inflam_acc: 0.7375 - nephr_mse: 0.2767\n",
      "Epoch 588/1000\n",
      "80/80 [==============================] - 0s 53us/sample - loss: 0.7215 - inflam_loss: 0.5698 - nephr_loss: 0.7585 - inflam_acc: 0.7000 - nephr_mse: 0.2760\n",
      "Epoch 589/1000\n",
      "80/80 [==============================] - 0s 46us/sample - loss: 0.7209 - inflam_loss: 0.5693 - nephr_loss: 0.7580 - inflam_acc: 0.7375 - nephr_mse: 0.2763\n",
      "Epoch 590/1000\n",
      "80/80 [==============================] - 0s 32us/sample - loss: 0.7204 - inflam_loss: 0.5689 - nephr_loss: 0.7575 - inflam_acc: 0.7000 - nephr_mse: 0.2756\n",
      "Epoch 591/1000\n",
      "80/80 [==============================] - 0s 37us/sample - loss: 0.7199 - inflam_loss: 0.5685 - nephr_loss: 0.7570 - inflam_acc: 0.7250 - nephr_mse: 0.2758\n",
      "Epoch 592/1000\n",
      "80/80 [==============================] - 0s 33us/sample - loss: 0.7194 - inflam_loss: 0.5681 - nephr_loss: 0.7565 - inflam_acc: 0.7000 - nephr_mse: 0.2751\n",
      "Epoch 593/1000\n",
      "80/80 [==============================] - 0s 1ms/sample - loss: 0.7189 - inflam_loss: 0.5676 - nephr_loss: 0.7561 - inflam_acc: 0.7250 - nephr_mse: 0.2754\n",
      "Epoch 594/1000\n",
      "80/80 [==============================] - 0s 76us/sample - loss: 0.7183 - inflam_loss: 0.5672 - nephr_loss: 0.7556 - inflam_acc: 0.7000 - nephr_mse: 0.2747\n",
      "Epoch 595/1000\n",
      "80/80 [==============================] - 0s 48us/sample - loss: 0.7178 - inflam_loss: 0.5668 - nephr_loss: 0.7551 - inflam_acc: 0.7250 - nephr_mse: 0.2750\n",
      "Epoch 596/1000\n",
      "80/80 [==============================] - 0s 31us/sample - loss: 0.7173 - inflam_loss: 0.5664 - nephr_loss: 0.7546 - inflam_acc: 0.7000 - nephr_mse: 0.2743\n",
      "Epoch 597/1000\n",
      "80/80 [==============================] - 0s 37us/sample - loss: 0.7168 - inflam_loss: 0.5660 - nephr_loss: 0.7541 - inflam_acc: 0.7125 - nephr_mse: 0.2745\n",
      "Epoch 598/1000\n",
      "80/80 [==============================] - 0s 969us/sample - loss: 0.7163 - inflam_loss: 0.5655 - nephr_loss: 0.7537 - inflam_acc: 0.7000 - nephr_mse: 0.2738\n",
      "Epoch 599/1000\n",
      "80/80 [==============================] - 0s 62us/sample - loss: 0.7157 - inflam_loss: 0.5651 - nephr_loss: 0.7532 - inflam_acc: 0.7125 - nephr_mse: 0.2741\n",
      "Epoch 600/1000\n",
      "80/80 [==============================] - 0s 49us/sample - loss: 0.7152 - inflam_loss: 0.5647 - nephr_loss: 0.7527 - inflam_acc: 0.7000 - nephr_mse: 0.2734\n",
      "Epoch 601/1000\n",
      "80/80 [==============================] - 0s 52us/sample - loss: 0.7147 - inflam_loss: 0.5643 - nephr_loss: 0.7522 - inflam_acc: 0.7000 - nephr_mse: 0.2737\n",
      "Epoch 602/1000\n",
      "80/80 [==============================] - 0s 37us/sample - loss: 0.7142 - inflam_loss: 0.5638 - nephr_loss: 0.7517 - inflam_acc: 0.7000 - nephr_mse: 0.2730\n",
      "Epoch 603/1000\n",
      "80/80 [==============================] - 0s 35us/sample - loss: 0.7137 - inflam_loss: 0.5634 - nephr_loss: 0.7513 - inflam_acc: 0.7000 - nephr_mse: 0.2732\n",
      "Epoch 604/1000\n",
      "80/80 [==============================] - 0s 947us/sample - loss: 0.7132 - inflam_loss: 0.5630 - nephr_loss: 0.7508 - inflam_acc: 0.7000 - nephr_mse: 0.2725\n",
      "Epoch 605/1000\n",
      "80/80 [==============================] - 0s 50us/sample - loss: 0.7126 - inflam_loss: 0.5626 - nephr_loss: 0.7503 - inflam_acc: 0.7000 - nephr_mse: 0.2728\n",
      "Epoch 606/1000\n",
      "80/80 [==============================] - 0s 49us/sample - loss: 0.7121 - inflam_loss: 0.5622 - nephr_loss: 0.7498 - inflam_acc: 0.7000 - nephr_mse: 0.2721\n",
      "Epoch 607/1000\n",
      "80/80 [==============================] - 0s 52us/sample - loss: 0.7116 - inflam_loss: 0.5617 - nephr_loss: 0.7494 - inflam_acc: 0.7000 - nephr_mse: 0.2724\n",
      "Epoch 608/1000\n",
      "80/80 [==============================] - 0s 37us/sample - loss: 0.7111 - inflam_loss: 0.5613 - nephr_loss: 0.7489 - inflam_acc: 0.7000 - nephr_mse: 0.2717\n",
      "Epoch 609/1000\n",
      "80/80 [==============================] - 0s 36us/sample - loss: 0.7106 - inflam_loss: 0.5609 - nephr_loss: 0.7484 - inflam_acc: 0.7000 - nephr_mse: 0.2720\n",
      "Epoch 610/1000\n",
      "80/80 [==============================] - 0s 992us/sample - loss: 0.7101 - inflam_loss: 0.5605 - nephr_loss: 0.7479 - inflam_acc: 0.7000 - nephr_mse: 0.2713\n",
      "Epoch 611/1000\n",
      "80/80 [==============================] - 0s 51us/sample - loss: 0.7096 - inflam_loss: 0.5601 - nephr_loss: 0.7475 - inflam_acc: 0.7000 - nephr_mse: 0.2715\n",
      "Epoch 612/1000\n",
      "80/80 [==============================] - 0s 41us/sample - loss: 0.7090 - inflam_loss: 0.5596 - nephr_loss: 0.7470 - inflam_acc: 0.7000 - nephr_mse: 0.2708\n",
      "Epoch 613/1000\n",
      "80/80 [==============================] - 0s 38us/sample - loss: 0.7085 - inflam_loss: 0.5592 - nephr_loss: 0.7465 - inflam_acc: 0.7000 - nephr_mse: 0.2711\n",
      "Epoch 614/1000\n",
      "80/80 [==============================] - 0s 32us/sample - loss: 0.7080 - inflam_loss: 0.5588 - nephr_loss: 0.7461 - inflam_acc: 0.7000 - nephr_mse: 0.2704\n",
      "Epoch 615/1000\n",
      "80/80 [==============================] - 0s 991us/sample - loss: 0.7075 - inflam_loss: 0.5584 - nephr_loss: 0.7456 - inflam_acc: 0.7000 - nephr_mse: 0.2707\n",
      "Epoch 616/1000\n",
      "80/80 [==============================] - 0s 54us/sample - loss: 0.7070 - inflam_loss: 0.5580 - nephr_loss: 0.7451 - inflam_acc: 0.7000 - nephr_mse: 0.2700\n",
      "Epoch 617/1000\n",
      "80/80 [==============================] - 0s 44us/sample - loss: 0.7065 - inflam_loss: 0.5576 - nephr_loss: 0.7446 - inflam_acc: 0.7000 - nephr_mse: 0.2702\n",
      "Epoch 618/1000\n",
      "80/80 [==============================] - 0s 36us/sample - loss: 0.7060 - inflam_loss: 0.5571 - nephr_loss: 0.7442 - inflam_acc: 0.7000 - nephr_mse: 0.2696\n",
      "Epoch 619/1000\n",
      "80/80 [==============================] - 0s 31us/sample - loss: 0.7055 - inflam_loss: 0.5567 - nephr_loss: 0.7437 - inflam_acc: 0.7000 - nephr_mse: 0.2698\n",
      "Epoch 620/1000\n",
      "80/80 [==============================] - 0s 34us/sample - loss: 0.7050 - inflam_loss: 0.5563 - nephr_loss: 0.7432 - inflam_acc: 0.7000 - nephr_mse: 0.2691\n",
      "Epoch 621/1000\n",
      "80/80 [==============================] - 0s 1ms/sample - loss: 0.7044 - inflam_loss: 0.5559 - nephr_loss: 0.7428 - inflam_acc: 0.7000 - nephr_mse: 0.2694\n",
      "Epoch 622/1000\n",
      "80/80 [==============================] - 0s 44us/sample - loss: 0.7039 - inflam_loss: 0.5555 - nephr_loss: 0.7423 - inflam_acc: 0.7000 - nephr_mse: 0.2687\n",
      "Epoch 623/1000\n",
      "80/80 [==============================] - 0s 34us/sample - loss: 0.7034 - inflam_loss: 0.5551 - nephr_loss: 0.7418 - inflam_acc: 0.7000 - nephr_mse: 0.2690\n",
      "Epoch 624/1000\n",
      "80/80 [==============================] - 0s 50us/sample - loss: 0.7029 - inflam_loss: 0.5547 - nephr_loss: 0.7414 - inflam_acc: 0.7000 - nephr_mse: 0.2683\n",
      "Epoch 625/1000\n",
      "80/80 [==============================] - 0s 49us/sample - loss: 0.7024 - inflam_loss: 0.5542 - nephr_loss: 0.7409 - inflam_acc: 0.7000 - nephr_mse: 0.2686\n",
      "Epoch 626/1000\n",
      "80/80 [==============================] - 0s 1ms/sample - loss: 0.7019 - inflam_loss: 0.5538 - nephr_loss: 0.7404 - inflam_acc: 0.7000 - nephr_mse: 0.2679\n",
      "Epoch 627/1000\n",
      "80/80 [==============================] - 0s 45us/sample - loss: 0.7014 - inflam_loss: 0.5534 - nephr_loss: 0.7400 - inflam_acc: 0.7000 - nephr_mse: 0.2681\n",
      "Epoch 628/1000\n",
      "80/80 [==============================] - 0s 47us/sample - loss: 0.7009 - inflam_loss: 0.5530 - nephr_loss: 0.7395 - inflam_acc: 0.7000 - nephr_mse: 0.2675\n",
      "Epoch 629/1000\n",
      "80/80 [==============================] - 0s 51us/sample - loss: 0.7004 - inflam_loss: 0.5526 - nephr_loss: 0.7390 - inflam_acc: 0.7000 - nephr_mse: 0.2677\n",
      "Epoch 630/1000\n",
      "80/80 [==============================] - 0s 33us/sample - loss: 0.6999 - inflam_loss: 0.5522 - nephr_loss: 0.7386 - inflam_acc: 0.7000 - nephr_mse: 0.2670\n",
      "Epoch 631/1000\n",
      "80/80 [==============================] - 0s 1ms/sample - loss: 0.6994 - inflam_loss: 0.5518 - nephr_loss: 0.7381 - inflam_acc: 0.7000 - nephr_mse: 0.2673\n",
      "Epoch 632/1000\n",
      "80/80 [==============================] - 0s 40us/sample - loss: 0.6989 - inflam_loss: 0.5513 - nephr_loss: 0.7376 - inflam_acc: 0.7000 - nephr_mse: 0.2666\n",
      "Epoch 633/1000\n",
      "80/80 [==============================] - 0s 36us/sample - loss: 0.6984 - inflam_loss: 0.5509 - nephr_loss: 0.7372 - inflam_acc: 0.7000 - nephr_mse: 0.2669\n",
      "Epoch 634/1000\n",
      "80/80 [==============================] - 0s 34us/sample - loss: 0.6979 - inflam_loss: 0.5505 - nephr_loss: 0.7367 - inflam_acc: 0.7000 - nephr_mse: 0.2662\n",
      "Epoch 635/1000\n",
      "80/80 [==============================] - 0s 36us/sample - loss: 0.6974 - inflam_loss: 0.5501 - nephr_loss: 0.7362 - inflam_acc: 0.7000 - nephr_mse: 0.2665\n",
      "Epoch 636/1000\n",
      "80/80 [==============================] - 0s 1ms/sample - loss: 0.6968 - inflam_loss: 0.5497 - nephr_loss: 0.7358 - inflam_acc: 0.7000 - nephr_mse: 0.2658\n",
      "Epoch 637/1000\n",
      "80/80 [==============================] - 0s 58us/sample - loss: 0.6963 - inflam_loss: 0.5493 - nephr_loss: 0.7353 - inflam_acc: 0.7000 - nephr_mse: 0.2661\n",
      "Epoch 638/1000\n",
      "80/80 [==============================] - 0s 45us/sample - loss: 0.6958 - inflam_loss: 0.5489 - nephr_loss: 0.7348 - inflam_acc: 0.7000 - nephr_mse: 0.2654\n",
      "Epoch 639/1000\n",
      "80/80 [==============================] - 0s 34us/sample - loss: 0.6953 - inflam_loss: 0.5485 - nephr_loss: 0.7344 - inflam_acc: 0.7000 - nephr_mse: 0.2656\n",
      "Epoch 640/1000\n",
      "80/80 [==============================] - 0s 33us/sample - loss: 0.6948 - inflam_loss: 0.5480 - nephr_loss: 0.7339 - inflam_acc: 0.7000 - nephr_mse: 0.2650\n",
      "Epoch 641/1000\n",
      "80/80 [==============================] - 0s 32us/sample - loss: 0.6943 - inflam_loss: 0.5476 - nephr_loss: 0.7335 - inflam_acc: 0.7000 - nephr_mse: 0.2652\n",
      "Epoch 642/1000\n",
      "80/80 [==============================] - 0s 975us/sample - loss: 0.6938 - inflam_loss: 0.5472 - nephr_loss: 0.7330 - inflam_acc: 0.7000 - nephr_mse: 0.2646\n",
      "Epoch 643/1000\n",
      "80/80 [==============================] - 0s 51us/sample - loss: 0.6933 - inflam_loss: 0.5468 - nephr_loss: 0.7325 - inflam_acc: 0.7000 - nephr_mse: 0.2648\n",
      "Epoch 644/1000\n",
      "80/80 [==============================] - 0s 53us/sample - loss: 0.6928 - inflam_loss: 0.5464 - nephr_loss: 0.7321 - inflam_acc: 0.7000 - nephr_mse: 0.2641\n",
      "Epoch 645/1000\n",
      "80/80 [==============================] - 0s 50us/sample - loss: 0.6923 - inflam_loss: 0.5460 - nephr_loss: 0.7316 - inflam_acc: 0.7000 - nephr_mse: 0.2644\n",
      "Epoch 646/1000\n",
      "80/80 [==============================] - 0s 37us/sample - loss: 0.6918 - inflam_loss: 0.5456 - nephr_loss: 0.7311 - inflam_acc: 0.7000 - nephr_mse: 0.2637\n",
      "Epoch 647/1000\n",
      "80/80 [==============================] - 0s 984us/sample - loss: 0.6913 - inflam_loss: 0.5452 - nephr_loss: 0.7307 - inflam_acc: 0.7000 - nephr_mse: 0.2640\n",
      "Epoch 648/1000\n",
      "80/80 [==============================] - 0s 46us/sample - loss: 0.6908 - inflam_loss: 0.5448 - nephr_loss: 0.7302 - inflam_acc: 0.7000 - nephr_mse: 0.2633\n",
      "Epoch 649/1000\n",
      "80/80 [==============================] - 0s 44us/sample - loss: 0.6903 - inflam_loss: 0.5444 - nephr_loss: 0.7298 - inflam_acc: 0.7000 - nephr_mse: 0.2636\n",
      "Epoch 650/1000\n",
      "80/80 [==============================] - 0s 48us/sample - loss: 0.6898 - inflam_loss: 0.5440 - nephr_loss: 0.7293 - inflam_acc: 0.7000 - nephr_mse: 0.2629\n",
      "Epoch 651/1000\n",
      "80/80 [==============================] - 0s 41us/sample - loss: 0.6893 - inflam_loss: 0.5436 - nephr_loss: 0.7289 - inflam_acc: 0.7000 - nephr_mse: 0.2632\n",
      "Epoch 652/1000\n",
      "80/80 [==============================] - 0s 38us/sample - loss: 0.6888 - inflam_loss: 0.5431 - nephr_loss: 0.7284 - inflam_acc: 0.7000 - nephr_mse: 0.2625\n",
      "Epoch 653/1000\n",
      "80/80 [==============================] - 0s 45us/sample - loss: 0.6883 - inflam_loss: 0.5427 - nephr_loss: 0.7279 - inflam_acc: 0.7000 - nephr_mse: 0.2628\n",
      "Epoch 654/1000\n",
      "80/80 [==============================] - 0s 53us/sample - loss: 0.6878 - inflam_loss: 0.5423 - nephr_loss: 0.7275 - inflam_acc: 0.7000 - nephr_mse: 0.2621\n",
      "Epoch 655/1000\n",
      "80/80 [==============================] - 0s 48us/sample - loss: 0.6873 - inflam_loss: 0.5419 - nephr_loss: 0.7270 - inflam_acc: 0.7000 - nephr_mse: 0.2624\n",
      "Epoch 656/1000\n",
      "80/80 [==============================] - 0s 44us/sample - loss: 0.6868 - inflam_loss: 0.5415 - nephr_loss: 0.7266 - inflam_acc: 0.7000 - nephr_mse: 0.2617\n",
      "Epoch 657/1000\n",
      "80/80 [==============================] - 0s 37us/sample - loss: 0.6863 - inflam_loss: 0.5411 - nephr_loss: 0.7261 - inflam_acc: 0.7000 - nephr_mse: 0.2620\n",
      "Epoch 658/1000\n",
      "80/80 [==============================] - 0s 994us/sample - loss: 0.6858 - inflam_loss: 0.5407 - nephr_loss: 0.7256 - inflam_acc: 0.7000 - nephr_mse: 0.2613\n",
      "Epoch 659/1000\n",
      "80/80 [==============================] - 0s 36us/sample - loss: 0.6853 - inflam_loss: 0.5403 - nephr_loss: 0.7252 - inflam_acc: 0.7000 - nephr_mse: 0.2616\n",
      "Epoch 660/1000\n",
      "80/80 [==============================] - 0s 61us/sample - loss: 0.6848 - inflam_loss: 0.5399 - nephr_loss: 0.7247 - inflam_acc: 0.7000 - nephr_mse: 0.2609\n",
      "Epoch 661/1000\n",
      "80/80 [==============================] - 0s 46us/sample - loss: 0.6844 - inflam_loss: 0.5395 - nephr_loss: 0.7243 - inflam_acc: 0.7000 - nephr_mse: 0.2612\n",
      "Epoch 662/1000\n",
      "80/80 [==============================] - 0s 29us/sample - loss: 0.6839 - inflam_loss: 0.5391 - nephr_loss: 0.7238 - inflam_acc: 0.7000 - nephr_mse: 0.2605\n",
      "Epoch 663/1000\n",
      "80/80 [==============================] - 0s 31us/sample - loss: 0.6834 - inflam_loss: 0.5387 - nephr_loss: 0.7234 - inflam_acc: 0.7000 - nephr_mse: 0.2608\n",
      "Epoch 664/1000\n",
      "80/80 [==============================] - 0s 963us/sample - loss: 0.6829 - inflam_loss: 0.5383 - nephr_loss: 0.7229 - inflam_acc: 0.7000 - nephr_mse: 0.2601\n",
      "Epoch 665/1000\n",
      "80/80 [==============================] - 0s 54us/sample - loss: 0.6824 - inflam_loss: 0.5379 - nephr_loss: 0.7225 - inflam_acc: 0.7000 - nephr_mse: 0.2604\n",
      "Epoch 666/1000\n",
      "80/80 [==============================] - 0s 36us/sample - loss: 0.6819 - inflam_loss: 0.5375 - nephr_loss: 0.7220 - inflam_acc: 0.7000 - nephr_mse: 0.2597\n",
      "Epoch 667/1000\n",
      "80/80 [==============================] - 0s 69us/sample - loss: 0.6814 - inflam_loss: 0.5371 - nephr_loss: 0.7215 - inflam_acc: 0.7000 - nephr_mse: 0.2600\n",
      "Epoch 668/1000\n",
      "80/80 [==============================] - 0s 43us/sample - loss: 0.6809 - inflam_loss: 0.5367 - nephr_loss: 0.7211 - inflam_acc: 0.7000 - nephr_mse: 0.2593\n",
      "Epoch 669/1000\n",
      "80/80 [==============================] - 0s 1ms/sample - loss: 0.6804 - inflam_loss: 0.5363 - nephr_loss: 0.7206 - inflam_acc: 0.7000 - nephr_mse: 0.2596\n",
      "Epoch 670/1000\n",
      "80/80 [==============================] - 0s 59us/sample - loss: 0.6799 - inflam_loss: 0.5359 - nephr_loss: 0.7202 - inflam_acc: 0.7000 - nephr_mse: 0.2589\n",
      "Epoch 671/1000\n",
      "80/80 [==============================] - 0s 42us/sample - loss: 0.6794 - inflam_loss: 0.5355 - nephr_loss: 0.7197 - inflam_acc: 0.7000 - nephr_mse: 0.2592\n",
      "Epoch 672/1000\n",
      "80/80 [==============================] - 0s 38us/sample - loss: 0.6789 - inflam_loss: 0.5351 - nephr_loss: 0.7193 - inflam_acc: 0.7000 - nephr_mse: 0.2585\n",
      "Epoch 673/1000\n",
      "80/80 [==============================] - 0s 40us/sample - loss: 0.6784 - inflam_loss: 0.5347 - nephr_loss: 0.7188 - inflam_acc: 0.7000 - nephr_mse: 0.2588\n",
      "Epoch 674/1000\n",
      "80/80 [==============================] - 0s 41us/sample - loss: 0.6779 - inflam_loss: 0.5343 - nephr_loss: 0.7184 - inflam_acc: 0.7000 - nephr_mse: 0.2581\n",
      "Epoch 675/1000\n",
      "80/80 [==============================] - 0s 940us/sample - loss: 0.6774 - inflam_loss: 0.5339 - nephr_loss: 0.7179 - inflam_acc: 0.7000 - nephr_mse: 0.2584\n",
      "Epoch 676/1000\n",
      "80/80 [==============================] - 0s 44us/sample - loss: 0.6770 - inflam_loss: 0.5335 - nephr_loss: 0.7175 - inflam_acc: 0.7000 - nephr_mse: 0.2577\n",
      "Epoch 677/1000\n",
      "80/80 [==============================] - 0s 47us/sample - loss: 0.6765 - inflam_loss: 0.5331 - nephr_loss: 0.7170 - inflam_acc: 0.7000 - nephr_mse: 0.2580\n",
      "Epoch 678/1000\n",
      "80/80 [==============================] - 0s 38us/sample - loss: 0.6760 - inflam_loss: 0.5327 - nephr_loss: 0.7166 - inflam_acc: 0.7000 - nephr_mse: 0.2573\n",
      "Epoch 679/1000\n",
      "80/80 [==============================] - 0s 45us/sample - loss: 0.6755 - inflam_loss: 0.5323 - nephr_loss: 0.7161 - inflam_acc: 0.7000 - nephr_mse: 0.2576\n",
      "Epoch 680/1000\n",
      "80/80 [==============================] - 0s 34us/sample - loss: 0.6750 - inflam_loss: 0.5319 - nephr_loss: 0.7157 - inflam_acc: 0.7000 - nephr_mse: 0.2569\n",
      "Epoch 681/1000\n",
      "80/80 [==============================] - 0s 63us/sample - loss: 0.6745 - inflam_loss: 0.5315 - nephr_loss: 0.7152 - inflam_acc: 0.7000 - nephr_mse: 0.2572\n",
      "Epoch 682/1000\n",
      "80/80 [==============================] - 0s 42us/sample - loss: 0.6740 - inflam_loss: 0.5311 - nephr_loss: 0.7148 - inflam_acc: 0.7000 - nephr_mse: 0.2566\n",
      "Epoch 683/1000\n",
      "80/80 [==============================] - 0s 33us/sample - loss: 0.6735 - inflam_loss: 0.5307 - nephr_loss: 0.7143 - inflam_acc: 0.7000 - nephr_mse: 0.2568\n",
      "Epoch 684/1000\n",
      "80/80 [==============================] - 0s 42us/sample - loss: 0.6730 - inflam_loss: 0.5303 - nephr_loss: 0.7139 - inflam_acc: 0.7000 - nephr_mse: 0.2562\n",
      "Epoch 685/1000\n",
      "80/80 [==============================] - 0s 37us/sample - loss: 0.6726 - inflam_loss: 0.5299 - nephr_loss: 0.7134 - inflam_acc: 0.7000 - nephr_mse: 0.2564\n",
      "Epoch 686/1000\n",
      "80/80 [==============================] - 0s 997us/sample - loss: 0.6721 - inflam_loss: 0.5295 - nephr_loss: 0.7129 - inflam_acc: 0.7000 - nephr_mse: 0.2558\n",
      "Epoch 687/1000\n",
      "80/80 [==============================] - 0s 52us/sample - loss: 0.6716 - inflam_loss: 0.5291 - nephr_loss: 0.7125 - inflam_acc: 0.7000 - nephr_mse: 0.2560\n",
      "Epoch 688/1000\n",
      "80/80 [==============================] - 0s 44us/sample - loss: 0.6711 - inflam_loss: 0.5287 - nephr_loss: 0.7120 - inflam_acc: 0.7000 - nephr_mse: 0.2554\n",
      "Epoch 689/1000\n",
      "80/80 [==============================] - 0s 34us/sample - loss: 0.6706 - inflam_loss: 0.5283 - nephr_loss: 0.7116 - inflam_acc: 0.7000 - nephr_mse: 0.2556\n",
      "Epoch 690/1000\n",
      "80/80 [==============================] - 0s 33us/sample - loss: 0.6701 - inflam_loss: 0.5279 - nephr_loss: 0.7112 - inflam_acc: 0.7000 - nephr_mse: 0.2550\n",
      "Epoch 691/1000\n",
      "80/80 [==============================] - 0s 1ms/sample - loss: 0.6696 - inflam_loss: 0.5275 - nephr_loss: 0.7107 - inflam_acc: 0.7000 - nephr_mse: 0.2552\n",
      "Epoch 692/1000\n",
      "80/80 [==============================] - 0s 55us/sample - loss: 0.6692 - inflam_loss: 0.5271 - nephr_loss: 0.7103 - inflam_acc: 0.7000 - nephr_mse: 0.2546\n",
      "Epoch 693/1000\n",
      "80/80 [==============================] - 0s 38us/sample - loss: 0.6687 - inflam_loss: 0.5267 - nephr_loss: 0.7098 - inflam_acc: 0.7000 - nephr_mse: 0.2548\n",
      "Epoch 694/1000\n",
      "80/80 [==============================] - 0s 47us/sample - loss: 0.6682 - inflam_loss: 0.5263 - nephr_loss: 0.7094 - inflam_acc: 0.7000 - nephr_mse: 0.2542\n",
      "Epoch 695/1000\n",
      "80/80 [==============================] - 0s 50us/sample - loss: 0.6677 - inflam_loss: 0.5259 - nephr_loss: 0.7089 - inflam_acc: 0.7000 - nephr_mse: 0.2544\n",
      "Epoch 696/1000\n",
      "80/80 [==============================] - 0s 43us/sample - loss: 0.6672 - inflam_loss: 0.5255 - nephr_loss: 0.7085 - inflam_acc: 0.7000 - nephr_mse: 0.2538\n",
      "Epoch 697/1000\n",
      "80/80 [==============================] - 0s 943us/sample - loss: 0.6667 - inflam_loss: 0.5251 - nephr_loss: 0.7080 - inflam_acc: 0.7000 - nephr_mse: 0.2541\n",
      "Epoch 698/1000\n",
      "80/80 [==============================] - 0s 48us/sample - loss: 0.6663 - inflam_loss: 0.5247 - nephr_loss: 0.7076 - inflam_acc: 0.7000 - nephr_mse: 0.2534\n",
      "Epoch 699/1000\n",
      "80/80 [==============================] - 0s 36us/sample - loss: 0.6658 - inflam_loss: 0.5243 - nephr_loss: 0.7071 - inflam_acc: 0.7000 - nephr_mse: 0.2537\n",
      "Epoch 700/1000\n",
      "80/80 [==============================] - 0s 43us/sample - loss: 0.6653 - inflam_loss: 0.5240 - nephr_loss: 0.7067 - inflam_acc: 0.7000 - nephr_mse: 0.2530\n",
      "Epoch 701/1000\n",
      "80/80 [==============================] - 0s 36us/sample - loss: 0.6648 - inflam_loss: 0.5236 - nephr_loss: 0.7062 - inflam_acc: 0.7000 - nephr_mse: 0.2533\n",
      "Epoch 702/1000\n",
      "80/80 [==============================] - 0s 1ms/sample - loss: 0.6643 - inflam_loss: 0.5232 - nephr_loss: 0.7058 - inflam_acc: 0.7000 - nephr_mse: 0.2527\n",
      "Epoch 703/1000\n",
      "80/80 [==============================] - 0s 48us/sample - loss: 0.6638 - inflam_loss: 0.5228 - nephr_loss: 0.7053 - inflam_acc: 0.7000 - nephr_mse: 0.2529\n",
      "Epoch 704/1000\n",
      "80/80 [==============================] - 0s 49us/sample - loss: 0.6634 - inflam_loss: 0.5224 - nephr_loss: 0.7049 - inflam_acc: 0.7000 - nephr_mse: 0.2523\n",
      "Epoch 705/1000\n",
      "80/80 [==============================] - 0s 36us/sample - loss: 0.6629 - inflam_loss: 0.5220 - nephr_loss: 0.7044 - inflam_acc: 0.7000 - nephr_mse: 0.2525\n",
      "Epoch 706/1000\n",
      "80/80 [==============================] - 0s 37us/sample - loss: 0.6624 - inflam_loss: 0.5216 - nephr_loss: 0.7040 - inflam_acc: 0.7000 - nephr_mse: 0.2519\n",
      "Epoch 707/1000\n",
      "80/80 [==============================] - 0s 1ms/sample - loss: 0.6619 - inflam_loss: 0.5212 - nephr_loss: 0.7035 - inflam_acc: 0.7000 - nephr_mse: 0.2521\n",
      "Epoch 708/1000\n",
      "80/80 [==============================] - 0s 60us/sample - loss: 0.6614 - inflam_loss: 0.5208 - nephr_loss: 0.7031 - inflam_acc: 0.7250 - nephr_mse: 0.2515\n",
      "Epoch 709/1000\n",
      "80/80 [==============================] - 0s 40us/sample - loss: 0.6610 - inflam_loss: 0.5204 - nephr_loss: 0.7027 - inflam_acc: 0.7000 - nephr_mse: 0.2517\n",
      "Epoch 710/1000\n",
      "80/80 [==============================] - 0s 38us/sample - loss: 0.6605 - inflam_loss: 0.5200 - nephr_loss: 0.7022 - inflam_acc: 0.7375 - nephr_mse: 0.2511\n",
      "Epoch 711/1000\n",
      "80/80 [==============================] - 0s 35us/sample - loss: 0.6600 - inflam_loss: 0.5196 - nephr_loss: 0.7018 - inflam_acc: 0.7000 - nephr_mse: 0.2513\n",
      "Epoch 712/1000\n",
      "80/80 [==============================] - 0s 34us/sample - loss: 0.6595 - inflam_loss: 0.5193 - nephr_loss: 0.7013 - inflam_acc: 0.7375 - nephr_mse: 0.2507\n",
      "Epoch 713/1000\n",
      "80/80 [==============================] - 0s 31us/sample - loss: 0.6590 - inflam_loss: 0.5189 - nephr_loss: 0.7009 - inflam_acc: 0.7000 - nephr_mse: 0.2509\n",
      "Epoch 714/1000\n",
      "80/80 [==============================] - 0s 51us/sample - loss: 0.6586 - inflam_loss: 0.5185 - nephr_loss: 0.7004 - inflam_acc: 0.7375 - nephr_mse: 0.2503\n",
      "Epoch 715/1000\n",
      "80/80 [==============================] - 0s 46us/sample - loss: 0.6581 - inflam_loss: 0.5181 - nephr_loss: 0.7000 - inflam_acc: 0.7000 - nephr_mse: 0.2506\n",
      "Epoch 716/1000\n",
      "80/80 [==============================] - 0s 42us/sample - loss: 0.6576 - inflam_loss: 0.5177 - nephr_loss: 0.6995 - inflam_acc: 0.7750 - nephr_mse: 0.2500\n",
      "Epoch 717/1000\n",
      "80/80 [==============================] - 0s 35us/sample - loss: 0.6571 - inflam_loss: 0.5173 - nephr_loss: 0.6991 - inflam_acc: 0.7000 - nephr_mse: 0.2502\n",
      "Epoch 718/1000\n",
      "80/80 [==============================] - 0s 44us/sample - loss: 0.6567 - inflam_loss: 0.5169 - nephr_loss: 0.6987 - inflam_acc: 0.8000 - nephr_mse: 0.2496\n",
      "Epoch 719/1000\n",
      "80/80 [==============================] - 0s 71us/sample - loss: 0.6562 - inflam_loss: 0.5165 - nephr_loss: 0.6982 - inflam_acc: 0.7000 - nephr_mse: 0.2498\n",
      "Epoch 720/1000\n",
      "80/80 [==============================] - 0s 51us/sample - loss: 0.6557 - inflam_loss: 0.5161 - nephr_loss: 0.6978 - inflam_acc: 0.8000 - nephr_mse: 0.2492\n",
      "Epoch 721/1000\n",
      "80/80 [==============================] - 0s 53us/sample - loss: 0.6552 - inflam_loss: 0.5158 - nephr_loss: 0.6973 - inflam_acc: 0.7000 - nephr_mse: 0.2494\n",
      "Epoch 722/1000\n",
      "80/80 [==============================] - 0s 47us/sample - loss: 0.6547 - inflam_loss: 0.5154 - nephr_loss: 0.6969 - inflam_acc: 0.8000 - nephr_mse: 0.2488\n",
      "Epoch 723/1000\n",
      "80/80 [==============================] - 0s 53us/sample - loss: 0.6543 - inflam_loss: 0.5150 - nephr_loss: 0.6965 - inflam_acc: 0.7000 - nephr_mse: 0.2490\n",
      "Epoch 724/1000\n",
      "80/80 [==============================] - 0s 967us/sample - loss: 0.6538 - inflam_loss: 0.5146 - nephr_loss: 0.6960 - inflam_acc: 0.8000 - nephr_mse: 0.2484\n",
      "Epoch 725/1000\n",
      "80/80 [==============================] - 0s 47us/sample - loss: 0.6533 - inflam_loss: 0.5142 - nephr_loss: 0.6956 - inflam_acc: 0.7000 - nephr_mse: 0.2486\n",
      "Epoch 726/1000\n",
      "80/80 [==============================] - 0s 42us/sample - loss: 0.6529 - inflam_loss: 0.5138 - nephr_loss: 0.6951 - inflam_acc: 0.8000 - nephr_mse: 0.2480\n",
      "Epoch 727/1000\n",
      "80/80 [==============================] - 0s 41us/sample - loss: 0.6524 - inflam_loss: 0.5134 - nephr_loss: 0.6947 - inflam_acc: 0.7000 - nephr_mse: 0.2482\n",
      "Epoch 728/1000\n",
      "80/80 [==============================] - 0s 1ms/sample - loss: 0.6519 - inflam_loss: 0.5131 - nephr_loss: 0.6942 - inflam_acc: 0.8000 - nephr_mse: 0.2477\n",
      "Epoch 729/1000\n",
      "80/80 [==============================] - 0s 53us/sample - loss: 0.6514 - inflam_loss: 0.5127 - nephr_loss: 0.6938 - inflam_acc: 0.7000 - nephr_mse: 0.2479\n",
      "Epoch 730/1000\n",
      "80/80 [==============================] - 0s 56us/sample - loss: 0.6510 - inflam_loss: 0.5123 - nephr_loss: 0.6934 - inflam_acc: 0.8000 - nephr_mse: 0.2473\n",
      "Epoch 731/1000\n",
      "80/80 [==============================] - 0s 37us/sample - loss: 0.6505 - inflam_loss: 0.5119 - nephr_loss: 0.6929 - inflam_acc: 0.7000 - nephr_mse: 0.2475\n",
      "Epoch 732/1000\n",
      "80/80 [==============================] - 0s 40us/sample - loss: 0.6500 - inflam_loss: 0.5115 - nephr_loss: 0.6925 - inflam_acc: 0.8000 - nephr_mse: 0.2469\n",
      "Epoch 733/1000\n",
      "80/80 [==============================] - 0s 36us/sample - loss: 0.6495 - inflam_loss: 0.5111 - nephr_loss: 0.6920 - inflam_acc: 0.7000 - nephr_mse: 0.2471\n",
      "Epoch 734/1000\n",
      "80/80 [==============================] - 0s 31us/sample - loss: 0.6491 - inflam_loss: 0.5107 - nephr_loss: 0.6916 - inflam_acc: 0.8000 - nephr_mse: 0.2465\n",
      "Epoch 735/1000\n",
      "80/80 [==============================] - 0s 52us/sample - loss: 0.6486 - inflam_loss: 0.5104 - nephr_loss: 0.6912 - inflam_acc: 0.7250 - nephr_mse: 0.2467\n",
      "Epoch 736/1000\n",
      "80/80 [==============================] - 0s 38us/sample - loss: 0.6481 - inflam_loss: 0.5100 - nephr_loss: 0.6907 - inflam_acc: 0.8000 - nephr_mse: 0.2461\n",
      "Epoch 737/1000\n",
      "80/80 [==============================] - 0s 33us/sample - loss: 0.6477 - inflam_loss: 0.5096 - nephr_loss: 0.6903 - inflam_acc: 0.7375 - nephr_mse: 0.2463\n",
      "Epoch 738/1000\n",
      "80/80 [==============================] - 0s 30us/sample - loss: 0.6472 - inflam_loss: 0.5092 - nephr_loss: 0.6898 - inflam_acc: 0.8000 - nephr_mse: 0.2457\n",
      "Epoch 739/1000\n",
      "80/80 [==============================] - 0s 30us/sample - loss: 0.6467 - inflam_loss: 0.5088 - nephr_loss: 0.6894 - inflam_acc: 0.7375 - nephr_mse: 0.2459\n",
      "Epoch 740/1000\n",
      "80/80 [==============================] - 0s 30us/sample - loss: 0.6462 - inflam_loss: 0.5085 - nephr_loss: 0.6890 - inflam_acc: 0.8000 - nephr_mse: 0.2454\n",
      "Epoch 741/1000\n",
      "80/80 [==============================] - 0s 1ms/sample - loss: 0.6458 - inflam_loss: 0.5081 - nephr_loss: 0.6885 - inflam_acc: 0.7375 - nephr_mse: 0.2455\n",
      "Epoch 742/1000\n",
      "80/80 [==============================] - 0s 45us/sample - loss: 0.6453 - inflam_loss: 0.5077 - nephr_loss: 0.6881 - inflam_acc: 0.8000 - nephr_mse: 0.2450\n",
      "Epoch 743/1000\n",
      "80/80 [==============================] - 0s 44us/sample - loss: 0.6448 - inflam_loss: 0.5073 - nephr_loss: 0.6877 - inflam_acc: 0.7625 - nephr_mse: 0.2452\n",
      "Epoch 744/1000\n",
      "80/80 [==============================] - 0s 36us/sample - loss: 0.6444 - inflam_loss: 0.5069 - nephr_loss: 0.6872 - inflam_acc: 0.8000 - nephr_mse: 0.2446\n",
      "Epoch 745/1000\n",
      "80/80 [==============================] - 0s 40us/sample - loss: 0.6439 - inflam_loss: 0.5065 - nephr_loss: 0.6868 - inflam_acc: 0.7750 - nephr_mse: 0.2448\n",
      "Epoch 746/1000\n",
      "80/80 [==============================] - 0s 997us/sample - loss: 0.6434 - inflam_loss: 0.5062 - nephr_loss: 0.6864 - inflam_acc: 0.8000 - nephr_mse: 0.2442\n",
      "Epoch 747/1000\n",
      "80/80 [==============================] - 0s 43us/sample - loss: 0.6430 - inflam_loss: 0.5058 - nephr_loss: 0.6859 - inflam_acc: 0.8000 - nephr_mse: 0.2444\n",
      "Epoch 748/1000\n",
      "80/80 [==============================] - 0s 45us/sample - loss: 0.6425 - inflam_loss: 0.5054 - nephr_loss: 0.6855 - inflam_acc: 0.8000 - nephr_mse: 0.2438\n",
      "Epoch 749/1000\n",
      "80/80 [==============================] - 0s 51us/sample - loss: 0.6420 - inflam_loss: 0.5050 - nephr_loss: 0.6850 - inflam_acc: 0.8000 - nephr_mse: 0.2440\n",
      "Epoch 750/1000\n",
      "80/80 [==============================] - 0s 37us/sample - loss: 0.6416 - inflam_loss: 0.5046 - nephr_loss: 0.6846 - inflam_acc: 0.8000 - nephr_mse: 0.2435\n",
      "Epoch 751/1000\n",
      "80/80 [==============================] - 0s 1ms/sample - loss: 0.6411 - inflam_loss: 0.5043 - nephr_loss: 0.6842 - inflam_acc: 0.8000 - nephr_mse: 0.2436\n",
      "Epoch 752/1000\n",
      "80/80 [==============================] - 0s 42us/sample - loss: 0.6406 - inflam_loss: 0.5039 - nephr_loss: 0.6837 - inflam_acc: 0.8000 - nephr_mse: 0.2431\n",
      "Epoch 753/1000\n",
      "80/80 [==============================] - 0s 58us/sample - loss: 0.6402 - inflam_loss: 0.5035 - nephr_loss: 0.6833 - inflam_acc: 0.8000 - nephr_mse: 0.2433\n",
      "Epoch 754/1000\n",
      "80/80 [==============================] - 0s 44us/sample - loss: 0.6397 - inflam_loss: 0.5031 - nephr_loss: 0.6829 - inflam_acc: 0.8000 - nephr_mse: 0.2427\n",
      "Epoch 755/1000\n",
      "80/80 [==============================] - 0s 45us/sample - loss: 0.6392 - inflam_loss: 0.5028 - nephr_loss: 0.6824 - inflam_acc: 0.8000 - nephr_mse: 0.2429\n",
      "Epoch 756/1000\n",
      "80/80 [==============================] - 0s 43us/sample - loss: 0.6388 - inflam_loss: 0.5024 - nephr_loss: 0.6820 - inflam_acc: 0.8000 - nephr_mse: 0.2423\n",
      "Epoch 757/1000\n",
      "80/80 [==============================] - 0s 49us/sample - loss: 0.6383 - inflam_loss: 0.5020 - nephr_loss: 0.6816 - inflam_acc: 0.8000 - nephr_mse: 0.2425\n",
      "Epoch 758/1000\n",
      "80/80 [==============================] - 0s 51us/sample - loss: 0.6379 - inflam_loss: 0.5016 - nephr_loss: 0.6811 - inflam_acc: 0.8000 - nephr_mse: 0.2420\n",
      "Epoch 759/1000\n",
      "80/80 [==============================] - 0s 36us/sample - loss: 0.6374 - inflam_loss: 0.5012 - nephr_loss: 0.6807 - inflam_acc: 0.8000 - nephr_mse: 0.2421\n",
      "Epoch 760/1000\n",
      "80/80 [==============================] - 0s 31us/sample - loss: 0.6369 - inflam_loss: 0.5009 - nephr_loss: 0.6803 - inflam_acc: 0.8000 - nephr_mse: 0.2416\n",
      "Epoch 761/1000\n",
      "80/80 [==============================] - 0s 31us/sample - loss: 0.6365 - inflam_loss: 0.5005 - nephr_loss: 0.6798 - inflam_acc: 0.8000 - nephr_mse: 0.2417\n",
      "Epoch 762/1000\n",
      "80/80 [==============================] - 0s 1ms/sample - loss: 0.6360 - inflam_loss: 0.5001 - nephr_loss: 0.6794 - inflam_acc: 0.8000 - nephr_mse: 0.2412\n",
      "Epoch 763/1000\n",
      "80/80 [==============================] - 0s 64us/sample - loss: 0.6355 - inflam_loss: 0.4997 - nephr_loss: 0.6790 - inflam_acc: 0.8000 - nephr_mse: 0.2414\n",
      "Epoch 764/1000\n",
      "80/80 [==============================] - 0s 45us/sample - loss: 0.6351 - inflam_loss: 0.4994 - nephr_loss: 0.6785 - inflam_acc: 0.8000 - nephr_mse: 0.2408\n",
      "Epoch 765/1000\n",
      "80/80 [==============================] - 0s 36us/sample - loss: 0.6346 - inflam_loss: 0.4990 - nephr_loss: 0.6781 - inflam_acc: 0.8000 - nephr_mse: 0.2410\n",
      "Epoch 766/1000\n",
      "80/80 [==============================] - 0s 41us/sample - loss: 0.6342 - inflam_loss: 0.4986 - nephr_loss: 0.6777 - inflam_acc: 0.8000 - nephr_mse: 0.2404\n",
      "Epoch 767/1000\n",
      "80/80 [==============================] - 0s 35us/sample - loss: 0.6337 - inflam_loss: 0.4982 - nephr_loss: 0.6772 - inflam_acc: 0.8000 - nephr_mse: 0.2406\n",
      "Epoch 768/1000\n",
      "80/80 [==============================] - 0s 928us/sample - loss: 0.6332 - inflam_loss: 0.4979 - nephr_loss: 0.6768 - inflam_acc: 0.8000 - nephr_mse: 0.2401\n",
      "Epoch 769/1000\n",
      "80/80 [==============================] - 0s 57us/sample - loss: 0.6328 - inflam_loss: 0.4975 - nephr_loss: 0.6764 - inflam_acc: 0.8000 - nephr_mse: 0.2402\n",
      "Epoch 770/1000\n",
      "80/80 [==============================] - 0s 50us/sample - loss: 0.6323 - inflam_loss: 0.4971 - nephr_loss: 0.6759 - inflam_acc: 0.8000 - nephr_mse: 0.2397\n",
      "Epoch 771/1000\n",
      "80/80 [==============================] - 0s 47us/sample - loss: 0.6319 - inflam_loss: 0.4968 - nephr_loss: 0.6755 - inflam_acc: 0.8000 - nephr_mse: 0.2398\n",
      "Epoch 772/1000\n",
      "80/80 [==============================] - 0s 38us/sample - loss: 0.6314 - inflam_loss: 0.4964 - nephr_loss: 0.6751 - inflam_acc: 0.8000 - nephr_mse: 0.2393\n",
      "Epoch 773/1000\n",
      "80/80 [==============================] - 0s 1ms/sample - loss: 0.6309 - inflam_loss: 0.4960 - nephr_loss: 0.6747 - inflam_acc: 0.8000 - nephr_mse: 0.2395\n",
      "Epoch 774/1000\n",
      "80/80 [==============================] - 0s 40us/sample - loss: 0.6305 - inflam_loss: 0.4956 - nephr_loss: 0.6742 - inflam_acc: 0.8000 - nephr_mse: 0.2389\n",
      "Epoch 775/1000\n",
      "80/80 [==============================] - 0s 38us/sample - loss: 0.6300 - inflam_loss: 0.4953 - nephr_loss: 0.6738 - inflam_acc: 0.8000 - nephr_mse: 0.2391\n",
      "Epoch 776/1000\n",
      "80/80 [==============================] - 0s 38us/sample - loss: 0.6296 - inflam_loss: 0.4949 - nephr_loss: 0.6734 - inflam_acc: 0.8000 - nephr_mse: 0.2386\n",
      "Epoch 777/1000\n",
      "80/80 [==============================] - 0s 32us/sample - loss: 0.6291 - inflam_loss: 0.4945 - nephr_loss: 0.6729 - inflam_acc: 0.8000 - nephr_mse: 0.2387\n",
      "Epoch 778/1000\n",
      "80/80 [==============================] - 0s 33us/sample - loss: 0.6286 - inflam_loss: 0.4941 - nephr_loss: 0.6725 - inflam_acc: 0.8000 - nephr_mse: 0.2382\n",
      "Epoch 779/1000\n",
      "80/80 [==============================] - 0s 951us/sample - loss: 0.6282 - inflam_loss: 0.4938 - nephr_loss: 0.6721 - inflam_acc: 0.8000 - nephr_mse: 0.2383\n",
      "Epoch 780/1000\n",
      "80/80 [==============================] - 0s 63us/sample - loss: 0.6277 - inflam_loss: 0.4934 - nephr_loss: 0.6716 - inflam_acc: 0.8000 - nephr_mse: 0.2378\n",
      "Epoch 781/1000\n",
      "80/80 [==============================] - 0s 58us/sample - loss: 0.6273 - inflam_loss: 0.4930 - nephr_loss: 0.6712 - inflam_acc: 0.8000 - nephr_mse: 0.2380\n",
      "Epoch 782/1000\n",
      "80/80 [==============================] - 0s 49us/sample - loss: 0.6268 - inflam_loss: 0.4927 - nephr_loss: 0.6708 - inflam_acc: 0.8000 - nephr_mse: 0.2374\n",
      "Epoch 783/1000\n",
      "80/80 [==============================] - 0s 1ms/sample - loss: 0.6264 - inflam_loss: 0.4923 - nephr_loss: 0.6704 - inflam_acc: 0.8000 - nephr_mse: 0.2376\n",
      "Epoch 784/1000\n",
      "80/80 [==============================] - 0s 61us/sample - loss: 0.6259 - inflam_loss: 0.4919 - nephr_loss: 0.6699 - inflam_acc: 0.8000 - nephr_mse: 0.2371\n",
      "Epoch 785/1000\n",
      "80/80 [==============================] - 0s 47us/sample - loss: 0.6255 - inflam_loss: 0.4916 - nephr_loss: 0.6695 - inflam_acc: 0.8000 - nephr_mse: 0.2372\n",
      "Epoch 786/1000\n",
      "80/80 [==============================] - 0s 40us/sample - loss: 0.6250 - inflam_loss: 0.4912 - nephr_loss: 0.6691 - inflam_acc: 0.8000 - nephr_mse: 0.2367\n",
      "Epoch 787/1000\n",
      "80/80 [==============================] - 0s 51us/sample - loss: 0.6245 - inflam_loss: 0.4908 - nephr_loss: 0.6686 - inflam_acc: 0.8000 - nephr_mse: 0.2368\n",
      "Epoch 788/1000\n",
      "80/80 [==============================] - 0s 981us/sample - loss: 0.6241 - inflam_loss: 0.4904 - nephr_loss: 0.6682 - inflam_acc: 0.8000 - nephr_mse: 0.2363\n",
      "Epoch 789/1000\n",
      "80/80 [==============================] - 0s 65us/sample - loss: 0.6236 - inflam_loss: 0.4901 - nephr_loss: 0.6678 - inflam_acc: 0.8000 - nephr_mse: 0.2365\n",
      "Epoch 790/1000\n",
      "80/80 [==============================] - 0s 54us/sample - loss: 0.6232 - inflam_loss: 0.4897 - nephr_loss: 0.6674 - inflam_acc: 0.8000 - nephr_mse: 0.2359\n",
      "Epoch 791/1000\n",
      "80/80 [==============================] - 0s 36us/sample - loss: 0.6227 - inflam_loss: 0.4893 - nephr_loss: 0.6669 - inflam_acc: 0.8000 - nephr_mse: 0.2361\n",
      "Epoch 792/1000\n",
      "80/80 [==============================] - 0s 1ms/sample - loss: 0.6223 - inflam_loss: 0.4890 - nephr_loss: 0.6665 - inflam_acc: 0.8000 - nephr_mse: 0.2356\n",
      "Epoch 793/1000\n",
      "80/80 [==============================] - 0s 46us/sample - loss: 0.6218 - inflam_loss: 0.4886 - nephr_loss: 0.6661 - inflam_acc: 0.8000 - nephr_mse: 0.2357\n",
      "Epoch 794/1000\n",
      "80/80 [==============================] - 0s 48us/sample - loss: 0.6214 - inflam_loss: 0.4882 - nephr_loss: 0.6657 - inflam_acc: 0.8000 - nephr_mse: 0.2352\n",
      "Epoch 795/1000\n",
      "80/80 [==============================] - 0s 52us/sample - loss: 0.6209 - inflam_loss: 0.4879 - nephr_loss: 0.6652 - inflam_acc: 0.8000 - nephr_mse: 0.2353\n",
      "Epoch 796/1000\n",
      "80/80 [==============================] - 0s 46us/sample - loss: 0.6205 - inflam_loss: 0.4875 - nephr_loss: 0.6648 - inflam_acc: 0.8000 - nephr_mse: 0.2348\n",
      "Epoch 797/1000\n",
      "80/80 [==============================] - 0s 36us/sample - loss: 0.6200 - inflam_loss: 0.4871 - nephr_loss: 0.6644 - inflam_acc: 0.8000 - nephr_mse: 0.2350\n",
      "Epoch 798/1000\n",
      "80/80 [==============================] - 0s 957us/sample - loss: 0.6196 - inflam_loss: 0.4868 - nephr_loss: 0.6640 - inflam_acc: 0.8000 - nephr_mse: 0.2345\n",
      "Epoch 799/1000\n",
      "80/80 [==============================] - 0s 50us/sample - loss: 0.6191 - inflam_loss: 0.4864 - nephr_loss: 0.6635 - inflam_acc: 0.8000 - nephr_mse: 0.2346\n",
      "Epoch 800/1000\n",
      "80/80 [==============================] - 0s 45us/sample - loss: 0.6187 - inflam_loss: 0.4860 - nephr_loss: 0.6631 - inflam_acc: 0.8000 - nephr_mse: 0.2341\n",
      "Epoch 801/1000\n",
      "80/80 [==============================] - 0s 57us/sample - loss: 0.6182 - inflam_loss: 0.4857 - nephr_loss: 0.6627 - inflam_acc: 0.8000 - nephr_mse: 0.2342\n",
      "Epoch 802/1000\n",
      "80/80 [==============================] - 0s 40us/sample - loss: 0.6178 - inflam_loss: 0.4853 - nephr_loss: 0.6623 - inflam_acc: 0.8000 - nephr_mse: 0.2337\n",
      "Epoch 803/1000\n",
      "80/80 [==============================] - 0s 1ms/sample - loss: 0.6173 - inflam_loss: 0.4850 - nephr_loss: 0.6618 - inflam_acc: 0.8000 - nephr_mse: 0.2338\n",
      "Epoch 804/1000\n",
      "80/80 [==============================] - 0s 53us/sample - loss: 0.6169 - inflam_loss: 0.4846 - nephr_loss: 0.6614 - inflam_acc: 0.8000 - nephr_mse: 0.2333\n",
      "Epoch 805/1000\n",
      "80/80 [==============================] - 0s 40us/sample - loss: 0.6164 - inflam_loss: 0.4842 - nephr_loss: 0.6610 - inflam_acc: 0.8000 - nephr_mse: 0.2335\n",
      "Epoch 806/1000\n",
      "80/80 [==============================] - 0s 36us/sample - loss: 0.6160 - inflam_loss: 0.4839 - nephr_loss: 0.6606 - inflam_acc: 0.8000 - nephr_mse: 0.2330\n",
      "Epoch 807/1000\n",
      "80/80 [==============================] - 0s 31us/sample - loss: 0.6155 - inflam_loss: 0.4835 - nephr_loss: 0.6602 - inflam_acc: 0.8000 - nephr_mse: 0.2331\n",
      "Epoch 808/1000\n",
      "80/80 [==============================] - 0s 30us/sample - loss: 0.6151 - inflam_loss: 0.4831 - nephr_loss: 0.6597 - inflam_acc: 0.8000 - nephr_mse: 0.2326\n",
      "Epoch 809/1000\n",
      "80/80 [==============================] - 0s 1ms/sample - loss: 0.6146 - inflam_loss: 0.4828 - nephr_loss: 0.6593 - inflam_acc: 0.8000 - nephr_mse: 0.2327\n",
      "Epoch 810/1000\n",
      "80/80 [==============================] - 0s 58us/sample - loss: 0.6142 - inflam_loss: 0.4824 - nephr_loss: 0.6589 - inflam_acc: 0.8000 - nephr_mse: 0.2322\n",
      "Epoch 811/1000\n",
      "80/80 [==============================] - 0s 42us/sample - loss: 0.6137 - inflam_loss: 0.4820 - nephr_loss: 0.6585 - inflam_acc: 0.8000 - nephr_mse: 0.2323\n",
      "Epoch 812/1000\n",
      "80/80 [==============================] - 0s 35us/sample - loss: 0.6133 - inflam_loss: 0.4817 - nephr_loss: 0.6580 - inflam_acc: 0.8000 - nephr_mse: 0.2319\n",
      "Epoch 813/1000\n",
      "80/80 [==============================] - 0s 36us/sample - loss: 0.6128 - inflam_loss: 0.4813 - nephr_loss: 0.6576 - inflam_acc: 0.8000 - nephr_mse: 0.2320\n",
      "Epoch 814/1000\n",
      "80/80 [==============================] - 0s 992us/sample - loss: 0.6124 - inflam_loss: 0.4810 - nephr_loss: 0.6572 - inflam_acc: 0.8000 - nephr_mse: 0.2315\n",
      "Epoch 815/1000\n",
      "80/80 [==============================] - 0s 74us/sample - loss: 0.6120 - inflam_loss: 0.4806 - nephr_loss: 0.6568 - inflam_acc: 0.8000 - nephr_mse: 0.2316\n",
      "Epoch 816/1000\n",
      "80/80 [==============================] - 0s 47us/sample - loss: 0.6115 - inflam_loss: 0.4802 - nephr_loss: 0.6564 - inflam_acc: 0.8000 - nephr_mse: 0.2311\n",
      "Epoch 817/1000\n",
      "80/80 [==============================] - 0s 36us/sample - loss: 0.6111 - inflam_loss: 0.4799 - nephr_loss: 0.6559 - inflam_acc: 0.8000 - nephr_mse: 0.2312\n",
      "Epoch 818/1000\n",
      "80/80 [==============================] - 0s 45us/sample - loss: 0.6106 - inflam_loss: 0.4795 - nephr_loss: 0.6555 - inflam_acc: 0.8000 - nephr_mse: 0.2307\n",
      "Epoch 819/1000\n",
      "80/80 [==============================] - 0s 970us/sample - loss: 0.6102 - inflam_loss: 0.4792 - nephr_loss: 0.6551 - inflam_acc: 0.8000 - nephr_mse: 0.2309\n",
      "Epoch 820/1000\n",
      "80/80 [==============================] - 0s 51us/sample - loss: 0.6097 - inflam_loss: 0.4788 - nephr_loss: 0.6547 - inflam_acc: 0.8000 - nephr_mse: 0.2304\n",
      "Epoch 821/1000\n",
      "80/80 [==============================] - 0s 45us/sample - loss: 0.6093 - inflam_loss: 0.4784 - nephr_loss: 0.6543 - inflam_acc: 0.8000 - nephr_mse: 0.2305\n",
      "Epoch 822/1000\n",
      "80/80 [==============================] - 0s 51us/sample - loss: 0.6088 - inflam_loss: 0.4781 - nephr_loss: 0.6538 - inflam_acc: 0.8000 - nephr_mse: 0.2300\n",
      "Epoch 823/1000\n",
      "80/80 [==============================] - 0s 41us/sample - loss: 0.6084 - inflam_loss: 0.4777 - nephr_loss: 0.6534 - inflam_acc: 0.8000 - nephr_mse: 0.2301\n",
      "Epoch 824/1000\n",
      "80/80 [==============================] - 0s 1ms/sample - loss: 0.6080 - inflam_loss: 0.4774 - nephr_loss: 0.6530 - inflam_acc: 0.8000 - nephr_mse: 0.2296\n",
      "Epoch 825/1000\n",
      "80/80 [==============================] - 0s 52us/sample - loss: 0.6075 - inflam_loss: 0.4770 - nephr_loss: 0.6526 - inflam_acc: 0.8000 - nephr_mse: 0.2297\n",
      "Epoch 826/1000\n",
      "80/80 [==============================] - 0s 43us/sample - loss: 0.6071 - inflam_loss: 0.4766 - nephr_loss: 0.6522 - inflam_acc: 0.8000 - nephr_mse: 0.2293\n",
      "Epoch 827/1000\n",
      "80/80 [==============================] - 0s 48us/sample - loss: 0.6066 - inflam_loss: 0.4763 - nephr_loss: 0.6518 - inflam_acc: 0.8000 - nephr_mse: 0.2294\n",
      "Epoch 828/1000\n",
      "80/80 [==============================] - 0s 38us/sample - loss: 0.6062 - inflam_loss: 0.4759 - nephr_loss: 0.6513 - inflam_acc: 0.8000 - nephr_mse: 0.2289\n",
      "Epoch 829/1000\n",
      "80/80 [==============================] - 0s 64us/sample - loss: 0.6058 - inflam_loss: 0.4756 - nephr_loss: 0.6509 - inflam_acc: 0.8000 - nephr_mse: 0.2290\n",
      "Epoch 830/1000\n",
      "80/80 [==============================] - 0s 54us/sample - loss: 0.6053 - inflam_loss: 0.4752 - nephr_loss: 0.6505 - inflam_acc: 0.8000 - nephr_mse: 0.2285\n",
      "Epoch 831/1000\n",
      "80/80 [==============================] - 0s 51us/sample - loss: 0.6049 - inflam_loss: 0.4749 - nephr_loss: 0.6501 - inflam_acc: 0.8000 - nephr_mse: 0.2286\n",
      "Epoch 832/1000\n",
      "80/80 [==============================] - 0s 47us/sample - loss: 0.6044 - inflam_loss: 0.4745 - nephr_loss: 0.6497 - inflam_acc: 0.8000 - nephr_mse: 0.2282\n",
      "Epoch 833/1000\n",
      "80/80 [==============================] - 0s 46us/sample - loss: 0.6040 - inflam_loss: 0.4741 - nephr_loss: 0.6493 - inflam_acc: 0.8000 - nephr_mse: 0.2283\n",
      "Epoch 834/1000\n",
      "80/80 [==============================] - 0s 64us/sample - loss: 0.6036 - inflam_loss: 0.4738 - nephr_loss: 0.6488 - inflam_acc: 0.8000 - nephr_mse: 0.2278\n",
      "Epoch 835/1000\n",
      "80/80 [==============================] - 0s 58us/sample - loss: 0.6031 - inflam_loss: 0.4734 - nephr_loss: 0.6484 - inflam_acc: 0.8000 - nephr_mse: 0.2279\n",
      "Epoch 836/1000\n",
      "80/80 [==============================] - 0s 39us/sample - loss: 0.6027 - inflam_loss: 0.4731 - nephr_loss: 0.6480 - inflam_acc: 0.8000 - nephr_mse: 0.2274\n",
      "Epoch 837/1000\n",
      "80/80 [==============================] - 0s 34us/sample - loss: 0.6022 - inflam_loss: 0.4727 - nephr_loss: 0.6476 - inflam_acc: 0.8000 - nephr_mse: 0.2275\n",
      "Epoch 838/1000\n",
      "80/80 [==============================] - 0s 42us/sample - loss: 0.6018 - inflam_loss: 0.4724 - nephr_loss: 0.6472 - inflam_acc: 0.8000 - nephr_mse: 0.2271\n",
      "Epoch 839/1000\n",
      "80/80 [==============================] - 0s 53us/sample - loss: 0.6014 - inflam_loss: 0.4720 - nephr_loss: 0.6468 - inflam_acc: 0.8000 - nephr_mse: 0.2272\n",
      "Epoch 840/1000\n",
      "80/80 [==============================] - 0s 62us/sample - loss: 0.6009 - inflam_loss: 0.4717 - nephr_loss: 0.6463 - inflam_acc: 0.8000 - nephr_mse: 0.2267\n",
      "Epoch 841/1000\n",
      "80/80 [==============================] - 0s 35us/sample - loss: 0.6005 - inflam_loss: 0.4713 - nephr_loss: 0.6459 - inflam_acc: 0.8000 - nephr_mse: 0.2268\n",
      "Epoch 842/1000\n",
      "80/80 [==============================] - 0s 37us/sample - loss: 0.6001 - inflam_loss: 0.4710 - nephr_loss: 0.6455 - inflam_acc: 0.8000 - nephr_mse: 0.2263\n",
      "Epoch 843/1000\n",
      "80/80 [==============================] - 0s 1ms/sample - loss: 0.5996 - inflam_loss: 0.4706 - nephr_loss: 0.6451 - inflam_acc: 0.8000 - nephr_mse: 0.2264\n",
      "Epoch 844/1000\n",
      "80/80 [==============================] - 0s 39us/sample - loss: 0.5992 - inflam_loss: 0.4702 - nephr_loss: 0.6447 - inflam_acc: 0.8000 - nephr_mse: 0.2260\n",
      "Epoch 845/1000\n",
      "80/80 [==============================] - 0s 43us/sample - loss: 0.5987 - inflam_loss: 0.4699 - nephr_loss: 0.6443 - inflam_acc: 0.8000 - nephr_mse: 0.2261\n",
      "Epoch 846/1000\n",
      "80/80 [==============================] - 0s 39us/sample - loss: 0.5983 - inflam_loss: 0.4695 - nephr_loss: 0.6439 - inflam_acc: 0.8000 - nephr_mse: 0.2256\n",
      "Epoch 847/1000\n",
      "80/80 [==============================] - 0s 36us/sample - loss: 0.5979 - inflam_loss: 0.4692 - nephr_loss: 0.6434 - inflam_acc: 0.8000 - nephr_mse: 0.2257\n",
      "Epoch 848/1000\n",
      "80/80 [==============================] - 0s 43us/sample - loss: 0.5974 - inflam_loss: 0.4688 - nephr_loss: 0.6430 - inflam_acc: 0.8000 - nephr_mse: 0.2252\n",
      "Epoch 849/1000\n",
      "80/80 [==============================] - 0s 59us/sample - loss: 0.5970 - inflam_loss: 0.4685 - nephr_loss: 0.6426 - inflam_acc: 0.8000 - nephr_mse: 0.2253\n",
      "Epoch 850/1000\n",
      "80/80 [==============================] - 0s 52us/sample - loss: 0.5966 - inflam_loss: 0.4681 - nephr_loss: 0.6422 - inflam_acc: 0.8000 - nephr_mse: 0.2249\n",
      "Epoch 851/1000\n",
      "80/80 [==============================] - 0s 39us/sample - loss: 0.5961 - inflam_loss: 0.4678 - nephr_loss: 0.6418 - inflam_acc: 0.8000 - nephr_mse: 0.2250\n",
      "Epoch 852/1000\n",
      "80/80 [==============================] - 0s 33us/sample - loss: 0.5957 - inflam_loss: 0.4674 - nephr_loss: 0.6414 - inflam_acc: 0.8000 - nephr_mse: 0.2245\n",
      "Epoch 853/1000\n",
      "80/80 [==============================] - 0s 32us/sample - loss: 0.5953 - inflam_loss: 0.4671 - nephr_loss: 0.6410 - inflam_acc: 0.8000 - nephr_mse: 0.2246\n",
      "Epoch 854/1000\n",
      "80/80 [==============================] - 0s 989us/sample - loss: 0.5948 - inflam_loss: 0.4667 - nephr_loss: 0.6406 - inflam_acc: 0.8000 - nephr_mse: 0.2242\n",
      "Epoch 855/1000\n",
      "80/80 [==============================] - 0s 70us/sample - loss: 0.5944 - inflam_loss: 0.4664 - nephr_loss: 0.6402 - inflam_acc: 0.8000 - nephr_mse: 0.2242\n",
      "Epoch 856/1000\n",
      "80/80 [==============================] - 0s 48us/sample - loss: 0.5940 - inflam_loss: 0.4660 - nephr_loss: 0.6397 - inflam_acc: 0.8000 - nephr_mse: 0.2238\n",
      "Epoch 857/1000\n",
      "80/80 [==============================] - 0s 44us/sample - loss: 0.5935 - inflam_loss: 0.4657 - nephr_loss: 0.6393 - inflam_acc: 0.8000 - nephr_mse: 0.2239\n",
      "Epoch 858/1000\n",
      "80/80 [==============================] - 0s 47us/sample - loss: 0.5931 - inflam_loss: 0.4653 - nephr_loss: 0.6389 - inflam_acc: 0.8000 - nephr_mse: 0.2234\n",
      "Epoch 859/1000\n",
      "80/80 [==============================] - 0s 998us/sample - loss: 0.5927 - inflam_loss: 0.4650 - nephr_loss: 0.6385 - inflam_acc: 0.8000 - nephr_mse: 0.2235\n",
      "Epoch 860/1000\n",
      "80/80 [==============================] - 0s 46us/sample - loss: 0.5922 - inflam_loss: 0.4646 - nephr_loss: 0.6381 - inflam_acc: 0.8000 - nephr_mse: 0.2231\n",
      "Epoch 861/1000\n",
      "80/80 [==============================] - 0s 47us/sample - loss: 0.5918 - inflam_loss: 0.4643 - nephr_loss: 0.6377 - inflam_acc: 0.8000 - nephr_mse: 0.2231\n",
      "Epoch 862/1000\n",
      "80/80 [==============================] - 0s 53us/sample - loss: 0.5914 - inflam_loss: 0.4639 - nephr_loss: 0.6373 - inflam_acc: 0.8000 - nephr_mse: 0.2227\n",
      "Epoch 863/1000\n",
      "80/80 [==============================] - 0s 1ms/sample - loss: 0.5910 - inflam_loss: 0.4636 - nephr_loss: 0.6369 - inflam_acc: 0.8000 - nephr_mse: 0.2228\n",
      "Epoch 864/1000\n",
      "80/80 [==============================] - 0s 55us/sample - loss: 0.5905 - inflam_loss: 0.4632 - nephr_loss: 0.6365 - inflam_acc: 0.8000 - nephr_mse: 0.2223\n",
      "Epoch 865/1000\n",
      "80/80 [==============================] - 0s 40us/sample - loss: 0.5901 - inflam_loss: 0.4629 - nephr_loss: 0.6360 - inflam_acc: 0.8000 - nephr_mse: 0.2224\n",
      "Epoch 866/1000\n",
      "80/80 [==============================] - 0s 39us/sample - loss: 0.5897 - inflam_loss: 0.4625 - nephr_loss: 0.6356 - inflam_acc: 0.8000 - nephr_mse: 0.2220\n",
      "Epoch 867/1000\n",
      "80/80 [==============================] - 0s 37us/sample - loss: 0.5892 - inflam_loss: 0.4622 - nephr_loss: 0.6352 - inflam_acc: 0.8000 - nephr_mse: 0.2220\n",
      "Epoch 868/1000\n",
      "80/80 [==============================] - 0s 29us/sample - loss: 0.5888 - inflam_loss: 0.4618 - nephr_loss: 0.6348 - inflam_acc: 0.8000 - nephr_mse: 0.2216\n",
      "Epoch 869/1000\n",
      "80/80 [==============================] - 0s 979us/sample - loss: 0.5884 - inflam_loss: 0.4615 - nephr_loss: 0.6344 - inflam_acc: 0.8000 - nephr_mse: 0.2217\n",
      "Epoch 870/1000\n",
      "80/80 [==============================] - 0s 60us/sample - loss: 0.5880 - inflam_loss: 0.4612 - nephr_loss: 0.6340 - inflam_acc: 0.8000 - nephr_mse: 0.2213\n",
      "Epoch 871/1000\n",
      "80/80 [==============================] - 0s 53us/sample - loss: 0.5875 - inflam_loss: 0.4608 - nephr_loss: 0.6336 - inflam_acc: 0.8000 - nephr_mse: 0.2213\n",
      "Epoch 872/1000\n",
      "80/80 [==============================] - 0s 39us/sample - loss: 0.5871 - inflam_loss: 0.4605 - nephr_loss: 0.6332 - inflam_acc: 0.8000 - nephr_mse: 0.2209\n",
      "Epoch 873/1000\n",
      "80/80 [==============================] - 0s 32us/sample - loss: 0.5867 - inflam_loss: 0.4601 - nephr_loss: 0.6328 - inflam_acc: 0.8000 - nephr_mse: 0.2210\n",
      "Epoch 874/1000\n",
      "80/80 [==============================] - 0s 31us/sample - loss: 0.5862 - inflam_loss: 0.4598 - nephr_loss: 0.6324 - inflam_acc: 0.8000 - nephr_mse: 0.2205\n",
      "Epoch 875/1000\n",
      "80/80 [==============================] - 0s 974us/sample - loss: 0.5858 - inflam_loss: 0.4594 - nephr_loss: 0.6320 - inflam_acc: 0.8000 - nephr_mse: 0.2206\n",
      "Epoch 876/1000\n",
      "80/80 [==============================] - 0s 55us/sample - loss: 0.5854 - inflam_loss: 0.4591 - nephr_loss: 0.6316 - inflam_acc: 0.8000 - nephr_mse: 0.2202\n",
      "Epoch 877/1000\n",
      "80/80 [==============================] - 0s 55us/sample - loss: 0.5850 - inflam_loss: 0.4587 - nephr_loss: 0.6312 - inflam_acc: 0.8000 - nephr_mse: 0.2202\n",
      "Epoch 878/1000\n",
      "80/80 [==============================] - 0s 51us/sample - loss: 0.5845 - inflam_loss: 0.4584 - nephr_loss: 0.6308 - inflam_acc: 0.8000 - nephr_mse: 0.2198\n",
      "Epoch 879/1000\n",
      "80/80 [==============================] - 0s 52us/sample - loss: 0.5841 - inflam_loss: 0.4580 - nephr_loss: 0.6303 - inflam_acc: 0.8000 - nephr_mse: 0.2199\n",
      "Epoch 880/1000\n",
      "80/80 [==============================] - 0s 984us/sample - loss: 0.5837 - inflam_loss: 0.4577 - nephr_loss: 0.6299 - inflam_acc: 0.8000 - nephr_mse: 0.2195\n",
      "Epoch 881/1000\n",
      "80/80 [==============================] - 0s 47us/sample - loss: 0.5833 - inflam_loss: 0.4574 - nephr_loss: 0.6295 - inflam_acc: 0.8000 - nephr_mse: 0.2195\n",
      "Epoch 882/1000\n",
      "80/80 [==============================] - 0s 59us/sample - loss: 0.5828 - inflam_loss: 0.4570 - nephr_loss: 0.6291 - inflam_acc: 0.8000 - nephr_mse: 0.2191\n",
      "Epoch 883/1000\n",
      "80/80 [==============================] - 0s 45us/sample - loss: 0.5824 - inflam_loss: 0.4567 - nephr_loss: 0.6287 - inflam_acc: 0.8000 - nephr_mse: 0.2191\n",
      "Epoch 884/1000\n",
      "80/80 [==============================] - 0s 37us/sample - loss: 0.5820 - inflam_loss: 0.4563 - nephr_loss: 0.6283 - inflam_acc: 0.8000 - nephr_mse: 0.2187\n",
      "Epoch 885/1000\n",
      "80/80 [==============================] - 0s 991us/sample - loss: 0.5816 - inflam_loss: 0.4560 - nephr_loss: 0.6279 - inflam_acc: 0.8000 - nephr_mse: 0.2188\n",
      "Epoch 886/1000\n",
      "80/80 [==============================] - 0s 53us/sample - loss: 0.5812 - inflam_loss: 0.4556 - nephr_loss: 0.6275 - inflam_acc: 0.8000 - nephr_mse: 0.2184\n",
      "Epoch 887/1000\n",
      "80/80 [==============================] - 0s 56us/sample - loss: 0.5807 - inflam_loss: 0.4553 - nephr_loss: 0.6271 - inflam_acc: 0.8000 - nephr_mse: 0.2184\n",
      "Epoch 888/1000\n",
      "80/80 [==============================] - 0s 34us/sample - loss: 0.5803 - inflam_loss: 0.4550 - nephr_loss: 0.6267 - inflam_acc: 0.8000 - nephr_mse: 0.2180\n",
      "Epoch 889/1000\n",
      "80/80 [==============================] - 0s 42us/sample - loss: 0.5799 - inflam_loss: 0.4546 - nephr_loss: 0.6263 - inflam_acc: 0.8000 - nephr_mse: 0.2181\n",
      "Epoch 890/1000\n",
      "80/80 [==============================] - 0s 34us/sample - loss: 0.5795 - inflam_loss: 0.4543 - nephr_loss: 0.6259 - inflam_acc: 0.8000 - nephr_mse: 0.2177\n",
      "Epoch 891/1000\n",
      "80/80 [==============================] - 0s 983us/sample - loss: 0.5790 - inflam_loss: 0.4539 - nephr_loss: 0.6255 - inflam_acc: 0.8000 - nephr_mse: 0.2177\n",
      "Epoch 892/1000\n",
      "80/80 [==============================] - 0s 64us/sample - loss: 0.5786 - inflam_loss: 0.4536 - nephr_loss: 0.6251 - inflam_acc: 0.8000 - nephr_mse: 0.2173\n",
      "Epoch 893/1000\n",
      "80/80 [==============================] - 0s 47us/sample - loss: 0.5782 - inflam_loss: 0.4533 - nephr_loss: 0.6247 - inflam_acc: 0.8000 - nephr_mse: 0.2173\n",
      "Epoch 894/1000\n",
      "80/80 [==============================] - 0s 35us/sample - loss: 0.5778 - inflam_loss: 0.4529 - nephr_loss: 0.6243 - inflam_acc: 0.8000 - nephr_mse: 0.2170\n",
      "Epoch 895/1000\n",
      "80/80 [==============================] - 0s 33us/sample - loss: 0.5774 - inflam_loss: 0.4526 - nephr_loss: 0.6239 - inflam_acc: 0.8000 - nephr_mse: 0.2170\n",
      "Epoch 896/1000\n",
      "80/80 [==============================] - 0s 991us/sample - loss: 0.5769 - inflam_loss: 0.4522 - nephr_loss: 0.6235 - inflam_acc: 0.8000 - nephr_mse: 0.2166\n",
      "Epoch 897/1000\n",
      "80/80 [==============================] - 0s 45us/sample - loss: 0.5765 - inflam_loss: 0.4519 - nephr_loss: 0.6231 - inflam_acc: 0.8000 - nephr_mse: 0.2166\n",
      "Epoch 898/1000\n",
      "80/80 [==============================] - 0s 52us/sample - loss: 0.5761 - inflam_loss: 0.4516 - nephr_loss: 0.6227 - inflam_acc: 0.8000 - nephr_mse: 0.2162\n",
      "Epoch 899/1000\n",
      "80/80 [==============================] - 0s 54us/sample - loss: 0.5757 - inflam_loss: 0.4512 - nephr_loss: 0.6223 - inflam_acc: 0.8000 - nephr_mse: 0.2163\n",
      "Epoch 900/1000\n",
      "80/80 [==============================] - 0s 36us/sample - loss: 0.5753 - inflam_loss: 0.4509 - nephr_loss: 0.6219 - inflam_acc: 0.8000 - nephr_mse: 0.2159\n",
      "Epoch 901/1000\n",
      "80/80 [==============================] - 0s 46us/sample - loss: 0.5748 - inflam_loss: 0.4505 - nephr_loss: 0.6215 - inflam_acc: 0.8000 - nephr_mse: 0.2159\n",
      "Epoch 902/1000\n",
      "80/80 [==============================] - 0s 56us/sample - loss: 0.5744 - inflam_loss: 0.4502 - nephr_loss: 0.6211 - inflam_acc: 0.8000 - nephr_mse: 0.2155\n",
      "Epoch 903/1000\n",
      "80/80 [==============================] - 0s 61us/sample - loss: 0.5740 - inflam_loss: 0.4499 - nephr_loss: 0.6207 - inflam_acc: 0.8000 - nephr_mse: 0.2156\n",
      "Epoch 904/1000\n",
      "80/80 [==============================] - 0s 41us/sample - loss: 0.5736 - inflam_loss: 0.4495 - nephr_loss: 0.6203 - inflam_acc: 0.8000 - nephr_mse: 0.2152\n",
      "Epoch 905/1000\n",
      "80/80 [==============================] - 0s 44us/sample - loss: 0.5732 - inflam_loss: 0.4492 - nephr_loss: 0.6199 - inflam_acc: 0.8000 - nephr_mse: 0.2152\n",
      "Epoch 906/1000\n",
      "80/80 [==============================] - 0s 31us/sample - loss: 0.5728 - inflam_loss: 0.4489 - nephr_loss: 0.6195 - inflam_acc: 0.8000 - nephr_mse: 0.2148\n",
      "Epoch 907/1000\n",
      "80/80 [==============================] - 0s 995us/sample - loss: 0.5723 - inflam_loss: 0.4485 - nephr_loss: 0.6191 - inflam_acc: 0.8000 - nephr_mse: 0.2148\n",
      "Epoch 908/1000\n",
      "80/80 [==============================] - 0s 61us/sample - loss: 0.5719 - inflam_loss: 0.4482 - nephr_loss: 0.6187 - inflam_acc: 0.8000 - nephr_mse: 0.2145\n",
      "Epoch 909/1000\n",
      "80/80 [==============================] - 0s 45us/sample - loss: 0.5715 - inflam_loss: 0.4479 - nephr_loss: 0.6183 - inflam_acc: 0.8000 - nephr_mse: 0.2145\n",
      "Epoch 910/1000\n",
      "80/80 [==============================] - 0s 34us/sample - loss: 0.5711 - inflam_loss: 0.4475 - nephr_loss: 0.6179 - inflam_acc: 0.8000 - nephr_mse: 0.2141\n",
      "Epoch 911/1000\n",
      "80/80 [==============================] - 0s 34us/sample - loss: 0.5707 - inflam_loss: 0.4472 - nephr_loss: 0.6175 - inflam_acc: 0.8000 - nephr_mse: 0.2141\n",
      "Epoch 912/1000\n",
      "80/80 [==============================] - 0s 1ms/sample - loss: 0.5703 - inflam_loss: 0.4468 - nephr_loss: 0.6171 - inflam_acc: 0.8000 - nephr_mse: 0.2138\n",
      "Epoch 913/1000\n",
      "80/80 [==============================] - 0s 57us/sample - loss: 0.5699 - inflam_loss: 0.4465 - nephr_loss: 0.6167 - inflam_acc: 0.8000 - nephr_mse: 0.2138\n",
      "Epoch 914/1000\n",
      "80/80 [==============================] - 0s 51us/sample - loss: 0.5694 - inflam_loss: 0.4462 - nephr_loss: 0.6163 - inflam_acc: 0.8000 - nephr_mse: 0.2134\n",
      "Epoch 915/1000\n",
      "80/80 [==============================] - 0s 43us/sample - loss: 0.5690 - inflam_loss: 0.4458 - nephr_loss: 0.6159 - inflam_acc: 0.8000 - nephr_mse: 0.2134\n",
      "Epoch 916/1000\n",
      "80/80 [==============================] - 0s 35us/sample - loss: 0.5686 - inflam_loss: 0.4455 - nephr_loss: 0.6155 - inflam_acc: 0.8000 - nephr_mse: 0.2131\n",
      "Epoch 917/1000\n",
      "80/80 [==============================] - 0s 35us/sample - loss: 0.5682 - inflam_loss: 0.4452 - nephr_loss: 0.6151 - inflam_acc: 0.8000 - nephr_mse: 0.2131\n",
      "Epoch 918/1000\n",
      "80/80 [==============================] - 0s 52us/sample - loss: 0.5678 - inflam_loss: 0.4448 - nephr_loss: 0.6147 - inflam_acc: 0.8000 - nephr_mse: 0.2127\n",
      "Epoch 919/1000\n",
      "80/80 [==============================] - 0s 62us/sample - loss: 0.5674 - inflam_loss: 0.4445 - nephr_loss: 0.6143 - inflam_acc: 0.8000 - nephr_mse: 0.2127\n",
      "Epoch 920/1000\n",
      "80/80 [==============================] - 0s 40us/sample - loss: 0.5670 - inflam_loss: 0.4442 - nephr_loss: 0.6139 - inflam_acc: 0.8000 - nephr_mse: 0.2123\n",
      "Epoch 921/1000\n",
      "80/80 [==============================] - 0s 34us/sample - loss: 0.5665 - inflam_loss: 0.4438 - nephr_loss: 0.6135 - inflam_acc: 0.8000 - nephr_mse: 0.2124\n",
      "Epoch 922/1000\n",
      "80/80 [==============================] - 0s 31us/sample - loss: 0.5661 - inflam_loss: 0.4435 - nephr_loss: 0.6131 - inflam_acc: 0.8000 - nephr_mse: 0.2120\n",
      "Epoch 923/1000\n",
      "80/80 [==============================] - 0s 951us/sample - loss: 0.5657 - inflam_loss: 0.4432 - nephr_loss: 0.6127 - inflam_acc: 0.8000 - nephr_mse: 0.2120\n",
      "Epoch 924/1000\n",
      "80/80 [==============================] - 0s 68us/sample - loss: 0.5653 - inflam_loss: 0.4428 - nephr_loss: 0.6123 - inflam_acc: 0.8000 - nephr_mse: 0.2116\n",
      "Epoch 925/1000\n",
      "80/80 [==============================] - 0s 42us/sample - loss: 0.5649 - inflam_loss: 0.4425 - nephr_loss: 0.6119 - inflam_acc: 0.8000 - nephr_mse: 0.2116\n",
      "Epoch 926/1000\n",
      "80/80 [==============================] - 0s 52us/sample - loss: 0.5645 - inflam_loss: 0.4422 - nephr_loss: 0.6115 - inflam_acc: 0.8000 - nephr_mse: 0.2113\n",
      "Epoch 927/1000\n",
      "80/80 [==============================] - 0s 44us/sample - loss: 0.5641 - inflam_loss: 0.4419 - nephr_loss: 0.6112 - inflam_acc: 0.8000 - nephr_mse: 0.2113\n",
      "Epoch 928/1000\n",
      "80/80 [==============================] - 0s 986us/sample - loss: 0.5637 - inflam_loss: 0.4415 - nephr_loss: 0.6108 - inflam_acc: 0.8000 - nephr_mse: 0.2109\n",
      "Epoch 929/1000\n",
      "80/80 [==============================] - 0s 67us/sample - loss: 0.5633 - inflam_loss: 0.4412 - nephr_loss: 0.6104 - inflam_acc: 0.8000 - nephr_mse: 0.2109\n",
      "Epoch 930/1000\n",
      "80/80 [==============================] - 0s 41us/sample - loss: 0.5629 - inflam_loss: 0.4409 - nephr_loss: 0.6100 - inflam_acc: 0.8000 - nephr_mse: 0.2106\n",
      "Epoch 931/1000\n",
      "80/80 [==============================] - 0s 43us/sample - loss: 0.5624 - inflam_loss: 0.4405 - nephr_loss: 0.6096 - inflam_acc: 0.8000 - nephr_mse: 0.2106\n",
      "Epoch 932/1000\n",
      "80/80 [==============================] - 0s 41us/sample - loss: 0.5620 - inflam_loss: 0.4402 - nephr_loss: 0.6092 - inflam_acc: 0.8000 - nephr_mse: 0.2102\n",
      "Epoch 933/1000\n",
      "80/80 [==============================] - 0s 38us/sample - loss: 0.5616 - inflam_loss: 0.4399 - nephr_loss: 0.6088 - inflam_acc: 0.8000 - nephr_mse: 0.2102\n",
      "Epoch 934/1000\n",
      "80/80 [==============================] - 0s 1ms/sample - loss: 0.5612 - inflam_loss: 0.4395 - nephr_loss: 0.6084 - inflam_acc: 0.8000 - nephr_mse: 0.2099\n",
      "Epoch 935/1000\n",
      "80/80 [==============================] - 0s 55us/sample - loss: 0.5608 - inflam_loss: 0.4392 - nephr_loss: 0.6080 - inflam_acc: 0.8000 - nephr_mse: 0.2099\n",
      "Epoch 936/1000\n",
      "80/80 [==============================] - 0s 37us/sample - loss: 0.5604 - inflam_loss: 0.4389 - nephr_loss: 0.6076 - inflam_acc: 0.8000 - nephr_mse: 0.2095\n",
      "Epoch 937/1000\n",
      "80/80 [==============================] - 0s 45us/sample - loss: 0.5600 - inflam_loss: 0.4386 - nephr_loss: 0.6072 - inflam_acc: 0.8000 - nephr_mse: 0.2095\n",
      "Epoch 938/1000\n",
      "80/80 [==============================] - 0s 42us/sample - loss: 0.5596 - inflam_loss: 0.4382 - nephr_loss: 0.6068 - inflam_acc: 0.8000 - nephr_mse: 0.2092\n",
      "Epoch 939/1000\n",
      "80/80 [==============================] - 0s 32us/sample - loss: 0.5592 - inflam_loss: 0.4379 - nephr_loss: 0.6064 - inflam_acc: 0.8125 - nephr_mse: 0.2092\n",
      "Epoch 940/1000\n",
      "80/80 [==============================] - 0s 37us/sample - loss: 0.5588 - inflam_loss: 0.4376 - nephr_loss: 0.6060 - inflam_acc: 0.8000 - nephr_mse: 0.2088\n",
      "Epoch 941/1000\n",
      "80/80 [==============================] - 0s 47us/sample - loss: 0.5584 - inflam_loss: 0.4372 - nephr_loss: 0.6057 - inflam_acc: 0.8250 - nephr_mse: 0.2088\n",
      "Epoch 942/1000\n",
      "80/80 [==============================] - 0s 38us/sample - loss: 0.5580 - inflam_loss: 0.4369 - nephr_loss: 0.6053 - inflam_acc: 0.8000 - nephr_mse: 0.2085\n",
      "Epoch 943/1000\n",
      "80/80 [==============================] - 0s 38us/sample - loss: 0.5576 - inflam_loss: 0.4366 - nephr_loss: 0.6049 - inflam_acc: 0.8250 - nephr_mse: 0.2085\n",
      "Epoch 944/1000\n",
      "80/80 [==============================] - 0s 33us/sample - loss: 0.5572 - inflam_loss: 0.4363 - nephr_loss: 0.6045 - inflam_acc: 0.8000 - nephr_mse: 0.2081\n",
      "Epoch 945/1000\n",
      "80/80 [==============================] - 0s 1ms/sample - loss: 0.5568 - inflam_loss: 0.4359 - nephr_loss: 0.6041 - inflam_acc: 0.8375 - nephr_mse: 0.2081\n",
      "Epoch 946/1000\n",
      "80/80 [==============================] - 0s 49us/sample - loss: 0.5563 - inflam_loss: 0.4356 - nephr_loss: 0.6037 - inflam_acc: 0.8000 - nephr_mse: 0.2078\n",
      "Epoch 947/1000\n",
      "80/80 [==============================] - 0s 40us/sample - loss: 0.5559 - inflam_loss: 0.4353 - nephr_loss: 0.6033 - inflam_acc: 0.8500 - nephr_mse: 0.2078\n",
      "Epoch 948/1000\n",
      "80/80 [==============================] - 0s 44us/sample - loss: 0.5555 - inflam_loss: 0.4350 - nephr_loss: 0.6029 - inflam_acc: 0.8000 - nephr_mse: 0.2074\n",
      "Epoch 949/1000\n",
      "80/80 [==============================] - 0s 34us/sample - loss: 0.5551 - inflam_loss: 0.4346 - nephr_loss: 0.6025 - inflam_acc: 0.8625 - nephr_mse: 0.2074\n",
      "Epoch 950/1000\n",
      "80/80 [==============================] - 0s 31us/sample - loss: 0.5547 - inflam_loss: 0.4343 - nephr_loss: 0.6021 - inflam_acc: 0.8000 - nephr_mse: 0.2071\n",
      "Epoch 951/1000\n",
      "80/80 [==============================] - 0s 30us/sample - loss: 0.5543 - inflam_loss: 0.4340 - nephr_loss: 0.6018 - inflam_acc: 0.8625 - nephr_mse: 0.2071\n",
      "Epoch 952/1000\n",
      "80/80 [==============================] - 0s 976us/sample - loss: 0.5539 - inflam_loss: 0.4337 - nephr_loss: 0.6014 - inflam_acc: 0.8000 - nephr_mse: 0.2068\n",
      "Epoch 953/1000\n",
      "80/80 [==============================] - 0s 47us/sample - loss: 0.5535 - inflam_loss: 0.4333 - nephr_loss: 0.6010 - inflam_acc: 0.8625 - nephr_mse: 0.2067\n",
      "Epoch 954/1000\n",
      "80/80 [==============================] - 0s 44us/sample - loss: 0.5531 - inflam_loss: 0.4330 - nephr_loss: 0.6006 - inflam_acc: 0.8000 - nephr_mse: 0.2064\n",
      "Epoch 955/1000\n",
      "80/80 [==============================] - 0s 33us/sample - loss: 0.5527 - inflam_loss: 0.4327 - nephr_loss: 0.6002 - inflam_acc: 0.8750 - nephr_mse: 0.2064\n",
      "Epoch 956/1000\n",
      "80/80 [==============================] - 0s 31us/sample - loss: 0.5523 - inflam_loss: 0.4324 - nephr_loss: 0.5998 - inflam_acc: 0.8000 - nephr_mse: 0.2061\n",
      "Epoch 957/1000\n",
      "80/80 [==============================] - 0s 35us/sample - loss: 0.5519 - inflam_loss: 0.4320 - nephr_loss: 0.5994 - inflam_acc: 0.8750 - nephr_mse: 0.2060\n",
      "Epoch 958/1000\n",
      "80/80 [==============================] - 0s 1ms/sample - loss: 0.5515 - inflam_loss: 0.4317 - nephr_loss: 0.5990 - inflam_acc: 0.8000 - nephr_mse: 0.2057\n",
      "Epoch 959/1000\n",
      "80/80 [==============================] - 0s 46us/sample - loss: 0.5511 - inflam_loss: 0.4314 - nephr_loss: 0.5987 - inflam_acc: 0.8750 - nephr_mse: 0.2057\n",
      "Epoch 960/1000\n",
      "80/80 [==============================] - 0s 41us/sample - loss: 0.5507 - inflam_loss: 0.4311 - nephr_loss: 0.5983 - inflam_acc: 0.8000 - nephr_mse: 0.2054\n",
      "Epoch 961/1000\n",
      "80/80 [==============================] - 0s 36us/sample - loss: 0.5503 - inflam_loss: 0.4307 - nephr_loss: 0.5979 - inflam_acc: 0.8750 - nephr_mse: 0.2053\n",
      "Epoch 962/1000\n",
      "80/80 [==============================] - 0s 37us/sample - loss: 0.5499 - inflam_loss: 0.4304 - nephr_loss: 0.5975 - inflam_acc: 0.8000 - nephr_mse: 0.2050\n",
      "Epoch 963/1000\n",
      "80/80 [==============================] - 0s 53us/sample - loss: 0.5495 - inflam_loss: 0.4301 - nephr_loss: 0.5971 - inflam_acc: 0.8750 - nephr_mse: 0.2050\n",
      "Epoch 964/1000\n",
      "80/80 [==============================] - 0s 47us/sample - loss: 0.5491 - inflam_loss: 0.4298 - nephr_loss: 0.5967 - inflam_acc: 0.8000 - nephr_mse: 0.2047\n",
      "Epoch 965/1000\n",
      "80/80 [==============================] - 0s 36us/sample - loss: 0.5487 - inflam_loss: 0.4295 - nephr_loss: 0.5963 - inflam_acc: 0.8750 - nephr_mse: 0.2046\n",
      "Epoch 966/1000\n",
      "80/80 [==============================] - 0s 33us/sample - loss: 0.5483 - inflam_loss: 0.4291 - nephr_loss: 0.5960 - inflam_acc: 0.8000 - nephr_mse: 0.2043\n",
      "Epoch 967/1000\n",
      "80/80 [==============================] - 0s 34us/sample - loss: 0.5479 - inflam_loss: 0.4288 - nephr_loss: 0.5956 - inflam_acc: 0.8750 - nephr_mse: 0.2043\n",
      "Epoch 968/1000\n",
      "80/80 [==============================] - 0s 995us/sample - loss: 0.5475 - inflam_loss: 0.4285 - nephr_loss: 0.5952 - inflam_acc: 0.8000 - nephr_mse: 0.2040\n",
      "Epoch 969/1000\n",
      "80/80 [==============================] - 0s 63us/sample - loss: 0.5471 - inflam_loss: 0.4282 - nephr_loss: 0.5948 - inflam_acc: 0.8750 - nephr_mse: 0.2040\n",
      "Epoch 970/1000\n",
      "80/80 [==============================] - 0s 53us/sample - loss: 0.5467 - inflam_loss: 0.4279 - nephr_loss: 0.5944 - inflam_acc: 0.8000 - nephr_mse: 0.2036\n",
      "Epoch 971/1000\n",
      "80/80 [==============================] - 0s 39us/sample - loss: 0.5463 - inflam_loss: 0.4275 - nephr_loss: 0.5940 - inflam_acc: 0.8875 - nephr_mse: 0.2036\n",
      "Epoch 972/1000\n",
      "80/80 [==============================] - 0s 35us/sample - loss: 0.5459 - inflam_loss: 0.4272 - nephr_loss: 0.5936 - inflam_acc: 0.8125 - nephr_mse: 0.2033\n",
      "Epoch 973/1000\n",
      "80/80 [==============================] - 0s 1ms/sample - loss: 0.5455 - inflam_loss: 0.4269 - nephr_loss: 0.5933 - inflam_acc: 0.8875 - nephr_mse: 0.2033\n",
      "Epoch 974/1000\n",
      "80/80 [==============================] - 0s 60us/sample - loss: 0.5452 - inflam_loss: 0.4266 - nephr_loss: 0.5929 - inflam_acc: 0.8250 - nephr_mse: 0.2030\n",
      "Epoch 975/1000\n",
      "80/80 [==============================] - 0s 52us/sample - loss: 0.5448 - inflam_loss: 0.4263 - nephr_loss: 0.5925 - inflam_acc: 0.8875 - nephr_mse: 0.2029\n",
      "Epoch 976/1000\n",
      "80/80 [==============================] - 0s 40us/sample - loss: 0.5444 - inflam_loss: 0.4259 - nephr_loss: 0.5921 - inflam_acc: 0.8250 - nephr_mse: 0.2026\n",
      "Epoch 977/1000\n",
      "80/80 [==============================] - 0s 41us/sample - loss: 0.5440 - inflam_loss: 0.4256 - nephr_loss: 0.5917 - inflam_acc: 0.8875 - nephr_mse: 0.2026\n",
      "Epoch 978/1000\n",
      "80/80 [==============================] - 0s 33us/sample - loss: 0.5436 - inflam_loss: 0.4253 - nephr_loss: 0.5913 - inflam_acc: 0.8375 - nephr_mse: 0.2023\n",
      "Epoch 979/1000\n",
      "80/80 [==============================] - 0s 991us/sample - loss: 0.5432 - inflam_loss: 0.4250 - nephr_loss: 0.5910 - inflam_acc: 0.8875 - nephr_mse: 0.2022\n",
      "Epoch 980/1000\n",
      "80/80 [==============================] - 0s 49us/sample - loss: 0.5428 - inflam_loss: 0.4247 - nephr_loss: 0.5906 - inflam_acc: 0.8500 - nephr_mse: 0.2019\n",
      "Epoch 981/1000\n",
      "80/80 [==============================] - 0s 36us/sample - loss: 0.5424 - inflam_loss: 0.4244 - nephr_loss: 0.5902 - inflam_acc: 0.8875 - nephr_mse: 0.2019\n",
      "Epoch 982/1000\n",
      "80/80 [==============================] - 0s 40us/sample - loss: 0.5420 - inflam_loss: 0.4240 - nephr_loss: 0.5898 - inflam_acc: 0.8625 - nephr_mse: 0.2016\n",
      "Epoch 983/1000\n",
      "80/80 [==============================] - 0s 40us/sample - loss: 0.5416 - inflam_loss: 0.4237 - nephr_loss: 0.5894 - inflam_acc: 0.9000 - nephr_mse: 0.2015\n",
      "Epoch 984/1000\n",
      "80/80 [==============================] - 0s 1ms/sample - loss: 0.5412 - inflam_loss: 0.4234 - nephr_loss: 0.5891 - inflam_acc: 0.8625 - nephr_mse: 0.2013\n",
      "Epoch 985/1000\n",
      "80/80 [==============================] - 0s 53us/sample - loss: 0.5408 - inflam_loss: 0.4231 - nephr_loss: 0.5887 - inflam_acc: 0.9000 - nephr_mse: 0.2012\n",
      "Epoch 986/1000\n",
      "80/80 [==============================] - 0s 41us/sample - loss: 0.5404 - inflam_loss: 0.4228 - nephr_loss: 0.5883 - inflam_acc: 0.8625 - nephr_mse: 0.2009\n",
      "Epoch 987/1000\n",
      "80/80 [==============================] - 0s 44us/sample - loss: 0.5400 - inflam_loss: 0.4225 - nephr_loss: 0.5879 - inflam_acc: 0.9000 - nephr_mse: 0.2009\n",
      "Epoch 988/1000\n",
      "80/80 [==============================] - 0s 37us/sample - loss: 0.5396 - inflam_loss: 0.4221 - nephr_loss: 0.5875 - inflam_acc: 0.8625 - nephr_mse: 0.2006\n",
      "Epoch 989/1000\n",
      "80/80 [==============================] - 0s 992us/sample - loss: 0.5393 - inflam_loss: 0.4218 - nephr_loss: 0.5872 - inflam_acc: 0.9000 - nephr_mse: 0.2005\n",
      "Epoch 990/1000\n",
      "80/80 [==============================] - 0s 47us/sample - loss: 0.5389 - inflam_loss: 0.4215 - nephr_loss: 0.5868 - inflam_acc: 0.8750 - nephr_mse: 0.2002\n",
      "Epoch 991/1000\n",
      "80/80 [==============================] - 0s 46us/sample - loss: 0.5385 - inflam_loss: 0.4212 - nephr_loss: 0.5864 - inflam_acc: 0.9000 - nephr_mse: 0.2002\n",
      "Epoch 992/1000\n",
      "80/80 [==============================] - 0s 48us/sample - loss: 0.5381 - inflam_loss: 0.4209 - nephr_loss: 0.5860 - inflam_acc: 0.8750 - nephr_mse: 0.1999\n",
      "Epoch 993/1000\n",
      "80/80 [==============================] - 0s 41us/sample - loss: 0.5377 - inflam_loss: 0.4206 - nephr_loss: 0.5856 - inflam_acc: 0.9000 - nephr_mse: 0.1998\n",
      "Epoch 994/1000\n",
      "80/80 [==============================] - 0s 1ms/sample - loss: 0.5373 - inflam_loss: 0.4202 - nephr_loss: 0.5853 - inflam_acc: 0.8750 - nephr_mse: 0.1996\n",
      "Epoch 995/1000\n",
      "80/80 [==============================] - 0s 47us/sample - loss: 0.5369 - inflam_loss: 0.4199 - nephr_loss: 0.5849 - inflam_acc: 0.9125 - nephr_mse: 0.1995\n",
      "Epoch 996/1000\n",
      "80/80 [==============================] - 0s 33us/sample - loss: 0.5365 - inflam_loss: 0.4196 - nephr_loss: 0.5845 - inflam_acc: 0.8750 - nephr_mse: 0.1992\n",
      "Epoch 997/1000\n",
      "80/80 [==============================] - 0s 35us/sample - loss: 0.5361 - inflam_loss: 0.4193 - nephr_loss: 0.5841 - inflam_acc: 0.9125 - nephr_mse: 0.1992\n",
      "Epoch 998/1000\n",
      "80/80 [==============================] - 0s 50us/sample - loss: 0.5357 - inflam_loss: 0.4190 - nephr_loss: 0.5837 - inflam_acc: 0.8750 - nephr_mse: 0.1989\n",
      "Epoch 999/1000\n",
      "80/80 [==============================] - 0s 42us/sample - loss: 0.5354 - inflam_loss: 0.4187 - nephr_loss: 0.5834 - inflam_acc: 0.9125 - nephr_mse: 0.1988\n",
      "Epoch 1000/1000\n",
      "80/80 [==============================] - 0s 989us/sample - loss: 0.5350 - inflam_loss: 0.4184 - nephr_loss: 0.5830 - inflam_acc: 0.8750 - nephr_mse: 0.1985\n"
     ]
    }
   ],
   "source": [
    "# Train the model\n",
    "history = model.fit(inputs_train, outputs_train, epochs=1000, batch_size=128,verbose=True)\n"
   ]
  },
  {
   "cell_type": "markdown",
   "metadata": {},
   "source": [
    "#### Plot the learning curves"
   ]
  },
  {
   "cell_type": "code",
   "execution_count": 60,
   "metadata": {
    "scrolled": false
   },
   "outputs": [
    {
     "data": {
      "image/png": "[encoded data removed]",
      "text/plain": [
       "<Figure size 432x288 with 1 Axes>"
      ]
     },
     "metadata": {
      "needs_background": "light"
     },
     "output_type": "display_data"
    },
    {
     "data": {
      "image/png": "[encoded data removed]",
      "text/plain": [
       "<Figure size 432x288 with 1 Axes>"
      ]
     },
     "metadata": {
      "needs_background": "light"
     },
     "output_type": "display_data"
    }
   ],
   "source": [
    "# Plot the training accuracy\n",
    "\n",
    "acc_keys = [k for k in history.history.keys() if k in ('inflam_acc', 'nephr_acc')] \n",
    "loss_keys = [k for k in history.history.keys() if not k in acc_keys]\n",
    "\n",
    "for k, v in history.history.items():\n",
    "    if k in acc_keys:\n",
    "        plt.figure(1)\n",
    "        plt.plot(v)\n",
    "    else:\n",
    "        plt.figure(2)\n",
    "        plt.plot(v)\n",
    "\n",
    "plt.figure(1)\n",
    "plt.title('Accuracy vs. epochs')\n",
    "plt.ylabel('Accuracy')\n",
    "plt.xlabel('Epoch')\n",
    "plt.legend(acc_keys, loc='upper right')\n",
    "\n",
    "plt.figure(2)\n",
    "plt.title('Loss vs. epochs')\n",
    "plt.ylabel('Loss')\n",
    "plt.xlabel('Epoch')\n",
    "plt.legend(loss_keys, loc='upper right')\n",
    "\n",
    "plt.show()"
   ]
  },
  {
   "cell_type": "code",
   "execution_count": 61,
   "metadata": {
    "scrolled": false
   },
   "outputs": [
    {
     "name": "stdout",
     "output_type": "stream",
     "text": [
      "40/1 [================================================================================================================================================================================================================================================================================================================================================================================================================================================================================================================================================================================================================================================================================================================================================================================================================================================================================================================================================================================================================================================================================================================================================================================================================================================] - 0s 6ms/sample - loss: 0.5823 - inflam_loss: 0.4734 - nephr_loss: 0.6134 - inflam_acc: 0.8000 - nephr_mse: 0.2432\n"
     ]
    },
    {
     "data": {
      "text/plain": [
       "[0.6375331163406373, 0.47342694, 0.6133846, 0.8, 0.24321194]"
      ]
     },
     "execution_count": 61,
     "metadata": {},
     "output_type": "execute_result"
    }
   ],
   "source": [
    "# Evaluate the model\n",
    "\n",
    "model.evaluate([temp_test, nocc_test, lumbp_test, up_test, mict_test, bis_test], [inflam_test, nephr_test])"
   ]
  },
  {
   "cell_type": "markdown",
   "metadata": {},
   "source": [
    "***\n",
    "<a id=\"coding_tutorial_2\"></a>\n",
    "## Tensors and Variables"
   ]
  },
  {
   "cell_type": "code",
   "execution_count": 63,
   "metadata": {
    "scrolled": false
   },
   "outputs": [],
   "source": [
    "import numpy as np"
   ]
  },
  {
   "cell_type": "markdown",
   "metadata": {},
   "source": [
    "#### Create Variable objects"
   ]
  },
  {
   "cell_type": "code",
   "execution_count": 64,
   "metadata": {
    "scrolled": false
   },
   "outputs": [],
   "source": [
    "# Create Variable objects of different type with tf.Variable\n",
    "\n",
    "strings = tf.Variable([\"Hello world!\"], tf.string)\n",
    "floats  = tf.Variable([3.14159, 2.71828], tf.float64)\n",
    "ints = tf.Variable([1, 2, 3], tf.int32)\n",
    "complexs = tf.Variable([25.9 - 7.39j, 1.23 - 4.91j], tf.complex128)"
   ]
  },
  {
   "cell_type": "code",
   "execution_count": 66,
   "metadata": {
    "scrolled": false
   },
   "outputs": [
    {
     "data": {
      "text/plain": [
       "<tf.Variable 'Variable:0' shape=(3, 3) dtype=float32, numpy=\n",
       "array([[4.2, 4.2, 4.2],\n",
       "       [4.2, 4.2, 4.2],\n",
       "       [4.2, 4.2, 4.2]], dtype=float32)>"
      ]
     },
     "execution_count": 66,
     "metadata": {},
     "output_type": "execute_result"
    }
   ],
   "source": [
    "# Initialise a Variable value\n",
    "tf.Variable(tf.constant(4.2,shape=(3,3)))\n"
   ]
  },
  {
   "cell_type": "markdown",
   "metadata": {},
   "source": [
    "#### Use and modify Variable values"
   ]
  },
  {
   "cell_type": "code",
   "execution_count": 67,
   "metadata": {
    "scrolled": false
   },
   "outputs": [
    {
     "name": "stdout",
     "output_type": "stream",
     "text": [
      "<class 'tensorflow.python.framework.ops.EagerTensor'>\n"
     ]
    }
   ],
   "source": [
    "# Use the value of a Variable\n",
    "\n",
    "v = tf.Variable(0.0)\n",
    "w = v + 1  # w is a tf.Tensor which is computed based on the value of v.\n",
    "\n",
    "print(type(w))"
   ]
  },
  {
   "cell_type": "code",
   "execution_count": 69,
   "metadata": {
    "scrolled": false
   },
   "outputs": [
    {
     "name": "stdout",
     "output_type": "stream",
     "text": [
      "<tf.Variable 'Variable:0' shape=() dtype=float32, numpy=1.0>\n"
     ]
    }
   ],
   "source": [
    "# Increment the value of a Variable\n",
    "\n",
    "v.assign_add(1)\n",
    "print(v)"
   ]
  },
  {
   "cell_type": "code",
   "execution_count": null,
   "metadata": {
    "scrolled": false
   },
   "outputs": [],
   "source": [
    "# Decrement the value of a Variable\n",
    "\n"
   ]
  },
  {
   "cell_type": "markdown",
   "metadata": {},
   "source": [
    "#### Create Tensor objects"
   ]
  },
  {
   "cell_type": "markdown",
   "metadata": {},
   "source": [
    "Create a constant tensor and print its type as well as its shape:"
   ]
  },
  {
   "cell_type": "code",
   "execution_count": 70,
   "metadata": {
    "scrolled": false
   },
   "outputs": [
    {
     "name": "stdout",
     "output_type": "stream",
     "text": [
      "tf.Tensor(\n",
      "[[1 2 3]\n",
      " [4 5 6]\n",
      " [7 8 9]], shape=(3, 3), dtype=int32)\n",
      "dtype: <dtype: 'int32'>\n",
      "shape: (3, 3)\n"
     ]
    }
   ],
   "source": [
    "# Create a constant Tensor\n",
    "\n",
    "x = tf.constant([[1, 2, 3], [4, 5, 6], [7, 8, 9]])\n",
    "print(x)\n",
    "print(\"dtype:\", x.dtype)\n",
    "print(\"shape:\", x.shape)"
   ]
  },
  {
   "cell_type": "code",
   "execution_count": 71,
   "metadata": {
    "scrolled": false
   },
   "outputs": [
    {
     "data": {
      "text/plain": [
       "array([[1, 2, 3],\n",
       "       [4, 5, 6],\n",
       "       [7, 8, 9]], dtype=int32)"
      ]
     },
     "execution_count": 71,
     "metadata": {},
     "output_type": "execute_result"
    }
   ],
   "source": [
    "# Obtain the value as a numpy array\n",
    "x.numpy()\n"
   ]
  },
  {
   "cell_type": "code",
   "execution_count": 72,
   "metadata": {
    "scrolled": false
   },
   "outputs": [
    {
     "name": "stdout",
     "output_type": "stream",
     "text": [
      "tf.Tensor(\n",
      "[[1. 2. 3.]\n",
      " [4. 5. 6.]\n",
      " [7. 8. 9.]], shape=(3, 3), dtype=float32)\n"
     ]
    }
   ],
   "source": [
    "# Create a Tensor of type float32\n",
    "\n",
    "x = tf.constant([[1, 2, 3], [4, 5, 6], [7, 8, 9]], tf.float32)\n",
    "print(x)\n"
   ]
  },
  {
   "cell_type": "code",
   "execution_count": 73,
   "metadata": {
    "scrolled": false
   },
   "outputs": [],
   "source": [
    "# Create coefficients\n",
    "\n",
    "coeffs = np.arange(16)"
   ]
  },
  {
   "cell_type": "code",
   "execution_count": 74,
   "metadata": {},
   "outputs": [],
   "source": [
    "# Initialise shapes\n",
    "shape1=[8,2]\n",
    "shape2=[4,4]\n",
    "shape3=[2,2,2,2]"
   ]
  },
  {
   "cell_type": "code",
   "execution_count": 75,
   "metadata": {},
   "outputs": [
    {
     "name": "stdout",
     "output_type": "stream",
     "text": [
      "\n",
      " a:\n",
      "  tf.Tensor(\n",
      "[[ 0  1]\n",
      " [ 2  3]\n",
      " [ 4  5]\n",
      " [ 6  7]\n",
      " [ 8  9]\n",
      " [10 11]\n",
      " [12 13]\n",
      " [14 15]], shape=(8, 2), dtype=int64)\n",
      "\n",
      " b:\n",
      "  tf.Tensor(\n",
      "[[ 0  1  2  3]\n",
      " [ 4  5  6  7]\n",
      " [ 8  9 10 11]\n",
      " [12 13 14 15]], shape=(4, 4), dtype=int64)\n",
      "\n",
      " c:\n",
      "  tf.Tensor(\n",
      "[[[[ 0  1]\n",
      "   [ 2  3]]\n",
      "\n",
      "  [[ 4  5]\n",
      "   [ 6  7]]]\n",
      "\n",
      "\n",
      " [[[ 8  9]\n",
      "   [10 11]]\n",
      "\n",
      "  [[12 13]\n",
      "   [14 15]]]], shape=(2, 2, 2, 2), dtype=int64)\n"
     ]
    }
   ],
   "source": [
    "# Create Tensors of different shape\n",
    "\n",
    "a = tf.constant(coeffs, shape=shape1)\n",
    "print(\"\\n a:\\n \", a)\n",
    "\n",
    "b = tf.constant(coeffs, shape=shape2)\n",
    "print(\"\\n b:\\n \", b)\n",
    "\n",
    "c = tf.constant(coeffs, shape=shape3)\n",
    "print(\"\\n c:\\n \", c)"
   ]
  },
  {
   "cell_type": "markdown",
   "metadata": {},
   "source": [
    "#### Useful Tensor operations"
   ]
  },
  {
   "cell_type": "code",
   "execution_count": 76,
   "metadata": {
    "scrolled": false
   },
   "outputs": [],
   "source": [
    "# Create a constant Tensor\n",
    "\n",
    "t = tf.constant(np.arange(80), shape=[5,2,8])"
   ]
  },
  {
   "cell_type": "code",
   "execution_count": 77,
   "metadata": {},
   "outputs": [],
   "source": [
    "# Get the rank of a Tensor\n",
    "\n",
    "rank = tf.rank(t)"
   ]
  },
  {
   "cell_type": "code",
   "execution_count": 78,
   "metadata": {},
   "outputs": [
    {
     "name": "stdout",
     "output_type": "stream",
     "text": [
      "rank:  tf.Tensor(3, shape=(), dtype=int32)\n"
     ]
    }
   ],
   "source": [
    "# Display the rank\n",
    "\n",
    "print(\"rank: \", rank)"
   ]
  },
  {
   "cell_type": "code",
   "execution_count": 79,
   "metadata": {
    "scrolled": false
   },
   "outputs": [],
   "source": [
    "# Reshape a Tensor\n",
    "\n",
    "t2 = tf.reshape(t , [8,10])"
   ]
  },
  {
   "cell_type": "code",
   "execution_count": 80,
   "metadata": {},
   "outputs": [
    {
     "name": "stdout",
     "output_type": "stream",
     "text": [
      "t2.shape:  (8, 10)\n"
     ]
    }
   ],
   "source": [
    "# Display the new shape\n",
    "\n",
    "print(\"t2.shape: \", t2.shape)"
   ]
  },
  {
   "cell_type": "code",
   "execution_count": 81,
   "metadata": {
    "scrolled": false
   },
   "outputs": [],
   "source": [
    "# Create ones, zeros, identity and constant Tensors\n",
    "\n",
    "ones = tf.ones(shape=(2,3))\n",
    "zeros = tf.zeros(shape=(2,4))\n",
    "eye = tf.eye(3)\n",
    "tensor7 = tf.constant(np.arange(80), shape=[5,2,8])"
   ]
  },
  {
   "cell_type": "code",
   "execution_count": 82,
   "metadata": {},
   "outputs": [
    {
     "name": "stdout",
     "output_type": "stream",
     "text": [
      "\n",
      " Ones:\n",
      "  tf.Tensor(\n",
      "[[1. 1. 1.]\n",
      " [1. 1. 1.]], shape=(2, 3), dtype=float32)\n",
      "\n",
      " Zeros:\n",
      "  tf.Tensor(\n",
      "[[0. 0. 0. 0.]\n",
      " [0. 0. 0. 0.]], shape=(2, 4), dtype=float32)\n",
      "\n",
      " Identity:\n",
      "  tf.Tensor(\n",
      "[[1. 0. 0.]\n",
      " [0. 1. 0.]\n",
      " [0. 0. 1.]], shape=(3, 3), dtype=float32)\n",
      "\n",
      " Tensor filled with 7:  tf.Tensor(\n",
      "[[[ 0  1  2  3  4  5  6  7]\n",
      "  [ 8  9 10 11 12 13 14 15]]\n",
      "\n",
      " [[16 17 18 19 20 21 22 23]\n",
      "  [24 25 26 27 28 29 30 31]]\n",
      "\n",
      " [[32 33 34 35 36 37 38 39]\n",
      "  [40 41 42 43 44 45 46 47]]\n",
      "\n",
      " [[48 49 50 51 52 53 54 55]\n",
      "  [56 57 58 59 60 61 62 63]]\n",
      "\n",
      " [[64 65 66 67 68 69 70 71]\n",
      "  [72 73 74 75 76 77 78 79]]], shape=(5, 2, 8), dtype=int64)\n"
     ]
    }
   ],
   "source": [
    "# Display the created tensors\n",
    "\n",
    "print(\"\\n Ones:\\n \", ones)\n",
    "print(\"\\n Zeros:\\n \", zeros)\n",
    "print(\"\\n Identity:\\n \", eye)\n",
    "print(\"\\n Tensor filled with 7: \", tensor7)"
   ]
  },
  {
   "cell_type": "code",
   "execution_count": 84,
   "metadata": {
    "scrolled": false
   },
   "outputs": [],
   "source": [
    "# Create a ones Tensor and a zeros Tensor\n",
    "\n",
    "t1 = tf.ones(shape=(2, 2))\n",
    "t2 = tf.zeros(shape=(2, 2))"
   ]
  },
  {
   "cell_type": "code",
   "execution_count": 85,
   "metadata": {
    "scrolled": false
   },
   "outputs": [],
   "source": [
    "# Concatentate two Tensors\n",
    "concat0 = tf.concat([t1,t2],0)\n",
    "concat1 = tf.concat([t1,t2],1)"
   ]
  },
  {
   "cell_type": "code",
   "execution_count": 86,
   "metadata": {},
   "outputs": [
    {
     "name": "stdout",
     "output_type": "stream",
     "text": [
      "tf.Tensor(\n",
      "[[1. 1.]\n",
      " [1. 1.]\n",
      " [0. 0.]\n",
      " [0. 0.]], shape=(4, 2), dtype=float32)\n",
      "tf.Tensor(\n",
      "[[1. 1. 0. 0.]\n",
      " [1. 1. 0. 0.]], shape=(2, 4), dtype=float32)\n"
     ]
    }
   ],
   "source": [
    "# Display the concatenated tensors\n",
    "\n",
    "print(concat0)\n",
    "print(concat1)"
   ]
  },
  {
   "cell_type": "code",
   "execution_count": 87,
   "metadata": {
    "scrolled": false
   },
   "outputs": [
    {
     "name": "stdout",
     "output_type": "stream",
     "text": [
      "\n",
      " t shape:  (3, 2, 4)\n"
     ]
    }
   ],
   "source": [
    "# Create a constant Tensor\n",
    "\n",
    "t = tf.constant(np.arange(24), shape=(3, 2, 4))\n",
    "print(\"\\n t shape: \", t.shape)"
   ]
  },
  {
   "cell_type": "code",
   "execution_count": 88,
   "metadata": {
    "scrolled": false
   },
   "outputs": [],
   "source": [
    "# Expanding the rank of Tensors\n",
    "\n",
    "t1 = tf.expand_dims(t,0)\n",
    "t2 = tf.expand_dims(t,1)\n",
    "t3 = tf.expand_dims(t,3)"
   ]
  },
  {
   "cell_type": "code",
   "execution_count": 89,
   "metadata": {
    "scrolled": false
   },
   "outputs": [
    {
     "name": "stdout",
     "output_type": "stream",
     "text": [
      "\n",
      " After expanding dims:\n",
      " t1 shape:  (1, 3, 2, 4) \n",
      " t2 shape:  (3, 1, 2, 4) \n",
      " t3 shape:  (3, 2, 4, 1)\n"
     ]
    }
   ],
   "source": [
    "# Display the shapes after tf.expand_dims\n",
    "\n",
    "print(\"\\n After expanding dims:\\n t1 shape: \", t1.shape, \"\\n t2 shape: \", t2.shape, \"\\n t3 shape: \", t3.shape)"
   ]
  },
  {
   "cell_type": "code",
   "execution_count": 90,
   "metadata": {
    "scrolled": false
   },
   "outputs": [],
   "source": [
    "# Squeezing redundant dimensions\n",
    "\n",
    "t1 = tf.squeeze(t1,0)\n",
    "t2 = tf.squeeze(t2,1)\n",
    "t3 = tf.squeeze(t3,3)"
   ]
  },
  {
   "cell_type": "code",
   "execution_count": 91,
   "metadata": {
    "scrolled": false
   },
   "outputs": [
    {
     "name": "stdout",
     "output_type": "stream",
     "text": [
      "\n",
      " After squeezing:\n",
      " t1 shape:  (3, 2, 4) \n",
      " t2 shape:  (3, 2, 4) \n",
      " t3 shape:  (3, 2, 4)\n"
     ]
    }
   ],
   "source": [
    "# Display the shapes after tf.squeeze\n",
    "\n",
    "print(\"\\n After squeezing:\\n t1 shape: \", t1.shape, \"\\n t2 shape: \", t2.shape, \"\\n t3 shape: \", t3.shape)"
   ]
  },
  {
   "cell_type": "code",
   "execution_count": 95,
   "metadata": {
    "scrolled": false
   },
   "outputs": [
    {
     "name": "stdout",
     "output_type": "stream",
     "text": [
      "tf.Tensor([2 3 4], shape=(3,), dtype=int32)\n",
      "tf.Tensor([2 3 4], shape=(3,), dtype=int32)\n",
      "tf.Tensor([1 2 3 4], shape=(4,), dtype=int32)\n",
      "tf.Tensor([5 6 7], shape=(3,), dtype=int32)\n"
     ]
    }
   ],
   "source": [
    "# Slicing a Tensor\n",
    "\n",
    "x = tf.constant([1,2,3,4,5,6,7])\n",
    "\n",
    "print(x[1:-3])\n",
    "print(x[1:4])\n",
    "print(x[:4])\n",
    "print(x[4:])"
   ]
  },
  {
   "cell_type": "markdown",
   "metadata": {},
   "source": [
    "#### Doing maths with Tensors"
   ]
  },
  {
   "cell_type": "code",
   "execution_count": 97,
   "metadata": {},
   "outputs": [],
   "source": [
    "# Create two constant Tensors\n",
    "\n",
    "c = tf.constant([[1.0, 2.0], [3.0, 4.0]])\n",
    "d = tf.constant([[1.0, 1.0], [0.0, 1.0]])"
   ]
  },
  {
   "cell_type": "code",
   "execution_count": 98,
   "metadata": {
    "scrolled": false
   },
   "outputs": [],
   "source": [
    "# Matrix multiplication\n",
    "\n",
    "matmul_cd = tf.matmul(c,d)"
   ]
  },
  {
   "cell_type": "code",
   "execution_count": 99,
   "metadata": {},
   "outputs": [
    {
     "name": "stdout",
     "output_type": "stream",
     "text": [
      "\n",
      " tf.matmul(c,d):\n",
      " tf.Tensor(\n",
      "[[1. 3.]\n",
      " [3. 7.]], shape=(2, 2), dtype=float32)\n"
     ]
    }
   ],
   "source": [
    "# Display the result\n",
    "\n",
    "print(\"\\n tf.matmul(c,d):\\n\", matmul_cd)"
   ]
  },
  {
   "cell_type": "code",
   "execution_count": 100,
   "metadata": {
    "scrolled": false
   },
   "outputs": [],
   "source": [
    "# Elementwise operations\n",
    "\n",
    "c_times_d = c*d\n",
    "c_plus_d=c+d\n",
    "c_minus_d=c-d\n",
    "c_div_c=c/d"
   ]
  },
  {
   "cell_type": "code",
   "execution_count": 101,
   "metadata": {},
   "outputs": [
    {
     "name": "stdout",
     "output_type": "stream",
     "text": [
      "\n",
      " c*d:\n",
      " tf.Tensor(\n",
      "[[1. 2.]\n",
      " [0. 4.]], shape=(2, 2), dtype=float32)\n",
      "\n",
      " c+d:\n",
      " tf.Tensor(\n",
      "[[2. 3.]\n",
      " [3. 5.]], shape=(2, 2), dtype=float32)\n",
      "\n",
      " c-d:\n",
      " tf.Tensor(\n",
      "[[0. 1.]\n",
      " [3. 3.]], shape=(2, 2), dtype=float32)\n",
      "\n",
      " c/c:\n",
      " tf.Tensor(\n",
      "[[ 1.  2.]\n",
      " [inf  4.]], shape=(2, 2), dtype=float32)\n"
     ]
    }
   ],
   "source": [
    "# Display the results\n",
    "\n",
    "print(\"\\n c*d:\\n\", c_times_d)\n",
    "print(\"\\n c+d:\\n\", c_plus_d)\n",
    "print(\"\\n c-d:\\n\", c_minus_d)\n",
    "print(\"\\n c/c:\\n\", c_div_c)"
   ]
  },
  {
   "cell_type": "code",
   "execution_count": 102,
   "metadata": {
    "scrolled": false
   },
   "outputs": [],
   "source": [
    "# Create Tensors\n",
    "\n",
    "a = tf.constant([[2, 3], [3, 3]])\n",
    "b = tf.constant([[8, 7], [2, 3]])\n",
    "x = tf.constant([[-6.89 + 1.78j], [-2.54 + 2.15j]])"
   ]
  },
  {
   "cell_type": "code",
   "execution_count": 105,
   "metadata": {},
   "outputs": [],
   "source": [
    "# Absolute value of a Tensor\n",
    "\n",
    "absx = tf.abs(a)"
   ]
  },
  {
   "cell_type": "code",
   "execution_count": 112,
   "metadata": {},
   "outputs": [],
   "source": [
    "# Power of a Tensor\n",
    "\n",
    "powab = tf.pow(a,b)"
   ]
  },
  {
   "cell_type": "code",
   "execution_count": 113,
   "metadata": {
    "scrolled": false
   },
   "outputs": [
    {
     "name": "stdout",
     "output_type": "stream",
     "text": [
      "\n",
      "  tf.Tensor(\n",
      "[[2 3]\n",
      " [3 3]], shape=(2, 2), dtype=int32)\n",
      "\n",
      "  tf.Tensor(\n",
      "[[ 256 2187]\n",
      " [   9   27]], shape=(2, 2), dtype=int32)\n"
     ]
    }
   ],
   "source": [
    "# Display the results\n",
    "\n",
    "print(\"\\n \", absx)\n",
    "print(\"\\n \", powab)"
   ]
  },
  {
   "cell_type": "markdown",
   "metadata": {},
   "source": [
    "#### Randomly sampled constant tensors"
   ]
  },
  {
   "cell_type": "code",
   "execution_count": 114,
   "metadata": {
    "scrolled": false
   },
   "outputs": [],
   "source": [
    "# Create a Tensor with samples from a Normal distribution\n",
    "\n",
    "tn = tf.random.normal(shape=(2,2), mean=0, stddev=1.)"
   ]
  },
  {
   "cell_type": "code",
   "execution_count": 116,
   "metadata": {
    "scrolled": false
   },
   "outputs": [],
   "source": [
    "# Create a Tensor with samples from a Uniform distribution\n",
    "\n",
    "tu = tf.random.uniform(shape=(2,1), minval=0, maxval=10, dtype='int32')"
   ]
  },
  {
   "cell_type": "code",
   "execution_count": 118,
   "metadata": {
    "scrolled": false
   },
   "outputs": [],
   "source": [
    "# Create a Tensor with samples from a Poisson distribution\n",
    "\n",
    "tp = tf.random.poisson((2,2), 5 )"
   ]
  },
  {
   "cell_type": "code",
   "execution_count": 119,
   "metadata": {
    "scrolled": false
   },
   "outputs": [
    {
     "ename": "NotFoundError",
     "evalue": "Could not find valid device for node.\nNode:{{node Exp}}\nAll kernels registered for op Exp :\n  device='XLA_CPU'; T in [DT_FLOAT, DT_DOUBLE, DT_COMPLEX64, DT_BFLOAT16, DT_COMPLEX128, DT_HALF]\n  device='XLA_CPU_JIT'; T in [DT_FLOAT, DT_DOUBLE, DT_COMPLEX64, DT_BFLOAT16, DT_COMPLEX128, DT_HALF]\n  device='CPU'; T in [DT_COMPLEX128]\n  device='CPU'; T in [DT_COMPLEX64]\n  device='CPU'; T in [DT_DOUBLE]\n  device='CPU'; T in [DT_HALF]\n  device='CPU'; T in [DT_FLOAT]\n [Op:Exp]",
     "output_type": "error",
     "traceback": [
      "\u001b[0;31m---------------------------------------------------------------------------\u001b[0m",
      "\u001b[0;31mNotFoundError\u001b[0m                             Traceback (most recent call last)",
      "\u001b[0;32m<ipython-input-119-bd2362244b43>\u001b[0m in \u001b[0;36m<module>\u001b[0;34m\u001b[0m\n\u001b[1;32m      2\u001b[0m \u001b[0;34m\u001b[0m\u001b[0m\n\u001b[1;32m      3\u001b[0m \u001b[0md\u001b[0m \u001b[0;34m=\u001b[0m \u001b[0mtf\u001b[0m\u001b[0;34m.\u001b[0m\u001b[0msquare\u001b[0m\u001b[0;34m(\u001b[0m\u001b[0mtn\u001b[0m\u001b[0;34m)\u001b[0m\u001b[0;34m\u001b[0m\u001b[0;34m\u001b[0m\u001b[0m\n\u001b[0;32m----> 4\u001b[0;31m \u001b[0me\u001b[0m \u001b[0;34m=\u001b[0m \u001b[0mtf\u001b[0m\u001b[0;34m.\u001b[0m\u001b[0mexp\u001b[0m\u001b[0;34m(\u001b[0m\u001b[0md\u001b[0m\u001b[0;34m)\u001b[0m\u001b[0;34m\u001b[0m\u001b[0;34m\u001b[0m\u001b[0m\n\u001b[0m\u001b[1;32m      5\u001b[0m \u001b[0mf\u001b[0m \u001b[0;34m=\u001b[0m \u001b[0mtf\u001b[0m\u001b[0;34m.\u001b[0m\u001b[0mcos\u001b[0m\u001b[0;34m(\u001b[0m\u001b[0mc\u001b[0m\u001b[0;34m)\u001b[0m\u001b[0;34m\u001b[0m\u001b[0;34m\u001b[0m\u001b[0m\n",
      "\u001b[0;32m/opt/conda/lib/python3.7/site-packages/tensorflow_core/python/ops/gen_math_ops.py\u001b[0m in \u001b[0;36mexp\u001b[0;34m(x, name)\u001b[0m\n\u001b[1;32m   3968\u001b[0m       \u001b[0;32melse\u001b[0m\u001b[0;34m:\u001b[0m\u001b[0;34m\u001b[0m\u001b[0;34m\u001b[0m\u001b[0m\n\u001b[1;32m   3969\u001b[0m         \u001b[0mmessage\u001b[0m \u001b[0;34m=\u001b[0m \u001b[0me\u001b[0m\u001b[0;34m.\u001b[0m\u001b[0mmessage\u001b[0m\u001b[0;34m\u001b[0m\u001b[0;34m\u001b[0m\u001b[0m\n\u001b[0;32m-> 3970\u001b[0;31m       \u001b[0m_six\u001b[0m\u001b[0;34m.\u001b[0m\u001b[0mraise_from\u001b[0m\u001b[0;34m(\u001b[0m\u001b[0m_core\u001b[0m\u001b[0;34m.\u001b[0m\u001b[0m_status_to_exception\u001b[0m\u001b[0;34m(\u001b[0m\u001b[0me\u001b[0m\u001b[0;34m.\u001b[0m\u001b[0mcode\u001b[0m\u001b[0;34m,\u001b[0m \u001b[0mmessage\u001b[0m\u001b[0;34m)\u001b[0m\u001b[0;34m,\u001b[0m \u001b[0;32mNone\u001b[0m\u001b[0;34m)\u001b[0m\u001b[0;34m\u001b[0m\u001b[0;34m\u001b[0m\u001b[0m\n\u001b[0m\u001b[1;32m   3971\u001b[0m   \u001b[0;31m# Add nodes to the TensorFlow graph.\u001b[0m\u001b[0;34m\u001b[0m\u001b[0;34m\u001b[0m\u001b[0;34m\u001b[0m\u001b[0m\n\u001b[1;32m   3972\u001b[0m   \u001b[0;32mtry\u001b[0m\u001b[0;34m:\u001b[0m\u001b[0;34m\u001b[0m\u001b[0;34m\u001b[0m\u001b[0m\n",
      "\u001b[0;32m/opt/conda/lib/python3.7/site-packages/six.py\u001b[0m in \u001b[0;36mraise_from\u001b[0;34m(value, from_value)\u001b[0m\n",
      "\u001b[0;31mNotFoundError\u001b[0m: Could not find valid device for node.\nNode:{{node Exp}}\nAll kernels registered for op Exp :\n  device='XLA_CPU'; T in [DT_FLOAT, DT_DOUBLE, DT_COMPLEX64, DT_BFLOAT16, DT_COMPLEX128, DT_HALF]\n  device='XLA_CPU_JIT'; T in [DT_FLOAT, DT_DOUBLE, DT_COMPLEX64, DT_BFLOAT16, DT_COMPLEX128, DT_HALF]\n  device='CPU'; T in [DT_COMPLEX128]\n  device='CPU'; T in [DT_COMPLEX64]\n  device='CPU'; T in [DT_DOUBLE]\n  device='CPU'; T in [DT_HALF]\n  device='CPU'; T in [DT_FLOAT]\n [Op:Exp]"
     ]
    }
   ],
   "source": [
    "# More maths operations\n",
    "\n",
    "d = tf.square(tn)\n",
    "e = tf.exp(d)\n",
    "f = tf.cos(c)"
   ]
  },
  {
   "cell_type": "markdown",
   "metadata": {},
   "source": [
    "***\n",
    "<a id=\"coding_tutorial_3\"></a>\n",
    "## Accessing model layers"
   ]
  },
  {
   "cell_type": "code",
   "execution_count": null,
   "metadata": {
    "scrolled": false
   },
   "outputs": [],
   "source": [
    "import numpy as np\n",
    "import matplotlib.pyplot as plt\n",
    "%matplotlib inline"
   ]
  },
  {
   "cell_type": "markdown",
   "metadata": {},
   "source": [
    "#### Load the pre-trained model"
   ]
  },
  {
   "cell_type": "markdown",
   "metadata": {},
   "source": [
    "In this section, we aim to demonstrate accessing layer attributes within a model.\n",
    "\n",
    "Let's get started by loading the `VGG19` pre-trained model from the `keras.applications` library, which is a very deep network trained on more than a million images from the ImageNet database. The network is trained to classify images into 1000 object categories."
   ]
  },
  {
   "cell_type": "code",
   "execution_count": null,
   "metadata": {
    "scrolled": false
   },
   "outputs": [],
   "source": [
    "# Load the VGG19 model\n",
    "\n"
   ]
  },
  {
   "cell_type": "code",
   "execution_count": null,
   "metadata": {},
   "outputs": [],
   "source": [
    "# Get the inputs, layers and display the summary\n",
    "\n",
    "vgg_input = vgg_model.input\n",
    "vgg_layers = vgg_model.layers\n",
    "vgg_model.summary()"
   ]
  },
  {
   "cell_type": "markdown",
   "metadata": {},
   "source": [
    "#### Build a model to access the layer outputs"
   ]
  },
  {
   "cell_type": "code",
   "execution_count": null,
   "metadata": {},
   "outputs": [],
   "source": [
    "from tensorflow.keras.models import Model"
   ]
  },
  {
   "cell_type": "code",
   "execution_count": null,
   "metadata": {
    "scrolled": false
   },
   "outputs": [],
   "source": [
    "# Build a model that returns the layer outputs\n",
    "\n"
   ]
  },
  {
   "cell_type": "code",
   "execution_count": null,
   "metadata": {
    "scrolled": true
   },
   "outputs": [],
   "source": [
    "# Plot the model\n",
    "\n"
   ]
  },
  {
   "cell_type": "code",
   "execution_count": null,
   "metadata": {
    "scrolled": false
   },
   "outputs": [],
   "source": [
    "# Test the model on a random input\n",
    "\n"
   ]
  },
  {
   "cell_type": "markdown",
   "metadata": {},
   "source": [
    "#### Load the 'cool cat' picture"
   ]
  },
  {
   "cell_type": "markdown",
   "metadata": {},
   "source": [
    "In Zambia’s South Luangwa National Park, a photographer had been watching a pride of lions while they slept off a feast from a buffalo kill. When this female walked away, he anticipated that she might be going for a drink and so he positioned his vehicle on the opposite side of the waterhole. The `cool cat` picture is one of the highly commended 2018 Image from Wildlife Photographer of the Year."
   ]
  },
  {
   "cell_type": "code",
   "execution_count": null,
   "metadata": {
    "scrolled": false
   },
   "outputs": [],
   "source": [
    "# Display the original image\n",
    "\n",
    "import IPython.display as display\n",
    "from PIL import Image\n",
    "\n",
    "display.display(Image.open('data/cool_cat.jpg'))"
   ]
  },
  {
   "cell_type": "markdown",
   "metadata": {},
   "source": [
    "#### Visualise network features from the input image"
   ]
  },
  {
   "cell_type": "code",
   "execution_count": null,
   "metadata": {
    "scrolled": false
   },
   "outputs": [],
   "source": [
    "# Preprocess the image\n",
    "\n",
    "from tensorflow.keras.applications.vgg19 import preprocess_input\n",
    "from tensorflow.keras.preprocessing import image\n",
    "\n",
    "img_path = 'data/cool_cat.jpg'\n",
    "img = image.load_img(img_path, target_size=(224, 224))\n",
    "x = image.img_to_array(img)\n",
    "x = np.expand_dims(x, axis=0)\n",
    "x = preprocess_input(x)"
   ]
  },
  {
   "cell_type": "code",
   "execution_count": null,
   "metadata": {
    "scrolled": false
   },
   "outputs": [],
   "source": [
    "# Extract the features\n",
    "\n"
   ]
  },
  {
   "cell_type": "code",
   "execution_count": null,
   "metadata": {
    "scrolled": false
   },
   "outputs": [],
   "source": [
    "# Visualise the input channels\n",
    "\n"
   ]
  },
  {
   "cell_type": "code",
   "execution_count": null,
   "metadata": {
    "scrolled": false
   },
   "outputs": [],
   "source": [
    "# Visualise some features in the first hidden layer\n",
    "\n"
   ]
  },
  {
   "cell_type": "code",
   "execution_count": null,
   "metadata": {
    "scrolled": false
   },
   "outputs": [],
   "source": [
    "# Build a model to extract features by layer name\n",
    "\n"
   ]
  },
  {
   "cell_type": "code",
   "execution_count": null,
   "metadata": {
    "scrolled": false
   },
   "outputs": [],
   "source": [
    "# Visualise some features from the extracted layer output\n",
    "\n"
   ]
  },
  {
   "cell_type": "code",
   "execution_count": null,
   "metadata": {
    "scrolled": false
   },
   "outputs": [],
   "source": [
    "# Extract features from a layer deeper in the network\n",
    "\n"
   ]
  },
  {
   "cell_type": "code",
   "execution_count": null,
   "metadata": {
    "scrolled": false
   },
   "outputs": [],
   "source": [
    "# Visualise some features from the extracted layer output\n",
    "\n"
   ]
  },
  {
   "cell_type": "markdown",
   "metadata": {},
   "source": [
    "***\n",
    "<a id=\"coding_tutorial_4\"></a>\n",
    "## Freezing layers"
   ]
  },
  {
   "cell_type": "code",
   "execution_count": null,
   "metadata": {
    "scrolled": false
   },
   "outputs": [],
   "source": [
    "import numpy as np\n",
    "import matplotlib.pyplot as plt\n",
    "%matplotlib inline"
   ]
  },
  {
   "cell_type": "markdown",
   "metadata": {},
   "source": [
    "#### Build the model"
   ]
  },
  {
   "cell_type": "code",
   "execution_count": null,
   "metadata": {
    "scrolled": false
   },
   "outputs": [],
   "source": [
    "# Build a small Sequential model\n",
    "\n",
    "from tensorflow.keras.models import Sequential\n",
    "from tensorflow.keras import layers\n",
    "\n",
    "model = Sequential([\n",
    "    layers.Dense(4, input_shape=(4,), activation='relu', kernel_initializer='random_uniform',\n",
    "                 bias_initializer='ones'),\n",
    "    layers.Dense(2, activation='relu', kernel_initializer='lecun_normal', bias_initializer='ones'),\n",
    "    layers.Dense(4, activation='softmax'),\n",
    "])"
   ]
  },
  {
   "cell_type": "code",
   "execution_count": null,
   "metadata": {
    "scrolled": false
   },
   "outputs": [],
   "source": [
    "# Display the model summary\n",
    "\n",
    "model.summary()"
   ]
  },
  {
   "cell_type": "markdown",
   "metadata": {},
   "source": [
    "#### Examine the weight matrix variation over training"
   ]
  },
  {
   "cell_type": "code",
   "execution_count": null,
   "metadata": {
    "scrolled": false
   },
   "outputs": [],
   "source": [
    "# Retrieve the weights and biases\n",
    "\n"
   ]
  },
  {
   "cell_type": "code",
   "execution_count": null,
   "metadata": {
    "scrolled": false
   },
   "outputs": [],
   "source": [
    "# Construct a synthetic dataset\n",
    "\n",
    "x_train = np.random.random((100, 4))\n",
    "y_train = x_train\n",
    "\n",
    "x_test = np.random.random((20, 4))\n",
    "y_test = x_test"
   ]
  },
  {
   "cell_type": "code",
   "execution_count": null,
   "metadata": {
    "scrolled": false
   },
   "outputs": [],
   "source": [
    "# Compile and fit the model\n",
    "\n",
    "model.compile(optimizer='adam',\n",
    "              loss='mse',\n",
    "              metrics=['acc'])\n",
    "\n",
    "model.fit(x_train, y_train, epochs=50, verbose=False);"
   ]
  },
  {
   "cell_type": "code",
   "execution_count": null,
   "metadata": {
    "scrolled": false
   },
   "outputs": [],
   "source": [
    "# Retrieve weights and biases\n",
    "\n"
   ]
  },
  {
   "cell_type": "code",
   "execution_count": null,
   "metadata": {
    "scrolled": false
   },
   "outputs": [],
   "source": [
    "# Plot the variation\n",
    "\n",
    "plt.figure(figsize=(8,8))\n",
    "for n in range(3):\n",
    "    delta_l = W1_layers[n] - W0_layers[n]\n",
    "    print('Layer '+str(n)+': bias variation: ', np.linalg.norm(b1_layers[n] - b0_layers[n]))\n",
    "    ax = plt.subplot(1,3,n+1)\n",
    "    plt.imshow(delta_l)\n",
    "    plt.title('Layer '+str(n))\n",
    "    plt.axis('off')\n",
    "plt.colorbar()\n",
    "plt.suptitle('Weight matrices variation');"
   ]
  },
  {
   "cell_type": "markdown",
   "metadata": {},
   "source": [
    "#### Freeze layers at build time"
   ]
  },
  {
   "cell_type": "code",
   "execution_count": null,
   "metadata": {
    "scrolled": false
   },
   "outputs": [],
   "source": [
    "# Count the trainable and non trainable variables before the freezing\n",
    "\n"
   ]
  },
  {
   "cell_type": "code",
   "execution_count": null,
   "metadata": {},
   "outputs": [],
   "source": [
    "# Display the number of trainable and non trainable variables before the freezing\n",
    "\n",
    "print(\"\\n Before freezing:\\n\\t Number of trainable variables: \", n_trainable_variables,\n",
    "                         \"\\n\\t Number of non trainable variables: \", n_non_trainable_variables)"
   ]
  },
  {
   "cell_type": "code",
   "execution_count": null,
   "metadata": {
    "scrolled": false
   },
   "outputs": [],
   "source": [
    "# Build the model\n",
    "\n"
   ]
  },
  {
   "cell_type": "code",
   "execution_count": null,
   "metadata": {
    "scrolled": false
   },
   "outputs": [],
   "source": [
    "# Count the trainable and non trainable variables after the freezing\n",
    "\n"
   ]
  },
  {
   "cell_type": "code",
   "execution_count": null,
   "metadata": {},
   "outputs": [],
   "source": [
    "# Display the number of trainable and non trainable variables after the freezing\n",
    "\n",
    "print(\"\\n After freezing:\\n\\t Number of trainable variables: \", n_trainable_variables,\n",
    "                         \"\\n\\t Number of non trainable variables: \", n_non_trainable_variables)"
   ]
  },
  {
   "cell_type": "code",
   "execution_count": null,
   "metadata": {
    "scrolled": false
   },
   "outputs": [],
   "source": [
    "# Retrieve weights and biases\n",
    "\n"
   ]
  },
  {
   "cell_type": "code",
   "execution_count": null,
   "metadata": {
    "scrolled": false
   },
   "outputs": [],
   "source": [
    "# Compile and fit the model\n",
    "\n",
    "model.compile(optimizer='adam',\n",
    "              loss='mse',\n",
    "              metrics=['acc'])\n",
    "\n",
    "model.fit(x_train, y_train, epochs=50, verbose=False);"
   ]
  },
  {
   "cell_type": "code",
   "execution_count": null,
   "metadata": {
    "scrolled": false
   },
   "outputs": [],
   "source": [
    "# Retrieve weights and biases\n",
    "\n"
   ]
  },
  {
   "cell_type": "code",
   "execution_count": null,
   "metadata": {
    "scrolled": false
   },
   "outputs": [],
   "source": [
    "# Plot the variation\n",
    "\n"
   ]
  },
  {
   "cell_type": "markdown",
   "metadata": {},
   "source": [
    "#### Freeze layers of a pre-built model"
   ]
  },
  {
   "cell_type": "code",
   "execution_count": null,
   "metadata": {
    "scrolled": false
   },
   "outputs": [],
   "source": [
    "# Count the trainable and non trainable variables before the freezing\n",
    "\n",
    "print(\"\\n Before freezing:\\n\\t Number of trainable variables: \", len(model.trainable_variables),\n",
    "                         \"\\n\\t Number of non trainable variables: \", len(model.non_trainable_variables))"
   ]
  },
  {
   "cell_type": "code",
   "execution_count": null,
   "metadata": {
    "scrolled": false
   },
   "outputs": [],
   "source": [
    "# Freeze the second layer\n",
    "\n"
   ]
  },
  {
   "cell_type": "code",
   "execution_count": null,
   "metadata": {
    "scrolled": false
   },
   "outputs": [],
   "source": [
    "# Count the trainable and non trainable variables after the freezing\n",
    "\n",
    "print(\"\\n After freezing:\\n\\t Number of trainable variables: \", len(model.trainable_variables),\n",
    "                        \"\\n\\t Number of non trainable variables: \", len(model.non_trainable_variables))"
   ]
  },
  {
   "cell_type": "code",
   "execution_count": null,
   "metadata": {
    "scrolled": false
   },
   "outputs": [],
   "source": [
    "# Compile and fit the model\n",
    "\n",
    "model.compile(optimizer='adam',\n",
    "              loss='mse',\n",
    "              metrics=['acc'])\n",
    "\n",
    "model.fit(x_train, y_train, epochs=50, verbose=False);"
   ]
  },
  {
   "cell_type": "code",
   "execution_count": null,
   "metadata": {
    "scrolled": false
   },
   "outputs": [],
   "source": [
    "# Retrieve weights and biases\n",
    "\n"
   ]
  },
  {
   "cell_type": "code",
   "execution_count": null,
   "metadata": {
    "scrolled": false
   },
   "outputs": [],
   "source": [
    "# Plot the variation\n",
    "\n"
   ]
  }
 ],
 "metadata": {
  "kernelspec": {
   "display_name": "Python 3",
   "language": "python",
   "name": "python3"
  },
  "language_info": {
   "codemirror_mode": {
    "name": "ipython",
    "version": 3
   },
   "file_extension": ".py",
   "mimetype": "text/x-python",
   "name": "python",
   "nbconvert_exporter": "python",
   "pygments_lexer": "ipython3",
   "version": "3.7.1"
  }
 },
 "nbformat": 4,
 "nbformat_minor": 2
}
