{
 "cells": [
  {
   "cell_type": "code",
   "execution_count": 1,
   "metadata": {},
   "outputs": [
    {
     "name": "stdout",
     "output_type": "stream",
     "text": [
      "2.0.0\n"
     ]
    }
   ],
   "source": [
    "import tensorflow as tf\n",
    "print(tf.__version__)"
   ]
  },
  {
   "cell_type": "markdown",
   "metadata": {},
   "source": [
    "# The Sequential model API"
   ]
  },
  {
   "cell_type": "markdown",
   "metadata": {},
   "source": [
    " ## Coding tutorials\n",
    " #### [1. Building a Sequential model](#coding_tutorial_1)\n",
    " #### [2. Convolutional and pooling layers](#coding_tutorial_2)\n",
    " #### [3. The compile method](#coding_tutorial_3)\n",
    " #### [4. The fit method](#coding_tutorial_4)\n",
    " #### [5. The evaluate and predict methods](#coding_tutorial_5)"
   ]
  },
  {
   "cell_type": "markdown",
   "metadata": {},
   "source": [
    "***\n",
    "<a id=\"coding_tutorial_1\"></a>\n",
    "## Building a Sequential model"
   ]
  },
  {
   "cell_type": "code",
   "execution_count": 2,
   "metadata": {},
   "outputs": [],
   "source": [
    "from tensorflow.keras.models import Sequential\n",
    "from tensorflow.keras.layers import Dense, Flatten, Softmax"
   ]
  },
  {
   "cell_type": "markdown",
   "metadata": {},
   "source": [
    "#### Build a feedforward neural network model"
   ]
  },
  {
   "cell_type": "code",
   "execution_count": 3,
   "metadata": {},
   "outputs": [],
   "source": [
    "# Build the Sequential feedforward neural network model\n",
    "model = Sequential([\n",
    "    Flatten(input_shape=(28,28)),\n",
    "  Dense(16, activation='relu', name='layer_1'),\n",
    "  Dense(16, activation='relu'),\n",
    " Dense(10), \n",
    "    Softmax()\n",
    "    \n",
    "])"
   ]
  },
  {
   "cell_type": "code",
   "execution_count": 4,
   "metadata": {},
   "outputs": [
    {
     "data": {
      "text/plain": [
       "[<tf.Variable 'layer_1/kernel:0' shape=(784, 16) dtype=float32, numpy=\n",
       " array([[ 0.05816783,  0.05600692,  0.04910213, ...,  0.00211692,\n",
       "          0.06777716,  0.06522976],\n",
       "        [ 0.06250018, -0.01525953, -0.05158114, ...,  0.0537615 ,\n",
       "          0.05258693, -0.06093591],\n",
       "        [-0.01240854, -0.06941093,  0.02222966, ...,  0.06806229,\n",
       "          0.03590204,  0.0466318 ],\n",
       "        ...,\n",
       "        [-0.03371644,  0.02224746,  0.05497269, ...,  0.04661028,\n",
       "         -0.03348222, -0.07092391],\n",
       "        [-0.01338616,  0.01024055, -0.05797888, ..., -0.05723296,\n",
       "          0.02453937,  0.06566691],\n",
       "        [ 0.08490241, -0.0218001 , -0.02793999, ..., -0.0126974 ,\n",
       "          0.04264088,  0.03080866]], dtype=float32)>,\n",
       " <tf.Variable 'layer_1/bias:0' shape=(16,) dtype=float32, numpy=\n",
       " array([0., 0., 0., 0., 0., 0., 0., 0., 0., 0., 0., 0., 0., 0., 0., 0.],\n",
       "       dtype=float32)>,\n",
       " <tf.Variable 'dense/kernel:0' shape=(16, 16) dtype=float32, numpy=\n",
       " array([[ 1.49238139e-01, -3.62366736e-01, -1.97964340e-01,\n",
       "         -2.27627486e-01, -3.90332043e-01, -3.46478701e-01,\n",
       "         -1.76397443e-01, -1.33147538e-02,  1.55997247e-01,\n",
       "          3.79332513e-01, -3.43531221e-01, -7.76962936e-02,\n",
       "          4.01429206e-01,  3.03541124e-02,  1.22668415e-01,\n",
       "         -3.43599379e-01],\n",
       "        [-2.72624195e-01,  8.14610720e-03, -2.39873499e-01,\n",
       "          4.37796116e-05,  9.60913002e-02,  1.21483505e-02,\n",
       "         -1.57442808e-01,  3.73471886e-01, -3.71190429e-01,\n",
       "         -3.02191317e-01,  2.38656312e-01,  3.31815213e-01,\n",
       "          1.15656465e-01, -7.79485106e-02,  4.22645599e-01,\n",
       "         -1.25321984e-01],\n",
       "        [ 3.83459777e-01,  1.74821615e-02, -2.81096131e-01,\n",
       "         -2.55522460e-01, -3.35447580e-01,  7.24330246e-02,\n",
       "         -3.22589666e-01,  8.81633162e-03,  7.05908239e-02,\n",
       "          3.06607932e-01,  2.66126662e-01,  1.87377244e-01,\n",
       "         -2.59455442e-01, -3.46141815e-01,  1.90255851e-01,\n",
       "          8.24633539e-02],\n",
       "        [ 7.10321367e-02,  4.89387512e-02, -7.95939267e-02,\n",
       "         -3.47136915e-01,  2.15120703e-01,  1.37040526e-01,\n",
       "          3.07774454e-01, -1.38201267e-01, -1.30603731e-01,\n",
       "          1.00746304e-01,  6.98235333e-02, -3.22494149e-01,\n",
       "         -2.91983783e-02, -3.57993364e-01,  8.09127986e-02,\n",
       "          6.06863499e-02],\n",
       "        [ 1.57384366e-01, -2.69560218e-02, -2.24731028e-01,\n",
       "          2.57048905e-02, -8.12143087e-03, -7.28560686e-02,\n",
       "          2.46472210e-01, -2.79250950e-01,  2.53964514e-01,\n",
       "         -2.25670710e-01, -3.10574472e-01,  1.03793591e-01,\n",
       "         -2.90158182e-01, -3.63054723e-01, -2.63460040e-01,\n",
       "         -4.08754379e-01],\n",
       "        [-1.94827452e-01,  2.52339095e-01, -1.41890883e-01,\n",
       "         -1.45851105e-01, -8.43837857e-03,  4.04417425e-01,\n",
       "          4.19092447e-01, -3.75789374e-01,  3.14911902e-02,\n",
       "         -8.58251750e-02,  3.74729723e-01,  1.61276549e-01,\n",
       "         -1.99426502e-01, -1.03493482e-01,  4.30539936e-01,\n",
       "          2.97389895e-01],\n",
       "        [-3.64722967e-01,  3.98242742e-01, -1.35307491e-01,\n",
       "         -2.87680775e-01,  3.80344838e-01,  3.33759636e-01,\n",
       "          3.83281708e-03,  3.86069745e-01,  2.38902569e-02,\n",
       "         -2.45914280e-01,  3.44016880e-01,  2.83396691e-01,\n",
       "          3.98353249e-01, -1.03101075e-01, -2.25783333e-01,\n",
       "          2.42531389e-01],\n",
       "        [ 1.55469209e-01, -2.85352767e-02,  8.06061924e-02,\n",
       "         -2.40815043e-01, -2.10025147e-01,  2.12484896e-02,\n",
       "          2.32632607e-01,  3.90872359e-02, -2.08183169e-01,\n",
       "          1.68089360e-01,  8.17140043e-02,  1.27757460e-01,\n",
       "          3.07232529e-01, -2.28076875e-01,  1.29195452e-02,\n",
       "         -1.38559043e-02],\n",
       "        [-1.66455179e-01, -2.65210032e-01, -8.90330076e-02,\n",
       "         -3.48988295e-01,  1.71001852e-02,  7.44646490e-02,\n",
       "          2.95376271e-01, -1.39683485e-04,  4.16598767e-01,\n",
       "          3.06671530e-01,  6.98356330e-02,  3.01440865e-01,\n",
       "         -3.82312059e-01, -3.37191284e-01, -4.04513776e-01,\n",
       "         -4.30951655e-01],\n",
       "        [-1.94101468e-01,  4.31538552e-01, -1.81113988e-01,\n",
       "         -3.16563010e-01, -2.20700085e-01,  7.67853856e-03,\n",
       "         -2.73730993e-01,  7.09305704e-02, -3.76947701e-01,\n",
       "          1.95994884e-01,  1.29060358e-01, -1.79675370e-01,\n",
       "          2.52849013e-01,  2.16291815e-01, -4.29780930e-01,\n",
       "         -6.08246922e-02],\n",
       "        [ 7.21429884e-02, -2.13514194e-01,  1.76074296e-01,\n",
       "         -1.16392165e-01, -1.83995485e-01,  2.78941780e-01,\n",
       "          1.12765104e-01,  3.97822469e-01, -2.17373863e-01,\n",
       "          4.88875508e-02,  1.42079204e-01, -2.16727793e-01,\n",
       "          1.92848593e-01, -2.22497374e-01,  2.63367563e-01,\n",
       "         -2.75677145e-01],\n",
       "        [-3.03079188e-01,  1.42368674e-02,  6.34623170e-02,\n",
       "         -7.96086788e-02, -1.43213153e-01,  3.82534653e-01,\n",
       "          1.93418890e-01, -3.53607297e-01, -3.52338195e-01,\n",
       "         -3.72557491e-01, -2.62358785e-03,  1.80821747e-01,\n",
       "         -2.86809564e-01,  3.17977816e-01, -4.01277363e-01,\n",
       "          3.95761102e-01],\n",
       "        [-4.84495163e-02,  3.23489696e-01, -1.07193232e-01,\n",
       "         -3.60412240e-01,  7.14275539e-02, -2.31371835e-01,\n",
       "          1.83966964e-01, -8.83761942e-02, -2.02331632e-01,\n",
       "         -3.47346097e-01,  3.26989263e-01,  8.92777741e-02,\n",
       "          1.05764717e-01,  4.26088065e-01,  2.24903435e-01,\n",
       "         -3.87824386e-01],\n",
       "        [-4.09072250e-01, -9.59018469e-02,  7.54536688e-02,\n",
       "          7.09611475e-02, -1.36851519e-01, -3.87701392e-03,\n",
       "          9.18999016e-02,  2.22027868e-01,  2.57645458e-01,\n",
       "          4.27103251e-01,  3.13113421e-01, -4.21319216e-01,\n",
       "         -2.71151483e-01,  1.95752949e-01, -2.26990610e-01,\n",
       "          1.34446770e-01],\n",
       "        [ 3.61963421e-01, -2.05280423e-01, -1.00070298e-01,\n",
       "         -1.89268380e-01,  2.67777443e-02,  1.98580056e-01,\n",
       "          2.62506634e-01, -2.96591461e-01, -1.25433266e-01,\n",
       "         -2.93620586e-01,  2.73723572e-01,  8.10309947e-02,\n",
       "         -3.52670193e-01, -3.43291193e-01,  2.68638283e-01,\n",
       "          1.73386425e-01],\n",
       "        [-5.61740100e-02, -3.74183923e-01, -3.17265034e-01,\n",
       "         -3.83703917e-01,  1.43457502e-01,  4.02562231e-01,\n",
       "         -3.19515437e-01,  6.70376718e-02,  3.27326924e-01,\n",
       "         -5.74430227e-02, -2.82839209e-01, -3.35574031e-01,\n",
       "          4.46198881e-02,  1.04325682e-01,  3.91183525e-01,\n",
       "          2.51852870e-02]], dtype=float32)>,\n",
       " <tf.Variable 'dense/bias:0' shape=(16,) dtype=float32, numpy=\n",
       " array([0., 0., 0., 0., 0., 0., 0., 0., 0., 0., 0., 0., 0., 0., 0., 0.],\n",
       "       dtype=float32)>,\n",
       " <tf.Variable 'dense_1/kernel:0' shape=(16, 10) dtype=float32, numpy=\n",
       " array([[-2.35692471e-01, -1.26831651e-01,  2.72213697e-01,\n",
       "         -6.03241920e-02,  2.55010903e-01, -2.95021385e-01,\n",
       "         -1.57032192e-01, -4.69727457e-01, -2.09628522e-01,\n",
       "         -2.23948091e-01],\n",
       "        [-2.14924753e-01, -7.79807568e-02, -3.81059051e-01,\n",
       "          1.56745732e-01, -4.42197621e-02, -7.51496255e-02,\n",
       "         -1.87536925e-01,  2.70983994e-01,  1.53685987e-01,\n",
       "         -3.90664816e-01],\n",
       "        [ 2.59340048e-01, -4.76074964e-01, -1.99040920e-01,\n",
       "         -4.02530015e-01, -3.91366988e-01,  1.26367211e-02,\n",
       "         -3.07782829e-01,  4.05889153e-01, -2.07244456e-02,\n",
       "          2.77689755e-01],\n",
       "        [ 3.15481007e-01, -1.66474253e-01,  1.54812574e-01,\n",
       "         -7.15069175e-02, -3.81754637e-01,  3.87180150e-01,\n",
       "          8.22853446e-02,  4.46210802e-01,  2.14883685e-02,\n",
       "         -1.04467571e-01],\n",
       "        [-6.62655830e-02,  3.58725667e-01, -4.23394561e-01,\n",
       "         -7.18660951e-02,  1.06034815e-01,  2.21249342e-01,\n",
       "          1.36364996e-01, -2.59150237e-01,  2.65276015e-01,\n",
       "         -7.30482936e-02],\n",
       "        [-3.97663772e-01,  3.14157009e-01, -4.33452010e-01,\n",
       "          2.16611683e-01,  1.40494943e-01, -4.39534247e-01,\n",
       "          3.79483104e-01,  2.05037117e-01, -2.69190162e-01,\n",
       "          3.55886519e-01],\n",
       "        [ 1.36624098e-01, -1.37784630e-01,  1.84867084e-02,\n",
       "         -2.83361495e-01, -1.03326380e-01,  3.27820897e-01,\n",
       "          4.34495032e-01, -1.08548254e-01,  2.49853075e-01,\n",
       "          3.58664513e-01],\n",
       "        [-3.54293466e-01,  5.29342294e-02, -3.22953135e-01,\n",
       "          3.79306853e-01,  1.67779565e-01,  2.85871863e-01,\n",
       "         -2.36660853e-01,  3.34073305e-02,  2.69761682e-01,\n",
       "          2.12503731e-01],\n",
       "        [-3.51519734e-01, -4.28042382e-01,  2.94485927e-01,\n",
       "         -4.68993396e-01,  2.18524396e-01, -5.90031743e-02,\n",
       "          2.01335013e-01, -1.89728826e-01,  2.94578135e-01,\n",
       "          2.85059333e-01],\n",
       "        [ 4.27100241e-01,  4.79278743e-01,  1.08419836e-01,\n",
       "         -2.34779194e-01,  2.31521904e-01, -3.95129502e-01,\n",
       "          6.79290295e-02,  1.30366147e-01, -7.46168196e-02,\n",
       "          3.88961017e-01],\n",
       "        [ 3.70346606e-01, -8.33400786e-02, -4.00727987e-01,\n",
       "          3.37621868e-01, -4.84718978e-02, -1.55180693e-04,\n",
       "         -4.26646471e-02,  1.82345748e-01, -1.16310000e-01,\n",
       "         -1.85146630e-01],\n",
       "        [ 2.54300475e-01, -1.36314332e-02, -1.19292200e-01,\n",
       "          1.52754843e-01,  3.02842498e-01, -4.53278393e-01,\n",
       "         -3.84280056e-01, -3.25709701e-01, -1.69041723e-01,\n",
       "          1.16258383e-01],\n",
       "        [-3.36619169e-01, -1.94545954e-01, -4.70537543e-02,\n",
       "          3.53453636e-01, -9.44953263e-02,  4.58360195e-01,\n",
       "          2.94246018e-01, -3.12758923e-01,  3.03803623e-01,\n",
       "         -3.39574218e-02],\n",
       "        [ 4.37013268e-01,  4.47089970e-01, -2.06056029e-01,\n",
       "         -3.81580532e-01,  4.74533796e-01,  1.26810133e-01,\n",
       "         -2.90658176e-01, -9.00707245e-02,  1.66522443e-01,\n",
       "         -2.18705565e-01],\n",
       "        [-4.10337836e-01, -1.59577459e-01,  3.18916440e-01,\n",
       "         -1.95106149e-01, -3.83028120e-01, -8.26779902e-02,\n",
       "         -2.84024298e-01, -2.63687789e-01,  4.69223857e-02,\n",
       "         -4.23623621e-01],\n",
       "        [-1.20264351e-01, -1.05276853e-01,  3.15947950e-01,\n",
       "         -2.35232055e-01,  1.95654869e-01,  1.88309073e-01,\n",
       "          3.36909533e-01,  1.36267424e-01, -8.06679428e-02,\n",
       "          2.62855709e-01]], dtype=float32)>,\n",
       " <tf.Variable 'dense_1/bias:0' shape=(10,) dtype=float32, numpy=array([0., 0., 0., 0., 0., 0., 0., 0., 0., 0.], dtype=float32)>]"
      ]
     },
     "execution_count": 4,
     "metadata": {},
     "output_type": "execute_result"
    }
   ],
   "source": [
    "# Print the model summary\n",
    "\n",
    "model.weights"
   ]
  },
  {
   "cell_type": "code",
   "execution_count": 5,
   "metadata": {},
   "outputs": [
    {
     "name": "stdout",
     "output_type": "stream",
     "text": [
      "Model: \"sequential\"\n",
      "_________________________________________________________________\n",
      "Layer (type)                 Output Shape              Param #   \n",
      "=================================================================\n",
      "flatten (Flatten)            (None, 784)               0         \n",
      "_________________________________________________________________\n",
      "layer_1 (Dense)              (None, 16)                12560     \n",
      "_________________________________________________________________\n",
      "dense (Dense)                (None, 16)                272       \n",
      "_________________________________________________________________\n",
      "dense_1 (Dense)              (None, 10)                170       \n",
      "_________________________________________________________________\n",
      "softmax (Softmax)            (None, 10)                0         \n",
      "=================================================================\n",
      "Total params: 13,002\n",
      "Trainable params: 13,002\n",
      "Non-trainable params: 0\n",
      "_________________________________________________________________\n"
     ]
    }
   ],
   "source": [
    "model.summary()"
   ]
  },
  {
   "cell_type": "markdown",
   "metadata": {},
   "source": [
    "***\n",
    "<a id=\"coding_tutorial_2\"></a>\n",
    "## Convolutional and pooling layers"
   ]
  },
  {
   "cell_type": "code",
   "execution_count": 7,
   "metadata": {},
   "outputs": [],
   "source": [
    "from tensorflow.keras.models import Sequential\n",
    "from tensorflow.keras.layers import Dense, Flatten, Conv2D, MaxPooling2D"
   ]
  },
  {
   "cell_type": "markdown",
   "metadata": {},
   "source": [
    "#### Build a convolutional neural network model"
   ]
  },
  {
   "cell_type": "code",
   "execution_count": 8,
   "metadata": {},
   "outputs": [],
   "source": [
    "# Build the Sequential convolutional neural network model\n",
    "model = Sequential([\n",
    "    Conv2D(16,(3,3), activation='relu', input_shape=(28,28,1)),\n",
    "    MaxPooling2D((3,3)),\n",
    "    Flatten(),\n",
    "    Dense(10), \n",
    "    Softmax()])\n"
   ]
  },
  {
   "cell_type": "code",
   "execution_count": 9,
   "metadata": {},
   "outputs": [
    {
     "name": "stdout",
     "output_type": "stream",
     "text": [
      "Model: \"sequential_1\"\n",
      "_________________________________________________________________\n",
      "Layer (type)                 Output Shape              Param #   \n",
      "=================================================================\n",
      "conv2d (Conv2D)              (None, 26, 26, 16)        160       \n",
      "_________________________________________________________________\n",
      "max_pooling2d (MaxPooling2D) (None, 8, 8, 16)          0         \n",
      "_________________________________________________________________\n",
      "flatten_1 (Flatten)          (None, 1024)              0         \n",
      "_________________________________________________________________\n",
      "dense_2 (Dense)              (None, 10)                10250     \n",
      "_________________________________________________________________\n",
      "softmax_1 (Softmax)          (None, 10)                0         \n",
      "=================================================================\n",
      "Total params: 10,410\n",
      "Trainable params: 10,410\n",
      "Non-trainable params: 0\n",
      "_________________________________________________________________\n"
     ]
    }
   ],
   "source": [
    "# Print the model summary\n",
    "model.summary()\n"
   ]
  },
  {
   "cell_type": "code",
   "execution_count": 12,
   "metadata": {},
   "outputs": [],
   "source": [
    "model = Sequential([\n",
    "    Conv2D(16,(3,3), padding='SAME', activation='relu', input_shape=(28,28,1)),\n",
    "    MaxPooling2D((3,3)),\n",
    "    Flatten(),\n",
    "    Dense(10), \n",
    "    Softmax()])"
   ]
  },
  {
   "cell_type": "code",
   "execution_count": 13,
   "metadata": {},
   "outputs": [
    {
     "name": "stdout",
     "output_type": "stream",
     "text": [
      "Model: \"sequential_2\"\n",
      "_________________________________________________________________\n",
      "Layer (type)                 Output Shape              Param #   \n",
      "=================================================================\n",
      "conv2d_1 (Conv2D)            (None, 28, 28, 16)        160       \n",
      "_________________________________________________________________\n",
      "max_pooling2d_1 (MaxPooling2 (None, 9, 9, 16)          0         \n",
      "_________________________________________________________________\n",
      "flatten_2 (Flatten)          (None, 1296)              0         \n",
      "_________________________________________________________________\n",
      "dense_3 (Dense)              (None, 10)                12970     \n",
      "_________________________________________________________________\n",
      "softmax_2 (Softmax)          (None, 10)                0         \n",
      "=================================================================\n",
      "Total params: 13,130\n",
      "Trainable params: 13,130\n",
      "Non-trainable params: 0\n",
      "_________________________________________________________________\n"
     ]
    }
   ],
   "source": [
    "model.summary()"
   ]
  },
  {
   "cell_type": "code",
   "execution_count": 16,
   "metadata": {},
   "outputs": [],
   "source": [
    "model = Sequential([\n",
    "    Conv2D(16,(3,3), padding='SAME',strides=2, activation='relu', input_shape=(28,28,1)),\n",
    "    MaxPooling2D((3,3)),\n",
    "    Flatten(),\n",
    "    Dense(10), \n",
    "    Softmax()])"
   ]
  },
  {
   "cell_type": "code",
   "execution_count": 17,
   "metadata": {},
   "outputs": [
    {
     "name": "stdout",
     "output_type": "stream",
     "text": [
      "Model: \"sequential_3\"\n",
      "_________________________________________________________________\n",
      "Layer (type)                 Output Shape              Param #   \n",
      "=================================================================\n",
      "conv2d_2 (Conv2D)            (None, 14, 14, 16)        160       \n",
      "_________________________________________________________________\n",
      "max_pooling2d_2 (MaxPooling2 (None, 4, 4, 16)          0         \n",
      "_________________________________________________________________\n",
      "flatten_3 (Flatten)          (None, 256)               0         \n",
      "_________________________________________________________________\n",
      "dense_4 (Dense)              (None, 10)                2570      \n",
      "_________________________________________________________________\n",
      "softmax_3 (Softmax)          (None, 10)                0         \n",
      "=================================================================\n",
      "Total params: 2,730\n",
      "Trainable params: 2,730\n",
      "Non-trainable params: 0\n",
      "_________________________________________________________________\n"
     ]
    }
   ],
   "source": [
    "model.summary()"
   ]
  },
  {
   "cell_type": "code",
   "execution_count": 19,
   "metadata": {},
   "outputs": [
    {
     "name": "stdout",
     "output_type": "stream",
     "text": [
      "Model: \"sequential_5\"\n",
      "_________________________________________________________________\n",
      "Layer (type)                 Output Shape              Param #   \n",
      "=================================================================\n",
      "conv2d_4 (Conv2D)            (None, 16, 26, 26)        160       \n",
      "_________________________________________________________________\n",
      "max_pooling2d_4 (MaxPooling2 (None, 5, 8, 26)          0         \n",
      "_________________________________________________________________\n",
      "flatten_5 (Flatten)          (None, 1040)              0         \n",
      "_________________________________________________________________\n",
      "dense_6 (Dense)              (None, 10)                10410     \n",
      "_________________________________________________________________\n",
      "softmax_5 (Softmax)          (None, 10)                0         \n",
      "=================================================================\n",
      "Total params: 10,570\n",
      "Trainable params: 10,570\n",
      "Non-trainable params: 0\n",
      "_________________________________________________________________\n"
     ]
    }
   ],
   "source": [
    "model = Sequential([\n",
    "    Conv2D(16,(3,3), activation='relu', input_shape=(1,28,28), data_format='channels_first'),\n",
    "    MaxPooling2D((3,3)),\n",
    "    Flatten(),\n",
    "    Dense(10), \n",
    "    Softmax()])\n",
    "model.summary()"
   ]
  },
  {
   "cell_type": "markdown",
   "metadata": {},
   "source": [
    "***\n",
    "<a id=\"coding_tutorial_3\"></a>\n",
    "## The compile method"
   ]
  },
  {
   "cell_type": "markdown",
   "metadata": {},
   "source": [
    "#### Compile the model"
   ]
  },
  {
   "cell_type": "code",
   "execution_count": null,
   "metadata": {},
   "outputs": [],
   "source": [
    "# Define the model optimizer, loss function and metrics\n",
    "\n"
   ]
  },
  {
   "cell_type": "code",
   "execution_count": null,
   "metadata": {},
   "outputs": [],
   "source": [
    "# Print the resulting model attributes\n",
    "\n"
   ]
  },
  {
   "cell_type": "markdown",
   "metadata": {},
   "source": [
    "***\n",
    "<a id=\"coding_tutorial_4\"></a>\n",
    "## The fit method"
   ]
  },
  {
   "cell_type": "code",
   "execution_count": null,
   "metadata": {},
   "outputs": [],
   "source": [
    "from tensorflow.keras.preprocessing import image\n",
    "import matplotlib.pyplot as plt\n",
    "import numpy as np\n",
    "import pandas as pd"
   ]
  },
  {
   "cell_type": "markdown",
   "metadata": {},
   "source": [
    "#### Load the data"
   ]
  },
  {
   "cell_type": "code",
   "execution_count": null,
   "metadata": {},
   "outputs": [],
   "source": [
    "# Load the Fashion-MNIST dataset\n",
    "\n",
    "fashion_mnist_data = tf.keras.datasets.fashion_mnist\n",
    "(train_images, train_labels), (test_images, test_labels) = fashion_mnist_data.load_data()"
   ]
  },
  {
   "cell_type": "code",
   "execution_count": null,
   "metadata": {},
   "outputs": [],
   "source": [
    "# Print the shape of the training data\n",
    "\n"
   ]
  },
  {
   "cell_type": "code",
   "execution_count": null,
   "metadata": {},
   "outputs": [],
   "source": [
    "# Define the labels\n",
    "\n",
    "labels = [\n",
    "    'T-shirt/top',\n",
    "    'Trouser',\n",
    "    'Pullover',\n",
    "    'Dress',\n",
    "    'Coat',\n",
    "    'Sandal',\n",
    "    'Shirt',\n",
    "    'Sneaker',\n",
    "    'Bag',\n",
    "    'Ankle boot'\n",
    "]"
   ]
  },
  {
   "cell_type": "code",
   "execution_count": null,
   "metadata": {},
   "outputs": [],
   "source": [
    "# Rescale the image values so that they lie in between 0 and 1.\n",
    "\n"
   ]
  },
  {
   "cell_type": "code",
   "execution_count": null,
   "metadata": {},
   "outputs": [],
   "source": [
    "# Display one of the images\n",
    "\n"
   ]
  },
  {
   "cell_type": "markdown",
   "metadata": {},
   "source": [
    "#### Fit the model"
   ]
  },
  {
   "cell_type": "code",
   "execution_count": null,
   "metadata": {},
   "outputs": [],
   "source": [
    "# Fit the model\n",
    "\n"
   ]
  },
  {
   "cell_type": "markdown",
   "metadata": {},
   "source": [
    "#### Plot training history"
   ]
  },
  {
   "cell_type": "code",
   "execution_count": null,
   "metadata": {},
   "outputs": [],
   "source": [
    "# Load the history into a pandas Dataframe\n",
    "\n"
   ]
  },
  {
   "cell_type": "code",
   "execution_count": null,
   "metadata": {},
   "outputs": [],
   "source": [
    "# Make a plot for the loss\n",
    "\n"
   ]
  },
  {
   "cell_type": "code",
   "execution_count": null,
   "metadata": {},
   "outputs": [],
   "source": [
    "# Make a plot for the accuracy\n",
    "\n"
   ]
  },
  {
   "cell_type": "code",
   "execution_count": null,
   "metadata": {},
   "outputs": [],
   "source": [
    "# Make a plot for the additional metric\n",
    "\n"
   ]
  },
  {
   "cell_type": "markdown",
   "metadata": {},
   "source": [
    "***\n",
    "<a id=\"coding_tutorial_5\"></a>\n",
    "## The evaluate and predict methods"
   ]
  },
  {
   "cell_type": "code",
   "execution_count": null,
   "metadata": {},
   "outputs": [],
   "source": [
    "import matplotlib.pyplot as plt\n",
    "import numpy as np"
   ]
  },
  {
   "cell_type": "markdown",
   "metadata": {},
   "source": [
    "#### Evaluate the model on the test set"
   ]
  },
  {
   "cell_type": "code",
   "execution_count": null,
   "metadata": {},
   "outputs": [],
   "source": [
    "# Evaluate the model\n",
    "\n"
   ]
  },
  {
   "cell_type": "markdown",
   "metadata": {},
   "source": [
    "#### Make predictions from the model"
   ]
  },
  {
   "cell_type": "code",
   "execution_count": null,
   "metadata": {},
   "outputs": [],
   "source": [
    "# Choose a random test image\n",
    "\n",
    "random_inx = np.random.choice(test_images.shape[0])\n",
    "\n",
    "test_image = test_images[random_inx]\n",
    "plt.imshow(test_image)\n",
    "plt.show()\n",
    "print(f\"Label: {labels[test_labels[random_inx]]}\")"
   ]
  },
  {
   "cell_type": "code",
   "execution_count": null,
   "metadata": {},
   "outputs": [],
   "source": [
    "# Get the model predictions\n",
    "\n"
   ]
  }
 ],
 "metadata": {
  "kernelspec": {
   "display_name": "Python [default]",
   "language": "python",
   "name": "python3"
  },
  "language_info": {
   "codemirror_mode": {
    "name": "ipython",
    "version": 3
   },
   "file_extension": ".py",
   "mimetype": "text/x-python",
   "name": "python",
   "nbconvert_exporter": "python",
   "pygments_lexer": "ipython3",
   "version": "3.7.0"
  }
 },
 "nbformat": 4,
 "nbformat_minor": 2
}