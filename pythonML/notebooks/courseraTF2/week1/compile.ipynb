{
 "cells": [
  {
   "cell_type": "code",
   "execution_count": 2,
   "metadata": {},
   "outputs": [
    {
     "name": "stdout",
     "output_type": "stream",
     "text": [
      "2.0.0\n"
     ]
    }
   ],
   "source": [
    "import tensorflow as tf\n",
    "print(tf.__version__)"
   ]
  },
  {
   "cell_type": "markdown",
   "metadata": {},
   "source": [
    "# The Sequential model API"
   ]
  },
  {
   "cell_type": "markdown",
   "metadata": {},
   "source": [
    " ## Coding tutorials\n",
    " #### [1. Building a Sequential model](#coding_tutorial_1)\n",
    " #### [2. Convolutional and pooling layers](#coding_tutorial_2)\n",
    " #### [3. The compile method](#coding_tutorial_3)\n",
    " #### [4. The fit method](#coding_tutorial_4)\n",
    " #### [5. The evaluate and predict methods](#coding_tutorial_5)"
   ]
  },
  {
   "cell_type": "markdown",
   "metadata": {},
   "source": [
    "***\n",
    "<a id=\"coding_tutorial_1\"></a>\n",
    "## Building a Sequential model"
   ]
  },
  {
   "cell_type": "code",
   "execution_count": 3,
   "metadata": {},
   "outputs": [],
   "source": [
    "from tensorflow.keras.models import Sequential\n",
    "from tensorflow.keras.layers import Dense, Flatten, Softmax"
   ]
  },
  {
   "cell_type": "markdown",
   "metadata": {},
   "source": [
    "#### Build a feedforward neural network model"
   ]
  },
  {
   "cell_type": "code",
   "execution_count": 4,
   "metadata": {},
   "outputs": [],
   "source": [
    "# Build the Sequential feedforward neural network model\n",
    "model = Sequential([\n",
    "    Flatten(input_shape=(28,28)),\n",
    "  Dense(16, activation='relu', name='layer_1'),\n",
    "  Dense(16, activation='relu'),\n",
    " Dense(10), \n",
    "    Softmax()\n",
    "    \n",
    "])"
   ]
  },
  {
   "cell_type": "code",
   "execution_count": 5,
   "metadata": {},
   "outputs": [
    {
     "data": {
      "text/plain": [
       "[<tf.Variable 'layer_1/kernel:0' shape=(784, 16) dtype=float32, numpy=\n",
       " array([[-0.04340591, -0.01275323,  0.08472821, ..., -0.07989102,\n",
       "         -0.07945415, -0.01770192],\n",
       "        [ 0.07277252,  0.05531158,  0.01797719, ...,  0.00382832,\n",
       "          0.06569305,  0.01952048],\n",
       "        [ 0.00137071, -0.08072209, -0.01676798, ...,  0.04324575,\n",
       "         -0.08020251,  0.01012014],\n",
       "        ...,\n",
       "        [-0.05146062, -0.05294418, -0.05915365, ...,  0.02778617,\n",
       "         -0.03453308, -0.00804889],\n",
       "        [ 0.03185361, -0.07109747,  0.02729271, ..., -0.0038569 ,\n",
       "          0.02665973,  0.08166558],\n",
       "        [-0.06259944, -0.02042431, -0.06279325, ...,  0.0554269 ,\n",
       "         -0.0743011 , -0.07848799]], dtype=float32)>,\n",
       " <tf.Variable 'layer_1/bias:0' shape=(16,) dtype=float32, numpy=\n",
       " array([0., 0., 0., 0., 0., 0., 0., 0., 0., 0., 0., 0., 0., 0., 0., 0.],\n",
       "       dtype=float32)>,\n",
       " <tf.Variable 'dense/kernel:0' shape=(16, 16) dtype=float32, numpy=\n",
       " array([[-0.1402435 ,  0.39193264, -0.29325265,  0.4008985 ,  0.26644763,\n",
       "         -0.01144809,  0.04081473, -0.14708975, -0.33162466, -0.29224908,\n",
       "         -0.23480915,  0.38971898, -0.13268739,  0.4317443 ,  0.16665384,\n",
       "         -0.07709825],\n",
       "        [ 0.14895943, -0.36780524,  0.15078649,  0.17303053, -0.03186077,\n",
       "          0.23823199, -0.37688112,  0.17927203, -0.237948  , -0.3915074 ,\n",
       "          0.33824667,  0.09582928,  0.0238018 ,  0.32666507, -0.13534516,\n",
       "         -0.12135783],\n",
       "        [-0.3708833 , -0.30705827, -0.3644795 , -0.07212669,  0.29291746,\n",
       "         -0.03823853,  0.0714514 , -0.4302588 , -0.20932241,  0.39249465,\n",
       "          0.07596037,  0.20598242,  0.38889292, -0.24433567, -0.4201588 ,\n",
       "          0.32825527],\n",
       "        [-0.40065092,  0.37396464,  0.18355331, -0.29017666, -0.10409999,\n",
       "          0.15424755, -0.18274754, -0.04916063, -0.3622443 ,  0.35720465,\n",
       "          0.03623819, -0.10147175,  0.04065111, -0.40972844,  0.18761799,\n",
       "         -0.2827723 ],\n",
       "        [ 0.10154465, -0.43060508,  0.00799817,  0.14155641, -0.2297575 ,\n",
       "         -0.02485225, -0.42830184,  0.4311187 ,  0.3929554 ,  0.2628725 ,\n",
       "          0.04936761,  0.03997996,  0.03461725,  0.15517083, -0.23378018,\n",
       "         -0.22002925],\n",
       "        [-0.04822651, -0.30225098,  0.42851397, -0.09972951, -0.39086092,\n",
       "          0.0507921 ,  0.41963127, -0.350917  ,  0.17920741, -0.39766908,\n",
       "          0.25604358,  0.23188081, -0.19973405, -0.16192633, -0.22961812,\n",
       "         -0.15405038],\n",
       "        [ 0.15953556, -0.07743675, -0.21105887, -0.00282285, -0.20483753,\n",
       "          0.1568496 , -0.3969877 ,  0.29170695, -0.34328717,  0.41172525,\n",
       "          0.1616101 , -0.2886606 , -0.22951819,  0.40528277, -0.08349931,\n",
       "         -0.31843174],\n",
       "        [-0.23053086, -0.3677564 ,  0.09204021,  0.18727008,  0.05570385,\n",
       "         -0.01304623,  0.02115062,  0.15502086,  0.41459146, -0.23176001,\n",
       "          0.15387341,  0.25268772, -0.16288409, -0.28568023,  0.3203338 ,\n",
       "         -0.12001005],\n",
       "        [ 0.259859  ,  0.10024139,  0.12729618, -0.3032627 ,  0.15028724,\n",
       "          0.06820145,  0.10692707,  0.16682336, -0.00987372, -0.10263526,\n",
       "          0.36260304, -0.21204707,  0.34572503, -0.12022054, -0.35554403,\n",
       "         -0.37862316],\n",
       "        [ 0.04499143, -0.13619089,  0.31356785,  0.19655976,  0.19084284,\n",
       "         -0.2479013 ,  0.15781268,  0.04715356, -0.39380673, -0.4114679 ,\n",
       "          0.20166448, -0.29344198, -0.14985386, -0.0194948 ,  0.02265865,\n",
       "          0.28719154],\n",
       "        [-0.22756544, -0.00052217,  0.3802128 , -0.20106634, -0.28792483,\n",
       "          0.40695503,  0.07326171,  0.20319077, -0.09794348,  0.10961673,\n",
       "         -0.37689805, -0.3072976 ,  0.41191253,  0.34150156, -0.04294237,\n",
       "          0.17843029],\n",
       "        [-0.39448273,  0.312049  , -0.00183061, -0.11736476, -0.06943041,\n",
       "          0.03242818, -0.1190677 , -0.3426443 ,  0.22039697,  0.42646697,\n",
       "         -0.03492323,  0.28868786,  0.41820976,  0.03464139,  0.09075728,\n",
       "          0.19754186],\n",
       "        [ 0.00257114,  0.06229129, -0.3506303 , -0.42792603,  0.21317157,\n",
       "          0.31026766, -0.19472782, -0.03171542,  0.42386225, -0.08309183,\n",
       "          0.35108373,  0.08729002,  0.30218276,  0.40081838, -0.32768014,\n",
       "         -0.09327185],\n",
       "        [-0.00978419,  0.29858735, -0.3787741 ,  0.16424695,  0.3127462 ,\n",
       "          0.28254458, -0.36161703, -0.27074218,  0.18479094, -0.01465538,\n",
       "         -0.24740514, -0.18843143,  0.02583599, -0.09158784,  0.21481189,\n",
       "         -0.10848919],\n",
       "        [ 0.30570832,  0.07615629,  0.00659031, -0.05185029, -0.20816274,\n",
       "          0.38690153,  0.12088874,  0.04635513,  0.17233184,  0.22397974,\n",
       "          0.41530672, -0.02043128,  0.294718  ,  0.12247673, -0.35067636,\n",
       "         -0.38433194],\n",
       "        [-0.06317243, -0.2937483 ,  0.23398182,  0.2878262 , -0.12775436,\n",
       "         -0.1439254 , -0.36912307, -0.40613955,  0.24027213,  0.26124105,\n",
       "         -0.22731075,  0.1159915 ,  0.28315035,  0.29708537, -0.42138508,\n",
       "          0.3867884 ]], dtype=float32)>,\n",
       " <tf.Variable 'dense/bias:0' shape=(16,) dtype=float32, numpy=\n",
       " array([0., 0., 0., 0., 0., 0., 0., 0., 0., 0., 0., 0., 0., 0., 0., 0.],\n",
       "       dtype=float32)>,\n",
       " <tf.Variable 'dense_1/kernel:0' shape=(16, 10) dtype=float32, numpy=\n",
       " array([[-1.29609436e-01,  1.37461424e-01,  4.79279578e-01,\n",
       "          1.42223239e-01, -2.85133004e-01,  4.71433163e-01,\n",
       "         -1.50750071e-01, -3.21645975e-01, -2.63699353e-01,\n",
       "         -1.05823517e-01],\n",
       "        [ 9.23707485e-02, -7.35348463e-02,  4.78165150e-01,\n",
       "         -3.00230443e-01, -6.19703829e-02, -2.81521559e-01,\n",
       "          7.01616406e-02,  3.91067982e-01, -4.08231914e-01,\n",
       "          4.29536343e-01],\n",
       "        [-4.78178263e-04,  2.56649673e-01,  4.78465021e-01,\n",
       "         -2.89760560e-01,  3.74843359e-01, -1.83938742e-01,\n",
       "          2.91478097e-01,  1.82713389e-01,  8.81888270e-02,\n",
       "         -2.37713411e-01],\n",
       "        [-3.53488684e-01, -3.63842070e-01,  1.99306846e-01,\n",
       "          7.84026980e-02,  3.31288934e-01, -9.03822482e-02,\n",
       "         -2.48367563e-01,  1.17081940e-01,  7.86620378e-02,\n",
       "          1.07057631e-01],\n",
       "        [ 1.51636004e-01,  7.13273883e-03, -1.99028999e-01,\n",
       "          2.23033667e-01,  7.91272521e-02, -2.69888341e-01,\n",
       "          3.34390461e-01, -1.33665591e-01, -7.37663209e-02,\n",
       "         -1.88153565e-01],\n",
       "        [ 1.88495636e-01, -3.09892416e-01, -1.99236751e-01,\n",
       "          5.70901632e-02,  4.22760248e-02,  2.02466369e-01,\n",
       "          4.86675501e-02, -2.59323865e-01, -3.01374733e-01,\n",
       "         -6.99105859e-02],\n",
       "        [-6.86818659e-02,  5.39510250e-02, -3.85172486e-01,\n",
       "         -3.96717370e-01,  6.88478351e-03,  1.02227569e-01,\n",
       "         -4.79072630e-02, -1.87777430e-01, -1.12923503e-01,\n",
       "         -1.32958591e-02],\n",
       "        [-1.59030795e-01, -3.36392850e-01, -2.11770624e-01,\n",
       "          2.61881471e-01, -1.74582362e-01,  6.97956681e-02,\n",
       "          3.26308727e-01, -4.39484894e-01, -1.40252262e-01,\n",
       "          2.37806082e-01],\n",
       "        [-4.71956581e-01,  1.80785775e-01, -4.67995375e-01,\n",
       "          2.58124053e-01,  3.56237650e-01,  8.20165277e-02,\n",
       "          2.30182230e-01, -3.12021077e-02, -1.63402706e-01,\n",
       "          4.61792171e-01],\n",
       "        [ 4.11819875e-01,  2.61646032e-01, -1.12387717e-01,\n",
       "          1.78820610e-01,  3.04767668e-01, -5.08193672e-02,\n",
       "         -2.90428162e-01,  1.26311660e-01, -3.20292205e-01,\n",
       "         -1.27743781e-02],\n",
       "        [ 3.17192078e-02, -1.64230466e-02, -1.90869004e-01,\n",
       "         -3.63409519e-04,  3.78038943e-01, -1.42138153e-01,\n",
       "         -3.09239119e-01, -2.86011696e-01,  3.44254494e-01,\n",
       "          4.60033536e-01],\n",
       "        [-1.62091106e-01,  1.34637833e-01, -1.74405307e-01,\n",
       "          7.65945911e-02, -1.06518954e-01,  7.26327896e-02,\n",
       "          9.29949880e-02,  3.46497118e-01,  3.04768920e-01,\n",
       "         -2.51117378e-01],\n",
       "        [-5.95391989e-02, -3.13303888e-01, -3.70728463e-01,\n",
       "          1.35201812e-01,  1.59286201e-01, -8.50411355e-02,\n",
       "         -2.14225650e-01,  2.27330685e-01,  3.92175317e-02,\n",
       "          3.54314804e-01],\n",
       "        [ 1.31232679e-01,  6.04045987e-02,  2.40869343e-01,\n",
       "         -4.51599658e-02,  1.50059462e-02, -1.30409002e-02,\n",
       "         -1.29468083e-01, -9.05626416e-02, -1.09120905e-01,\n",
       "          4.21970308e-01],\n",
       "        [ 2.24601030e-01, -2.94922322e-01, -7.79992044e-02,\n",
       "          2.14160323e-01, -2.45866522e-01, -1.09261334e-01,\n",
       "         -4.76971388e-01,  3.17103028e-01,  1.20623171e-01,\n",
       "         -4.06001061e-01],\n",
       "        [ 4.51763213e-01,  5.35259843e-02,  1.24943376e-01,\n",
       "          3.51754963e-01,  3.18666101e-02, -4.75606740e-01,\n",
       "         -1.98271602e-01, -2.73121834e-01, -1.35050178e-01,\n",
       "          2.30758309e-01]], dtype=float32)>,\n",
       " <tf.Variable 'dense_1/bias:0' shape=(10,) dtype=float32, numpy=array([0., 0., 0., 0., 0., 0., 0., 0., 0., 0.], dtype=float32)>]"
      ]
     },
     "execution_count": 5,
     "metadata": {},
     "output_type": "execute_result"
    }
   ],
   "source": [
    "# Print the model summary\n",
    "\n",
    "model.weights"
   ]
  },
  {
   "cell_type": "code",
   "execution_count": 6,
   "metadata": {},
   "outputs": [
    {
     "name": "stdout",
     "output_type": "stream",
     "text": [
      "Model: \"sequential\"\n",
      "_________________________________________________________________\n",
      "Layer (type)                 Output Shape              Param #   \n",
      "=================================================================\n",
      "flatten (Flatten)            (None, 784)               0         \n",
      "_________________________________________________________________\n",
      "layer_1 (Dense)              (None, 16)                12560     \n",
      "_________________________________________________________________\n",
      "dense (Dense)                (None, 16)                272       \n",
      "_________________________________________________________________\n",
      "dense_1 (Dense)              (None, 10)                170       \n",
      "_________________________________________________________________\n",
      "softmax (Softmax)            (None, 10)                0         \n",
      "=================================================================\n",
      "Total params: 13,002\n",
      "Trainable params: 13,002\n",
      "Non-trainable params: 0\n",
      "_________________________________________________________________\n"
     ]
    }
   ],
   "source": [
    "model.summary()"
   ]
  },
  {
   "cell_type": "markdown",
   "metadata": {},
   "source": [
    "***\n",
    "<a id=\"coding_tutorial_2\"></a>\n",
    "## Convolutional and pooling layers"
   ]
  },
  {
   "cell_type": "code",
   "execution_count": 7,
   "metadata": {},
   "outputs": [],
   "source": [
    "from tensorflow.keras.models import Sequential\n",
    "from tensorflow.keras.layers import Dense, Flatten, Conv2D, MaxPooling2D"
   ]
  },
  {
   "cell_type": "markdown",
   "metadata": {},
   "source": [
    "#### Build a convolutional neural network model"
   ]
  },
  {
   "cell_type": "code",
   "execution_count": 8,
   "metadata": {},
   "outputs": [],
   "source": [
    "# Build the Sequential convolutional neural network model\n",
    "model = Sequential([\n",
    "    Conv2D(16,(3,3), activation='relu', input_shape=(28,28,1)),\n",
    "    MaxPooling2D((3,3)),\n",
    "    Flatten(),\n",
    "    Dense(10), \n",
    "    Softmax()])\n"
   ]
  },
  {
   "cell_type": "code",
   "execution_count": 9,
   "metadata": {},
   "outputs": [
    {
     "name": "stdout",
     "output_type": "stream",
     "text": [
      "Model: \"sequential_1\"\n",
      "_________________________________________________________________\n",
      "Layer (type)                 Output Shape              Param #   \n",
      "=================================================================\n",
      "conv2d (Conv2D)              (None, 26, 26, 16)        160       \n",
      "_________________________________________________________________\n",
      "max_pooling2d (MaxPooling2D) (None, 8, 8, 16)          0         \n",
      "_________________________________________________________________\n",
      "flatten_1 (Flatten)          (None, 1024)              0         \n",
      "_________________________________________________________________\n",
      "dense_2 (Dense)              (None, 10)                10250     \n",
      "_________________________________________________________________\n",
      "softmax_1 (Softmax)          (None, 10)                0         \n",
      "=================================================================\n",
      "Total params: 10,410\n",
      "Trainable params: 10,410\n",
      "Non-trainable params: 0\n",
      "_________________________________________________________________\n"
     ]
    }
   ],
   "source": [
    "# Print the model summary\n",
    "model.summary()\n"
   ]
  },
  {
   "cell_type": "code",
   "execution_count": 10,
   "metadata": {},
   "outputs": [],
   "source": [
    "model = Sequential([\n",
    "    Conv2D(16,(3,3), padding='SAME', activation='relu', input_shape=(28,28,1)),\n",
    "    MaxPooling2D((3,3)),\n",
    "    Flatten(),\n",
    "    Dense(10), \n",
    "    Softmax()])"
   ]
  },
  {
   "cell_type": "code",
   "execution_count": 11,
   "metadata": {},
   "outputs": [
    {
     "name": "stdout",
     "output_type": "stream",
     "text": [
      "Model: \"sequential_2\"\n",
      "_________________________________________________________________\n",
      "Layer (type)                 Output Shape              Param #   \n",
      "=================================================================\n",
      "conv2d_1 (Conv2D)            (None, 28, 28, 16)        160       \n",
      "_________________________________________________________________\n",
      "max_pooling2d_1 (MaxPooling2 (None, 9, 9, 16)          0         \n",
      "_________________________________________________________________\n",
      "flatten_2 (Flatten)          (None, 1296)              0         \n",
      "_________________________________________________________________\n",
      "dense_3 (Dense)              (None, 10)                12970     \n",
      "_________________________________________________________________\n",
      "softmax_2 (Softmax)          (None, 10)                0         \n",
      "=================================================================\n",
      "Total params: 13,130\n",
      "Trainable params: 13,130\n",
      "Non-trainable params: 0\n",
      "_________________________________________________________________\n"
     ]
    }
   ],
   "source": [
    "model.summary()"
   ]
  },
  {
   "cell_type": "code",
   "execution_count": 12,
   "metadata": {},
   "outputs": [],
   "source": [
    "model = Sequential([\n",
    "    Conv2D(16,(3,3), padding='SAME',strides=2, activation='relu', input_shape=(28,28,1)),\n",
    "    MaxPooling2D((3,3)),\n",
    "    Flatten(),\n",
    "    Dense(10), \n",
    "    Softmax()])"
   ]
  },
  {
   "cell_type": "code",
   "execution_count": 13,
   "metadata": {},
   "outputs": [
    {
     "name": "stdout",
     "output_type": "stream",
     "text": [
      "Model: \"sequential_3\"\n",
      "_________________________________________________________________\n",
      "Layer (type)                 Output Shape              Param #   \n",
      "=================================================================\n",
      "conv2d_2 (Conv2D)            (None, 14, 14, 16)        160       \n",
      "_________________________________________________________________\n",
      "max_pooling2d_2 (MaxPooling2 (None, 4, 4, 16)          0         \n",
      "_________________________________________________________________\n",
      "flatten_3 (Flatten)          (None, 256)               0         \n",
      "_________________________________________________________________\n",
      "dense_4 (Dense)              (None, 10)                2570      \n",
      "_________________________________________________________________\n",
      "softmax_3 (Softmax)          (None, 10)                0         \n",
      "=================================================================\n",
      "Total params: 2,730\n",
      "Trainable params: 2,730\n",
      "Non-trainable params: 0\n",
      "_________________________________________________________________\n"
     ]
    }
   ],
   "source": [
    "model.summary()"
   ]
  },
  {
   "cell_type": "code",
   "execution_count": 15,
   "metadata": {},
   "outputs": [
    {
     "name": "stdout",
     "output_type": "stream",
     "text": [
      "Model: \"sequential_5\"\n",
      "_________________________________________________________________\n",
      "Layer (type)                 Output Shape              Param #   \n",
      "=================================================================\n",
      "conv2d_4 (Conv2D)            (None, 16, 26, 26)        160       \n",
      "_________________________________________________________________\n",
      "max_pooling2d_4 (MaxPooling2 (None, 5, 8, 26)          0         \n",
      "_________________________________________________________________\n",
      "flatten_5 (Flatten)          (None, 1040)              0         \n",
      "_________________________________________________________________\n",
      "dense_6 (Dense)              (None, 10)                10410     \n",
      "_________________________________________________________________\n",
      "softmax_5 (Softmax)          (None, 10)                0         \n",
      "=================================================================\n",
      "Total params: 10,570\n",
      "Trainable params: 10,570\n",
      "Non-trainable params: 0\n",
      "_________________________________________________________________\n"
     ]
    }
   ],
   "source": [
    "model = Sequential([\n",
    "    Conv2D(16,(3,3), activation='relu', input_shape=(1,28,28), data_format='channels_first'),\n",
    "    MaxPooling2D((3,3)),\n",
    "    Flatten(),\n",
    "    Dense(10), \n",
    "    Softmax()])\n",
    "model.summary()"
   ]
  },
  {
   "cell_type": "markdown",
   "metadata": {},
   "source": [
    "***\n",
    "<a id=\"coding_tutorial_3\"></a>\n",
    "## The compile method"
   ]
  },
  {
   "cell_type": "markdown",
   "metadata": {},
   "source": [
    "#### Compile the model"
   ]
  },
  {
   "cell_type": "code",
   "execution_count": 19,
   "metadata": {},
   "outputs": [],
   "source": [
    "# Define the model optimizer, loss function and metrics\n",
    "\n",
    "\n",
    "model.compile(optimizer='adam', \n",
    "              loss='sparse_categorical_crossentropy',\n",
    "              metrics=['accuracy','mae']\n",
    "             )"
   ]
  },
  {
   "cell_type": "code",
   "execution_count": 23,
   "metadata": {},
   "outputs": [],
   "source": [
    "# Define the model optimizer, loss function and metrics\n",
    "\n",
    "opt= tf.keras.optimizers.Adam(learning_rate=0.005)\n",
    "acc = tf.keras.metrics.SparseCategoricalAccuracy()\n",
    "mae = tf.keras.metrics.MeanAbsoluteError()\n",
    "model.compile(optimizer=opt, \n",
    "              loss='sparse_categorical_crossentropy',\n",
    "              metrics=[acc, mae]\n",
    "             )"
   ]
  },
  {
   "cell_type": "code",
   "execution_count": 24,
   "metadata": {},
   "outputs": [
    {
     "name": "stdout",
     "output_type": "stream",
     "text": [
      "sparse_categorical_crossentropy\n",
      "<tensorflow.python.keras.optimizer_v2.adam.Adam object at 0x7f3bc8408cf8>\n",
      "[<tensorflow.python.keras.metrics.SparseCategoricalAccuracy object at 0x7f3bd476e9e8>, <tensorflow.python.keras.metrics.MeanAbsoluteError object at 0x7f3bc8315710>]\n"
     ]
    }
   ],
   "source": [
    "# Print the resulting model attributes\n",
    "print(model.loss)\n",
    "print(model.optimizer)\n",
    "print(model.metrics)\n"
   ]
  },
  {
   "cell_type": "markdown",
   "metadata": {},
   "source": [
    "***\n",
    "<a id=\"coding_tutorial_4\"></a>\n",
    "## The fit method"
   ]
  },
  {
   "cell_type": "code",
   "execution_count": null,
   "metadata": {},
   "outputs": [],
   "source": [
    "from tensorflow.keras.preprocessing import image\n",
    "import matplotlib.pyplot as plt\n",
    "import numpy as np\n",
    "import pandas as pd"
   ]
  },
  {
   "cell_type": "markdown",
   "metadata": {},
   "source": [
    "#### Load the data"
   ]
  },
  {
   "cell_type": "code",
   "execution_count": null,
   "metadata": {},
   "outputs": [],
   "source": [
    "# Load the Fashion-MNIST dataset\n",
    "\n",
    "fashion_mnist_data = tf.keras.datasets.fashion_mnist\n",
    "(train_images, train_labels), (test_images, test_labels) = fashion_mnist_data.load_data()"
   ]
  },
  {
   "cell_type": "code",
   "execution_count": null,
   "metadata": {},
   "outputs": [],
   "source": [
    "# Print the shape of the training data\n",
    "\n"
   ]
  },
  {
   "cell_type": "code",
   "execution_count": null,
   "metadata": {},
   "outputs": [],
   "source": [
    "# Define the labels\n",
    "\n",
    "labels = [\n",
    "    'T-shirt/top',\n",
    "    'Trouser',\n",
    "    'Pullover',\n",
    "    'Dress',\n",
    "    'Coat',\n",
    "    'Sandal',\n",
    "    'Shirt',\n",
    "    'Sneaker',\n",
    "    'Bag',\n",
    "    'Ankle boot'\n",
    "]"
   ]
  },
  {
   "cell_type": "code",
   "execution_count": null,
   "metadata": {},
   "outputs": [],
   "source": [
    "# Rescale the image values so that they lie in between 0 and 1.\n",
    "\n",
    "train_images = train_images/255.\n",
    "test_images = test_images/255."
   ]
  },
  {
   "cell_type": "code",
   "execution_count": null,
   "metadata": {},
   "outputs": [],
   "source": [
    "# Display one of the images\n",
    "i=0\n",
    "img = train_images[i,:,:]\n",
    "plt.imshow(img)\n",
    "plt.show()\n",
    "print(f\"label: {labels[train_labels[i]]}\")\n"
   ]
  },
  {
   "cell_type": "markdown",
   "metadata": {},
   "source": [
    "#### Fit the model"
   ]
  },
  {
   "cell_type": "code",
   "execution_count": null,
   "metadata": {},
   "outputs": [],
   "source": [
    "# Fit the model\n",
    "\n",
    "history = model.fit(train_images[...,np.newaxis], train_labels, epochs=5, batch_size=256, verbose=2)"
   ]
  },
  {
   "cell_type": "markdown",
   "metadata": {},
   "source": [
    "#### Plot training history"
   ]
  },
  {
   "cell_type": "code",
   "execution_count": null,
   "metadata": {},
   "outputs": [],
   "source": [
    "# Load the history into a pandas Dataframe\n",
    "\n",
    "df = pd.DataFrame(history.history)\n",
    "df.head()\n"
   ]
  },
  {
   "cell_type": "code",
   "execution_count": null,
   "metadata": {},
   "outputs": [],
   "source": [
    "# Make a plot for the loss\n",
    "\n"
   ]
  },
  {
   "cell_type": "code",
   "execution_count": null,
   "metadata": {},
   "outputs": [],
   "source": [
    "# Make a plot for the accuracy\n",
    "\n"
   ]
  },
  {
   "cell_type": "code",
   "execution_count": null,
   "metadata": {},
   "outputs": [],
   "source": [
    "# Make a plot for the additional metric\n",
    "\n"
   ]
  },
  {
   "cell_type": "markdown",
   "metadata": {},
   "source": [
    "***\n",
    "<a id=\"coding_tutorial_5\"></a>\n",
    "## The evaluate and predict methods"
   ]
  },
  {
   "cell_type": "code",
   "execution_count": null,
   "metadata": {},
   "outputs": [],
   "source": [
    "import matplotlib.pyplot as plt\n",
    "import numpy as np"
   ]
  },
  {
   "cell_type": "markdown",
   "metadata": {},
   "source": [
    "#### Evaluate the model on the test set"
   ]
  },
  {
   "cell_type": "code",
   "execution_count": null,
   "metadata": {},
   "outputs": [],
   "source": [
    "# Evaluate the model\n",
    "\n",
    "test_loss, test_accurace, test_mae = model.evaluate(test_images[...,np.newaxis], test_labels)"
   ]
  },
  {
   "cell_type": "markdown",
   "metadata": {},
   "source": [
    "#### Make predictions from the model"
   ]
  },
  {
   "cell_type": "code",
   "execution_count": null,
   "metadata": {},
   "outputs": [],
   "source": [
    "# Choose a random test image\n",
    "\n",
    "random_inx = np.random.choice(test_images.shape[0])\n",
    "\n",
    "test_image = test_images[random_inx]\n",
    "plt.imshow(test_image)\n",
    "plt.show()\n",
    "print(f\"Label: {labels[test_labels[random_inx]]}\")"
   ]
  },
  {
   "cell_type": "code",
   "execution_count": null,
   "metadata": {},
   "outputs": [],
   "source": [
    "# Get the model predictions\n",
    "predictions = model.predict(test_image[np.newaxis,..., np.newaxis])\n",
    "print(labels[np.argmax(predictions)])"
   ]
  }
 ],
 "metadata": {
  "kernelspec": {
   "display_name": "Python [default]",
   "language": "python",
   "name": "python3"
  },
  "language_info": {
   "codemirror_mode": {
    "name": "ipython",
    "version": 3
   },
   "file_extension": ".py",
   "mimetype": "text/x-python",
   "name": "python",
   "nbconvert_exporter": "python",
   "pygments_lexer": "ipython3",
   "version": "3.7.0"
  }
 },
 "nbformat": 4,
 "nbformat_minor": 2
}
