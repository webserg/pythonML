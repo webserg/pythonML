{
 "cells": [
  {
   "cell_type": "markdown",
   "metadata": {},
   "source": [
    "# This notebook is Exercises 1 and 2 on CS161 HW1, Due Friday Oct. 6.\n",
    "\n",
    "## In it, we'll explore big-Oh notation\n",
    "\n",
    "Check out https://matplotlib.org/users/pyplot_tutorial.html for a good tutorial on using matplotlib if you are getting hung up on the graphics stuff, although hopefully you shouldn't have to mess with it."
   ]
  },
  {
   "cell_type": "code",
   "execution_count": 1,
   "metadata": {
    "collapsed": true
   },
   "outputs": [],
   "source": [
    "%matplotlib inline\n",
    "import matplotlib\n",
    "import numpy as np\n",
    "import matplotlib.pyplot as plt"
   ]
  },
  {
   "cell_type": "markdown",
   "metadata": {},
   "source": [
    "\n",
    "#  Exercise 1\n",
    "\n",
    "### In which we draw a picture convincing us that 2\\sqrt(x) + 6 = O( \\sqrt(x) ) \n"
   ]
  },
  {
   "cell_type": "code",
   "execution_count": 2,
   "metadata": {
    "collapsed": false
   },
   "outputs": [
    {
     "data": {
      "text/plain": [
       "Text(0.5,1,'T and g')"
      ]
     },
     "execution_count": 2,
     "metadata": {},
     "output_type": "execute_result"
    },
    {
     "data": {
      "image/png": "[encoded data removed]",
      "text/plain": [
       "<matplotlib.figure.Figure at 0x21cbaa54518>"
      ]
     },
     "metadata": {},
     "output_type": "display_data"
    }
   ],
   "source": [
    "## In this exercise, we'll just make sure we understand the definition of big-Oh.\n",
    "## Consider the following two functions:\n",
    "\n",
    "def g(x):\n",
    "    return np.sqrt(x)\n",
    "\n",
    "def T(x):\n",
    "    return 2*np.sqrt(x) + 6\n",
    "\n",
    "## Let's plot them.\n",
    "plt.plot([T(x) for x in range(100)], color=\"red\", label=\"T(x)\")\n",
    "plt.plot([g(x) for x in range(100)], '--', color=\"blue\", label=\"g(x)\")\n",
    "plt.xlabel(\"x\")\n",
    "plt.legend()\n",
    "plt.title(\"T and g\")"
   ]
  },
  {
   "cell_type": "markdown",
   "metadata": {},
   "source": [
    "Clearly T(x) > g(x) for all x.  However, we claim T(x) = O(g(x)); that is, T is asymptotically no larger than g.\n",
    "\n",
    "To show this is true, we need to find some c and some n_0 so that:\n",
    "for all n >= n_0, T(n) <= cg(n). \n",
    "\n",
    "By adjusting the values below, find such a c and an n_0, and create a picture that convinces you (and the grader) that T(n) = O(g(n)).  Your plot should be similar to the ones we saw on the slides in Lecture 2."
   ]
  },
  {
   "cell_type": "code",
   "execution_count": null,
   "metadata": {
    "collapsed": false
   },
   "outputs": [],
   "source": [
    "c = 2  # TODO: you will have to change this value\n",
    "n0 = 0 # TODO: you will have to change this value\n",
    "\n",
    "# plot our three functions:\n",
    "plt.plot([T(x) for x in range(100)], color=\"red\", label=\"T(x)\")\n",
    "plt.plot([g(x) for x in range(100)], '--', color=\"blue\", label=\"g(x)\")\n",
    "plt.plot([c*g(x) for x in range(100)], '-.', color=\"green\",label=str(c)+\"*g(x)\")\n",
    "# plot the vertical line:\n",
    "plt.axvline(n0, color=\"orange\", label=\"x=n0=\" + str(n0))\n",
    "# add some text:\n",
    "plt.xlabel(\"x\")\n",
    "plt.title(\"Picture that convinces you that T(x) = O(g(x))\")\n",
    "plt.legend()\n"
   ]
  },
  {
   "cell_type": "markdown",
   "metadata": {},
   "source": [
    "### TURN IN: your choice of c, n_0, your plot, and a short (a sentence or two) explanation about why the plot shows that T(n) = O(g(n)).\n",
    "\n",
    "#### NOTE: you can right click the images in the notebook and click \"save as\" to get a .png file.  You can then include this in your homework write-up.\n"
   ]
  },
  {
   "cell_type": "markdown",
   "metadata": {},
   "source": [
    "\n",
    "# Exercise 2\n",
    "\n",
    "### In which we try to understand the runtime of a particular algorithm"
   ]
  },
  {
   "cell_type": "code",
   "execution_count": null,
   "metadata": {
    "collapsed": true
   },
   "outputs": [],
   "source": [
    "# Here is a very basic python function, which finds the number of \"1\"'s that appear in a list.\n",
    "def numOnes( lst ):\n",
    "    count = 0\n",
    "    for x in lst:\n",
    "        if x == 1:\n",
    "            count += 1\n",
    "    return count"
   ]
  },
  {
   "cell_type": "markdown",
   "metadata": {},
   "source": [
    "\n",
    "## Exercise 2, PART A: \n",
    "\n",
    "Just by looking at the code, what is the asymptotic runtime of numOnes on an input list of size n? Give a brief justification of your answer.\n",
    "\n",
    "### TURN IN: An answer (in big-Oh notation) and a few sentences justifying your answer.\n"
   ]
  },
  {
   "cell_type": "markdown",
   "metadata": {},
   "source": [
    "Now, let's sanity-check your answer from Part A.\n",
    "\n",
    "Below is some code that measures the runtime of numOnes running on some random inputs, and plots the output.\n",
    "\n",
    "Look through the code below and make sure you understand what it's doing.  Does the output make sense?"
   ]
  },
  {
   "cell_type": "code",
   "execution_count": null,
   "metadata": {
    "collapsed": false
   },
   "outputs": [],
   "source": [
    "import time\n",
    "from random import choice\n",
    "\n",
    "nValues = []\n",
    "tValues = []\n",
    "# try lists of length 100, 200, ..., 900:\n",
    "for n in range(100,1000, 100):\n",
    "    # do it a few times and average to get a decent idea; this might take a while\n",
    "    runtime = 0\n",
    "    numTrials = 60\n",
    "    for t in range(numTrials):\n",
    "        lst = [ choice(range(10)) for i in range(n) ] #generate a random list of length n\n",
    "        start = time.time()\n",
    "        numOnes( lst )\n",
    "        end = time.time()\n",
    "        runtime += (end - start) * 1000  # measure in milliseconds\n",
    "    runtime = runtime/numTrials # take an average\n",
    "    nValues.append(n)\n",
    "    tValues.append(runtime)\n",
    "\n",
    "plt.plot( nValues, tValues )\n",
    "plt.xlabel(\"Input size n\")\n",
    "plt.ylabel(\"Running time (ms)\")\n",
    "plt.title(\"Running time of numOnes\")"
   ]
  },
  {
   "cell_type": "markdown",
   "metadata": {},
   "source": [
    "\n",
    "## Exercise 2, PART B:\n",
    "\n",
    "Use the nValues and tValues computed above to give picture, a la Exercise 1, that convinces you (and the grader) that your answer to part A is correct.\n",
    "\n",
    "### TURN IN: Your picture, your choices of c and n0, along with a brief explanation of what it's showing.\n"
   ]
  },
  {
   "cell_type": "code",
   "execution_count": null,
   "metadata": {
    "collapsed": false
   },
   "outputs": [],
   "source": [
    "# g(n) is your answer from Part A.\n",
    "# TODO: modify the answer below to match your answer from Part A.\n",
    "def g(n):\n",
    "    return 0 \n",
    "\n",
    "c = 1 # TODO: Modify this appropriately (as in Exercise 1) \n",
    "# NOTE: c may need to be pretty small; that's okay.\n",
    "n0 = 100 # TODO: Modify this appropriately (as in Exercise 1)\n",
    "\n",
    "\n",
    "# plot the three functions\n",
    "plt.plot( nValues, tValues, color = \"red\", label = \"Actual runtime (ms)\")\n",
    "plt.plot( nValues, [c*g(n) for n in nValues], '-.', color=\"green\", label = str(c) + \"*g(n)\")\n",
    "# plot the vertical line:\n",
    "plt.axvline(n0, color=\"orange\", label=\"n=n0=\" + str(n0))\n",
    "# add some text\n",
    "plt.xlabel(\"Input size n\")\n",
    "plt.ylabel(\"Running time (ms)\")\n",
    "plt.title(\"Picture convincing you that running time of numOnes = O(XXX)\")  # TODO: FILL IN YOUR ANSWER HERE\n",
    "plt.legend()"
   ]
  },
  {
   "cell_type": "markdown",
   "metadata": {},
   "source": [
    "## Exercise 2, PART C:\n",
    "\n",
    "How much time do you think it will take to run numOnes on an input of size n=10^15?\n",
    "\n",
    "### TURN IN: Your answer, in whichever of {ms, seconds, minutes, days, months, years, decades, centuries, ...} makes the most sense, and a brief justification.  You can use either a picture like the one you generated in Part B, or any other method you like that uses the runtime data above.  We do not suggest that you try running numOnes on input that large."
   ]
  },
  {
   "cell_type": "code",
   "execution_count": null,
   "metadata": {
    "collapsed": true
   },
   "outputs": [],
   "source": []
  }
 ],
 "metadata": {
  "kernelspec": {
   "display_name": "Python 3",
   "language": "python",
   "name": "python3"
  },
  "language_info": {
   "codemirror_mode": {
    "name": "ipython",
    "version": 3
   },
   "file_extension": ".py",
   "mimetype": "text/x-python",
   "name": "python",
   "nbconvert_exporter": "python",
   "pygments_lexer": "ipython3",
   "version": "3.6.3"
  }
 },
 "nbformat": 4,
 "nbformat_minor": 2
}
