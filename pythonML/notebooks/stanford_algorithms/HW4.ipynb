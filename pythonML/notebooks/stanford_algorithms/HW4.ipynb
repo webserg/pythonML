{
 "cells": [
  {
   "cell_type": "markdown",
   "metadata": {},
   "source": [
    "# This Notebook Contains HW4, Exercise 2"
   ]
  },
  {
   "cell_type": "code",
   "execution_count": null,
   "metadata": {
    "collapsed": true
   },
   "outputs": [],
   "source": [
    "import pickle\n",
    "import matplotlib\n",
    "import numpy as np\n",
    "import matplotlib.pyplot as plt\n",
    "from random import choice\n",
    "%matplotlib inline"
   ]
  },
  {
   "cell_type": "markdown",
   "metadata": {},
   "source": [
    "On the course website (along with this notebook), you will find two .pickle files, \"mysteryA.pickle\" and \"mysteryB.pickle\".  \n",
    "\n",
    "### Put both .pickle files in the same directory as this notebook,\n",
    "and then run the cell below to load them.  (Don't worry about the python syntax here)."
   ]
  },
  {
   "cell_type": "code",
   "execution_count": null,
   "metadata": {
    "collapsed": true
   },
   "outputs": [],
   "source": [
    "def makeFn(dic):\n",
    "    def f(x): return dic[x]\n",
    "    return f\n",
    "A = [ makeFn(d) for d in pickle.load(open(\"mysteryA.pickle\", \"rb\")) ]\n",
    "B = [ makeFn(d) for d in pickle.load(open(\"mysteryB.pickle\", \"rb\")) ]"
   ]
  },
  {
   "cell_type": "markdown",
   "metadata": {},
   "source": [
    "Each of A and B are hash families, which contain functions from the universe {0,...,21} to three buckets, {0,1,2}.\n",
    "\n",
    "More precisely, A and B are lists of functions."
   ]
  },
  {
   "cell_type": "code",
   "execution_count": null,
   "metadata": {},
   "outputs": [],
   "source": [
    "# Here's an example which shows that A[4] is a function.  It's the 4th function in the hash family.\n",
    "f = A[4]\n",
    "print(\"Now f is a function:\")\n",
    "print(\"f=\", f)\n",
    "print(\"And we can evaluate f on the inputs {0,...,21}.  For example, f(17)=\", f(17))"
   ]
  },
  {
   "cell_type": "markdown",
   "metadata": {},
   "source": [
    "### A and B have a lot of things in common:"
   ]
  },
  {
   "cell_type": "code",
   "execution_count": null,
   "metadata": {},
   "outputs": [],
   "source": [
    "# They both have 506 functions in them.\n",
    "print(len(A))\n",
    "print(len(B))"
   ]
  },
  {
   "cell_type": "code",
   "execution_count": null,
   "metadata": {
    "collapsed": true
   },
   "outputs": [],
   "source": [
    "# Further, for any given x in {0,...,21}, the probability that x lands in any given bucket seems pretty flat:\n",
    "def generateHistogram(x):\n",
    "    A_output_on_x = [ h(x) for h in A ]  # this is a list of the values h(x) as h varies over the hash family A.\n",
    "    B_output_on_x = [ h(x) for h in B ]  # this is a list of the values h(x) as h varies over the hash family B.\n",
    "    counts, bins, patches = plt.hist([A_output_on_x, B_output_on_x], color=[\"orange\",\"blue\"] , label=[\"A\", \"B\"], bins=3)\n",
    "    plt.legend()  # this draws the legend\n",
    "    plt.xticks(bins)  # this says where to put tick marks; I want it on the bin dividers\n",
    "    plt.xlabel(\"Buckets\")  # label on x-axis\n",
    "    plt.ylabel(\"Number of h's so that h(\" + str(x) + \") lands in this bucket\") # label on y-axis\n",
    "    plt.title(\"How spread out are the images of \" + str(x) + \"?\")  # plot title\n",
    "    plt.show()  # displays the plot"
   ]
  },
  {
   "cell_type": "code",
   "execution_count": null,
   "metadata": {},
   "outputs": [],
   "source": [
    "generateHistogram(4)\n",
    "generateHistogram(11)"
   ]
  },
  {
   "cell_type": "markdown",
   "metadata": {},
   "source": [
    "## However, one of these families is a pretty good universal hash family, and one is pretty bad.\n",
    "\n",
    "# Exercise: which is which?\n",
    "You should turn in your answer, along with compelling numerical evidence, which you present along with an explanation of what your evidence has to do with the definition of a universal hash family.\n",
    "\n",
    "Your evidence should use the functions in A and B as black boxes.  Please do not try to reverse-engineer the functions. :)\n",
    "\n",
    "If you use a histogram in your answer, you may see above for an example of how to plot one in Python."
   ]
  },
  {
   "cell_type": "code",
   "execution_count": null,
   "metadata": {
    "collapsed": true
   },
   "outputs": [],
   "source": []
  }
 ],
 "metadata": {
  "kernelspec": {
   "display_name": "Python 3",
   "language": "python",
   "name": "python3"
  },
  "language_info": {
   "codemirror_mode": {
    "name": "ipython",
    "version": 3
   },
   "file_extension": ".py",
   "mimetype": "text/x-python",
   "name": "python",
   "nbconvert_exporter": "python",
   "pygments_lexer": "ipython3",
   "version": "3.6.1"
  }
 },
 "nbformat": 4,
 "nbformat_minor": 2
}
