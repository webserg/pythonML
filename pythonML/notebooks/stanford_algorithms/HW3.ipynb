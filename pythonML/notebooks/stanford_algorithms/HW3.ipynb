{
 "cells": [
  {
   "cell_type": "markdown",
   "metadata": {},
   "source": [
    "# Homework 3, Exercise 3 refers to this IPython notebook\n",
    "\n",
    "## The content of the problem is on the problem set. "
   ]
  },
  {
   "cell_type": "code",
   "execution_count": null,
   "metadata": {
    "collapsed": true
   },
   "outputs": [],
   "source": [
    "from HW3aux import *\n",
    "from random import choice"
   ]
  },
  {
   "cell_type": "markdown",
   "metadata": {},
   "source": [
    "Let's recall some of the sorting algorithms we've seen so far.\n",
    "\n",
    "### Note: \n",
    "All of these algorithms (except radixSort) have been modified to sort not general numbers but objects of class \"myInt\" which is defined in HW3aux.py.  This allows them to be used as subroutines in radixSort.  The implementaiton of radixSort itself given below works on normal Python ints."
   ]
  },
  {
   "cell_type": "markdown",
   "metadata": {},
   "source": [
    "### Here is our implementation of bucketSort from Lecture 6"
   ]
  },
  {
   "cell_type": "code",
   "execution_count": null,
   "metadata": {
    "collapsed": true
   },
   "outputs": [],
   "source": [
    "# A is a list to sort.\n",
    "# A contains objects that have a \"key\" attribute, where \"key\" is between 0 and bucketMax - 1\n",
    "def bucketSort(A, bucketMax=10):  \n",
    "    # myQueue is a simple FIFO queue class defined in HW3aux.py.  \n",
    "    # Initialize a myQueue for each bucket.\n",
    "    T = [ myQueue() for i in range(bucketMax) ] \n",
    "    for x in A:\n",
    "        # add object x to the appropriate bucket\n",
    "        T[x.key()].push(x)\n",
    "    # now return the concatenated buckets.\n",
    "    ret = []\n",
    "    for i in range(bucketMax):\n",
    "        ret += T[i].getList()\n",
    "    return ret"
   ]
  },
  {
   "cell_type": "markdown",
   "metadata": {},
   "source": [
    "### Here is one of our implementations of quickSort from Lecture 5"
   ]
  },
  {
   "cell_type": "code",
   "execution_count": null,
   "metadata": {
    "collapsed": true
   },
   "outputs": [],
   "source": [
    "# A is a list to sort.\n",
    "# A contains objects that have a \"key\" attribute, and we will sort according to that attribute.\n",
    "def quickSort(A):\n",
    "    return quickSortHelper(A, 0, len(A))\n",
    "        \n",
    "def quickSortHelper(A, start, end):\n",
    "    if end - start <= 1:\n",
    "        return \n",
    "    # choose a random pivot:\n",
    "    p = choice(range(start, end)) \n",
    "    # partition around the pivot:\n",
    "    pivotLocation = partition( A, start, end, p ) \n",
    "    # recurse:\n",
    "    quickSortHelper(A,start, pivotLocation)\n",
    "    quickSortHelper(A,pivotLocation + 1, end)\n",
    "    return\n",
    "\n",
    "# Helper function to swap A[i] with A[j]\n",
    "def swap(A, i, j):\n",
    "    tmp = A[i]\n",
    "    A[i] = A[j]\n",
    "    A[j] = tmp\n",
    "\n",
    "# Here's one in-place Partition algorithm. (This is the one in CLRS.)\n",
    "# It rearranges A[start:end] around the pivot p.\n",
    "# It returns the index where A[p] ended up.\n",
    "def partition(A, start, end, p):\n",
    "    # first put the pivot at the end\n",
    "    x = A[p]\n",
    "    swap(A, p, end-1)\n",
    "    # now do the partition algorithm we went over in class\n",
    "    i = start - 1\n",
    "    for j in range(start, end-1):\n",
    "        if A[j].key() <= x.key():\n",
    "            i += 1\n",
    "            swap(A, i, j)\n",
    "    # at this point all of the things at positions <i are smaller than the pivot, and at >=i are larger than the pivot.\n",
    "    # so put the pivot back where it needs to go:\n",
    "    swap(A, i+1, end-1)\n",
    "    return i+1"
   ]
  },
  {
   "cell_type": "markdown",
   "metadata": {},
   "source": [
    "### Here is our implementation of MergeSort from Lecture 2\n",
    "\n",
    "We've tweaked it a little bit to allow you to choose between two possible Merge functions.\n",
    "\n",
    "merge1 is the version we saw in class.  If the pointers in the two halves are pointing at something with the same value, we'll add the one from R before we add the one from L.\n",
    "\n",
    "merge2 is *almost* the same as merge1: only one < has been changed to a <=.  This means that, in the situation above, we'll add an element from L before we add one from R if they are equal."
   ]
  },
  {
   "cell_type": "code",
   "execution_count": null,
   "metadata": {
    "collapsed": true
   },
   "outputs": [],
   "source": [
    "# mergeSort takes a list A to sort.\n",
    "# objects in A have a \"key\" attribute, and we will sort according to that attribute\n",
    "# whichMerge is an optional argument with default 1.  \n",
    "# If whichMerge=1, then we use merge1 below.  Otherwise we use merge2.\n",
    "def mergeSort(A,whichMerge=1):\n",
    "    n = len(A)\n",
    "    if n <= 1:\n",
    "        return A\n",
    "    L = mergeSort(A[:round(n/2)], whichMerge)\n",
    "    R = mergeSort(A[round(n/2):n], whichMerge)\n",
    "    if whichMerge == 1:\n",
    "        return merge1(L,R)\n",
    "    else:\n",
    "        return merge2(L,R)\n",
    "\n",
    "# This is the merge algorithm we saw in class.\n",
    "def merge1(L, R):\n",
    "    i = 0 # current index in the L array\n",
    "    j = 0 # current index in the R array\n",
    "    ret = []\n",
    "    while i < len(L) and j < len(R):\n",
    "        if L[i].key() < R[j].key():\n",
    "            ret.append(L[i])\n",
    "            i += 1\n",
    "        else:    \n",
    "            ret.append(R[j])\n",
    "            j += 1\n",
    "    while i < len(L):\n",
    "        ret.append(L[i])\n",
    "        i += 1\n",
    "    while j < len(R):\n",
    "        ret.append(R[j])\n",
    "        j+= 1\n",
    "    return ret\n",
    "\n",
    "# This is only very slightly different than the algorithm we saw in class\n",
    "def merge2(L, R):\n",
    "    i = 0 # current index in the L array\n",
    "    j = 0 # current index in the R array\n",
    "    ret = []\n",
    "    while i < len(L) and j < len(R):\n",
    "        # The following is the ONLY place where merge1 and merge2 differ.  \n",
    "        # There is a <= instead of a <.\n",
    "        if L[i].key() <= R[j].key():\n",
    "            ret.append(L[i])\n",
    "            i += 1\n",
    "        else:     \n",
    "            ret.append(R[j])\n",
    "            j += 1\n",
    "    while i < len(L):\n",
    "        ret.append(L[i])\n",
    "        i += 1\n",
    "    while j < len(R):\n",
    "        ret.append(R[j])\n",
    "        j+= 1\n",
    "    return ret"
   ]
  },
  {
   "cell_type": "markdown",
   "metadata": {},
   "source": [
    "### Here is our implementation RadixSort from Lecture 6\n",
    "\n",
    "This is the method that you will have to modify to change the inner sorting algorithms.  They are already in there, commented out."
   ]
  },
  {
   "cell_type": "code",
   "execution_count": null,
   "metadata": {
    "collapsed": true
   },
   "outputs": [],
   "source": [
    "# radixSort sorts integers which can be written with length <nDigits> in in base <base> \n",
    "# notice that if the base isn't 10 we probably shouldn't call these \"digits,\" but oh well...\n",
    "def radixSort(A, nDigits, base=10):\n",
    "    # replace A with a list of \"myInts\" (from the lecture 6 auxiliary file).\n",
    "    B = [ myInt(x, base=base) for x in A ]\n",
    "    # now repeatedly run another sorting algorithm for each digit.\n",
    "    for j in range(nDigits):\n",
    "        # first update the digit that is the key\n",
    "        for x in B:\n",
    "            x.updateKeyDigit(j)\n",
    "        #############\n",
    "        #\n",
    "        # TODO: we want to sort on that digit; what happens if we use another sorting algorithm like quickSort or mergeSort?\n",
    "        #\n",
    "        # Choose which of the four algorithms below are commented out and see how it works!\n",
    "        #\n",
    "        ###\n",
    "        # Option 1: BucketSort:\n",
    "        B = bucketSort(B,bucketMax=base)\n",
    "        # Option 2: QuickSort:\n",
    "        #quickSort(B)\n",
    "        # Option 3: MergeSort with the \"merge\" algorithm we saw in class.\n",
    "        #B = mergeSort(B, whichMerge=1)\n",
    "        # Option 4: MergeSort with a very slightly modified merge algorithm.\n",
    "        #B = mergeSort(B, whichMerge=2)\n",
    "        #\n",
    "        ###############\n",
    "    # now B should be sorted!  We hope...\n",
    "    return [b.getValue() for b in B]  "
   ]
  },
  {
   "cell_type": "markdown",
   "metadata": {},
   "source": [
    "## Now let's see how RadixSort does with different inner sorting algorithms.\n",
    "\n",
    "Here's some code to try it out (we'll keep the base as 10 for this exercise, since it's easier to see what's going on).\n",
    "\n",
    "### In problem 3, you will have to run this with all of the different inner sorting algorithms.  Which ones work?  Which ones don't?"
   ]
  },
  {
   "cell_type": "code",
   "execution_count": null,
   "metadata": {
    "collapsed": true
   },
   "outputs": [],
   "source": [
    "# A is a list of integers\n",
    "# Returns True if B is sorted and False otherwise\n",
    "def isSorted(A):\n",
    "    for i in range(len(A)-1):\n",
    "        if A[i] > A[i+1]:\n",
    "            return False\n",
    "    return True"
   ]
  },
  {
   "cell_type": "code",
   "execution_count": null,
   "metadata": {
    "collapsed": true
   },
   "outputs": [],
   "source": [
    "# Test radixSort on <nTrials> different random lists of length <n>.\n",
    "# The lists have numbers that are <nDigits> long in base <base>\n",
    "# Returns True if radixSort works properly on all of the trials.\n",
    "#\n",
    "# All of the parameters are optional and the defaults should be fine for this exercise\n",
    "#\n",
    "# Warning: Python may freak out if you start generating numbers on the order of 10^(19) or so. \n",
    "# (aka if you set nDigits>=19).\n",
    "#\n",
    "def testRadixSort(nDigits=5,n=100,base=10,nTrials=50):\n",
    "    for trial in range(nTrials):\n",
    "        # generate a random list of b nDigits-long integers (in base <base>).\n",
    "        A = [ choice( range(base**(nDigits)) ) for i in range(n)]\n",
    "        # does it work?\n",
    "        if not isSorted(radixSort(A, nDigits, base)):\n",
    "            print(\"Nope, that one doesn't work.\")\n",
    "            return False\n",
    "    print(\"Seems to work!\")\n",
    "    return True"
   ]
  },
  {
   "cell_type": "code",
   "execution_count": null,
   "metadata": {},
   "outputs": [],
   "source": [
    "testRadixSort()"
   ]
  },
  {
   "cell_type": "code",
   "execution_count": null,
   "metadata": {
    "collapsed": true
   },
   "outputs": [],
   "source": []
  }
 ],
 "metadata": {
  "kernelspec": {
   "display_name": "Python 3",
   "language": "python",
   "name": "python3"
  },
  "language_info": {
   "codemirror_mode": {
    "name": "ipython",
    "version": 3
   },
   "file_extension": ".py",
   "mimetype": "text/x-python",
   "name": "python",
   "nbconvert_exporter": "python",
   "pygments_lexer": "ipython3",
   "version": "3.6.1"
  }
 },
 "nbformat": 4,
 "nbformat_minor": 2
}
