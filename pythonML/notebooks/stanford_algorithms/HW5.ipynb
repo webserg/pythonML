{
 "cells": [
  {
   "cell_type": "markdown",
   "metadata": {},
   "source": [
    "# Homework 5, Exercise 2\n",
    "\n",
    "Modify BFS to test for bipartiteness"
   ]
  },
  {
   "cell_type": "code",
   "execution_count": null,
   "metadata": {
    "collapsed": true
   },
   "outputs": [],
   "source": [
    "# graphStuff.py contains our implementation of CS161Graphs.\n",
    "from graphStuff import *\n",
    "import pickle"
   ]
  },
  {
   "cell_type": "markdown",
   "metadata": {},
   "source": [
    "### Here is our implementation of BFS from class\n",
    "\n",
    "It explores the part of the graph which is reachable from w, and returns a list of the \"levels\""
   ]
  },
  {
   "cell_type": "code",
   "execution_count": null,
   "metadata": {
    "collapsed": true
   },
   "outputs": [],
   "source": [
    "# Breadth-first search\n",
    "# G is a CS161Graph\n",
    "# w is a starting vertex\n",
    "# returns a list Ls, so that Ls[i] is the list of vertices at distance i from w\n",
    "def BFS(w, G):\n",
    "    for v in G.vertices:\n",
    "        v.status = \"unvisited\"\n",
    "    n = len(G.vertices)\n",
    "    Ls = [ [] for i in range(n) ]\n",
    "    Ls[0] = [w]\n",
    "    w.status = \"visited\"\n",
    "    for i in range(n):\n",
    "        for u in Ls[i]:\n",
    "            for v in u.getOutNeighbors():\n",
    "                if v.status == \"unvisited\":\n",
    "                    v.status = \"visited\"\n",
    "                    Ls[i+1].append(v)\n",
    "    return Ls"
   ]
  },
  {
   "cell_type": "markdown",
   "metadata": {},
   "source": [
    "For example, we can load a graph from a .pickle file and run BFS:"
   ]
  },
  {
   "cell_type": "code",
   "execution_count": null,
   "metadata": {},
   "outputs": [],
   "source": [
    "A = pickle.load(open(\"HW5_mysteryA.pickle\",\"rb\"))\n",
    "B = pickle.load(open(\"HW5_mysteryB.pickle\", \"rb\"))"
   ]
  },
  {
   "cell_type": "markdown",
   "metadata": {},
   "source": [
    "A and B are both CS161Graphs.  They have 100 vertices.  Each graph has only bi-directional edges (so if there is a directed edge from x to y, then there is a directed edge from y to x).  The cell below is just to illustrate some of the ways you can use the CS161Graph class."
   ]
  },
  {
   "cell_type": "code",
   "execution_count": null,
   "metadata": {},
   "outputs": [],
   "source": [
    "print( \"The number of vertices in A is\", len(A.vertices))\n",
    "v = A.vertices[0]  # first vertex in A\n",
    "print(\"Vertex v's index is\" , str(v)) # v has value \"0\" so that's how it gets represented as a string\n",
    "w = v.getOutNeighbors()[0]  \n",
    "print(\"Vertex v's first neighbor is vertex w, which has index\", str(w))\n",
    "print(\"Vertex w's neighbors are\", [ str(x) for x in w.getOutNeighbors() ])\n",
    "if w.hasNeighbor(v):\n",
    "    print(\"w has v as a neighbor\")"
   ]
  },
  {
   "cell_type": "markdown",
   "metadata": {},
   "source": [
    "However, one of them is bipartite and one of them is not.  Adapt the BFS code above to decide which is which. \n",
    "\n",
    "Note: The code above only explores the graph starting from a single vertex.  "
   ]
  },
  {
   "cell_type": "markdown",
   "metadata": {},
   "source": [
    "### You should turn in: \n",
    "\n",
    "1) Your answer (which one is bipartite?), and\n",
    "\n",
    "2) Your python code, with an English explanation of the changes that you needed to make."
   ]
  },
  {
   "cell_type": "code",
   "execution_count": null,
   "metadata": {
    "collapsed": true
   },
   "outputs": [],
   "source": []
  }
 ],
 "metadata": {
  "kernelspec": {
   "display_name": "Python 3",
   "language": "python",
   "name": "python3"
  },
  "language_info": {
   "codemirror_mode": {
    "name": "ipython",
    "version": 3
   },
   "file_extension": ".py",
   "mimetype": "text/x-python",
   "name": "python",
   "nbconvert_exporter": "python",
   "pygments_lexer": "ipython3",
   "version": "3.6.1"
  }
 },
 "nbformat": 4,
 "nbformat_minor": 2
}
