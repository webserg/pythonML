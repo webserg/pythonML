{
 "cells": [
  {
   "cell_type": "code",
   "execution_count": 3,
   "metadata": {},
   "outputs": [
    {
     "data": {
      "text/plain": [
       "[1, 1, 2, 6, 24, 120, 720, 5040, 40320, 362880, 3628800]"
      ]
     },
     "execution_count": 3,
     "metadata": {},
     "output_type": "execute_result"
    }
   ],
   "source": [
    "# Functions in Python are first-class objects. Programming language theorists define a\n",
    "# “first-class object” as a program entity that can be:\n",
    "#     • Created at runtime\n",
    "# • Assigned to a variable or element in a data structure\n",
    "# • Passed as an argument to a function\n",
    "# • Returned as the result of a function\n",
    "\n",
    "\n",
    "def factorial(n):\n",
    "    '''returns n!'''\n",
    "    return 1 if n < 2 else n * factorial(n - 1)\n",
    "\n",
    "mmp = map(factorial, range(11))\n",
    "list(mmp)"
   ]
  },
  {
   "cell_type": "markdown",
   "metadata": {},
   "source": [
    "A function that takes a function as argument or returns a function as the result is a\n",
    "higher-order function. One example is map, shown in Example 5-2. Another is the builtin\n",
    "function sorted: an optional key argument lets you provide a function to be applied\n",
    "to each item for sorting, as seen in"
   ]
  },
  {
   "cell_type": "markdown",
   "metadata": {},
   "source": [
    "Modern Replacements for map, filter, and reduce\n",
    "Functional languages commonly offer the map, filter, and reduce higher-order functions\n",
    "(sometimes with different names). The map and filter functions are still builtins\n",
    "in Python 3, but since the introduction of list comprehensions and generator expressions,\n",
    "they are not as important. A listcomp or a genexp does the job of map and\n",
    "filter combined, but is more readable. Consider Example 5-5.\n",
    "Example 5-5. Lists of factorials produced with map and filter compared to alternatives\n",
    "coded as list comprehensions\n"
   ]
  },
  {
   "cell_type": "code",
   "execution_count": 8,
   "metadata": {},
   "outputs": [
    {
     "data": {
      "text/plain": [
       "[1, 6, 120]"
      ]
     },
     "execution_count": 8,
     "metadata": {},
     "output_type": "execute_result"
    }
   ],
   "source": [
    "fact = factorial\n",
    "list(map(fact, range(6)))\n",
    "# [1, 1, 2, 6, 24, 120]\n",
    "[fact(n) for n in range(6)]\n",
    "# [1, 1, 2, 6, 24, 120]\n",
    "list(map(factorial, filter(lambda n: n % 2, range(6))))\n",
    "# [1, 6, 120]\n",
    "[factorial(n) for n in range(6) if n % 2]\n",
    "# [1, 6, 120]\n"
   ]
  },
  {
   "cell_type": "markdown",
   "metadata": {},
   "source": [
    "Example 5-6. Sum of integers up to 99 performed with reduce and sum\n"
   ]
  },
  {
   "cell_type": "code",
   "execution_count": 9,
   "metadata": {},
   "outputs": [
    {
     "data": {
      "text/plain": [
       "4950"
      ]
     },
     "execution_count": 9,
     "metadata": {},
     "output_type": "execute_result"
    }
   ],
   "source": [
    "from functools import reduce\n",
    "from operator import add\n",
    "reduce(add, range(100))"
   ]
  },
  {
   "cell_type": "markdown",
   "metadata": {},
   "source": [
    "Anonymous Functions\n",
    "The lambda keyword creates an anonymous function within a Python expression.\n",
    "However, the simple syntax of Python limits the body of lambda functions to be pure\n",
    "expressions. In other words, the body of a lambda cannot make assignments or use any\n",
    "other Python statement such as while, try, etc.\n",
    "The best use of anonymous functions is in the context of an argument list. For example,\n",
    "Example 5-7 is the rhyme index example from Example 5-4 rewritten with lambda,\n",
    "without defining a reverse function.\n",
    "Example 5-7. Sorting a list of words by their reversed spelling using lambda\n"
   ]
  },
  {
   "cell_type": "code",
   "execution_count": 10,
   "metadata": {},
   "outputs": [
    {
     "data": {
      "text/plain": [
       "['banana', 'apple', 'fig', 'raspberry', 'strawberry', 'cherry']"
      ]
     },
     "execution_count": 10,
     "metadata": {},
     "output_type": "execute_result"
    }
   ],
   "source": [
    "fruits = ['strawberry', 'fig', 'apple', 'cherry', 'raspberry', 'banana']\n",
    "sorted(fruits, key=lambda word: word[::-1])"
   ]
  }
 ],
 "metadata": {
  "kernelspec": {
   "display_name": "Python [default]",
   "language": "python",
   "name": "python3"
  },
  "language_info": {
   "codemirror_mode": {
    "name": "ipython",
    "version": 3
   },
   "file_extension": ".py",
   "mimetype": "text/x-python",
   "name": "python",
   "nbconvert_exporter": "python",
   "pygments_lexer": "ipython3",
   "version": "3.6.6"
  }
 },
 "nbformat": 4,
 "nbformat_minor": 4
}
