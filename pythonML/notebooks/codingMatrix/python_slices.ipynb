{
 "cells": [
  {
   "cell_type": "markdown",
   "metadata": {},
   "source": [
    "Slices: A slice of a list is a new list consisting of a consecutive subsequence of elements\n",
    "of the old list, namely those indexed by a range of integers. The range is specified by a\n",
    "colon-separated pair i : j consisting of the index i as the first element and j as one past the\n",
    "index of the last element. Thus mylist[1:3] is the list consisting of elements 1 and 2 of\n",
    "mylist.\n",
    "Prefixes: If the first element i of the pair is 0, it can be omitted, so mylist[:2] consists\n",
    "of the first 2 elements of mylist. This notation is useful for obtaining a prefix of a list.\n",
    "Suffixes: If the second element j of the pair is the length of the list, it can be omitted, so\n",
    "mylist[1:] consists of all elements of mylist except element 0."
   ]
  },
  {
   "cell_type": "code",
   "execution_count": 1,
   "metadata": {},
   "outputs": [],
   "source": [
    "L = [0,10,20,30,40,50,60,70,80,90]"
   ]
  },
  {
   "cell_type": "code",
   "execution_count": 2,
   "metadata": {},
   "outputs": [
    {
     "data": {
      "text/plain": [
       "[0, 10, 20, 30, 40]"
      ]
     },
     "execution_count": 2,
     "metadata": {},
     "output_type": "execute_result"
    }
   ],
   "source": [
    "L[:5]"
   ]
  },
  {
   "cell_type": "code",
   "execution_count": 3,
   "metadata": {},
   "outputs": [
    {
     "data": {
      "text/plain": [
       "[50, 60, 70, 80, 90]"
      ]
     },
     "execution_count": 3,
     "metadata": {},
     "output_type": "execute_result"
    }
   ],
   "source": [
    "L[5:]"
   ]
  },
  {
   "cell_type": "markdown",
   "metadata": {},
   "source": [
    "Slices that skip You can use a colon-separated triple a:b:c if you want the slice to include\n",
    "every cth element. For example, here is how you can extract from L the list consisting of\n",
    "even-indexed elements and the list consisting of odd-indexed elements:"
   ]
  },
  {
   "cell_type": "code",
   "execution_count": 4,
   "metadata": {},
   "outputs": [
    {
     "data": {
      "text/plain": [
       "[0, 20, 40, 60, 80]"
      ]
     },
     "execution_count": 4,
     "metadata": {},
     "output_type": "execute_result"
    }
   ],
   "source": [
    "L[::2]"
   ]
  },
  {
   "cell_type": "markdown",
   "metadata": {},
   "source": [
    "Obtaining elements of a list by unpacking"
   ]
  },
  {
   "cell_type": "code",
   "execution_count": 5,
   "metadata": {},
   "outputs": [],
   "source": [
    "[x,y,z] = [4*1, 4*2, 4*3]"
   ]
  },
  {
   "cell_type": "code",
   "execution_count": 6,
   "metadata": {},
   "outputs": [
    {
     "data": {
      "text/plain": [
       "[1, 4, 9]"
      ]
     },
     "execution_count": 6,
     "metadata": {},
     "output_type": "execute_result"
    }
   ],
   "source": [
    "listoflists = [[1,1],[2,4],[3, 9]]\n",
    "[y for [x,y] in listoflists]"
   ]
  },
  {
   "cell_type": "markdown",
   "metadata": {},
   "source": [
    "0.5.6 Tuples\n",
    "Like a list, a tuple is an ordered sequence of elements. However, tuples are immutable so\n",
    "they can be elements of sets. The notation for tuples is the same as that for lists except\n",
    "that ordinary parentheses are used instead of square brackets."
   ]
  },
  {
   "cell_type": "code",
   "execution_count": 7,
   "metadata": {},
   "outputs": [
    {
     "data": {
      "text/plain": [
       "(1, 2, 3)"
      ]
     },
     "execution_count": 7,
     "metadata": {},
     "output_type": "execute_result"
    }
   ],
   "source": [
    "(1,1+1,3)"
   ]
  },
  {
   "cell_type": "code",
   "execution_count": 8,
   "metadata": {},
   "outputs": [
    {
     "data": {
      "text/plain": [
       "{(1, 2), (3, 4, 5), 0}"
      ]
     },
     "execution_count": 8,
     "metadata": {},
     "output_type": "execute_result"
    }
   ],
   "source": [
    "{0, (1,2)} | {(3,4,5)}"
   ]
  },
  {
   "cell_type": "code",
   "execution_count": 9,
   "metadata": {},
   "outputs": [
    {
     "data": {
      "text/plain": [
       "['A', 'B', 'C']"
      ]
     },
     "execution_count": 9,
     "metadata": {},
     "output_type": "execute_result"
    }
   ],
   "source": [
    "[y for (x,y) in [(1,'A'),(2,'B'),(3,'C')] ]"
   ]
  },
  {
   "cell_type": "markdown",
   "metadata": {},
   "source": [
    "Task 0.5.14: Suppose S is a set of integers, e.g. {−4,−2, 1, 2, 5, 0}. Write a triple\n",
    "comprehension whose value is a list of all three-element tuples (i, j, k) such that i, j, k are\n",
    "elements of S whose sum is zero."
   ]
  },
  {
   "cell_type": "code",
   "execution_count": 11,
   "metadata": {},
   "outputs": [],
   "source": [
    "S = {-4,-2, 1, 2, 5, 0}"
   ]
  },
  {
   "cell_type": "code",
   "execution_count": 12,
   "metadata": {},
   "outputs": [],
   "source": [
    "a= (1,5-3)"
   ]
  },
  {
   "cell_type": "code",
   "execution_count": 13,
   "metadata": {},
   "outputs": [
    {
     "data": {
      "text/plain": [
       "3"
      ]
     },
     "execution_count": 13,
     "metadata": {},
     "output_type": "execute_result"
    }
   ],
   "source": [
    "sum(a)"
   ]
  },
  {
   "cell_type": "code",
   "execution_count": 19,
   "metadata": {},
   "outputs": [
    {
     "data": {
      "text/plain": [
       "[(0, 0, 0),\n",
       " (0, 2, -2),\n",
       " (0, -2, 2),\n",
       " (1, 1, -2),\n",
       " (1, -2, 1),\n",
       " (2, 0, -2),\n",
       " (2, 2, -4),\n",
       " (2, -4, 2),\n",
       " (2, -2, 0),\n",
       " (-4, 2, 2),\n",
       " (-2, 0, 2),\n",
       " (-2, 1, 1),\n",
       " (-2, 2, 0)]"
      ]
     },
     "execution_count": 19,
     "metadata": {},
     "output_type": "execute_result"
    }
   ],
   "source": [
    "[(i, j, k) for i in S for j in S for k in S if sum((i, j, k)) == 0 ]"
   ]
  },
  {
   "cell_type": "markdown",
   "metadata": {},
   "source": [
    "Task 0.5.15: Modify the comprehension of the previous task so that the resulting list does\n",
    "not include (0, 0, 0). Hint: add a filter."
   ]
  },
  {
   "cell_type": "code",
   "execution_count": 21,
   "metadata": {},
   "outputs": [
    {
     "data": {
      "text/plain": [
       "[(0, 2, -2),\n",
       " (0, -2, 2),\n",
       " (1, 1, -2),\n",
       " (1, -2, 1),\n",
       " (2, 0, -2),\n",
       " (2, 2, -4),\n",
       " (2, -4, 2),\n",
       " (2, -2, 0),\n",
       " (-4, 2, 2),\n",
       " (-2, 0, 2),\n",
       " (-2, 1, 1),\n",
       " (-2, 2, 0)]"
      ]
     },
     "execution_count": 21,
     "metadata": {},
     "output_type": "execute_result"
    }
   ],
   "source": [
    "[(i, j, k) for i in S for j in S for k in S if sum((i, j, k)) == 0 and (i, j, k) != (0,0,0)]"
   ]
  },
  {
   "cell_type": "markdown",
   "metadata": {},
   "source": [
    "Task 0.5.16: Further modify the expression so that its value is not the list of all such\n",
    "tuples but is the first such tuple."
   ]
  },
  {
   "cell_type": "code",
   "execution_count": 22,
   "metadata": {},
   "outputs": [
    {
     "data": {
      "text/plain": [
       "{(-4, 2, 2),\n",
       " (-2, 0, 2),\n",
       " (-2, 1, 1),\n",
       " (-2, 2, 0),\n",
       " (0, -2, 2),\n",
       " (0, 2, -2),\n",
       " (1, -2, 1),\n",
       " (1, 1, -2),\n",
       " (2, -4, 2),\n",
       " (2, -2, 0),\n",
       " (2, 0, -2),\n",
       " (2, 2, -4)}"
      ]
     },
     "execution_count": 22,
     "metadata": {},
     "output_type": "execute_result"
    }
   ],
   "source": [
    "{(i, j, k) for i in S for j in S for k in S if sum((i, j, k)) == 0 and (i, j, k) != (0,0,0)}"
   ]
  },
  {
   "cell_type": "markdown",
   "metadata": {},
   "source": [
    "Obtaining a list or set from another collection\n",
    "Python can compute a set from another collection (e.g. a list) using the constructor set(·).\n",
    "Similarly, the constructor list(·) computes a list, and the constructor tuple(·) computes\n",
    "a tuple"
   ]
  },
  {
   "cell_type": "code",
   "execution_count": 1,
   "metadata": {},
   "outputs": [
    {
     "data": {
      "text/plain": [
       "{0, 1, 2, 3, 4, 5, 6, 7, 8, 9}"
      ]
     },
     "execution_count": 1,
     "metadata": {},
     "output_type": "execute_result"
    }
   ],
   "source": [
    "set([0,1,2,3,4,5,6,7,8,9])"
   ]
  },
  {
   "cell_type": "code",
   "execution_count": 2,
   "metadata": {},
   "outputs": [
    {
     "data": {
      "text/plain": [
       "{1, 2, 3}"
      ]
     },
     "execution_count": 2,
     "metadata": {},
     "output_type": "execute_result"
    }
   ],
   "source": [
    "set([1,2,3])"
   ]
  },
  {
   "cell_type": "code",
   "execution_count": 3,
   "metadata": {},
   "outputs": [
    {
     "data": {
      "text/plain": [
       "[1, 2, 3]"
      ]
     },
     "execution_count": 3,
     "metadata": {},
     "output_type": "execute_result"
    }
   ],
   "source": [
    "list({1,2,3})"
   ]
  },
  {
   "cell_type": "code",
   "execution_count": 4,
   "metadata": {},
   "outputs": [
    {
     "data": {
      "text/plain": [
       "{1, 2, 3}"
      ]
     },
     "execution_count": 4,
     "metadata": {},
     "output_type": "execute_result"
    }
   ],
   "source": [
    "set((1,2,3))"
   ]
  },
  {
   "cell_type": "markdown",
   "metadata": {},
   "source": [
    "ranges"
   ]
  },
  {
   "cell_type": "code",
   "execution_count": 6,
   "metadata": {},
   "outputs": [
    {
     "data": {
      "text/plain": [
       "285"
      ]
     },
     "execution_count": 6,
     "metadata": {},
     "output_type": "execute_result"
    }
   ],
   "source": [
    "sum({i*i for i in range(10)})"
   ]
  },
  {
   "cell_type": "code",
   "execution_count": 7,
   "metadata": {},
   "outputs": [
    {
     "data": {
      "text/plain": [
       "[0, 1, 2, 3, 4, 5, 6, 7, 8, 9]"
      ]
     },
     "execution_count": 7,
     "metadata": {},
     "output_type": "execute_result"
    }
   ],
   "source": [
    "list(range(10))"
   ]
  },
  {
   "cell_type": "markdown",
   "metadata": {},
   "source": [
    "Task 0.5.18: Write a comprehension over a range of the form range(n) such that the\n",
    "value of the comprehension is the set of odd numbers from 1 to 99."
   ]
  },
  {
   "cell_type": "code",
   "execution_count": 8,
   "metadata": {},
   "outputs": [
    {
     "data": {
      "text/plain": [
       "{1,\n",
       " 3,\n",
       " 5,\n",
       " 7,\n",
       " 9,\n",
       " 11,\n",
       " 13,\n",
       " 15,\n",
       " 17,\n",
       " 19,\n",
       " 21,\n",
       " 23,\n",
       " 25,\n",
       " 27,\n",
       " 29,\n",
       " 31,\n",
       " 33,\n",
       " 35,\n",
       " 37,\n",
       " 39,\n",
       " 41,\n",
       " 43,\n",
       " 45,\n",
       " 47,\n",
       " 49,\n",
       " 51,\n",
       " 53,\n",
       " 55,\n",
       " 57,\n",
       " 59,\n",
       " 61,\n",
       " 63,\n",
       " 65,\n",
       " 67,\n",
       " 69,\n",
       " 71,\n",
       " 73,\n",
       " 75,\n",
       " 77,\n",
       " 79,\n",
       " 81,\n",
       " 83,\n",
       " 85,\n",
       " 87,\n",
       " 89,\n",
       " 91,\n",
       " 93,\n",
       " 95,\n",
       " 97}"
      ]
     },
     "execution_count": 8,
     "metadata": {},
     "output_type": "execute_result"
    }
   ],
   "source": [
    "{i for i in range(99) if i%2==1}"
   ]
  },
  {
   "cell_type": "markdown",
   "metadata": {},
   "source": [
    "Zip\n",
    "Another collection that can be iterated over is a zip. A zip is constructed from other\n",
    "collections all of the same length. Each element of the zip is a tuple consisting of one\n",
    "element from each of the input collections."
   ]
  },
  {
   "cell_type": "code",
   "execution_count": 9,
   "metadata": {},
   "outputs": [
    {
     "data": {
      "text/plain": [
       "[(1, 2), (3, 4), (5, 6)]"
      ]
     },
     "execution_count": 9,
     "metadata": {},
     "output_type": "execute_result"
    }
   ],
   "source": [
    "list(zip([1,3,5],[2,4,6]))"
   ]
  },
  {
   "cell_type": "code",
   "execution_count": 10,
   "metadata": {},
   "outputs": [],
   "source": [
    "characters = ['Neo', 'Morpheus', 'Trinity']\n",
    "actors = ['Keanu', 'Laurence', 'Carrie-Anne']"
   ]
  },
  {
   "cell_type": "code",
   "execution_count": 11,
   "metadata": {},
   "outputs": [
    {
     "data": {
      "text/plain": [
       "{('Morpheus', 'Laurence'), ('Neo', 'Keanu'), ('Trinity', 'Carrie-Anne')}"
      ]
     },
     "execution_count": 11,
     "metadata": {},
     "output_type": "execute_result"
    }
   ],
   "source": [
    "set(zip(characters, actors))"
   ]
  },
  {
   "cell_type": "code",
   "execution_count": 12,
   "metadata": {},
   "outputs": [
    {
     "data": {
      "text/plain": [
       "['Neo is played by Keanu',\n",
       " 'Morpheus is played by Laurence',\n",
       " 'Trinity is played by Carrie-Anne']"
      ]
     },
     "execution_count": 12,
     "metadata": {},
     "output_type": "execute_result"
    }
   ],
   "source": [
    "[character+' is played by '+actor for (character,actor) in zip(characters,actors)]"
   ]
  },
  {
   "cell_type": "markdown",
   "metadata": {},
   "source": [
    "Task 0.5.19: Assign to L the list consisting of the first five letters ['A','B','C','D','E'].\n",
    "Next, use L in an expression whose value is\n",
    "[(0, ’A’), (1, ’B’), (2, ’C’), (3, ’D’), (4, ’E’)]\n",
    "Your expression should use a range and a zip, but should not use a comprehension."
   ]
  },
  {
   "cell_type": "code",
   "execution_count": 16,
   "metadata": {},
   "outputs": [
    {
     "data": {
      "text/plain": [
       "[(0, 'A'), (1, 'B'), (2, 'C'), (3, 'D'), (4, 'E')]"
      ]
     },
     "execution_count": 16,
     "metadata": {},
     "output_type": "execute_result"
    }
   ],
   "source": [
    "L = ['A','B','C','D','E']\n",
    "L = zip(range(5), L)\n",
    "list(L)"
   ]
  },
  {
   "cell_type": "markdown",
   "metadata": {},
   "source": [
    "Task 0.5.20: Starting from the lists [10, 25, 40] and [1, 15, 20], write a comprehension\n",
    "whose value is the three-element list in which the first element is the sum of 10\n",
    "and 1, the second is the sum of 25 and 15, and the third is the sum of 40 and 20. Your\n",
    "expression should use zip but not list."
   ]
  },
  {
   "cell_type": "code",
   "execution_count": 27,
   "metadata": {},
   "outputs": [
    {
     "data": {
      "text/plain": [
       "[11, 40, 60]"
      ]
     },
     "execution_count": 27,
     "metadata": {},
     "output_type": "execute_result"
    }
   ],
   "source": [
    "[x+y for (x,y) in zip([10, 25, 40], [1, 15, 20])]"
   ]
  },
  {
   "cell_type": "code",
   "execution_count": 28,
   "metadata": {},
   "outputs": [
    {
     "data": {
      "text/plain": [
       "[100, 25, 16]"
      ]
     },
     "execution_count": 28,
     "metadata": {},
     "output_type": "execute_result"
    }
   ],
   "source": [
    "[x*x for x in reversed([4, 5, 10])]"
   ]
  },
  {
   "cell_type": "markdown",
   "metadata": {},
   "source": [
    "Dictionaries"
   ]
  },
  {
   "cell_type": "code",
   "execution_count": 29,
   "metadata": {},
   "outputs": [
    {
     "data": {
      "text/plain": [
       "{0: 'nothing'}"
      ]
     },
     "execution_count": 29,
     "metadata": {},
     "output_type": "execute_result"
    }
   ],
   "source": [
    "{0:'zero', 0:'nothing'}"
   ]
  },
  {
   "cell_type": "code",
   "execution_count": 30,
   "metadata": {},
   "outputs": [
    {
     "data": {
      "text/plain": [
       "'four'"
      ]
     },
     "execution_count": 30,
     "metadata": {},
     "output_type": "execute_result"
    }
   ],
   "source": [
    "{4:\"four\", 3:'three'}[4]"
   ]
  },
  {
   "cell_type": "code",
   "execution_count": 31,
   "metadata": {},
   "outputs": [],
   "source": [
    "mydict = {'Neo':'Keanu', 'Morpheus':'Laurence',\n",
    "'Trinity':'Carrie-Anne'}"
   ]
  },
  {
   "cell_type": "code",
   "execution_count": 32,
   "metadata": {},
   "outputs": [
    {
     "data": {
      "text/plain": [
       "'Keanu'"
      ]
     },
     "execution_count": 32,
     "metadata": {},
     "output_type": "execute_result"
    }
   ],
   "source": [
    "mydict['Neo']"
   ]
  },
  {
   "cell_type": "code",
   "execution_count": 33,
   "metadata": {},
   "outputs": [
    {
     "ename": "KeyError",
     "evalue": "'Oracle'",
     "output_type": "error",
     "traceback": [
      "\u001b[1;31m---------------------------------------------------------------------------\u001b[0m",
      "\u001b[1;31mKeyError\u001b[0m                                  Traceback (most recent call last)",
      "\u001b[1;32m<ipython-input-33-7d2bce76b26b>\u001b[0m in \u001b[0;36m<module>\u001b[1;34m\u001b[0m\n\u001b[1;32m----> 1\u001b[1;33m \u001b[0mmydict\u001b[0m\u001b[1;33m[\u001b[0m\u001b[1;34m'Oracle'\u001b[0m\u001b[1;33m]\u001b[0m\u001b[1;33m\u001b[0m\u001b[0m\n\u001b[0m",
      "\u001b[1;31mKeyError\u001b[0m: 'Oracle'"
     ]
    }
   ],
   "source": [
    "mydict['Oracle']"
   ]
  },
  {
   "cell_type": "code",
   "execution_count": 34,
   "metadata": {},
   "outputs": [
    {
     "data": {
      "text/plain": [
       "False"
      ]
     },
     "execution_count": 34,
     "metadata": {},
     "output_type": "execute_result"
    }
   ],
   "source": [
    "'Oracle' in mydict"
   ]
  },
  {
   "cell_type": "code",
   "execution_count": 35,
   "metadata": {},
   "outputs": [
    {
     "data": {
      "text/plain": [
       "'NOT PRESENT'"
      ]
     },
     "execution_count": 35,
     "metadata": {},
     "output_type": "execute_result"
    }
   ],
   "source": [
    "mydict['Oracle'] if 'Oracle' in mydict else 'NOT PRESENT'"
   ]
  },
  {
   "cell_type": "code",
   "execution_count": null,
   "metadata": {},
   "outputs": [],
   "source": []
  },
  {
   "cell_type": "markdown",
   "metadata": {},
   "source": [
    "Task 0.5.21: Suppose dlist is a list of dictionaries and k is a key that appears in all the\n",
    "dictionaries in dlist. Write a comprehension that evaluates to the list whose ith element\n",
    "is the value corresponding to key k in the ith dictionary in dlist.\n",
    "Test your comprehension with some data. Here are some example data.\n",
    "dlist = [{'James':'Sean', 'director':'Terence'}, {'James':'Roger',\n",
    "'director':'Lewis'}, {'James':'Pierce', 'director':'Roger'}]\n",
    "k = 'James'"
   ]
  },
  {
   "cell_type": "code",
   "execution_count": 1,
   "metadata": {},
   "outputs": [],
   "source": [
    "dlist = [{'James':'Sean', 'director':'Terence'}, {'James':'Roger',\n",
    "'director':'Lewis'}, {'James':'Pierce', 'director':'Roger'}]\n",
    "k = 'James'"
   ]
  },
  {
   "cell_type": "code",
   "execution_count": 5,
   "metadata": {},
   "outputs": [
    {
     "data": {
      "text/plain": [
       "['Sean', 'Roger', 'Pierce']"
      ]
     },
     "execution_count": 5,
     "metadata": {},
     "output_type": "execute_result"
    }
   ],
   "source": [
    "[mydict[k] if k in mydict else 'NOT PRESENT' for mydict in dlist]"
   ]
  },
  {
   "cell_type": "code",
   "execution_count": 4,
   "metadata": {},
   "outputs": [
    {
     "data": {
      "text/plain": [
       "[{'James': 'Sean', 'director': 'Terence'},\n",
       " {'James': 'Roger', 'director': 'Lewis'},\n",
       " {'James': 'Pierce', 'director': 'Roger'}]"
      ]
     },
     "execution_count": 4,
     "metadata": {},
     "output_type": "execute_result"
    }
   ],
   "source": [
    "[mydict for mydict in dlist]"
   ]
  },
  {
   "cell_type": "code",
   "execution_count": 6,
   "metadata": {},
   "outputs": [],
   "source": [
    "dlist = [{'Bilbo':'Ian','Frodo':'Elijah'},\n",
    "{'Bilbo':'Martin','Thorin':'Richard'}]"
   ]
  },
  {
   "cell_type": "code",
   "execution_count": 8,
   "metadata": {},
   "outputs": [],
   "source": [
    "k = 'Bilbo' "
   ]
  },
  {
   "cell_type": "code",
   "execution_count": 9,
   "metadata": {},
   "outputs": [
    {
     "data": {
      "text/plain": [
       "['Ian', 'Martin']"
      ]
     },
     "execution_count": 9,
     "metadata": {},
     "output_type": "execute_result"
    }
   ],
   "source": [
    "[mydict[k] if k in mydict else 'NOT PRESENT' for mydict in dlist]"
   ]
  },
  {
   "cell_type": "code",
   "execution_count": 10,
   "metadata": {},
   "outputs": [],
   "source": [
    "k = 'Frodo'"
   ]
  },
  {
   "cell_type": "code",
   "execution_count": 11,
   "metadata": {},
   "outputs": [
    {
     "data": {
      "text/plain": [
       "['Elijah', 'NOT PRESENT']"
      ]
     },
     "execution_count": 11,
     "metadata": {},
     "output_type": "execute_result"
    }
   ],
   "source": [
    "[mydict[k] if k in mydict else 'NOT PRESENT' for mydict in dlist]"
   ]
  },
  {
   "cell_type": "markdown",
   "metadata": {},
   "source": [
    "You can construct a dictionary using a comprehension."
   ]
  },
  {
   "cell_type": "code",
   "execution_count": 12,
   "metadata": {},
   "outputs": [
    {
     "data": {
      "text/plain": [
       "{3: 2, 4: 0, 100: 1}"
      ]
     },
     "execution_count": 12,
     "metadata": {},
     "output_type": "execute_result"
    }
   ],
   "source": [
    "{ k:v for (k,v) in [(3,2),(4,0),(100,1)] }"
   ]
  },
  {
   "cell_type": "code",
   "execution_count": 13,
   "metadata": {},
   "outputs": [
    {
     "data": {
      "text/plain": [
       "{(1, 1): 1,\n",
       " (1, 2): 2,\n",
       " (1, 3): 3,\n",
       " (2, 1): 2,\n",
       " (2, 2): 4,\n",
       " (2, 3): 6,\n",
       " (3, 1): 3,\n",
       " (3, 2): 6,\n",
       " (3, 3): 9}"
      ]
     },
     "execution_count": 13,
     "metadata": {},
     "output_type": "execute_result"
    }
   ],
   "source": [
    "{ (x,y):x*y for x in [1,2,3] for y in [1,2,3] }"
   ]
  },
  {
   "cell_type": "markdown",
   "metadata": {},
   "source": [
    "Task 0.5.23: Using range, write a comprehension whose value is a dictionary. The keys\n",
    "should be the integers from 0 to 99 and the value corresponding to a key should be the\n",
    "square of the key.\n",
    "The identity function on a set D is the function with the following spec:\n",
    "• input: an element x of D\n",
    "• output: x"
   ]
  },
  {
   "cell_type": "code",
   "execution_count": 3,
   "metadata": {},
   "outputs": [],
   "source": [
    "mydict = { x:x*x for x in range(0, 100) }"
   ]
  },
  {
   "cell_type": "code",
   "execution_count": 5,
   "metadata": {},
   "outputs": [
    {
     "data": {
      "text/plain": [
       "9801"
      ]
     },
     "execution_count": 5,
     "metadata": {},
     "output_type": "execute_result"
    }
   ],
   "source": [
    "mydict[99]"
   ]
  },
  {
   "cell_type": "code",
   "execution_count": 6,
   "metadata": {},
   "outputs": [
    {
     "data": {
      "text/plain": [
       "25"
      ]
     },
     "execution_count": 6,
     "metadata": {},
     "output_type": "execute_result"
    }
   ],
   "source": [
    "mydict[5]"
   ]
  },
  {
   "cell_type": "markdown",
   "metadata": {},
   "source": [
    "Task 0.5.24: Assign some set to the variable D, e.g. D ={'red','white','blue'}.\n",
    "Now write a comprehension that evaluates to a dictionary that represents the identity function\n",
    "on D."
   ]
  },
  {
   "cell_type": "code",
   "execution_count": 7,
   "metadata": {},
   "outputs": [],
   "source": [
    " D ={'red','white','blue'}"
   ]
  },
  {
   "cell_type": "markdown",
   "metadata": {},
   "source": [
    "\n",
    "Task 0.5.25: Using the variables base=10 and digits=set(range(base)), write a dictionary\n",
    "comprehension that maps each integer between zero and nine hundred ninety nine\n",
    "to the list of three digits that represents that integer in base 10. That is, the value should be\n",
    "{0: [0, 0, 0], 1: [0, 0, 1], 2: [0, 0, 2], 3: [0, 0, 3], ...,\n",
    "10: [0, 1, 0], 11: [0, 1, 1], 12: [0, 1, 2], ...,\n",
    "999: [9, 9, 9]}\n",
    "Your expression should work for any base. For example, if you instead assign 2 to base and\n",
    "assign {0,1} to digits, the value should be\n",
    "{0: [0, 0, 0], 1: [0, 0, 1], 2: [0, 1, 0], 3: [0, 1, 1],\n",
    "..., 7: [1, 1, 1]}"
   ]
  },
  {
   "cell_type": "code",
   "execution_count": 32,
   "metadata": {},
   "outputs": [
    {
     "data": {
      "text/plain": [
       "{0: [0, 0, 0],\n",
       " 1: [0, 0, 1],\n",
       " 2: [0, 0, 2],\n",
       " 3: [0, 0, 3],\n",
       " 4: [0, 0, 4],\n",
       " 5: [0, 0, 5],\n",
       " 6: [0, 0, 6],\n",
       " 7: [0, 0, 7],\n",
       " 8: [0, 0, 8],\n",
       " 9: [0, 0, 9],\n",
       " 10: [0, 1, 0],\n",
       " 11: [0, 1, 1],\n",
       " 12: [0, 1, 2],\n",
       " 13: [0, 1, 3],\n",
       " 14: [0, 1, 4],\n",
       " 15: [0, 1, 5],\n",
       " 16: [0, 1, 6],\n",
       " 17: [0, 1, 7],\n",
       " 18: [0, 1, 8],\n",
       " 19: [0, 1, 9],\n",
       " 20: [0, 2, 0],\n",
       " 21: [0, 2, 1],\n",
       " 22: [0, 2, 2],\n",
       " 23: [0, 2, 3],\n",
       " 24: [0, 2, 4],\n",
       " 25: [0, 2, 5],\n",
       " 26: [0, 2, 6],\n",
       " 27: [0, 2, 7],\n",
       " 28: [0, 2, 8],\n",
       " 29: [0, 2, 9],\n",
       " 30: [0, 3, 0],\n",
       " 31: [0, 3, 1],\n",
       " 32: [0, 3, 2],\n",
       " 33: [0, 3, 3],\n",
       " 34: [0, 3, 4],\n",
       " 35: [0, 3, 5],\n",
       " 36: [0, 3, 6],\n",
       " 37: [0, 3, 7],\n",
       " 38: [0, 3, 8],\n",
       " 39: [0, 3, 9],\n",
       " 40: [0, 4, 0],\n",
       " 41: [0, 4, 1],\n",
       " 42: [0, 4, 2],\n",
       " 43: [0, 4, 3],\n",
       " 44: [0, 4, 4],\n",
       " 45: [0, 4, 5],\n",
       " 46: [0, 4, 6],\n",
       " 47: [0, 4, 7],\n",
       " 48: [0, 4, 8],\n",
       " 49: [0, 4, 9],\n",
       " 50: [0, 5, 0],\n",
       " 51: [0, 5, 1],\n",
       " 52: [0, 5, 2],\n",
       " 53: [0, 5, 3],\n",
       " 54: [0, 5, 4],\n",
       " 55: [0, 5, 5],\n",
       " 56: [0, 5, 6],\n",
       " 57: [0, 5, 7],\n",
       " 58: [0, 5, 8],\n",
       " 59: [0, 5, 9],\n",
       " 60: [0, 6, 0],\n",
       " 61: [0, 6, 1],\n",
       " 62: [0, 6, 2],\n",
       " 63: [0, 6, 3],\n",
       " 64: [0, 6, 4],\n",
       " 65: [0, 6, 5],\n",
       " 66: [0, 6, 6],\n",
       " 67: [0, 6, 7],\n",
       " 68: [0, 6, 8],\n",
       " 69: [0, 6, 9],\n",
       " 70: [0, 7, 0],\n",
       " 71: [0, 7, 1],\n",
       " 72: [0, 7, 2],\n",
       " 73: [0, 7, 3],\n",
       " 74: [0, 7, 4],\n",
       " 75: [0, 7, 5],\n",
       " 76: [0, 7, 6],\n",
       " 77: [0, 7, 7],\n",
       " 78: [0, 7, 8],\n",
       " 79: [0, 7, 9],\n",
       " 80: [0, 8, 0],\n",
       " 81: [0, 8, 1],\n",
       " 82: [0, 8, 2],\n",
       " 83: [0, 8, 3],\n",
       " 84: [0, 8, 4],\n",
       " 85: [0, 8, 5],\n",
       " 86: [0, 8, 6],\n",
       " 87: [0, 8, 7],\n",
       " 88: [0, 8, 8],\n",
       " 89: [0, 8, 9],\n",
       " 90: [0, 9, 0],\n",
       " 91: [0, 9, 1],\n",
       " 92: [0, 9, 2],\n",
       " 93: [0, 9, 3],\n",
       " 94: [0, 9, 4],\n",
       " 95: [0, 9, 5],\n",
       " 96: [0, 9, 6],\n",
       " 97: [0, 9, 7],\n",
       " 98: [0, 9, 8],\n",
       " 99: [0, 9, 9],\n",
       " 100: [1, 0, 0],\n",
       " 101: [1, 0, 1],\n",
       " 102: [1, 0, 2],\n",
       " 103: [1, 0, 3],\n",
       " 104: [1, 0, 4],\n",
       " 105: [1, 0, 5],\n",
       " 106: [1, 0, 6],\n",
       " 107: [1, 0, 7],\n",
       " 108: [1, 0, 8],\n",
       " 109: [1, 0, 9],\n",
       " 110: [1, 1, 0],\n",
       " 111: [1, 1, 1],\n",
       " 112: [1, 1, 2],\n",
       " 113: [1, 1, 3],\n",
       " 114: [1, 1, 4],\n",
       " 115: [1, 1, 5],\n",
       " 116: [1, 1, 6],\n",
       " 117: [1, 1, 7],\n",
       " 118: [1, 1, 8],\n",
       " 119: [1, 1, 9],\n",
       " 120: [1, 2, 0],\n",
       " 121: [1, 2, 1],\n",
       " 122: [1, 2, 2],\n",
       " 123: [1, 2, 3],\n",
       " 124: [1, 2, 4],\n",
       " 125: [1, 2, 5],\n",
       " 126: [1, 2, 6],\n",
       " 127: [1, 2, 7],\n",
       " 128: [1, 2, 8],\n",
       " 129: [1, 2, 9],\n",
       " 130: [1, 3, 0],\n",
       " 131: [1, 3, 1],\n",
       " 132: [1, 3, 2],\n",
       " 133: [1, 3, 3],\n",
       " 134: [1, 3, 4],\n",
       " 135: [1, 3, 5],\n",
       " 136: [1, 3, 6],\n",
       " 137: [1, 3, 7],\n",
       " 138: [1, 3, 8],\n",
       " 139: [1, 3, 9],\n",
       " 140: [1, 4, 0],\n",
       " 141: [1, 4, 1],\n",
       " 142: [1, 4, 2],\n",
       " 143: [1, 4, 3],\n",
       " 144: [1, 4, 4],\n",
       " 145: [1, 4, 5],\n",
       " 146: [1, 4, 6],\n",
       " 147: [1, 4, 7],\n",
       " 148: [1, 4, 8],\n",
       " 149: [1, 4, 9],\n",
       " 150: [1, 5, 0],\n",
       " 151: [1, 5, 1],\n",
       " 152: [1, 5, 2],\n",
       " 153: [1, 5, 3],\n",
       " 154: [1, 5, 4],\n",
       " 155: [1, 5, 5],\n",
       " 156: [1, 5, 6],\n",
       " 157: [1, 5, 7],\n",
       " 158: [1, 5, 8],\n",
       " 159: [1, 5, 9],\n",
       " 160: [1, 6, 0],\n",
       " 161: [1, 6, 1],\n",
       " 162: [1, 6, 2],\n",
       " 163: [1, 6, 3],\n",
       " 164: [1, 6, 4],\n",
       " 165: [1, 6, 5],\n",
       " 166: [1, 6, 6],\n",
       " 167: [1, 6, 7],\n",
       " 168: [1, 6, 8],\n",
       " 169: [1, 6, 9],\n",
       " 170: [1, 7, 0],\n",
       " 171: [1, 7, 1],\n",
       " 172: [1, 7, 2],\n",
       " 173: [1, 7, 3],\n",
       " 174: [1, 7, 4],\n",
       " 175: [1, 7, 5],\n",
       " 176: [1, 7, 6],\n",
       " 177: [1, 7, 7],\n",
       " 178: [1, 7, 8],\n",
       " 179: [1, 7, 9],\n",
       " 180: [1, 8, 0],\n",
       " 181: [1, 8, 1],\n",
       " 182: [1, 8, 2],\n",
       " 183: [1, 8, 3],\n",
       " 184: [1, 8, 4],\n",
       " 185: [1, 8, 5],\n",
       " 186: [1, 8, 6],\n",
       " 187: [1, 8, 7],\n",
       " 188: [1, 8, 8],\n",
       " 189: [1, 8, 9],\n",
       " 190: [1, 9, 0],\n",
       " 191: [1, 9, 1],\n",
       " 192: [1, 9, 2],\n",
       " 193: [1, 9, 3],\n",
       " 194: [1, 9, 4],\n",
       " 195: [1, 9, 5],\n",
       " 196: [1, 9, 6],\n",
       " 197: [1, 9, 7],\n",
       " 198: [1, 9, 8],\n",
       " 199: [1, 9, 9],\n",
       " 200: [2, 0, 0],\n",
       " 201: [2, 0, 1],\n",
       " 202: [2, 0, 2],\n",
       " 203: [2, 0, 3],\n",
       " 204: [2, 0, 4],\n",
       " 205: [2, 0, 5],\n",
       " 206: [2, 0, 6],\n",
       " 207: [2, 0, 7],\n",
       " 208: [2, 0, 8],\n",
       " 209: [2, 0, 9],\n",
       " 210: [2, 1, 0],\n",
       " 211: [2, 1, 1],\n",
       " 212: [2, 1, 2],\n",
       " 213: [2, 1, 3],\n",
       " 214: [2, 1, 4],\n",
       " 215: [2, 1, 5],\n",
       " 216: [2, 1, 6],\n",
       " 217: [2, 1, 7],\n",
       " 218: [2, 1, 8],\n",
       " 219: [2, 1, 9],\n",
       " 220: [2, 2, 0],\n",
       " 221: [2, 2, 1],\n",
       " 222: [2, 2, 2],\n",
       " 223: [2, 2, 3],\n",
       " 224: [2, 2, 4],\n",
       " 225: [2, 2, 5],\n",
       " 226: [2, 2, 6],\n",
       " 227: [2, 2, 7],\n",
       " 228: [2, 2, 8],\n",
       " 229: [2, 2, 9],\n",
       " 230: [2, 3, 0],\n",
       " 231: [2, 3, 1],\n",
       " 232: [2, 3, 2],\n",
       " 233: [2, 3, 3],\n",
       " 234: [2, 3, 4],\n",
       " 235: [2, 3, 5],\n",
       " 236: [2, 3, 6],\n",
       " 237: [2, 3, 7],\n",
       " 238: [2, 3, 8],\n",
       " 239: [2, 3, 9],\n",
       " 240: [2, 4, 0],\n",
       " 241: [2, 4, 1],\n",
       " 242: [2, 4, 2],\n",
       " 243: [2, 4, 3],\n",
       " 244: [2, 4, 4],\n",
       " 245: [2, 4, 5],\n",
       " 246: [2, 4, 6],\n",
       " 247: [2, 4, 7],\n",
       " 248: [2, 4, 8],\n",
       " 249: [2, 4, 9],\n",
       " 250: [2, 5, 0],\n",
       " 251: [2, 5, 1],\n",
       " 252: [2, 5, 2],\n",
       " 253: [2, 5, 3],\n",
       " 254: [2, 5, 4],\n",
       " 255: [2, 5, 5],\n",
       " 256: [2, 5, 6],\n",
       " 257: [2, 5, 7],\n",
       " 258: [2, 5, 8],\n",
       " 259: [2, 5, 9],\n",
       " 260: [2, 6, 0],\n",
       " 261: [2, 6, 1],\n",
       " 262: [2, 6, 2],\n",
       " 263: [2, 6, 3],\n",
       " 264: [2, 6, 4],\n",
       " 265: [2, 6, 5],\n",
       " 266: [2, 6, 6],\n",
       " 267: [2, 6, 7],\n",
       " 268: [2, 6, 8],\n",
       " 269: [2, 6, 9],\n",
       " 270: [2, 7, 0],\n",
       " 271: [2, 7, 1],\n",
       " 272: [2, 7, 2],\n",
       " 273: [2, 7, 3],\n",
       " 274: [2, 7, 4],\n",
       " 275: [2, 7, 5],\n",
       " 276: [2, 7, 6],\n",
       " 277: [2, 7, 7],\n",
       " 278: [2, 7, 8],\n",
       " 279: [2, 7, 9],\n",
       " 280: [2, 8, 0],\n",
       " 281: [2, 8, 1],\n",
       " 282: [2, 8, 2],\n",
       " 283: [2, 8, 3],\n",
       " 284: [2, 8, 4],\n",
       " 285: [2, 8, 5],\n",
       " 286: [2, 8, 6],\n",
       " 287: [2, 8, 7],\n",
       " 288: [2, 8, 8],\n",
       " 289: [2, 8, 9],\n",
       " 290: [2, 9, 0],\n",
       " 291: [2, 9, 1],\n",
       " 292: [2, 9, 2],\n",
       " 293: [2, 9, 3],\n",
       " 294: [2, 9, 4],\n",
       " 295: [2, 9, 5],\n",
       " 296: [2, 9, 6],\n",
       " 297: [2, 9, 7],\n",
       " 298: [2, 9, 8],\n",
       " 299: [2, 9, 9],\n",
       " 300: [3, 0, 0],\n",
       " 301: [3, 0, 1],\n",
       " 302: [3, 0, 2],\n",
       " 303: [3, 0, 3],\n",
       " 304: [3, 0, 4],\n",
       " 305: [3, 0, 5],\n",
       " 306: [3, 0, 6],\n",
       " 307: [3, 0, 7],\n",
       " 308: [3, 0, 8],\n",
       " 309: [3, 0, 9],\n",
       " 310: [3, 1, 0],\n",
       " 311: [3, 1, 1],\n",
       " 312: [3, 1, 2],\n",
       " 313: [3, 1, 3],\n",
       " 314: [3, 1, 4],\n",
       " 315: [3, 1, 5],\n",
       " 316: [3, 1, 6],\n",
       " 317: [3, 1, 7],\n",
       " 318: [3, 1, 8],\n",
       " 319: [3, 1, 9],\n",
       " 320: [3, 2, 0],\n",
       " 321: [3, 2, 1],\n",
       " 322: [3, 2, 2],\n",
       " 323: [3, 2, 3],\n",
       " 324: [3, 2, 4],\n",
       " 325: [3, 2, 5],\n",
       " 326: [3, 2, 6],\n",
       " 327: [3, 2, 7],\n",
       " 328: [3, 2, 8],\n",
       " 329: [3, 2, 9],\n",
       " 330: [3, 3, 0],\n",
       " 331: [3, 3, 1],\n",
       " 332: [3, 3, 2],\n",
       " 333: [3, 3, 3],\n",
       " 334: [3, 3, 4],\n",
       " 335: [3, 3, 5],\n",
       " 336: [3, 3, 6],\n",
       " 337: [3, 3, 7],\n",
       " 338: [3, 3, 8],\n",
       " 339: [3, 3, 9],\n",
       " 340: [3, 4, 0],\n",
       " 341: [3, 4, 1],\n",
       " 342: [3, 4, 2],\n",
       " 343: [3, 4, 3],\n",
       " 344: [3, 4, 4],\n",
       " 345: [3, 4, 5],\n",
       " 346: [3, 4, 6],\n",
       " 347: [3, 4, 7],\n",
       " 348: [3, 4, 8],\n",
       " 349: [3, 4, 9],\n",
       " 350: [3, 5, 0],\n",
       " 351: [3, 5, 1],\n",
       " 352: [3, 5, 2],\n",
       " 353: [3, 5, 3],\n",
       " 354: [3, 5, 4],\n",
       " 355: [3, 5, 5],\n",
       " 356: [3, 5, 6],\n",
       " 357: [3, 5, 7],\n",
       " 358: [3, 5, 8],\n",
       " 359: [3, 5, 9],\n",
       " 360: [3, 6, 0],\n",
       " 361: [3, 6, 1],\n",
       " 362: [3, 6, 2],\n",
       " 363: [3, 6, 3],\n",
       " 364: [3, 6, 4],\n",
       " 365: [3, 6, 5],\n",
       " 366: [3, 6, 6],\n",
       " 367: [3, 6, 7],\n",
       " 368: [3, 6, 8],\n",
       " 369: [3, 6, 9],\n",
       " 370: [3, 7, 0],\n",
       " 371: [3, 7, 1],\n",
       " 372: [3, 7, 2],\n",
       " 373: [3, 7, 3],\n",
       " 374: [3, 7, 4],\n",
       " 375: [3, 7, 5],\n",
       " 376: [3, 7, 6],\n",
       " 377: [3, 7, 7],\n",
       " 378: [3, 7, 8],\n",
       " 379: [3, 7, 9],\n",
       " 380: [3, 8, 0],\n",
       " 381: [3, 8, 1],\n",
       " 382: [3, 8, 2],\n",
       " 383: [3, 8, 3],\n",
       " 384: [3, 8, 4],\n",
       " 385: [3, 8, 5],\n",
       " 386: [3, 8, 6],\n",
       " 387: [3, 8, 7],\n",
       " 388: [3, 8, 8],\n",
       " 389: [3, 8, 9],\n",
       " 390: [3, 9, 0],\n",
       " 391: [3, 9, 1],\n",
       " 392: [3, 9, 2],\n",
       " 393: [3, 9, 3],\n",
       " 394: [3, 9, 4],\n",
       " 395: [3, 9, 5],\n",
       " 396: [3, 9, 6],\n",
       " 397: [3, 9, 7],\n",
       " 398: [3, 9, 8],\n",
       " 399: [3, 9, 9],\n",
       " 400: [4, 0, 0],\n",
       " 401: [4, 0, 1],\n",
       " 402: [4, 0, 2],\n",
       " 403: [4, 0, 3],\n",
       " 404: [4, 0, 4],\n",
       " 405: [4, 0, 5],\n",
       " 406: [4, 0, 6],\n",
       " 407: [4, 0, 7],\n",
       " 408: [4, 0, 8],\n",
       " 409: [4, 0, 9],\n",
       " 410: [4, 1, 0],\n",
       " 411: [4, 1, 1],\n",
       " 412: [4, 1, 2],\n",
       " 413: [4, 1, 3],\n",
       " 414: [4, 1, 4],\n",
       " 415: [4, 1, 5],\n",
       " 416: [4, 1, 6],\n",
       " 417: [4, 1, 7],\n",
       " 418: [4, 1, 8],\n",
       " 419: [4, 1, 9],\n",
       " 420: [4, 2, 0],\n",
       " 421: [4, 2, 1],\n",
       " 422: [4, 2, 2],\n",
       " 423: [4, 2, 3],\n",
       " 424: [4, 2, 4],\n",
       " 425: [4, 2, 5],\n",
       " 426: [4, 2, 6],\n",
       " 427: [4, 2, 7],\n",
       " 428: [4, 2, 8],\n",
       " 429: [4, 2, 9],\n",
       " 430: [4, 3, 0],\n",
       " 431: [4, 3, 1],\n",
       " 432: [4, 3, 2],\n",
       " 433: [4, 3, 3],\n",
       " 434: [4, 3, 4],\n",
       " 435: [4, 3, 5],\n",
       " 436: [4, 3, 6],\n",
       " 437: [4, 3, 7],\n",
       " 438: [4, 3, 8],\n",
       " 439: [4, 3, 9],\n",
       " 440: [4, 4, 0],\n",
       " 441: [4, 4, 1],\n",
       " 442: [4, 4, 2],\n",
       " 443: [4, 4, 3],\n",
       " 444: [4, 4, 4],\n",
       " 445: [4, 4, 5],\n",
       " 446: [4, 4, 6],\n",
       " 447: [4, 4, 7],\n",
       " 448: [4, 4, 8],\n",
       " 449: [4, 4, 9],\n",
       " 450: [4, 5, 0],\n",
       " 451: [4, 5, 1],\n",
       " 452: [4, 5, 2],\n",
       " 453: [4, 5, 3],\n",
       " 454: [4, 5, 4],\n",
       " 455: [4, 5, 5],\n",
       " 456: [4, 5, 6],\n",
       " 457: [4, 5, 7],\n",
       " 458: [4, 5, 8],\n",
       " 459: [4, 5, 9],\n",
       " 460: [4, 6, 0],\n",
       " 461: [4, 6, 1],\n",
       " 462: [4, 6, 2],\n",
       " 463: [4, 6, 3],\n",
       " 464: [4, 6, 4],\n",
       " 465: [4, 6, 5],\n",
       " 466: [4, 6, 6],\n",
       " 467: [4, 6, 7],\n",
       " 468: [4, 6, 8],\n",
       " 469: [4, 6, 9],\n",
       " 470: [4, 7, 0],\n",
       " 471: [4, 7, 1],\n",
       " 472: [4, 7, 2],\n",
       " 473: [4, 7, 3],\n",
       " 474: [4, 7, 4],\n",
       " 475: [4, 7, 5],\n",
       " 476: [4, 7, 6],\n",
       " 477: [4, 7, 7],\n",
       " 478: [4, 7, 8],\n",
       " 479: [4, 7, 9],\n",
       " 480: [4, 8, 0],\n",
       " 481: [4, 8, 1],\n",
       " 482: [4, 8, 2],\n",
       " 483: [4, 8, 3],\n",
       " 484: [4, 8, 4],\n",
       " 485: [4, 8, 5],\n",
       " 486: [4, 8, 6],\n",
       " 487: [4, 8, 7],\n",
       " 488: [4, 8, 8],\n",
       " 489: [4, 8, 9],\n",
       " 490: [4, 9, 0],\n",
       " 491: [4, 9, 1],\n",
       " 492: [4, 9, 2],\n",
       " 493: [4, 9, 3],\n",
       " 494: [4, 9, 4],\n",
       " 495: [4, 9, 5],\n",
       " 496: [4, 9, 6],\n",
       " 497: [4, 9, 7],\n",
       " 498: [4, 9, 8],\n",
       " 499: [4, 9, 9],\n",
       " 500: [5, 0, 0],\n",
       " 501: [5, 0, 1],\n",
       " 502: [5, 0, 2],\n",
       " 503: [5, 0, 3],\n",
       " 504: [5, 0, 4],\n",
       " 505: [5, 0, 5],\n",
       " 506: [5, 0, 6],\n",
       " 507: [5, 0, 7],\n",
       " 508: [5, 0, 8],\n",
       " 509: [5, 0, 9],\n",
       " 510: [5, 1, 0],\n",
       " 511: [5, 1, 1],\n",
       " 512: [5, 1, 2],\n",
       " 513: [5, 1, 3],\n",
       " 514: [5, 1, 4],\n",
       " 515: [5, 1, 5],\n",
       " 516: [5, 1, 6],\n",
       " 517: [5, 1, 7],\n",
       " 518: [5, 1, 8],\n",
       " 519: [5, 1, 9],\n",
       " 520: [5, 2, 0],\n",
       " 521: [5, 2, 1],\n",
       " 522: [5, 2, 2],\n",
       " 523: [5, 2, 3],\n",
       " 524: [5, 2, 4],\n",
       " 525: [5, 2, 5],\n",
       " 526: [5, 2, 6],\n",
       " 527: [5, 2, 7],\n",
       " 528: [5, 2, 8],\n",
       " 529: [5, 2, 9],\n",
       " 530: [5, 3, 0],\n",
       " 531: [5, 3, 1],\n",
       " 532: [5, 3, 2],\n",
       " 533: [5, 3, 3],\n",
       " 534: [5, 3, 4],\n",
       " 535: [5, 3, 5],\n",
       " 536: [5, 3, 6],\n",
       " 537: [5, 3, 7],\n",
       " 538: [5, 3, 8],\n",
       " 539: [5, 3, 9],\n",
       " 540: [5, 4, 0],\n",
       " 541: [5, 4, 1],\n",
       " 542: [5, 4, 2],\n",
       " 543: [5, 4, 3],\n",
       " 544: [5, 4, 4],\n",
       " 545: [5, 4, 5],\n",
       " 546: [5, 4, 6],\n",
       " 547: [5, 4, 7],\n",
       " 548: [5, 4, 8],\n",
       " 549: [5, 4, 9],\n",
       " 550: [5, 5, 0],\n",
       " 551: [5, 5, 1],\n",
       " 552: [5, 5, 2],\n",
       " 553: [5, 5, 3],\n",
       " 554: [5, 5, 4],\n",
       " 555: [5, 5, 5],\n",
       " 556: [5, 5, 6],\n",
       " 557: [5, 5, 7],\n",
       " 558: [5, 5, 8],\n",
       " 559: [5, 5, 9],\n",
       " 560: [5, 6, 0],\n",
       " 561: [5, 6, 1],\n",
       " 562: [5, 6, 2],\n",
       " 563: [5, 6, 3],\n",
       " 564: [5, 6, 4],\n",
       " 565: [5, 6, 5],\n",
       " 566: [5, 6, 6],\n",
       " 567: [5, 6, 7],\n",
       " 568: [5, 6, 8],\n",
       " 569: [5, 6, 9],\n",
       " 570: [5, 7, 0],\n",
       " 571: [5, 7, 1],\n",
       " 572: [5, 7, 2],\n",
       " 573: [5, 7, 3],\n",
       " 574: [5, 7, 4],\n",
       " 575: [5, 7, 5],\n",
       " 576: [5, 7, 6],\n",
       " 577: [5, 7, 7],\n",
       " 578: [5, 7, 8],\n",
       " 579: [5, 7, 9],\n",
       " 580: [5, 8, 0],\n",
       " 581: [5, 8, 1],\n",
       " 582: [5, 8, 2],\n",
       " 583: [5, 8, 3],\n",
       " 584: [5, 8, 4],\n",
       " 585: [5, 8, 5],\n",
       " 586: [5, 8, 6],\n",
       " 587: [5, 8, 7],\n",
       " 588: [5, 8, 8],\n",
       " 589: [5, 8, 9],\n",
       " 590: [5, 9, 0],\n",
       " 591: [5, 9, 1],\n",
       " 592: [5, 9, 2],\n",
       " 593: [5, 9, 3],\n",
       " 594: [5, 9, 4],\n",
       " 595: [5, 9, 5],\n",
       " 596: [5, 9, 6],\n",
       " 597: [5, 9, 7],\n",
       " 598: [5, 9, 8],\n",
       " 599: [5, 9, 9],\n",
       " 600: [6, 0, 0],\n",
       " 601: [6, 0, 1],\n",
       " 602: [6, 0, 2],\n",
       " 603: [6, 0, 3],\n",
       " 604: [6, 0, 4],\n",
       " 605: [6, 0, 5],\n",
       " 606: [6, 0, 6],\n",
       " 607: [6, 0, 7],\n",
       " 608: [6, 0, 8],\n",
       " 609: [6, 0, 9],\n",
       " 610: [6, 1, 0],\n",
       " 611: [6, 1, 1],\n",
       " 612: [6, 1, 2],\n",
       " 613: [6, 1, 3],\n",
       " 614: [6, 1, 4],\n",
       " 615: [6, 1, 5],\n",
       " 616: [6, 1, 6],\n",
       " 617: [6, 1, 7],\n",
       " 618: [6, 1, 8],\n",
       " 619: [6, 1, 9],\n",
       " 620: [6, 2, 0],\n",
       " 621: [6, 2, 1],\n",
       " 622: [6, 2, 2],\n",
       " 623: [6, 2, 3],\n",
       " 624: [6, 2, 4],\n",
       " 625: [6, 2, 5],\n",
       " 626: [6, 2, 6],\n",
       " 627: [6, 2, 7],\n",
       " 628: [6, 2, 8],\n",
       " 629: [6, 2, 9],\n",
       " 630: [6, 3, 0],\n",
       " 631: [6, 3, 1],\n",
       " 632: [6, 3, 2],\n",
       " 633: [6, 3, 3],\n",
       " 634: [6, 3, 4],\n",
       " 635: [6, 3, 5],\n",
       " 636: [6, 3, 6],\n",
       " 637: [6, 3, 7],\n",
       " 638: [6, 3, 8],\n",
       " 639: [6, 3, 9],\n",
       " 640: [6, 4, 0],\n",
       " 641: [6, 4, 1],\n",
       " 642: [6, 4, 2],\n",
       " 643: [6, 4, 3],\n",
       " 644: [6, 4, 4],\n",
       " 645: [6, 4, 5],\n",
       " 646: [6, 4, 6],\n",
       " 647: [6, 4, 7],\n",
       " 648: [6, 4, 8],\n",
       " 649: [6, 4, 9],\n",
       " 650: [6, 5, 0],\n",
       " 651: [6, 5, 1],\n",
       " 652: [6, 5, 2],\n",
       " 653: [6, 5, 3],\n",
       " 654: [6, 5, 4],\n",
       " 655: [6, 5, 5],\n",
       " 656: [6, 5, 6],\n",
       " 657: [6, 5, 7],\n",
       " 658: [6, 5, 8],\n",
       " 659: [6, 5, 9],\n",
       " 660: [6, 6, 0],\n",
       " 661: [6, 6, 1],\n",
       " 662: [6, 6, 2],\n",
       " 663: [6, 6, 3],\n",
       " 664: [6, 6, 4],\n",
       " 665: [6, 6, 5],\n",
       " 666: [6, 6, 6],\n",
       " 667: [6, 6, 7],\n",
       " 668: [6, 6, 8],\n",
       " 669: [6, 6, 9],\n",
       " 670: [6, 7, 0],\n",
       " 671: [6, 7, 1],\n",
       " 672: [6, 7, 2],\n",
       " 673: [6, 7, 3],\n",
       " 674: [6, 7, 4],\n",
       " 675: [6, 7, 5],\n",
       " 676: [6, 7, 6],\n",
       " 677: [6, 7, 7],\n",
       " 678: [6, 7, 8],\n",
       " 679: [6, 7, 9],\n",
       " 680: [6, 8, 0],\n",
       " 681: [6, 8, 1],\n",
       " 682: [6, 8, 2],\n",
       " 683: [6, 8, 3],\n",
       " 684: [6, 8, 4],\n",
       " 685: [6, 8, 5],\n",
       " 686: [6, 8, 6],\n",
       " 687: [6, 8, 7],\n",
       " 688: [6, 8, 8],\n",
       " 689: [6, 8, 9],\n",
       " 690: [6, 9, 0],\n",
       " 691: [6, 9, 1],\n",
       " 692: [6, 9, 2],\n",
       " 693: [6, 9, 3],\n",
       " 694: [6, 9, 4],\n",
       " 695: [6, 9, 5],\n",
       " 696: [6, 9, 6],\n",
       " 697: [6, 9, 7],\n",
       " 698: [6, 9, 8],\n",
       " 699: [6, 9, 9],\n",
       " 700: [7, 0, 0],\n",
       " 701: [7, 0, 1],\n",
       " 702: [7, 0, 2],\n",
       " 703: [7, 0, 3],\n",
       " 704: [7, 0, 4],\n",
       " 705: [7, 0, 5],\n",
       " 706: [7, 0, 6],\n",
       " 707: [7, 0, 7],\n",
       " 708: [7, 0, 8],\n",
       " 709: [7, 0, 9],\n",
       " 710: [7, 1, 0],\n",
       " 711: [7, 1, 1],\n",
       " 712: [7, 1, 2],\n",
       " 713: [7, 1, 3],\n",
       " 714: [7, 1, 4],\n",
       " 715: [7, 1, 5],\n",
       " 716: [7, 1, 6],\n",
       " 717: [7, 1, 7],\n",
       " 718: [7, 1, 8],\n",
       " 719: [7, 1, 9],\n",
       " 720: [7, 2, 0],\n",
       " 721: [7, 2, 1],\n",
       " 722: [7, 2, 2],\n",
       " 723: [7, 2, 3],\n",
       " 724: [7, 2, 4],\n",
       " 725: [7, 2, 5],\n",
       " 726: [7, 2, 6],\n",
       " 727: [7, 2, 7],\n",
       " 728: [7, 2, 8],\n",
       " 729: [7, 2, 9],\n",
       " 730: [7, 3, 0],\n",
       " 731: [7, 3, 1],\n",
       " 732: [7, 3, 2],\n",
       " 733: [7, 3, 3],\n",
       " 734: [7, 3, 4],\n",
       " 735: [7, 3, 5],\n",
       " 736: [7, 3, 6],\n",
       " 737: [7, 3, 7],\n",
       " 738: [7, 3, 8],\n",
       " 739: [7, 3, 9],\n",
       " 740: [7, 4, 0],\n",
       " 741: [7, 4, 1],\n",
       " 742: [7, 4, 2],\n",
       " 743: [7, 4, 3],\n",
       " 744: [7, 4, 4],\n",
       " 745: [7, 4, 5],\n",
       " 746: [7, 4, 6],\n",
       " 747: [7, 4, 7],\n",
       " 748: [7, 4, 8],\n",
       " 749: [7, 4, 9],\n",
       " 750: [7, 5, 0],\n",
       " 751: [7, 5, 1],\n",
       " 752: [7, 5, 2],\n",
       " 753: [7, 5, 3],\n",
       " 754: [7, 5, 4],\n",
       " 755: [7, 5, 5],\n",
       " 756: [7, 5, 6],\n",
       " 757: [7, 5, 7],\n",
       " 758: [7, 5, 8],\n",
       " 759: [7, 5, 9],\n",
       " 760: [7, 6, 0],\n",
       " 761: [7, 6, 1],\n",
       " 762: [7, 6, 2],\n",
       " 763: [7, 6, 3],\n",
       " 764: [7, 6, 4],\n",
       " 765: [7, 6, 5],\n",
       " 766: [7, 6, 6],\n",
       " 767: [7, 6, 7],\n",
       " 768: [7, 6, 8],\n",
       " 769: [7, 6, 9],\n",
       " 770: [7, 7, 0],\n",
       " 771: [7, 7, 1],\n",
       " 772: [7, 7, 2],\n",
       " 773: [7, 7, 3],\n",
       " 774: [7, 7, 4],\n",
       " 775: [7, 7, 5],\n",
       " 776: [7, 7, 6],\n",
       " 777: [7, 7, 7],\n",
       " 778: [7, 7, 8],\n",
       " 779: [7, 7, 9],\n",
       " 780: [7, 8, 0],\n",
       " 781: [7, 8, 1],\n",
       " 782: [7, 8, 2],\n",
       " 783: [7, 8, 3],\n",
       " 784: [7, 8, 4],\n",
       " 785: [7, 8, 5],\n",
       " 786: [7, 8, 6],\n",
       " 787: [7, 8, 7],\n",
       " 788: [7, 8, 8],\n",
       " 789: [7, 8, 9],\n",
       " 790: [7, 9, 0],\n",
       " 791: [7, 9, 1],\n",
       " 792: [7, 9, 2],\n",
       " 793: [7, 9, 3],\n",
       " 794: [7, 9, 4],\n",
       " 795: [7, 9, 5],\n",
       " 796: [7, 9, 6],\n",
       " 797: [7, 9, 7],\n",
       " 798: [7, 9, 8],\n",
       " 799: [7, 9, 9],\n",
       " 800: [8, 0, 0],\n",
       " 801: [8, 0, 1],\n",
       " 802: [8, 0, 2],\n",
       " 803: [8, 0, 3],\n",
       " 804: [8, 0, 4],\n",
       " 805: [8, 0, 5],\n",
       " 806: [8, 0, 6],\n",
       " 807: [8, 0, 7],\n",
       " 808: [8, 0, 8],\n",
       " 809: [8, 0, 9],\n",
       " 810: [8, 1, 0],\n",
       " 811: [8, 1, 1],\n",
       " 812: [8, 1, 2],\n",
       " 813: [8, 1, 3],\n",
       " 814: [8, 1, 4],\n",
       " 815: [8, 1, 5],\n",
       " 816: [8, 1, 6],\n",
       " 817: [8, 1, 7],\n",
       " 818: [8, 1, 8],\n",
       " 819: [8, 1, 9],\n",
       " 820: [8, 2, 0],\n",
       " 821: [8, 2, 1],\n",
       " 822: [8, 2, 2],\n",
       " 823: [8, 2, 3],\n",
       " 824: [8, 2, 4],\n",
       " 825: [8, 2, 5],\n",
       " 826: [8, 2, 6],\n",
       " 827: [8, 2, 7],\n",
       " 828: [8, 2, 8],\n",
       " 829: [8, 2, 9],\n",
       " 830: [8, 3, 0],\n",
       " 831: [8, 3, 1],\n",
       " 832: [8, 3, 2],\n",
       " 833: [8, 3, 3],\n",
       " 834: [8, 3, 4],\n",
       " 835: [8, 3, 5],\n",
       " 836: [8, 3, 6],\n",
       " 837: [8, 3, 7],\n",
       " 838: [8, 3, 8],\n",
       " 839: [8, 3, 9],\n",
       " 840: [8, 4, 0],\n",
       " 841: [8, 4, 1],\n",
       " 842: [8, 4, 2],\n",
       " 843: [8, 4, 3],\n",
       " 844: [8, 4, 4],\n",
       " 845: [8, 4, 5],\n",
       " 846: [8, 4, 6],\n",
       " 847: [8, 4, 7],\n",
       " 848: [8, 4, 8],\n",
       " 849: [8, 4, 9],\n",
       " 850: [8, 5, 0],\n",
       " 851: [8, 5, 1],\n",
       " 852: [8, 5, 2],\n",
       " 853: [8, 5, 3],\n",
       " 854: [8, 5, 4],\n",
       " 855: [8, 5, 5],\n",
       " 856: [8, 5, 6],\n",
       " 857: [8, 5, 7],\n",
       " 858: [8, 5, 8],\n",
       " 859: [8, 5, 9],\n",
       " 860: [8, 6, 0],\n",
       " 861: [8, 6, 1],\n",
       " 862: [8, 6, 2],\n",
       " 863: [8, 6, 3],\n",
       " 864: [8, 6, 4],\n",
       " 865: [8, 6, 5],\n",
       " 866: [8, 6, 6],\n",
       " 867: [8, 6, 7],\n",
       " 868: [8, 6, 8],\n",
       " 869: [8, 6, 9],\n",
       " 870: [8, 7, 0],\n",
       " 871: [8, 7, 1],\n",
       " 872: [8, 7, 2],\n",
       " 873: [8, 7, 3],\n",
       " 874: [8, 7, 4],\n",
       " 875: [8, 7, 5],\n",
       " 876: [8, 7, 6],\n",
       " 877: [8, 7, 7],\n",
       " 878: [8, 7, 8],\n",
       " 879: [8, 7, 9],\n",
       " 880: [8, 8, 0],\n",
       " 881: [8, 8, 1],\n",
       " 882: [8, 8, 2],\n",
       " 883: [8, 8, 3],\n",
       " 884: [8, 8, 4],\n",
       " 885: [8, 8, 5],\n",
       " 886: [8, 8, 6],\n",
       " 887: [8, 8, 7],\n",
       " 888: [8, 8, 8],\n",
       " 889: [8, 8, 9],\n",
       " 890: [8, 9, 0],\n",
       " 891: [8, 9, 1],\n",
       " 892: [8, 9, 2],\n",
       " 893: [8, 9, 3],\n",
       " 894: [8, 9, 4],\n",
       " 895: [8, 9, 5],\n",
       " 896: [8, 9, 6],\n",
       " 897: [8, 9, 7],\n",
       " 898: [8, 9, 8],\n",
       " 899: [8, 9, 9],\n",
       " 900: [9, 0, 0],\n",
       " 901: [9, 0, 1],\n",
       " 902: [9, 0, 2],\n",
       " 903: [9, 0, 3],\n",
       " 904: [9, 0, 4],\n",
       " 905: [9, 0, 5],\n",
       " 906: [9, 0, 6],\n",
       " 907: [9, 0, 7],\n",
       " 908: [9, 0, 8],\n",
       " 909: [9, 0, 9],\n",
       " 910: [9, 1, 0],\n",
       " 911: [9, 1, 1],\n",
       " 912: [9, 1, 2],\n",
       " 913: [9, 1, 3],\n",
       " 914: [9, 1, 4],\n",
       " 915: [9, 1, 5],\n",
       " 916: [9, 1, 6],\n",
       " 917: [9, 1, 7],\n",
       " 918: [9, 1, 8],\n",
       " 919: [9, 1, 9],\n",
       " 920: [9, 2, 0],\n",
       " 921: [9, 2, 1],\n",
       " 922: [9, 2, 2],\n",
       " 923: [9, 2, 3],\n",
       " 924: [9, 2, 4],\n",
       " 925: [9, 2, 5],\n",
       " 926: [9, 2, 6],\n",
       " 927: [9, 2, 7],\n",
       " 928: [9, 2, 8],\n",
       " 929: [9, 2, 9],\n",
       " 930: [9, 3, 0],\n",
       " 931: [9, 3, 1],\n",
       " 932: [9, 3, 2],\n",
       " 933: [9, 3, 3],\n",
       " 934: [9, 3, 4],\n",
       " 935: [9, 3, 5],\n",
       " 936: [9, 3, 6],\n",
       " 937: [9, 3, 7],\n",
       " 938: [9, 3, 8],\n",
       " 939: [9, 3, 9],\n",
       " 940: [9, 4, 0],\n",
       " 941: [9, 4, 1],\n",
       " 942: [9, 4, 2],\n",
       " 943: [9, 4, 3],\n",
       " 944: [9, 4, 4],\n",
       " 945: [9, 4, 5],\n",
       " 946: [9, 4, 6],\n",
       " 947: [9, 4, 7],\n",
       " 948: [9, 4, 8],\n",
       " 949: [9, 4, 9],\n",
       " 950: [9, 5, 0],\n",
       " 951: [9, 5, 1],\n",
       " 952: [9, 5, 2],\n",
       " 953: [9, 5, 3],\n",
       " 954: [9, 5, 4],\n",
       " 955: [9, 5, 5],\n",
       " 956: [9, 5, 6],\n",
       " 957: [9, 5, 7],\n",
       " 958: [9, 5, 8],\n",
       " 959: [9, 5, 9],\n",
       " 960: [9, 6, 0],\n",
       " 961: [9, 6, 1],\n",
       " 962: [9, 6, 2],\n",
       " 963: [9, 6, 3],\n",
       " 964: [9, 6, 4],\n",
       " 965: [9, 6, 5],\n",
       " 966: [9, 6, 6],\n",
       " 967: [9, 6, 7],\n",
       " 968: [9, 6, 8],\n",
       " 969: [9, 6, 9],\n",
       " 970: [9, 7, 0],\n",
       " 971: [9, 7, 1],\n",
       " 972: [9, 7, 2],\n",
       " 973: [9, 7, 3],\n",
       " 974: [9, 7, 4],\n",
       " 975: [9, 7, 5],\n",
       " 976: [9, 7, 6],\n",
       " 977: [9, 7, 7],\n",
       " 978: [9, 7, 8],\n",
       " 979: [9, 7, 9],\n",
       " 980: [9, 8, 0],\n",
       " 981: [9, 8, 1],\n",
       " 982: [9, 8, 2],\n",
       " 983: [9, 8, 3],\n",
       " 984: [9, 8, 4],\n",
       " 985: [9, 8, 5],\n",
       " 986: [9, 8, 6],\n",
       " 987: [9, 8, 7],\n",
       " 988: [9, 8, 8],\n",
       " 989: [9, 8, 9],\n",
       " 990: [9, 9, 0],\n",
       " 991: [9, 9, 1],\n",
       " 992: [9, 9, 2],\n",
       " 993: [9, 9, 3],\n",
       " 994: [9, 9, 4],\n",
       " 995: [9, 9, 5],\n",
       " 996: [9, 9, 6],\n",
       " 997: [9, 9, 7],\n",
       " 998: [9, 9, 8],\n",
       " 999: [9, 9, 9]}"
      ]
     },
     "execution_count": 32,
     "metadata": {},
     "output_type": "execute_result"
    }
   ],
   "source": [
    "base=10\n",
    "digits=set(range(base))\n",
    "def func(x, base):\n",
    "    a= x % base\n",
    "    b= x//base % base\n",
    "    c= x//(base*base) % base\n",
    "    return [c, b, a]\n",
    "    \n",
    "{ x:func(x, 10) for x in range(0, 1000)}"
   ]
  }
 ],
 "metadata": {
  "kernelspec": {
   "display_name": "Python [conda env:tensorflow]",
   "language": "python",
   "name": "conda-env-tensorflow-py"
  },
  "language_info": {
   "codemirror_mode": {
    "name": "ipython",
    "version": 3
   },
   "file_extension": ".py",
   "mimetype": "text/x-python",
   "name": "python",
   "nbconvert_exporter": "python",
   "pygments_lexer": "ipython3",
   "version": "3.6.6"
  }
 },
 "nbformat": 4,
 "nbformat_minor": 4
}
