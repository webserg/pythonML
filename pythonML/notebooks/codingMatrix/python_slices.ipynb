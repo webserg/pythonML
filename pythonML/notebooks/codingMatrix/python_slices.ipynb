{
 "cells": [
  {
   "cell_type": "markdown",
   "metadata": {},
   "source": [
    "Slices: A slice of a list is a new list consisting of a consecutive subsequence of elements\n",
    "of the old list, namely those indexed by a range of integers. The range is specified by a\n",
    "colon-separated pair i : j consisting of the index i as the first element and j as one past the\n",
    "index of the last element. Thus mylist[1:3] is the list consisting of elements 1 and 2 of\n",
    "mylist.\n",
    "Prefixes: If the first element i of the pair is 0, it can be omitted, so mylist[:2] consists\n",
    "of the first 2 elements of mylist. This notation is useful for obtaining a prefix of a list.\n",
    "Suffixes: If the second element j of the pair is the length of the list, it can be omitted, so\n",
    "mylist[1:] consists of all elements of mylist except element 0."
   ]
  },
  {
   "cell_type": "code",
   "execution_count": 1,
   "metadata": {
    "collapsed": true,
    "jupyter": {
     "outputs_hidden": true
    }
   },
   "outputs": [],
   "source": [
    "L = [0,10,20,30,40,50,60,70,80,90]"
   ]
  },
  {
   "cell_type": "code",
   "execution_count": 2,
   "metadata": {
    "collapsed": true,
    "jupyter": {
     "outputs_hidden": true
    }
   },
   "outputs": [
    {
     "data": {
      "text/plain": [
       "[0, 10, 20, 30, 40]"
      ]
     },
     "execution_count": 2,
     "metadata": {},
     "output_type": "execute_result"
    }
   ],
   "source": [
    "L[:5]"
   ]
  },
  {
   "cell_type": "code",
   "execution_count": 3,
   "metadata": {
    "collapsed": true,
    "jupyter": {
     "outputs_hidden": true
    }
   },
   "outputs": [
    {
     "data": {
      "text/plain": [
       "[50, 60, 70, 80, 90]"
      ]
     },
     "execution_count": 3,
     "metadata": {},
     "output_type": "execute_result"
    }
   ],
   "source": [
    "L[5:]"
   ]
  },
  {
   "cell_type": "markdown",
   "metadata": {},
   "source": [
    "Slices that skip You can use a colon-separated triple a:b:c if you want the slice to include\n",
    "every cth element. For example, here is how you can extract from L the list consisting of\n",
    "even-indexed elements and the list consisting of odd-indexed elements:"
   ]
  },
  {
   "cell_type": "code",
   "execution_count": 4,
   "metadata": {
    "collapsed": true,
    "jupyter": {
     "outputs_hidden": true
    }
   },
   "outputs": [
    {
     "data": {
      "text/plain": [
       "[0, 20, 40, 60, 80]"
      ]
     },
     "execution_count": 4,
     "metadata": {},
     "output_type": "execute_result"
    }
   ],
   "source": [
    "L[::2]"
   ]
  },
  {
   "cell_type": "markdown",
   "metadata": {},
   "source": [
    "Obtaining elements of a list by unpacking"
   ]
  },
  {
   "cell_type": "code",
   "execution_count": 5,
   "metadata": {
    "collapsed": true,
    "jupyter": {
     "outputs_hidden": true
    }
   },
   "outputs": [],
   "source": [
    "[x,y,z] = [4*1, 4*2, 4*3]"
   ]
  },
  {
   "cell_type": "code",
   "execution_count": 6,
   "metadata": {
    "collapsed": true,
    "jupyter": {
     "outputs_hidden": true
    }
   },
   "outputs": [
    {
     "data": {
      "text/plain": [
       "[1, 4, 9]"
      ]
     },
     "execution_count": 6,
     "metadata": {},
     "output_type": "execute_result"
    }
   ],
   "source": [
    "listoflists = [[1,1],[2,4],[3, 9]]\n",
    "[y for [x,y] in listoflists]"
   ]
  },
  {
   "cell_type": "markdown",
   "metadata": {},
   "source": [
    "0.5.6 Tuples\n",
    "Like a list, a tuple is an ordered sequence of elements. However, tuples are immutable so\n",
    "they can be elements of sets. The notation for tuples is the same as that for lists except\n",
    "that ordinary parentheses are used instead of square brackets."
   ]
  },
  {
   "cell_type": "code",
   "execution_count": 7,
   "metadata": {
    "collapsed": true,
    "jupyter": {
     "outputs_hidden": true
    }
   },
   "outputs": [
    {
     "data": {
      "text/plain": [
       "(1, 2, 3)"
      ]
     },
     "execution_count": 7,
     "metadata": {},
     "output_type": "execute_result"
    }
   ],
   "source": [
    "(1,1+1,3)"
   ]
  },
  {
   "cell_type": "code",
   "execution_count": 8,
   "metadata": {
    "collapsed": true,
    "jupyter": {
     "outputs_hidden": true
    }
   },
   "outputs": [
    {
     "data": {
      "text/plain": [
       "{(1, 2), (3, 4, 5), 0}"
      ]
     },
     "execution_count": 8,
     "metadata": {},
     "output_type": "execute_result"
    }
   ],
   "source": [
    "{0, (1,2)} | {(3,4,5)}"
   ]
  },
  {
   "cell_type": "code",
   "execution_count": 9,
   "metadata": {
    "collapsed": true,
    "jupyter": {
     "outputs_hidden": true
    }
   },
   "outputs": [
    {
     "data": {
      "text/plain": [
       "['A', 'B', 'C']"
      ]
     },
     "execution_count": 9,
     "metadata": {},
     "output_type": "execute_result"
    }
   ],
   "source": [
    "[y for (x,y) in [(1,'A'),(2,'B'),(3,'C')] ]"
   ]
  },
  {
   "cell_type": "markdown",
   "metadata": {},
   "source": [
    "Task 0.5.14: Suppose S is a set of integers, e.g. {−4,−2, 1, 2, 5, 0}. Write a triple\n",
    "comprehension whose value is a list of all three-element tuples (i, j, k) such that i, j, k are\n",
    "elements of S whose sum is zero."
   ]
  },
  {
   "cell_type": "code",
   "execution_count": 11,
   "metadata": {
    "collapsed": true,
    "jupyter": {
     "outputs_hidden": true
    }
   },
   "outputs": [],
   "source": [
    "S = {-4,-2, 1, 2, 5, 0}"
   ]
  },
  {
   "cell_type": "code",
   "execution_count": 12,
   "metadata": {
    "collapsed": true,
    "jupyter": {
     "outputs_hidden": true
    }
   },
   "outputs": [],
   "source": [
    "a= (1,5-3)"
   ]
  },
  {
   "cell_type": "code",
   "execution_count": 13,
   "metadata": {
    "collapsed": true,
    "jupyter": {
     "outputs_hidden": true
    }
   },
   "outputs": [
    {
     "data": {
      "text/plain": [
       "3"
      ]
     },
     "execution_count": 13,
     "metadata": {},
     "output_type": "execute_result"
    }
   ],
   "source": [
    "sum(a)"
   ]
  },
  {
   "cell_type": "code",
   "execution_count": 19,
   "metadata": {
    "collapsed": true,
    "jupyter": {
     "outputs_hidden": true
    }
   },
   "outputs": [
    {
     "data": {
      "text/plain": [
       "[(0, 0, 0),\n",
       " (0, 2, -2),\n",
       " (0, -2, 2),\n",
       " (1, 1, -2),\n",
       " (1, -2, 1),\n",
       " (2, 0, -2),\n",
       " (2, 2, -4),\n",
       " (2, -4, 2),\n",
       " (2, -2, 0),\n",
       " (-4, 2, 2),\n",
       " (-2, 0, 2),\n",
       " (-2, 1, 1),\n",
       " (-2, 2, 0)]"
      ]
     },
     "execution_count": 19,
     "metadata": {},
     "output_type": "execute_result"
    }
   ],
   "source": [
    "[(i, j, k) for i in S for j in S for k in S if sum((i, j, k)) == 0 ]"
   ]
  },
  {
   "cell_type": "markdown",
   "metadata": {},
   "source": [
    "Task 0.5.15: Modify the comprehension of the previous task so that the resulting list does\n",
    "not include (0, 0, 0). Hint: add a filter."
   ]
  },
  {
   "cell_type": "code",
   "execution_count": 21,
   "metadata": {
    "collapsed": true,
    "jupyter": {
     "outputs_hidden": true
    }
   },
   "outputs": [
    {
     "data": {
      "text/plain": [
       "[(0, 2, -2),\n",
       " (0, -2, 2),\n",
       " (1, 1, -2),\n",
       " (1, -2, 1),\n",
       " (2, 0, -2),\n",
       " (2, 2, -4),\n",
       " (2, -4, 2),\n",
       " (2, -2, 0),\n",
       " (-4, 2, 2),\n",
       " (-2, 0, 2),\n",
       " (-2, 1, 1),\n",
       " (-2, 2, 0)]"
      ]
     },
     "execution_count": 21,
     "metadata": {},
     "output_type": "execute_result"
    }
   ],
   "source": [
    "[(i, j, k) for i in S for j in S for k in S if sum((i, j, k)) == 0 and (i, j, k) != (0,0,0)]"
   ]
  },
  {
   "cell_type": "markdown",
   "metadata": {},
   "source": [
    "Task 0.5.16: Further modify the expression so that its value is not the list of all such\n",
    "tuples but is the first such tuple."
   ]
  },
  {
   "cell_type": "code",
   "execution_count": 22,
   "metadata": {
    "collapsed": true,
    "jupyter": {
     "outputs_hidden": true
    }
   },
   "outputs": [
    {
     "data": {
      "text/plain": [
       "{(-4, 2, 2),\n",
       " (-2, 0, 2),\n",
       " (-2, 1, 1),\n",
       " (-2, 2, 0),\n",
       " (0, -2, 2),\n",
       " (0, 2, -2),\n",
       " (1, -2, 1),\n",
       " (1, 1, -2),\n",
       " (2, -4, 2),\n",
       " (2, -2, 0),\n",
       " (2, 0, -2),\n",
       " (2, 2, -4)}"
      ]
     },
     "execution_count": 22,
     "metadata": {},
     "output_type": "execute_result"
    }
   ],
   "source": [
    "{(i, j, k) for i in S for j in S for k in S if sum((i, j, k)) == 0 and (i, j, k) != (0,0,0)}"
   ]
  },
  {
   "cell_type": "markdown",
   "metadata": {},
   "source": [
    "Obtaining a list or set from another collection\n",
    "Python can compute a set from another collection (e.g. a list) using the constructor set(·).\n",
    "Similarly, the constructor list(·) computes a list, and the constructor tuple(·) computes\n",
    "a tuple"
   ]
  },
  {
   "cell_type": "code",
   "execution_count": 1,
   "metadata": {
    "collapsed": true,
    "jupyter": {
     "outputs_hidden": true
    }
   },
   "outputs": [
    {
     "data": {
      "text/plain": [
       "{0, 1, 2, 3, 4, 5, 6, 7, 8, 9}"
      ]
     },
     "execution_count": 1,
     "metadata": {},
     "output_type": "execute_result"
    }
   ],
   "source": [
    "set([0,1,2,3,4,5,6,7,8,9])"
   ]
  },
  {
   "cell_type": "code",
   "execution_count": 2,
   "metadata": {
    "collapsed": true,
    "jupyter": {
     "outputs_hidden": true
    }
   },
   "outputs": [
    {
     "data": {
      "text/plain": [
       "{1, 2, 3}"
      ]
     },
     "execution_count": 2,
     "metadata": {},
     "output_type": "execute_result"
    }
   ],
   "source": [
    "set([1,2,3])"
   ]
  },
  {
   "cell_type": "code",
   "execution_count": 3,
   "metadata": {
    "collapsed": true,
    "jupyter": {
     "outputs_hidden": true
    }
   },
   "outputs": [
    {
     "data": {
      "text/plain": [
       "[1, 2, 3]"
      ]
     },
     "execution_count": 3,
     "metadata": {},
     "output_type": "execute_result"
    }
   ],
   "source": [
    "list({1,2,3})"
   ]
  },
  {
   "cell_type": "code",
   "execution_count": 4,
   "metadata": {
    "collapsed": true,
    "jupyter": {
     "outputs_hidden": true
    }
   },
   "outputs": [
    {
     "data": {
      "text/plain": [
       "{1, 2, 3}"
      ]
     },
     "execution_count": 4,
     "metadata": {},
     "output_type": "execute_result"
    }
   ],
   "source": [
    "set((1,2,3))"
   ]
  },
  {
   "cell_type": "markdown",
   "metadata": {},
   "source": [
    "ranges"
   ]
  },
  {
   "cell_type": "code",
   "execution_count": 6,
   "metadata": {
    "collapsed": true,
    "jupyter": {
     "outputs_hidden": true
    }
   },
   "outputs": [
    {
     "data": {
      "text/plain": [
       "285"
      ]
     },
     "execution_count": 6,
     "metadata": {},
     "output_type": "execute_result"
    }
   ],
   "source": [
    "sum({i*i for i in range(10)})"
   ]
  },
  {
   "cell_type": "code",
   "execution_count": 7,
   "metadata": {
    "collapsed": true,
    "jupyter": {
     "outputs_hidden": true
    }
   },
   "outputs": [
    {
     "data": {
      "text/plain": [
       "[0, 1, 2, 3, 4, 5, 6, 7, 8, 9]"
      ]
     },
     "execution_count": 7,
     "metadata": {},
     "output_type": "execute_result"
    }
   ],
   "source": [
    "list(range(10))"
   ]
  },
  {
   "cell_type": "markdown",
   "metadata": {},
   "source": [
    "Task 0.5.18: Write a comprehension over a range of the form range(n) such that the\n",
    "value of the comprehension is the set of odd numbers from 1 to 99."
   ]
  },
  {
   "cell_type": "code",
   "execution_count": 8,
   "metadata": {
    "collapsed": true,
    "jupyter": {
     "outputs_hidden": true
    }
   },
   "outputs": [
    {
     "data": {
      "text/plain": [
       "{1,\n",
       " 3,\n",
       " 5,\n",
       " 7,\n",
       " 9,\n",
       " 11,\n",
       " 13,\n",
       " 15,\n",
       " 17,\n",
       " 19,\n",
       " 21,\n",
       " 23,\n",
       " 25,\n",
       " 27,\n",
       " 29,\n",
       " 31,\n",
       " 33,\n",
       " 35,\n",
       " 37,\n",
       " 39,\n",
       " 41,\n",
       " 43,\n",
       " 45,\n",
       " 47,\n",
       " 49,\n",
       " 51,\n",
       " 53,\n",
       " 55,\n",
       " 57,\n",
       " 59,\n",
       " 61,\n",
       " 63,\n",
       " 65,\n",
       " 67,\n",
       " 69,\n",
       " 71,\n",
       " 73,\n",
       " 75,\n",
       " 77,\n",
       " 79,\n",
       " 81,\n",
       " 83,\n",
       " 85,\n",
       " 87,\n",
       " 89,\n",
       " 91,\n",
       " 93,\n",
       " 95,\n",
       " 97}"
      ]
     },
     "execution_count": 8,
     "metadata": {},
     "output_type": "execute_result"
    }
   ],
   "source": [
    "{i for i in range(99) if i%2==1}"
   ]
  },
  {
   "cell_type": "markdown",
   "metadata": {},
   "source": [
    "Zip\n",
    "Another collection that can be iterated over is a zip. A zip is constructed from other\n",
    "collections all of the same length. Each element of the zip is a tuple consisting of one\n",
    "element from each of the input collections."
   ]
  },
  {
   "cell_type": "code",
   "execution_count": 9,
   "metadata": {
    "collapsed": true,
    "jupyter": {
     "outputs_hidden": true
    }
   },
   "outputs": [
    {
     "data": {
      "text/plain": [
       "[(1, 2), (3, 4), (5, 6)]"
      ]
     },
     "execution_count": 9,
     "metadata": {},
     "output_type": "execute_result"
    }
   ],
   "source": [
    "list(zip([1,3,5],[2,4,6]))"
   ]
  },
  {
   "cell_type": "code",
   "execution_count": 10,
   "metadata": {
    "collapsed": true,
    "jupyter": {
     "outputs_hidden": true
    }
   },
   "outputs": [],
   "source": [
    "characters = ['Neo', 'Morpheus', 'Trinity']\n",
    "actors = ['Keanu', 'Laurence', 'Carrie-Anne']"
   ]
  },
  {
   "cell_type": "code",
   "execution_count": 11,
   "metadata": {
    "collapsed": true,
    "jupyter": {
     "outputs_hidden": true
    }
   },
   "outputs": [
    {
     "data": {
      "text/plain": [
       "{('Morpheus', 'Laurence'), ('Neo', 'Keanu'), ('Trinity', 'Carrie-Anne')}"
      ]
     },
     "execution_count": 11,
     "metadata": {},
     "output_type": "execute_result"
    }
   ],
   "source": [
    "set(zip(characters, actors))"
   ]
  },
  {
   "cell_type": "code",
   "execution_count": 12,
   "metadata": {
    "collapsed": true,
    "jupyter": {
     "outputs_hidden": true
    }
   },
   "outputs": [
    {
     "data": {
      "text/plain": [
       "['Neo is played by Keanu',\n",
       " 'Morpheus is played by Laurence',\n",
       " 'Trinity is played by Carrie-Anne']"
      ]
     },
     "execution_count": 12,
     "metadata": {},
     "output_type": "execute_result"
    }
   ],
   "source": [
    "[character+' is played by '+actor for (character,actor) in zip(characters,actors)]"
   ]
  },
  {
   "cell_type": "markdown",
   "metadata": {},
   "source": [
    "Task 0.5.19: Assign to L the list consisting of the first five letters ['A','B','C','D','E'].\n",
    "Next, use L in an expression whose value is\n",
    "[(0, ’A’), (1, ’B’), (2, ’C’), (3, ’D’), (4, ’E’)]\n",
    "Your expression should use a range and a zip, but should not use a comprehension."
   ]
  },
  {
   "cell_type": "code",
   "execution_count": 16,
   "metadata": {
    "collapsed": true,
    "jupyter": {
     "outputs_hidden": true
    }
   },
   "outputs": [
    {
     "data": {
      "text/plain": [
       "[(0, 'A'), (1, 'B'), (2, 'C'), (3, 'D'), (4, 'E')]"
      ]
     },
     "execution_count": 16,
     "metadata": {},
     "output_type": "execute_result"
    }
   ],
   "source": [
    "L = ['A','B','C','D','E']\n",
    "L = zip(range(5), L)\n",
    "list(L)"
   ]
  },
  {
   "cell_type": "markdown",
   "metadata": {},
   "source": [
    "Task 0.5.20: Starting from the lists [10, 25, 40] and [1, 15, 20], write a comprehension\n",
    "whose value is the three-element list in which the first element is the sum of 10\n",
    "and 1, the second is the sum of 25 and 15, and the third is the sum of 40 and 20. Your\n",
    "expression should use zip but not list."
   ]
  },
  {
   "cell_type": "code",
   "execution_count": 27,
   "metadata": {
    "collapsed": true,
    "jupyter": {
     "outputs_hidden": true
    }
   },
   "outputs": [
    {
     "data": {
      "text/plain": [
       "[11, 40, 60]"
      ]
     },
     "execution_count": 27,
     "metadata": {},
     "output_type": "execute_result"
    }
   ],
   "source": [
    "[x+y for (x,y) in zip([10, 25, 40], [1, 15, 20])]"
   ]
  },
  {
   "cell_type": "code",
   "execution_count": 28,
   "metadata": {
    "collapsed": true,
    "jupyter": {
     "outputs_hidden": true
    }
   },
   "outputs": [
    {
     "data": {
      "text/plain": [
       "[100, 25, 16]"
      ]
     },
     "execution_count": 28,
     "metadata": {},
     "output_type": "execute_result"
    }
   ],
   "source": [
    "[x*x for x in reversed([4, 5, 10])]"
   ]
  },
  {
   "cell_type": "markdown",
   "metadata": {},
   "source": [
    "Dictionaries"
   ]
  },
  {
   "cell_type": "code",
   "execution_count": 29,
   "metadata": {
    "collapsed": true,
    "jupyter": {
     "outputs_hidden": true
    }
   },
   "outputs": [
    {
     "data": {
      "text/plain": [
       "{0: 'nothing'}"
      ]
     },
     "execution_count": 29,
     "metadata": {},
     "output_type": "execute_result"
    }
   ],
   "source": [
    "{0:'zero', 0:'nothing'}"
   ]
  },
  {
   "cell_type": "code",
   "execution_count": 30,
   "metadata": {
    "collapsed": true,
    "jupyter": {
     "outputs_hidden": true
    }
   },
   "outputs": [
    {
     "data": {
      "text/plain": [
       "'four'"
      ]
     },
     "execution_count": 30,
     "metadata": {},
     "output_type": "execute_result"
    }
   ],
   "source": [
    "{4:\"four\", 3:'three'}[4]"
   ]
  },
  {
   "cell_type": "code",
   "execution_count": 31,
   "metadata": {
    "collapsed": true,
    "jupyter": {
     "outputs_hidden": true
    }
   },
   "outputs": [],
   "source": [
    "mydict = {'Neo':'Keanu', 'Morpheus':'Laurence',\n",
    "'Trinity':'Carrie-Anne'}"
   ]
  },
  {
   "cell_type": "code",
   "execution_count": 32,
   "metadata": {
    "collapsed": true,
    "jupyter": {
     "outputs_hidden": true
    }
   },
   "outputs": [
    {
     "data": {
      "text/plain": [
       "'Keanu'"
      ]
     },
     "execution_count": 32,
     "metadata": {},
     "output_type": "execute_result"
    }
   ],
   "source": [
    "mydict['Neo']"
   ]
  },
  {
   "cell_type": "code",
   "execution_count": 33,
   "metadata": {
    "collapsed": true,
    "jupyter": {
     "outputs_hidden": true
    }
   },
   "outputs": [
    {
     "ename": "KeyError",
     "evalue": "'Oracle'",
     "output_type": "error",
     "traceback": [
      "\u001b[1;31m---------------------------------------------------------------------------\u001b[0m",
      "\u001b[1;31mKeyError\u001b[0m                                  Traceback (most recent call last)",
      "\u001b[1;32m<ipython-input-33-7d2bce76b26b>\u001b[0m in \u001b[0;36m<module>\u001b[1;34m\u001b[0m\n\u001b[1;32m----> 1\u001b[1;33m \u001b[0mmydict\u001b[0m\u001b[1;33m[\u001b[0m\u001b[1;34m'Oracle'\u001b[0m\u001b[1;33m]\u001b[0m\u001b[1;33m\u001b[0m\u001b[0m\n\u001b[0m",
      "\u001b[1;31mKeyError\u001b[0m: 'Oracle'"
     ]
    }
   ],
   "source": [
    "mydict['Oracle']"
   ]
  },
  {
   "cell_type": "code",
   "execution_count": 34,
   "metadata": {
    "collapsed": true,
    "jupyter": {
     "outputs_hidden": true
    }
   },
   "outputs": [
    {
     "data": {
      "text/plain": [
       "False"
      ]
     },
     "execution_count": 34,
     "metadata": {},
     "output_type": "execute_result"
    }
   ],
   "source": [
    "'Oracle' in mydict"
   ]
  },
  {
   "cell_type": "code",
   "execution_count": 35,
   "metadata": {
    "collapsed": true,
    "jupyter": {
     "outputs_hidden": true
    }
   },
   "outputs": [
    {
     "data": {
      "text/plain": [
       "'NOT PRESENT'"
      ]
     },
     "execution_count": 35,
     "metadata": {},
     "output_type": "execute_result"
    }
   ],
   "source": [
    "mydict['Oracle'] if 'Oracle' in mydict else 'NOT PRESENT'"
   ]
  },
  {
   "cell_type": "code",
   "execution_count": null,
   "metadata": {
    "collapsed": true,
    "jupyter": {
     "outputs_hidden": true
    }
   },
   "outputs": [],
   "source": []
  },
  {
   "cell_type": "markdown",
   "metadata": {},
   "source": [
    "Task 0.5.21: Suppose dlist is a list of dictionaries and k is a key that appears in all the\n",
    "dictionaries in dlist. Write a comprehension that evaluates to the list whose ith element\n",
    "is the value corresponding to key k in the ith dictionary in dlist.\n",
    "Test your comprehension with some data. Here are some example data.\n",
    "dlist = [{'James':'Sean', 'director':'Terence'}, {'James':'Roger',\n",
    "'director':'Lewis'}, {'James':'Pierce', 'director':'Roger'}]\n",
    "k = 'James'"
   ]
  },
  {
   "cell_type": "code",
   "execution_count": 1,
   "metadata": {
    "collapsed": true,
    "jupyter": {
     "outputs_hidden": true
    }
   },
   "outputs": [],
   "source": [
    "dlist = [{'James':'Sean', 'director':'Terence'}, {'James':'Roger',\n",
    "'director':'Lewis'}, {'James':'Pierce', 'director':'Roger'}]\n",
    "k = 'James'"
   ]
  },
  {
   "cell_type": "code",
   "execution_count": 5,
   "metadata": {
    "collapsed": true,
    "jupyter": {
     "outputs_hidden": true
    }
   },
   "outputs": [
    {
     "data": {
      "text/plain": [
       "['Sean', 'Roger', 'Pierce']"
      ]
     },
     "execution_count": 5,
     "metadata": {},
     "output_type": "execute_result"
    }
   ],
   "source": [
    "[mydict[k] if k in mydict else 'NOT PRESENT' for mydict in dlist]"
   ]
  },
  {
   "cell_type": "code",
   "execution_count": 4,
   "metadata": {
    "collapsed": true,
    "jupyter": {
     "outputs_hidden": true
    }
   },
   "outputs": [
    {
     "data": {
      "text/plain": [
       "[{'James': 'Sean', 'director': 'Terence'},\n",
       " {'James': 'Roger', 'director': 'Lewis'},\n",
       " {'James': 'Pierce', 'director': 'Roger'}]"
      ]
     },
     "execution_count": 4,
     "metadata": {},
     "output_type": "execute_result"
    }
   ],
   "source": [
    "[mydict for mydict in dlist]"
   ]
  },
  {
   "cell_type": "code",
   "execution_count": 6,
   "metadata": {
    "collapsed": true,
    "jupyter": {
     "outputs_hidden": true
    }
   },
   "outputs": [],
   "source": [
    "dlist = [{'Bilbo':'Ian','Frodo':'Elijah'},\n",
    "{'Bilbo':'Martin','Thorin':'Richard'}]"
   ]
  },
  {
   "cell_type": "code",
   "execution_count": 8,
   "metadata": {
    "collapsed": true,
    "jupyter": {
     "outputs_hidden": true
    }
   },
   "outputs": [],
   "source": [
    "k = 'Bilbo' "
   ]
  },
  {
   "cell_type": "code",
   "execution_count": 9,
   "metadata": {
    "collapsed": true,
    "jupyter": {
     "outputs_hidden": true
    }
   },
   "outputs": [
    {
     "data": {
      "text/plain": [
       "['Ian', 'Martin']"
      ]
     },
     "execution_count": 9,
     "metadata": {},
     "output_type": "execute_result"
    }
   ],
   "source": [
    "[mydict[k] if k in mydict else 'NOT PRESENT' for mydict in dlist]"
   ]
  },
  {
   "cell_type": "code",
   "execution_count": 10,
   "metadata": {
    "collapsed": true,
    "jupyter": {
     "outputs_hidden": true
    }
   },
   "outputs": [],
   "source": [
    "k = 'Frodo'"
   ]
  },
  {
   "cell_type": "code",
   "execution_count": 11,
   "metadata": {
    "collapsed": true,
    "jupyter": {
     "outputs_hidden": true
    }
   },
   "outputs": [
    {
     "data": {
      "text/plain": [
       "['Elijah', 'NOT PRESENT']"
      ]
     },
     "execution_count": 11,
     "metadata": {},
     "output_type": "execute_result"
    }
   ],
   "source": [
    "[mydict[k] if k in mydict else 'NOT PRESENT' for mydict in dlist]"
   ]
  },
  {
   "cell_type": "markdown",
   "metadata": {},
   "source": [
    "You can construct a dictionary using a comprehension."
   ]
  },
  {
   "cell_type": "code",
   "execution_count": 12,
   "metadata": {
    "collapsed": true,
    "jupyter": {
     "outputs_hidden": true
    }
   },
   "outputs": [
    {
     "data": {
      "text/plain": [
       "{3: 2, 4: 0, 100: 1}"
      ]
     },
     "execution_count": 12,
     "metadata": {},
     "output_type": "execute_result"
    }
   ],
   "source": [
    "{ k:v for (k,v) in [(3,2),(4,0),(100,1)] }"
   ]
  },
  {
   "cell_type": "code",
   "execution_count": 13,
   "metadata": {
    "collapsed": true,
    "jupyter": {
     "outputs_hidden": true
    }
   },
   "outputs": [
    {
     "data": {
      "text/plain": [
       "{(1, 1): 1,\n",
       " (1, 2): 2,\n",
       " (1, 3): 3,\n",
       " (2, 1): 2,\n",
       " (2, 2): 4,\n",
       " (2, 3): 6,\n",
       " (3, 1): 3,\n",
       " (3, 2): 6,\n",
       " (3, 3): 9}"
      ]
     },
     "execution_count": 13,
     "metadata": {},
     "output_type": "execute_result"
    }
   ],
   "source": [
    "{ (x,y):x*y for x in [1,2,3] for y in [1,2,3] }"
   ]
  },
  {
   "cell_type": "markdown",
   "metadata": {},
   "source": [
    "Task 0.5.23: Using range, write a comprehension whose value is a dictionary. The keys\n",
    "should be the integers from 0 to 99 and the value corresponding to a key should be the\n",
    "square of the key.\n",
    "The identity function on a set D is the function with the following spec:\n",
    "• input: an element x of D\n",
    "• output: x"
   ]
  },
  {
   "cell_type": "code",
   "execution_count": 3,
   "metadata": {
    "collapsed": true,
    "jupyter": {
     "outputs_hidden": true
    }
   },
   "outputs": [],
   "source": [
    "mydict = { x:x*x for x in range(0, 100) }"
   ]
  },
  {
   "cell_type": "code",
   "execution_count": 5,
   "metadata": {
    "collapsed": true,
    "jupyter": {
     "outputs_hidden": true
    }
   },
   "outputs": [
    {
     "data": {
      "text/plain": [
       "9801"
      ]
     },
     "execution_count": 5,
     "metadata": {},
     "output_type": "execute_result"
    }
   ],
   "source": [
    "mydict[99]"
   ]
  },
  {
   "cell_type": "code",
   "execution_count": 6,
   "metadata": {
    "collapsed": true,
    "jupyter": {
     "outputs_hidden": true
    }
   },
   "outputs": [
    {
     "data": {
      "text/plain": [
       "25"
      ]
     },
     "execution_count": 6,
     "metadata": {},
     "output_type": "execute_result"
    }
   ],
   "source": [
    "mydict[5]"
   ]
  },
  {
   "cell_type": "markdown",
   "metadata": {},
   "source": [
    "Task 0.5.24: Assign some set to the variable D, e.g. D ={'red','white','blue'}.\n",
    "Now write a comprehension that evaluates to a dictionary that represents the identity function\n",
    "on D."
   ]
  },
  {
   "cell_type": "code",
   "execution_count": 7,
   "metadata": {
    "collapsed": true,
    "jupyter": {
     "outputs_hidden": true
    }
   },
   "outputs": [],
   "source": [
    " D ={'red','white','blue'}"
   ]
  },
  {
   "cell_type": "markdown",
   "metadata": {},
   "source": [
    "\n",
    "Task 0.5.25: Using the variables base=10 and digits=set(range(base)), write a dictionary\n",
    "comprehension that maps each integer between zero and nine hundred ninety nine\n",
    "to the list of three digits that represents that integer in base 10. That is, the value should be\n",
    "{0: [0, 0, 0], 1: [0, 0, 1], 2: [0, 0, 2], 3: [0, 0, 3], ...,\n",
    "10: [0, 1, 0], 11: [0, 1, 1], 12: [0, 1, 2], ...,\n",
    "999: [9, 9, 9]}\n",
    "Your expression should work for any base. For example, if you instead assign 2 to base and\n",
    "assign {0,1} to digits, the value should be\n",
    "{0: [0, 0, 0], 1: [0, 0, 1], 2: [0, 1, 0], 3: [0, 1, 1],\n",
    "..., 7: [1, 1, 1]}"
   ]
  },
  {
   "cell_type": "code",
   "execution_count": 33,
   "metadata": {
    "collapsed": true,
    "jupyter": {
     "outputs_hidden": true
    }
   },
   "outputs": [],
   "source": [
    "base=10\n",
    "digits=set(range(base))\n",
    "def func(x, base):\n",
    "    a= x % base\n",
    "    b= x//base % base\n",
    "    c= x//(base*base) % base\n",
    "    return [c, b, a]\n",
    "    \n",
    "res = { x:func(x, 10) for x in range(0, 1000)}"
   ]
  },
  {
   "cell_type": "markdown",
   "metadata": {},
   "source": [
    "Comprehensions that iterate over dictionaries"
   ]
  },
  {
   "cell_type": "code",
   "execution_count": 34,
   "metadata": {
    "collapsed": true,
    "jupyter": {
     "outputs_hidden": true
    }
   },
   "outputs": [
    {
     "data": {
      "text/plain": [
       "[8, 6]"
      ]
     },
     "execution_count": 34,
     "metadata": {},
     "output_type": "execute_result"
    }
   ],
   "source": [
    "[2*x for x in {4:'a',3:'b'}.keys() ]"
   ]
  },
  {
   "cell_type": "code",
   "execution_count": 35,
   "metadata": {
    "collapsed": true,
    "jupyter": {
     "outputs_hidden": true
    }
   },
   "outputs": [
    {
     "data": {
      "text/plain": [
       "['a', 'b']"
      ]
     },
     "execution_count": 35,
     "metadata": {},
     "output_type": "execute_result"
    }
   ],
   "source": [
    "[x for x in {4:'a', 3:'b'}.values()]"
   ]
  },
  {
   "cell_type": "markdown",
   "metadata": {},
   "source": [
    "Given two dictionaries A and B, you can write comprehensions that iterate over the union\n",
    "or intersection of the keys, using the union operator | and intersection operator & we learned\n",
    "about in Section 0.5.4"
   ]
  },
  {
   "cell_type": "code",
   "execution_count": 36,
   "metadata": {
    "collapsed": true,
    "jupyter": {
     "outputs_hidden": true
    }
   },
   "outputs": [
    {
     "data": {
      "text/plain": [
       "['b', 'a', 'c']"
      ]
     },
     "execution_count": 36,
     "metadata": {},
     "output_type": "execute_result"
    }
   ],
   "source": [
    "[k for k in {'a':1, 'b':2}.keys() | {'b':3, 'c':4}.keys()]"
   ]
  },
  {
   "cell_type": "code",
   "execution_count": 37,
   "metadata": {
    "collapsed": true,
    "jupyter": {
     "outputs_hidden": true
    }
   },
   "outputs": [
    {
     "data": {
      "text/plain": [
       "['b']"
      ]
     },
     "execution_count": 37,
     "metadata": {},
     "output_type": "execute_result"
    }
   ],
   "source": [
    "[k for k in {'a':1, 'b':2}.keys() & {'b':3, 'c':4}.keys()]"
   ]
  },
  {
   "cell_type": "code",
   "execution_count": 38,
   "metadata": {
    "collapsed": true,
    "jupyter": {
     "outputs_hidden": true
    }
   },
   "outputs": [
    {
     "data": {
      "text/plain": [
       "[(0, [0]),\n",
       " (1, [1]),\n",
       " (2, [2]),\n",
       " (3, [3]),\n",
       " (4, [4]),\n",
       " (5, [5]),\n",
       " (6, [6]),\n",
       " (7, [7]),\n",
       " (8, [8]),\n",
       " (9, [9]),\n",
       " (10, [0]),\n",
       " (11, [1]),\n",
       " (12, [2]),\n",
       " (13, [3]),\n",
       " (14, [4]),\n",
       " (15, [5]),\n",
       " (16, [6]),\n",
       " (17, [7]),\n",
       " (18, [8]),\n",
       " (19, [9]),\n",
       " (20, [0]),\n",
       " (21, [1]),\n",
       " (22, [2]),\n",
       " (23, [3]),\n",
       " (24, [4]),\n",
       " (25, [5]),\n",
       " (26, [6]),\n",
       " (27, [7]),\n",
       " (28, [8]),\n",
       " (29, [9]),\n",
       " (30, [0]),\n",
       " (31, [1]),\n",
       " (32, [2]),\n",
       " (33, [3]),\n",
       " (34, [4]),\n",
       " (35, [5]),\n",
       " (36, [6]),\n",
       " (37, [7]),\n",
       " (38, [8]),\n",
       " (39, [9]),\n",
       " (40, [0]),\n",
       " (41, [1]),\n",
       " (42, [2]),\n",
       " (43, [3]),\n",
       " (44, [4]),\n",
       " (45, [5]),\n",
       " (46, [6]),\n",
       " (47, [7]),\n",
       " (48, [8]),\n",
       " (49, [9]),\n",
       " (50, [0]),\n",
       " (51, [1]),\n",
       " (52, [2]),\n",
       " (53, [3]),\n",
       " (54, [4]),\n",
       " (55, [5]),\n",
       " (56, [6]),\n",
       " (57, [7]),\n",
       " (58, [8]),\n",
       " (59, [9]),\n",
       " (60, [0]),\n",
       " (61, [1]),\n",
       " (62, [2]),\n",
       " (63, [3]),\n",
       " (64, [4]),\n",
       " (65, [5]),\n",
       " (66, [6]),\n",
       " (67, [7]),\n",
       " (68, [8]),\n",
       " (69, [9]),\n",
       " (70, [0]),\n",
       " (71, [1]),\n",
       " (72, [2]),\n",
       " (73, [3]),\n",
       " (74, [4]),\n",
       " (75, [5]),\n",
       " (76, [6]),\n",
       " (77, [7]),\n",
       " (78, [8]),\n",
       " (79, [9]),\n",
       " (80, [0]),\n",
       " (81, [1]),\n",
       " (82, [2]),\n",
       " (83, [3]),\n",
       " (84, [4]),\n",
       " (85, [5]),\n",
       " (86, [6]),\n",
       " (87, [7]),\n",
       " (88, [8]),\n",
       " (89, [9]),\n",
       " (90, [0]),\n",
       " (91, [1]),\n",
       " (92, [2]),\n",
       " (93, [3]),\n",
       " (94, [4]),\n",
       " (95, [5]),\n",
       " (96, [6]),\n",
       " (97, [7]),\n",
       " (98, [8]),\n",
       " (99, [9]),\n",
       " (100, [0]),\n",
       " (101, [1]),\n",
       " (102, [2]),\n",
       " (103, [3]),\n",
       " (104, [4]),\n",
       " (105, [5]),\n",
       " (106, [6]),\n",
       " (107, [7]),\n",
       " (108, [8]),\n",
       " (109, [9]),\n",
       " (110, [0]),\n",
       " (111, [1]),\n",
       " (112, [2]),\n",
       " (113, [3]),\n",
       " (114, [4]),\n",
       " (115, [5]),\n",
       " (116, [6]),\n",
       " (117, [7]),\n",
       " (118, [8]),\n",
       " (119, [9]),\n",
       " (120, [0]),\n",
       " (121, [1]),\n",
       " (122, [2]),\n",
       " (123, [3]),\n",
       " (124, [4]),\n",
       " (125, [5]),\n",
       " (126, [6]),\n",
       " (127, [7]),\n",
       " (128, [8]),\n",
       " (129, [9]),\n",
       " (130, [0]),\n",
       " (131, [1]),\n",
       " (132, [2]),\n",
       " (133, [3]),\n",
       " (134, [4]),\n",
       " (135, [5]),\n",
       " (136, [6]),\n",
       " (137, [7]),\n",
       " (138, [8]),\n",
       " (139, [9]),\n",
       " (140, [0]),\n",
       " (141, [1]),\n",
       " (142, [2]),\n",
       " (143, [3]),\n",
       " (144, [4]),\n",
       " (145, [5]),\n",
       " (146, [6]),\n",
       " (147, [7]),\n",
       " (148, [8]),\n",
       " (149, [9]),\n",
       " (150, [0]),\n",
       " (151, [1]),\n",
       " (152, [2]),\n",
       " (153, [3]),\n",
       " (154, [4]),\n",
       " (155, [5]),\n",
       " (156, [6]),\n",
       " (157, [7]),\n",
       " (158, [8]),\n",
       " (159, [9]),\n",
       " (160, [0]),\n",
       " (161, [1]),\n",
       " (162, [2]),\n",
       " (163, [3]),\n",
       " (164, [4]),\n",
       " (165, [5]),\n",
       " (166, [6]),\n",
       " (167, [7]),\n",
       " (168, [8]),\n",
       " (169, [9]),\n",
       " (170, [0]),\n",
       " (171, [1]),\n",
       " (172, [2]),\n",
       " (173, [3]),\n",
       " (174, [4]),\n",
       " (175, [5]),\n",
       " (176, [6]),\n",
       " (177, [7]),\n",
       " (178, [8]),\n",
       " (179, [9]),\n",
       " (180, [0]),\n",
       " (181, [1]),\n",
       " (182, [2]),\n",
       " (183, [3]),\n",
       " (184, [4]),\n",
       " (185, [5]),\n",
       " (186, [6]),\n",
       " (187, [7]),\n",
       " (188, [8]),\n",
       " (189, [9]),\n",
       " (190, [0]),\n",
       " (191, [1]),\n",
       " (192, [2]),\n",
       " (193, [3]),\n",
       " (194, [4]),\n",
       " (195, [5]),\n",
       " (196, [6]),\n",
       " (197, [7]),\n",
       " (198, [8]),\n",
       " (199, [9]),\n",
       " (200, [0]),\n",
       " (201, [1]),\n",
       " (202, [2]),\n",
       " (203, [3]),\n",
       " (204, [4]),\n",
       " (205, [5]),\n",
       " (206, [6]),\n",
       " (207, [7]),\n",
       " (208, [8]),\n",
       " (209, [9]),\n",
       " (210, [0]),\n",
       " (211, [1]),\n",
       " (212, [2]),\n",
       " (213, [3]),\n",
       " (214, [4]),\n",
       " (215, [5]),\n",
       " (216, [6]),\n",
       " (217, [7]),\n",
       " (218, [8]),\n",
       " (219, [9]),\n",
       " (220, [0]),\n",
       " (221, [1]),\n",
       " (222, [2]),\n",
       " (223, [3]),\n",
       " (224, [4]),\n",
       " (225, [5]),\n",
       " (226, [6]),\n",
       " (227, [7]),\n",
       " (228, [8]),\n",
       " (229, [9]),\n",
       " (230, [0]),\n",
       " (231, [1]),\n",
       " (232, [2]),\n",
       " (233, [3]),\n",
       " (234, [4]),\n",
       " (235, [5]),\n",
       " (236, [6]),\n",
       " (237, [7]),\n",
       " (238, [8]),\n",
       " (239, [9]),\n",
       " (240, [0]),\n",
       " (241, [1]),\n",
       " (242, [2]),\n",
       " (243, [3]),\n",
       " (244, [4]),\n",
       " (245, [5]),\n",
       " (246, [6]),\n",
       " (247, [7]),\n",
       " (248, [8]),\n",
       " (249, [9]),\n",
       " (250, [0]),\n",
       " (251, [1]),\n",
       " (252, [2]),\n",
       " (253, [3]),\n",
       " (254, [4]),\n",
       " (255, [5]),\n",
       " (256, [6]),\n",
       " (257, [7]),\n",
       " (258, [8]),\n",
       " (259, [9]),\n",
       " (260, [0]),\n",
       " (261, [1]),\n",
       " (262, [2]),\n",
       " (263, [3]),\n",
       " (264, [4]),\n",
       " (265, [5]),\n",
       " (266, [6]),\n",
       " (267, [7]),\n",
       " (268, [8]),\n",
       " (269, [9]),\n",
       " (270, [0]),\n",
       " (271, [1]),\n",
       " (272, [2]),\n",
       " (273, [3]),\n",
       " (274, [4]),\n",
       " (275, [5]),\n",
       " (276, [6]),\n",
       " (277, [7]),\n",
       " (278, [8]),\n",
       " (279, [9]),\n",
       " (280, [0]),\n",
       " (281, [1]),\n",
       " (282, [2]),\n",
       " (283, [3]),\n",
       " (284, [4]),\n",
       " (285, [5]),\n",
       " (286, [6]),\n",
       " (287, [7]),\n",
       " (288, [8]),\n",
       " (289, [9]),\n",
       " (290, [0]),\n",
       " (291, [1]),\n",
       " (292, [2]),\n",
       " (293, [3]),\n",
       " (294, [4]),\n",
       " (295, [5]),\n",
       " (296, [6]),\n",
       " (297, [7]),\n",
       " (298, [8]),\n",
       " (299, [9]),\n",
       " (300, [0]),\n",
       " (301, [1]),\n",
       " (302, [2]),\n",
       " (303, [3]),\n",
       " (304, [4]),\n",
       " (305, [5]),\n",
       " (306, [6]),\n",
       " (307, [7]),\n",
       " (308, [8]),\n",
       " (309, [9]),\n",
       " (310, [0]),\n",
       " (311, [1]),\n",
       " (312, [2]),\n",
       " (313, [3]),\n",
       " (314, [4]),\n",
       " (315, [5]),\n",
       " (316, [6]),\n",
       " (317, [7]),\n",
       " (318, [8]),\n",
       " (319, [9]),\n",
       " (320, [0]),\n",
       " (321, [1]),\n",
       " (322, [2]),\n",
       " (323, [3]),\n",
       " (324, [4]),\n",
       " (325, [5]),\n",
       " (326, [6]),\n",
       " (327, [7]),\n",
       " (328, [8]),\n",
       " (329, [9]),\n",
       " (330, [0]),\n",
       " (331, [1]),\n",
       " (332, [2]),\n",
       " (333, [3]),\n",
       " (334, [4]),\n",
       " (335, [5]),\n",
       " (336, [6]),\n",
       " (337, [7]),\n",
       " (338, [8]),\n",
       " (339, [9]),\n",
       " (340, [0]),\n",
       " (341, [1]),\n",
       " (342, [2]),\n",
       " (343, [3]),\n",
       " (344, [4]),\n",
       " (345, [5]),\n",
       " (346, [6]),\n",
       " (347, [7]),\n",
       " (348, [8]),\n",
       " (349, [9]),\n",
       " (350, [0]),\n",
       " (351, [1]),\n",
       " (352, [2]),\n",
       " (353, [3]),\n",
       " (354, [4]),\n",
       " (355, [5]),\n",
       " (356, [6]),\n",
       " (357, [7]),\n",
       " (358, [8]),\n",
       " (359, [9]),\n",
       " (360, [0]),\n",
       " (361, [1]),\n",
       " (362, [2]),\n",
       " (363, [3]),\n",
       " (364, [4]),\n",
       " (365, [5]),\n",
       " (366, [6]),\n",
       " (367, [7]),\n",
       " (368, [8]),\n",
       " (369, [9]),\n",
       " (370, [0]),\n",
       " (371, [1]),\n",
       " (372, [2]),\n",
       " (373, [3]),\n",
       " (374, [4]),\n",
       " (375, [5]),\n",
       " (376, [6]),\n",
       " (377, [7]),\n",
       " (378, [8]),\n",
       " (379, [9]),\n",
       " (380, [0]),\n",
       " (381, [1]),\n",
       " (382, [2]),\n",
       " (383, [3]),\n",
       " (384, [4]),\n",
       " (385, [5]),\n",
       " (386, [6]),\n",
       " (387, [7]),\n",
       " (388, [8]),\n",
       " (389, [9]),\n",
       " (390, [0]),\n",
       " (391, [1]),\n",
       " (392, [2]),\n",
       " (393, [3]),\n",
       " (394, [4]),\n",
       " (395, [5]),\n",
       " (396, [6]),\n",
       " (397, [7]),\n",
       " (398, [8]),\n",
       " (399, [9]),\n",
       " (400, [0]),\n",
       " (401, [1]),\n",
       " (402, [2]),\n",
       " (403, [3]),\n",
       " (404, [4]),\n",
       " (405, [5]),\n",
       " (406, [6]),\n",
       " (407, [7]),\n",
       " (408, [8]),\n",
       " (409, [9]),\n",
       " (410, [0]),\n",
       " (411, [1]),\n",
       " (412, [2]),\n",
       " (413, [3]),\n",
       " (414, [4]),\n",
       " (415, [5]),\n",
       " (416, [6]),\n",
       " (417, [7]),\n",
       " (418, [8]),\n",
       " (419, [9]),\n",
       " (420, [0]),\n",
       " (421, [1]),\n",
       " (422, [2]),\n",
       " (423, [3]),\n",
       " (424, [4]),\n",
       " (425, [5]),\n",
       " (426, [6]),\n",
       " (427, [7]),\n",
       " (428, [8]),\n",
       " (429, [9]),\n",
       " (430, [0]),\n",
       " (431, [1]),\n",
       " (432, [2]),\n",
       " (433, [3]),\n",
       " (434, [4]),\n",
       " (435, [5]),\n",
       " (436, [6]),\n",
       " (437, [7]),\n",
       " (438, [8]),\n",
       " (439, [9]),\n",
       " (440, [0]),\n",
       " (441, [1]),\n",
       " (442, [2]),\n",
       " (443, [3]),\n",
       " (444, [4]),\n",
       " (445, [5]),\n",
       " (446, [6]),\n",
       " (447, [7]),\n",
       " (448, [8]),\n",
       " (449, [9]),\n",
       " (450, [0]),\n",
       " (451, [1]),\n",
       " (452, [2]),\n",
       " (453, [3]),\n",
       " (454, [4]),\n",
       " (455, [5]),\n",
       " (456, [6]),\n",
       " (457, [7]),\n",
       " (458, [8]),\n",
       " (459, [9]),\n",
       " (460, [0]),\n",
       " (461, [1]),\n",
       " (462, [2]),\n",
       " (463, [3]),\n",
       " (464, [4]),\n",
       " (465, [5]),\n",
       " (466, [6]),\n",
       " (467, [7]),\n",
       " (468, [8]),\n",
       " (469, [9]),\n",
       " (470, [0]),\n",
       " (471, [1]),\n",
       " (472, [2]),\n",
       " (473, [3]),\n",
       " (474, [4]),\n",
       " (475, [5]),\n",
       " (476, [6]),\n",
       " (477, [7]),\n",
       " (478, [8]),\n",
       " (479, [9]),\n",
       " (480, [0]),\n",
       " (481, [1]),\n",
       " (482, [2]),\n",
       " (483, [3]),\n",
       " (484, [4]),\n",
       " (485, [5]),\n",
       " (486, [6]),\n",
       " (487, [7]),\n",
       " (488, [8]),\n",
       " (489, [9]),\n",
       " (490, [0]),\n",
       " (491, [1]),\n",
       " (492, [2]),\n",
       " (493, [3]),\n",
       " (494, [4]),\n",
       " (495, [5]),\n",
       " (496, [6]),\n",
       " (497, [7]),\n",
       " (498, [8]),\n",
       " (499, [9]),\n",
       " (500, [0]),\n",
       " (501, [1]),\n",
       " (502, [2]),\n",
       " (503, [3]),\n",
       " (504, [4]),\n",
       " (505, [5]),\n",
       " (506, [6]),\n",
       " (507, [7]),\n",
       " (508, [8]),\n",
       " (509, [9]),\n",
       " (510, [0]),\n",
       " (511, [1]),\n",
       " (512, [2]),\n",
       " (513, [3]),\n",
       " (514, [4]),\n",
       " (515, [5]),\n",
       " (516, [6]),\n",
       " (517, [7]),\n",
       " (518, [8]),\n",
       " (519, [9]),\n",
       " (520, [0]),\n",
       " (521, [1]),\n",
       " (522, [2]),\n",
       " (523, [3]),\n",
       " (524, [4]),\n",
       " (525, [5]),\n",
       " (526, [6]),\n",
       " (527, [7]),\n",
       " (528, [8]),\n",
       " (529, [9]),\n",
       " (530, [0]),\n",
       " (531, [1]),\n",
       " (532, [2]),\n",
       " (533, [3]),\n",
       " (534, [4]),\n",
       " (535, [5]),\n",
       " (536, [6]),\n",
       " (537, [7]),\n",
       " (538, [8]),\n",
       " (539, [9]),\n",
       " (540, [0]),\n",
       " (541, [1]),\n",
       " (542, [2]),\n",
       " (543, [3]),\n",
       " (544, [4]),\n",
       " (545, [5]),\n",
       " (546, [6]),\n",
       " (547, [7]),\n",
       " (548, [8]),\n",
       " (549, [9]),\n",
       " (550, [0]),\n",
       " (551, [1]),\n",
       " (552, [2]),\n",
       " (553, [3]),\n",
       " (554, [4]),\n",
       " (555, [5]),\n",
       " (556, [6]),\n",
       " (557, [7]),\n",
       " (558, [8]),\n",
       " (559, [9]),\n",
       " (560, [0]),\n",
       " (561, [1]),\n",
       " (562, [2]),\n",
       " (563, [3]),\n",
       " (564, [4]),\n",
       " (565, [5]),\n",
       " (566, [6]),\n",
       " (567, [7]),\n",
       " (568, [8]),\n",
       " (569, [9]),\n",
       " (570, [0]),\n",
       " (571, [1]),\n",
       " (572, [2]),\n",
       " (573, [3]),\n",
       " (574, [4]),\n",
       " (575, [5]),\n",
       " (576, [6]),\n",
       " (577, [7]),\n",
       " (578, [8]),\n",
       " (579, [9]),\n",
       " (580, [0]),\n",
       " (581, [1]),\n",
       " (582, [2]),\n",
       " (583, [3]),\n",
       " (584, [4]),\n",
       " (585, [5]),\n",
       " (586, [6]),\n",
       " (587, [7]),\n",
       " (588, [8]),\n",
       " (589, [9]),\n",
       " (590, [0]),\n",
       " (591, [1]),\n",
       " (592, [2]),\n",
       " (593, [3]),\n",
       " (594, [4]),\n",
       " (595, [5]),\n",
       " (596, [6]),\n",
       " (597, [7]),\n",
       " (598, [8]),\n",
       " (599, [9]),\n",
       " (600, [0]),\n",
       " (601, [1]),\n",
       " (602, [2]),\n",
       " (603, [3]),\n",
       " (604, [4]),\n",
       " (605, [5]),\n",
       " (606, [6]),\n",
       " (607, [7]),\n",
       " (608, [8]),\n",
       " (609, [9]),\n",
       " (610, [0]),\n",
       " (611, [1]),\n",
       " (612, [2]),\n",
       " (613, [3]),\n",
       " (614, [4]),\n",
       " (615, [5]),\n",
       " (616, [6]),\n",
       " (617, [7]),\n",
       " (618, [8]),\n",
       " (619, [9]),\n",
       " (620, [0]),\n",
       " (621, [1]),\n",
       " (622, [2]),\n",
       " (623, [3]),\n",
       " (624, [4]),\n",
       " (625, [5]),\n",
       " (626, [6]),\n",
       " (627, [7]),\n",
       " (628, [8]),\n",
       " (629, [9]),\n",
       " (630, [0]),\n",
       " (631, [1]),\n",
       " (632, [2]),\n",
       " (633, [3]),\n",
       " (634, [4]),\n",
       " (635, [5]),\n",
       " (636, [6]),\n",
       " (637, [7]),\n",
       " (638, [8]),\n",
       " (639, [9]),\n",
       " (640, [0]),\n",
       " (641, [1]),\n",
       " (642, [2]),\n",
       " (643, [3]),\n",
       " (644, [4]),\n",
       " (645, [5]),\n",
       " (646, [6]),\n",
       " (647, [7]),\n",
       " (648, [8]),\n",
       " (649, [9]),\n",
       " (650, [0]),\n",
       " (651, [1]),\n",
       " (652, [2]),\n",
       " (653, [3]),\n",
       " (654, [4]),\n",
       " (655, [5]),\n",
       " (656, [6]),\n",
       " (657, [7]),\n",
       " (658, [8]),\n",
       " (659, [9]),\n",
       " (660, [0]),\n",
       " (661, [1]),\n",
       " (662, [2]),\n",
       " (663, [3]),\n",
       " (664, [4]),\n",
       " (665, [5]),\n",
       " (666, [6]),\n",
       " (667, [7]),\n",
       " (668, [8]),\n",
       " (669, [9]),\n",
       " (670, [0]),\n",
       " (671, [1]),\n",
       " (672, [2]),\n",
       " (673, [3]),\n",
       " (674, [4]),\n",
       " (675, [5]),\n",
       " (676, [6]),\n",
       " (677, [7]),\n",
       " (678, [8]),\n",
       " (679, [9]),\n",
       " (680, [0]),\n",
       " (681, [1]),\n",
       " (682, [2]),\n",
       " (683, [3]),\n",
       " (684, [4]),\n",
       " (685, [5]),\n",
       " (686, [6]),\n",
       " (687, [7]),\n",
       " (688, [8]),\n",
       " (689, [9]),\n",
       " (690, [0]),\n",
       " (691, [1]),\n",
       " (692, [2]),\n",
       " (693, [3]),\n",
       " (694, [4]),\n",
       " (695, [5]),\n",
       " (696, [6]),\n",
       " (697, [7]),\n",
       " (698, [8]),\n",
       " (699, [9]),\n",
       " (700, [0]),\n",
       " (701, [1]),\n",
       " (702, [2]),\n",
       " (703, [3]),\n",
       " (704, [4]),\n",
       " (705, [5]),\n",
       " (706, [6]),\n",
       " (707, [7]),\n",
       " (708, [8]),\n",
       " (709, [9]),\n",
       " (710, [0]),\n",
       " (711, [1]),\n",
       " (712, [2]),\n",
       " (713, [3]),\n",
       " (714, [4]),\n",
       " (715, [5]),\n",
       " (716, [6]),\n",
       " (717, [7]),\n",
       " (718, [8]),\n",
       " (719, [9]),\n",
       " (720, [0]),\n",
       " (721, [1]),\n",
       " (722, [2]),\n",
       " (723, [3]),\n",
       " (724, [4]),\n",
       " (725, [5]),\n",
       " (726, [6]),\n",
       " (727, [7]),\n",
       " (728, [8]),\n",
       " (729, [9]),\n",
       " (730, [0]),\n",
       " (731, [1]),\n",
       " (732, [2]),\n",
       " (733, [3]),\n",
       " (734, [4]),\n",
       " (735, [5]),\n",
       " (736, [6]),\n",
       " (737, [7]),\n",
       " (738, [8]),\n",
       " (739, [9]),\n",
       " (740, [0]),\n",
       " (741, [1]),\n",
       " (742, [2]),\n",
       " (743, [3]),\n",
       " (744, [4]),\n",
       " (745, [5]),\n",
       " (746, [6]),\n",
       " (747, [7]),\n",
       " (748, [8]),\n",
       " (749, [9]),\n",
       " (750, [0]),\n",
       " (751, [1]),\n",
       " (752, [2]),\n",
       " (753, [3]),\n",
       " (754, [4]),\n",
       " (755, [5]),\n",
       " (756, [6]),\n",
       " (757, [7]),\n",
       " (758, [8]),\n",
       " (759, [9]),\n",
       " (760, [0]),\n",
       " (761, [1]),\n",
       " (762, [2]),\n",
       " (763, [3]),\n",
       " (764, [4]),\n",
       " (765, [5]),\n",
       " (766, [6]),\n",
       " (767, [7]),\n",
       " (768, [8]),\n",
       " (769, [9]),\n",
       " (770, [0]),\n",
       " (771, [1]),\n",
       " (772, [2]),\n",
       " (773, [3]),\n",
       " (774, [4]),\n",
       " (775, [5]),\n",
       " (776, [6]),\n",
       " (777, [7]),\n",
       " (778, [8]),\n",
       " (779, [9]),\n",
       " (780, [0]),\n",
       " (781, [1]),\n",
       " (782, [2]),\n",
       " (783, [3]),\n",
       " (784, [4]),\n",
       " (785, [5]),\n",
       " (786, [6]),\n",
       " (787, [7]),\n",
       " (788, [8]),\n",
       " (789, [9]),\n",
       " (790, [0]),\n",
       " (791, [1]),\n",
       " (792, [2]),\n",
       " (793, [3]),\n",
       " (794, [4]),\n",
       " (795, [5]),\n",
       " (796, [6]),\n",
       " (797, [7]),\n",
       " (798, [8]),\n",
       " (799, [9]),\n",
       " (800, [0]),\n",
       " (801, [1]),\n",
       " (802, [2]),\n",
       " (803, [3]),\n",
       " (804, [4]),\n",
       " (805, [5]),\n",
       " (806, [6]),\n",
       " (807, [7]),\n",
       " (808, [8]),\n",
       " (809, [9]),\n",
       " (810, [0]),\n",
       " (811, [1]),\n",
       " (812, [2]),\n",
       " (813, [3]),\n",
       " (814, [4]),\n",
       " (815, [5]),\n",
       " (816, [6]),\n",
       " (817, [7]),\n",
       " (818, [8]),\n",
       " (819, [9]),\n",
       " (820, [0]),\n",
       " (821, [1]),\n",
       " (822, [2]),\n",
       " (823, [3]),\n",
       " (824, [4]),\n",
       " (825, [5]),\n",
       " (826, [6]),\n",
       " (827, [7]),\n",
       " (828, [8]),\n",
       " (829, [9]),\n",
       " (830, [0]),\n",
       " (831, [1]),\n",
       " (832, [2]),\n",
       " (833, [3]),\n",
       " (834, [4]),\n",
       " (835, [5]),\n",
       " (836, [6]),\n",
       " (837, [7]),\n",
       " (838, [8]),\n",
       " (839, [9]),\n",
       " (840, [0]),\n",
       " (841, [1]),\n",
       " (842, [2]),\n",
       " (843, [3]),\n",
       " (844, [4]),\n",
       " (845, [5]),\n",
       " (846, [6]),\n",
       " (847, [7]),\n",
       " (848, [8]),\n",
       " (849, [9]),\n",
       " (850, [0]),\n",
       " (851, [1]),\n",
       " (852, [2]),\n",
       " (853, [3]),\n",
       " (854, [4]),\n",
       " (855, [5]),\n",
       " (856, [6]),\n",
       " (857, [7]),\n",
       " (858, [8]),\n",
       " (859, [9]),\n",
       " (860, [0]),\n",
       " (861, [1]),\n",
       " (862, [2]),\n",
       " (863, [3]),\n",
       " (864, [4]),\n",
       " (865, [5]),\n",
       " (866, [6]),\n",
       " (867, [7]),\n",
       " (868, [8]),\n",
       " (869, [9]),\n",
       " (870, [0]),\n",
       " (871, [1]),\n",
       " (872, [2]),\n",
       " (873, [3]),\n",
       " (874, [4]),\n",
       " (875, [5]),\n",
       " (876, [6]),\n",
       " (877, [7]),\n",
       " (878, [8]),\n",
       " (879, [9]),\n",
       " (880, [0]),\n",
       " (881, [1]),\n",
       " (882, [2]),\n",
       " (883, [3]),\n",
       " (884, [4]),\n",
       " (885, [5]),\n",
       " (886, [6]),\n",
       " (887, [7]),\n",
       " (888, [8]),\n",
       " (889, [9]),\n",
       " (890, [0]),\n",
       " (891, [1]),\n",
       " (892, [2]),\n",
       " (893, [3]),\n",
       " (894, [4]),\n",
       " (895, [5]),\n",
       " (896, [6]),\n",
       " (897, [7]),\n",
       " (898, [8]),\n",
       " (899, [9]),\n",
       " (900, [0]),\n",
       " (901, [1]),\n",
       " (902, [2]),\n",
       " (903, [3]),\n",
       " (904, [4]),\n",
       " (905, [5]),\n",
       " (906, [6]),\n",
       " (907, [7]),\n",
       " (908, [8]),\n",
       " (909, [9]),\n",
       " (910, [0]),\n",
       " (911, [1]),\n",
       " (912, [2]),\n",
       " (913, [3]),\n",
       " (914, [4]),\n",
       " (915, [5]),\n",
       " (916, [6]),\n",
       " (917, [7]),\n",
       " (918, [8]),\n",
       " (919, [9]),\n",
       " (920, [0]),\n",
       " (921, [1]),\n",
       " (922, [2]),\n",
       " (923, [3]),\n",
       " (924, [4]),\n",
       " (925, [5]),\n",
       " (926, [6]),\n",
       " (927, [7]),\n",
       " (928, [8]),\n",
       " (929, [9]),\n",
       " (930, [0]),\n",
       " (931, [1]),\n",
       " (932, [2]),\n",
       " (933, [3]),\n",
       " (934, [4]),\n",
       " (935, [5]),\n",
       " (936, [6]),\n",
       " (937, [7]),\n",
       " (938, [8]),\n",
       " (939, [9]),\n",
       " (940, [0]),\n",
       " (941, [1]),\n",
       " (942, [2]),\n",
       " (943, [3]),\n",
       " (944, [4]),\n",
       " (945, [5]),\n",
       " (946, [6]),\n",
       " (947, [7]),\n",
       " (948, [8]),\n",
       " (949, [9]),\n",
       " (950, [0]),\n",
       " (951, [1]),\n",
       " (952, [2]),\n",
       " (953, [3]),\n",
       " (954, [4]),\n",
       " (955, [5]),\n",
       " (956, [6]),\n",
       " (957, [7]),\n",
       " (958, [8]),\n",
       " (959, [9]),\n",
       " (960, [0]),\n",
       " (961, [1]),\n",
       " (962, [2]),\n",
       " (963, [3]),\n",
       " (964, [4]),\n",
       " (965, [5]),\n",
       " (966, [6]),\n",
       " (967, [7]),\n",
       " (968, [8]),\n",
       " (969, [9]),\n",
       " (970, [0]),\n",
       " (971, [1]),\n",
       " (972, [2]),\n",
       " (973, [3]),\n",
       " (974, [4]),\n",
       " (975, [5]),\n",
       " (976, [6]),\n",
       " (977, [7]),\n",
       " (978, [8]),\n",
       " (979, [9]),\n",
       " (980, [0]),\n",
       " (981, [1]),\n",
       " (982, [2]),\n",
       " (983, [3]),\n",
       " (984, [4]),\n",
       " (985, [5]),\n",
       " (986, [6]),\n",
       " (987, [7]),\n",
       " (988, [8]),\n",
       " (989, [9]),\n",
       " (990, [0]),\n",
       " (991, [1]),\n",
       " (992, [2]),\n",
       " (993, [3]),\n",
       " (994, [4]),\n",
       " (995, [5]),\n",
       " (996, [6]),\n",
       " (997, [7]),\n",
       " (998, [8])]"
      ]
     },
     "execution_count": 38,
     "metadata": {},
     "output_type": "execute_result"
    }
   ],
   "source": [
    "[myitem for myitem in mydict.items()]"
   ]
  },
  {
   "cell_type": "code",
   "execution_count": 40,
   "metadata": {
    "collapsed": true,
    "jupyter": {
     "outputs_hidden": true
    }
   },
   "outputs": [
    {
     "data": {
      "text/plain": [
       "['0 is played by [0]',\n",
       " '1 is played by [1]',\n",
       " '2 is played by [2]',\n",
       " '3 is played by [3]',\n",
       " '4 is played by [4]',\n",
       " '5 is played by [5]',\n",
       " '6 is played by [6]',\n",
       " '7 is played by [7]',\n",
       " '8 is played by [8]',\n",
       " '9 is played by [9]',\n",
       " '10 is played by [0]',\n",
       " '11 is played by [1]',\n",
       " '12 is played by [2]',\n",
       " '13 is played by [3]',\n",
       " '14 is played by [4]',\n",
       " '15 is played by [5]',\n",
       " '16 is played by [6]',\n",
       " '17 is played by [7]',\n",
       " '18 is played by [8]',\n",
       " '19 is played by [9]',\n",
       " '20 is played by [0]',\n",
       " '21 is played by [1]',\n",
       " '22 is played by [2]',\n",
       " '23 is played by [3]',\n",
       " '24 is played by [4]',\n",
       " '25 is played by [5]',\n",
       " '26 is played by [6]',\n",
       " '27 is played by [7]',\n",
       " '28 is played by [8]',\n",
       " '29 is played by [9]',\n",
       " '30 is played by [0]',\n",
       " '31 is played by [1]',\n",
       " '32 is played by [2]',\n",
       " '33 is played by [3]',\n",
       " '34 is played by [4]',\n",
       " '35 is played by [5]',\n",
       " '36 is played by [6]',\n",
       " '37 is played by [7]',\n",
       " '38 is played by [8]',\n",
       " '39 is played by [9]',\n",
       " '40 is played by [0]',\n",
       " '41 is played by [1]',\n",
       " '42 is played by [2]',\n",
       " '43 is played by [3]',\n",
       " '44 is played by [4]',\n",
       " '45 is played by [5]',\n",
       " '46 is played by [6]',\n",
       " '47 is played by [7]',\n",
       " '48 is played by [8]',\n",
       " '49 is played by [9]',\n",
       " '50 is played by [0]',\n",
       " '51 is played by [1]',\n",
       " '52 is played by [2]',\n",
       " '53 is played by [3]',\n",
       " '54 is played by [4]',\n",
       " '55 is played by [5]',\n",
       " '56 is played by [6]',\n",
       " '57 is played by [7]',\n",
       " '58 is played by [8]',\n",
       " '59 is played by [9]',\n",
       " '60 is played by [0]',\n",
       " '61 is played by [1]',\n",
       " '62 is played by [2]',\n",
       " '63 is played by [3]',\n",
       " '64 is played by [4]',\n",
       " '65 is played by [5]',\n",
       " '66 is played by [6]',\n",
       " '67 is played by [7]',\n",
       " '68 is played by [8]',\n",
       " '69 is played by [9]',\n",
       " '70 is played by [0]',\n",
       " '71 is played by [1]',\n",
       " '72 is played by [2]',\n",
       " '73 is played by [3]',\n",
       " '74 is played by [4]',\n",
       " '75 is played by [5]',\n",
       " '76 is played by [6]',\n",
       " '77 is played by [7]',\n",
       " '78 is played by [8]',\n",
       " '79 is played by [9]',\n",
       " '80 is played by [0]',\n",
       " '81 is played by [1]',\n",
       " '82 is played by [2]',\n",
       " '83 is played by [3]',\n",
       " '84 is played by [4]',\n",
       " '85 is played by [5]',\n",
       " '86 is played by [6]',\n",
       " '87 is played by [7]',\n",
       " '88 is played by [8]',\n",
       " '89 is played by [9]',\n",
       " '90 is played by [0]',\n",
       " '91 is played by [1]',\n",
       " '92 is played by [2]',\n",
       " '93 is played by [3]',\n",
       " '94 is played by [4]',\n",
       " '95 is played by [5]',\n",
       " '96 is played by [6]',\n",
       " '97 is played by [7]',\n",
       " '98 is played by [8]',\n",
       " '99 is played by [9]',\n",
       " '100 is played by [0]',\n",
       " '101 is played by [1]',\n",
       " '102 is played by [2]',\n",
       " '103 is played by [3]',\n",
       " '104 is played by [4]',\n",
       " '105 is played by [5]',\n",
       " '106 is played by [6]',\n",
       " '107 is played by [7]',\n",
       " '108 is played by [8]',\n",
       " '109 is played by [9]',\n",
       " '110 is played by [0]',\n",
       " '111 is played by [1]',\n",
       " '112 is played by [2]',\n",
       " '113 is played by [3]',\n",
       " '114 is played by [4]',\n",
       " '115 is played by [5]',\n",
       " '116 is played by [6]',\n",
       " '117 is played by [7]',\n",
       " '118 is played by [8]',\n",
       " '119 is played by [9]',\n",
       " '120 is played by [0]',\n",
       " '121 is played by [1]',\n",
       " '122 is played by [2]',\n",
       " '123 is played by [3]',\n",
       " '124 is played by [4]',\n",
       " '125 is played by [5]',\n",
       " '126 is played by [6]',\n",
       " '127 is played by [7]',\n",
       " '128 is played by [8]',\n",
       " '129 is played by [9]',\n",
       " '130 is played by [0]',\n",
       " '131 is played by [1]',\n",
       " '132 is played by [2]',\n",
       " '133 is played by [3]',\n",
       " '134 is played by [4]',\n",
       " '135 is played by [5]',\n",
       " '136 is played by [6]',\n",
       " '137 is played by [7]',\n",
       " '138 is played by [8]',\n",
       " '139 is played by [9]',\n",
       " '140 is played by [0]',\n",
       " '141 is played by [1]',\n",
       " '142 is played by [2]',\n",
       " '143 is played by [3]',\n",
       " '144 is played by [4]',\n",
       " '145 is played by [5]',\n",
       " '146 is played by [6]',\n",
       " '147 is played by [7]',\n",
       " '148 is played by [8]',\n",
       " '149 is played by [9]',\n",
       " '150 is played by [0]',\n",
       " '151 is played by [1]',\n",
       " '152 is played by [2]',\n",
       " '153 is played by [3]',\n",
       " '154 is played by [4]',\n",
       " '155 is played by [5]',\n",
       " '156 is played by [6]',\n",
       " '157 is played by [7]',\n",
       " '158 is played by [8]',\n",
       " '159 is played by [9]',\n",
       " '160 is played by [0]',\n",
       " '161 is played by [1]',\n",
       " '162 is played by [2]',\n",
       " '163 is played by [3]',\n",
       " '164 is played by [4]',\n",
       " '165 is played by [5]',\n",
       " '166 is played by [6]',\n",
       " '167 is played by [7]',\n",
       " '168 is played by [8]',\n",
       " '169 is played by [9]',\n",
       " '170 is played by [0]',\n",
       " '171 is played by [1]',\n",
       " '172 is played by [2]',\n",
       " '173 is played by [3]',\n",
       " '174 is played by [4]',\n",
       " '175 is played by [5]',\n",
       " '176 is played by [6]',\n",
       " '177 is played by [7]',\n",
       " '178 is played by [8]',\n",
       " '179 is played by [9]',\n",
       " '180 is played by [0]',\n",
       " '181 is played by [1]',\n",
       " '182 is played by [2]',\n",
       " '183 is played by [3]',\n",
       " '184 is played by [4]',\n",
       " '185 is played by [5]',\n",
       " '186 is played by [6]',\n",
       " '187 is played by [7]',\n",
       " '188 is played by [8]',\n",
       " '189 is played by [9]',\n",
       " '190 is played by [0]',\n",
       " '191 is played by [1]',\n",
       " '192 is played by [2]',\n",
       " '193 is played by [3]',\n",
       " '194 is played by [4]',\n",
       " '195 is played by [5]',\n",
       " '196 is played by [6]',\n",
       " '197 is played by [7]',\n",
       " '198 is played by [8]',\n",
       " '199 is played by [9]',\n",
       " '200 is played by [0]',\n",
       " '201 is played by [1]',\n",
       " '202 is played by [2]',\n",
       " '203 is played by [3]',\n",
       " '204 is played by [4]',\n",
       " '205 is played by [5]',\n",
       " '206 is played by [6]',\n",
       " '207 is played by [7]',\n",
       " '208 is played by [8]',\n",
       " '209 is played by [9]',\n",
       " '210 is played by [0]',\n",
       " '211 is played by [1]',\n",
       " '212 is played by [2]',\n",
       " '213 is played by [3]',\n",
       " '214 is played by [4]',\n",
       " '215 is played by [5]',\n",
       " '216 is played by [6]',\n",
       " '217 is played by [7]',\n",
       " '218 is played by [8]',\n",
       " '219 is played by [9]',\n",
       " '220 is played by [0]',\n",
       " '221 is played by [1]',\n",
       " '222 is played by [2]',\n",
       " '223 is played by [3]',\n",
       " '224 is played by [4]',\n",
       " '225 is played by [5]',\n",
       " '226 is played by [6]',\n",
       " '227 is played by [7]',\n",
       " '228 is played by [8]',\n",
       " '229 is played by [9]',\n",
       " '230 is played by [0]',\n",
       " '231 is played by [1]',\n",
       " '232 is played by [2]',\n",
       " '233 is played by [3]',\n",
       " '234 is played by [4]',\n",
       " '235 is played by [5]',\n",
       " '236 is played by [6]',\n",
       " '237 is played by [7]',\n",
       " '238 is played by [8]',\n",
       " '239 is played by [9]',\n",
       " '240 is played by [0]',\n",
       " '241 is played by [1]',\n",
       " '242 is played by [2]',\n",
       " '243 is played by [3]',\n",
       " '244 is played by [4]',\n",
       " '245 is played by [5]',\n",
       " '246 is played by [6]',\n",
       " '247 is played by [7]',\n",
       " '248 is played by [8]',\n",
       " '249 is played by [9]',\n",
       " '250 is played by [0]',\n",
       " '251 is played by [1]',\n",
       " '252 is played by [2]',\n",
       " '253 is played by [3]',\n",
       " '254 is played by [4]',\n",
       " '255 is played by [5]',\n",
       " '256 is played by [6]',\n",
       " '257 is played by [7]',\n",
       " '258 is played by [8]',\n",
       " '259 is played by [9]',\n",
       " '260 is played by [0]',\n",
       " '261 is played by [1]',\n",
       " '262 is played by [2]',\n",
       " '263 is played by [3]',\n",
       " '264 is played by [4]',\n",
       " '265 is played by [5]',\n",
       " '266 is played by [6]',\n",
       " '267 is played by [7]',\n",
       " '268 is played by [8]',\n",
       " '269 is played by [9]',\n",
       " '270 is played by [0]',\n",
       " '271 is played by [1]',\n",
       " '272 is played by [2]',\n",
       " '273 is played by [3]',\n",
       " '274 is played by [4]',\n",
       " '275 is played by [5]',\n",
       " '276 is played by [6]',\n",
       " '277 is played by [7]',\n",
       " '278 is played by [8]',\n",
       " '279 is played by [9]',\n",
       " '280 is played by [0]',\n",
       " '281 is played by [1]',\n",
       " '282 is played by [2]',\n",
       " '283 is played by [3]',\n",
       " '284 is played by [4]',\n",
       " '285 is played by [5]',\n",
       " '286 is played by [6]',\n",
       " '287 is played by [7]',\n",
       " '288 is played by [8]',\n",
       " '289 is played by [9]',\n",
       " '290 is played by [0]',\n",
       " '291 is played by [1]',\n",
       " '292 is played by [2]',\n",
       " '293 is played by [3]',\n",
       " '294 is played by [4]',\n",
       " '295 is played by [5]',\n",
       " '296 is played by [6]',\n",
       " '297 is played by [7]',\n",
       " '298 is played by [8]',\n",
       " '299 is played by [9]',\n",
       " '300 is played by [0]',\n",
       " '301 is played by [1]',\n",
       " '302 is played by [2]',\n",
       " '303 is played by [3]',\n",
       " '304 is played by [4]',\n",
       " '305 is played by [5]',\n",
       " '306 is played by [6]',\n",
       " '307 is played by [7]',\n",
       " '308 is played by [8]',\n",
       " '309 is played by [9]',\n",
       " '310 is played by [0]',\n",
       " '311 is played by [1]',\n",
       " '312 is played by [2]',\n",
       " '313 is played by [3]',\n",
       " '314 is played by [4]',\n",
       " '315 is played by [5]',\n",
       " '316 is played by [6]',\n",
       " '317 is played by [7]',\n",
       " '318 is played by [8]',\n",
       " '319 is played by [9]',\n",
       " '320 is played by [0]',\n",
       " '321 is played by [1]',\n",
       " '322 is played by [2]',\n",
       " '323 is played by [3]',\n",
       " '324 is played by [4]',\n",
       " '325 is played by [5]',\n",
       " '326 is played by [6]',\n",
       " '327 is played by [7]',\n",
       " '328 is played by [8]',\n",
       " '329 is played by [9]',\n",
       " '330 is played by [0]',\n",
       " '331 is played by [1]',\n",
       " '332 is played by [2]',\n",
       " '333 is played by [3]',\n",
       " '334 is played by [4]',\n",
       " '335 is played by [5]',\n",
       " '336 is played by [6]',\n",
       " '337 is played by [7]',\n",
       " '338 is played by [8]',\n",
       " '339 is played by [9]',\n",
       " '340 is played by [0]',\n",
       " '341 is played by [1]',\n",
       " '342 is played by [2]',\n",
       " '343 is played by [3]',\n",
       " '344 is played by [4]',\n",
       " '345 is played by [5]',\n",
       " '346 is played by [6]',\n",
       " '347 is played by [7]',\n",
       " '348 is played by [8]',\n",
       " '349 is played by [9]',\n",
       " '350 is played by [0]',\n",
       " '351 is played by [1]',\n",
       " '352 is played by [2]',\n",
       " '353 is played by [3]',\n",
       " '354 is played by [4]',\n",
       " '355 is played by [5]',\n",
       " '356 is played by [6]',\n",
       " '357 is played by [7]',\n",
       " '358 is played by [8]',\n",
       " '359 is played by [9]',\n",
       " '360 is played by [0]',\n",
       " '361 is played by [1]',\n",
       " '362 is played by [2]',\n",
       " '363 is played by [3]',\n",
       " '364 is played by [4]',\n",
       " '365 is played by [5]',\n",
       " '366 is played by [6]',\n",
       " '367 is played by [7]',\n",
       " '368 is played by [8]',\n",
       " '369 is played by [9]',\n",
       " '370 is played by [0]',\n",
       " '371 is played by [1]',\n",
       " '372 is played by [2]',\n",
       " '373 is played by [3]',\n",
       " '374 is played by [4]',\n",
       " '375 is played by [5]',\n",
       " '376 is played by [6]',\n",
       " '377 is played by [7]',\n",
       " '378 is played by [8]',\n",
       " '379 is played by [9]',\n",
       " '380 is played by [0]',\n",
       " '381 is played by [1]',\n",
       " '382 is played by [2]',\n",
       " '383 is played by [3]',\n",
       " '384 is played by [4]',\n",
       " '385 is played by [5]',\n",
       " '386 is played by [6]',\n",
       " '387 is played by [7]',\n",
       " '388 is played by [8]',\n",
       " '389 is played by [9]',\n",
       " '390 is played by [0]',\n",
       " '391 is played by [1]',\n",
       " '392 is played by [2]',\n",
       " '393 is played by [3]',\n",
       " '394 is played by [4]',\n",
       " '395 is played by [5]',\n",
       " '396 is played by [6]',\n",
       " '397 is played by [7]',\n",
       " '398 is played by [8]',\n",
       " '399 is played by [9]',\n",
       " '400 is played by [0]',\n",
       " '401 is played by [1]',\n",
       " '402 is played by [2]',\n",
       " '403 is played by [3]',\n",
       " '404 is played by [4]',\n",
       " '405 is played by [5]',\n",
       " '406 is played by [6]',\n",
       " '407 is played by [7]',\n",
       " '408 is played by [8]',\n",
       " '409 is played by [9]',\n",
       " '410 is played by [0]',\n",
       " '411 is played by [1]',\n",
       " '412 is played by [2]',\n",
       " '413 is played by [3]',\n",
       " '414 is played by [4]',\n",
       " '415 is played by [5]',\n",
       " '416 is played by [6]',\n",
       " '417 is played by [7]',\n",
       " '418 is played by [8]',\n",
       " '419 is played by [9]',\n",
       " '420 is played by [0]',\n",
       " '421 is played by [1]',\n",
       " '422 is played by [2]',\n",
       " '423 is played by [3]',\n",
       " '424 is played by [4]',\n",
       " '425 is played by [5]',\n",
       " '426 is played by [6]',\n",
       " '427 is played by [7]',\n",
       " '428 is played by [8]',\n",
       " '429 is played by [9]',\n",
       " '430 is played by [0]',\n",
       " '431 is played by [1]',\n",
       " '432 is played by [2]',\n",
       " '433 is played by [3]',\n",
       " '434 is played by [4]',\n",
       " '435 is played by [5]',\n",
       " '436 is played by [6]',\n",
       " '437 is played by [7]',\n",
       " '438 is played by [8]',\n",
       " '439 is played by [9]',\n",
       " '440 is played by [0]',\n",
       " '441 is played by [1]',\n",
       " '442 is played by [2]',\n",
       " '443 is played by [3]',\n",
       " '444 is played by [4]',\n",
       " '445 is played by [5]',\n",
       " '446 is played by [6]',\n",
       " '447 is played by [7]',\n",
       " '448 is played by [8]',\n",
       " '449 is played by [9]',\n",
       " '450 is played by [0]',\n",
       " '451 is played by [1]',\n",
       " '452 is played by [2]',\n",
       " '453 is played by [3]',\n",
       " '454 is played by [4]',\n",
       " '455 is played by [5]',\n",
       " '456 is played by [6]',\n",
       " '457 is played by [7]',\n",
       " '458 is played by [8]',\n",
       " '459 is played by [9]',\n",
       " '460 is played by [0]',\n",
       " '461 is played by [1]',\n",
       " '462 is played by [2]',\n",
       " '463 is played by [3]',\n",
       " '464 is played by [4]',\n",
       " '465 is played by [5]',\n",
       " '466 is played by [6]',\n",
       " '467 is played by [7]',\n",
       " '468 is played by [8]',\n",
       " '469 is played by [9]',\n",
       " '470 is played by [0]',\n",
       " '471 is played by [1]',\n",
       " '472 is played by [2]',\n",
       " '473 is played by [3]',\n",
       " '474 is played by [4]',\n",
       " '475 is played by [5]',\n",
       " '476 is played by [6]',\n",
       " '477 is played by [7]',\n",
       " '478 is played by [8]',\n",
       " '479 is played by [9]',\n",
       " '480 is played by [0]',\n",
       " '481 is played by [1]',\n",
       " '482 is played by [2]',\n",
       " '483 is played by [3]',\n",
       " '484 is played by [4]',\n",
       " '485 is played by [5]',\n",
       " '486 is played by [6]',\n",
       " '487 is played by [7]',\n",
       " '488 is played by [8]',\n",
       " '489 is played by [9]',\n",
       " '490 is played by [0]',\n",
       " '491 is played by [1]',\n",
       " '492 is played by [2]',\n",
       " '493 is played by [3]',\n",
       " '494 is played by [4]',\n",
       " '495 is played by [5]',\n",
       " '496 is played by [6]',\n",
       " '497 is played by [7]',\n",
       " '498 is played by [8]',\n",
       " '499 is played by [9]',\n",
       " '500 is played by [0]',\n",
       " '501 is played by [1]',\n",
       " '502 is played by [2]',\n",
       " '503 is played by [3]',\n",
       " '504 is played by [4]',\n",
       " '505 is played by [5]',\n",
       " '506 is played by [6]',\n",
       " '507 is played by [7]',\n",
       " '508 is played by [8]',\n",
       " '509 is played by [9]',\n",
       " '510 is played by [0]',\n",
       " '511 is played by [1]',\n",
       " '512 is played by [2]',\n",
       " '513 is played by [3]',\n",
       " '514 is played by [4]',\n",
       " '515 is played by [5]',\n",
       " '516 is played by [6]',\n",
       " '517 is played by [7]',\n",
       " '518 is played by [8]',\n",
       " '519 is played by [9]',\n",
       " '520 is played by [0]',\n",
       " '521 is played by [1]',\n",
       " '522 is played by [2]',\n",
       " '523 is played by [3]',\n",
       " '524 is played by [4]',\n",
       " '525 is played by [5]',\n",
       " '526 is played by [6]',\n",
       " '527 is played by [7]',\n",
       " '528 is played by [8]',\n",
       " '529 is played by [9]',\n",
       " '530 is played by [0]',\n",
       " '531 is played by [1]',\n",
       " '532 is played by [2]',\n",
       " '533 is played by [3]',\n",
       " '534 is played by [4]',\n",
       " '535 is played by [5]',\n",
       " '536 is played by [6]',\n",
       " '537 is played by [7]',\n",
       " '538 is played by [8]',\n",
       " '539 is played by [9]',\n",
       " '540 is played by [0]',\n",
       " '541 is played by [1]',\n",
       " '542 is played by [2]',\n",
       " '543 is played by [3]',\n",
       " '544 is played by [4]',\n",
       " '545 is played by [5]',\n",
       " '546 is played by [6]',\n",
       " '547 is played by [7]',\n",
       " '548 is played by [8]',\n",
       " '549 is played by [9]',\n",
       " '550 is played by [0]',\n",
       " '551 is played by [1]',\n",
       " '552 is played by [2]',\n",
       " '553 is played by [3]',\n",
       " '554 is played by [4]',\n",
       " '555 is played by [5]',\n",
       " '556 is played by [6]',\n",
       " '557 is played by [7]',\n",
       " '558 is played by [8]',\n",
       " '559 is played by [9]',\n",
       " '560 is played by [0]',\n",
       " '561 is played by [1]',\n",
       " '562 is played by [2]',\n",
       " '563 is played by [3]',\n",
       " '564 is played by [4]',\n",
       " '565 is played by [5]',\n",
       " '566 is played by [6]',\n",
       " '567 is played by [7]',\n",
       " '568 is played by [8]',\n",
       " '569 is played by [9]',\n",
       " '570 is played by [0]',\n",
       " '571 is played by [1]',\n",
       " '572 is played by [2]',\n",
       " '573 is played by [3]',\n",
       " '574 is played by [4]',\n",
       " '575 is played by [5]',\n",
       " '576 is played by [6]',\n",
       " '577 is played by [7]',\n",
       " '578 is played by [8]',\n",
       " '579 is played by [9]',\n",
       " '580 is played by [0]',\n",
       " '581 is played by [1]',\n",
       " '582 is played by [2]',\n",
       " '583 is played by [3]',\n",
       " '584 is played by [4]',\n",
       " '585 is played by [5]',\n",
       " '586 is played by [6]',\n",
       " '587 is played by [7]',\n",
       " '588 is played by [8]',\n",
       " '589 is played by [9]',\n",
       " '590 is played by [0]',\n",
       " '591 is played by [1]',\n",
       " '592 is played by [2]',\n",
       " '593 is played by [3]',\n",
       " '594 is played by [4]',\n",
       " '595 is played by [5]',\n",
       " '596 is played by [6]',\n",
       " '597 is played by [7]',\n",
       " '598 is played by [8]',\n",
       " '599 is played by [9]',\n",
       " '600 is played by [0]',\n",
       " '601 is played by [1]',\n",
       " '602 is played by [2]',\n",
       " '603 is played by [3]',\n",
       " '604 is played by [4]',\n",
       " '605 is played by [5]',\n",
       " '606 is played by [6]',\n",
       " '607 is played by [7]',\n",
       " '608 is played by [8]',\n",
       " '609 is played by [9]',\n",
       " '610 is played by [0]',\n",
       " '611 is played by [1]',\n",
       " '612 is played by [2]',\n",
       " '613 is played by [3]',\n",
       " '614 is played by [4]',\n",
       " '615 is played by [5]',\n",
       " '616 is played by [6]',\n",
       " '617 is played by [7]',\n",
       " '618 is played by [8]',\n",
       " '619 is played by [9]',\n",
       " '620 is played by [0]',\n",
       " '621 is played by [1]',\n",
       " '622 is played by [2]',\n",
       " '623 is played by [3]',\n",
       " '624 is played by [4]',\n",
       " '625 is played by [5]',\n",
       " '626 is played by [6]',\n",
       " '627 is played by [7]',\n",
       " '628 is played by [8]',\n",
       " '629 is played by [9]',\n",
       " '630 is played by [0]',\n",
       " '631 is played by [1]',\n",
       " '632 is played by [2]',\n",
       " '633 is played by [3]',\n",
       " '634 is played by [4]',\n",
       " '635 is played by [5]',\n",
       " '636 is played by [6]',\n",
       " '637 is played by [7]',\n",
       " '638 is played by [8]',\n",
       " '639 is played by [9]',\n",
       " '640 is played by [0]',\n",
       " '641 is played by [1]',\n",
       " '642 is played by [2]',\n",
       " '643 is played by [3]',\n",
       " '644 is played by [4]',\n",
       " '645 is played by [5]',\n",
       " '646 is played by [6]',\n",
       " '647 is played by [7]',\n",
       " '648 is played by [8]',\n",
       " '649 is played by [9]',\n",
       " '650 is played by [0]',\n",
       " '651 is played by [1]',\n",
       " '652 is played by [2]',\n",
       " '653 is played by [3]',\n",
       " '654 is played by [4]',\n",
       " '655 is played by [5]',\n",
       " '656 is played by [6]',\n",
       " '657 is played by [7]',\n",
       " '658 is played by [8]',\n",
       " '659 is played by [9]',\n",
       " '660 is played by [0]',\n",
       " '661 is played by [1]',\n",
       " '662 is played by [2]',\n",
       " '663 is played by [3]',\n",
       " '664 is played by [4]',\n",
       " '665 is played by [5]',\n",
       " '666 is played by [6]',\n",
       " '667 is played by [7]',\n",
       " '668 is played by [8]',\n",
       " '669 is played by [9]',\n",
       " '670 is played by [0]',\n",
       " '671 is played by [1]',\n",
       " '672 is played by [2]',\n",
       " '673 is played by [3]',\n",
       " '674 is played by [4]',\n",
       " '675 is played by [5]',\n",
       " '676 is played by [6]',\n",
       " '677 is played by [7]',\n",
       " '678 is played by [8]',\n",
       " '679 is played by [9]',\n",
       " '680 is played by [0]',\n",
       " '681 is played by [1]',\n",
       " '682 is played by [2]',\n",
       " '683 is played by [3]',\n",
       " '684 is played by [4]',\n",
       " '685 is played by [5]',\n",
       " '686 is played by [6]',\n",
       " '687 is played by [7]',\n",
       " '688 is played by [8]',\n",
       " '689 is played by [9]',\n",
       " '690 is played by [0]',\n",
       " '691 is played by [1]',\n",
       " '692 is played by [2]',\n",
       " '693 is played by [3]',\n",
       " '694 is played by [4]',\n",
       " '695 is played by [5]',\n",
       " '696 is played by [6]',\n",
       " '697 is played by [7]',\n",
       " '698 is played by [8]',\n",
       " '699 is played by [9]',\n",
       " '700 is played by [0]',\n",
       " '701 is played by [1]',\n",
       " '702 is played by [2]',\n",
       " '703 is played by [3]',\n",
       " '704 is played by [4]',\n",
       " '705 is played by [5]',\n",
       " '706 is played by [6]',\n",
       " '707 is played by [7]',\n",
       " '708 is played by [8]',\n",
       " '709 is played by [9]',\n",
       " '710 is played by [0]',\n",
       " '711 is played by [1]',\n",
       " '712 is played by [2]',\n",
       " '713 is played by [3]',\n",
       " '714 is played by [4]',\n",
       " '715 is played by [5]',\n",
       " '716 is played by [6]',\n",
       " '717 is played by [7]',\n",
       " '718 is played by [8]',\n",
       " '719 is played by [9]',\n",
       " '720 is played by [0]',\n",
       " '721 is played by [1]',\n",
       " '722 is played by [2]',\n",
       " '723 is played by [3]',\n",
       " '724 is played by [4]',\n",
       " '725 is played by [5]',\n",
       " '726 is played by [6]',\n",
       " '727 is played by [7]',\n",
       " '728 is played by [8]',\n",
       " '729 is played by [9]',\n",
       " '730 is played by [0]',\n",
       " '731 is played by [1]',\n",
       " '732 is played by [2]',\n",
       " '733 is played by [3]',\n",
       " '734 is played by [4]',\n",
       " '735 is played by [5]',\n",
       " '736 is played by [6]',\n",
       " '737 is played by [7]',\n",
       " '738 is played by [8]',\n",
       " '739 is played by [9]',\n",
       " '740 is played by [0]',\n",
       " '741 is played by [1]',\n",
       " '742 is played by [2]',\n",
       " '743 is played by [3]',\n",
       " '744 is played by [4]',\n",
       " '745 is played by [5]',\n",
       " '746 is played by [6]',\n",
       " '747 is played by [7]',\n",
       " '748 is played by [8]',\n",
       " '749 is played by [9]',\n",
       " '750 is played by [0]',\n",
       " '751 is played by [1]',\n",
       " '752 is played by [2]',\n",
       " '753 is played by [3]',\n",
       " '754 is played by [4]',\n",
       " '755 is played by [5]',\n",
       " '756 is played by [6]',\n",
       " '757 is played by [7]',\n",
       " '758 is played by [8]',\n",
       " '759 is played by [9]',\n",
       " '760 is played by [0]',\n",
       " '761 is played by [1]',\n",
       " '762 is played by [2]',\n",
       " '763 is played by [3]',\n",
       " '764 is played by [4]',\n",
       " '765 is played by [5]',\n",
       " '766 is played by [6]',\n",
       " '767 is played by [7]',\n",
       " '768 is played by [8]',\n",
       " '769 is played by [9]',\n",
       " '770 is played by [0]',\n",
       " '771 is played by [1]',\n",
       " '772 is played by [2]',\n",
       " '773 is played by [3]',\n",
       " '774 is played by [4]',\n",
       " '775 is played by [5]',\n",
       " '776 is played by [6]',\n",
       " '777 is played by [7]',\n",
       " '778 is played by [8]',\n",
       " '779 is played by [9]',\n",
       " '780 is played by [0]',\n",
       " '781 is played by [1]',\n",
       " '782 is played by [2]',\n",
       " '783 is played by [3]',\n",
       " '784 is played by [4]',\n",
       " '785 is played by [5]',\n",
       " '786 is played by [6]',\n",
       " '787 is played by [7]',\n",
       " '788 is played by [8]',\n",
       " '789 is played by [9]',\n",
       " '790 is played by [0]',\n",
       " '791 is played by [1]',\n",
       " '792 is played by [2]',\n",
       " '793 is played by [3]',\n",
       " '794 is played by [4]',\n",
       " '795 is played by [5]',\n",
       " '796 is played by [6]',\n",
       " '797 is played by [7]',\n",
       " '798 is played by [8]',\n",
       " '799 is played by [9]',\n",
       " '800 is played by [0]',\n",
       " '801 is played by [1]',\n",
       " '802 is played by [2]',\n",
       " '803 is played by [3]',\n",
       " '804 is played by [4]',\n",
       " '805 is played by [5]',\n",
       " '806 is played by [6]',\n",
       " '807 is played by [7]',\n",
       " '808 is played by [8]',\n",
       " '809 is played by [9]',\n",
       " '810 is played by [0]',\n",
       " '811 is played by [1]',\n",
       " '812 is played by [2]',\n",
       " '813 is played by [3]',\n",
       " '814 is played by [4]',\n",
       " '815 is played by [5]',\n",
       " '816 is played by [6]',\n",
       " '817 is played by [7]',\n",
       " '818 is played by [8]',\n",
       " '819 is played by [9]',\n",
       " '820 is played by [0]',\n",
       " '821 is played by [1]',\n",
       " '822 is played by [2]',\n",
       " '823 is played by [3]',\n",
       " '824 is played by [4]',\n",
       " '825 is played by [5]',\n",
       " '826 is played by [6]',\n",
       " '827 is played by [7]',\n",
       " '828 is played by [8]',\n",
       " '829 is played by [9]',\n",
       " '830 is played by [0]',\n",
       " '831 is played by [1]',\n",
       " '832 is played by [2]',\n",
       " '833 is played by [3]',\n",
       " '834 is played by [4]',\n",
       " '835 is played by [5]',\n",
       " '836 is played by [6]',\n",
       " '837 is played by [7]',\n",
       " '838 is played by [8]',\n",
       " '839 is played by [9]',\n",
       " '840 is played by [0]',\n",
       " '841 is played by [1]',\n",
       " '842 is played by [2]',\n",
       " '843 is played by [3]',\n",
       " '844 is played by [4]',\n",
       " '845 is played by [5]',\n",
       " '846 is played by [6]',\n",
       " '847 is played by [7]',\n",
       " '848 is played by [8]',\n",
       " '849 is played by [9]',\n",
       " '850 is played by [0]',\n",
       " '851 is played by [1]',\n",
       " '852 is played by [2]',\n",
       " '853 is played by [3]',\n",
       " '854 is played by [4]',\n",
       " '855 is played by [5]',\n",
       " '856 is played by [6]',\n",
       " '857 is played by [7]',\n",
       " '858 is played by [8]',\n",
       " '859 is played by [9]',\n",
       " '860 is played by [0]',\n",
       " '861 is played by [1]',\n",
       " '862 is played by [2]',\n",
       " '863 is played by [3]',\n",
       " '864 is played by [4]',\n",
       " '865 is played by [5]',\n",
       " '866 is played by [6]',\n",
       " '867 is played by [7]',\n",
       " '868 is played by [8]',\n",
       " '869 is played by [9]',\n",
       " '870 is played by [0]',\n",
       " '871 is played by [1]',\n",
       " '872 is played by [2]',\n",
       " '873 is played by [3]',\n",
       " '874 is played by [4]',\n",
       " '875 is played by [5]',\n",
       " '876 is played by [6]',\n",
       " '877 is played by [7]',\n",
       " '878 is played by [8]',\n",
       " '879 is played by [9]',\n",
       " '880 is played by [0]',\n",
       " '881 is played by [1]',\n",
       " '882 is played by [2]',\n",
       " '883 is played by [3]',\n",
       " '884 is played by [4]',\n",
       " '885 is played by [5]',\n",
       " '886 is played by [6]',\n",
       " '887 is played by [7]',\n",
       " '888 is played by [8]',\n",
       " '889 is played by [9]',\n",
       " '890 is played by [0]',\n",
       " '891 is played by [1]',\n",
       " '892 is played by [2]',\n",
       " '893 is played by [3]',\n",
       " '894 is played by [4]',\n",
       " '895 is played by [5]',\n",
       " '896 is played by [6]',\n",
       " '897 is played by [7]',\n",
       " '898 is played by [8]',\n",
       " '899 is played by [9]',\n",
       " '900 is played by [0]',\n",
       " '901 is played by [1]',\n",
       " '902 is played by [2]',\n",
       " '903 is played by [3]',\n",
       " '904 is played by [4]',\n",
       " '905 is played by [5]',\n",
       " '906 is played by [6]',\n",
       " '907 is played by [7]',\n",
       " '908 is played by [8]',\n",
       " '909 is played by [9]',\n",
       " '910 is played by [0]',\n",
       " '911 is played by [1]',\n",
       " '912 is played by [2]',\n",
       " '913 is played by [3]',\n",
       " '914 is played by [4]',\n",
       " '915 is played by [5]',\n",
       " '916 is played by [6]',\n",
       " '917 is played by [7]',\n",
       " '918 is played by [8]',\n",
       " '919 is played by [9]',\n",
       " '920 is played by [0]',\n",
       " '921 is played by [1]',\n",
       " '922 is played by [2]',\n",
       " '923 is played by [3]',\n",
       " '924 is played by [4]',\n",
       " '925 is played by [5]',\n",
       " '926 is played by [6]',\n",
       " '927 is played by [7]',\n",
       " '928 is played by [8]',\n",
       " '929 is played by [9]',\n",
       " '930 is played by [0]',\n",
       " '931 is played by [1]',\n",
       " '932 is played by [2]',\n",
       " '933 is played by [3]',\n",
       " '934 is played by [4]',\n",
       " '935 is played by [5]',\n",
       " '936 is played by [6]',\n",
       " '937 is played by [7]',\n",
       " '938 is played by [8]',\n",
       " '939 is played by [9]',\n",
       " '940 is played by [0]',\n",
       " '941 is played by [1]',\n",
       " '942 is played by [2]',\n",
       " '943 is played by [3]',\n",
       " '944 is played by [4]',\n",
       " '945 is played by [5]',\n",
       " '946 is played by [6]',\n",
       " '947 is played by [7]',\n",
       " '948 is played by [8]',\n",
       " '949 is played by [9]',\n",
       " '950 is played by [0]',\n",
       " '951 is played by [1]',\n",
       " '952 is played by [2]',\n",
       " '953 is played by [3]',\n",
       " '954 is played by [4]',\n",
       " '955 is played by [5]',\n",
       " '956 is played by [6]',\n",
       " '957 is played by [7]',\n",
       " '958 is played by [8]',\n",
       " '959 is played by [9]',\n",
       " '960 is played by [0]',\n",
       " '961 is played by [1]',\n",
       " '962 is played by [2]',\n",
       " '963 is played by [3]',\n",
       " '964 is played by [4]',\n",
       " '965 is played by [5]',\n",
       " '966 is played by [6]',\n",
       " '967 is played by [7]',\n",
       " '968 is played by [8]',\n",
       " '969 is played by [9]',\n",
       " '970 is played by [0]',\n",
       " '971 is played by [1]',\n",
       " '972 is played by [2]',\n",
       " '973 is played by [3]',\n",
       " '974 is played by [4]',\n",
       " '975 is played by [5]',\n",
       " '976 is played by [6]',\n",
       " '977 is played by [7]',\n",
       " '978 is played by [8]',\n",
       " '979 is played by [9]',\n",
       " '980 is played by [0]',\n",
       " '981 is played by [1]',\n",
       " '982 is played by [2]',\n",
       " '983 is played by [3]',\n",
       " '984 is played by [4]',\n",
       " '985 is played by [5]',\n",
       " '986 is played by [6]',\n",
       " '987 is played by [7]',\n",
       " '988 is played by [8]',\n",
       " '989 is played by [9]',\n",
       " '990 is played by [0]',\n",
       " '991 is played by [1]',\n",
       " '992 is played by [2]',\n",
       " '993 is played by [3]',\n",
       " '994 is played by [4]',\n",
       " '995 is played by [5]',\n",
       " '996 is played by [6]',\n",
       " '997 is played by [7]',\n",
       " '998 is played by [8]']"
      ]
     },
     "execution_count": 40,
     "metadata": {},
     "output_type": "execute_result"
    }
   ],
   "source": [
    "[str(k) + \" is played by \" + str(v) for (k,v) in mydict.items()]"
   ]
  },
  {
   "cell_type": "code",
   "execution_count": 41,
   "metadata": {},
   "outputs": [
    {
     "data": {
      "text/plain": [
       "[8, 8, 201]"
      ]
     },
     "execution_count": 41,
     "metadata": {},
     "output_type": "execute_result"
    }
   ],
   "source": [
    "[2*k+v for (k,v) in {4:0,3:2, 100:1}.items() ]"
   ]
  },
  {
   "cell_type": "markdown",
   "metadata": {},
   "source": [
    "Task 0.5.26: Suppose d is a dictionary that maps some employee IDs (a subset of the\n",
    "integers from 0 to n − 1) to salaries. <br>\n",
    "Suppose L is an n-element list whose ith element is\n",
    "the name of employee number i. Your goal is to write a comprehension whose value is a\n",
    "dictionary mapping employee names to salaries. You can assume that employee names are\n",
    "distinct.\n",
    "Test your comprehension with the following data:\n",
    "id2salary = {0:1000.0, 3:990, 1:1200.50}\n",
    "names = ['Larry', 'Curly', '', 'Moe']"
   ]
  },
  {
   "cell_type": "code",
   "execution_count": 43,
   "metadata": {},
   "outputs": [],
   "source": [
    "id2salary = {0:1000.0, 3:990, 1:1200.50} \n",
    "names = ['Larry', 'Curly', '', 'Moe']"
   ]
  },
  {
   "cell_type": "code",
   "execution_count": 45,
   "metadata": {},
   "outputs": [
    {
     "data": {
      "text/plain": [
       "{'Larry': 1000.0, 'Moe': 990, 'Curly': 1200.5}"
      ]
     },
     "execution_count": 45,
     "metadata": {},
     "output_type": "execute_result"
    }
   ],
   "source": [
    "{names[k]:v for(k,v) in id2salary.items() }"
   ]
  },
  {
   "cell_type": "markdown",
   "metadata": {},
   "source": [
    "Task 0.5.27: Try entering the definition of twice(z). After you enter the definition, you\n",
    "will see the ellipsis. Just press enter. Next, try invoking the procedure on some actual\n",
    "arguments. Just for fun, try strings or lists. Finally, verify that the variable z is now not\n",
    "bound to any value by asking Python to evaluate the expression consisting of z."
   ]
  },
  {
   "cell_type": "code",
   "execution_count": 46,
   "metadata": {},
   "outputs": [],
   "source": [
    "def twice(z): return 2*z"
   ]
  },
  {
   "cell_type": "code",
   "execution_count": 49,
   "metadata": {},
   "outputs": [
    {
     "data": {
      "text/plain": [
       "('a', 'b', 'a', 'b')"
      ]
     },
     "execution_count": 49,
     "metadata": {},
     "output_type": "execute_result"
    }
   ],
   "source": [
    "twice((\"a\",\"b\"))"
   ]
  },
  {
   "cell_type": "code",
   "execution_count": null,
   "metadata": {},
   "outputs": [],
   "source": []
  }
 ],
 "metadata": {
  "kernelspec": {
   "display_name": "Python [conda env:tensorflow]",
   "language": "python",
   "name": "conda-env-tensorflow-py"
  },
  "language_info": {
   "codemirror_mode": {
    "name": "ipython",
    "version": 3
   },
   "file_extension": ".py",
   "mimetype": "text/x-python",
   "name": "python",
   "nbconvert_exporter": "python",
   "pygments_lexer": "ipython3",
   "version": "3.6.6"
  }
 },
 "nbformat": 4,
 "nbformat_minor": 4
}
