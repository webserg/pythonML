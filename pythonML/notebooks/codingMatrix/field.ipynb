{
 "cells": [
  {
   "cell_type": "markdown",
   "metadata": {},
   "source": [
    "Thus 3i is the solution to the equation x2 = −9. Similarly, for any positive number b, the solution\n",
    "to x2 = −b is √b times i. The product of a real number and i is called an imaginary number.\n",
    "What about the equation (x−1)2 = −9? We can solve this by setting x−1 = 3i, which yields\n",
    "x = 1+3i. The sum of a real number and an imaginary number is called a complex number. A\n",
    "complex number has a real part and an imaginary part."
   ]
  },
  {
   "cell_type": "code",
   "execution_count": 1,
   "metadata": {},
   "outputs": [
    {
     "data": {
      "text/plain": [
       "3j"
      ]
     },
     "execution_count": 1,
     "metadata": {},
     "output_type": "execute_result"
    }
   ],
   "source": [
    "3j"
   ]
  },
  {
   "cell_type": "code",
   "execution_count": 2,
   "metadata": {},
   "outputs": [
    {
     "data": {
      "text/plain": [
       "5j"
      ]
     },
     "execution_count": 2,
     "metadata": {},
     "output_type": "execute_result"
    }
   ],
   "source": [
    "1j+4j"
   ]
  },
  {
   "cell_type": "code",
   "execution_count": 3,
   "metadata": {},
   "outputs": [
    {
     "data": {
      "text/plain": [
       "(-36+0j)"
      ]
     },
     "execution_count": 3,
     "metadata": {},
     "output_type": "execute_result"
    }
   ],
   "source": [
    "4*3j**2"
   ]
  },
  {
   "cell_type": "code",
   "execution_count": 4,
   "metadata": {},
   "outputs": [],
   "source": [
    "x=1+3j"
   ]
  },
  {
   "cell_type": "code",
   "execution_count": 5,
   "metadata": {},
   "outputs": [
    {
     "data": {
      "text/plain": [
       "1.0"
      ]
     },
     "execution_count": 5,
     "metadata": {},
     "output_type": "execute_result"
    }
   ],
   "source": [
    "x.real"
   ]
  },
  {
   "cell_type": "code",
   "execution_count": 6,
   "metadata": {},
   "outputs": [
    {
     "data": {
      "text/plain": [
       "3.0"
      ]
     },
     "execution_count": 6,
     "metadata": {},
     "output_type": "execute_result"
    }
   ],
   "source": [
    "x.imag"
   ]
  },
  {
   "cell_type": "code",
   "execution_count": 7,
   "metadata": {},
   "outputs": [
    {
     "data": {
      "text/plain": [
       "complex"
      ]
     },
     "execution_count": 7,
     "metadata": {},
     "output_type": "execute_result"
    }
   ],
   "source": [
    "type(1+2j)"
   ]
  },
  {
   "cell_type": "code",
   "execution_count": 6,
   "metadata": {},
   "outputs": [],
   "source": [
    "import plotting\n",
    "import matplotlib.pyplot as plt"
   ]
  },
  {
   "cell_type": "code",
   "execution_count": 4,
   "metadata": {},
   "outputs": [],
   "source": [
    "S = {2 + 2j,3 + 2j, 1.75 + 1j,2 + 1j, 2.25 +1j, 2.5 + 1j, 2.75 + 1j,3 + 1j, 3.25 + 1j}"
   ]
  },
  {
   "cell_type": "code",
   "execution_count": 10,
   "metadata": {},
   "outputs": [
    {
     "data": {
      "image/png": "[encoded data removed]",
      "text/plain": [
       "<Figure size 432x288 with 1 Axes>"
      ]
     },
     "metadata": {
      "needs_background": "light"
     },
     "output_type": "display_data"
    }
   ],
   "source": [
    "X = [x.real for x in S]\n",
    "Y = [x.imag for x in S]\n",
    "plt.scatter(X,Y, color='red')\n",
    "plt.show()\n",
    "plt.show()"
   ]
  },
  {
   "cell_type": "markdown",
   "metadata": {},
   "source": [
    "Бесконечное, по Кантору, можно \n",
    "брать или как процесс — как увеличение, например, натуральных \n",
    "чисел, удвоение длины отрезка или, наоборот, как уменьшение,  \n",
    "деление данного отрезка на все более мелкие части, — или как  \n",
    "актуально данное законченное множество (или величину).  \n",
    "Бесконечность как процесс не является, по Кантору, бесконечностью в  \n",
    "собственном смысле: на каждом шаге, в каждой фазе этого процесса, \n",
    "хотя и безграничного, мы имеем дело лишь с конечной величиной, \n",
    "а в целом — с переменной конечной величиной. Эта  \n",
    "«несобственная бесконечность» и называется потенциальной бесконечностью. \n"
   ]
  },
  {
   "cell_type": "markdown",
   "metadata": {},
   "source": [
    "## H1. Abstracting over fields\n",
    "\n",
    "In programming languages, use of the same name (e.g. +) for different procedures operating\n",
    "on values of different datatypes is called overloading. Here’s an example of why it’s useful in\n",
    "the present context. Let us write a procedure solve1(a,b, c) to solve an equation of the form\n",
    "ax + b = c where a is nonzero:\n"
   ]
  },
  {
   "cell_type": "markdown",
   "metadata": {},
   "source": [
    "The procedure works even with complex arguments because the correctness of the procedure\n",
    "\n",
    "does not depend on what kind of numbers are supplied to it; it depends only on the fact that the\n",
    "\n",
    "divide operator is the inverse of the multiply operator and the subtract operator is the inverse of\n",
    "\n",
    "the add operator.\n",
    "The power of this idea goes well beyond this simple procedure. Much of linear algebra—\n",
    "\n",
    "concepts, theorems, and, yes, procedures—works not just for the real numbers but also for the\n",
    "\n",
    "complex numbers and for other kinds of numbers as well. The strategy for achieving this is\n",
    "\n",
    "simple:\n",
    "\n",
    "• The concepts, theorems, and procedures are stated in terms of the arithmetic operators +,\n",
    "\n",
    "-, *, and /.\n",
    "\n",
    "• They assume only that these operators satisfy certain basic laws, such as commutativity\n",
    "(a + b = b + a) and distributivity (a(b + c) = ab + ac).\n",
    "\n",
    "Because the concepts, theorems, and procedures rely only on these basic laws, we can “plug in”\n",
    "\n",
    "any system of numbers, called a field.1 Different fields arise in different applications.\n",
    "In this book, we illustrate the generality of linear algebra with three different fields.\n",
    "\n",
    "• R, the field of real numbers,\n",
    "\n",
    "• C, the field of complex numbers, and\n",
    "\n",
    "• GF(2), a field that consists of 0 and 1.\n",
    "\n",
    "In object-oriented programming, one can use the name of a class to refer to the set of instances\n",
    "\n",
    "of that class, e.g. we refer to instances of the class Rectangle as Rectangles. In mathematics,\n",
    "one uses the name of the field, e.g. R or GF(2), to refer also to the set of values."
   ]
  },
  {
   "cell_type": "code",
   "execution_count": 1,
   "metadata": {},
   "outputs": [],
   "source": [
    "def solve1(a,b,c): return (c-b)/a"
   ]
  },
  {
   "cell_type": "code",
   "execution_count": 2,
   "metadata": {},
   "outputs": [
    {
     "data": {
      "text/plain": [
       "2.5"
      ]
     },
     "execution_count": 2,
     "metadata": {},
     "output_type": "execute_result"
    }
   ],
   "source": [
    "solve1(10, 5, 30)"
   ]
  },
  {
   "cell_type": "code",
   "execution_count": 3,
   "metadata": {},
   "outputs": [
    {
     "data": {
      "text/plain": [
       "(1.2-0.6j)"
      ]
     },
     "execution_count": 3,
     "metadata": {},
     "output_type": "execute_result"
    }
   ],
   "source": [
    "solve1(10+5j, 5, 20)"
   ]
  },
  {
   "cell_type": "code",
   "execution_count": 4,
   "metadata": {},
   "outputs": [
    {
     "ename": "ModuleNotFoundError",
     "evalue": "No module named 'GF2'",
     "output_type": "error",
     "traceback": [
      "\u001b[1;31m---------------------------------------------------------------------------\u001b[0m",
      "\u001b[1;31mModuleNotFoundError\u001b[0m                       Traceback (most recent call last)",
      "\u001b[1;32m<ipython-input-4-1dbdaa885d5c>\u001b[0m in \u001b[0;36m<module>\u001b[1;34m\u001b[0m\n\u001b[1;32m----> 1\u001b[1;33m \u001b[1;32mfrom\u001b[0m \u001b[0mGF2\u001b[0m \u001b[1;32mimport\u001b[0m \u001b[0mone\u001b[0m\u001b[1;33m\u001b[0m\u001b[0m\n\u001b[0m",
      "\u001b[1;31mModuleNotFoundError\u001b[0m: No module named 'GF2'"
     ]
    }
   ],
   "source": [
    "from GF2 import one"
   ]
  },
  {
   "cell_type": "markdown",
   "metadata": {},
   "source": [
    "## Problem 1.7.1: \n",
    "my filter(L, num)\n",
    "input: list of numbers and a positive integer.\n",
    "\n",
    "output: list of numbers not containing a multiple of num.\n",
    "\n",
    "example: given list = [1,2,4,5,7] and num = 2, return [1,5,7].\n"
   ]
  },
  {
   "cell_type": "code",
   "execution_count": 8,
   "metadata": {},
   "outputs": [],
   "source": [
    "def my_filter(L, num): return [x for x in L if x % num != 0 ]"
   ]
  },
  {
   "cell_type": "code",
   "execution_count": 9,
   "metadata": {},
   "outputs": [
    {
     "data": {
      "text/plain": [
       "[1, 5, 7]"
      ]
     },
     "execution_count": 9,
     "metadata": {},
     "output_type": "execute_result"
    }
   ],
   "source": [
    "list = [1,2,4,5,7]\n",
    "num = 2\n",
    "my_filter(list, num)"
   ]
  },
  {
   "cell_type": "markdown",
   "metadata": {},
   "source": [
    "## Problem 1.7.2: my lists(L)\n",
    "input: list L of non-negative integers.\n",
    "\n",
    "output: a list of lists: for every element x in L create a list containing 1, 2, . . . ,x.\n",
    "\n",
    "example: given [1,2,4] return [[1],[1,2],[1,2,3,4]]. example: given [0] return [[]].\n"
   ]
  },
  {
   "cell_type": "code",
   "execution_count": 1,
   "metadata": {},
   "outputs": [
    {
     "data": {
      "text/plain": [
       "[[], [1], [1, 2, 3]]"
      ]
     },
     "execution_count": 1,
     "metadata": {},
     "output_type": "execute_result"
    }
   ],
   "source": [
    "def my_list(L): return [list(range(1,x)) for x in L]\n",
    "my_list([1,2,4])"
   ]
  },
  {
   "cell_type": "code",
   "execution_count": 2,
   "metadata": {},
   "outputs": [
    {
     "data": {
      "text/plain": [
       "[[1], [1, 2], [1, 2, 3, 4]]"
      ]
     },
     "execution_count": 2,
     "metadata": {},
     "output_type": "execute_result"
    }
   ],
   "source": [
    "[list(range(1,x+1)) for x in [1,2,4]]"
   ]
  },
  {
   "cell_type": "code",
   "execution_count": 4,
   "metadata": {},
   "outputs": [],
   "source": [
    "l=list(range(1,10))"
   ]
  },
  {
   "cell_type": "markdown",
   "metadata": {},
   "source": [
    "## Problem 1.7.3: my function composition(f,g)\n",
    "input: two functions f and g, represented as dictionaries, such that g ◦ f exists.\n",
    "\n",
    "output: dictionary that represents the function g ◦ f.\n",
    "\n",
    "example: given f = {0:’a’, 1:’b’} and g = {’a’:’apple’, ’b’:’banana’}, return {0:’apple’, 1:’banana’}.\n"
   ]
  },
  {
   "cell_type": "code",
   "execution_count": 6,
   "metadata": {},
   "outputs": [],
   "source": [
    "f = {0:'a', 1:'b'} \n",
    "g = {'a':'apple', 'b':'banana'}"
   ]
  },
  {
   "cell_type": "code",
   "execution_count": 9,
   "metadata": {},
   "outputs": [],
   "source": [
    "def my_function_composition(f,g): return {k:g[v] for(k,v) in f.items() }\n",
    "    "
   ]
  },
  {
   "cell_type": "code",
   "execution_count": 10,
   "metadata": {},
   "outputs": [
    {
     "data": {
      "text/plain": [
       "{0: 'apple', 1: 'banana'}"
      ]
     },
     "execution_count": 10,
     "metadata": {},
     "output_type": "execute_result"
    }
   ],
   "source": [
    "my_function_composition(f,g)"
   ]
  }
 ],
 "metadata": {
  "kernelspec": {
   "display_name": "Python [conda env:tensorflow]",
   "language": "python",
   "name": "conda-env-tensorflow-py"
  },
  "language_info": {
   "codemirror_mode": {
    "name": "ipython",
    "version": 3
   },
   "file_extension": ".py",
   "mimetype": "text/x-python",
   "name": "python",
   "nbconvert_exporter": "python",
   "pygments_lexer": "ipython3",
   "version": "3.6.6"
  }
 },
 "nbformat": 4,
 "nbformat_minor": 4
}
