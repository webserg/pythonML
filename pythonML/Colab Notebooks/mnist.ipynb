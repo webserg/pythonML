{
 "cells": [
  {
   "cell_type": "code",
   "execution_count": 1,
   "metadata": {
    "colab": {
     "autoexec": {
      "startup": false,
      "wait_interval": 0
     },
     "base_uri": "https://localhost:8080/",
     "height": 34
    },
    "colab_type": "code",
    "executionInfo": {
     "elapsed": 2627,
     "status": "ok",
     "timestamp": 1526831693853,
     "user": {
      "displayName": "Sergiy Doroshenko",
      "photoUrl": "//lh5.googleusercontent.com/-ZHU_BWQI6Dk/AAAAAAAAAAI/AAAAAAAACRQ/Greo3A_fYWk/s50-c-k-no/photo.jpg",
      "userId": "103686202862696076454"
     },
     "user_tz": -180
    },
    "id": "qd1NMKMHQYYz",
    "outputId": "d41fcea8-7d25-4e51-9afb-12c0254fa854"
   },
   "outputs": [
    {
     "name": "stderr",
     "output_type": "stream",
     "text": [
      "Using TensorFlow backend.\n"
     ]
    }
   ],
   "source": [
    "'''Trains a simple convnet on the MNIST dataset.\n",
    "\n",
    "Gets to 99.25% test accuracy after 12 epochs\n",
    "(there is still a lot of margin for parameter tuning).\n",
    "16 seconds per epoch on a GRID K520 GPU.\n",
    "'''\n",
    "\n",
    "from __future__ import print_function\n",
    "import keras\n",
    "from keras.datasets import mnist\n",
    "from keras.models import Sequential\n",
    "from keras.layers import Dense, Dropout, Flatten\n",
    "from keras.layers import Conv2D, MaxPooling2D\n",
    "from keras import backend as K"
   ]
  },
  {
   "cell_type": "code",
   "execution_count": null,
   "metadata": {
    "colab": {
     "autoexec": {
      "startup": false,
      "wait_interval": 0
     }
    },
    "colab_type": "code",
    "id": "Z4-sVM_TQj3u"
   },
   "outputs": [],
   "source": [
    "batch_size = 128\n",
    "num_classes = 10\n",
    "epochs = 12\n",
    "\n",
    "# input image dimensions\n",
    "img_rows, img_cols = 28, 28"
   ]
  },
  {
   "cell_type": "code",
   "execution_count": 3,
   "metadata": {
    "colab": {
     "autoexec": {
      "startup": false,
      "wait_interval": 0
     },
     "base_uri": "https://localhost:8080/",
     "height": 101
    },
    "colab_type": "code",
    "executionInfo": {
     "elapsed": 1957,
     "status": "ok",
     "timestamp": 1526831738063,
     "user": {
      "displayName": "Sergiy Doroshenko",
      "photoUrl": "//lh5.googleusercontent.com/-ZHU_BWQI6Dk/AAAAAAAAAAI/AAAAAAAACRQ/Greo3A_fYWk/s50-c-k-no/photo.jpg",
      "userId": "103686202862696076454"
     },
     "user_tz": -180
    },
    "id": "ZjKt3A68QtJg",
    "outputId": "8690785c-6d82-41f6-b106-30a3efff462e"
   },
   "outputs": [
    {
     "name": "stdout",
     "output_type": "stream",
     "text": [
      "Downloading data from https://s3.amazonaws.com/img-datasets/mnist.npz\n",
      "11493376/11490434 [==============================] - 1s 0us/step\n",
      "x_train shape: (60000, 28, 28, 1)\n",
      "60000 train samples\n",
      "10000 test samples\n"
     ]
    }
   ],
   "source": [
    "# the data, split between train and test sets\n",
    "(x_train, y_train), (x_test, y_test) = mnist.load_data()\n",
    "\n",
    "if K.image_data_format() == 'channels_first':\n",
    "    x_train = x_train.reshape(x_train.shape[0], 1, img_rows, img_cols)\n",
    "    x_test = x_test.reshape(x_test.shape[0], 1, img_rows, img_cols)\n",
    "    input_shape = (1, img_rows, img_cols)\n",
    "else:\n",
    "    x_train = x_train.reshape(x_train.shape[0], img_rows, img_cols, 1)\n",
    "    x_test = x_test.reshape(x_test.shape[0], img_rows, img_cols, 1)\n",
    "    input_shape = (img_rows, img_cols, 1)\n",
    "\n",
    "x_train = x_train.astype('float32')\n",
    "x_test = x_test.astype('float32')\n",
    "x_train /= 255\n",
    "x_test /= 255\n",
    "print('x_train shape:', x_train.shape)\n",
    "print(x_train.shape[0], 'train samples')\n",
    "print(x_test.shape[0], 'test samples')"
   ]
  },
  {
   "cell_type": "code",
   "execution_count": null,
   "metadata": {
    "colab": {
     "autoexec": {
      "startup": false,
      "wait_interval": 0
     }
    },
    "colab_type": "code",
    "id": "EuyF9zlEQ3y7"
   },
   "outputs": [],
   "source": [
    "# convert class vectors to binary class matrices\n",
    "y_train = keras.utils.to_categorical(y_train, num_classes)\n",
    "y_test = keras.utils.to_categorical(y_test, num_classes)\n",
    "\n",
    "model = Sequential()\n",
    "model.add(Conv2D(32, kernel_size=(3, 3),\n",
    "                 activation='relu',\n",
    "                 input_shape=input_shape))\n",
    "model.add(Conv2D(64, (3, 3), activation='relu'))\n",
    "model.add(MaxPooling2D(pool_size=(2, 2)))\n",
    "model.add(Dropout(0.25))\n",
    "model.add(Flatten())\n",
    "model.add(Dense(128, activation='relu'))\n",
    "model.add(Dropout(0.5))\n",
    "model.add(Dense(num_classes, activation='softmax'))\n",
    "\n",
    "model.compile(loss=keras.losses.categorical_crossentropy,\n",
    "              optimizer=keras.optimizers.Adadelta(),\n",
    "              metrics=['accuracy'])"
   ]
  },
  {
   "cell_type": "code",
   "execution_count": 5,
   "metadata": {
    "colab": {
     "autoexec": {
      "startup": false,
      "wait_interval": 0
     },
     "base_uri": "https://localhost:8080/",
     "height": 490
    },
    "colab_type": "code",
    "executionInfo": {
     "elapsed": 223504,
     "status": "ok",
     "timestamp": 1526832065977,
     "user": {
      "displayName": "Sergiy Doroshenko",
      "photoUrl": "//lh5.googleusercontent.com/-ZHU_BWQI6Dk/AAAAAAAAAAI/AAAAAAAACRQ/Greo3A_fYWk/s50-c-k-no/photo.jpg",
      "userId": "103686202862696076454"
     },
     "user_tz": -180
    },
    "id": "DCr6eDA7Q88v",
    "outputId": "3a089938-55ac-456d-fc1c-787a4dccfec7"
   },
   "outputs": [
    {
     "name": "stdout",
     "output_type": "stream",
     "text": [
      "Train on 60000 samples, validate on 10000 samples\n",
      "Epoch 1/12\n",
      "60000/60000 [==============================] - 20s 341us/step - loss: 0.2684 - acc: 0.9170 - val_loss: 0.0587 - val_acc: 0.9805\n",
      "Epoch 2/12\n",
      "43904/60000 [====================>.........] - ETA: 5s - loss: 0.0945 - acc: 0.970960000/60000 [==============================] - 20s 334us/step - loss: 0.0921 - acc: 0.9723 - val_loss: 0.0413 - val_acc: 0.9851\n",
      "Epoch 3/12\n",
      "60000/60000 [==============================] - 17s 290us/step - loss: 0.0699 - acc: 0.9796 - val_loss: 0.0384 - val_acc: 0.9875\n",
      "Epoch 4/12\n",
      "22912/60000 [==========>...................] - ETA: 10s - loss: 0.0557 - acc: 0.983660000/60000 [==============================] - 17s 289us/step - loss: 0.0578 - acc: 0.9825 - val_loss: 0.0334 - val_acc: 0.9887\n",
      "Epoch 5/12\n",
      "60000/60000 [==============================] - 17s 287us/step - loss: 0.0490 - acc: 0.9852 - val_loss: 0.0303 - val_acc: 0.9895\n",
      "Epoch 6/12\n",
      "15616/60000 [======>.......................] - ETA: 12s - loss: 0.0473 - acc: 0.986460000/60000 [==============================] - 20s 331us/step - loss: 0.0440 - acc: 0.9868 - val_loss: 0.0382 - val_acc: 0.9879\n",
      "Epoch 7/12\n",
      "60000/60000 [==============================] - 17s 285us/step - loss: 0.0395 - acc: 0.9879 - val_loss: 0.0352 - val_acc: 0.9888\n",
      "Epoch 8/12\n",
      "13952/60000 [=====>........................] - ETA: 13s - loss: 0.0331 - acc: 0.990160000/60000 [==============================] - 18s 293us/step - loss: 0.0350 - acc: 0.9888 - val_loss: 0.0302 - val_acc: 0.9896\n",
      "Epoch 9/12\n",
      "60000/60000 [==============================] - 18s 299us/step - loss: 0.0358 - acc: 0.9893 - val_loss: 0.0285 - val_acc: 0.9903\n",
      "Epoch 10/12\n",
      "10240/60000 [====>.........................] - ETA: 18s - loss: 0.0288 - acc: 0.990860000/60000 [==============================] - 20s 330us/step - loss: 0.0311 - acc: 0.9907 - val_loss: 0.0290 - val_acc: 0.9907\n",
      "Epoch 11/12\n",
      "60000/60000 [==============================] - 17s 291us/step - loss: 0.0294 - acc: 0.9907 - val_loss: 0.0300 - val_acc: 0.9903\n",
      "Epoch 12/12\n",
      "12928/60000 [=====>........................] - ETA: 13s - loss: 0.0274 - acc: 0.991760000/60000 [==============================] - 18s 293us/step - loss: 0.0284 - acc: 0.9914 - val_loss: 0.0305 - val_acc: 0.9907\n",
      "Test loss: 0.03054514358229435\n",
      "Test accuracy: 0.9907\n"
     ]
    }
   ],
   "source": [
    "history = model.fit(x_train, y_train,\n",
    "          batch_size=batch_size,\n",
    "          epochs=epochs,\n",
    "          verbose=1,\n",
    "          validation_data=(x_test, y_test))\n",
    "score = model.evaluate(x_test, y_test, verbose=0)\n",
    "print('Test loss:', score[0])\n",
    "print('Test accuracy:', score[1])"
   ]
  },
  {
   "cell_type": "code",
   "execution_count": 6,
   "metadata": {
    "colab": {
     "autoexec": {
      "startup": false,
      "wait_interval": 0
     },
     "base_uri": "https://localhost:8080/",
     "height": 706
    },
    "colab_type": "code",
    "executionInfo": {
     "elapsed": 1328,
     "status": "ok",
     "timestamp": 1526832276752,
     "user": {
      "displayName": "Sergiy Doroshenko",
      "photoUrl": "//lh5.googleusercontent.com/-ZHU_BWQI6Dk/AAAAAAAAAAI/AAAAAAAACRQ/Greo3A_fYWk/s50-c-k-no/photo.jpg",
      "userId": "103686202862696076454"
     },
     "user_tz": -180
    },
    "id": "jcNhHztfRDBD",
    "outputId": "a94f2a53-0b4b-4aaa-f255-b6b8bd3bd51a"
   },
   "outputs": [
    {
     "data": {
      "image/png": "[encoded data removed]",
      "text/plain": [
       "<matplotlib.figure.Figure at 0x7f0419541080>"
      ]
     },
     "metadata": {
      "tags": []
     },
     "output_type": "display_data"
    },
    {
     "data": {
      "image/png": "[encoded data removed]",
      "text/plain": [
       "<matplotlib.figure.Figure at 0x7f04195d2f60>"
      ]
     },
     "metadata": {
      "tags": []
     },
     "output_type": "display_data"
    }
   ],
   "source": [
    "import matplotlib.pyplot as plt\n",
    "\n",
    "acc = history.history['acc']\n",
    "val_acc = history.history['val_acc']\n",
    "loss = history.history['loss']\n",
    "val_loss = history.history['val_loss']\n",
    "\n",
    "epochs = range(len(acc))\n",
    "\n",
    "plt.plot(epochs, acc, 'bo', label='Training acc')\n",
    "plt.plot(epochs, val_acc, 'b', label='Validation acc')\n",
    "plt.title('Training and validation accuracy')\n",
    "plt.legend()\n",
    "\n",
    "plt.figure()\n",
    "\n",
    "plt.plot(epochs, loss, 'bo', label='Training loss')\n",
    "plt.plot(epochs, val_loss, 'b', label='Validation loss')\n",
    "plt.title('Training and validation loss')\n",
    "plt.legend()\n",
    "\n",
    "plt.show()"
   ]
  }
 ],
 "metadata": {
  "accelerator": "GPU",
  "colab": {
   "collapsed_sections": [],
   "default_view": {},
   "name": "mnist.ipynb",
   "provenance": [],
   "version": "0.3.2",
   "views": {}
  },
  "kernelspec": {
   "display_name": "Python 3",
   "language": "python",
   "name": "python3"
  },
  "language_info": {
   "codemirror_mode": {
    "name": "ipython",
    "version": 3
   },
   "file_extension": ".py",
   "mimetype": "text/x-python",
   "name": "python",
   "nbconvert_exporter": "python",
   "pygments_lexer": "ipython3",
   "version": "3.6.3"
  }
 },
 "nbformat": 4,
 "nbformat_minor": 2
}
