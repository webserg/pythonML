{
 "cells": [
  {
   "cell_type": "markdown",
   "metadata": {
    "id": "Xz5VM03vyFeb"
   },
   "source": [
    "# Reinforce & Advantage Actor Critic (A2C)"
   ]
  },
  {
   "cell_type": "markdown",
   "metadata": {
    "id": "mjm8RBoQyFed"
   },
   "source": [
    "[You can find the original paper here](https://arxiv.org/pdf/1602.01783.pdf)."
   ]
  },
  {
   "cell_type": "markdown",
   "metadata": {
    "id": "CWjie7h0zGdD"
   },
   "source": [
    "## Install, import and utilities"
   ]
  },
  {
   "cell_type": "code",
   "execution_count": 1,
   "metadata": {
    "colab": {
     "base_uri": "https://localhost:8080/"
    },
    "executionInfo": {
     "elapsed": 11825,
     "status": "ok",
     "timestamp": 1608977051153,
     "user": {
      "displayName": "Sergiy Doroshenko",
      "photoUrl": "https://lh3.googleusercontent.com/a-/AOh14GhO_OOptO_y2EjJ2hrYxPQ2_qQ4VechFVok2VnKEA=s64",
      "userId": "05232094350184309899"
     },
     "user_tz": -120
    },
    "id": "VrO05StZyFee",
    "outputId": "dbd11a42-f131-4f7c-c2f9-3fc5ce2bcd44"
   },
   "outputs": [
    {
     "name": "stdout",
     "output_type": "stream",
     "text": [
      "Requirement already satisfied: torch in /usr/local/lib/python3.6/dist-packages (1.7.0+cu101)\n",
      "Requirement already satisfied: torchvision in /usr/local/lib/python3.6/dist-packages (0.8.1+cu101)\n",
      "Collecting pyvirtualdisplay\n",
      "  Downloading https://files.pythonhosted.org/packages/d0/8a/643043cc70791367bee2d19eb20e00ed1a246ac48e5dbe57bbbcc8be40a9/PyVirtualDisplay-1.3.2-py2.py3-none-any.whl\n",
      "Requirement already satisfied: matplotlib in /usr/local/lib/python3.6/dist-packages (3.2.2)\n",
      "Requirement already satisfied: seaborn in /usr/local/lib/python3.6/dist-packages (0.11.0)\n",
      "Requirement already satisfied: pandas in /usr/local/lib/python3.6/dist-packages (1.1.5)\n",
      "Requirement already satisfied: numpy in /usr/local/lib/python3.6/dist-packages (1.19.4)\n",
      "Requirement already satisfied: pathlib in /usr/local/lib/python3.6/dist-packages (1.0.1)\n",
      "Requirement already satisfied: gym in /usr/local/lib/python3.6/dist-packages (0.17.3)\n",
      "Requirement already satisfied: dataclasses in /usr/local/lib/python3.6/dist-packages (from torch) (0.8)\n",
      "Requirement already satisfied: typing-extensions in /usr/local/lib/python3.6/dist-packages (from torch) (3.7.4.3)\n",
      "Requirement already satisfied: future in /usr/local/lib/python3.6/dist-packages (from torch) (0.16.0)\n",
      "Requirement already satisfied: pillow>=4.1.1 in /usr/local/lib/python3.6/dist-packages (from torchvision) (7.0.0)\n",
      "Collecting EasyProcess\n",
      "  Downloading https://files.pythonhosted.org/packages/48/3c/75573613641c90c6d094059ac28adb748560d99bd27ee6f80cce398f404e/EasyProcess-0.3-py2.py3-none-any.whl\n",
      "Requirement already satisfied: kiwisolver>=1.0.1 in /usr/local/lib/python3.6/dist-packages (from matplotlib) (1.3.1)\n",
      "Requirement already satisfied: cycler>=0.10 in /usr/local/lib/python3.6/dist-packages (from matplotlib) (0.10.0)\n",
      "Requirement already satisfied: pyparsing!=2.0.4,!=2.1.2,!=2.1.6,>=2.0.1 in /usr/local/lib/python3.6/dist-packages (from matplotlib) (2.4.7)\n",
      "Requirement already satisfied: python-dateutil>=2.1 in /usr/local/lib/python3.6/dist-packages (from matplotlib) (2.8.1)\n",
      "Requirement already satisfied: scipy>=1.0 in /usr/local/lib/python3.6/dist-packages (from seaborn) (1.4.1)\n",
      "Requirement already satisfied: pytz>=2017.2 in /usr/local/lib/python3.6/dist-packages (from pandas) (2018.9)\n",
      "Requirement already satisfied: pyglet<=1.5.0,>=1.4.0 in /usr/local/lib/python3.6/dist-packages (from gym) (1.5.0)\n",
      "Requirement already satisfied: cloudpickle<1.7.0,>=1.2.0 in /usr/local/lib/python3.6/dist-packages (from gym) (1.3.0)\n",
      "Requirement already satisfied: six in /usr/local/lib/python3.6/dist-packages (from cycler>=0.10->matplotlib) (1.15.0)\n",
      "Installing collected packages: EasyProcess, pyvirtualdisplay\n",
      "Successfully installed EasyProcess-0.3 pyvirtualdisplay-1.3.2\n",
      "Reading package lists... Done\n",
      "Building dependency tree       \n",
      "Reading state information... Done\n",
      "The following NEW packages will be installed:\n",
      "  xvfb\n",
      "0 upgraded, 1 newly installed, 0 to remove and 15 not upgraded.\n",
      "Need to get 784 kB of archives.\n",
      "After this operation, 2,270 kB of additional disk space will be used.\n",
      "Get:1 http://archive.ubuntu.com/ubuntu bionic-updates/universe amd64 xvfb amd64 2:1.19.6-1ubuntu4.8 [784 kB]\n",
      "Fetched 784 kB in 1s (970 kB/s)\n",
      "debconf: unable to initialize frontend: Dialog\n",
      "debconf: (No usable dialog-like program is installed, so the dialog based frontend cannot be used. at /usr/share/perl5/Debconf/FrontEnd/Dialog.pm line 76, <> line 1.)\n",
      "debconf: falling back to frontend: Readline\n",
      "debconf: unable to initialize frontend: Readline\n",
      "debconf: (This frontend requires a controlling tty.)\n",
      "debconf: falling back to frontend: Teletype\n",
      "dpkg-preconfigure: unable to re-open stdin: \n",
      "Selecting previously unselected package xvfb.\n",
      "(Reading database ... 145480 files and directories currently installed.)\n",
      "Preparing to unpack .../xvfb_2%3a1.19.6-1ubuntu4.8_amd64.deb ...\n",
      "Unpacking xvfb (2:1.19.6-1ubuntu4.8) ...\n",
      "Setting up xvfb (2:1.19.6-1ubuntu4.8) ...\n",
      "Processing triggers for man-db (2.8.3-2ubuntu0.1) ...\n"
     ]
    }
   ],
   "source": [
    "!pip install torch torchvision pyvirtualdisplay matplotlib seaborn pandas numpy pathlib gym\n",
    "!sudo apt-get install xvfb"
   ]
  },
  {
   "cell_type": "code",
   "execution_count": 2,
   "metadata": {
    "executionInfo": {
     "elapsed": 5995,
     "status": "ok",
     "timestamp": 1608977066002,
     "user": {
      "displayName": "Sergiy Doroshenko",
      "photoUrl": "https://lh3.googleusercontent.com/a-/AOh14GhO_OOptO_y2EjJ2hrYxPQ2_qQ4VechFVok2VnKEA=s64",
      "userId": "05232094350184309899"
     },
     "user_tz": -120
    },
    "id": "Yx0xvpJeyFel"
   },
   "outputs": [],
   "source": [
    "import torch\n",
    "import torch.nn as nn\n",
    "import torch.nn.functional as F \n",
    "from torch import optim\n",
    "import numpy as np\n",
    "import pandas as pd\n",
    "\n",
    "import matplotlib.pyplot as plt\n",
    "import seaborn as sns\n",
    "from pyvirtualdisplay import Display\n",
    "from IPython import display as ipythondisplay\n",
    "from IPython.display import clear_output\n",
    "from pathlib import Path\n",
    "\n",
    "import random, os.path, math, glob, csv, base64, itertools, sys\n",
    "import gym\n",
    "from gym.wrappers import Monitor\n",
    "from pprint import pprint\n",
    "\n",
    "# The following code is will be used to visualize the environments.\n",
    "\n",
    "def show_video(directory):\n",
    "    html = []\n",
    "    for mp4 in Path(directory).glob(\"*.mp4\"):\n",
    "        video_b64 = base64.b64encode(mp4.read_bytes())\n",
    "        html.append('''<video alt=\"{}\" autoplay \n",
    "                      loop controls style=\"height: 400px;\">\n",
    "                      <source src=\"data:video/mp4;base64,{}\" type=\"video/mp4\" />\n",
    "                 </video>'''.format(mp4, video_b64.decode('ascii')))\n",
    "    ipythondisplay.display(ipythondisplay.HTML(data=\"<br>\".join(html)))\n",
    "    \n",
    "display = Display(visible=0, size=(1400, 900))\n",
    "display.start();\n",
    "\n",
    "def make_seed(seed):\n",
    "    np.random.seed(seed=seed)\n",
    "    torch.manual_seed(seed=seed)"
   ]
  },
  {
   "cell_type": "markdown",
   "metadata": {
    "id": "pMy7W6NkyFeo"
   },
   "source": [
    "The following code is will be used to visualize the environments."
   ]
  },
  {
   "cell_type": "markdown",
   "metadata": {
    "id": "sL3r2QLayFeu"
   },
   "source": [
    "## Introduction\n",
    "\n",
    "In this tutorial we will focus on Deep Reinforcement Learning with **Reinforce** and the **Actor-Advantage Critic** algorithm. This tutorial is composed of:\n",
    "* An introduction to the deep learning framework: **PyTorch**, \n",
    "* A quick reminder of the RL setting,\n",
    "* A theoritical and coding approch of Reinforce\n",
    "* A theoritical and coding approch of A2C."
   ]
  },
  {
   "cell_type": "markdown",
   "metadata": {
    "id": "XsY-KC1myFeu"
   },
   "source": [
    "## Introduction to PyTorch"
   ]
  },
  {
   "cell_type": "markdown",
   "metadata": {
    "id": "Uu2UA5-uyFev"
   },
   "source": [
    "*If you already know PyTorch you can skip this part. From this part on we assume that you have some experience with Python and Numpy. This part is extracted from PyTorch docs.*\n",
    "\n",
    "PyTorch is a Python package that provides two high-level features:\n",
    "- Tensor computation (like NumPy) with strong GPU acceleration\n",
    "- Deep neural networks built on a tape-based autograd system\n",
    "\n",
    "At a granular level, PyTorch is a library that consists of the following components:\n",
    "\n",
    "| Component | Description |\n",
    "| ---- | --- |\n",
    "| [**torch**](https://pytorch.org/docs/stable/torch.html) | a Tensor library like NumPy, with strong GPU support |\n",
    "| [**torch.autograd**](https://pytorch.org/docs/stable/autograd.html) | a tape-based automatic differentiation library that supports all differentiable Tensor operations in torch |\n",
    "| [**torch.jit**](https://pytorch.org/docs/stable/jit.html) | a compilation stack (TorchScript) to create serializable and optimizable models from PyTorch code  |\n",
    "| [**torch.nn**](https://pytorch.org/docs/stable/nn.html) | a neural networks library deeply integrated with autograd designed for maximum flexibility |\n",
    "| [**torch.multiprocessing**](https://pytorch.org/docs/stable/multiprocessing.html) | Python multiprocessing, but with magical memory sharing of torch Tensors across processes. Useful for data loading and Hogwild training |\n",
    "| [**torch.utils**](https://pytorch.org/docs/stable/data.html) | DataLoader and other utility functions for convenience |\n",
    "\n"
   ]
  },
  {
   "cell_type": "markdown",
   "metadata": {
    "id": "A5rsYAuvyFew"
   },
   "source": [
    "PyTorch works in a very similar way as Numpy and PyTorch's Tensors are the equivalent of Numpy's Arrays."
   ]
  },
  {
   "cell_type": "markdown",
   "metadata": {
    "id": "HKlz3-vLyFex"
   },
   "source": [
    "You can initialize an zero filled tensor just like in numpy."
   ]
  },
  {
   "cell_type": "code",
   "execution_count": null,
   "metadata": {
    "colab": {
     "base_uri": "https://localhost:8080/"
    },
    "executionInfo": {
     "elapsed": 536,
     "status": "ok",
     "timestamp": 1608928905766,
     "user": {
      "displayName": "Sergiy Doroshenko",
      "photoUrl": "https://lh3.googleusercontent.com/a-/AOh14GhO_OOptO_y2EjJ2hrYxPQ2_qQ4VechFVok2VnKEA=s64",
      "userId": "05232094350184309899"
     },
     "user_tz": -120
    },
    "id": "UY-u1dchyFex",
    "outputId": "8f02a564-cb86-451f-ec01-41d7e1252475"
   },
   "outputs": [
    {
     "data": {
      "text/plain": [
       "tensor([[0., 0., 0.],\n",
       "        [0., 0., 0.],\n",
       "        [0., 0., 0.],\n",
       "        [0., 0., 0.],\n",
       "        [0., 0., 0.]])"
      ]
     },
     "execution_count": 3,
     "metadata": {
      "tags": []
     },
     "output_type": "execute_result"
    }
   ],
   "source": [
    "torch.zeros(5,3)"
   ]
  },
  {
   "cell_type": "code",
   "execution_count": null,
   "metadata": {
    "colab": {
     "base_uri": "https://localhost:8080/"
    },
    "executionInfo": {
     "elapsed": 610,
     "status": "ok",
     "timestamp": 1608928908152,
     "user": {
      "displayName": "Sergiy Doroshenko",
      "photoUrl": "https://lh3.googleusercontent.com/a-/AOh14GhO_OOptO_y2EjJ2hrYxPQ2_qQ4VechFVok2VnKEA=s64",
      "userId": "05232094350184309899"
     },
     "user_tz": -120
    },
    "id": "Nr6M39BHyFe1",
    "outputId": "6098daf1-45b4-49d7-dc44-e1744c9d00bb"
   },
   "outputs": [
    {
     "data": {
      "text/plain": [
       "tensor([[1., 0., 0.],\n",
       "        [0., 1., 0.],\n",
       "        [0., 0., 1.]])"
      ]
     },
     "execution_count": 4,
     "metadata": {
      "tags": []
     },
     "output_type": "execute_result"
    }
   ],
   "source": [
    "torch.eye(3)"
   ]
  },
  {
   "cell_type": "markdown",
   "metadata": {
    "id": "i8NsRchhyFe6"
   },
   "source": [
    "You can also convert an array to a tensor."
   ]
  },
  {
   "cell_type": "code",
   "execution_count": null,
   "metadata": {
    "colab": {
     "base_uri": "https://localhost:8080/"
    },
    "executionInfo": {
     "elapsed": 556,
     "status": "ok",
     "timestamp": 1608928911637,
     "user": {
      "displayName": "Sergiy Doroshenko",
      "photoUrl": "https://lh3.googleusercontent.com/a-/AOh14GhO_OOptO_y2EjJ2hrYxPQ2_qQ4VechFVok2VnKEA=s64",
      "userId": "05232094350184309899"
     },
     "user_tz": -120
    },
    "id": "eYKCvjXqyFe7",
    "outputId": "7b69df4d-70a3-412b-a5bb-0f7422d6e389"
   },
   "outputs": [
    {
     "data": {
      "text/plain": [
       "tensor([[1., 0., 0.],\n",
       "        [0., 1., 0.],\n",
       "        [0., 0., 1.]], dtype=torch.float64)"
      ]
     },
     "execution_count": 5,
     "metadata": {
      "tags": []
     },
     "output_type": "execute_result"
    }
   ],
   "source": [
    "torch.tensor(np.eye(3))"
   ]
  },
  {
   "cell_type": "markdown",
   "metadata": {
    "id": "WaABqYttyFfA"
   },
   "source": [
    "And you can transform a tensor to an array."
   ]
  },
  {
   "cell_type": "code",
   "execution_count": null,
   "metadata": {
    "colab": {
     "base_uri": "https://localhost:8080/"
    },
    "executionInfo": {
     "elapsed": 577,
     "status": "ok",
     "timestamp": 1608928915354,
     "user": {
      "displayName": "Sergiy Doroshenko",
      "photoUrl": "https://lh3.googleusercontent.com/a-/AOh14GhO_OOptO_y2EjJ2hrYxPQ2_qQ4VechFVok2VnKEA=s64",
      "userId": "05232094350184309899"
     },
     "user_tz": -120
    },
    "id": "F0XefR9dyFfB",
    "outputId": "406f4210-63c6-4f2c-8818-fd1c8253412d"
   },
   "outputs": [
    {
     "data": {
      "text/plain": [
       "array([[1., 0., 0.],\n",
       "       [0., 1., 0.],\n",
       "       [0., 0., 1.]])"
      ]
     },
     "execution_count": 6,
     "metadata": {
      "tags": []
     },
     "output_type": "execute_result"
    }
   ],
   "source": [
    "torch.tensor(np.eye(3)).numpy()"
   ]
  },
  {
   "cell_type": "markdown",
   "metadata": {
    "id": "ZVG0BE0RyFfH"
   },
   "source": [
    "You can sum, substract, multiply arrays just like in numpy."
   ]
  },
  {
   "cell_type": "code",
   "execution_count": null,
   "metadata": {
    "colab": {
     "base_uri": "https://localhost:8080/"
    },
    "executionInfo": {
     "elapsed": 540,
     "status": "ok",
     "timestamp": 1608928917322,
     "user": {
      "displayName": "Sergiy Doroshenko",
      "photoUrl": "https://lh3.googleusercontent.com/a-/AOh14GhO_OOptO_y2EjJ2hrYxPQ2_qQ4VechFVok2VnKEA=s64",
      "userId": "05232094350184309899"
     },
     "user_tz": -120
    },
    "id": "VQOUnDhByFfI",
    "outputId": "7218149d-54c1-494f-ab89-3bd3dbd739b3"
   },
   "outputs": [
    {
     "name": "stdout",
     "output_type": "stream",
     "text": [
      "tensor([[4, 4, 4],\n",
      "        [9, 3, 4]])\n"
     ]
    }
   ],
   "source": [
    "a = torch.randint(0,10,(2,3))\n",
    "print(a)"
   ]
  },
  {
   "cell_type": "code",
   "execution_count": null,
   "metadata": {
    "colab": {
     "base_uri": "https://localhost:8080/"
    },
    "executionInfo": {
     "elapsed": 590,
     "status": "ok",
     "timestamp": 1608928919419,
     "user": {
      "displayName": "Sergiy Doroshenko",
      "photoUrl": "https://lh3.googleusercontent.com/a-/AOh14GhO_OOptO_y2EjJ2hrYxPQ2_qQ4VechFVok2VnKEA=s64",
      "userId": "05232094350184309899"
     },
     "user_tz": -120
    },
    "id": "Vb6ZbeicyFfN",
    "outputId": "bfbac089-f7b3-4375-8719-b9ced81d5f52"
   },
   "outputs": [
    {
     "name": "stdout",
     "output_type": "stream",
     "text": [
      "tensor([[3, 5, 3],\n",
      "        [9, 5, 4]])\n"
     ]
    }
   ],
   "source": [
    "b = torch.randint(0,10,(2,3))\n",
    "print(b)"
   ]
  },
  {
   "cell_type": "code",
   "execution_count": null,
   "metadata": {
    "colab": {
     "base_uri": "https://localhost:8080/"
    },
    "executionInfo": {
     "elapsed": 576,
     "status": "ok",
     "timestamp": 1608928922248,
     "user": {
      "displayName": "Sergiy Doroshenko",
      "photoUrl": "https://lh3.googleusercontent.com/a-/AOh14GhO_OOptO_y2EjJ2hrYxPQ2_qQ4VechFVok2VnKEA=s64",
      "userId": "05232094350184309899"
     },
     "user_tz": -120
    },
    "id": "mQJcMF8ayFfe",
    "outputId": "449f8045-d0e7-41ee-99d9-3680c4bf1583"
   },
   "outputs": [
    {
     "name": "stdout",
     "output_type": "stream",
     "text": [
      "a + b = tensor([[ 7,  9,  7],\n",
      "        [18,  8,  8]])\n",
      "a * b = tensor([[12, 20, 12],\n",
      "        [81, 15, 16]])\n"
     ]
    }
   ],
   "source": [
    "print(f'a + b = {a + b}')\n",
    "print(f'a * b = {a * b}')"
   ]
  },
  {
   "cell_type": "markdown",
   "metadata": {
    "id": "Eigd9ij0yFfj"
   },
   "source": [
    "You can make matrix products."
   ]
  },
  {
   "cell_type": "code",
   "execution_count": null,
   "metadata": {
    "colab": {
     "base_uri": "https://localhost:8080/"
    },
    "executionInfo": {
     "elapsed": 565,
     "status": "ok",
     "timestamp": 1608928924261,
     "user": {
      "displayName": "Sergiy Doroshenko",
      "photoUrl": "https://lh3.googleusercontent.com/a-/AOh14GhO_OOptO_y2EjJ2hrYxPQ2_qQ4VechFVok2VnKEA=s64",
      "userId": "05232094350184309899"
     },
     "user_tz": -120
    },
    "id": "YQwH7cFjyFfk",
    "outputId": "2030a581-bc00-42f8-d138-ace9ddccad27"
   },
   "outputs": [
    {
     "data": {
      "text/plain": [
       "tensor([[ 44,  72],\n",
       "        [ 54, 112]])"
      ]
     },
     "execution_count": 10,
     "metadata": {
      "tags": []
     },
     "output_type": "execute_result"
    }
   ],
   "source": [
    "a @ b.t()"
   ]
  },
  {
   "cell_type": "markdown",
   "metadata": {
    "id": "G1c2c2A4yFfs"
   },
   "source": [
    "### AUTOGRAD: automatic differentiation"
   ]
  },
  {
   "cell_type": "markdown",
   "metadata": {
    "id": "GndhwBQ0yFft"
   },
   "source": [
    "The autograd package provides automatic differentiation for all operations on Tensors. It is a define-by-run framework, which means that your backprop is defined by how your code is run, and that every single iteration can be different.\n",
    "\n",
    "``torch.Tensor`` is the central class of the package. If you set its attribute\n",
    "``.requires_grad`` as ``True``, it starts to track all operations on it. When\n",
    "you finish your computation you can call ``.backward()`` and have all the\n",
    "gradients computed automatically. The gradient for this tensor will be\n",
    "accumulated into ``.grad`` attribute.\n",
    "\n",
    "To stop a tensor from tracking history, you can call ``.detach()`` to detach\n",
    "it from the computation history, and to prevent future computation from being\n",
    "tracked.\n",
    "\n",
    "To prevent tracking history (and using memory), you can also wrap the code block\n",
    "in ``with torch.no_grad():``. This can be particularly helpful when evaluating a\n",
    "model because the model may have trainable parameters with\n",
    "``requires_grad=True``, but for which we don't need the gradients.\n",
    "\n",
    "There’s one more class which is very important for autograd\n",
    "implementation - a ``Function``.\n",
    "\n",
    "``Tensor`` and ``Function`` are interconnected and build up an acyclic\n",
    "graph, that encodes a complete history of computation. Each tensor has\n",
    "a ``.grad_fn`` attribute that references a ``Function`` that has created\n",
    "the ``Tensor`` (except for Tensors created by the user - their\n",
    "``grad_fn is None``).\n",
    "\n",
    "If you want to compute the derivatives, you can call ``.backward()`` on\n",
    "a ``Tensor``. If ``Tensor`` is a scalar (i.e. it holds a one element\n",
    "data), you don’t need to specify any arguments to ``backward()``,\n",
    "however if it has more elements, you need to specify a ``gradient``\n",
    "argument that is a tensor of matching shape."
   ]
  },
  {
   "cell_type": "markdown",
   "metadata": {
    "id": "NkcsoISWyFfu"
   },
   "source": [
    "## Reminder of the RL setting\n",
    "\n",
    "As always we will consider a MDP $M = (\\mathcal{S}, \\mathcal{A}, p, r, \\gamma)$ with:\n",
    "* $\\mathcal{S}$ the state space,\n",
    "* $\\mathcal{A}$ the action space,\n",
    "* $p(x^\\prime \\mid x, a)$ the transition probability,\n",
    "* $r(x, a, x^\\prime)$ the reward of the transition $(x, a, x^\\prime)$,\n",
    "* $\\gamma \\in [0,1)$ is the discount factor.\n",
    "\n",
    "A policy $\\pi$ is a mapping from the state space $\\mathcal{S}$ to the probability of selecting each action.\n",
    "\n",
    "The action value function of a policy is the overall expected reward from a state action. $Q^\\pi(s, a) = \\mathbb{E}_{\\tau \\sim \\pi}\\big[R(\\tau) \\mid s_0=s, a_0=a\\big]$ where $\\tau$ is an episode $(s_0, a_0, r_0, s_1, a_1, r_1, s_2, ..., s_T, a_T, r_T)$ with the actions drawn from $\\pi(s)$; $R(\\tau)$ is the random variable defined as the cumulative sum of the discounted reward.\n",
    "\n",
    "The goal is to maximize the agent's reward.\n",
    "\n",
    "$$ J(\\pi) = \\mathbb{E}_{\\tau \\sim \\pi}\\big[R(\\tau) \\big]$$"
   ]
  },
  {
   "cell_type": "markdown",
   "metadata": {
    "id": "5OJnuROCyFfv"
   },
   "source": [
    "## Gym Environment\n",
    "\n",
    "In this lab and also the next one we are going to use the [OpenAI's Gym library](https://gym.openai.com/envs/). This library provides a large number of environments to test RL algorithm.\n",
    "\n",
    "We will focus on the **CartPole-v1** environment in this lab but we encourage you to also test your code on:\n",
    "* **Acrobot-v1**\n",
    "* **MountainCar-v0**"
   ]
  },
  {
   "cell_type": "markdown",
   "metadata": {
    "id": "5W7VaPHSyFfw"
   },
   "source": [
    "| Env Info          \t| CartPole-v1 \t| Acrobot-v1                \t| MountainCar-v0 \t|\n",
    "|-------------------\t|-------------\t|---------------------------\t|----------------\t|\n",
    "| **Observation Space** \t| Box(4)      \t| Box(6)                    \t| Box(2)         \t|\n",
    "| **Action Space**      \t| Discrete(2) \t| Discrete(3)               \t| Discrete(3)    \t|\n",
    "| **Rewards**           \t| 1 per step  \t| -1 if not terminal else 0 \t| -1 per step    \t|"
   ]
  },
  {
   "cell_type": "markdown",
   "metadata": {
    "id": "Hthuc34vyFfy"
   },
   "source": [
    "A gym environment is loaded with the command `env = gym.make(env_id)`. Once the environment is created, you need to reset it with `observation = env.reset()` and then you can interact with it using the method step: `observation, reward, done, info = env.step(action)`."
   ]
  },
  {
   "cell_type": "markdown",
   "metadata": {
    "id": "WTEGZ1nayFfz"
   },
   "source": [
    "### Carpole"
   ]
  },
  {
   "cell_type": "code",
   "execution_count": null,
   "metadata": {
    "id": "mnrKdIhsyFf0"
   },
   "outputs": [],
   "source": [
    "# We load CartPole-v1\n",
    "env = gym.make('CartPole-v1')\n",
    "# We wrap it in order to save our experiment on a file.\n",
    "env = Monitor(env, \"./gym-results\", force=True, video_callable=lambda episode: True)"
   ]
  },
  {
   "cell_type": "code",
   "execution_count": null,
   "metadata": {
    "id": "1Eq_p3yKyFf3"
   },
   "outputs": [],
   "source": [
    "done = False\n",
    "obs = env.reset()\n",
    "while not done:\n",
    "    action = env.action_space.sample()\n",
    "    obs, reward, done, info = env.step(action)\n",
    "env.close()\n",
    "show_video(\"./gym-results\")"
   ]
  },
  {
   "cell_type": "markdown",
   "metadata": {
    "id": "L4wSjOadyFf8"
   },
   "source": [
    "### Acrobot-v1"
   ]
  },
  {
   "cell_type": "code",
   "execution_count": null,
   "metadata": {
    "id": "FKGFYo3zyFf9"
   },
   "outputs": [],
   "source": [
    "# We load Acrobot-v1\n",
    "env = gym.make('Acrobot-v1')\n",
    "# We wrap it in order to save our experiment on a file.\n",
    "env = Monitor(env, \"./gym-results\", force=True, video_callable=lambda episode: True)"
   ]
  },
  {
   "cell_type": "code",
   "execution_count": null,
   "metadata": {
    "id": "Pue8QgfFyFf_"
   },
   "outputs": [],
   "source": [
    "done = False\n",
    "obs = env.reset()\n",
    "while not done:\n",
    "    action = env.action_space.sample()\n",
    "    obs, reward, done, info = env.step(action)\n",
    "env.close()\n",
    "show_video(\"./gym-results\")"
   ]
  },
  {
   "cell_type": "markdown",
   "metadata": {
    "id": "ZwRK_7ZtyFgC"
   },
   "source": [
    "### MountainCar-v0"
   ]
  },
  {
   "cell_type": "code",
   "execution_count": null,
   "metadata": {
    "id": "uZ9qetK-yFgC"
   },
   "outputs": [],
   "source": [
    "# We load Acrobot-v1\n",
    "env = gym.make('MountainCar-v0')\n",
    "# We wrap it in order to save our experiment on a file.\n",
    "env = Monitor(env, \"./gym-results\", force=True, video_callable=lambda episode: True)"
   ]
  },
  {
   "cell_type": "code",
   "execution_count": null,
   "metadata": {
    "id": "SbGbUebiyFgE"
   },
   "outputs": [],
   "source": [
    "done = False\n",
    "obs = env.reset()\n",
    "while not done:\n",
    "    action = env.action_space.sample()\n",
    "    obs, reward, done, info = env.step(action)\n",
    "env.close()\n",
    "show_video(\"./gym-results\")"
   ]
  },
  {
   "cell_type": "markdown",
   "metadata": {
    "id": "9B6HnSCOyFgH"
   },
   "source": [
    "## REINFORCE"
   ]
  },
  {
   "cell_type": "markdown",
   "metadata": {
    "id": "IMTSmNrMyFgH"
   },
   "source": [
    "### Introduction\n",
    "\n",
    "Reinforce is an actor-based **on policy** method. The policy $\\pi_{\\theta}$ is parametrized by a function approximator (e.g. a neural network).\n",
    "\n",
    "Recall: $$ J(\\pi) = \\mathbb{E}_{\\tau \\sim \\pi}\\big[ \\sum_{t} \\gamma^t R_t \\mid x_0, \\pi \\big].$$\n",
    "\n",
    "To update the parameters $\\theta$ of the policy, one has to do gradient ascent: $\\theta_{k+1} = \\theta_{k} + \\alpha \\nabla_{\\theta}J(\\pi_{\\theta})|_{\\theta_{k}}$.\n",
    "\n",
    "**Advantages of this approach:**\n",
    "- Compared to a Q-learning approach, here the policy is directly parametrized so a small change of the parameters will not dramatically change the policy whereas this is not the case for Q-learning approaches.\n",
    "- The stochasticity of the policy allows exploration. In off policy learning, one has to deal with both a behaviour policy and an exploration policy."
   ]
  },
  {
   "cell_type": "markdown",
   "metadata": {
    "id": "P2M2e8h-yFgI"
   },
   "source": [
    "### Policy Gradient Theorem\n",
    "\n",
    "**Q.1: Prove the Policy Gradient Theorem:** $$ \\nabla_{\\theta} J(\\pi_{\\theta}) = \\mathbb{E}_{\\tau \\sim \\pi_{\\theta}}\\left[{\\sum_{t=0}^{T} \\nabla_{\\theta} \\log \\pi_{\\theta}(a_t |s_t) R(\\tau)}\\right]$$\n",
    "\n",
    "\n",
    "The policy gradient can be approximated with:\n",
    "$$ \\hat{g} = \\frac{1}{|\\mathcal{D}|} \\sum_{\\tau \\in \\mathcal{D}} \\sum_{t=0}^{T} \\nabla_{\\theta} \\log \\pi_{\\theta}(a_t |s_t) R(\\tau) $$"
   ]
  },
  {
   "cell_type": "markdown",
   "metadata": {
    "id": "2YCvTlKo2NeG"
   },
   "source": [
    "#### Hint 1"
   ]
  },
  {
   "cell_type": "markdown",
   "metadata": {
    "id": "9Oyts6k72_wC"
   },
   "source": [
    "The probability of a trajectory $\\tau = (s_{0}, a_{0},\\dots, s_{T+1}$) with action chosen from $\\displaystyle \\pi_{\\theta}$ is $P(\\tau|\\theta) = \\rho_{0}(s_{0})\\prod_{t=0}^{T}P\\left(s_{t+1}|s_{t}, a_{t}\\right) \\pi_{\\theta}(a_{t}|s_{t})$"
   ]
  },
  {
   "cell_type": "markdown",
   "metadata": {
    "id": "t7qjxPVB3LF9"
   },
   "source": [
    "#### Hint 2"
   ]
  },
  {
   "cell_type": "markdown",
   "metadata": {
    "id": "KrGQVsqI3Noh"
   },
   "source": [
    "Gradient-log trick: $  \\nabla_{\\theta}P(\\tau|\\theta)= P(\\tau|\\theta)\\nabla_{\\theta}\\log P(\\tau|\\theta). $\n",
    "\n",
    "The policy gradient can therefore be approximated with:\n",
    "$$ \\hat{g} = \\frac{1}{|\\mathcal{D}|} \\sum_{\\tau \\in \\mathcal{D}} \\sum_{t=0}^{T} \\nabla_{\\theta} \\log \\pi_{\\theta}(a_t |s_t) R(\\tau) $$"
   ]
  },
  {
   "cell_type": "markdown",
   "metadata": {
    "id": "aGxnJVUkyFgI"
   },
   "source": [
    "### Implementation of vanilla REINFORCE\n",
    "\n",
    "**Q.2: Implement the REINFORCE algorithm**\n",
    "\n",
    "The code is splitted in two parts:\n",
    "* The Model class defines the architecture of our neural network which takes as input the current state and returns the policy,\n",
    "* The Agent class is responsible for the training and evaluation procedure. You will need to code the method `optimize_model`."
   ]
  },
  {
   "cell_type": "code",
   "execution_count": null,
   "metadata": {
    "id": "aNH3udIuyFgK"
   },
   "outputs": [],
   "source": [
    "class Model(nn.Module):\n",
    "    def __init__(self, dim_observation, n_actions):\n",
    "        super(Model, self).__init__()\n",
    "        \n",
    "        self.n_actions = n_actions\n",
    "        self.dim_observation = dim_observation\n",
    "        \n",
    "        self.net = nn.Sequential(\n",
    "            nn.Linear(in_features=self.dim_observation, out_features=16),\n",
    "            nn.ReLU(),\n",
    "            nn.Linear(in_features=16, out_features=8),\n",
    "            nn.ReLU(),\n",
    "            nn.Linear(in_features=8, out_features=self.n_actions),\n",
    "            nn.Softmax(dim=0)\n",
    "        )\n",
    "        \n",
    "    def forward(self, state):\n",
    "        return self.net(state)\n",
    "    \n",
    "    def select_action(self, state):\n",
    "        action = torch.multinomial(self.forward(state), 1)\n",
    "        return action"
   ]
  },
  {
   "cell_type": "markdown",
   "metadata": {
    "id": "aKGCDD4KyFgN"
   },
   "source": [
    "It is always nice to visualize the differents layers of our model."
   ]
  },
  {
   "cell_type": "code",
   "execution_count": null,
   "metadata": {
    "colab": {
     "base_uri": "https://localhost:8080/"
    },
    "executionInfo": {
     "elapsed": 924,
     "status": "ok",
     "timestamp": 1608928943188,
     "user": {
      "displayName": "Sergiy Doroshenko",
      "photoUrl": "https://lh3.googleusercontent.com/a-/AOh14GhO_OOptO_y2EjJ2hrYxPQ2_qQ4VechFVok2VnKEA=s64",
      "userId": "05232094350184309899"
     },
     "user_tz": -120
    },
    "id": "UzCLFgLEyFgN",
    "outputId": "a27fd13e-3bae-4d96-bbd3-ce60004ccaf2"
   },
   "outputs": [
    {
     "name": "stdout",
     "output_type": "stream",
     "text": [
      "The model we created correspond to:\n",
      "Model(\n",
      "  (net): Sequential(\n",
      "    (0): Linear(in_features=4, out_features=16, bias=True)\n",
      "    (1): ReLU()\n",
      "    (2): Linear(in_features=16, out_features=8, bias=True)\n",
      "    (3): ReLU()\n",
      "    (4): Linear(in_features=8, out_features=2, bias=True)\n",
      "    (5): Softmax()\n",
      "  )\n",
      ")\n"
     ]
    }
   ],
   "source": [
    "env_id = 'CartPole-v1'\n",
    "env = gym.make(env_id)\n",
    "model = Model(env.observation_space.shape[0], env.action_space.n)\n",
    "print(f'The model we created correspond to:\\n{model}')"
   ]
  },
  {
   "cell_type": "markdown",
   "metadata": {
    "id": "PpMv0QFsyFgR"
   },
   "source": [
    "We provide a base agent that you will need to extend in the next cell with your implementation of `optimize_model`."
   ]
  },
  {
   "cell_type": "code",
   "execution_count": null,
   "metadata": {
    "id": "sBWGRN6OyFgR"
   },
   "outputs": [],
   "source": [
    "class BaseAgent:\n",
    "    \n",
    "    def __init__(self, config):\n",
    "        self.config = config\n",
    "        self.env = gym.make(config['env_id'])\n",
    "        make_seed(config['seed'])\n",
    "        self.env.seed(config['seed'])\n",
    "        self.model = Model(self.env.observation_space.shape[0], self.env.action_space.n)\n",
    "        self.gamma = config['gamma']\n",
    "        self.optimizer = torch.optim.Adam(self.model.net.parameters(), lr=config['learning_rate'])\n",
    "        self.monitor_env = Monitor(env, \"./gym-results\", force=True, video_callable=lambda episode: True)\n",
    "    \n",
    "    def _make_returns(self, rewards):\n",
    "        \"\"\"Returns the cumulative discounted rewards at each time step\n",
    "\n",
    "        Parameters\n",
    "        ----------\n",
    "        rewards : array\n",
    "            The array of rewards of one episode\n",
    "\n",
    "        Returns\n",
    "        -------\n",
    "        array\n",
    "            The cumulative discounted rewards at each time step\n",
    "            \n",
    "        Example\n",
    "        -------\n",
    "        for rewards=[1, 2, 3] this method outputs [1 + 2 * gamma + 3 * gamma**2, 2 + 3 * gamma, 3] \n",
    "        \"\"\"\n",
    "        \n",
    "        returns = np.zeros_like(rewards)\n",
    "        returns[-1] = rewards[-1]\n",
    "        for t in reversed(range(len(rewards) - 1)):\n",
    "            returns[t] = rewards[t] + self.gamma * returns[t + 1]\n",
    "        return returns\n",
    "    \n",
    "    # Method to implement\n",
    "    def optimize_model(self, n_trajectories):\n",
    "        \"\"\"Perform a gradient update using n_trajectories\n",
    "\n",
    "        Parameters\n",
    "        ----------\n",
    "        n_trajectories : int\n",
    "            The number of trajectories used to approximate the expectation card(D) in the formula above\n",
    "        \n",
    "        Returns\n",
    "        -------\n",
    "        array\n",
    "            The cumulative discounted rewards of each trajectory\n",
    "        \"\"\"\n",
    "        \n",
    "        raise NotImplementedError\n",
    "    \n",
    "    def train(self, n_trajectories, n_update):\n",
    "        \"\"\"Training method\n",
    "\n",
    "        Parameters\n",
    "        ----------\n",
    "        n_trajectories : int\n",
    "            The number of trajectories used to approximate the expectation card(D) in the formula above\n",
    "        n_update : int\n",
    "            The number of gradient updates\n",
    "            \n",
    "        \"\"\"\n",
    "        \n",
    "        rewards = []\n",
    "        for episode in range(n_update):\n",
    "            rewards.append(self.optimize_model(n_trajectories))\n",
    "            print(f'Episode {episode + 1}/{n_update}: rewards {round(rewards[-1].mean(), 2)} +/- {round(rewards[-1].std(), 2)}')\n",
    "        \n",
    "        # Plotting\n",
    "        r = pd.DataFrame((itertools.chain(*(itertools.product([i], rewards[i]) for i in range(len(rewards))))), columns=['Epoch', 'Reward'])\n",
    "        sns.lineplot(x=\"Epoch\", y=\"Reward\", data=r, ci='sd');\n",
    "        \n",
    "    def evaluate(self):\n",
    "        \"\"\"Evaluate the agent on a single trajectory            \n",
    "        \"\"\"\n",
    "        \n",
    "        observation = self.monitor_env.reset()\n",
    "        observation = torch.tensor(observation, dtype=torch.float)\n",
    "        reward_episode = 0\n",
    "        done = False\n",
    "            \n",
    "        while not done:\n",
    "            action = self.model.select_action(observation)\n",
    "            observation, reward, done, info = self.monitor_env.step(int(action))\n",
    "            observation = torch.tensor(observation, dtype=torch.float)\n",
    "            reward_episode += reward\n",
    "        \n",
    "        self.monitor_env.close()\n",
    "        show_video(\"./gym-results\")\n",
    "        print(f'Reward: {reward_episode}')\n",
    "        "
   ]
  },
  {
   "cell_type": "code",
   "execution_count": null,
   "metadata": {
    "id": "-lS-k_EWyFgT"
   },
   "outputs": [],
   "source": [
    "class SimpleAgent(BaseAgent):\n",
    "    \n",
    "    def optimize_model(self, n_trajectories):\n",
    "        \"\"\"Perform a gradient update using n_trajectories\n",
    "\n",
    "        Parameters\n",
    "        ----------\n",
    "        n_trajectories : int\n",
    "            The number of trajectories used to approximate the expectation card(D) in the formula above\n",
    "        \n",
    "        Returns\n",
    "        -------\n",
    "        array\n",
    "            The cumulative discounted rewards of each trajectory\n",
    "        \"\"\"\n",
    "        \n",
    "        ###\n",
    "        # Your code here\n",
    "        ###\n",
    "        \n",
    "        reward_trajectories = None\n",
    "        loss = None\n",
    "        \n",
    "        # The following lines take care of the gradient descent step for the variable loss\n",
    "        # that you need to compute.\n",
    "        \n",
    "        # Discard previous gradients\n",
    "        self.optimizer.zero_grad()\n",
    "        # Compute the gradient \n",
    "        loss.backward()\n",
    "        # Do the gradient descent step\n",
    "        self.optimizer.step()\n",
    "        return reward_trajectories\n"
   ]
  },
  {
   "cell_type": "markdown",
   "metadata": {
    "id": "LXWHOHYbhzFq"
   },
   "source": [
    "In the cell bellow are listed the parameters you should play with. Try out different configurations."
   ]
  },
  {
   "cell_type": "code",
   "execution_count": null,
   "metadata": {
    "colab": {
     "base_uri": "https://localhost:8080/"
    },
    "executionInfo": {
     "elapsed": 546,
     "status": "ok",
     "timestamp": 1608929002622,
     "user": {
      "displayName": "Sergiy Doroshenko",
      "photoUrl": "https://lh3.googleusercontent.com/a-/AOh14GhO_OOptO_y2EjJ2hrYxPQ2_qQ4VechFVok2VnKEA=s64",
      "userId": "05232094350184309899"
     },
     "user_tz": -120
    },
    "id": "KMLAy5fY-1V4",
    "outputId": "b2629d6f-b29c-465a-e7cb-b751d2d09347"
   },
   "outputs": [
    {
     "name": "stdout",
     "output_type": "stream",
     "text": [
      "Current config is:\n",
      "{'env_id': 'CartPole-v1', 'gamma': 1, 'learning_rate': 0.01, 'seed': 1235}\n"
     ]
    }
   ],
   "source": [
    "#@title Config {display-mode: \"form\", run: \"auto\"}\n",
    "\n",
    "env_id = 'CartPole-v1'  #@param [\"CartPole-v1\", \"Acrobot-v1\", \"MountainCar-v0\"]\n",
    "learning_rate = 0.01  #@param {type: \"number\"}\n",
    "gamma = 1  #@param {type: \"number\"}\n",
    "seed = 1235  #@param {type: \"integer\"}\n",
    "#@markdown ---\n",
    "\n",
    "config = {\n",
    "    'env_id': env_id,\n",
    "    'learning_rate': learning_rate,\n",
    "    'seed': seed,\n",
    "    'gamma': gamma\n",
    "}\n",
    "\n",
    "print(\"Current config is:\")\n",
    "pprint(config)\n"
   ]
  },
  {
   "cell_type": "markdown",
   "metadata": {
    "id": "HOjaNT2ChzFr"
   },
   "source": [
    "Let's train the agent."
   ]
  },
  {
   "cell_type": "code",
   "execution_count": null,
   "metadata": {
    "colab": {
     "base_uri": "https://localhost:8080/",
     "height": 320
    },
    "executionInfo": {
     "elapsed": 534,
     "status": "error",
     "timestamp": 1608929006219,
     "user": {
      "displayName": "Sergiy Doroshenko",
      "photoUrl": "https://lh3.googleusercontent.com/a-/AOh14GhO_OOptO_y2EjJ2hrYxPQ2_qQ4VechFVok2VnKEA=s64",
      "userId": "05232094350184309899"
     },
     "user_tz": -120
    },
    "id": "MHmntrq4yFgW",
    "outputId": "b41c5e0a-746a-40a8-947f-54798851511e",
    "scrolled": true
   },
   "outputs": [
    {
     "ename": "AttributeError",
     "evalue": "ignored",
     "output_type": "error",
     "traceback": [
      "\u001b[0;31m---------------------------------------------------------------------------\u001b[0m",
      "\u001b[0;31mAttributeError\u001b[0m                            Traceback (most recent call last)",
      "\u001b[0;32m<ipython-input-18-fa74734c9175>\u001b[0m in \u001b[0;36m<module>\u001b[0;34m()\u001b[0m\n\u001b[1;32m      1\u001b[0m \u001b[0magent\u001b[0m \u001b[0;34m=\u001b[0m \u001b[0mSimpleAgent\u001b[0m\u001b[0;34m(\u001b[0m\u001b[0mconfig\u001b[0m\u001b[0;34m)\u001b[0m\u001b[0;34m\u001b[0m\u001b[0;34m\u001b[0m\u001b[0m\n\u001b[0;32m----> 2\u001b[0;31m \u001b[0magent\u001b[0m\u001b[0;34m.\u001b[0m\u001b[0mtrain\u001b[0m\u001b[0;34m(\u001b[0m\u001b[0mn_trajectories\u001b[0m\u001b[0;34m=\u001b[0m\u001b[0;36m50\u001b[0m\u001b[0;34m,\u001b[0m \u001b[0mn_update\u001b[0m\u001b[0;34m=\u001b[0m\u001b[0;36m50\u001b[0m\u001b[0;34m)\u001b[0m\u001b[0;34m\u001b[0m\u001b[0;34m\u001b[0m\u001b[0m\n\u001b[0m",
      "\u001b[0;32m<ipython-input-13-0d0fd9b28910>\u001b[0m in \u001b[0;36mtrain\u001b[0;34m(self, n_trajectories, n_update)\u001b[0m\n\u001b[1;32m     66\u001b[0m         \u001b[0mrewards\u001b[0m \u001b[0;34m=\u001b[0m \u001b[0;34m[\u001b[0m\u001b[0;34m]\u001b[0m\u001b[0;34m\u001b[0m\u001b[0;34m\u001b[0m\u001b[0m\n\u001b[1;32m     67\u001b[0m         \u001b[0;32mfor\u001b[0m \u001b[0mepisode\u001b[0m \u001b[0;32min\u001b[0m \u001b[0mrange\u001b[0m\u001b[0;34m(\u001b[0m\u001b[0mn_update\u001b[0m\u001b[0;34m)\u001b[0m\u001b[0;34m:\u001b[0m\u001b[0;34m\u001b[0m\u001b[0;34m\u001b[0m\u001b[0m\n\u001b[0;32m---> 68\u001b[0;31m             \u001b[0mrewards\u001b[0m\u001b[0;34m.\u001b[0m\u001b[0mappend\u001b[0m\u001b[0;34m(\u001b[0m\u001b[0mself\u001b[0m\u001b[0;34m.\u001b[0m\u001b[0moptimize_model\u001b[0m\u001b[0;34m(\u001b[0m\u001b[0mn_trajectories\u001b[0m\u001b[0;34m)\u001b[0m\u001b[0;34m)\u001b[0m\u001b[0;34m\u001b[0m\u001b[0;34m\u001b[0m\u001b[0m\n\u001b[0m\u001b[1;32m     69\u001b[0m             \u001b[0mprint\u001b[0m\u001b[0;34m(\u001b[0m\u001b[0;34mf'Episode {episode + 1}/{n_update}: rewards {round(rewards[-1].mean(), 2)} +/- {round(rewards[-1].std(), 2)}'\u001b[0m\u001b[0;34m)\u001b[0m\u001b[0;34m\u001b[0m\u001b[0;34m\u001b[0m\u001b[0m\n\u001b[1;32m     70\u001b[0m \u001b[0;34m\u001b[0m\u001b[0m\n",
      "\u001b[0;32m<ipython-input-14-016d7ae234c0>\u001b[0m in \u001b[0;36moptimize_model\u001b[0;34m(self, n_trajectories)\u001b[0m\n\u001b[1;32m     28\u001b[0m         \u001b[0mself\u001b[0m\u001b[0;34m.\u001b[0m\u001b[0moptimizer\u001b[0m\u001b[0;34m.\u001b[0m\u001b[0mzero_grad\u001b[0m\u001b[0;34m(\u001b[0m\u001b[0;34m)\u001b[0m\u001b[0;34m\u001b[0m\u001b[0;34m\u001b[0m\u001b[0m\n\u001b[1;32m     29\u001b[0m         \u001b[0;31m# Compute the gradient\u001b[0m\u001b[0;34m\u001b[0m\u001b[0;34m\u001b[0m\u001b[0;34m\u001b[0m\u001b[0m\n\u001b[0;32m---> 30\u001b[0;31m         \u001b[0mloss\u001b[0m\u001b[0;34m.\u001b[0m\u001b[0mbackward\u001b[0m\u001b[0;34m(\u001b[0m\u001b[0;34m)\u001b[0m\u001b[0;34m\u001b[0m\u001b[0;34m\u001b[0m\u001b[0m\n\u001b[0m\u001b[1;32m     31\u001b[0m         \u001b[0;31m# Do the gradient descent step\u001b[0m\u001b[0;34m\u001b[0m\u001b[0;34m\u001b[0m\u001b[0;34m\u001b[0m\u001b[0m\n\u001b[1;32m     32\u001b[0m         \u001b[0mself\u001b[0m\u001b[0;34m.\u001b[0m\u001b[0moptimizer\u001b[0m\u001b[0;34m.\u001b[0m\u001b[0mstep\u001b[0m\u001b[0;34m(\u001b[0m\u001b[0;34m)\u001b[0m\u001b[0;34m\u001b[0m\u001b[0;34m\u001b[0m\u001b[0m\n",
      "\u001b[0;31mAttributeError\u001b[0m: 'NoneType' object has no attribute 'backward'"
     ]
    }
   ],
   "source": [
    "agent = SimpleAgent(config)\n",
    "agent.train(n_trajectories=50, n_update=50)"
   ]
  },
  {
   "cell_type": "markdown",
   "metadata": {
    "id": "Lu3QdaqhyFgZ"
   },
   "source": [
    "Let's evaluate the quality of the learned policy."
   ]
  },
  {
   "cell_type": "code",
   "execution_count": null,
   "metadata": {
    "id": "G3phyHpgyFga"
   },
   "outputs": [],
   "source": [
    "agent.evaluate()"
   ]
  },
  {
   "cell_type": "markdown",
   "metadata": {
    "id": "rkKkc2OxyFgf"
   },
   "source": [
    "**Q.3: What are the strengths and drawbacks of this algorithm? How would you improve it?**"
   ]
  },
  {
   "cell_type": "markdown",
   "metadata": {
    "id": "IvfQ8GSPyFgg"
   },
   "source": [
    "*Type your answer here*"
   ]
  },
  {
   "cell_type": "markdown",
   "metadata": {
    "id": "c9eZsGPghzFt"
   },
   "source": [
    "### Don't let the past distract you"
   ]
  },
  {
   "cell_type": "markdown",
   "metadata": {
    "id": "rkYWtsuuyFgj"
   },
   "source": [
    "- The sum of rewards during one episode has a high variance which affects the performance of this version of **REINFORCE**.\n",
    "- To assess the quality of an action, it make more sense to take into consideration only the rewards obtained after taking this action.\n",
    "- It can be proven that $$  \\nabla_{\\theta} J(\\pi_{\\theta}) = \\mathbb{E}_{\\tau \\sim \\pi_{\\theta}}\\left[{\\sum_{t=0}^{T} \\nabla_{\\theta} \\log \\pi_{\\theta}(a_t |s_t) \\sum_{t'=t}^T \\gamma^{t'-t} R(s_{t'}, a_{t'}, s_{t'+1})}\\right].$$\n",
    "- **Bonus**: proof of this claim.\n",
    "- This has for effect to reduce the variance. Past rewards have zero mean but nonzero variance so they just add noise.  \n",
    "\n",
    "**Q4: Implement this enhanced version of REINFORCE**"
   ]
  },
  {
   "cell_type": "code",
   "execution_count": null,
   "metadata": {
    "id": "LuwbPfLfyFgj"
   },
   "outputs": [],
   "source": [
    "class EnhancedAgent(BaseAgent):\n",
    "    \n",
    "    def optimize_model(self, n_trajectories):\n",
    "        \"\"\"Perform a gradient update using n_trajectories\n",
    "\n",
    "        Parameters\n",
    "        ----------\n",
    "        n_trajectories : int\n",
    "            The number of trajectories used to approximate the expectation card(D) in the formula above\n",
    "        \n",
    "        Returns\n",
    "        -------\n",
    "        array\n",
    "            The cumulative discounted rewards of each trajectory\n",
    "        \"\"\"\n",
    "        \n",
    "        ###\n",
    "        # Your code here\n",
    "        ###\n",
    "        \n",
    "        reward_trajectories = None\n",
    "        loss = None\n",
    "        \n",
    "        self.optimizer.zero_grad()\n",
    "        # Compute the gradient \n",
    "        loss.backward()\n",
    "        # Do the gradient descent step\n",
    "        self.optimizer.step()\n",
    "        return reward_trajectories\n",
    "   "
   ]
  },
  {
   "cell_type": "code",
   "execution_count": null,
   "metadata": {
    "id": "bQ-fznp1A9w7"
   },
   "outputs": [],
   "source": [
    "#@title Config Enhanced {display-mode: \"form\", run: \"auto\"}\n",
    "\n",
    "env_id = 'CartPole-v1'  #@param [\"CartPole-v1\", \"Acrobot-v1\", \"MountainCar-v0\"]\n",
    "learning_rate = 0.001  #@param {type: \"number\"}\n",
    "gamma = 1  #@param {type: \"number\"}\n",
    "seed = 1  #@param {type: \"integer\"}\n",
    "#@markdown ---\n",
    "\n",
    "config_enhanced = {\n",
    "    'env_id': env_id,\n",
    "    'learning_rate': learning_rate,\n",
    "    'seed': seed,\n",
    "    'gamma': gamma\n",
    "}\n",
    "\n",
    "print(\"Current config_enhanced is:\")\n",
    "pprint(config_enhanced)"
   ]
  },
  {
   "cell_type": "code",
   "execution_count": null,
   "metadata": {
    "id": "HVGu8w84yFgn",
    "scrolled": true
   },
   "outputs": [],
   "source": [
    "agent = EnhancedAgent(config_enhanced)\n",
    "agent.train(n_trajectories=50, n_update=50)"
   ]
  },
  {
   "cell_type": "code",
   "execution_count": null,
   "metadata": {
    "id": "XSIb6UuMyFgr"
   },
   "outputs": [],
   "source": [
    "agent.evaluate()"
   ]
  },
  {
   "cell_type": "markdown",
   "metadata": {
    "id": "n653mbx-yFgx"
   },
   "source": [
    "**Q.5: Did this method improve over vanilla REINFORCE?**"
   ]
  },
  {
   "cell_type": "markdown",
   "metadata": {
    "id": "3HuYUaXwyFgx"
   },
   "source": [
    "*Type your answer here*"
   ]
  },
  {
   "cell_type": "markdown",
   "metadata": {
    "id": "I9kdsiBQ31mF"
   },
   "source": [
    "## A2C"
   ]
  },
  {
   "cell_type": "markdown",
   "metadata": {
    "id": "e-dB7kWq4AOu"
   },
   "source": [
    "### Theory\n",
    "The cumulative discounted reward has a high variance and therefore **REINFORCE** needs lots of trajectories to converge.\n",
    "In order to reduce it we can substract a baseline $b(s_t)$.\n",
    "\n",
    "This is possible because:\n",
    "\n",
    "$$\\mathbb{E}_{a_t \\sim \\pi_{\\theta}}{\\nabla_{\\theta} \\log \\pi_{\\theta}(a_t|s_t) b(s_t)} = 0.$$\n",
    "\n",
    "**Proof**\n",
    "\n",
    "Let $P_\\theta$ be the parameterized probability distribution over a random variable x.\n",
    "$$\\int_x P_\\theta (x) = 1$$\n",
    "Taking the gradient we get: $\\nabla_\\theta \\int_x P_\\theta (x) = \\nabla_\\theta 1 = 0$\n",
    "\\begin{align*}\n",
    "0 &= \\nabla_\\theta \\int_x P_\\theta (x)\\\\\n",
    "&= \\int_x \\nabla_\\theta P_\\theta(x)\\\\\n",
    "&= \\int_x P_\\theta (x) \\nabla_\\theta \\log P_\\theta (x) \\\\\n",
    "&= \\mathbb{E}_{x \\sim P_\\theta} \\nabla_\\theta \\log P_\\theta (x)\n",
    "\\end{align*}\n",
    "\n",
    "Which leads to the following formula:\n",
    "\n",
    "$$ \\nabla_{\\theta} J(\\pi_{\\theta}) = \\mathbb{E}_{\\tau \\sim \\pi_{\\theta}}{\\sum_{t=0}^{T} \\nabla_{\\theta} \\log \\pi_{\\theta}(a_t |s_t) \\left(\\sum_{t'=t}^T \\gamma^{t' - t} R(s_{t'}, a_{t'}, s_{t'+1}) - b(s_t)\\right)}$$\n",
    "\n",
    "The most common choice of baseline is the on-policy value function $V^{\\pi}(s_t)$. This choice has the desirable effect of reducing variance in the sample estimate for the policy gradient. This results in faster and more stable policy learning. It is also appealing from a conceptual angle: it encodes the intuition that if an agent gets what it expected, it should “feel” neutral about it.\n",
    "\n",
    "However $V^\\pi$ is unknown and therefore we need to learn it. We will use a neural network to approximate $V^\\pi$ with Mean Square Error as the loss function.\n",
    "\n",
    "$$ \\arg \\min_{\\phi} \\mathbb{E}_{s_t, \\hat{R}_t \\sim \\pi_k}{\\left( V_{\\phi}(s_t) - \\hat{R}_t \\right)^2}, $$\n",
    "\n",
    "\n",
    "We can show that we can replace $\\sum_{t'=t}^T \\gamma^{t' - t} R(s_{t'}, a_{t'}, s_{t'+1})$ in the formula above by $Q^{\\pi_\\theta}(s_t, a_t)$ and by doing so we finally get $$ \\nabla_{\\theta} J(\\pi_{\\theta}) = \\mathbb{E}_{\\tau \\sim \\pi_{\\theta}}{\\sum_{t=0}^{T} \\nabla_{\\theta} \\log \\pi_{\\theta}(a_t |s_t) \\left(Q^{\\pi_\\theta}(s_t, a_t) - V^{\\pi_\\theta}(s_t)\\right)}$$\n",
    "\n",
    "**Bonus: Prove the statement above**\n",
    "\n",
    "$A(s_t, a_t) = Q(s_{t}, a_{t}) - V^\\pi(s_t)$ is called the Advantage function which gives the name **Advantage Actor Critic**.\n",
    "\n",
    "$Q^{\\pi_\\theta}(s_t, a_t)$ is approximated as the cumulative sum of rewards.\n",
    "\n",
    "Minh et al. in their paper explained that they added an entropy term to the loss in order to encourage exploration.\n",
    "\n",
    "$$ - \\sum_{a} \\pi(a | s) \\log \\pi(a | s) $$\n",
    "\n",
    "**Q.6: Explain why adding the entropy term encourage exploration.**"
   ]
  },
  {
   "cell_type": "markdown",
   "metadata": {
    "id": "xDifFS9I4X7A"
   },
   "source": [
    "### Coding\n",
    "\n",
    "In the first part of this lab we had to wait for the end of an episode in order to compute the cumulative discounted rewards. Here we can use the critic to estimate the cumulative discounted reward and therefore we no longer need to wait for the episode termination.\n",
    "\n",
    "**Example**: For a trajectory $\\tau = (s_0, a_0, r_0, s_1, a_1, r_1, ..., s_t, a_t, r_t, ..., s_T, a_T, r_T)$ the cumulative discounted rewards $R(\\tau) = \\sum_{i=0}^T \\gamma^i r_i$ can be approximated by $ \\sum_{i=0}^t \\gamma^i r_i + \\gamma^{t+1} V_\\phi(s_{t+1})$ where $V_\\phi$ is our critic.\n",
    "\n",
    "This is allows us to train our model using batch data, which is more efficient for:\n",
    "* Computing: deep learning libraries (PyTorch, TensorFlow, ...) are optimized for batched data;\n",
    "* We don't have to wait for the end of a long episode in order to perform the update;\n",
    "* It is more sample efficient;\n",
    "* ...\n",
    "\n",
    "\n",
    "**Q.7: Implement `optimize_model` using batches**"
   ]
  },
  {
   "cell_type": "code",
   "execution_count": 3,
   "metadata": {
    "executionInfo": {
     "elapsed": 1661,
     "status": "ok",
     "timestamp": 1608977103381,
     "user": {
      "displayName": "Sergiy Doroshenko",
      "photoUrl": "https://lh3.googleusercontent.com/a-/AOh14GhO_OOptO_y2EjJ2hrYxPQ2_qQ4VechFVok2VnKEA=s64",
      "userId": "05232094350184309899"
     },
     "user_tz": -120
    },
    "id": "5DlNKriHyFg3"
   },
   "outputs": [],
   "source": [
    "class ActorNetwork(nn.Module):\n",
    "\n",
    "    def __init__(self, input_size, hidden_size, action_size):\n",
    "        super(ActorNetwork, self).__init__()\n",
    "        self.fc1 = nn.Linear(input_size, hidden_size)\n",
    "        self.fc2 = nn.Linear(hidden_size, hidden_size)\n",
    "        self.fc3 = nn.Linear(hidden_size, action_size)\n",
    "\n",
    "    def forward(self, x):\n",
    "        out = F.relu(self.fc1(x))\n",
    "        out = F.relu(self.fc2(out))\n",
    "        out = F.softmax(self.fc3(out), dim=-1)\n",
    "        return out\n",
    "    \n",
    "    def select_action(self, x):\n",
    "        return torch.multinomial(self(x), 1).detach().numpy()"
   ]
  },
  {
   "cell_type": "code",
   "execution_count": 4,
   "metadata": {
    "executionInfo": {
     "elapsed": 1117,
     "status": "ok",
     "timestamp": 1608977106553,
     "user": {
      "displayName": "Sergiy Doroshenko",
      "photoUrl": "https://lh3.googleusercontent.com/a-/AOh14GhO_OOptO_y2EjJ2hrYxPQ2_qQ4VechFVok2VnKEA=s64",
      "userId": "05232094350184309899"
     },
     "user_tz": -120
    },
    "id": "SgnRZXEayFhA"
   },
   "outputs": [],
   "source": [
    "class ValueNetwork(nn.Module):\n",
    "\n",
    "    def __init__(self, input_size, hidden_size, output_size):\n",
    "        super(ValueNetwork, self).__init__()\n",
    "        self.fc1 = nn.Linear(input_size, hidden_size)\n",
    "        self.fc2 = nn.Linear(hidden_size, hidden_size)\n",
    "        self.fc3 = nn.Linear(hidden_size, output_size)\n",
    "\n",
    "    def forward(self, x):\n",
    "        out = F.relu(self.fc1(x))\n",
    "        out = F.relu(self.fc2(out))\n",
    "        out = self.fc3(out)\n",
    "        return out"
   ]
  },
  {
   "cell_type": "code",
   "execution_count": 5,
   "metadata": {
    "executionInfo": {
     "elapsed": 871,
     "status": "ok",
     "timestamp": 1608977116888,
     "user": {
      "displayName": "Sergiy Doroshenko",
      "photoUrl": "https://lh3.googleusercontent.com/a-/AOh14GhO_OOptO_y2EjJ2hrYxPQ2_qQ4VechFVok2VnKEA=s64",
      "userId": "05232094350184309899"
     },
     "user_tz": -120
    },
    "id": "_5pS7cRyyFhC"
   },
   "outputs": [],
   "source": [
    "class A2CAgent:\n",
    "\n",
    "    def __init__(self, config):\n",
    "        self.config = config\n",
    "        self.env = gym.make(config['env_id'])\n",
    "        make_seed(config['seed'])\n",
    "        self.env.seed(config['seed'])\n",
    "        self.monitor_env = Monitor(self.env, \"./gym-results\", force=True, video_callable=lambda episode: True)\n",
    "        self.gamma = config['gamma']\n",
    "        \n",
    "        # Our two networks\n",
    "        self.value_network = ValueNetwork(self.env.observation_space.shape[0], 16, 1)\n",
    "        self.actor_network = ActorNetwork(self.env.observation_space.shape[0], 16, self.env.action_space.n)\n",
    "        \n",
    "        # Their optimizers\n",
    "        self.value_network_optimizer = optim.RMSprop(self.value_network.parameters(), lr=config['value_network']['learning_rate'])\n",
    "        self.actor_network_optimizer = optim.RMSprop(self.actor_network.parameters(), lr=config['actor_network']['learning_rate'])\n",
    "        \n",
    "    # Hint: use it during training_batch\n",
    "    def _returns_advantages(self, rewards, dones, values, next_value):\n",
    "        \"\"\"Returns the cumulative discounted rewards at each time step\n",
    "\n",
    "        Parameters\n",
    "        ----------\n",
    "        rewards : array\n",
    "            An array of shape (batch_size,) containing the rewards given by the env\n",
    "        dones : array\n",
    "            An array of shape (batch_size,) containing the done bool indicator given by the env\n",
    "        values : array\n",
    "            An array of shape (batch_size,) containing the values given by the value network\n",
    "        next_value : float\n",
    "            The value of the next state given by the value network\n",
    "        \n",
    "        Returns\n",
    "        -------\n",
    "        returns : array\n",
    "            The cumulative discounted rewards\n",
    "        advantages : array\n",
    "            The advantages\n",
    "        \"\"\"\n",
    "        \n",
    "        returns = np.append(np.zeros_like(rewards), [next_value], axis=0)\n",
    "        \n",
    "        for t in reversed(range(rewards.shape[0])):\n",
    "            returns[t] = rewards[t] + self.gamma * returns[t + 1] * (1 - dones[t])\n",
    "            \n",
    "        returns = returns[:-1]\n",
    "        advantages = returns - values\n",
    "        return returns, advantages\n",
    "\n",
    "    def training_batch(self, epochs, batch_size):\n",
    "        \"\"\"Perform a training by batch\n",
    "\n",
    "        Parameters\n",
    "        ----------\n",
    "        epochs : int\n",
    "            Number of epochs\n",
    "        batch_size : int\n",
    "            The size of a batch\n",
    "        \"\"\"\n",
    "        episode_count = 0\n",
    "        actions = np.empty((batch_size,), dtype=np.int)\n",
    "        dones = np.empty((batch_size,), dtype=np.bool)\n",
    "        rewards, values = np.empty((2, batch_size), dtype=np.float)\n",
    "        observations = np.empty((batch_size,) + self.env.observation_space.shape, dtype=np.float)\n",
    "        observation = self.env.reset()\n",
    "        rewards_test = []\n",
    "\n",
    "        for epoch in range(epochs):\n",
    "            # Lets collect one batch\n",
    "            for i in range(batch_size):\n",
    "                observations[i] = observation\n",
    "                values[i] = self.value_network(torch.tensor(observation, dtype=torch.float)).detach().numpy()\n",
    "                policy = self.actor_network(torch.tensor(observation, dtype=torch.float))\n",
    "                actions[i] = torch.multinomial(policy, 1).detach().numpy()\n",
    "                observation, rewards[i], dones[i], _ = self.env.step(actions[i])\n",
    "\n",
    "                if dones[i]:\n",
    "                    observation = self.env.reset()\n",
    "\n",
    "            # If our epiosde didn't end on the last step we need to compute the value for the last state\n",
    "            if dones[-1]:\n",
    "                next_value = 0\n",
    "            else:\n",
    "                next_value = self.value_network(torch.tensor(observation, dtype=torch.float)).detach().numpy()[0]\n",
    "            \n",
    "            # Update episode_count\n",
    "            episode_count += sum(dones)\n",
    "\n",
    "            # Compute returns and advantages\n",
    "            returns, advantages = self._returns_advantages(rewards, dones, values, next_value)\n",
    "\n",
    "            # Learning step !\n",
    "            self.optimize_model(observations, actions, returns, advantages)\n",
    "\n",
    "            # Test it every 50 epochs\n",
    "            if epoch % 50 == 0 or epoch == epochs - 1:\n",
    "                rewards_test.append(np.array([self.evaluate() for _ in range(50)]))\n",
    "                print(f'Epoch {epoch}/{epochs}: Mean rewards: {round(rewards_test[-1].mean(), 2)}, Std: {round(rewards_test[-1].std(), 2)}')\n",
    "\n",
    "                # Early stopping\n",
    "                if rewards_test[-1].mean() > 490 and epoch != epochs -1:\n",
    "                    print('Early stopping !')\n",
    "                    break\n",
    "                observation = self.env.reset()\n",
    "                    \n",
    "        # Plotting\n",
    "        r = pd.DataFrame((itertools.chain(*(itertools.product([i], rewards_test[i]) for i in range(len(rewards_test))))), columns=['Epoch', 'Reward'])\n",
    "        sns.lineplot(x=\"Epoch\", y=\"Reward\", data=r, ci='sd');\n",
    "        \n",
    "        print(f'The trainnig was done over a total of {episode_count} episodes')\n",
    "\n",
    "    def optimize_model(self, observations, actions, returns, advantages):\n",
    "        actions = F.one_hot(torch.tensor(actions), self.env.action_space.n)\n",
    "        returns = torch.tensor(returns[:, None], dtype=torch.float)\n",
    "        advantages = torch.tensor(advantages, dtype=torch.float)\n",
    "        observations = torch.tensor(observations, dtype=torch.float)\n",
    "\n",
    "        # MSE for the values\n",
    "        # Actor & Entropy loss\n",
    "\n",
    "        # MSE for the values\n",
    "        self.value_network_optimizer.zero_grad()\n",
    "        values = self.value_network(observations)\n",
    "        loss_value = 1 * F.mse_loss(values, returns)\n",
    "        loss_value.backward()\n",
    "        self.value_network_optimizer.step()\n",
    "\n",
    "        # Actor loss\n",
    "        self.actor_network_optimizer.zero_grad()\n",
    "        policies = self.actor_network(observations)\n",
    "        loss_policy = ((actions.float() * policies.log()).sum(-1) * advantages).mean()\n",
    "        loss_entropy = - (policies * policies.log()).sum(-1).mean()\n",
    "        loss_actor = - loss_policy - 0.0001 * loss_entropy\n",
    "        loss_actor.backward()\n",
    "        self.actor_network_optimizer.step()\n",
    "        \n",
    "        return loss_value, loss_actor      \n",
    "       \n",
    "\n",
    "    def evaluate(self, render=False):\n",
    "        env = self.monitor_env if render else self.env\n",
    "        observation = env.reset()\n",
    "        observation = torch.tensor(observation, dtype=torch.float)\n",
    "        reward_episode = 0\n",
    "        done = False\n",
    "\n",
    "        while not done:\n",
    "            policy = self.actor_network(observation)\n",
    "            action = torch.multinomial(policy, 1)\n",
    "            observation, reward, done, info = env.step(int(action))\n",
    "            observation = torch.tensor(observation, dtype=torch.float)\n",
    "            reward_episode += reward\n",
    "            \n",
    "        env.close()\n",
    "        if render:\n",
    "            show_video(\"./gym-results\")\n",
    "            print(f'Reward: {reward_episode}')\n",
    "        return reward_episode"
   ]
  },
  {
   "cell_type": "markdown",
   "metadata": {
    "id": "Qm9Rj2s5yFhF"
   },
   "source": [
    "**Q.8: Try out different hyperparameters (batch size, learning rate, optimizer, gamma) and identify how each one of them influence the learning.**"
   ]
  },
  {
   "cell_type": "code",
   "execution_count": 15,
   "metadata": {
    "colab": {
     "base_uri": "https://localhost:8080/"
    },
    "executionInfo": {
     "elapsed": 665,
     "status": "ok",
     "timestamp": 1608978460885,
     "user": {
      "displayName": "Sergiy Doroshenko",
      "photoUrl": "https://lh3.googleusercontent.com/a-/AOh14GhO_OOptO_y2EjJ2hrYxPQ2_qQ4VechFVok2VnKEA=s64",
      "userId": "05232094350184309899"
     },
     "user_tz": -120
    },
    "id": "5e734MaaDsal",
    "outputId": "a50acf05-df71-4266-fd10-317dc7460ac3"
   },
   "outputs": [
    {
     "name": "stdout",
     "output_type": "stream",
     "text": [
      "Current config_a2c is:\n",
      "{'actor_network': {'learning_rate': 0.001},\n",
      " 'entropy': 1,\n",
      " 'env_id': 'Acrobot-v1',\n",
      " 'gamma': 1,\n",
      " 'seed': 1,\n",
      " 'value_network': {'learning_rate': 0.001}}\n"
     ]
    }
   ],
   "source": [
    "#@title Config A2C {display-mode: \"form\", run: \"auto\"}\n",
    "\n",
    "env_id = 'Acrobot-v1'  #@param [\"CartPole-v1\", \"Acrobot-v1\", \"MountainCar-v0\"]\n",
    "value_learning_rate = 0.001  #@param {type: \"number\"}\n",
    "actor_learning_rate = 0.001  #@param {type: \"number\"}\n",
    "gamma = 1  #@param {type: \"number\"}\n",
    "entropy = 1  #@param {type: \"number\"}\n",
    "seed = 1  #@param {type: \"integer\"}\n",
    "#@markdown ---\n",
    "\n",
    "config_a2c = {\n",
    "    'env_id': env_id,\n",
    "    'gamma': gamma,\n",
    "    'seed': seed,\n",
    "    'value_network': {'learning_rate': value_learning_rate},\n",
    "    'actor_network': {'learning_rate': actor_learning_rate},\n",
    "    'entropy': entropy\n",
    "}\n",
    "\n",
    "print(\"Current config_a2c is:\")\n",
    "pprint(config_a2c)"
   ]
  },
  {
   "cell_type": "code",
   "execution_count": 16,
   "metadata": {
    "colab": {
     "base_uri": "https://localhost:8080/",
     "height": 649
    },
    "executionInfo": {
     "elapsed": 346814,
     "status": "ok",
     "timestamp": 1608978809483,
     "user": {
      "displayName": "Sergiy Doroshenko",
      "photoUrl": "https://lh3.googleusercontent.com/a-/AOh14GhO_OOptO_y2EjJ2hrYxPQ2_qQ4VechFVok2VnKEA=s64",
      "userId": "05232094350184309899"
     },
     "user_tz": -120
    },
    "id": "fG52hSe6yFhG",
    "outputId": "940b9e36-f118-4047-b5f0-534c19a82c84"
   },
   "outputs": [
    {
     "name": "stdout",
     "output_type": "stream",
     "text": [
      "Epoch 0/1000: Mean rewards: -496.72, Std: 21.44\n",
      "Epoch 50/1000: Mean rewards: -497.96, Std: 14.28\n",
      "Epoch 100/1000: Mean rewards: -493.66, Std: 19.85\n",
      "Epoch 150/1000: Mean rewards: -499.08, Std: 6.44\n",
      "Epoch 200/1000: Mean rewards: -492.26, Std: 26.89\n",
      "Epoch 250/1000: Mean rewards: -483.98, Std: 41.93\n",
      "Epoch 300/1000: Mean rewards: -476.0, Std: 45.63\n",
      "Epoch 350/1000: Mean rewards: -445.96, Std: 72.27\n",
      "Epoch 400/1000: Mean rewards: -383.68, Std: 87.17\n",
      "Epoch 450/1000: Mean rewards: -359.82, Std: 80.19\n",
      "Epoch 500/1000: Mean rewards: -298.26, Std: 82.72\n",
      "Epoch 550/1000: Mean rewards: -249.96, Std: 59.88\n",
      "Epoch 600/1000: Mean rewards: -247.56, Std: 87.65\n",
      "Epoch 650/1000: Mean rewards: -234.06, Std: 55.57\n",
      "Epoch 700/1000: Mean rewards: -226.04, Std: 62.25\n",
      "Epoch 750/1000: Mean rewards: -178.88, Std: 38.54\n",
      "Epoch 800/1000: Mean rewards: -153.8, Std: 29.51\n",
      "Epoch 850/1000: Mean rewards: -132.3, Std: 29.17\n",
      "Epoch 900/1000: Mean rewards: -132.5, Std: 58.49\n",
      "Epoch 950/1000: Mean rewards: -118.1, Std: 28.79\n",
      "Epoch 999/1000: Mean rewards: -110.22, Std: 23.37\n",
      "The trainnig was done over a total of 1024 episodes\n"
     ]
    },
    {
     "data": {
      "image/png": "[encoded data removed]",
      "text/plain": [
       "<Figure size 432x288 with 1 Axes>"
      ]
     },
     "metadata": {
      "needs_background": "light",
      "tags": []
     },
     "output_type": "display_data"
    }
   ],
   "source": [
    "agent = A2CAgent(config_a2c)\n",
    "rewards = agent.training_batch(1000, 256)"
   ]
  },
  {
   "cell_type": "code",
   "execution_count": 17,
   "metadata": {
    "colab": {
     "base_uri": "https://localhost:8080/",
     "height": 438
    },
    "executionInfo": {
     "elapsed": 3697,
     "status": "ok",
     "timestamp": 1608978935320,
     "user": {
      "displayName": "Sergiy Doroshenko",
      "photoUrl": "https://lh3.googleusercontent.com/a-/AOh14GhO_OOptO_y2EjJ2hrYxPQ2_qQ4VechFVok2VnKEA=s64",
      "userId": "05232094350184309899"
     },
     "user_tz": -120
    },
    "id": "gXmqUtuuyFhJ",
    "outputId": "3b5d1c38-4228-4913-8abf-80c2b2fe0205"
   },
   "outputs": [
    {
     "data": {
      "text/html": [
       "<video alt=\"gym-results/openaigym.video.2.56.video000000.mp4\" autoplay \n",
       "                      loop controls style=\"height: 400px;\">\n",
       "                      <source src=\"data:video/mp4;base64,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\" type=\"video/mp4\" />\n",
       "                 </video>"
      ],
      "text/plain": [
       "<IPython.core.display.HTML object>"
      ]
     },
     "metadata": {
      "tags": []
     },
     "output_type": "display_data"
    },
    {
     "name": "stdout",
     "output_type": "stream",
     "text": [
      "Reward: -154.0\n"
     ]
    }
   ],
   "source": [
    "agent.evaluate(True);"
   ]
  },
  {
   "cell_type": "markdown",
   "metadata": {
    "id": "iz4YuO-dyFhO"
   },
   "source": [
    "**Q.9: What are the strengths and drawbacks of this algorithm? How would you improve it?**"
   ]
  },
  {
   "cell_type": "markdown",
   "metadata": {
    "id": "G7AFxgDv4orr"
   },
   "source": [
    "*Type your answer here*"
   ]
  },
  {
   "cell_type": "markdown",
   "metadata": {
    "id": "CYidT03TyFhP"
   },
   "source": [
    "**Q.10: Compare the three algorithms (sample efficiency, stability, ...)**"
   ]
  },
  {
   "cell_type": "markdown",
   "metadata": {
    "id": "rIKL7MUX4pq6"
   },
   "source": [
    "*Type your answer here*"
   ]
  },
  {
   "cell_type": "markdown",
   "metadata": {
    "id": "NZULYBWcyFhQ"
   },
   "source": [
    "Make sure to try the algorithms with other environments!"
   ]
  }
 ],
 "metadata": {
  "colab": {
   "collapsed_sections": [
    "G1c2c2A4yFfs",
    "L4wSjOadyFf8",
    "IMTSmNrMyFgH",
    "c9eZsGPghzFt",
    "e-dB7kWq4AOu"
   ],
   "name": "Copy of 01_REINFORCE+A2C.ipynb",
   "provenance": [
    {
     "file_id": "https://github.com/yfletberliac/rlss-2019/blob/master/labs/DRL.01.REINFORCE%2BA2C.ipynb",
     "timestamp": 1608927176764
    }
   ],
   "toc_visible": true
  },
  "kernelspec": {
   "display_name": "Python [default]",
   "language": "python",
   "name": "python3"
  },
  "language_info": {
   "codemirror_mode": {
    "name": "ipython",
    "version": 3
   },
   "file_extension": ".py",
   "mimetype": "text/x-python",
   "name": "python",
   "nbconvert_exporter": "python",
   "pygments_lexer": "ipython3",
   "version": "3.7.0"
  }
 },
 "nbformat": 4,
 "nbformat_minor": 1
}
