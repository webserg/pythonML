{
 "cells": [
  {
   "cell_type": "code",
   "execution_count": 1,
   "metadata": {
    "colab": {
     "autoexec": {
      "startup": false,
      "wait_interval": 0
     },
     "base_uri": "https://localhost:8080/",
     "height": 272
    },
    "colab_type": "code",
    "executionInfo": {
     "elapsed": 4038,
     "status": "ok",
     "timestamp": 1528033206543,
     "user": {
      "displayName": "Sergiy Doroshenko",
      "photoUrl": "//lh5.googleusercontent.com/-ZHU_BWQI6Dk/AAAAAAAAAAI/AAAAAAAACRQ/Greo3A_fYWk/s50-c-k-no/photo.jpg",
      "userId": "103686202862696076454"
     },
     "user_tz": -180
    },
    "id": "MpjxIAhoxRNB",
    "outputId": "d90fae36-e3bc-4c18-de4a-5665524c4360"
   },
   "outputs": [
    {
     "name": "stdout",
     "output_type": "stream",
     "text": [
      "Collecting kaggle\n",
      "  Downloading https://files.pythonhosted.org/packages/74/9b/a6bdc22939c32e1cecc086a972b5e3f7c991b73d74dab0e5d82ff80c5968/kaggle-1.3.8.tar.gz\n",
      "Requirement already satisfied: urllib3>=1.15 in /usr/local/lib/python3.6/dist-packages (from kaggle) (1.22)\n",
      "Requirement already satisfied: six>=1.10 in /usr/local/lib/python3.6/dist-packages (from kaggle) (1.11.0)\n",
      "Requirement already satisfied: certifi in /usr/local/lib/python3.6/dist-packages (from kaggle) (2018.4.16)\n",
      "Requirement already satisfied: python-dateutil in /usr/local/lib/python3.6/dist-packages (from kaggle) (2.5.3)\n",
      "Requirement already satisfied: requests in /usr/local/lib/python3.6/dist-packages (from kaggle) (2.18.4)\n",
      "Requirement already satisfied: chardet<3.1.0,>=3.0.2 in /usr/local/lib/python3.6/dist-packages (from requests->kaggle) (3.0.4)\n",
      "Requirement already satisfied: idna<2.7,>=2.5 in /usr/local/lib/python3.6/dist-packages (from requests->kaggle) (2.6)\n",
      "Building wheels for collected packages: kaggle\n",
      "  Running setup.py bdist_wheel for kaggle ... \u001b[?25ldone\n",
      "\u001b[?25h  Stored in directory: /content/.cache/pip/wheels/d6/3c/92/375decc0cf0a65b281db3cca9b8e21dc27b8ebc4d1ce29afca\n",
      "Successfully built kaggle\n",
      "Installing collected packages: kaggle\n",
      "Successfully installed kaggle-1.3.8\n"
     ]
    }
   ],
   "source": [
    "!pip install kaggle"
   ]
  },
  {
   "cell_type": "code",
   "execution_count": 2,
   "metadata": {
    "colab": {
     "autoexec": {
      "startup": false,
      "wait_interval": 0
     },
     "base_uri": "https://localhost:8080/",
     "height": 34
    },
    "colab_type": "code",
    "executionInfo": {
     "elapsed": 1309,
     "status": "ok",
     "timestamp": 1528033234002,
     "user": {
      "displayName": "Sergiy Doroshenko",
      "photoUrl": "//lh5.googleusercontent.com/-ZHU_BWQI6Dk/AAAAAAAAAAI/AAAAAAAACRQ/Greo3A_fYWk/s50-c-k-no/photo.jpg",
      "userId": "103686202862696076454"
     },
     "user_tz": -180
    },
    "id": "fjEzwoPsyMFR",
    "outputId": "cca4735f-d138-4428-d5a5-d7f73247ffbf"
   },
   "outputs": [
    {
     "name": "stdout",
     "output_type": "stream",
     "text": [
      "Download 100%.\n"
     ]
    }
   ],
   "source": [
    "from googleapiclient.discovery import build\n",
    "import io, os\n",
    "from googleapiclient.http import MediaIoBaseDownload\n",
    "from google.colab import auth\n",
    "\n",
    "auth.authenticate_user()\n",
    "\n",
    "drive_service = build('drive', 'v3')\n",
    "results = drive_service.files().list(\n",
    "        q=\"name = 'kaggle.json'\", fields=\"files(id)\").execute()\n",
    "kaggle_api_key = results.get('files', [])\n",
    "\n",
    "filename = \"/content/.kaggle/kaggle.json\"\n",
    "os.makedirs(os.path.dirname(filename), exist_ok=True)\n",
    "\n",
    "request = drive_service.files().get_media(fileId=kaggle_api_key[0]['id'])\n",
    "fh = io.FileIO(filename, 'wb')\n",
    "downloader = MediaIoBaseDownload(fh, request)\n",
    "done = False\n",
    "while done is False:\n",
    "    status, done = downloader.next_chunk()\n",
    "    print(\"Download %d%%.\" % int(status.progress() * 100))\n",
    "os.chmod(filename, 600)"
   ]
  },
  {
   "cell_type": "code",
   "execution_count": 3,
   "metadata": {
    "colab": {
     "autoexec": {
      "startup": false,
      "wait_interval": 0
     },
     "base_uri": "https://localhost:8080/",
     "height": 34
    },
    "colab_type": "code",
    "executionInfo": {
     "elapsed": 1633,
     "status": "ok",
     "timestamp": 1527622074021,
     "user": {
      "displayName": "Sergiy Doroshenko",
      "photoUrl": "//lh5.googleusercontent.com/-ZHU_BWQI6Dk/AAAAAAAAAAI/AAAAAAAACRQ/Greo3A_fYWk/s50-c-k-no/photo.jpg",
      "userId": "103686202862696076454"
     },
     "user_tz": -180
    },
    "id": "LVWMF1bmxOOR",
    "outputId": "22345770-c1a6-496b-de7a-76f2b7f625de"
   },
   "outputs": [
    {
     "name": "stdout",
     "output_type": "stream",
     "text": [
      "/content\n"
     ]
    }
   ],
   "source": [
    "!pwd"
   ]
  },
  {
   "cell_type": "code",
   "execution_count": 3,
   "metadata": {
    "colab": {
     "autoexec": {
      "startup": false,
      "wait_interval": 0
     },
     "base_uri": "https://localhost:8080/",
     "height": 34
    },
    "colab_type": "code",
    "executionInfo": {
     "elapsed": 5365,
     "status": "ok",
     "timestamp": 1528033243589,
     "user": {
      "displayName": "Sergiy Doroshenko",
      "photoUrl": "//lh5.googleusercontent.com/-ZHU_BWQI6Dk/AAAAAAAAAAI/AAAAAAAACRQ/Greo3A_fYWk/s50-c-k-no/photo.jpg",
      "userId": "103686202862696076454"
     },
     "user_tz": -180
    },
    "id": "onMR-_idwmT_",
    "outputId": "22d2e10e-d535-46b5-f4a5-60c6b7c885cb"
   },
   "outputs": [
    {
     "name": "stdout",
     "output_type": "stream",
     "text": [
      "fashionmnist.zip: Downloaded 69MB of 69MB to ./fashionmnist\n"
     ]
    }
   ],
   "source": [
    "!kaggle datasets download -d zalando-research/fashionmnist -p ./fashionmnist"
   ]
  },
  {
   "cell_type": "code",
   "execution_count": 4,
   "metadata": {
    "colab": {
     "autoexec": {
      "startup": false,
      "wait_interval": 0
     },
     "base_uri": "https://localhost:8080/",
     "height": 34
    },
    "colab_type": "code",
    "executionInfo": {
     "elapsed": 7841,
     "status": "ok",
     "timestamp": 1528033252090,
     "user": {
      "displayName": "Sergiy Doroshenko",
      "photoUrl": "//lh5.googleusercontent.com/-ZHU_BWQI6Dk/AAAAAAAAAAI/AAAAAAAACRQ/Greo3A_fYWk/s50-c-k-no/photo.jpg",
      "userId": "103686202862696076454"
     },
     "user_tz": -180
    },
    "id": "ItLWbZWmXhV7",
    "outputId": "a57dd007-ddf7-4bdd-9ef8-17d197b3d392"
   },
   "outputs": [
    {
     "name": "stderr",
     "output_type": "stream",
     "text": [
      "Using TensorFlow backend.\n"
     ]
    }
   ],
   "source": [
    "from keras.utils import to_categorical\n",
    "import numpy as np\n",
    "import pandas as pd\n",
    "from sklearn.model_selection import train_test_split"
   ]
  },
  {
   "cell_type": "code",
   "execution_count": null,
   "metadata": {
    "colab": {
     "autoexec": {
      "startup": false,
      "wait_interval": 0
     }
    },
    "colab_type": "code",
    "id": "AusNDCC8XhV_"
   },
   "outputs": [],
   "source": [
    "data_train = pd.read_csv('./fashionmnist/fashion-mnist_train.csv')\n",
    "data_test = pd.read_csv('./fashionmnist/fashion-mnist_test.csv')\n",
    "img_rows, img_cols = 28, 28\n",
    "input_shape = (img_rows, img_cols, 1)"
   ]
  },
  {
   "cell_type": "code",
   "execution_count": 6,
   "metadata": {
    "colab": {
     "autoexec": {
      "startup": false,
      "wait_interval": 0
     },
     "base_uri": "https://localhost:8080/",
     "height": 233
    },
    "colab_type": "code",
    "executionInfo": {
     "elapsed": 789,
     "status": "ok",
     "timestamp": 1528033262493,
     "user": {
      "displayName": "Sergiy Doroshenko",
      "photoUrl": "//lh5.googleusercontent.com/-ZHU_BWQI6Dk/AAAAAAAAAAI/AAAAAAAACRQ/Greo3A_fYWk/s50-c-k-no/photo.jpg",
      "userId": "103686202862696076454"
     },
     "user_tz": -180
    },
    "id": "AC-EVDRpXhWC",
    "outputId": "d21d4ffd-35e8-412b-84be-72128586a79f"
   },
   "outputs": [
    {
     "data": {
      "text/html": [
       "<div>\n",
       "<style scoped>\n",
       "    .dataframe tbody tr th:only-of-type {\n",
       "        vertical-align: middle;\n",
       "    }\n",
       "\n",
       "    .dataframe tbody tr th {\n",
       "        vertical-align: top;\n",
       "    }\n",
       "\n",
       "    .dataframe thead th {\n",
       "        text-align: right;\n",
       "    }\n",
       "</style>\n",
       "<table border=\"1\" class=\"dataframe\">\n",
       "  <thead>\n",
       "    <tr style=\"text-align: right;\">\n",
       "      <th></th>\n",
       "      <th>label</th>\n",
       "      <th>pixel1</th>\n",
       "      <th>pixel2</th>\n",
       "      <th>pixel3</th>\n",
       "      <th>pixel4</th>\n",
       "      <th>pixel5</th>\n",
       "      <th>pixel6</th>\n",
       "      <th>pixel7</th>\n",
       "      <th>pixel8</th>\n",
       "      <th>pixel9</th>\n",
       "      <th>...</th>\n",
       "      <th>pixel775</th>\n",
       "      <th>pixel776</th>\n",
       "      <th>pixel777</th>\n",
       "      <th>pixel778</th>\n",
       "      <th>pixel779</th>\n",
       "      <th>pixel780</th>\n",
       "      <th>pixel781</th>\n",
       "      <th>pixel782</th>\n",
       "      <th>pixel783</th>\n",
       "      <th>pixel784</th>\n",
       "    </tr>\n",
       "  </thead>\n",
       "  <tbody>\n",
       "    <tr>\n",
       "      <th>0</th>\n",
       "      <td>2</td>\n",
       "      <td>0</td>\n",
       "      <td>0</td>\n",
       "      <td>0</td>\n",
       "      <td>0</td>\n",
       "      <td>0</td>\n",
       "      <td>0</td>\n",
       "      <td>0</td>\n",
       "      <td>0</td>\n",
       "      <td>0</td>\n",
       "      <td>...</td>\n",
       "      <td>0</td>\n",
       "      <td>0</td>\n",
       "      <td>0</td>\n",
       "      <td>0</td>\n",
       "      <td>0</td>\n",
       "      <td>0</td>\n",
       "      <td>0</td>\n",
       "      <td>0</td>\n",
       "      <td>0</td>\n",
       "      <td>0</td>\n",
       "    </tr>\n",
       "    <tr>\n",
       "      <th>1</th>\n",
       "      <td>9</td>\n",
       "      <td>0</td>\n",
       "      <td>0</td>\n",
       "      <td>0</td>\n",
       "      <td>0</td>\n",
       "      <td>0</td>\n",
       "      <td>0</td>\n",
       "      <td>0</td>\n",
       "      <td>0</td>\n",
       "      <td>0</td>\n",
       "      <td>...</td>\n",
       "      <td>0</td>\n",
       "      <td>0</td>\n",
       "      <td>0</td>\n",
       "      <td>0</td>\n",
       "      <td>0</td>\n",
       "      <td>0</td>\n",
       "      <td>0</td>\n",
       "      <td>0</td>\n",
       "      <td>0</td>\n",
       "      <td>0</td>\n",
       "    </tr>\n",
       "    <tr>\n",
       "      <th>2</th>\n",
       "      <td>6</td>\n",
       "      <td>0</td>\n",
       "      <td>0</td>\n",
       "      <td>0</td>\n",
       "      <td>0</td>\n",
       "      <td>0</td>\n",
       "      <td>0</td>\n",
       "      <td>0</td>\n",
       "      <td>5</td>\n",
       "      <td>0</td>\n",
       "      <td>...</td>\n",
       "      <td>0</td>\n",
       "      <td>0</td>\n",
       "      <td>0</td>\n",
       "      <td>30</td>\n",
       "      <td>43</td>\n",
       "      <td>0</td>\n",
       "      <td>0</td>\n",
       "      <td>0</td>\n",
       "      <td>0</td>\n",
       "      <td>0</td>\n",
       "    </tr>\n",
       "    <tr>\n",
       "      <th>3</th>\n",
       "      <td>0</td>\n",
       "      <td>0</td>\n",
       "      <td>0</td>\n",
       "      <td>0</td>\n",
       "      <td>1</td>\n",
       "      <td>2</td>\n",
       "      <td>0</td>\n",
       "      <td>0</td>\n",
       "      <td>0</td>\n",
       "      <td>0</td>\n",
       "      <td>...</td>\n",
       "      <td>3</td>\n",
       "      <td>0</td>\n",
       "      <td>0</td>\n",
       "      <td>0</td>\n",
       "      <td>0</td>\n",
       "      <td>1</td>\n",
       "      <td>0</td>\n",
       "      <td>0</td>\n",
       "      <td>0</td>\n",
       "      <td>0</td>\n",
       "    </tr>\n",
       "    <tr>\n",
       "      <th>4</th>\n",
       "      <td>3</td>\n",
       "      <td>0</td>\n",
       "      <td>0</td>\n",
       "      <td>0</td>\n",
       "      <td>0</td>\n",
       "      <td>0</td>\n",
       "      <td>0</td>\n",
       "      <td>0</td>\n",
       "      <td>0</td>\n",
       "      <td>0</td>\n",
       "      <td>...</td>\n",
       "      <td>0</td>\n",
       "      <td>0</td>\n",
       "      <td>0</td>\n",
       "      <td>0</td>\n",
       "      <td>0</td>\n",
       "      <td>0</td>\n",
       "      <td>0</td>\n",
       "      <td>0</td>\n",
       "      <td>0</td>\n",
       "      <td>0</td>\n",
       "    </tr>\n",
       "  </tbody>\n",
       "</table>\n",
       "<p>5 rows × 785 columns</p>\n",
       "</div>"
      ],
      "text/plain": [
       "   label  pixel1  pixel2  pixel3  pixel4  pixel5  pixel6  pixel7  pixel8  \\\n",
       "0      2       0       0       0       0       0       0       0       0   \n",
       "1      9       0       0       0       0       0       0       0       0   \n",
       "2      6       0       0       0       0       0       0       0       5   \n",
       "3      0       0       0       0       1       2       0       0       0   \n",
       "4      3       0       0       0       0       0       0       0       0   \n",
       "\n",
       "   pixel9    ...     pixel775  pixel776  pixel777  pixel778  pixel779  \\\n",
       "0       0    ...            0         0         0         0         0   \n",
       "1       0    ...            0         0         0         0         0   \n",
       "2       0    ...            0         0         0        30        43   \n",
       "3       0    ...            3         0         0         0         0   \n",
       "4       0    ...            0         0         0         0         0   \n",
       "\n",
       "   pixel780  pixel781  pixel782  pixel783  pixel784  \n",
       "0         0         0         0         0         0  \n",
       "1         0         0         0         0         0  \n",
       "2         0         0         0         0         0  \n",
       "3         1         0         0         0         0  \n",
       "4         0         0         0         0         0  \n",
       "\n",
       "[5 rows x 785 columns]"
      ]
     },
     "execution_count": 6,
     "metadata": {
      "tags": []
     },
     "output_type": "execute_result"
    }
   ],
   "source": [
    "size_of_image = (img_rows, img_cols)\n",
    "data_train.head()"
   ]
  },
  {
   "cell_type": "code",
   "execution_count": 7,
   "metadata": {
    "colab": {
     "autoexec": {
      "startup": false,
      "wait_interval": 0
     },
     "base_uri": "https://localhost:8080/",
     "height": 233
    },
    "colab_type": "code",
    "executionInfo": {
     "elapsed": 485,
     "status": "ok",
     "timestamp": 1528033263234,
     "user": {
      "displayName": "Sergiy Doroshenko",
      "photoUrl": "//lh5.googleusercontent.com/-ZHU_BWQI6Dk/AAAAAAAAAAI/AAAAAAAACRQ/Greo3A_fYWk/s50-c-k-no/photo.jpg",
      "userId": "103686202862696076454"
     },
     "user_tz": -180
    },
    "id": "L1SM_o0PXhWF",
    "outputId": "e7b01c38-e4b3-455c-ea6b-ad23cefb5ea0"
   },
   "outputs": [
    {
     "data": {
      "text/html": [
       "<div>\n",
       "<style scoped>\n",
       "    .dataframe tbody tr th:only-of-type {\n",
       "        vertical-align: middle;\n",
       "    }\n",
       "\n",
       "    .dataframe tbody tr th {\n",
       "        vertical-align: top;\n",
       "    }\n",
       "\n",
       "    .dataframe thead th {\n",
       "        text-align: right;\n",
       "    }\n",
       "</style>\n",
       "<table border=\"1\" class=\"dataframe\">\n",
       "  <thead>\n",
       "    <tr style=\"text-align: right;\">\n",
       "      <th></th>\n",
       "      <th>pixel1</th>\n",
       "      <th>pixel2</th>\n",
       "      <th>pixel3</th>\n",
       "      <th>pixel4</th>\n",
       "      <th>pixel5</th>\n",
       "      <th>pixel6</th>\n",
       "      <th>pixel7</th>\n",
       "      <th>pixel8</th>\n",
       "      <th>pixel9</th>\n",
       "      <th>pixel10</th>\n",
       "      <th>...</th>\n",
       "      <th>pixel775</th>\n",
       "      <th>pixel776</th>\n",
       "      <th>pixel777</th>\n",
       "      <th>pixel778</th>\n",
       "      <th>pixel779</th>\n",
       "      <th>pixel780</th>\n",
       "      <th>pixel781</th>\n",
       "      <th>pixel782</th>\n",
       "      <th>pixel783</th>\n",
       "      <th>pixel784</th>\n",
       "    </tr>\n",
       "  </thead>\n",
       "  <tbody>\n",
       "    <tr>\n",
       "      <th>0</th>\n",
       "      <td>0</td>\n",
       "      <td>0</td>\n",
       "      <td>0</td>\n",
       "      <td>0</td>\n",
       "      <td>0</td>\n",
       "      <td>0</td>\n",
       "      <td>0</td>\n",
       "      <td>0</td>\n",
       "      <td>0</td>\n",
       "      <td>0</td>\n",
       "      <td>...</td>\n",
       "      <td>0</td>\n",
       "      <td>0</td>\n",
       "      <td>0</td>\n",
       "      <td>0</td>\n",
       "      <td>0</td>\n",
       "      <td>0</td>\n",
       "      <td>0</td>\n",
       "      <td>0</td>\n",
       "      <td>0</td>\n",
       "      <td>0</td>\n",
       "    </tr>\n",
       "    <tr>\n",
       "      <th>1</th>\n",
       "      <td>0</td>\n",
       "      <td>0</td>\n",
       "      <td>0</td>\n",
       "      <td>0</td>\n",
       "      <td>0</td>\n",
       "      <td>0</td>\n",
       "      <td>0</td>\n",
       "      <td>0</td>\n",
       "      <td>0</td>\n",
       "      <td>0</td>\n",
       "      <td>...</td>\n",
       "      <td>0</td>\n",
       "      <td>0</td>\n",
       "      <td>0</td>\n",
       "      <td>0</td>\n",
       "      <td>0</td>\n",
       "      <td>0</td>\n",
       "      <td>0</td>\n",
       "      <td>0</td>\n",
       "      <td>0</td>\n",
       "      <td>0</td>\n",
       "    </tr>\n",
       "    <tr>\n",
       "      <th>2</th>\n",
       "      <td>0</td>\n",
       "      <td>0</td>\n",
       "      <td>0</td>\n",
       "      <td>0</td>\n",
       "      <td>0</td>\n",
       "      <td>0</td>\n",
       "      <td>0</td>\n",
       "      <td>5</td>\n",
       "      <td>0</td>\n",
       "      <td>0</td>\n",
       "      <td>...</td>\n",
       "      <td>0</td>\n",
       "      <td>0</td>\n",
       "      <td>0</td>\n",
       "      <td>30</td>\n",
       "      <td>43</td>\n",
       "      <td>0</td>\n",
       "      <td>0</td>\n",
       "      <td>0</td>\n",
       "      <td>0</td>\n",
       "      <td>0</td>\n",
       "    </tr>\n",
       "    <tr>\n",
       "      <th>3</th>\n",
       "      <td>0</td>\n",
       "      <td>0</td>\n",
       "      <td>0</td>\n",
       "      <td>1</td>\n",
       "      <td>2</td>\n",
       "      <td>0</td>\n",
       "      <td>0</td>\n",
       "      <td>0</td>\n",
       "      <td>0</td>\n",
       "      <td>0</td>\n",
       "      <td>...</td>\n",
       "      <td>3</td>\n",
       "      <td>0</td>\n",
       "      <td>0</td>\n",
       "      <td>0</td>\n",
       "      <td>0</td>\n",
       "      <td>1</td>\n",
       "      <td>0</td>\n",
       "      <td>0</td>\n",
       "      <td>0</td>\n",
       "      <td>0</td>\n",
       "    </tr>\n",
       "    <tr>\n",
       "      <th>4</th>\n",
       "      <td>0</td>\n",
       "      <td>0</td>\n",
       "      <td>0</td>\n",
       "      <td>0</td>\n",
       "      <td>0</td>\n",
       "      <td>0</td>\n",
       "      <td>0</td>\n",
       "      <td>0</td>\n",
       "      <td>0</td>\n",
       "      <td>0</td>\n",
       "      <td>...</td>\n",
       "      <td>0</td>\n",
       "      <td>0</td>\n",
       "      <td>0</td>\n",
       "      <td>0</td>\n",
       "      <td>0</td>\n",
       "      <td>0</td>\n",
       "      <td>0</td>\n",
       "      <td>0</td>\n",
       "      <td>0</td>\n",
       "      <td>0</td>\n",
       "    </tr>\n",
       "  </tbody>\n",
       "</table>\n",
       "<p>5 rows × 784 columns</p>\n",
       "</div>"
      ],
      "text/plain": [
       "   pixel1  pixel2  pixel3  pixel4  pixel5  pixel6  pixel7  pixel8  pixel9  \\\n",
       "0       0       0       0       0       0       0       0       0       0   \n",
       "1       0       0       0       0       0       0       0       0       0   \n",
       "2       0       0       0       0       0       0       0       5       0   \n",
       "3       0       0       0       1       2       0       0       0       0   \n",
       "4       0       0       0       0       0       0       0       0       0   \n",
       "\n",
       "   pixel10    ...     pixel775  pixel776  pixel777  pixel778  pixel779  \\\n",
       "0        0    ...            0         0         0         0         0   \n",
       "1        0    ...            0         0         0         0         0   \n",
       "2        0    ...            0         0         0        30        43   \n",
       "3        0    ...            3         0         0         0         0   \n",
       "4        0    ...            0         0         0         0         0   \n",
       "\n",
       "   pixel780  pixel781  pixel782  pixel783  pixel784  \n",
       "0         0         0         0         0         0  \n",
       "1         0         0         0         0         0  \n",
       "2         0         0         0         0         0  \n",
       "3         1         0         0         0         0  \n",
       "4         0         0         0         0         0  \n",
       "\n",
       "[5 rows x 784 columns]"
      ]
     },
     "execution_count": 7,
     "metadata": {
      "tags": []
     },
     "output_type": "execute_result"
    }
   ],
   "source": [
    "data_train.iloc[:,1:].head()"
   ]
  },
  {
   "cell_type": "code",
   "execution_count": 8,
   "metadata": {
    "colab": {
     "autoexec": {
      "startup": false,
      "wait_interval": 0
     },
     "base_uri": "https://localhost:8080/",
     "height": 34
    },
    "colab_type": "code",
    "executionInfo": {
     "elapsed": 703,
     "status": "ok",
     "timestamp": 1528033264189,
     "user": {
      "displayName": "Sergiy Doroshenko",
      "photoUrl": "//lh5.googleusercontent.com/-ZHU_BWQI6Dk/AAAAAAAAAAI/AAAAAAAACRQ/Greo3A_fYWk/s50-c-k-no/photo.jpg",
      "userId": "103686202862696076454"
     },
     "user_tz": -180
    },
    "id": "W8GyltChXhWI",
    "outputId": "fff489d8-0dfe-48c1-edfc-1b859da0e1e4"
   },
   "outputs": [
    {
     "data": {
      "text/plain": [
       "(784,)"
      ]
     },
     "execution_count": 8,
     "metadata": {
      "tags": []
     },
     "output_type": "execute_result"
    }
   ],
   "source": [
    "X = np.array(data_train.iloc[:, 1:])\n",
    "X[0].shape"
   ]
  },
  {
   "cell_type": "code",
   "execution_count": 9,
   "metadata": {
    "colab": {
     "autoexec": {
      "startup": false,
      "wait_interval": 0
     },
     "base_uri": "https://localhost:8080/",
     "height": 138
    },
    "colab_type": "code",
    "executionInfo": {
     "elapsed": 675,
     "status": "ok",
     "timestamp": 1528033265177,
     "user": {
      "displayName": "Sergiy Doroshenko",
      "photoUrl": "//lh5.googleusercontent.com/-ZHU_BWQI6Dk/AAAAAAAAAAI/AAAAAAAACRQ/Greo3A_fYWk/s50-c-k-no/photo.jpg",
      "userId": "103686202862696076454"
     },
     "user_tz": -180
    },
    "id": "KeJPFvAXXhWL",
    "outputId": "31234bd4-c8f2-4c44-a14d-aa561a01d88c"
   },
   "outputs": [
    {
     "data": {
      "image/png": "[encoded data removed]",
      "text/plain": [
       "<matplotlib.figure.Figure at 0x7f2bca7674e0>"
      ]
     },
     "metadata": {
      "tags": []
     },
     "output_type": "display_data"
    }
   ],
   "source": [
    "from matplotlib import pyplot\n",
    "pyplot.subplot(330 + 1+ 1)\n",
    "pyplot.imshow(X[0].reshape(28,28),  cmap=pyplot.get_cmap('gray'))\n",
    "pyplot.show()"
   ]
  },
  {
   "cell_type": "code",
   "execution_count": 10,
   "metadata": {
    "colab": {
     "autoexec": {
      "startup": false,
      "wait_interval": 0
     },
     "base_uri": "https://localhost:8080/",
     "height": 136
    },
    "colab_type": "code",
    "executionInfo": {
     "elapsed": 467,
     "status": "ok",
     "timestamp": 1528033265911,
     "user": {
      "displayName": "Sergiy Doroshenko",
      "photoUrl": "//lh5.googleusercontent.com/-ZHU_BWQI6Dk/AAAAAAAAAAI/AAAAAAAACRQ/Greo3A_fYWk/s50-c-k-no/photo.jpg",
      "userId": "103686202862696076454"
     },
     "user_tz": -180
    },
    "id": "mKtzVegpXhWT",
    "outputId": "072b3a72-3341-4359-f62d-89877608b256"
   },
   "outputs": [
    {
     "data": {
      "text/plain": [
       "array([[0., 0., 1., ..., 0., 0., 0.],\n",
       "       [0., 0., 0., ..., 0., 0., 1.],\n",
       "       [0., 0., 0., ..., 0., 0., 0.],\n",
       "       ...,\n",
       "       [0., 0., 0., ..., 0., 1., 0.],\n",
       "       [0., 0., 0., ..., 0., 1., 0.],\n",
       "       [0., 0., 0., ..., 1., 0., 0.]], dtype=float32)"
      ]
     },
     "execution_count": 10,
     "metadata": {
      "tags": []
     },
     "output_type": "execute_result"
    }
   ],
   "source": [
    "y = to_categorical(np.array(data_train.iloc[:, 0]))\n",
    "y"
   ]
  },
  {
   "cell_type": "code",
   "execution_count": null,
   "metadata": {
    "colab": {
     "autoexec": {
      "startup": false,
      "wait_interval": 0
     }
    },
    "colab_type": "code",
    "id": "cQnyjbmGXhWX"
   },
   "outputs": [],
   "source": [
    "X_train, X_val, y_train, y_val = train_test_split(X, y, test_size=0.2, random_state=13)"
   ]
  },
  {
   "cell_type": "code",
   "execution_count": null,
   "metadata": {
    "colab": {
     "autoexec": {
      "startup": false,
      "wait_interval": 0
     }
    },
    "colab_type": "code",
    "id": "vqiCNWGUXhWa"
   },
   "outputs": [],
   "source": [
    "X_test = np.array(data_test.iloc[:, 1:])\n",
    "y_test = to_categorical(np.array(data_test.iloc[:, 0]))"
   ]
  },
  {
   "cell_type": "code",
   "execution_count": 13,
   "metadata": {
    "colab": {
     "autoexec": {
      "startup": false,
      "wait_interval": 0
     },
     "base_uri": "https://localhost:8080/",
     "height": 34
    },
    "colab_type": "code",
    "executionInfo": {
     "elapsed": 566,
     "status": "ok",
     "timestamp": 1528033269631,
     "user": {
      "displayName": "Sergiy Doroshenko",
      "photoUrl": "//lh5.googleusercontent.com/-ZHU_BWQI6Dk/AAAAAAAAAAI/AAAAAAAACRQ/Greo3A_fYWk/s50-c-k-no/photo.jpg",
      "userId": "103686202862696076454"
     },
     "user_tz": -180
    },
    "id": "m5oSlsb1XhWd",
    "outputId": "a4ca84bf-732a-4b00-c51f-f22bba3a54f4"
   },
   "outputs": [
    {
     "name": "stdout",
     "output_type": "stream",
     "text": [
      "(48000, 28, 28, 1)\n"
     ]
    }
   ],
   "source": [
    "X_train = X_train.reshape(X_train.shape[0], img_rows, img_cols, 1)\n",
    "print(X_train.shape)\n",
    "X_test = X_test.reshape(X_test.shape[0], img_rows, img_cols, 1)\n",
    "X_val = X_val.reshape(X_val.shape[0], img_rows, img_cols, 1)\n",
    "# convert from int to float\n",
    "X_train = X_train.astype('float32')\n",
    "X_val = X_val.astype('float32')\n",
    "X_test = X_test.astype('float32')"
   ]
  },
  {
   "cell_type": "code",
   "execution_count": 14,
   "metadata": {
    "colab": {
     "autoexec": {
      "startup": false,
      "wait_interval": 0
     },
     "base_uri": "https://localhost:8080/",
     "height": 349
    },
    "colab_type": "code",
    "executionInfo": {
     "elapsed": 1714,
     "status": "ok",
     "timestamp": 1528033271519,
     "user": {
      "displayName": "Sergiy Doroshenko",
      "photoUrl": "//lh5.googleusercontent.com/-ZHU_BWQI6Dk/AAAAAAAAAAI/AAAAAAAACRQ/Greo3A_fYWk/s50-c-k-no/photo.jpg",
      "userId": "103686202862696076454"
     },
     "user_tz": -180
    },
    "id": "iD5tBlwuXhWf",
    "outputId": "a1d8fa80-cec6-44d9-9546-1a085980794a"
   },
   "outputs": [
    {
     "data": {
      "image/png": "[encoded data removed]",
      "text/plain": [
       "<matplotlib.figure.Figure at 0x7f2bca089550>"
      ]
     },
     "metadata": {
      "tags": []
     },
     "output_type": "display_data"
    }
   ],
   "source": [
    "from keras.preprocessing.image import ImageDataGenerator\n",
    "train_datagen = ImageDataGenerator(featurewise_center=True, featurewise_std_normalization=True)\n",
    "# fit parameters from data\n",
    "train_datagen.fit(X_train)\n",
    "\n",
    "validation_datagen = ImageDataGenerator(featurewise_center=True, featurewise_std_normalization=True)\n",
    "# fit parameters from data\n",
    "validation_datagen.fit(X_val)\n",
    "# configure batch size and retrieve one batch of images\n",
    "for X_batch, y_batch in train_datagen.flow(X_train, y_train, batch_size=9):\n",
    "    # create a grid of 3x3 images\n",
    "    for i in range(0, 9):\n",
    "        pyplot.subplot(330 + 1 + i)\n",
    "        pyplot.imshow(X_batch[i].reshape(28, 28), cmap=pyplot.get_cmap('gray'))\n",
    "    # show the plot\n",
    "    pyplot.show()\n",
    "    break"
   ]
  },
  {
   "cell_type": "code",
   "execution_count": null,
   "metadata": {
    "colab": {
     "autoexec": {
      "startup": false,
      "wait_interval": 0
     }
    },
    "colab_type": "code",
    "id": "qk7Pk934wmUv"
   },
   "outputs": [],
   "source": [
    "train_generator = train_datagen.flow(\n",
    "X_train,\n",
    "y_train,\n",
    "batch_size=32)\n",
    "validation_generator = validation_datagen.flow(\n",
    "X_val,\n",
    "y_val,\n",
    "batch_size=32)"
   ]
  },
  {
   "cell_type": "code",
   "execution_count": 16,
   "metadata": {
    "colab": {
     "autoexec": {
      "startup": false,
      "wait_interval": 0
     },
     "base_uri": "https://localhost:8080/",
     "height": 206
    },
    "colab_type": "code",
    "executionInfo": {
     "elapsed": 632,
     "status": "ok",
     "timestamp": 1528033279201,
     "user": {
      "displayName": "Sergiy Doroshenko",
      "photoUrl": "//lh5.googleusercontent.com/-ZHU_BWQI6Dk/AAAAAAAAAAI/AAAAAAAACRQ/Greo3A_fYWk/s50-c-k-no/photo.jpg",
      "userId": "103686202862696076454"
     },
     "user_tz": -180
    },
    "id": "85qgRgw9huVO",
    "outputId": "05867da7-6382-49e5-beed-50243e396479"
   },
   "outputs": [
    {
     "name": "stdout",
     "output_type": "stream",
     "text": [
      "32\n",
      "<class 'tuple'>\n",
      "<class 'numpy.ndarray'>\n",
      "(28, 28, 1)\n"
     ]
    },
    {
     "data": {
      "image/png": "[encoded data removed]",
      "text/plain": [
       "<matplotlib.figure.Figure at 0x7f2bca3986d8>"
      ]
     },
     "metadata": {
      "tags": []
     },
     "output_type": "display_data"
    }
   ],
   "source": [
    "from matplotlib import pyplot\n",
    "print(validation_generator.batch_size)\n",
    "print(type(validation_generator.next()))\n",
    "(q,w)=validation_generator.next()\n",
    "print(type(q[0]))\n",
    "print(q[2].shape)\n",
    "pyplot.subplot(330 + 1 + 1)\n",
    "pyplot.imshow(q[4].reshape(size_of_image),  cmap=pyplot.get_cmap('gray'))\n",
    "pyplot.show()"
   ]
  },
  {
   "cell_type": "code",
   "execution_count": 18,
   "metadata": {
    "colab": {
     "autoexec": {
      "startup": false,
      "wait_interval": 0
     },
     "base_uri": "https://localhost:8080/",
     "height": 578
    },
    "colab_type": "code",
    "executionInfo": {
     "elapsed": 541,
     "status": "ok",
     "timestamp": 1528033567274,
     "user": {
      "displayName": "Sergiy Doroshenko",
      "photoUrl": "//lh5.googleusercontent.com/-ZHU_BWQI6Dk/AAAAAAAAAAI/AAAAAAAACRQ/Greo3A_fYWk/s50-c-k-no/photo.jpg",
      "userId": "103686202862696076454"
     },
     "user_tz": -180
    },
    "id": "TjBQpj1-wmUz",
    "outputId": "e8f8b8b2-cdbe-42e6-fad0-2431b32d3792"
   },
   "outputs": [
    {
     "name": "stdout",
     "output_type": "stream",
     "text": [
      "_________________________________________________________________\n",
      "Layer (type)                 Output Shape              Param #   \n",
      "=================================================================\n",
      "conv2d_5 (Conv2D)            (None, 26, 26, 32)        320       \n",
      "_________________________________________________________________\n",
      "max_pooling2d_4 (MaxPooling2 (None, 13, 13, 32)        0         \n",
      "_________________________________________________________________\n",
      "dropout_4 (Dropout)          (None, 13, 13, 32)        0         \n",
      "_________________________________________________________________\n",
      "conv2d_6 (Conv2D)            (None, 11, 11, 64)        18496     \n",
      "_________________________________________________________________\n",
      "conv2d_7 (Conv2D)            (None, 9, 9, 64)          36928     \n",
      "_________________________________________________________________\n",
      "max_pooling2d_5 (MaxPooling2 (None, 4, 4, 64)          0         \n",
      "_________________________________________________________________\n",
      "dropout_5 (Dropout)          (None, 4, 4, 64)          0         \n",
      "_________________________________________________________________\n",
      "conv2d_8 (Conv2D)            (None, 2, 2, 128)         73856     \n",
      "_________________________________________________________________\n",
      "max_pooling2d_6 (MaxPooling2 (None, 1, 1, 128)         0         \n",
      "_________________________________________________________________\n",
      "dropout_6 (Dropout)          (None, 1, 1, 128)         0         \n",
      "_________________________________________________________________\n",
      "flatten_1 (Flatten)          (None, 128)               0         \n",
      "_________________________________________________________________\n",
      "dense_1 (Dense)              (None, 256)               33024     \n",
      "_________________________________________________________________\n",
      "dense_2 (Dense)              (None, 10)                2570      \n",
      "=================================================================\n",
      "Total params: 165,194\n",
      "Trainable params: 165,194\n",
      "Non-trainable params: 0\n",
      "_________________________________________________________________\n"
     ]
    }
   ],
   "source": [
    "from keras import layers\n",
    "from keras import models\n",
    "\n",
    "\n",
    "model = models.Sequential()\n",
    "model.add(layers.Conv2D(32, kernel_size=(3, 3),\n",
    "                 activation='relu',\n",
    "                 kernel_initializer='he_normal',\n",
    "                 input_shape=input_shape))\n",
    "model.add(layers.MaxPooling2D((2, 2)))\n",
    "model.add(layers.Dropout(0.2))\n",
    "model.add(layers.Conv2D(64, (3, 3), activation='relu'))\n",
    "model.add(layers.Conv2D(64, (3, 3), activation='relu'))\n",
    "model.add(layers.MaxPooling2D((2, 2)))\n",
    "model.add(layers.Dropout(0.2))\n",
    "model.add(layers.Conv2D(128, (3, 3), activation='relu'))\n",
    "model.add(layers.MaxPooling2D((2, 2)))\n",
    "model.add(layers.Dropout(0.5))\n",
    "model.add(layers.Flatten())\n",
    "model.add(layers.Dense(256, activation='relu'))\n",
    "model.add(layers.Dense(10, activation='softmax'))\n",
    "\n",
    "model.summary()"
   ]
  },
  {
   "cell_type": "code",
   "execution_count": null,
   "metadata": {
    "colab": {
     "autoexec": {
      "startup": false,
      "wait_interval": 0
     }
    },
    "colab_type": "code",
    "id": "NXcd6YDlwmU2"
   },
   "outputs": [],
   "source": [
    "from keras import optimizers\n",
    "from keras import losses\n",
    "model.compile(loss=losses.categorical_crossentropy,\n",
    "              optimizer=optimizers.Adam(lr=0.0001),\n",
    "              metrics=['accuracy'])"
   ]
  },
  {
   "cell_type": "code",
   "execution_count": 20,
   "metadata": {
    "colab": {
     "autoexec": {
      "startup": false,
      "wait_interval": 0
     },
     "base_uri": "https://localhost:8080/",
     "height": 1717
    },
    "colab_type": "code",
    "executionInfo": {
     "elapsed": 1178877,
     "status": "ok",
     "timestamp": 1528034771567,
     "user": {
      "displayName": "Sergiy Doroshenko",
      "photoUrl": "//lh5.googleusercontent.com/-ZHU_BWQI6Dk/AAAAAAAAAAI/AAAAAAAACRQ/Greo3A_fYWk/s50-c-k-no/photo.jpg",
      "userId": "103686202862696076454"
     },
     "user_tz": -180
    },
    "id": "gIxgTWSvwmU5",
    "outputId": "0b72dfa5-d4d9-4f36-9478-5ffe68fd62c5"
   },
   "outputs": [
    {
     "name": "stdout",
     "output_type": "stream",
     "text": [
      "Epoch 1/50\n",
      "1500/1500 [==============================] - 25s 17ms/step - loss: 1.0232 - acc: 0.6224 - val_loss: 0.6265 - val_acc: 0.7605\n",
      "Epoch 2/50\n",
      "1110/1500 [=====================>........] - ETA: 5s - loss: 0.6890 - acc: 0.73861500/1500 [==============================] - 24s 16ms/step - loss: 0.6766 - acc: 0.7443 - val_loss: 0.5468 - val_acc: 0.7868\n",
      "Epoch 3/50\n",
      "1500/1500 [==============================] - 24s 16ms/step - loss: 0.5956 - acc: 0.7766 - val_loss: 0.4747 - val_acc: 0.8250\n",
      "Epoch 4/50\n",
      "  92/1500 [>.............................] - ETA: 20s - loss: 0.5749 - acc: 0.78531500/1500 [==============================] - 24s 16ms/step - loss: 0.5423 - acc: 0.8001 - val_loss: 0.4420 - val_acc: 0.8373\n",
      "Epoch 5/50\n",
      "1277/1500 [========================>.....] - ETA: 3s - loss: 0.5137 - acc: 0.81301500/1500 [==============================] - 24s 16ms/step - loss: 0.5101 - acc: 0.8146 - val_loss: 0.4114 - val_acc: 0.8513\n",
      "Epoch 6/50\n",
      "1500/1500 [==============================] - 24s 16ms/step - loss: 0.4753 - acc: 0.8270 - val_loss: 0.3786 - val_acc: 0.8615\n",
      "Epoch 7/50\n",
      " 125/1500 [=>............................] - ETA: 20s - loss: 0.4453 - acc: 0.83601500/1500 [==============================] - 24s 16ms/step - loss: 0.4486 - acc: 0.8389 - val_loss: 0.3644 - val_acc: 0.8665\n",
      "Epoch 8/50\n",
      "1292/1500 [========================>.....] - ETA: 3s - loss: 0.4322 - acc: 0.84471500/1500 [==============================] - 23s 16ms/step - loss: 0.4320 - acc: 0.8444 - val_loss: 0.3759 - val_acc: 0.8568\n",
      "Epoch 9/50\n",
      "1500/1500 [==============================] - 24s 16ms/step - loss: 0.4125 - acc: 0.8509 - val_loss: 0.3450 - val_acc: 0.8738\n",
      "Epoch 10/50\n",
      " 131/1500 [=>............................] - ETA: 19s - loss: 0.4127 - acc: 0.85191500/1500 [==============================] - 24s 16ms/step - loss: 0.3971 - acc: 0.8584 - val_loss: 0.3322 - val_acc: 0.8792\n",
      "Epoch 11/50\n",
      "1281/1500 [========================>.....] - ETA: 3s - loss: 0.3848 - acc: 0.86591500/1500 [==============================] - 24s 16ms/step - loss: 0.3839 - acc: 0.8656 - val_loss: 0.3202 - val_acc: 0.8817\n",
      "Epoch 12/50\n",
      "1500/1500 [==============================] - 23s 16ms/step - loss: 0.3732 - acc: 0.8671 - val_loss: 0.3119 - val_acc: 0.8848\n",
      "Epoch 13/50\n",
      " 128/1500 [=>............................] - ETA: 19s - loss: 0.3565 - acc: 0.87281500/1500 [==============================] - 23s 16ms/step - loss: 0.3611 - acc: 0.8709 - val_loss: 0.3080 - val_acc: 0.8881\n",
      "Epoch 14/50\n",
      "1289/1500 [========================>.....] - ETA: 3s - loss: 0.3570 - acc: 0.87281500/1500 [==============================] - 24s 16ms/step - loss: 0.3579 - acc: 0.8724 - val_loss: 0.3056 - val_acc: 0.8846\n",
      "Epoch 15/50\n",
      "1500/1500 [==============================] - 24s 16ms/step - loss: 0.3449 - acc: 0.8771 - val_loss: 0.3072 - val_acc: 0.8834\n",
      "Epoch 16/50\n",
      " 128/1500 [=>............................] - ETA: 19s - loss: 0.3360 - acc: 0.87741500/1500 [==============================] - 24s 16ms/step - loss: 0.3361 - acc: 0.8795 - val_loss: 0.2913 - val_acc: 0.8928\n",
      "Epoch 17/50\n",
      "1272/1500 [========================>.....] - ETA: 3s - loss: 0.3310 - acc: 0.88061500/1500 [==============================] - 24s 16ms/step - loss: 0.3296 - acc: 0.8808 - val_loss: 0.2857 - val_acc: 0.8929\n",
      "Epoch 18/50\n",
      "1500/1500 [==============================] - 24s 16ms/step - loss: 0.3203 - acc: 0.8846 - val_loss: 0.2840 - val_acc: 0.8961\n",
      "Epoch 19/50\n",
      " 128/1500 [=>............................] - ETA: 20s - loss: 0.3198 - acc: 0.88941500/1500 [==============================] - 24s 16ms/step - loss: 0.3164 - acc: 0.8857 - val_loss: 0.2818 - val_acc: 0.8942\n",
      "Epoch 20/50\n",
      "1287/1500 [========================>.....] - ETA: 3s - loss: 0.3087 - acc: 0.88951500/1500 [==============================] - 24s 16ms/step - loss: 0.3113 - acc: 0.8884 - val_loss: 0.2702 - val_acc: 0.8979\n",
      "Epoch 21/50\n",
      "1500/1500 [==============================] - 24s 16ms/step - loss: 0.3077 - acc: 0.8898 - val_loss: 0.2681 - val_acc: 0.8995\n",
      "Epoch 22/50\n",
      " 131/1500 [=>............................] - ETA: 19s - loss: 0.3108 - acc: 0.88671500/1500 [==============================] - 24s 16ms/step - loss: 0.3022 - acc: 0.8905 - val_loss: 0.2677 - val_acc: 0.8989\n",
      "Epoch 23/50\n",
      "1284/1500 [========================>.....] - ETA: 3s - loss: 0.2948 - acc: 0.89261500/1500 [==============================] - 24s 16ms/step - loss: 0.2928 - acc: 0.8934 - val_loss: 0.2674 - val_acc: 0.8988\n",
      "Epoch 24/50\n",
      "1500/1500 [==============================] - 24s 16ms/step - loss: 0.2916 - acc: 0.8941 - val_loss: 0.2599 - val_acc: 0.9012\n",
      "Epoch 25/50\n",
      " 132/1500 [=>............................] - ETA: 19s - loss: 0.2978 - acc: 0.88831500/1500 [==============================] - 24s 16ms/step - loss: 0.2873 - acc: 0.8962 - val_loss: 0.2626 - val_acc: 0.9002\n",
      "Epoch 26/50\n",
      "1287/1500 [========================>.....] - ETA: 3s - loss: 0.2832 - acc: 0.89781500/1500 [==============================] - 24s 16ms/step - loss: 0.2833 - acc: 0.8976 - val_loss: 0.2597 - val_acc: 0.9038\n",
      "Epoch 27/50\n",
      "1500/1500 [==============================] - 24s 16ms/step - loss: 0.2784 - acc: 0.8976 - val_loss: 0.2559 - val_acc: 0.9040\n",
      "Epoch 28/50\n",
      " 127/1500 [=>............................] - ETA: 20s - loss: 0.2640 - acc: 0.90081500/1500 [==============================] - 23s 16ms/step - loss: 0.2754 - acc: 0.8989 - val_loss: 0.2478 - val_acc: 0.9058\n",
      "Epoch 29/50\n",
      "1292/1500 [========================>.....] - ETA: 3s - loss: 0.2726 - acc: 0.90201500/1500 [==============================] - 23s 16ms/step - loss: 0.2727 - acc: 0.9017 - val_loss: 0.2500 - val_acc: 0.9062\n",
      "Epoch 30/50\n",
      "1500/1500 [==============================] - 23s 16ms/step - loss: 0.2675 - acc: 0.9025 - val_loss: 0.2468 - val_acc: 0.9077\n",
      "Epoch 31/50\n",
      " 130/1500 [=>............................] - ETA: 19s - loss: 0.2487 - acc: 0.91111500/1500 [==============================] - 24s 16ms/step - loss: 0.2672 - acc: 0.9029 - val_loss: 0.2481 - val_acc: 0.9083\n",
      "Epoch 32/50\n",
      "1291/1500 [========================>.....] - ETA: 3s - loss: 0.2625 - acc: 0.90451500/1500 [==============================] - 23s 16ms/step - loss: 0.2614 - acc: 0.9049 - val_loss: 0.2441 - val_acc: 0.9097\n",
      "Epoch 33/50\n",
      "1500/1500 [==============================] - 23s 15ms/step - loss: 0.2618 - acc: 0.9054 - val_loss: 0.2459 - val_acc: 0.9093\n",
      "Epoch 34/50\n",
      " 137/1500 [=>............................] - ETA: 19s - loss: 0.2533 - acc: 0.91151500/1500 [==============================] - 23s 16ms/step - loss: 0.2566 - acc: 0.9068 - val_loss: 0.2483 - val_acc: 0.9077\n",
      "Epoch 35/50\n",
      "1299/1500 [========================>.....] - ETA: 2s - loss: 0.2515 - acc: 0.90721500/1500 [==============================] - 23s 16ms/step - loss: 0.2516 - acc: 0.9073 - val_loss: 0.2406 - val_acc: 0.9106\n",
      "Epoch 36/50\n",
      "1500/1500 [==============================] - 23s 16ms/step - loss: 0.2504 - acc: 0.9086 - val_loss: 0.2413 - val_acc: 0.9121\n",
      "Epoch 37/50\n",
      " 139/1500 [=>............................] - ETA: 19s - loss: 0.2526 - acc: 0.90801500/1500 [==============================] - 23s 16ms/step - loss: 0.2461 - acc: 0.9097 - val_loss: 0.2382 - val_acc: 0.9123\n",
      "Epoch 38/50\n",
      "1287/1500 [========================>.....] - ETA: 3s - loss: 0.2461 - acc: 0.90971500/1500 [==============================] - 23s 16ms/step - loss: 0.2469 - acc: 0.9093 - val_loss: 0.2412 - val_acc: 0.9084\n",
      "Epoch 39/50\n",
      "1500/1500 [==============================] - 23s 16ms/step - loss: 0.2427 - acc: 0.9115 - val_loss: 0.2370 - val_acc: 0.9105\n",
      "Epoch 40/50\n",
      " 130/1500 [=>............................] - ETA: 19s - loss: 0.2320 - acc: 0.91661500/1500 [==============================] - 23s 16ms/step - loss: 0.2403 - acc: 0.9136 - val_loss: 0.2339 - val_acc: 0.9144\n",
      "Epoch 41/50\n",
      "1288/1500 [========================>.....] - ETA: 3s - loss: 0.2353 - acc: 0.91491500/1500 [==============================] - 24s 16ms/step - loss: 0.2337 - acc: 0.9151 - val_loss: 0.2332 - val_acc: 0.9131\n",
      "Epoch 42/50\n",
      "1500/1500 [==============================] - 24s 16ms/step - loss: 0.2361 - acc: 0.9134 - val_loss: 0.2390 - val_acc: 0.9135\n",
      "Epoch 43/50\n",
      " 131/1500 [=>............................] - ETA: 19s - loss: 0.2286 - acc: 0.91701500/1500 [==============================] - 24s 16ms/step - loss: 0.2331 - acc: 0.9149 - val_loss: 0.2299 - val_acc: 0.9170\n",
      "Epoch 44/50\n",
      "1283/1500 [========================>.....] - ETA: 3s - loss: 0.2282 - acc: 0.91621500/1500 [==============================] - 24s 16ms/step - loss: 0.2300 - acc: 0.9160 - val_loss: 0.2284 - val_acc: 0.9140\n",
      "Epoch 45/50\n",
      "1500/1500 [==============================] - 23s 16ms/step - loss: 0.2269 - acc: 0.9166 - val_loss: 0.2351 - val_acc: 0.9143\n",
      "Epoch 46/50\n",
      " 132/1500 [=>............................] - ETA: 19s - loss: 0.2240 - acc: 0.92401500/1500 [==============================] - 24s 16ms/step - loss: 0.2258 - acc: 0.9178 - val_loss: 0.2276 - val_acc: 0.9151\n",
      "Epoch 47/50\n",
      "1286/1500 [========================>.....] - ETA: 3s - loss: 0.2234 - acc: 0.91821500/1500 [==============================] - 24s 16ms/step - loss: 0.2246 - acc: 0.9177 - val_loss: 0.2388 - val_acc: 0.9123\n",
      "Epoch 48/50\n",
      "1500/1500 [==============================] - 24s 16ms/step - loss: 0.2192 - acc: 0.9196 - val_loss: 0.2294 - val_acc: 0.9152\n",
      "Epoch 49/50\n",
      " 128/1500 [=>............................] - ETA: 19s - loss: 0.2180 - acc: 0.92331500/1500 [==============================] - 24s 16ms/step - loss: 0.2213 - acc: 0.9193 - val_loss: 0.2292 - val_acc: 0.9161\n",
      "Epoch 50/50\n",
      "1291/1500 [========================>.....] - ETA: 3s - loss: 0.2214 - acc: 0.91881500/1500 [==============================] - 24s 16ms/step - loss: 0.2203 - acc: 0.9191 - val_loss: 0.2314 - val_acc: 0.9148\n"
     ]
    }
   ],
   "source": [
    "history = model.fit_generator(train_generator,\n",
    "          epochs=50,\n",
    "          verbose=1,\n",
    "          validation_data=validation_generator)\n",
    "model.save('./fashion_1.h5')"
   ]
  },
  {
   "cell_type": "code",
   "execution_count": 21,
   "metadata": {
    "colab": {
     "autoexec": {
      "startup": false,
      "wait_interval": 0
     },
     "base_uri": "https://localhost:8080/",
     "height": 707
    },
    "colab_type": "code",
    "executionInfo": {
     "elapsed": 1236,
     "status": "ok",
     "timestamp": 1528034776827,
     "user": {
      "displayName": "Sergiy Doroshenko",
      "photoUrl": "//lh5.googleusercontent.com/-ZHU_BWQI6Dk/AAAAAAAAAAI/AAAAAAAACRQ/Greo3A_fYWk/s50-c-k-no/photo.jpg",
      "userId": "103686202862696076454"
     },
     "user_tz": -180
    },
    "id": "exNUDYpMwmU-",
    "outputId": "d6a7e64f-98ae-49ff-84d1-b0c67ecf8947"
   },
   "outputs": [
    {
     "data": {
      "image/png": "[encoded data removed]",
      "text/plain": [
       "<matplotlib.figure.Figure at 0x7f2bc6ec1080>"
      ]
     },
     "metadata": {
      "tags": []
     },
     "output_type": "display_data"
    },
    {
     "data": {
      "image/png": "[encoded data removed]",
      "text/plain": [
       "<matplotlib.figure.Figure at 0x7f2bca332588>"
      ]
     },
     "metadata": {
      "tags": []
     },
     "output_type": "display_data"
    }
   ],
   "source": [
    "import matplotlib.pyplot as plt\n",
    "\n",
    "acc = history.history['acc']\n",
    "val_acc = history.history['val_acc']\n",
    "loss = history.history['loss']\n",
    "val_loss = history.history['val_loss']\n",
    "\n",
    "epochs = range(len(acc))\n",
    "\n",
    "plt.plot(epochs, acc, 'bo', label='Training acc')\n",
    "plt.plot(epochs, val_acc, 'b', label='Validation acc')\n",
    "plt.title('Training and validation accuracy')\n",
    "plt.legend()\n",
    "\n",
    "plt.figure()\n",
    "\n",
    "plt.plot(epochs, loss, 'bo', label='Training loss')\n",
    "plt.plot(epochs, val_loss, 'b', label='Validation loss')\n",
    "plt.title('Training and validation loss')\n",
    "plt.legend()\n",
    "\n",
    "plt.show()"
   ]
  },
  {
   "cell_type": "code",
   "execution_count": null,
   "metadata": {
    "colab": {
     "autoexec": {
      "startup": false,
      "wait_interval": 0
     },
     "base_uri": "https://localhost:8080/",
     "height": 34
    },
    "colab_type": "code",
    "executionInfo": {
     "elapsed": 744,
     "status": "ok",
     "timestamp": 1526676005611,
     "user": {
      "displayName": "Sergiy Doroshenko",
      "photoUrl": "//lh5.googleusercontent.com/-ZHU_BWQI6Dk/AAAAAAAAAAI/AAAAAAAACRQ/Greo3A_fYWk/s50-c-k-no/photo.jpg",
      "userId": "103686202862696076454"
     },
     "user_tz": -180
    },
    "id": "AUV0kenlwmVC",
    "outputId": "6501b941-8ae4-415a-8f6e-597e33babc35"
   },
   "outputs": [
    {
     "name": "stdout",
     "output_type": "stream",
     "text": [
      "dict_keys(['val_loss', 'val_acc', 'loss', 'acc'])\n"
     ]
    }
   ],
   "source": [
    "print(history.history.keys())"
   ]
  },
  {
   "cell_type": "code",
   "execution_count": null,
   "metadata": {
    "colab": {
     "autoexec": {
      "startup": false,
      "wait_interval": 0
     }
    },
    "colab_type": "code",
    "id": "HinDSdTmwmVF"
   },
   "outputs": [],
   "source": [
    "from keras.preprocessing.image import ImageDataGenerator\n",
    "test_datagen = ImageDataGenerator(featurewise_center=True, featurewise_std_normalization=True)\n",
    "test_datagen.fit(X_test)\n",
    "test_generator = test_datagen.flow(\n",
    "X_test,\n",
    "y_test,\n",
    "batch_size=32)"
   ]
  },
  {
   "cell_type": "code",
   "execution_count": null,
   "metadata": {
    "colab": {
     "autoexec": {
      "startup": false,
      "wait_interval": 0
     }
    },
    "colab_type": "code",
    "id": "GZ4KDz1tXhW8"
   },
   "outputs": [],
   "source": [
    "import numpy as np\n",
    "res = model.evaluate_generator(test_generator)"
   ]
  },
  {
   "cell_type": "code",
   "execution_count": 24,
   "metadata": {
    "colab": {
     "autoexec": {
      "startup": false,
      "wait_interval": 0
     },
     "base_uri": "https://localhost:8080/",
     "height": 68
    },
    "colab_type": "code",
    "executionInfo": {
     "elapsed": 549,
     "status": "ok",
     "timestamp": 1528034796736,
     "user": {
      "displayName": "Sergiy Doroshenko",
      "photoUrl": "//lh5.googleusercontent.com/-ZHU_BWQI6Dk/AAAAAAAAAAI/AAAAAAAACRQ/Greo3A_fYWk/s50-c-k-no/photo.jpg",
      "userId": "103686202862696076454"
     },
     "user_tz": -180
    },
    "id": "j8tNaqdswmVK",
    "outputId": "9c62228d-9cbe-42e0-da01-c09894beda0d"
   },
   "outputs": [
    {
     "name": "stdout",
     "output_type": "stream",
     "text": [
      "[0.22599801642894746, 0.9177]\n",
      "Test loss: 0.22599801642894746\n",
      "Test accuracy: 0.9177\n"
     ]
    }
   ],
   "source": [
    "print(res)\n",
    "print('Test loss:', res[0])\n",
    "print('Test accuracy:', res[1])"
   ]
  },
  {
   "cell_type": "code",
   "execution_count": null,
   "metadata": {
    "colab": {
     "autoexec": {
      "startup": false,
      "wait_interval": 0
     }
    },
    "colab_type": "code",
    "id": "p9ArCS90oDGu"
   },
   "outputs": [],
   "source": [
    "#get the predictions for the test data\n",
    "predicted_classes = model.predict_classes(X_test)\n",
    "\n",
    "#get the indices to be plotted\n",
    "y_true = data_test.iloc[:, 0]\n",
    "correct = np.nonzero(predicted_classes==y_true)[0]\n",
    "incorrect = np.nonzero(predicted_classes!=y_true)[0]"
   ]
  },
  {
   "cell_type": "code",
   "execution_count": 26,
   "metadata": {
    "colab": {
     "autoexec": {
      "startup": false,
      "wait_interval": 0
     },
     "base_uri": "https://localhost:8080/",
     "height": 272
    },
    "colab_type": "code",
    "executionInfo": {
     "elapsed": 551,
     "status": "ok",
     "timestamp": 1528034827015,
     "user": {
      "displayName": "Sergiy Doroshenko",
      "photoUrl": "//lh5.googleusercontent.com/-ZHU_BWQI6Dk/AAAAAAAAAAI/AAAAAAAACRQ/Greo3A_fYWk/s50-c-k-no/photo.jpg",
      "userId": "103686202862696076454"
     },
     "user_tz": -180
    },
    "id": "ZWEUBPkNoF3K",
    "outputId": "0cb357cb-e0b4-4247-f270-644b243ffbf2"
   },
   "outputs": [
    {
     "name": "stdout",
     "output_type": "stream",
     "text": [
      "             precision    recall  f1-score   support\n",
      "\n",
      "    Class 0       0.96      0.31      0.47      1000\n",
      "    Class 1       0.97      0.97      0.97      1000\n",
      "    Class 2       0.84      0.11      0.20      1000\n",
      "    Class 3       0.96      0.56      0.71      1000\n",
      "    Class 4       0.36      0.97      0.52      1000\n",
      "    Class 5       0.96      0.75      0.84      1000\n",
      "    Class 6       0.48      0.58      0.53      1000\n",
      "    Class 7       0.95      0.85      0.90      1000\n",
      "    Class 8       0.73      0.97      0.83      1000\n",
      "    Class 9       0.93      0.96      0.95      1000\n",
      "\n",
      "avg / total       0.81      0.70      0.69     10000\n",
      "\n"
     ]
    }
   ],
   "source": [
    "from sklearn.metrics import classification_report\n",
    "target_names = [\"Class {}\".format(i) for i in range(10)]\n",
    "print(classification_report(y_true, predicted_classes, target_names=target_names))"
   ]
  },
  {
   "cell_type": "code",
   "execution_count": 27,
   "metadata": {
    "colab": {
     "autoexec": {
      "startup": false,
      "wait_interval": 0
     },
     "base_uri": "https://localhost:8080/",
     "height": 401
    },
    "colab_type": "code",
    "executionInfo": {
     "elapsed": 1545,
     "status": "ok",
     "timestamp": 1528034859252,
     "user": {
      "displayName": "Sergiy Doroshenko",
      "photoUrl": "//lh5.googleusercontent.com/-ZHU_BWQI6Dk/AAAAAAAAAAI/AAAAAAAACRQ/Greo3A_fYWk/s50-c-k-no/photo.jpg",
      "userId": "103686202862696076454"
     },
     "user_tz": -180
    },
    "id": "a15cpgzRoN0K",
    "outputId": "30a2ef44-57e8-45b3-92b8-e053b6b771cb"
   },
   "outputs": [
    {
     "data": {
      "image/png": "[encoded data removed]",
      "text/plain": [
       "<matplotlib.figure.Figure at 0x7f2bc7618d68>"
      ]
     },
     "metadata": {
      "tags": []
     },
     "output_type": "display_data"
    }
   ],
   "source": [
    "for i, correct in enumerate(correct[:9]):\n",
    "    plt.subplot(3,3,i+1)\n",
    "    plt.imshow(X_test[correct].reshape(28,28), cmap='gray', interpolation='none')\n",
    "    plt.title(\"Predicted {}, Class {}\".format(predicted_classes[correct], y_true[correct]))\n",
    "    plt.tight_layout()"
   ]
  },
  {
   "cell_type": "code",
   "execution_count": 28,
   "metadata": {
    "colab": {
     "autoexec": {
      "startup": false,
      "wait_interval": 0
     },
     "base_uri": "https://localhost:8080/",
     "height": 401
    },
    "colab_type": "code",
    "executionInfo": {
     "elapsed": 1727,
     "status": "ok",
     "timestamp": 1528034874966,
     "user": {
      "displayName": "Sergiy Doroshenko",
      "photoUrl": "//lh5.googleusercontent.com/-ZHU_BWQI6Dk/AAAAAAAAAAI/AAAAAAAACRQ/Greo3A_fYWk/s50-c-k-no/photo.jpg",
      "userId": "103686202862696076454"
     },
     "user_tz": -180
    },
    "id": "iBSKNXpyohEa",
    "outputId": "50f7af16-f9b3-4b52-e1d1-9b76d246bc76"
   },
   "outputs": [
    {
     "data": {
      "image/png": "[encoded data removed]",
      "text/plain": [
       "<matplotlib.figure.Figure at 0x7f2bc64e7cf8>"
      ]
     },
     "metadata": {
      "tags": []
     },
     "output_type": "display_data"
    }
   ],
   "source": [
    "for i, incorrect in enumerate(incorrect[0:9]):\n",
    "    plt.subplot(3,3,i+1)\n",
    "    plt.imshow(X_test[incorrect].reshape(28,28), cmap='gray', interpolation='none')\n",
    "    plt.title(\"Predicted {}, Class {}\".format(predicted_classes[incorrect], y_true[incorrect]))\n",
    "    plt.tight_layout()"
   ]
  },
  {
   "cell_type": "code",
   "execution_count": 32,
   "metadata": {
    "colab": {
     "autoexec": {
      "startup": false,
      "wait_interval": 0
     },
     "base_uri": "https://localhost:8080/",
     "height": 347
    },
    "colab_type": "code",
    "executionInfo": {
     "elapsed": 572,
     "status": "ok",
     "timestamp": 1528035159673,
     "user": {
      "displayName": "Sergiy Doroshenko",
      "photoUrl": "//lh5.googleusercontent.com/-ZHU_BWQI6Dk/AAAAAAAAAAI/AAAAAAAACRQ/Greo3A_fYWk/s50-c-k-no/photo.jpg",
      "userId": "103686202862696076454"
     },
     "user_tz": -180
    },
    "id": "hPtfCWnkosL3",
    "outputId": "de90da36-2261-4c1f-b056-76f62b1482e6"
   },
   "outputs": [
    {
     "data": {
      "image/png": "[encoded data removed]",
      "text/plain": [
       "<matplotlib.figure.Figure at 0x7f2bc624e470>"
      ]
     },
     "metadata": {
      "tags": []
     },
     "output_type": "display_data"
    }
   ],
   "source": [
    "test_im = X_train[154]\n",
    "plt.imshow(test_im.reshape(28,28), cmap='viridis', interpolation='none')\n",
    "plt.show()"
   ]
  },
  {
   "cell_type": "code",
   "execution_count": 33,
   "metadata": {
    "colab": {
     "autoexec": {
      "startup": false,
      "wait_interval": 0
     },
     "base_uri": "https://localhost:8080/",
     "height": 406
    },
    "colab_type": "code",
    "executionInfo": {
     "elapsed": 785,
     "status": "ok",
     "timestamp": 1528035163621,
     "user": {
      "displayName": "Sergiy Doroshenko",
      "photoUrl": "//lh5.googleusercontent.com/-ZHU_BWQI6Dk/AAAAAAAAAAI/AAAAAAAACRQ/Greo3A_fYWk/s50-c-k-no/photo.jpg",
      "userId": "103686202862696076454"
     },
     "user_tz": -180
    },
    "id": "VOCC0yTZov_B",
    "outputId": "cd509799-9857-45b6-f1e4-dcd2d70b5523"
   },
   "outputs": [
    {
     "name": "stderr",
     "output_type": "stream",
     "text": [
      "/usr/local/lib/python3.6/dist-packages/ipykernel_launcher.py:3: UserWarning: Update your `Model` call to the Keras 2 API: `Model(inputs=Tensor(\"co..., outputs=[<tf.Tenso...)`\n",
      "  This is separate from the ipykernel package so we can avoid doing imports until\n"
     ]
    },
    {
     "data": {
      "text/plain": [
       "<matplotlib.image.AxesImage at 0x7f2bc62d9fd0>"
      ]
     },
     "execution_count": 33,
     "metadata": {
      "tags": []
     },
     "output_type": "execute_result"
    },
    {
     "data": {
      "image/png": "[encoded data removed]",
      "text/plain": [
       "<matplotlib.figure.Figure at 0x7f2bc624e588>"
      ]
     },
     "metadata": {
      "tags": []
     },
     "output_type": "display_data"
    }
   ],
   "source": [
    "from keras import models\n",
    "layer_outputs = [layer.output for layer in model.layers[:8]]\n",
    "activation_model = models.Model(input=model.input, output=layer_outputs)\n",
    "activations = activation_model.predict(test_im.reshape(1,28,28,1))\n",
    "\n",
    "first_layer_activation = activations[0]\n",
    "plt.matshow(first_layer_activation[0, :, :, 4], cmap='viridis')"
   ]
  },
  {
   "cell_type": "code",
   "execution_count": 34,
   "metadata": {
    "colab": {
     "autoexec": {
      "startup": false,
      "wait_interval": 0
     },
     "base_uri": "https://localhost:8080/",
     "height": 1213
    },
    "colab_type": "code",
    "executionInfo": {
     "elapsed": 1268,
     "status": "ok",
     "timestamp": 1528035168611,
     "user": {
      "displayName": "Sergiy Doroshenko",
      "photoUrl": "//lh5.googleusercontent.com/-ZHU_BWQI6Dk/AAAAAAAAAAI/AAAAAAAACRQ/Greo3A_fYWk/s50-c-k-no/photo.jpg",
      "userId": "103686202862696076454"
     },
     "user_tz": -180
    },
    "id": "SgacoMfOo2iq",
    "outputId": "893a9523-b214-48f3-99c5-e1751ee7b28f"
   },
   "outputs": [
    {
     "name": "stderr",
     "output_type": "stream",
     "text": [
      "/usr/local/lib/python3.6/dist-packages/ipykernel_launcher.py:15: RuntimeWarning: invalid value encountered in true_divide\n",
      "  from ipykernel import kernelapp as app\n"
     ]
    },
    {
     "data": {
      "image/png": "[encoded data removed]",
      "text/plain": [
       "<matplotlib.figure.Figure at 0x7f2bca2da9b0>"
      ]
     },
     "metadata": {
      "tags": []
     },
     "output_type": "display_data"
    },
    {
     "data": {
      "image/png": "[encoded data removed]",
      "text/plain": [
       "<matplotlib.figure.Figure at 0x7f2bca332e10>"
      ]
     },
     "metadata": {
      "tags": []
     },
     "output_type": "display_data"
    },
    {
     "data": {
      "image/png": "[encoded data removed]",
      "text/plain": [
       "<matplotlib.figure.Figure at 0x7f2bca3f4668>"
      ]
     },
     "metadata": {
      "tags": []
     },
     "output_type": "display_data"
    },
    {
     "data": {
      "image/png": "[encoded data removed]",
      "text/plain": [
       "<matplotlib.figure.Figure at 0x7f2bca219dd8>"
      ]
     },
     "metadata": {
      "tags": []
     },
     "output_type": "display_data"
    }
   ],
   "source": [
    "layer_names = []\n",
    "for layer in model.layers[:-1]:\n",
    "    layer_names.append(layer.name) \n",
    "images_per_row = 16\n",
    "for layer_name, layer_activation in zip(layer_names, activations):\n",
    "    if layer_name.startswith('conv'):\n",
    "        n_features = layer_activation.shape[-1]\n",
    "        size = layer_activation.shape[1]\n",
    "        n_cols = n_features // images_per_row\n",
    "        display_grid = np.zeros((size * n_cols, images_per_row * size))\n",
    "        for col in range(n_cols):\n",
    "            for row in range(images_per_row):\n",
    "                channel_image = layer_activation[0,:, :, col * images_per_row + row]\n",
    "                channel_image -= channel_image.mean()\n",
    "                channel_image /= channel_image.std()\n",
    "                channel_image *= 64\n",
    "                channel_image += 128\n",
    "                channel_image = np.clip(channel_image, 0, 255).astype('uint8')\n",
    "                display_grid[col * size : (col + 1) * size,\n",
    "                             row * size : (row + 1) * size] = channel_image\n",
    "        scale = 1. / size\n",
    "        plt.figure(figsize=(scale * display_grid.shape[1],\n",
    "                            scale * display_grid.shape[0]))\n",
    "        plt.title(layer_name)\n",
    "        plt.grid(False)\n",
    "        plt.imshow(display_grid, aspect='auto', cmap='viridis')"
   ]
  },
  {
   "cell_type": "code",
   "execution_count": null,
   "metadata": {
    "colab": {
     "autoexec": {
      "startup": false,
      "wait_interval": 0
     },
     "base_uri": "https://localhost:8080/",
     "height": 34
    },
    "colab_type": "code",
    "executionInfo": {
     "elapsed": 28450,
     "status": "ok",
     "timestamp": 1527013975426,
     "user": {
      "displayName": "Sergiy Doroshenko",
      "photoUrl": "//lh5.googleusercontent.com/-ZHU_BWQI6Dk/AAAAAAAAAAI/AAAAAAAACRQ/Greo3A_fYWk/s50-c-k-no/photo.jpg",
      "userId": "103686202862696076454"
     },
     "user_tz": -180
    },
    "id": "37GymmJtGME1",
    "outputId": "aec9a6c6-9291-45fd-84ff-6e5fb4b1beb5"
   },
   "outputs": [
    {
     "name": "stdout",
     "output_type": "stream",
     "text": [
      "Successfully submitted to National Data Science Bowl"
     ]
    }
   ],
   "source": [
    "!kaggle competitions submit -c datasciencebowl -f /content/plankton/result.csv -m \"Adam(lr=0.001) 20 epoch gray scale\""
   ]
  },
  {
   "cell_type": "code",
   "execution_count": null,
   "metadata": {
    "colab": {
     "autoexec": {
      "startup": false,
      "wait_interval": 0
     }
    },
    "colab_type": "code",
    "id": "IcrwP662s002"
   },
   "outputs": [],
   "source": [
    "from google.colab import files\n",
    "files.download('./fashion_1.h5')"
   ]
  }
 ],
 "metadata": {
  "accelerator": "GPU",
  "colab": {
   "collapsed_sections": [],
   "default_view": {},
   "name": "fashionMNIST_normal.ipynb",
   "provenance": [],
   "version": "0.3.2",
   "views": {}
  },
  "kernelspec": {
   "display_name": "Python [default]",
   "language": "python",
   "name": "python3"
  },
  "language_info": {
   "codemirror_mode": {
    "name": "ipython",
    "version": 3
   },
   "file_extension": ".py",
   "mimetype": "text/x-python",
   "name": "python",
   "nbconvert_exporter": "python",
   "pygments_lexer": "ipython3",
   "version": "3.6.6"
  }
 },
 "nbformat": 4,
 "nbformat_minor": 4
}
