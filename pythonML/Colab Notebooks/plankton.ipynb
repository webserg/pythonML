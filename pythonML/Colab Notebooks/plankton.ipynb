{
 "cells": [
  {
   "cell_type": "markdown",
   "metadata": {
    "colab_type": "text",
    "id": "kEb5hhttwmT4"
   },
   "source": [
    "https://www.kaggle.com/c/datasciencebowl/data\n",
    "http://benanne.github.io/2015/03/17/plankton.html\n"
   ]
  },
  {
   "cell_type": "code",
   "execution_count": 1,
   "metadata": {
    "colab": {
     "autoexec": {
      "startup": false,
      "wait_interval": 0
     },
     "base_uri": "https://localhost:8080/",
     "height": 269
    },
    "colab_type": "code",
    "executionInfo": {
     "elapsed": 5248,
     "status": "ok",
     "timestamp": 1527334897601,
     "user": {
      "displayName": "Sergiy Doroshenko",
      "photoUrl": "//lh5.googleusercontent.com/-ZHU_BWQI6Dk/AAAAAAAAAAI/AAAAAAAACRQ/Greo3A_fYWk/s50-c-k-no/photo.jpg",
      "userId": "103686202862696076454"
     },
     "user_tz": -180
    },
    "id": "MpjxIAhoxRNB",
    "outputId": "b7530c0b-5f52-4b93-86d5-ab084bd6c1ac"
   },
   "outputs": [
    {
     "name": "stdout",
     "output_type": "stream",
     "text": [
      "Collecting kaggle\n",
      "  Downloading https://files.pythonhosted.org/packages/74/9b/a6bdc22939c32e1cecc086a972b5e3f7c991b73d74dab0e5d82ff80c5968/kaggle-1.3.8.tar.gz\n",
      "Requirement already satisfied: urllib3>=1.15 in /usr/local/lib/python3.6/dist-packages (from kaggle) (1.22)\n",
      "Requirement already satisfied: six>=1.10 in /usr/local/lib/python3.6/dist-packages (from kaggle) (1.11.0)\n",
      "Requirement already satisfied: certifi in /usr/local/lib/python3.6/dist-packages (from kaggle) (2018.4.16)\n",
      "Requirement already satisfied: python-dateutil in /usr/local/lib/python3.6/dist-packages (from kaggle) (2.5.3)\n",
      "Requirement already satisfied: requests in /usr/local/lib/python3.6/dist-packages (from kaggle) (2.18.4)\n",
      "Requirement already satisfied: chardet<3.1.0,>=3.0.2 in /usr/local/lib/python3.6/dist-packages (from requests->kaggle) (3.0.4)\n",
      "Requirement already satisfied: idna<2.7,>=2.5 in /usr/local/lib/python3.6/dist-packages (from requests->kaggle) (2.6)\n",
      "Building wheels for collected packages: kaggle\n",
      "  Running setup.py bdist_wheel for kaggle ... \u001b[?25ldone\n",
      "\u001b[?25h  Stored in directory: /content/.cache/pip/wheels/d6/3c/92/375decc0cf0a65b281db3cca9b8e21dc27b8ebc4d1ce29afca\n",
      "Successfully built kaggle\n",
      "Installing collected packages: kaggle\n",
      "Successfully installed kaggle-1.3.8\n"
     ]
    }
   ],
   "source": [
    "!pip install kaggle"
   ]
  },
  {
   "cell_type": "code",
   "execution_count": 2,
   "metadata": {
    "colab": {
     "autoexec": {
      "startup": false,
      "wait_interval": 0
     },
     "base_uri": "https://localhost:8080/",
     "height": 34
    },
    "colab_type": "code",
    "executionInfo": {
     "elapsed": 1339,
     "status": "ok",
     "timestamp": 1527334924963,
     "user": {
      "displayName": "Sergiy Doroshenko",
      "photoUrl": "//lh5.googleusercontent.com/-ZHU_BWQI6Dk/AAAAAAAAAAI/AAAAAAAACRQ/Greo3A_fYWk/s50-c-k-no/photo.jpg",
      "userId": "103686202862696076454"
     },
     "user_tz": -180
    },
    "id": "fjEzwoPsyMFR",
    "outputId": "35eb6542-2b11-4892-cae3-d1a2177d3336"
   },
   "outputs": [
    {
     "name": "stdout",
     "output_type": "stream",
     "text": [
      "Download 100%.\n"
     ]
    }
   ],
   "source": [
    "from googleapiclient.discovery import build\n",
    "import io, os\n",
    "from googleapiclient.http import MediaIoBaseDownload\n",
    "from google.colab import auth\n",
    "\n",
    "auth.authenticate_user()\n",
    "\n",
    "drive_service = build('drive', 'v3')\n",
    "results = drive_service.files().list(\n",
    "        q=\"name = 'kaggle.json'\", fields=\"files(id)\").execute()\n",
    "kaggle_api_key = results.get('files', [])\n",
    "\n",
    "filename = \"/content/.kaggle/kaggle.json\"\n",
    "os.makedirs(os.path.dirname(filename), exist_ok=True)\n",
    "\n",
    "request = drive_service.files().get_media(fileId=kaggle_api_key[0]['id'])\n",
    "fh = io.FileIO(filename, 'wb')\n",
    "downloader = MediaIoBaseDownload(fh, request)\n",
    "done = False\n",
    "while done is False:\n",
    "    status, done = downloader.next_chunk()\n",
    "    print(\"Download %d%%.\" % int(status.progress() * 100))\n",
    "os.chmod(filename, 600)"
   ]
  },
  {
   "cell_type": "code",
   "execution_count": 3,
   "metadata": {
    "colab": {
     "autoexec": {
      "startup": false,
      "wait_interval": 0
     },
     "base_uri": "https://localhost:8080/",
     "height": 386
    },
    "colab_type": "code",
    "executionInfo": {
     "elapsed": 3211,
     "status": "ok",
     "timestamp": 1527193275944,
     "user": {
      "displayName": "Sergiy Doroshenko",
      "photoUrl": "//lh5.googleusercontent.com/-ZHU_BWQI6Dk/AAAAAAAAAAI/AAAAAAAACRQ/Greo3A_fYWk/s50-c-k-no/photo.jpg",
      "userId": "103686202862696076454"
     },
     "user_tz": -180
    },
    "id": "34urnKPzwmT6",
    "outputId": "e4e06b99-68a0-4567-e491-85e6c7e8c8ca"
   },
   "outputs": [
    {
     "name": "stdout",
     "output_type": "stream",
     "text": [
      "ref                                             deadline             category            reward  teamCount  userHasEntered  \n",
      "----------------------------------------------  -------------------  ---------------  ---------  ---------  --------------  \n",
      "imagenet-object-detection-challenge             2029-12-31 07:00:00  Research         Knowledge          0           False  \n",
      "imagenet-object-detection-from-video-challenge  2029-12-31 07:00:00  Research         Knowledge          0           False  \n",
      "imagenet-object-localization-challenge          2029-12-31 07:00:00  Research         Knowledge          9           False  \n",
      "titanic                                         2020-04-07 00:00:00  Getting Started  Knowledge      11269            True  \n",
      "house-prices-advanced-regression-techniques     2020-03-01 23:59:00  Getting Started  Knowledge       5430           False  \n",
      "digit-recognizer                                2020-01-07 00:00:00  Getting Started  Knowledge       2505           False  \n",
      "competitive-data-science-predict-future-sales   2019-01-01 23:59:00  Playground           Kudos        550           False  \n",
      "home-credit-default-risk                        2018-08-29 23:59:00  Featured           $70,000        719           False  \n",
      "trackml-particle-identification                 2018-08-13 23:59:00  Featured           $25,000        295           False  \n",
      "youtube8m-2018                                  2018-08-06 23:59:00  Featured           $25,000         27           False  \n",
      "freesound-audio-tagging                         2018-07-31 23:59:00  Research         Knowledge        197           False  \n",
      "whale-categorization-playground                 2018-07-09 23:59:00  Playground           Kudos        305           False  \n",
      "avito-demand-prediction                         2018-06-27 23:59:00  Featured           $25,000       1246           False  \n",
      "cvpr-2018-autonomous-driving                    2018-06-11 23:59:00  Research            $2,500        100           False  \n",
      "inaturalist-2018                                2018-06-04 23:59:00  Research             Kudos         54           False  \n",
      "imaterialist-challenge-fashion-2018             2018-05-30 23:59:00  Research            $2,500        195           False  \n",
      "imaterialist-challenge-furniture-2018           2018-05-30 23:59:00  Research            $2,500        415            True  \n",
      "landmark-retrieval-challenge                    2018-05-29 23:59:00  Research            $2,500        209           False  \n",
      "landmark-recognition-challenge                  2018-05-29 23:59:00  Research            $2,500        463           False  \n",
      "talkingdata-adtracking-fraud-detection          2018-05-07 23:59:00  Featured           $25,000       3967           False  \n"
     ]
    }
   ],
   "source": [
    "!kaggle competitions list"
   ]
  },
  {
   "cell_type": "code",
   "execution_count": 1,
   "metadata": {
    "colab": {
     "autoexec": {
      "startup": false,
      "wait_interval": 0
     },
     "base_uri": "https://localhost:8080/",
     "height": 34
    },
    "colab_type": "code",
    "executionInfo": {
     "elapsed": 1787,
     "status": "ok",
     "timestamp": 1527021529886,
     "user": {
      "displayName": "Sergiy Doroshenko",
      "photoUrl": "//lh5.googleusercontent.com/-ZHU_BWQI6Dk/AAAAAAAAAAI/AAAAAAAACRQ/Greo3A_fYWk/s50-c-k-no/photo.jpg",
      "userId": "103686202862696076454"
     },
     "user_tz": -180
    },
    "id": "LVWMF1bmxOOR",
    "outputId": "652397b0-6a92-4fe5-9982-e0ddcef5b810"
   },
   "outputs": [
    {
     "name": "stdout",
     "output_type": "stream",
     "text": [
      "/content\n"
     ]
    }
   ],
   "source": [
    "!pwd"
   ]
  },
  {
   "cell_type": "code",
   "execution_count": 3,
   "metadata": {
    "colab": {
     "autoexec": {
      "startup": false,
      "wait_interval": 0
     },
     "base_uri": "https://localhost:8080/",
     "height": 84
    },
    "colab_type": "code",
    "executionInfo": {
     "elapsed": 2618,
     "status": "ok",
     "timestamp": 1527021959931,
     "user": {
      "displayName": "Sergiy Doroshenko",
      "photoUrl": "//lh5.googleusercontent.com/-ZHU_BWQI6Dk/AAAAAAAAAAI/AAAAAAAACRQ/Greo3A_fYWk/s50-c-k-no/photo.jpg",
      "userId": "103686202862696076454"
     },
     "user_tz": -180
    },
    "id": "3Qzd4MG9y8hd",
    "outputId": "267eae98-0a66-4008-a58f-135b1c1c5440"
   },
   "outputs": [
    {
     "name": "stdout",
     "output_type": "stream",
     "text": [
      "total 4\n",
      "drwxr-xr-x 1 root root 4096 May 21 17:02 datalab\n",
      "/content/datalab\n",
      "total 0\n"
     ]
    }
   ],
   "source": [
    "!ls -l\n",
    "%cd ./datalab/\n",
    "!ls -l"
   ]
  },
  {
   "cell_type": "code",
   "execution_count": 3,
   "metadata": {
    "colab": {
     "autoexec": {
      "startup": false,
      "wait_interval": 0
     },
     "base_uri": "https://localhost:8080/",
     "height": 84
    },
    "colab_type": "code",
    "executionInfo": {
     "elapsed": 10093,
     "status": "ok",
     "timestamp": 1527334941844,
     "user": {
      "displayName": "Sergiy Doroshenko",
      "photoUrl": "//lh5.googleusercontent.com/-ZHU_BWQI6Dk/AAAAAAAAAAI/AAAAAAAACRQ/Greo3A_fYWk/s50-c-k-no/photo.jpg",
      "userId": "103686202862696076454"
     },
     "user_tz": -180
    },
    "id": "onMR-_idwmT_",
    "outputId": "5abda678-0fdd-4c95-ad23-28187fd4275e"
   },
   "outputs": [
    {
     "name": "stdout",
     "output_type": "stream",
     "text": [
      "sampleSubmission.csv.zip: Downloaded 886KB of 886KB to ./plankton\n",
      "train.zip: Downloaded 76MB of 76MB to ./plankton\n",
      "test.zip: Downloaded 347MB of 347MB to ./plankton\n",
      "plankton_identification.pdf: Downloaded 2MB of 2MB to ./plankton\n"
     ]
    }
   ],
   "source": [
    "!kaggle competitions download -c datasciencebowl -p ./plankton"
   ]
  },
  {
   "cell_type": "code",
   "execution_count": null,
   "metadata": {
    "colab": {
     "autoexec": {
      "startup": false,
      "wait_interval": 0
     }
    },
    "colab_type": "code",
    "id": "1yUtCZGX0na5"
   },
   "outputs": [],
   "source": [
    "%mkdir /content/plankton/validation/"
   ]
  },
  {
   "cell_type": "code",
   "execution_count": 5,
   "metadata": {
    "colab": {
     "autoexec": {
      "startup": false,
      "wait_interval": 0
     },
     "base_uri": "https://localhost:8080/",
     "height": 34
    },
    "colab_type": "code",
    "executionInfo": {
     "elapsed": 2305,
     "status": "ok",
     "timestamp": 1526848913559,
     "user": {
      "displayName": "Sergiy Doroshenko",
      "photoUrl": "//lh5.googleusercontent.com/-ZHU_BWQI6Dk/AAAAAAAAAAI/AAAAAAAACRQ/Greo3A_fYWk/s50-c-k-no/photo.jpg",
      "userId": "103686202862696076454"
     },
     "user_tz": -180
    },
    "id": "lbcQ9q-e0pMT",
    "outputId": "5d348ca4-b5c6-4228-dad6-fe74de014fcf"
   },
   "outputs": [
    {
     "name": "stdout",
     "output_type": "stream",
     "text": [
      "total 0\n"
     ]
    }
   ],
   "source": [
    "%ls -l"
   ]
  },
  {
   "cell_type": "code",
   "execution_count": 1,
   "metadata": {
    "colab": {
     "autoexec": {
      "startup": false,
      "wait_interval": 0
     },
     "base_uri": "https://localhost:8080/",
     "height": 34
    },
    "colab_type": "code",
    "executionInfo": {
     "elapsed": 804,
     "status": "ok",
     "timestamp": 1527336024994,
     "user": {
      "displayName": "Sergiy Doroshenko",
      "photoUrl": "//lh5.googleusercontent.com/-ZHU_BWQI6Dk/AAAAAAAAAAI/AAAAAAAACRQ/Greo3A_fYWk/s50-c-k-no/photo.jpg",
      "userId": "103686202862696076454"
     },
     "user_tz": -180
    },
    "id": "-baOY53TwmUA",
    "outputId": "e7d89d00-21d3-4580-c51b-372e9a0a2d22"
   },
   "outputs": [
    {
     "data": {
      "text/plain": [
       "'/content/plankton/train.zip'"
      ]
     },
     "execution_count": 1,
     "metadata": {
      "tags": []
     },
     "output_type": "execute_result"
    }
   ],
   "source": [
    "import zipfile\n",
    "import os\n",
    "data_dir = \"/content/plankton\"\n",
    "path_to_data = \"/content/plankton/train.zip\"\n",
    "path_to_data"
   ]
  },
  {
   "cell_type": "code",
   "execution_count": null,
   "metadata": {
    "colab": {
     "autoexec": {
      "startup": false,
      "wait_interval": 0
     }
    },
    "colab_type": "code",
    "id": "ZIaJb8Y3wmUG"
   },
   "outputs": [],
   "source": [
    "import io, os\n",
    "if os.path.exists(data_dir) == False:\n",
    "    os.makedirs(data_dir)"
   ]
  },
  {
   "cell_type": "code",
   "execution_count": null,
   "metadata": {
    "colab": {
     "autoexec": {
      "startup": false,
      "wait_interval": 0
     }
    },
    "colab_type": "code",
    "id": "fGtyia52wmUI"
   },
   "outputs": [],
   "source": [
    "zip_ref = zipfile.ZipFile(path_to_data, 'r')\n",
    "zip_ref.extractall(data_dir)\n",
    "zip_ref.close()"
   ]
  },
  {
   "cell_type": "code",
   "execution_count": 8,
   "metadata": {
    "colab": {
     "autoexec": {
      "startup": false,
      "wait_interval": 0
     },
     "base_uri": "https://localhost:8080/",
     "height": 34
    },
    "colab_type": "code",
    "executionInfo": {
     "elapsed": 1392,
     "status": "ok",
     "timestamp": 1527335048118,
     "user": {
      "displayName": "Sergiy Doroshenko",
      "photoUrl": "//lh5.googleusercontent.com/-ZHU_BWQI6Dk/AAAAAAAAAAI/AAAAAAAACRQ/Greo3A_fYWk/s50-c-k-no/photo.jpg",
      "userId": "103686202862696076454"
     },
     "user_tz": -180
    },
    "id": "HxMMJss7wmUL",
    "outputId": "f602b8ae-feab-4ac4-c3a3-7e7f50a3a0a2"
   },
   "outputs": [
    {
     "data": {
      "text/plain": [
       "'/content/plankton/test.zip'"
      ]
     },
     "execution_count": 8,
     "metadata": {
      "tags": []
     },
     "output_type": "execute_result"
    }
   ],
   "source": [
    "path_to_test = \"/content/plankton/test.zip\"\n",
    "path_to_test"
   ]
  },
  {
   "cell_type": "code",
   "execution_count": null,
   "metadata": {
    "colab": {
     "autoexec": {
      "startup": false,
      "wait_interval": 0
     }
    },
    "colab_type": "code",
    "id": "dA3x2NAV77HX"
   },
   "outputs": [],
   "source": [
    " os.makedirs(data_dir + \"/test\")"
   ]
  },
  {
   "cell_type": "code",
   "execution_count": null,
   "metadata": {
    "colab": {
     "autoexec": {
      "startup": false,
      "wait_interval": 0
     }
    },
    "colab_type": "code",
    "id": "c5EUd30mwmUP"
   },
   "outputs": [],
   "source": [
    "zip_ref = zipfile.ZipFile(path_to_test, 'r')\n",
    "zip_ref.extractall(data_dir + \"/test\")\n",
    "zip_ref.close()"
   ]
  },
  {
   "cell_type": "code",
   "execution_count": null,
   "metadata": {
    "colab": {
     "autoexec": {
      "startup": false,
      "wait_interval": 0
     }
    },
    "colab_type": "code",
    "id": "j36SRCelwmUS"
   },
   "outputs": [],
   "source": [
    "validation_dir = os.path.join(data_dir, 'validation')\n",
    "if os.path.exists(validation_dir) == False:\n",
    "    os.mkdir(validation_dir)"
   ]
  },
  {
   "cell_type": "code",
   "execution_count": null,
   "metadata": {
    "colab": {
     "autoexec": {
      "startup": false,
      "wait_interval": 0
     }
    },
    "colab_type": "code",
    "id": "z_bPVsbswmUU"
   },
   "outputs": [],
   "source": [
    "import shutil\n",
    "train_dir = os.path.join(data_dir, 'train')\n",
    "test_dir = os.path.join(data_dir, 'test')\n",
    "validation_dir = os.path.join(data_dir, 'validation')\n"
   ]
  },
  {
   "cell_type": "code",
   "execution_count": null,
   "metadata": {
    "colab": {
     "autoexec": {
      "startup": false,
      "wait_interval": 0
     }
    },
    "colab_type": "code",
    "id": "uC_QYuZQwmUY"
   },
   "outputs": [],
   "source": [
    "\n",
    "dir_info = [x for x in os.walk(train_dir)]\n",
    "for dir in dir_info[1:]:\n",
    "    #print(len(dir[2]))\n",
    "    validation_number = int(round(len(dir[2])/20))\n",
    "    #print(validation_number)\n",
    "    #print(dir[2])\n",
    "    #print(dir[2][:validation_number])\n",
    "    dir_name = os.path.split(dir[0])[1]\n",
    "    #print(dir_name)\n",
    "    validation_dir_current = os.path.join(validation_dir, dir_name)\n",
    "    if os.path.exists(validation_dir_current) == False:\n",
    "        os.mkdir(validation_dir_current)\n",
    "    for fname in dir[2][:validation_number]:\n",
    "        src = os.path.join(train_dir, dir_name, fname)\n",
    "        dst = os.path.join(validation_dir_current, fname)\n",
    "        #print(src)\n",
    "        #print(dst)\n",
    "        shutil.move(src, dst)\n"
   ]
  },
  {
   "cell_type": "code",
   "execution_count": null,
   "metadata": {
    "colab": {
     "autoexec": {
      "startup": false,
      "wait_interval": 0
     }
    },
    "colab_type": "code",
    "id": "tCKx3EdtwmUd"
   },
   "outputs": [],
   "source": [
    "if os.path.exists(validation_dir) == False:\n",
    "    print(\"false\")"
   ]
  },
  {
   "cell_type": "code",
   "execution_count": 3,
   "metadata": {
    "colab": {
     "autoexec": {
      "startup": false,
      "wait_interval": 0
     },
     "base_uri": "https://localhost:8080/",
     "height": 50
    },
    "colab_type": "code",
    "executionInfo": {
     "elapsed": 733,
     "status": "ok",
     "timestamp": 1527335554911,
     "user": {
      "displayName": "Sergiy Doroshenko",
      "photoUrl": "//lh5.googleusercontent.com/-ZHU_BWQI6Dk/AAAAAAAAAAI/AAAAAAAACRQ/Greo3A_fYWk/s50-c-k-no/photo.jpg",
      "userId": "103686202862696076454"
     },
     "user_tz": -180
    },
    "id": "v2BkRdn6wmUh",
    "outputId": "04a59ac5-5df6-45cd-ce8c-c5483931f211"
   },
   "outputs": [
    {
     "name": "stdout",
     "output_type": "stream",
     "text": [
      "total training categories: 121\n",
      "all train images:  28813\n"
     ]
    }
   ],
   "source": [
    "print('total training categories:', len(os.listdir(train_dir)))\n",
    "cpt = sum([len(files) for r, d, files in os.walk(train_dir)])\n",
    "print('all train images: ',cpt )"
   ]
  },
  {
   "cell_type": "code",
   "execution_count": 4,
   "metadata": {
    "colab": {
     "autoexec": {
      "startup": false,
      "wait_interval": 0
     },
     "base_uri": "https://localhost:8080/",
     "height": 50
    },
    "colab_type": "code",
    "executionInfo": {
     "elapsed": 720,
     "status": "ok",
     "timestamp": 1527335559431,
     "user": {
      "displayName": "Sergiy Doroshenko",
      "photoUrl": "//lh5.googleusercontent.com/-ZHU_BWQI6Dk/AAAAAAAAAAI/AAAAAAAACRQ/Greo3A_fYWk/s50-c-k-no/photo.jpg",
      "userId": "103686202862696076454"
     },
     "user_tz": -180
    },
    "id": "Jqkh4-HhwmUk",
    "outputId": "eae09778-df8b-4435-9a20-ab3a8082de20"
   },
   "outputs": [
    {
     "name": "stdout",
     "output_type": "stream",
     "text": [
      "total validation categories: 121\n",
      "all validation images:  1523\n"
     ]
    }
   ],
   "source": [
    "print('total validation categories:', len(os.listdir(validation_dir)))\n",
    "cpt = sum([len(files) for r, d, files in os.walk(validation_dir)])\n",
    "print('all validation images: ',cpt )"
   ]
  },
  {
   "cell_type": "code",
   "execution_count": null,
   "metadata": {
    "colab": {
     "autoexec": {
      "startup": false,
      "wait_interval": 0
     }
    },
    "colab_type": "code",
    "id": "Xoh1kurpk_Ri"
   },
   "outputs": [],
   "source": [
    "size_of_image = (150, 150)"
   ]
  },
  {
   "cell_type": "code",
   "execution_count": 25,
   "metadata": {
    "colab": {
     "autoexec": {
      "startup": false,
      "wait_interval": 0
     },
     "base_uri": "https://localhost:8080/",
     "height": 84
    },
    "colab_type": "code",
    "executionInfo": {
     "elapsed": 5045,
     "status": "ok",
     "timestamp": 1527337499637,
     "user": {
      "displayName": "Sergiy Doroshenko",
      "photoUrl": "//lh5.googleusercontent.com/-ZHU_BWQI6Dk/AAAAAAAAAAI/AAAAAAAACRQ/Greo3A_fYWk/s50-c-k-no/photo.jpg",
      "userId": "103686202862696076454"
     },
     "user_tz": -180
    },
    "id": "qk7Pk934wmUv",
    "outputId": "4f8b4a7c-f3b7-4637-98d6-9d655c661528"
   },
   "outputs": [
    {
     "name": "stdout",
     "output_type": "stream",
     "text": [
      "<class 'list'>\n",
      "(150, 150, 1)\n",
      "Found 28813 images belonging to 121 classes.\n",
      "Found 1523 images belonging to 121 classes.\n"
     ]
    }
   ],
   "source": [
    "from keras.preprocessing.image import load_img, img_to_array\n",
    "from matplotlib import pyplot\n",
    "import numpy as np\n",
    "def apply_to_images_in_subdirs(parent_dir, num_per_cls=None):\n",
    "    results = []\n",
    "    for cls_dir_name in os.listdir(parent_dir):\n",
    "        cls_dir = os.path.abspath(os.path.join(parent_dir, cls_dir_name))\n",
    "        r = _apply_to_first_n_in_dir(cls_dir, num_per_cls)\n",
    "        results += r\n",
    "    return results\n",
    "def _apply_to_first_n_in_dir(dir_, num_per_cls):\n",
    "    if not os.path.isdir(dir_):\n",
    "        return []\n",
    "    results = []\n",
    "    for path in os.listdir(dir_)[:num_per_cls]:\n",
    "        result = img_to_array(load_img(os.path.abspath(os.path.join(dir_, path)),grayscale=True, target_size=size_of_image))\n",
    "        results.append(result)\n",
    "    return results\n",
    "  \n",
    "from keras.preprocessing.image import ImageDataGenerator\n",
    "#train_datagen = ImageDataGenerator(rescale=1./255)\n",
    "train_datagen = ImageDataGenerator(\n",
    "    featurewise_center=True,\n",
    "    featurewise_std_normalization=True,\n",
    "#     rescale=1./255,\n",
    "    rotation_range=180,\n",
    "    width_shift_range=0.2,\n",
    "    height_shift_range=0.2,\n",
    "    shear_range=0.2,\n",
    "    zoom_range=0.2,\n",
    "    horizontal_flip=True,\n",
    "    vertical_flip=True,\n",
    "    )\n",
    "validation_datagen = ImageDataGenerator(\n",
    "#     rescale=1./255\n",
    "    featurewise_center=True,\n",
    "    featurewise_std_normalization=True,\n",
    "\n",
    ")\n",
    "\n",
    "images_to_fit = apply_to_images_in_subdirs(train_dir, num_per_cls=10)\n",
    "print(type(images_to_fit))\n",
    "print(images_to_fit[0].shape)\n",
    "train_datagen.fit(images_to_fit,augment=True, seed=1)\n",
    "validation_datagen.fit(images_to_fit,augment=True, seed=1)\n",
    "#del images_to_fit\n",
    "#import gc\n",
    "#gc.collect()\n",
    "train_generator = train_datagen.flow_from_directory(\n",
    "train_dir,\n",
    "target_size=size_of_image,\n",
    "batch_size=32,\n",
    "color_mode='grayscale',\n",
    "class_mode='categorical')\n",
    "validation_generator = validation_datagen.flow_from_directory(\n",
    "validation_dir,\n",
    "target_size=size_of_image,\n",
    "batch_size=32,\n",
    "color_mode='grayscale',\n",
    "class_mode='categorical')\n"
   ]
  },
  {
   "cell_type": "code",
   "execution_count": null,
   "metadata": {
    "colab": {
     "autoexec": {
      "startup": false,
      "wait_interval": 0
     }
    },
    "colab_type": "code",
    "id": "85qgRgw9huVO"
   },
   "outputs": [],
   "source": [
    "from matplotlib import pyplot\n",
    "print(train_generator.batch_size)\n",
    "print(type(train_generator.next()))\n",
    "(q,w)=train_generator.next()\n",
    "print(type(q[0]))\n",
    "print(q[2].shape)\n",
    "pyplot.imshow(q[4].reshape(size_of_image),  cmap=pyplot.get_cmap('gray'))\n",
    "pyplot.show()\n",
    "q[4]"
   ]
  },
  {
   "cell_type": "code",
   "execution_count": 50,
   "metadata": {
    "colab": {
     "autoexec": {
      "startup": false,
      "wait_interval": 0
     },
     "base_uri": "https://localhost:8080/",
     "height": 706
    },
    "colab_type": "code",
    "executionInfo": {
     "elapsed": 696,
     "status": "ok",
     "timestamp": 1527340205801,
     "user": {
      "displayName": "Sergiy Doroshenko",
      "photoUrl": "//lh5.googleusercontent.com/-ZHU_BWQI6Dk/AAAAAAAAAAI/AAAAAAAACRQ/Greo3A_fYWk/s50-c-k-no/photo.jpg",
      "userId": "103686202862696076454"
     },
     "user_tz": -180
    },
    "id": "TjBQpj1-wmUz",
    "outputId": "7edd2616-c68f-4992-907d-f506afd3bbc1"
   },
   "outputs": [
    {
     "name": "stdout",
     "output_type": "stream",
     "text": [
      "_________________________________________________________________\n",
      "Layer (type)                 Output Shape              Param #   \n",
      "=================================================================\n",
      "conv2d_44 (Conv2D)           (None, 148, 148, 32)      320       \n",
      "_________________________________________________________________\n",
      "max_pooling2d_36 (MaxPooling (None, 73, 73, 32)        0         \n",
      "_________________________________________________________________\n",
      "conv2d_45 (Conv2D)           (None, 71, 71, 64)        18496     \n",
      "_________________________________________________________________\n",
      "conv2d_46 (Conv2D)           (None, 69, 69, 64)        36928     \n",
      "_________________________________________________________________\n",
      "dropout_14 (Dropout)         (None, 69, 69, 64)        0         \n",
      "_________________________________________________________________\n",
      "max_pooling2d_37 (MaxPooling (None, 34, 34, 64)        0         \n",
      "_________________________________________________________________\n",
      "conv2d_47 (Conv2D)           (None, 32, 32, 128)       73856     \n",
      "_________________________________________________________________\n",
      "conv2d_48 (Conv2D)           (None, 30, 30, 128)       147584    \n",
      "_________________________________________________________________\n",
      "max_pooling2d_38 (MaxPooling (None, 14, 14, 128)       0         \n",
      "_________________________________________________________________\n",
      "dropout_15 (Dropout)         (None, 14, 14, 128)       0         \n",
      "_________________________________________________________________\n",
      "conv2d_49 (Conv2D)           (None, 12, 12, 256)       295168    \n",
      "_________________________________________________________________\n",
      "conv2d_50 (Conv2D)           (None, 10, 10, 256)       590080    \n",
      "_________________________________________________________________\n",
      "max_pooling2d_39 (MaxPooling (None, 4, 4, 256)         0         \n",
      "_________________________________________________________________\n",
      "dropout_16 (Dropout)         (None, 4, 4, 256)         0         \n",
      "_________________________________________________________________\n",
      "flatten_8 (Flatten)          (None, 4096)              0         \n",
      "_________________________________________________________________\n",
      "dense_15 (Dense)             (None, 512)               2097664   \n",
      "_________________________________________________________________\n",
      "dense_16 (Dense)             (None, 121)               62073     \n",
      "=================================================================\n",
      "Total params: 3,322,169\n",
      "Trainable params: 3,322,169\n",
      "Non-trainable params: 0\n",
      "_________________________________________________________________\n"
     ]
    }
   ],
   "source": [
    "from keras import layers\n",
    "from keras import models\n",
    "\n",
    "model = models.Sequential()\n",
    "model.add(layers.Conv2D(32, (3, 3), activation='relu',\n",
    "                        input_shape=(150, 150, 1)))\n",
    "model.add(layers.MaxPooling2D((3, 3),strides=2))\n",
    "model.add(layers.Conv2D(64, (3, 3), activation='relu'))\n",
    "model.add(layers.Conv2D(64, (3, 3), activation='relu'))\n",
    "model.add(layers.Dropout(0.25))\n",
    "model.add(layers.MaxPooling2D((3, 3),strides=2))\n",
    "model.add(layers.Conv2D(128, (3, 3), activation='relu'))\n",
    "model.add(layers.Conv2D(128, (3, 3), activation='relu'))\n",
    "model.add(layers.MaxPooling2D((3, 3),strides=2))\n",
    "model.add(layers.Dropout(0.25))\n",
    "model.add(layers.Conv2D(256, (3, 3), activation='relu'))\n",
    "model.add(layers.Conv2D(256, (3, 3), activation='relu'))\n",
    "model.add(layers.MaxPooling2D((3, 3),strides=2))\n",
    "model.add(layers.Dropout(0.5))\n",
    "model.add(layers.Flatten())\n",
    "model.add(layers.Dense(512, activation='relu'))\n",
    "model.add(layers.Dense(121, activation='softmax'))\n",
    "model.summary()"
   ]
  },
  {
   "cell_type": "code",
   "execution_count": null,
   "metadata": {
    "colab": {
     "autoexec": {
      "startup": false,
      "wait_interval": 0
     }
    },
    "colab_type": "code",
    "id": "NXcd6YDlwmU2"
   },
   "outputs": [],
   "source": [
    "from keras import optimizers\n",
    "model.compile(loss='categorical_crossentropy',\n",
    "optimizer=optimizers.Adam(lr=0.0001),\n",
    "metrics=['acc'])"
   ]
  },
  {
   "cell_type": "code",
   "execution_count": 52,
   "metadata": {
    "colab": {
     "autoexec": {
      "startup": false,
      "wait_interval": 0
     },
     "base_uri": "https://localhost:8080/",
     "height": 138
    },
    "colab_type": "code",
    "executionInfo": {
     "elapsed": 313258,
     "status": "ok",
     "timestamp": 1527340534742,
     "user": {
      "displayName": "Sergiy Doroshenko",
      "photoUrl": "//lh5.googleusercontent.com/-ZHU_BWQI6Dk/AAAAAAAAAAI/AAAAAAAACRQ/Greo3A_fYWk/s50-c-k-no/photo.jpg",
      "userId": "103686202862696076454"
     },
     "user_tz": -180
    },
    "id": "gIxgTWSvwmU5",
    "outputId": "f49da662-30ee-44d7-f5ce-831718665e98"
   },
   "outputs": [
    {
     "name": "stdout",
     "output_type": "stream",
     "text": [
      "Epoch 1/3\n",
      "901/901 [==============================] - 107s 119ms/step - loss: 3.6538 - acc: 0.1572 - val_loss: 3.3662 - val_acc: 0.1911\n",
      "Epoch 2/3\n",
      " 82/901 [=>............................] - ETA: 1:28 - loss: 3.1649 - acc: 0.2283901/901 [==============================] - 101s 112ms/step - loss: 2.9506 - acc: 0.2678 - val_loss: 2.8217 - val_acc: 0.3099\n",
      "Epoch 3/3\n",
      "158/901 [====>.........................] - ETA: 1:20 - loss: 2.7108 - acc: 0.3081901/901 [==============================] - 103s 114ms/step - loss: 2.5912 - acc: 0.3327 - val_loss: 2.4456 - val_acc: 0.3762\n"
     ]
    }
   ],
   "source": [
    "history = model.fit_generator(\n",
    "train_generator,\n",
    "epochs=3,\n",
    "validation_data=validation_generator)\n",
    "model.save('/content/plankton/plankton_1.h5')"
   ]
  },
  {
   "cell_type": "code",
   "execution_count": 53,
   "metadata": {
    "colab": {
     "autoexec": {
      "startup": false,
      "wait_interval": 0
     },
     "base_uri": "https://localhost:8080/",
     "height": 706
    },
    "colab_type": "code",
    "executionInfo": {
     "elapsed": 1358,
     "status": "ok",
     "timestamp": 1527340539534,
     "user": {
      "displayName": "Sergiy Doroshenko",
      "photoUrl": "//lh5.googleusercontent.com/-ZHU_BWQI6Dk/AAAAAAAAAAI/AAAAAAAACRQ/Greo3A_fYWk/s50-c-k-no/photo.jpg",
      "userId": "103686202862696076454"
     },
     "user_tz": -180
    },
    "id": "exNUDYpMwmU-",
    "outputId": "e4606e88-990d-41d7-89a1-67ddaa373c96"
   },
   "outputs": [
    {
     "data": {
      "image/png": "[encoded data removed]",
      "text/plain": [
       "<matplotlib.figure.Figure at 0x7f217f07b940>"
      ]
     },
     "metadata": {
      "tags": []
     },
     "output_type": "display_data"
    },
    {
     "data": {
      "image/png": "[encoded data removed]",
      "text/plain": [
       "<matplotlib.figure.Figure at 0x7f217cc62ba8>"
      ]
     },
     "metadata": {
      "tags": []
     },
     "output_type": "display_data"
    }
   ],
   "source": [
    "import matplotlib.pyplot as plt\n",
    "\n",
    "acc = history.history['acc']\n",
    "val_acc = history.history['val_acc']\n",
    "loss = history.history['loss']\n",
    "val_loss = history.history['val_loss']\n",
    "\n",
    "epochs = range(len(acc))\n",
    "\n",
    "plt.plot(epochs, acc, 'bo', label='Training acc')\n",
    "plt.plot(epochs, val_acc, 'b', label='Validation acc')\n",
    "plt.title('Training and validation accuracy')\n",
    "plt.legend()\n",
    "\n",
    "plt.figure()\n",
    "\n",
    "plt.plot(epochs, loss, 'bo', label='Training loss')\n",
    "plt.plot(epochs, val_loss, 'b', label='Validation loss')\n",
    "plt.title('Training and validation loss')\n",
    "plt.legend()\n",
    "\n",
    "plt.show()"
   ]
  },
  {
   "cell_type": "code",
   "execution_count": 41,
   "metadata": {
    "colab": {
     "autoexec": {
      "startup": false,
      "wait_interval": 0
     },
     "base_uri": "https://localhost:8080/",
     "height": 34
    },
    "colab_type": "code",
    "executionInfo": {
     "elapsed": 744,
     "status": "ok",
     "timestamp": 1526676005611,
     "user": {
      "displayName": "Sergiy Doroshenko",
      "photoUrl": "//lh5.googleusercontent.com/-ZHU_BWQI6Dk/AAAAAAAAAAI/AAAAAAAACRQ/Greo3A_fYWk/s50-c-k-no/photo.jpg",
      "userId": "103686202862696076454"
     },
     "user_tz": -180
    },
    "id": "AUV0kenlwmVC",
    "outputId": "6501b941-8ae4-415a-8f6e-597e33babc35"
   },
   "outputs": [
    {
     "name": "stdout",
     "output_type": "stream",
     "text": [
      "dict_keys(['val_loss', 'val_acc', 'loss', 'acc'])\n"
     ]
    }
   ],
   "source": [
    "print(history.history.keys())"
   ]
  },
  {
   "cell_type": "code",
   "execution_count": 54,
   "metadata": {
    "colab": {
     "autoexec": {
      "startup": false,
      "wait_interval": 0
     },
     "base_uri": "https://localhost:8080/",
     "height": 50
    },
    "colab_type": "code",
    "executionInfo": {
     "elapsed": 4955,
     "status": "ok",
     "timestamp": 1527340555968,
     "user": {
      "displayName": "Sergiy Doroshenko",
      "photoUrl": "//lh5.googleusercontent.com/-ZHU_BWQI6Dk/AAAAAAAAAAI/AAAAAAAACRQ/Greo3A_fYWk/s50-c-k-no/photo.jpg",
      "userId": "103686202862696076454"
     },
     "user_tz": -180
    },
    "id": "HinDSdTmwmVF",
    "outputId": "81790241-7fc2-470c-8274-a410a538b8e7"
   },
   "outputs": [
    {
     "name": "stdout",
     "output_type": "stream",
     "text": [
      "/content/plankton/test\n",
      "Found 130400 images belonging to 1 classes.\n"
     ]
    }
   ],
   "source": [
    "print(test_dir)\n",
    "from keras.preprocessing.image import ImageDataGenerator\n",
    "test_datagen = ImageDataGenerator(\n",
    "#     rescale=1./255,\n",
    " featurewise_center=True,\n",
    "    featurewise_std_normalization=True,\n",
    ")\n",
    "test_datagen.fit(images_to_fit)\n",
    "test_generator = test_datagen.flow_from_directory(\n",
    "        test_dir,\n",
    "        target_size=size_of_image,\n",
    "        color_mode='grayscale',\n",
    "        classes=None,\n",
    "        class_mode=None)\n"
   ]
  },
  {
   "cell_type": "code",
   "execution_count": 42,
   "metadata": {
    "colab": {
     "autoexec": {
      "startup": false,
      "wait_interval": 0
     },
     "base_uri": "https://localhost:8080/",
     "height": 632
    },
    "colab_type": "code",
    "executionInfo": {
     "elapsed": 737,
     "status": "error",
     "timestamp": 1527339173501,
     "user": {
      "displayName": "Sergiy Doroshenko",
      "photoUrl": "//lh5.googleusercontent.com/-ZHU_BWQI6Dk/AAAAAAAAAAI/AAAAAAAACRQ/Greo3A_fYWk/s50-c-k-no/photo.jpg",
      "userId": "103686202862696076454"
     },
     "user_tz": -180
    },
    "id": "Rw-6YQsIwmVJ",
    "outputId": "757d0cc3-2a3e-41e4-b05e-ea05c5270fcb"
   },
   "outputs": [
    {
     "ename": "OSError",
     "evalue": "ignored",
     "output_type": "error",
     "traceback": [
      "\u001b[0;31m---------------------------------------------------------------------------\u001b[0m",
      "\u001b[0;31mOSError\u001b[0m                                   Traceback (most recent call last)",
      "\u001b[0;32m<ipython-input-42-192753958ffa>\u001b[0m in \u001b[0;36m<module>\u001b[0;34m()\u001b[0m\n\u001b[1;32m      1\u001b[0m \u001b[0;32mfrom\u001b[0m \u001b[0mkeras\u001b[0m\u001b[0;34m.\u001b[0m\u001b[0mmodels\u001b[0m \u001b[0;32mimport\u001b[0m \u001b[0mload_model\u001b[0m\u001b[0;34m\u001b[0m\u001b[0m\n\u001b[0;32m----> 2\u001b[0;31m \u001b[0msaved_model\u001b[0m \u001b[0;34m=\u001b[0m \u001b[0mload_model\u001b[0m\u001b[0;34m(\u001b[0m\u001b[0;34m'plankton_1.h5'\u001b[0m\u001b[0;34m)\u001b[0m\u001b[0;34m\u001b[0m\u001b[0m\n\u001b[0m",
      "\u001b[0;32m/usr/local/lib/python3.6/dist-packages/keras/models.py\u001b[0m in \u001b[0;36mload_model\u001b[0;34m(filepath, custom_objects, compile)\u001b[0m\n\u001b[1;32m    258\u001b[0m     \u001b[0mopened_new_file\u001b[0m \u001b[0;34m=\u001b[0m \u001b[0;32mnot\u001b[0m \u001b[0misinstance\u001b[0m\u001b[0;34m(\u001b[0m\u001b[0mfilepath\u001b[0m\u001b[0;34m,\u001b[0m \u001b[0mh5py\u001b[0m\u001b[0;34m.\u001b[0m\u001b[0mFile\u001b[0m\u001b[0;34m)\u001b[0m\u001b[0;34m\u001b[0m\u001b[0m\n\u001b[1;32m    259\u001b[0m     \u001b[0;32mif\u001b[0m \u001b[0mopened_new_file\u001b[0m\u001b[0;34m:\u001b[0m\u001b[0;34m\u001b[0m\u001b[0m\n\u001b[0;32m--> 260\u001b[0;31m         \u001b[0mf\u001b[0m \u001b[0;34m=\u001b[0m \u001b[0mh5py\u001b[0m\u001b[0;34m.\u001b[0m\u001b[0mFile\u001b[0m\u001b[0;34m(\u001b[0m\u001b[0mfilepath\u001b[0m\u001b[0;34m,\u001b[0m \u001b[0mmode\u001b[0m\u001b[0;34m=\u001b[0m\u001b[0;34m'r'\u001b[0m\u001b[0;34m)\u001b[0m\u001b[0;34m\u001b[0m\u001b[0m\n\u001b[0m\u001b[1;32m    261\u001b[0m     \u001b[0;32melse\u001b[0m\u001b[0;34m:\u001b[0m\u001b[0;34m\u001b[0m\u001b[0m\n\u001b[1;32m    262\u001b[0m         \u001b[0mf\u001b[0m \u001b[0;34m=\u001b[0m \u001b[0mfilepath\u001b[0m\u001b[0;34m\u001b[0m\u001b[0m\n",
      "\u001b[0;32m/usr/local/lib/python3.6/dist-packages/h5py/_hl/files.py\u001b[0m in \u001b[0;36m__init__\u001b[0;34m(self, name, mode, driver, libver, userblock_size, swmr, **kwds)\u001b[0m\n\u001b[1;32m    267\u001b[0m             \u001b[0;32mwith\u001b[0m \u001b[0mphil\u001b[0m\u001b[0;34m:\u001b[0m\u001b[0;34m\u001b[0m\u001b[0m\n\u001b[1;32m    268\u001b[0m                 \u001b[0mfapl\u001b[0m \u001b[0;34m=\u001b[0m \u001b[0mmake_fapl\u001b[0m\u001b[0;34m(\u001b[0m\u001b[0mdriver\u001b[0m\u001b[0;34m,\u001b[0m \u001b[0mlibver\u001b[0m\u001b[0;34m,\u001b[0m \u001b[0;34m**\u001b[0m\u001b[0mkwds\u001b[0m\u001b[0;34m)\u001b[0m\u001b[0;34m\u001b[0m\u001b[0m\n\u001b[0;32m--> 269\u001b[0;31m                 \u001b[0mfid\u001b[0m \u001b[0;34m=\u001b[0m \u001b[0mmake_fid\u001b[0m\u001b[0;34m(\u001b[0m\u001b[0mname\u001b[0m\u001b[0;34m,\u001b[0m \u001b[0mmode\u001b[0m\u001b[0;34m,\u001b[0m \u001b[0muserblock_size\u001b[0m\u001b[0;34m,\u001b[0m \u001b[0mfapl\u001b[0m\u001b[0;34m,\u001b[0m \u001b[0mswmr\u001b[0m\u001b[0;34m=\u001b[0m\u001b[0mswmr\u001b[0m\u001b[0;34m)\u001b[0m\u001b[0;34m\u001b[0m\u001b[0m\n\u001b[0m\u001b[1;32m    270\u001b[0m \u001b[0;34m\u001b[0m\u001b[0m\n\u001b[1;32m    271\u001b[0m                 \u001b[0;32mif\u001b[0m \u001b[0mswmr_support\u001b[0m\u001b[0;34m:\u001b[0m\u001b[0;34m\u001b[0m\u001b[0m\n",
      "\u001b[0;32m/usr/local/lib/python3.6/dist-packages/h5py/_hl/files.py\u001b[0m in \u001b[0;36mmake_fid\u001b[0;34m(name, mode, userblock_size, fapl, fcpl, swmr)\u001b[0m\n\u001b[1;32m     97\u001b[0m         \u001b[0;32mif\u001b[0m \u001b[0mswmr\u001b[0m \u001b[0;32mand\u001b[0m \u001b[0mswmr_support\u001b[0m\u001b[0;34m:\u001b[0m\u001b[0;34m\u001b[0m\u001b[0m\n\u001b[1;32m     98\u001b[0m             \u001b[0mflags\u001b[0m \u001b[0;34m|=\u001b[0m \u001b[0mh5f\u001b[0m\u001b[0;34m.\u001b[0m\u001b[0mACC_SWMR_READ\u001b[0m\u001b[0;34m\u001b[0m\u001b[0m\n\u001b[0;32m---> 99\u001b[0;31m         \u001b[0mfid\u001b[0m \u001b[0;34m=\u001b[0m \u001b[0mh5f\u001b[0m\u001b[0;34m.\u001b[0m\u001b[0mopen\u001b[0m\u001b[0;34m(\u001b[0m\u001b[0mname\u001b[0m\u001b[0;34m,\u001b[0m \u001b[0mflags\u001b[0m\u001b[0;34m,\u001b[0m \u001b[0mfapl\u001b[0m\u001b[0;34m=\u001b[0m\u001b[0mfapl\u001b[0m\u001b[0;34m)\u001b[0m\u001b[0;34m\u001b[0m\u001b[0m\n\u001b[0m\u001b[1;32m    100\u001b[0m     \u001b[0;32melif\u001b[0m \u001b[0mmode\u001b[0m \u001b[0;34m==\u001b[0m \u001b[0;34m'r+'\u001b[0m\u001b[0;34m:\u001b[0m\u001b[0;34m\u001b[0m\u001b[0m\n\u001b[1;32m    101\u001b[0m         \u001b[0mfid\u001b[0m \u001b[0;34m=\u001b[0m \u001b[0mh5f\u001b[0m\u001b[0;34m.\u001b[0m\u001b[0mopen\u001b[0m\u001b[0;34m(\u001b[0m\u001b[0mname\u001b[0m\u001b[0;34m,\u001b[0m \u001b[0mh5f\u001b[0m\u001b[0;34m.\u001b[0m\u001b[0mACC_RDWR\u001b[0m\u001b[0;34m,\u001b[0m \u001b[0mfapl\u001b[0m\u001b[0;34m=\u001b[0m\u001b[0mfapl\u001b[0m\u001b[0;34m)\u001b[0m\u001b[0;34m\u001b[0m\u001b[0m\n",
      "\u001b[0;32mh5py/_objects.pyx\u001b[0m in \u001b[0;36mh5py._objects.with_phil.wrapper\u001b[0;34m()\u001b[0m\n",
      "\u001b[0;32mh5py/_objects.pyx\u001b[0m in \u001b[0;36mh5py._objects.with_phil.wrapper\u001b[0;34m()\u001b[0m\n",
      "\u001b[0;32mh5py/h5f.pyx\u001b[0m in \u001b[0;36mh5py.h5f.open\u001b[0;34m()\u001b[0m\n",
      "\u001b[0;31mOSError\u001b[0m: Unable to open file (unable to open file: name = 'plankton_1.h5', errno = 2, error message = 'No such file or directory', flags = 0, o_flags = 0)"
     ]
    }
   ],
   "source": [
    "from keras.models import load_model\n",
    "saved_model = load_model('plankton_1.h5')"
   ]
  },
  {
   "cell_type": "code",
   "execution_count": null,
   "metadata": {
    "colab": {
     "autoexec": {
      "startup": false,
      "wait_interval": 0
     }
    },
    "colab_type": "code",
    "id": "j8tNaqdswmVK"
   },
   "outputs": [],
   "source": [
    "import numpy as np\n",
    "res = model.predict_generator(test_generator)\n"
   ]
  },
  {
   "cell_type": "code",
   "execution_count": 28,
   "metadata": {
    "colab": {
     "autoexec": {
      "startup": false,
      "wait_interval": 0
     },
     "base_uri": "https://localhost:8080/",
     "height": 34
    },
    "colab_type": "code",
    "executionInfo": {
     "elapsed": 708,
     "status": "ok",
     "timestamp": 1527337798411,
     "user": {
      "displayName": "Sergiy Doroshenko",
      "photoUrl": "//lh5.googleusercontent.com/-ZHU_BWQI6Dk/AAAAAAAAAAI/AAAAAAAACRQ/Greo3A_fYWk/s50-c-k-no/photo.jpg",
      "userId": "103686202862696076454"
     },
     "user_tz": -180
    },
    "id": "AKdA5BlPwmVM",
    "outputId": "8cf8be16-dc66-41d3-8bab-d91151dcdbe5"
   },
   "outputs": [
    {
     "data": {
      "text/plain": [
       "130400"
      ]
     },
     "execution_count": 28,
     "metadata": {
      "tags": []
     },
     "output_type": "execute_result"
    }
   ],
   "source": [
    "len(test_generator.filenames)"
   ]
  },
  {
   "cell_type": "code",
   "execution_count": 29,
   "metadata": {
    "colab": {
     "autoexec": {
      "startup": false,
      "wait_interval": 0
     },
     "base_uri": "https://localhost:8080/",
     "height": 34
    },
    "colab_type": "code",
    "executionInfo": {
     "elapsed": 666,
     "status": "ok",
     "timestamp": 1527337803320,
     "user": {
      "displayName": "Sergiy Doroshenko",
      "photoUrl": "//lh5.googleusercontent.com/-ZHU_BWQI6Dk/AAAAAAAAAAI/AAAAAAAACRQ/Greo3A_fYWk/s50-c-k-no/photo.jpg",
      "userId": "103686202862696076454"
     },
     "user_tz": -180
    },
    "id": "Yj1F-b2HZJDg",
    "outputId": "e3839193-742d-4d65-ab45-a4dea162f6e9"
   },
   "outputs": [
    {
     "data": {
      "text/plain": [
       "0.00034593136"
      ]
     },
     "execution_count": 29,
     "metadata": {
      "tags": []
     },
     "output_type": "execute_result"
    }
   ],
   "source": [
    "res[100][5]"
   ]
  },
  {
   "cell_type": "code",
   "execution_count": 56,
   "metadata": {
    "colab": {
     "autoexec": {
      "startup": false,
      "wait_interval": 0
     },
     "base_uri": "https://localhost:8080/",
     "height": 244
    },
    "colab_type": "code",
    "executionInfo": {
     "elapsed": 804,
     "status": "ok",
     "timestamp": 1527340691972,
     "user": {
      "displayName": "Sergiy Doroshenko",
      "photoUrl": "//lh5.googleusercontent.com/-ZHU_BWQI6Dk/AAAAAAAAAAI/AAAAAAAACRQ/Greo3A_fYWk/s50-c-k-no/photo.jpg",
      "userId": "103686202862696076454"
     },
     "user_tz": -180
    },
    "id": "0RyIXc9TwmV7",
    "outputId": "811e0922-ffc9-413a-db8a-b09eb3e2ce0c"
   },
   "outputs": [
    {
     "data": {
      "text/html": [
       "<div>\n",
       "<style scoped>\n",
       "    .dataframe tbody tr th:only-of-type {\n",
       "        vertical-align: middle;\n",
       "    }\n",
       "\n",
       "    .dataframe tbody tr th {\n",
       "        vertical-align: top;\n",
       "    }\n",
       "\n",
       "    .dataframe thead th {\n",
       "        text-align: right;\n",
       "    }\n",
       "</style>\n",
       "<table border=\"1\" class=\"dataframe\">\n",
       "  <thead>\n",
       "    <tr style=\"text-align: right;\">\n",
       "      <th></th>\n",
       "      <th>acantharia_protist</th>\n",
       "      <th>acantharia_protist_big_center</th>\n",
       "      <th>acantharia_protist_halo</th>\n",
       "      <th>amphipods</th>\n",
       "      <th>appendicularian_fritillaridae</th>\n",
       "      <th>appendicularian_s_shape</th>\n",
       "      <th>appendicularian_slight_curve</th>\n",
       "      <th>appendicularian_straight</th>\n",
       "      <th>artifacts</th>\n",
       "      <th>artifacts_edge</th>\n",
       "      <th>...</th>\n",
       "      <th>trichodesmium_tuft</th>\n",
       "      <th>trochophore_larvae</th>\n",
       "      <th>tunicate_doliolid</th>\n",
       "      <th>tunicate_doliolid_nurse</th>\n",
       "      <th>tunicate_partial</th>\n",
       "      <th>tunicate_salp</th>\n",
       "      <th>tunicate_salp_chains</th>\n",
       "      <th>unknown_blobs_and_smudges</th>\n",
       "      <th>unknown_sticks</th>\n",
       "      <th>unknown_unclassified</th>\n",
       "    </tr>\n",
       "  </thead>\n",
       "  <tbody>\n",
       "    <tr>\n",
       "      <th>1.jpg</th>\n",
       "      <td>0.000193</td>\n",
       "      <td>0.000145</td>\n",
       "      <td>0.000765</td>\n",
       "      <td>0.001029</td>\n",
       "      <td>0.005125</td>\n",
       "      <td>0.107251</td>\n",
       "      <td>0.114428</td>\n",
       "      <td>0.022046</td>\n",
       "      <td>0.000060</td>\n",
       "      <td>0.000013</td>\n",
       "      <td>...</td>\n",
       "      <td>0.023481</td>\n",
       "      <td>0.000309</td>\n",
       "      <td>0.003216</td>\n",
       "      <td>0.013004</td>\n",
       "      <td>0.000043</td>\n",
       "      <td>0.000198</td>\n",
       "      <td>0.000375</td>\n",
       "      <td>0.006327</td>\n",
       "      <td>0.028649</td>\n",
       "      <td>0.010542</td>\n",
       "    </tr>\n",
       "    <tr>\n",
       "      <th>10.jpg</th>\n",
       "      <td>0.013733</td>\n",
       "      <td>0.018464</td>\n",
       "      <td>0.224599</td>\n",
       "      <td>0.001012</td>\n",
       "      <td>0.001653</td>\n",
       "      <td>0.004681</td>\n",
       "      <td>0.009117</td>\n",
       "      <td>0.031105</td>\n",
       "      <td>0.000148</td>\n",
       "      <td>0.007908</td>\n",
       "      <td>...</td>\n",
       "      <td>0.003069</td>\n",
       "      <td>0.009313</td>\n",
       "      <td>0.003609</td>\n",
       "      <td>0.004129</td>\n",
       "      <td>0.003022</td>\n",
       "      <td>0.001732</td>\n",
       "      <td>0.003574</td>\n",
       "      <td>0.001062</td>\n",
       "      <td>0.000691</td>\n",
       "      <td>0.019713</td>\n",
       "    </tr>\n",
       "    <tr>\n",
       "      <th>100.jpg</th>\n",
       "      <td>0.000898</td>\n",
       "      <td>0.001823</td>\n",
       "      <td>0.010953</td>\n",
       "      <td>0.000640</td>\n",
       "      <td>0.002939</td>\n",
       "      <td>0.016365</td>\n",
       "      <td>0.037106</td>\n",
       "      <td>0.031725</td>\n",
       "      <td>0.000131</td>\n",
       "      <td>0.000413</td>\n",
       "      <td>...</td>\n",
       "      <td>0.003499</td>\n",
       "      <td>0.012740</td>\n",
       "      <td>0.047473</td>\n",
       "      <td>0.041756</td>\n",
       "      <td>0.000401</td>\n",
       "      <td>0.004227</td>\n",
       "      <td>0.006629</td>\n",
       "      <td>0.001981</td>\n",
       "      <td>0.001828</td>\n",
       "      <td>0.022883</td>\n",
       "    </tr>\n",
       "    <tr>\n",
       "      <th>1000.jpg</th>\n",
       "      <td>0.412133</td>\n",
       "      <td>0.000381</td>\n",
       "      <td>0.064768</td>\n",
       "      <td>0.000002</td>\n",
       "      <td>0.000007</td>\n",
       "      <td>0.000045</td>\n",
       "      <td>0.000057</td>\n",
       "      <td>0.000366</td>\n",
       "      <td>0.000347</td>\n",
       "      <td>0.001395</td>\n",
       "      <td>...</td>\n",
       "      <td>0.000015</td>\n",
       "      <td>0.001429</td>\n",
       "      <td>0.000076</td>\n",
       "      <td>0.000031</td>\n",
       "      <td>0.000001</td>\n",
       "      <td>0.000009</td>\n",
       "      <td>0.000018</td>\n",
       "      <td>0.000026</td>\n",
       "      <td>0.000008</td>\n",
       "      <td>0.001487</td>\n",
       "    </tr>\n",
       "    <tr>\n",
       "      <th>10000.jpg</th>\n",
       "      <td>0.000042</td>\n",
       "      <td>0.000301</td>\n",
       "      <td>0.001617</td>\n",
       "      <td>0.000277</td>\n",
       "      <td>0.001482</td>\n",
       "      <td>0.040094</td>\n",
       "      <td>0.011884</td>\n",
       "      <td>0.006385</td>\n",
       "      <td>0.000013</td>\n",
       "      <td>0.000036</td>\n",
       "      <td>...</td>\n",
       "      <td>0.000541</td>\n",
       "      <td>0.001698</td>\n",
       "      <td>0.113013</td>\n",
       "      <td>0.015823</td>\n",
       "      <td>0.000194</td>\n",
       "      <td>0.002289</td>\n",
       "      <td>0.003649</td>\n",
       "      <td>0.002114</td>\n",
       "      <td>0.001183</td>\n",
       "      <td>0.020545</td>\n",
       "    </tr>\n",
       "  </tbody>\n",
       "</table>\n",
       "<p>5 rows × 121 columns</p>\n",
       "</div>"
      ],
      "text/plain": [
       "           acantharia_protist  acantharia_protist_big_center  \\\n",
       "1.jpg                0.000193                       0.000145   \n",
       "10.jpg               0.013733                       0.018464   \n",
       "100.jpg              0.000898                       0.001823   \n",
       "1000.jpg             0.412133                       0.000381   \n",
       "10000.jpg            0.000042                       0.000301   \n",
       "\n",
       "           acantharia_protist_halo  amphipods  appendicularian_fritillaridae  \\\n",
       "1.jpg                     0.000765   0.001029                       0.005125   \n",
       "10.jpg                    0.224599   0.001012                       0.001653   \n",
       "100.jpg                   0.010953   0.000640                       0.002939   \n",
       "1000.jpg                  0.064768   0.000002                       0.000007   \n",
       "10000.jpg                 0.001617   0.000277                       0.001482   \n",
       "\n",
       "           appendicularian_s_shape  appendicularian_slight_curve  \\\n",
       "1.jpg                     0.107251                      0.114428   \n",
       "10.jpg                    0.004681                      0.009117   \n",
       "100.jpg                   0.016365                      0.037106   \n",
       "1000.jpg                  0.000045                      0.000057   \n",
       "10000.jpg                 0.040094                      0.011884   \n",
       "\n",
       "           appendicularian_straight  artifacts  artifacts_edge  \\\n",
       "1.jpg                      0.022046   0.000060        0.000013   \n",
       "10.jpg                     0.031105   0.000148        0.007908   \n",
       "100.jpg                    0.031725   0.000131        0.000413   \n",
       "1000.jpg                   0.000366   0.000347        0.001395   \n",
       "10000.jpg                  0.006385   0.000013        0.000036   \n",
       "\n",
       "                   ...           trichodesmium_tuft  trochophore_larvae  \\\n",
       "1.jpg              ...                     0.023481            0.000309   \n",
       "10.jpg             ...                     0.003069            0.009313   \n",
       "100.jpg            ...                     0.003499            0.012740   \n",
       "1000.jpg           ...                     0.000015            0.001429   \n",
       "10000.jpg          ...                     0.000541            0.001698   \n",
       "\n",
       "           tunicate_doliolid  tunicate_doliolid_nurse  tunicate_partial  \\\n",
       "1.jpg               0.003216                 0.013004          0.000043   \n",
       "10.jpg              0.003609                 0.004129          0.003022   \n",
       "100.jpg             0.047473                 0.041756          0.000401   \n",
       "1000.jpg            0.000076                 0.000031          0.000001   \n",
       "10000.jpg           0.113013                 0.015823          0.000194   \n",
       "\n",
       "           tunicate_salp  tunicate_salp_chains  unknown_blobs_and_smudges  \\\n",
       "1.jpg           0.000198              0.000375                   0.006327   \n",
       "10.jpg          0.001732              0.003574                   0.001062   \n",
       "100.jpg         0.004227              0.006629                   0.001981   \n",
       "1000.jpg        0.000009              0.000018                   0.000026   \n",
       "10000.jpg       0.002289              0.003649                   0.002114   \n",
       "\n",
       "           unknown_sticks  unknown_unclassified  \n",
       "1.jpg            0.028649              0.010542  \n",
       "10.jpg           0.000691              0.019713  \n",
       "100.jpg          0.001828              0.022883  \n",
       "1000.jpg         0.000008              0.001487  \n",
       "10000.jpg        0.001183              0.020545  \n",
       "\n",
       "[5 rows x 121 columns]"
      ]
     },
     "execution_count": 56,
     "metadata": {
      "tags": []
     },
     "output_type": "execute_result"
    }
   ],
   "source": [
    "import pandas as pd\n",
    "image_index = [x.replace(\"test/\",\"\") for x in test_generator.filenames]\n",
    "df = pd.DataFrame(data=res, columns=[*train_generator.class_indices],index=image_index)\n",
    "df.head()"
   ]
  },
  {
   "cell_type": "code",
   "execution_count": 57,
   "metadata": {
    "colab": {
     "autoexec": {
      "startup": false,
      "wait_interval": 0
     },
     "base_uri": "https://localhost:8080/",
     "height": 274
    },
    "colab_type": "code",
    "executionInfo": {
     "elapsed": 754,
     "status": "ok",
     "timestamp": 1527340725567,
     "user": {
      "displayName": "Sergiy Doroshenko",
      "photoUrl": "//lh5.googleusercontent.com/-ZHU_BWQI6Dk/AAAAAAAAAAI/AAAAAAAACRQ/Greo3A_fYWk/s50-c-k-no/photo.jpg",
      "userId": "103686202862696076454"
     },
     "user_tz": -180
    },
    "id": "rR_flPQ1wmV-",
    "outputId": "b9377941-e728-4adb-82f3-645dcb96d240"
   },
   "outputs": [
    {
     "data": {
      "text/html": [
       "<div>\n",
       "<style scoped>\n",
       "    .dataframe tbody tr th:only-of-type {\n",
       "        vertical-align: middle;\n",
       "    }\n",
       "\n",
       "    .dataframe tbody tr th {\n",
       "        vertical-align: top;\n",
       "    }\n",
       "\n",
       "    .dataframe thead th {\n",
       "        text-align: right;\n",
       "    }\n",
       "</style>\n",
       "<table border=\"1\" class=\"dataframe\">\n",
       "  <thead>\n",
       "    <tr style=\"text-align: right;\">\n",
       "      <th></th>\n",
       "      <th>acantharia_protist</th>\n",
       "      <th>acantharia_protist_big_center</th>\n",
       "      <th>acantharia_protist_halo</th>\n",
       "      <th>amphipods</th>\n",
       "      <th>appendicularian_fritillaridae</th>\n",
       "      <th>appendicularian_s_shape</th>\n",
       "      <th>appendicularian_slight_curve</th>\n",
       "      <th>appendicularian_straight</th>\n",
       "      <th>artifacts</th>\n",
       "      <th>artifacts_edge</th>\n",
       "      <th>...</th>\n",
       "      <th>trichodesmium_tuft</th>\n",
       "      <th>trochophore_larvae</th>\n",
       "      <th>tunicate_doliolid</th>\n",
       "      <th>tunicate_doliolid_nurse</th>\n",
       "      <th>tunicate_partial</th>\n",
       "      <th>tunicate_salp</th>\n",
       "      <th>tunicate_salp_chains</th>\n",
       "      <th>unknown_blobs_and_smudges</th>\n",
       "      <th>unknown_sticks</th>\n",
       "      <th>unknown_unclassified</th>\n",
       "    </tr>\n",
       "    <tr>\n",
       "      <th>image</th>\n",
       "      <th></th>\n",
       "      <th></th>\n",
       "      <th></th>\n",
       "      <th></th>\n",
       "      <th></th>\n",
       "      <th></th>\n",
       "      <th></th>\n",
       "      <th></th>\n",
       "      <th></th>\n",
       "      <th></th>\n",
       "      <th></th>\n",
       "      <th></th>\n",
       "      <th></th>\n",
       "      <th></th>\n",
       "      <th></th>\n",
       "      <th></th>\n",
       "      <th></th>\n",
       "      <th></th>\n",
       "      <th></th>\n",
       "      <th></th>\n",
       "      <th></th>\n",
       "    </tr>\n",
       "  </thead>\n",
       "  <tbody>\n",
       "    <tr>\n",
       "      <th>1.jpg</th>\n",
       "      <td>0.000193</td>\n",
       "      <td>0.000145</td>\n",
       "      <td>0.000765</td>\n",
       "      <td>0.001029</td>\n",
       "      <td>0.005125</td>\n",
       "      <td>0.107251</td>\n",
       "      <td>0.114428</td>\n",
       "      <td>0.022046</td>\n",
       "      <td>0.000060</td>\n",
       "      <td>0.000013</td>\n",
       "      <td>...</td>\n",
       "      <td>0.023481</td>\n",
       "      <td>0.000309</td>\n",
       "      <td>0.003216</td>\n",
       "      <td>0.013004</td>\n",
       "      <td>0.000043</td>\n",
       "      <td>0.000198</td>\n",
       "      <td>0.000375</td>\n",
       "      <td>0.006327</td>\n",
       "      <td>0.028649</td>\n",
       "      <td>0.010542</td>\n",
       "    </tr>\n",
       "    <tr>\n",
       "      <th>10.jpg</th>\n",
       "      <td>0.013733</td>\n",
       "      <td>0.018464</td>\n",
       "      <td>0.224599</td>\n",
       "      <td>0.001012</td>\n",
       "      <td>0.001653</td>\n",
       "      <td>0.004681</td>\n",
       "      <td>0.009117</td>\n",
       "      <td>0.031105</td>\n",
       "      <td>0.000148</td>\n",
       "      <td>0.007908</td>\n",
       "      <td>...</td>\n",
       "      <td>0.003069</td>\n",
       "      <td>0.009313</td>\n",
       "      <td>0.003609</td>\n",
       "      <td>0.004129</td>\n",
       "      <td>0.003022</td>\n",
       "      <td>0.001732</td>\n",
       "      <td>0.003574</td>\n",
       "      <td>0.001062</td>\n",
       "      <td>0.000691</td>\n",
       "      <td>0.019713</td>\n",
       "    </tr>\n",
       "    <tr>\n",
       "      <th>100.jpg</th>\n",
       "      <td>0.000898</td>\n",
       "      <td>0.001823</td>\n",
       "      <td>0.010953</td>\n",
       "      <td>0.000640</td>\n",
       "      <td>0.002939</td>\n",
       "      <td>0.016365</td>\n",
       "      <td>0.037106</td>\n",
       "      <td>0.031725</td>\n",
       "      <td>0.000131</td>\n",
       "      <td>0.000413</td>\n",
       "      <td>...</td>\n",
       "      <td>0.003499</td>\n",
       "      <td>0.012740</td>\n",
       "      <td>0.047473</td>\n",
       "      <td>0.041756</td>\n",
       "      <td>0.000401</td>\n",
       "      <td>0.004227</td>\n",
       "      <td>0.006629</td>\n",
       "      <td>0.001981</td>\n",
       "      <td>0.001828</td>\n",
       "      <td>0.022883</td>\n",
       "    </tr>\n",
       "    <tr>\n",
       "      <th>1000.jpg</th>\n",
       "      <td>0.412133</td>\n",
       "      <td>0.000381</td>\n",
       "      <td>0.064768</td>\n",
       "      <td>0.000002</td>\n",
       "      <td>0.000007</td>\n",
       "      <td>0.000045</td>\n",
       "      <td>0.000057</td>\n",
       "      <td>0.000366</td>\n",
       "      <td>0.000347</td>\n",
       "      <td>0.001395</td>\n",
       "      <td>...</td>\n",
       "      <td>0.000015</td>\n",
       "      <td>0.001429</td>\n",
       "      <td>0.000076</td>\n",
       "      <td>0.000031</td>\n",
       "      <td>0.000001</td>\n",
       "      <td>0.000009</td>\n",
       "      <td>0.000018</td>\n",
       "      <td>0.000026</td>\n",
       "      <td>0.000008</td>\n",
       "      <td>0.001487</td>\n",
       "    </tr>\n",
       "    <tr>\n",
       "      <th>10000.jpg</th>\n",
       "      <td>0.000042</td>\n",
       "      <td>0.000301</td>\n",
       "      <td>0.001617</td>\n",
       "      <td>0.000277</td>\n",
       "      <td>0.001482</td>\n",
       "      <td>0.040094</td>\n",
       "      <td>0.011884</td>\n",
       "      <td>0.006385</td>\n",
       "      <td>0.000013</td>\n",
       "      <td>0.000036</td>\n",
       "      <td>...</td>\n",
       "      <td>0.000541</td>\n",
       "      <td>0.001698</td>\n",
       "      <td>0.113013</td>\n",
       "      <td>0.015823</td>\n",
       "      <td>0.000194</td>\n",
       "      <td>0.002289</td>\n",
       "      <td>0.003649</td>\n",
       "      <td>0.002114</td>\n",
       "      <td>0.001183</td>\n",
       "      <td>0.020545</td>\n",
       "    </tr>\n",
       "  </tbody>\n",
       "</table>\n",
       "<p>5 rows × 121 columns</p>\n",
       "</div>"
      ],
      "text/plain": [
       "           acantharia_protist  acantharia_protist_big_center  \\\n",
       "image                                                          \n",
       "1.jpg                0.000193                       0.000145   \n",
       "10.jpg               0.013733                       0.018464   \n",
       "100.jpg              0.000898                       0.001823   \n",
       "1000.jpg             0.412133                       0.000381   \n",
       "10000.jpg            0.000042                       0.000301   \n",
       "\n",
       "           acantharia_protist_halo  amphipods  appendicularian_fritillaridae  \\\n",
       "image                                                                          \n",
       "1.jpg                     0.000765   0.001029                       0.005125   \n",
       "10.jpg                    0.224599   0.001012                       0.001653   \n",
       "100.jpg                   0.010953   0.000640                       0.002939   \n",
       "1000.jpg                  0.064768   0.000002                       0.000007   \n",
       "10000.jpg                 0.001617   0.000277                       0.001482   \n",
       "\n",
       "           appendicularian_s_shape  appendicularian_slight_curve  \\\n",
       "image                                                              \n",
       "1.jpg                     0.107251                      0.114428   \n",
       "10.jpg                    0.004681                      0.009117   \n",
       "100.jpg                   0.016365                      0.037106   \n",
       "1000.jpg                  0.000045                      0.000057   \n",
       "10000.jpg                 0.040094                      0.011884   \n",
       "\n",
       "           appendicularian_straight  artifacts  artifacts_edge  \\\n",
       "image                                                            \n",
       "1.jpg                      0.022046   0.000060        0.000013   \n",
       "10.jpg                     0.031105   0.000148        0.007908   \n",
       "100.jpg                    0.031725   0.000131        0.000413   \n",
       "1000.jpg                   0.000366   0.000347        0.001395   \n",
       "10000.jpg                  0.006385   0.000013        0.000036   \n",
       "\n",
       "                   ...           trichodesmium_tuft  trochophore_larvae  \\\n",
       "image              ...                                                    \n",
       "1.jpg              ...                     0.023481            0.000309   \n",
       "10.jpg             ...                     0.003069            0.009313   \n",
       "100.jpg            ...                     0.003499            0.012740   \n",
       "1000.jpg           ...                     0.000015            0.001429   \n",
       "10000.jpg          ...                     0.000541            0.001698   \n",
       "\n",
       "           tunicate_doliolid  tunicate_doliolid_nurse  tunicate_partial  \\\n",
       "image                                                                     \n",
       "1.jpg               0.003216                 0.013004          0.000043   \n",
       "10.jpg              0.003609                 0.004129          0.003022   \n",
       "100.jpg             0.047473                 0.041756          0.000401   \n",
       "1000.jpg            0.000076                 0.000031          0.000001   \n",
       "10000.jpg           0.113013                 0.015823          0.000194   \n",
       "\n",
       "           tunicate_salp  tunicate_salp_chains  unknown_blobs_and_smudges  \\\n",
       "image                                                                       \n",
       "1.jpg           0.000198              0.000375                   0.006327   \n",
       "10.jpg          0.001732              0.003574                   0.001062   \n",
       "100.jpg         0.004227              0.006629                   0.001981   \n",
       "1000.jpg        0.000009              0.000018                   0.000026   \n",
       "10000.jpg       0.002289              0.003649                   0.002114   \n",
       "\n",
       "           unknown_sticks  unknown_unclassified  \n",
       "image                                            \n",
       "1.jpg            0.028649              0.010542  \n",
       "10.jpg           0.000691              0.019713  \n",
       "100.jpg          0.001828              0.022883  \n",
       "1000.jpg         0.000008              0.001487  \n",
       "10000.jpg        0.001183              0.020545  \n",
       "\n",
       "[5 rows x 121 columns]"
      ]
     },
     "execution_count": 57,
     "metadata": {
      "tags": []
     },
     "output_type": "execute_result"
    }
   ],
   "source": [
    "df.index.name = 'image'\n",
    "df.head()"
   ]
  },
  {
   "cell_type": "code",
   "execution_count": 58,
   "metadata": {
    "colab": {
     "autoexec": {
      "startup": false,
      "wait_interval": 0
     },
     "base_uri": "https://localhost:8080/",
     "height": 185
    },
    "colab_type": "code",
    "executionInfo": {
     "elapsed": 24526,
     "status": "ok",
     "timestamp": 1527340757240,
     "user": {
      "displayName": "Sergiy Doroshenko",
      "photoUrl": "//lh5.googleusercontent.com/-ZHU_BWQI6Dk/AAAAAAAAAAI/AAAAAAAACRQ/Greo3A_fYWk/s50-c-k-no/photo.jpg",
      "userId": "103686202862696076454"
     },
     "user_tz": -180
    },
    "id": "VGWonxNpJeDr",
    "outputId": "a0861571-1097-453d-aa2e-bbcdd7b250f3"
   },
   "outputs": [
    {
     "data": {
      "text/plain": [
       "Index(['image', 'acantharia_protist', 'acantharia_protist_big_center',\n",
       "       'acantharia_protist_halo', 'amphipods', 'appendicularian_fritillaridae',\n",
       "       'appendicularian_s_shape', 'appendicularian_slight_curve',\n",
       "       'appendicularian_straight', 'artifacts',\n",
       "       ...\n",
       "       'trichodesmium_tuft', 'trochophore_larvae', 'tunicate_doliolid',\n",
       "       'tunicate_doliolid_nurse', 'tunicate_partial', 'tunicate_salp',\n",
       "       'tunicate_salp_chains', 'unknown_blobs_and_smudges', 'unknown_sticks',\n",
       "       'unknown_unclassified'],\n",
       "      dtype='object', length=122)"
      ]
     },
     "execution_count": 58,
     "metadata": {
      "tags": []
     },
     "output_type": "execute_result"
    }
   ],
   "source": [
    "df.to_csv(\"/content/plankton/result.csv\", encoding='utf-8',index=image_index)\n",
    "result2 = pd.read_csv('/content/plankton/result.csv')\n",
    "result2.columns"
   ]
  },
  {
   "cell_type": "code",
   "execution_count": 59,
   "metadata": {
    "colab": {
     "autoexec": {
      "startup": false,
      "wait_interval": 0
     },
     "base_uri": "https://localhost:8080/",
     "height": 34
    },
    "colab_type": "code",
    "executionInfo": {
     "elapsed": 64094,
     "status": "ok",
     "timestamp": 1527340823270,
     "user": {
      "displayName": "Sergiy Doroshenko",
      "photoUrl": "//lh5.googleusercontent.com/-ZHU_BWQI6Dk/AAAAAAAAAAI/AAAAAAAACRQ/Greo3A_fYWk/s50-c-k-no/photo.jpg",
      "userId": "103686202862696076454"
     },
     "user_tz": -180
    },
    "id": "37GymmJtGME1",
    "outputId": "c5bb3b2a-1f69-442a-8089-190f085aef96"
   },
   "outputs": [
    {
     "name": "stdout",
     "output_type": "stream",
     "text": [
      "Successfully submitted to National Data Science Bowl"
     ]
    }
   ],
   "source": [
    "!kaggle competitions submit -c datasciencebowl -f /content/plankton/result.csv -m \"Adam(lr=0.0001) 3 epoch gray scale  featurewise_center=True, featurewise_std_normalization=True more layers\""
   ]
  },
  {
   "cell_type": "code",
   "execution_count": 35,
   "metadata": {
    "colab": {
     "autoexec": {
      "startup": false,
      "wait_interval": 0
     },
     "base_uri": "https://localhost:8080/",
     "height": 514
    },
    "colab_type": "code",
    "executionInfo": {
     "elapsed": 119613,
     "status": "error",
     "timestamp": 1527338380687,
     "user": {
      "displayName": "Sergiy Doroshenko",
      "photoUrl": "//lh5.googleusercontent.com/-ZHU_BWQI6Dk/AAAAAAAAAAI/AAAAAAAACRQ/Greo3A_fYWk/s50-c-k-no/photo.jpg",
      "userId": "103686202862696076454"
     },
     "user_tz": -180
    },
    "id": "IcrwP662s002",
    "outputId": "13847dca-e04b-4a36-f9f8-c6b7c837b969"
   },
   "outputs": [
    {
     "ename": "KeyboardInterrupt",
     "evalue": "ignored",
     "output_type": "error",
     "traceback": [
      "\u001b[0;31m---------------------------------------------------------------------------\u001b[0m",
      "\u001b[0;31mKeyboardInterrupt\u001b[0m                         Traceback (most recent call last)",
      "\u001b[0;32m<ipython-input-35-ea283e2118f1>\u001b[0m in \u001b[0;36m<module>\u001b[0;34m()\u001b[0m\n\u001b[1;32m      1\u001b[0m \u001b[0;32mfrom\u001b[0m \u001b[0mgoogle\u001b[0m\u001b[0;34m.\u001b[0m\u001b[0mcolab\u001b[0m \u001b[0;32mimport\u001b[0m \u001b[0mfiles\u001b[0m\u001b[0;34m\u001b[0m\u001b[0m\n\u001b[0;32m----> 2\u001b[0;31m \u001b[0mfiles\u001b[0m\u001b[0;34m.\u001b[0m\u001b[0mdownload\u001b[0m\u001b[0;34m(\u001b[0m\u001b[0;34m'/content/plankton/plankton_1.h5'\u001b[0m\u001b[0;34m)\u001b[0m\u001b[0;34m\u001b[0m\u001b[0m\n\u001b[0m",
      "\u001b[0;32m/usr/local/lib/python3.6/dist-packages/google/colab/files.py\u001b[0m in \u001b[0;36mdownload\u001b[0;34m(filename)\u001b[0m\n\u001b[1;32m    174\u001b[0m       \u001b[0;34m'port'\u001b[0m\u001b[0;34m:\u001b[0m \u001b[0mport\u001b[0m\u001b[0;34m,\u001b[0m\u001b[0;34m\u001b[0m\u001b[0m\n\u001b[1;32m    175\u001b[0m       \u001b[0;34m'path'\u001b[0m\u001b[0;34m:\u001b[0m \u001b[0mos\u001b[0m\u001b[0;34m.\u001b[0m\u001b[0mpath\u001b[0m\u001b[0;34m.\u001b[0m\u001b[0mabspath\u001b[0m\u001b[0;34m(\u001b[0m\u001b[0mfilename\u001b[0m\u001b[0;34m)\u001b[0m\u001b[0;34m,\u001b[0m\u001b[0;34m\u001b[0m\u001b[0m\n\u001b[0;32m--> 176\u001b[0;31m       \u001b[0;34m'name'\u001b[0m\u001b[0;34m:\u001b[0m \u001b[0mos\u001b[0m\u001b[0;34m.\u001b[0m\u001b[0mpath\u001b[0m\u001b[0;34m.\u001b[0m\u001b[0mbasename\u001b[0m\u001b[0;34m(\u001b[0m\u001b[0mfilename\u001b[0m\u001b[0;34m)\u001b[0m\u001b[0;34m,\u001b[0m\u001b[0;34m\u001b[0m\u001b[0m\n\u001b[0m\u001b[1;32m    177\u001b[0m   })\n",
      "\u001b[0;32m/usr/local/lib/python3.6/dist-packages/google/colab/output/_js.py\u001b[0m in \u001b[0;36meval_js\u001b[0;34m(script, ignore_result)\u001b[0m\n\u001b[1;32m     37\u001b[0m   \u001b[0;32mif\u001b[0m \u001b[0mignore_result\u001b[0m\u001b[0;34m:\u001b[0m\u001b[0;34m\u001b[0m\u001b[0m\n\u001b[1;32m     38\u001b[0m     \u001b[0;32mreturn\u001b[0m\u001b[0;34m\u001b[0m\u001b[0m\n\u001b[0;32m---> 39\u001b[0;31m   \u001b[0;32mreturn\u001b[0m \u001b[0m_message\u001b[0m\u001b[0;34m.\u001b[0m\u001b[0mread_reply_from_input\u001b[0m\u001b[0;34m(\u001b[0m\u001b[0mrequest_id\u001b[0m\u001b[0;34m)\u001b[0m\u001b[0;34m\u001b[0m\u001b[0m\n\u001b[0m\u001b[1;32m     40\u001b[0m \u001b[0;34m\u001b[0m\u001b[0m\n\u001b[1;32m     41\u001b[0m \u001b[0;34m\u001b[0m\u001b[0m\n",
      "\u001b[0;32m/usr/local/lib/python3.6/dist-packages/google/colab/_message.py\u001b[0m in \u001b[0;36mread_reply_from_input\u001b[0;34m(message_id, timeout_sec)\u001b[0m\n\u001b[1;32m     79\u001b[0m     \u001b[0mreply\u001b[0m \u001b[0;34m=\u001b[0m \u001b[0m_read_next_input_message\u001b[0m\u001b[0;34m(\u001b[0m\u001b[0;34m)\u001b[0m\u001b[0;34m\u001b[0m\u001b[0m\n\u001b[1;32m     80\u001b[0m     \u001b[0;32mif\u001b[0m \u001b[0mreply\u001b[0m \u001b[0;34m==\u001b[0m \u001b[0m_NOT_READY\u001b[0m \u001b[0;32mor\u001b[0m \u001b[0;32mnot\u001b[0m \u001b[0misinstance\u001b[0m\u001b[0;34m(\u001b[0m\u001b[0mreply\u001b[0m\u001b[0;34m,\u001b[0m \u001b[0mdict\u001b[0m\u001b[0;34m)\u001b[0m\u001b[0;34m:\u001b[0m\u001b[0;34m\u001b[0m\u001b[0m\n\u001b[0;32m---> 81\u001b[0;31m       \u001b[0mtime\u001b[0m\u001b[0;34m.\u001b[0m\u001b[0msleep\u001b[0m\u001b[0;34m(\u001b[0m\u001b[0;36m0.025\u001b[0m\u001b[0;34m)\u001b[0m\u001b[0;34m\u001b[0m\u001b[0m\n\u001b[0m\u001b[1;32m     82\u001b[0m       \u001b[0;32mcontinue\u001b[0m\u001b[0;34m\u001b[0m\u001b[0m\n\u001b[1;32m     83\u001b[0m     if (reply.get('type') == 'colab_reply' and\n",
      "\u001b[0;31mKeyboardInterrupt\u001b[0m: "
     ]
    }
   ],
   "source": [
    "from google.colab import files\n",
    "files.download('/content/plankton/plankton_1.h5')"
   ]
  }
 ],
 "metadata": {
  "accelerator": "GPU",
  "colab": {
   "collapsed_sections": [],
   "default_view": {},
   "name": "plankton.ipynb",
   "provenance": [],
   "version": "0.3.2",
   "views": {}
  },
  "kernelspec": {
   "display_name": "Python [default]",
   "language": "python",
   "name": "python3"
  },
  "language_info": {
   "codemirror_mode": {
    "name": "ipython",
    "version": 3
   },
   "file_extension": ".py",
   "mimetype": "text/x-python",
   "name": "python",
   "nbconvert_exporter": "python",
   "pygments_lexer": "ipython3",
   "version": "3.6.6"
  }
 },
 "nbformat": 4,
 "nbformat_minor": 4
}
