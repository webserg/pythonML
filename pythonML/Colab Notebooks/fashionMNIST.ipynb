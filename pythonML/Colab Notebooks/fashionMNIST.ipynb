{
 "cells": [
  {
   "cell_type": "code",
   "execution_count": null,
   "metadata": {
    "colab": {
     "autoexec": {
      "startup": false,
      "wait_interval": 0
     },
     "base_uri": "https://localhost:8080/",
     "height": 269
    },
    "colab_type": "code",
    "executionInfo": {
     "elapsed": 4285,
     "status": "ok",
     "timestamp": 1527004102328,
     "user": {
      "displayName": "Sergiy Doroshenko",
      "photoUrl": "//lh5.googleusercontent.com/-ZHU_BWQI6Dk/AAAAAAAAAAI/AAAAAAAACRQ/Greo3A_fYWk/s50-c-k-no/photo.jpg",
      "userId": "103686202862696076454"
     },
     "user_tz": -180
    },
    "id": "MpjxIAhoxRNB",
    "outputId": "7c80472f-ecf1-4b65-d5df-870bbb21de95"
   },
   "outputs": [],
   "source": [
    "!pip install kaggle"
   ]
  },
  {
   "cell_type": "code",
   "execution_count": null,
   "metadata": {
    "colab": {
     "autoexec": {
      "startup": false,
      "wait_interval": 0
     }
    },
    "colab_type": "code",
    "id": "fjEzwoPsyMFR"
   },
   "outputs": [],
   "source": [
    "from googleapiclient.discovery import build\n",
    "import io, os\n",
    "from googleapiclient.http import MediaIoBaseDownload\n",
    "from google.colab import auth\n",
    "\n",
    "auth.authenticate_user()\n",
    "\n",
    "drive_service = build('drive', 'v3')\n",
    "results = drive_service.files().list(\n",
    "        q=\"name = 'kaggle.json'\", fields=\"files(id)\").execute()\n",
    "kaggle_api_key = results.get('files', [])\n",
    "\n",
    "filename = \"/content/.kaggle/kaggle.json\"\n",
    "os.makedirs(os.path.dirname(filename), exist_ok=True)\n",
    "\n",
    "request = drive_service.files().get_media(fileId=kaggle_api_key[0]['id'])\n",
    "fh = io.FileIO(filename, 'wb')\n",
    "downloader = MediaIoBaseDownload(fh, request)\n",
    "done = False\n",
    "while done is False:\n",
    "    status, done = downloader.next_chunk()\n",
    "    print(\"Download %d%%.\" % int(status.progress() * 100))\n",
    "os.chmod(filename, 600)"
   ]
  },
  {
   "cell_type": "code",
   "execution_count": 1,
   "metadata": {
    "colab": {
     "autoexec": {
      "startup": false,
      "wait_interval": 0
     },
     "base_uri": "https://localhost:8080/",
     "height": 34
    },
    "colab_type": "code",
    "executionInfo": {
     "elapsed": 1787,
     "status": "ok",
     "timestamp": 1527021529886,
     "user": {
      "displayName": "Sergiy Doroshenko",
      "photoUrl": "//lh5.googleusercontent.com/-ZHU_BWQI6Dk/AAAAAAAAAAI/AAAAAAAACRQ/Greo3A_fYWk/s50-c-k-no/photo.jpg",
      "userId": "103686202862696076454"
     },
     "user_tz": -180
    },
    "id": "LVWMF1bmxOOR",
    "outputId": "652397b0-6a92-4fe5-9982-e0ddcef5b810"
   },
   "outputs": [
    {
     "name": "stdout",
     "output_type": "stream",
     "text": [
      "C:\\git\\pythonML\\pythonML\\Colab Notebooks\n"
     ]
    }
   ],
   "source": [
    "!pwd"
   ]
  },
  {
   "cell_type": "code",
   "execution_count": null,
   "metadata": {
    "colab": {
     "autoexec": {
      "startup": false,
      "wait_interval": 0
     },
     "base_uri": "https://localhost:8080/",
     "height": 84
    },
    "colab_type": "code",
    "executionInfo": {
     "elapsed": 6360,
     "status": "ok",
     "timestamp": 1527004141879,
     "user": {
      "displayName": "Sergiy Doroshenko",
      "photoUrl": "//lh5.googleusercontent.com/-ZHU_BWQI6Dk/AAAAAAAAAAI/AAAAAAAACRQ/Greo3A_fYWk/s50-c-k-no/photo.jpg",
      "userId": "103686202862696076454"
     },
     "user_tz": -180
    },
    "id": "onMR-_idwmT_",
    "outputId": "c270216f-2c02-48dc-bfe2-8b9f3edbf7ff"
   },
   "outputs": [
    {
     "name": "stdout",
     "output_type": "stream",
     "text": [
      "sampleSubmission.csv.zip: Downloaded 886KB of 886KB to ./plankton\n",
      "train.zip: Downloaded 76MB of 76MB to ./plankton\n",
      "test.zip: Downloaded 347MB of 347MB to ./plankton\n",
      "plankton_identification.pdf: Downloaded 2MB of 2MB to ./plankton\n"
     ]
    }
   ],
   "source": [
    "kaggle datasets download -d zalando-research/fashionmnist -p ./fashionmnist"
   ]
  },
  {
   "cell_type": "code",
   "execution_count": null,
   "metadata": {
    "colab": {
     "autoexec": {
      "startup": false,
      "wait_interval": 0
     }
    },
    "colab_type": "code",
    "id": "1yUtCZGX0na5"
   },
   "outputs": [],
   "source": [
    "%mkdir /content/plankton/validation/"
   ]
  },
  {
   "cell_type": "code",
   "execution_count": 1,
   "metadata": {},
   "outputs": [
    {
     "name": "stderr",
     "output_type": "stream",
     "text": [
      "c:\\users\\webse\\appdata\\local\\programs\\python\\python36\\lib\\site-packages\\h5py\\__init__.py:36: FutureWarning: Conversion of the second argument of issubdtype from `float` to `np.floating` is deprecated. In future, it will be treated as `np.float64 == np.dtype(float).type`.\n",
      "  from ._conv import register_converters as _register_converters\n",
      "Using TensorFlow backend.\n"
     ]
    }
   ],
   "source": [
    "from keras.utils import to_categorical\n",
    "import numpy as np\n",
    "import pandas as pd\n",
    "from sklearn.model_selection import train_test_split"
   ]
  },
  {
   "cell_type": "code",
   "execution_count": 2,
   "metadata": {},
   "outputs": [],
   "source": [
    "data_train = pd.read_csv('d:/data/kaggle/fashionmnist/fashion-mnist_train.csv')\n",
    "data_test = pd.read_csv('d:/data/kaggle/fashionmnist/fashion-mnist_test.csv')\n",
    "img_rows, img_cols = 28, 28\n",
    "input_shape = (img_rows, img_cols, 1)"
   ]
  },
  {
   "cell_type": "code",
   "execution_count": 3,
   "metadata": {},
   "outputs": [
    {
     "data": {
      "text/html": [
       "<div>\n",
       "<style scoped>\n",
       "    .dataframe tbody tr th:only-of-type {\n",
       "        vertical-align: middle;\n",
       "    }\n",
       "\n",
       "    .dataframe tbody tr th {\n",
       "        vertical-align: top;\n",
       "    }\n",
       "\n",
       "    .dataframe thead th {\n",
       "        text-align: right;\n",
       "    }\n",
       "</style>\n",
       "<table border=\"1\" class=\"dataframe\">\n",
       "  <thead>\n",
       "    <tr style=\"text-align: right;\">\n",
       "      <th></th>\n",
       "      <th>label</th>\n",
       "      <th>pixel1</th>\n",
       "      <th>pixel2</th>\n",
       "      <th>pixel3</th>\n",
       "      <th>pixel4</th>\n",
       "      <th>pixel5</th>\n",
       "      <th>pixel6</th>\n",
       "      <th>pixel7</th>\n",
       "      <th>pixel8</th>\n",
       "      <th>pixel9</th>\n",
       "      <th>...</th>\n",
       "      <th>pixel775</th>\n",
       "      <th>pixel776</th>\n",
       "      <th>pixel777</th>\n",
       "      <th>pixel778</th>\n",
       "      <th>pixel779</th>\n",
       "      <th>pixel780</th>\n",
       "      <th>pixel781</th>\n",
       "      <th>pixel782</th>\n",
       "      <th>pixel783</th>\n",
       "      <th>pixel784</th>\n",
       "    </tr>\n",
       "  </thead>\n",
       "  <tbody>\n",
       "    <tr>\n",
       "      <th>0</th>\n",
       "      <td>2</td>\n",
       "      <td>0</td>\n",
       "      <td>0</td>\n",
       "      <td>0</td>\n",
       "      <td>0</td>\n",
       "      <td>0</td>\n",
       "      <td>0</td>\n",
       "      <td>0</td>\n",
       "      <td>0</td>\n",
       "      <td>0</td>\n",
       "      <td>...</td>\n",
       "      <td>0</td>\n",
       "      <td>0</td>\n",
       "      <td>0</td>\n",
       "      <td>0</td>\n",
       "      <td>0</td>\n",
       "      <td>0</td>\n",
       "      <td>0</td>\n",
       "      <td>0</td>\n",
       "      <td>0</td>\n",
       "      <td>0</td>\n",
       "    </tr>\n",
       "    <tr>\n",
       "      <th>1</th>\n",
       "      <td>9</td>\n",
       "      <td>0</td>\n",
       "      <td>0</td>\n",
       "      <td>0</td>\n",
       "      <td>0</td>\n",
       "      <td>0</td>\n",
       "      <td>0</td>\n",
       "      <td>0</td>\n",
       "      <td>0</td>\n",
       "      <td>0</td>\n",
       "      <td>...</td>\n",
       "      <td>0</td>\n",
       "      <td>0</td>\n",
       "      <td>0</td>\n",
       "      <td>0</td>\n",
       "      <td>0</td>\n",
       "      <td>0</td>\n",
       "      <td>0</td>\n",
       "      <td>0</td>\n",
       "      <td>0</td>\n",
       "      <td>0</td>\n",
       "    </tr>\n",
       "    <tr>\n",
       "      <th>2</th>\n",
       "      <td>6</td>\n",
       "      <td>0</td>\n",
       "      <td>0</td>\n",
       "      <td>0</td>\n",
       "      <td>0</td>\n",
       "      <td>0</td>\n",
       "      <td>0</td>\n",
       "      <td>0</td>\n",
       "      <td>5</td>\n",
       "      <td>0</td>\n",
       "      <td>...</td>\n",
       "      <td>0</td>\n",
       "      <td>0</td>\n",
       "      <td>0</td>\n",
       "      <td>30</td>\n",
       "      <td>43</td>\n",
       "      <td>0</td>\n",
       "      <td>0</td>\n",
       "      <td>0</td>\n",
       "      <td>0</td>\n",
       "      <td>0</td>\n",
       "    </tr>\n",
       "    <tr>\n",
       "      <th>3</th>\n",
       "      <td>0</td>\n",
       "      <td>0</td>\n",
       "      <td>0</td>\n",
       "      <td>0</td>\n",
       "      <td>1</td>\n",
       "      <td>2</td>\n",
       "      <td>0</td>\n",
       "      <td>0</td>\n",
       "      <td>0</td>\n",
       "      <td>0</td>\n",
       "      <td>...</td>\n",
       "      <td>3</td>\n",
       "      <td>0</td>\n",
       "      <td>0</td>\n",
       "      <td>0</td>\n",
       "      <td>0</td>\n",
       "      <td>1</td>\n",
       "      <td>0</td>\n",
       "      <td>0</td>\n",
       "      <td>0</td>\n",
       "      <td>0</td>\n",
       "    </tr>\n",
       "    <tr>\n",
       "      <th>4</th>\n",
       "      <td>3</td>\n",
       "      <td>0</td>\n",
       "      <td>0</td>\n",
       "      <td>0</td>\n",
       "      <td>0</td>\n",
       "      <td>0</td>\n",
       "      <td>0</td>\n",
       "      <td>0</td>\n",
       "      <td>0</td>\n",
       "      <td>0</td>\n",
       "      <td>...</td>\n",
       "      <td>0</td>\n",
       "      <td>0</td>\n",
       "      <td>0</td>\n",
       "      <td>0</td>\n",
       "      <td>0</td>\n",
       "      <td>0</td>\n",
       "      <td>0</td>\n",
       "      <td>0</td>\n",
       "      <td>0</td>\n",
       "      <td>0</td>\n",
       "    </tr>\n",
       "  </tbody>\n",
       "</table>\n",
       "<p>5 rows × 785 columns</p>\n",
       "</div>"
      ],
      "text/plain": [
       "   label  pixel1  pixel2  pixel3  pixel4  pixel5  pixel6  pixel7  pixel8  \\\n",
       "0      2       0       0       0       0       0       0       0       0   \n",
       "1      9       0       0       0       0       0       0       0       0   \n",
       "2      6       0       0       0       0       0       0       0       5   \n",
       "3      0       0       0       0       1       2       0       0       0   \n",
       "4      3       0       0       0       0       0       0       0       0   \n",
       "\n",
       "   pixel9    ...     pixel775  pixel776  pixel777  pixel778  pixel779  \\\n",
       "0       0    ...            0         0         0         0         0   \n",
       "1       0    ...            0         0         0         0         0   \n",
       "2       0    ...            0         0         0        30        43   \n",
       "3       0    ...            3         0         0         0         0   \n",
       "4       0    ...            0         0         0         0         0   \n",
       "\n",
       "   pixel780  pixel781  pixel782  pixel783  pixel784  \n",
       "0         0         0         0         0         0  \n",
       "1         0         0         0         0         0  \n",
       "2         0         0         0         0         0  \n",
       "3         1         0         0         0         0  \n",
       "4         0         0         0         0         0  \n",
       "\n",
       "[5 rows x 785 columns]"
      ]
     },
     "execution_count": 3,
     "metadata": {},
     "output_type": "execute_result"
    }
   ],
   "source": [
    "size_of_image = (img_rows, img_cols)\n",
    "data_train.head()"
   ]
  },
  {
   "cell_type": "code",
   "execution_count": 4,
   "metadata": {},
   "outputs": [
    {
     "data": {
      "text/html": [
       "<div>\n",
       "<style scoped>\n",
       "    .dataframe tbody tr th:only-of-type {\n",
       "        vertical-align: middle;\n",
       "    }\n",
       "\n",
       "    .dataframe tbody tr th {\n",
       "        vertical-align: top;\n",
       "    }\n",
       "\n",
       "    .dataframe thead th {\n",
       "        text-align: right;\n",
       "    }\n",
       "</style>\n",
       "<table border=\"1\" class=\"dataframe\">\n",
       "  <thead>\n",
       "    <tr style=\"text-align: right;\">\n",
       "      <th></th>\n",
       "      <th>pixel1</th>\n",
       "      <th>pixel2</th>\n",
       "      <th>pixel3</th>\n",
       "      <th>pixel4</th>\n",
       "      <th>pixel5</th>\n",
       "      <th>pixel6</th>\n",
       "      <th>pixel7</th>\n",
       "      <th>pixel8</th>\n",
       "      <th>pixel9</th>\n",
       "      <th>pixel10</th>\n",
       "      <th>...</th>\n",
       "      <th>pixel775</th>\n",
       "      <th>pixel776</th>\n",
       "      <th>pixel777</th>\n",
       "      <th>pixel778</th>\n",
       "      <th>pixel779</th>\n",
       "      <th>pixel780</th>\n",
       "      <th>pixel781</th>\n",
       "      <th>pixel782</th>\n",
       "      <th>pixel783</th>\n",
       "      <th>pixel784</th>\n",
       "    </tr>\n",
       "  </thead>\n",
       "  <tbody>\n",
       "    <tr>\n",
       "      <th>0</th>\n",
       "      <td>0</td>\n",
       "      <td>0</td>\n",
       "      <td>0</td>\n",
       "      <td>0</td>\n",
       "      <td>0</td>\n",
       "      <td>0</td>\n",
       "      <td>0</td>\n",
       "      <td>0</td>\n",
       "      <td>0</td>\n",
       "      <td>0</td>\n",
       "      <td>...</td>\n",
       "      <td>0</td>\n",
       "      <td>0</td>\n",
       "      <td>0</td>\n",
       "      <td>0</td>\n",
       "      <td>0</td>\n",
       "      <td>0</td>\n",
       "      <td>0</td>\n",
       "      <td>0</td>\n",
       "      <td>0</td>\n",
       "      <td>0</td>\n",
       "    </tr>\n",
       "    <tr>\n",
       "      <th>1</th>\n",
       "      <td>0</td>\n",
       "      <td>0</td>\n",
       "      <td>0</td>\n",
       "      <td>0</td>\n",
       "      <td>0</td>\n",
       "      <td>0</td>\n",
       "      <td>0</td>\n",
       "      <td>0</td>\n",
       "      <td>0</td>\n",
       "      <td>0</td>\n",
       "      <td>...</td>\n",
       "      <td>0</td>\n",
       "      <td>0</td>\n",
       "      <td>0</td>\n",
       "      <td>0</td>\n",
       "      <td>0</td>\n",
       "      <td>0</td>\n",
       "      <td>0</td>\n",
       "      <td>0</td>\n",
       "      <td>0</td>\n",
       "      <td>0</td>\n",
       "    </tr>\n",
       "    <tr>\n",
       "      <th>2</th>\n",
       "      <td>0</td>\n",
       "      <td>0</td>\n",
       "      <td>0</td>\n",
       "      <td>0</td>\n",
       "      <td>0</td>\n",
       "      <td>0</td>\n",
       "      <td>0</td>\n",
       "      <td>5</td>\n",
       "      <td>0</td>\n",
       "      <td>0</td>\n",
       "      <td>...</td>\n",
       "      <td>0</td>\n",
       "      <td>0</td>\n",
       "      <td>0</td>\n",
       "      <td>30</td>\n",
       "      <td>43</td>\n",
       "      <td>0</td>\n",
       "      <td>0</td>\n",
       "      <td>0</td>\n",
       "      <td>0</td>\n",
       "      <td>0</td>\n",
       "    </tr>\n",
       "    <tr>\n",
       "      <th>3</th>\n",
       "      <td>0</td>\n",
       "      <td>0</td>\n",
       "      <td>0</td>\n",
       "      <td>1</td>\n",
       "      <td>2</td>\n",
       "      <td>0</td>\n",
       "      <td>0</td>\n",
       "      <td>0</td>\n",
       "      <td>0</td>\n",
       "      <td>0</td>\n",
       "      <td>...</td>\n",
       "      <td>3</td>\n",
       "      <td>0</td>\n",
       "      <td>0</td>\n",
       "      <td>0</td>\n",
       "      <td>0</td>\n",
       "      <td>1</td>\n",
       "      <td>0</td>\n",
       "      <td>0</td>\n",
       "      <td>0</td>\n",
       "      <td>0</td>\n",
       "    </tr>\n",
       "    <tr>\n",
       "      <th>4</th>\n",
       "      <td>0</td>\n",
       "      <td>0</td>\n",
       "      <td>0</td>\n",
       "      <td>0</td>\n",
       "      <td>0</td>\n",
       "      <td>0</td>\n",
       "      <td>0</td>\n",
       "      <td>0</td>\n",
       "      <td>0</td>\n",
       "      <td>0</td>\n",
       "      <td>...</td>\n",
       "      <td>0</td>\n",
       "      <td>0</td>\n",
       "      <td>0</td>\n",
       "      <td>0</td>\n",
       "      <td>0</td>\n",
       "      <td>0</td>\n",
       "      <td>0</td>\n",
       "      <td>0</td>\n",
       "      <td>0</td>\n",
       "      <td>0</td>\n",
       "    </tr>\n",
       "  </tbody>\n",
       "</table>\n",
       "<p>5 rows × 784 columns</p>\n",
       "</div>"
      ],
      "text/plain": [
       "   pixel1  pixel2  pixel3  pixel4  pixel5  pixel6  pixel7  pixel8  pixel9  \\\n",
       "0       0       0       0       0       0       0       0       0       0   \n",
       "1       0       0       0       0       0       0       0       0       0   \n",
       "2       0       0       0       0       0       0       0       5       0   \n",
       "3       0       0       0       1       2       0       0       0       0   \n",
       "4       0       0       0       0       0       0       0       0       0   \n",
       "\n",
       "   pixel10    ...     pixel775  pixel776  pixel777  pixel778  pixel779  \\\n",
       "0        0    ...            0         0         0         0         0   \n",
       "1        0    ...            0         0         0         0         0   \n",
       "2        0    ...            0         0         0        30        43   \n",
       "3        0    ...            3         0         0         0         0   \n",
       "4        0    ...            0         0         0         0         0   \n",
       "\n",
       "   pixel780  pixel781  pixel782  pixel783  pixel784  \n",
       "0         0         0         0         0         0  \n",
       "1         0         0         0         0         0  \n",
       "2         0         0         0         0         0  \n",
       "3         1         0         0         0         0  \n",
       "4         0         0         0         0         0  \n",
       "\n",
       "[5 rows x 784 columns]"
      ]
     },
     "execution_count": 4,
     "metadata": {},
     "output_type": "execute_result"
    }
   ],
   "source": [
    "data_train.iloc[:,1:].head()"
   ]
  },
  {
   "cell_type": "code",
   "execution_count": 5,
   "metadata": {},
   "outputs": [
    {
     "data": {
      "text/plain": [
       "(784,)"
      ]
     },
     "execution_count": 5,
     "metadata": {},
     "output_type": "execute_result"
    }
   ],
   "source": [
    "X = np.array(data_train.iloc[:, 1:])\n",
    "X[0].shape"
   ]
  },
  {
   "cell_type": "code",
   "execution_count": 7,
   "metadata": {},
   "outputs": [
    {
     "data": {
      "image/png": "[encoded data removed]",
      "text/plain": [
       "<matplotlib.figure.Figure at 0x25307a2b128>"
      ]
     },
     "metadata": {},
     "output_type": "display_data"
    }
   ],
   "source": [
    "from matplotlib import pyplot\n",
    "pyplot.subplot(330 + 1+ 1)\n",
    "pyplot.imshow(X[0].reshape(28,28),  cmap=pyplot.get_cmap('gray'))\n",
    "pyplot.show()"
   ]
  },
  {
   "cell_type": "code",
   "execution_count": 6,
   "metadata": {},
   "outputs": [
    {
     "data": {
      "text/plain": [
       "array([[0., 0., 1., ..., 0., 0., 0.],\n",
       "       [0., 0., 0., ..., 0., 0., 1.],\n",
       "       [0., 0., 0., ..., 0., 0., 0.],\n",
       "       ...,\n",
       "       [0., 0., 0., ..., 0., 1., 0.],\n",
       "       [0., 0., 0., ..., 0., 1., 0.],\n",
       "       [0., 0., 0., ..., 1., 0., 0.]])"
      ]
     },
     "execution_count": 6,
     "metadata": {},
     "output_type": "execute_result"
    }
   ],
   "source": [
    "y = to_categorical(np.array(data_train.iloc[:, 0]))\n",
    "y"
   ]
  },
  {
   "cell_type": "code",
   "execution_count": 7,
   "metadata": {},
   "outputs": [],
   "source": [
    "X_train, X_val, y_train, y_val = train_test_split(X, y, test_size=0.2, random_state=13)"
   ]
  },
  {
   "cell_type": "code",
   "execution_count": 8,
   "metadata": {},
   "outputs": [],
   "source": [
    "X_test = np.array(data_test.iloc[:, 1:])\n",
    "y_test = to_categorical(np.array(data_test.iloc[:, 0]))"
   ]
  },
  {
   "cell_type": "code",
   "execution_count": 9,
   "metadata": {},
   "outputs": [
    {
     "name": "stdout",
     "output_type": "stream",
     "text": [
      "(48000, 28, 28, 1)\n"
     ]
    }
   ],
   "source": [
    "X_train = X_train.reshape(X_train.shape[0], img_rows, img_cols, 1)\n",
    "print(X_train.shape)\n",
    "X_test = X_test.reshape(X_test.shape[0], img_rows, img_cols, 1)\n",
    "X_val = X_val.reshape(X_val.shape[0], img_rows, img_cols, 1)\n",
    "# convert from int to float\n",
    "X_train = X_train.astype('float32')\n",
    "X_val = X_val.astype('float32')\n",
    "X_test = X_test.astype('float32')"
   ]
  },
  {
   "cell_type": "code",
   "execution_count": 10,
   "metadata": {},
   "outputs": [],
   "source": [
    "X_train /= 255\n",
    "X_test /= 255\n",
    "X_val /= 255"
   ]
  },
  {
   "cell_type": "code",
   "execution_count": 11,
   "metadata": {
    "colab": {
     "autoexec": {
      "startup": false,
      "wait_interval": 0
     },
     "base_uri": "https://localhost:8080/",
     "height": 50
    },
    "colab_type": "code",
    "executionInfo": {
     "elapsed": 1789,
     "status": "ok",
     "timestamp": 1527006376980,
     "user": {
      "displayName": "Sergiy Doroshenko",
      "photoUrl": "//lh5.googleusercontent.com/-ZHU_BWQI6Dk/AAAAAAAAAAI/AAAAAAAACRQ/Greo3A_fYWk/s50-c-k-no/photo.jpg",
      "userId": "103686202862696076454"
     },
     "user_tz": -180
    },
    "id": "qk7Pk934wmUv",
    "outputId": "ae3adadd-56cf-4dfe-d897-c2cbce74b11a"
   },
   "outputs": [],
   "source": [
    "import keras\n",
    "from keras.models import Sequential\n",
    "from keras.layers import Dense, Dropout, Flatten\n",
    "from keras.layers import Conv2D, MaxPooling2D\n",
    "from keras.layers.normalization import BatchNormalization\n",
    "\n",
    "batch_size = 256\n",
    "num_classes = 10\n",
    "epochs = 50\n",
    "\n",
    "#input image dimensions\n",
    "img_rows, img_cols = 28, 28\n",
    "\n",
    "model = Sequential()\n",
    "model.add(Conv2D(32, kernel_size=(3, 3),\n",
    "                 activation='relu',\n",
    "                 kernel_initializer='he_normal',\n",
    "                 input_shape=input_shape))\n",
    "model.add(MaxPooling2D((2, 2)))\n",
    "model.add(Dropout(0.25))\n",
    "model.add(Conv2D(64, (3, 3), activation='relu'))\n",
    "model.add(MaxPooling2D(pool_size=(2, 2)))\n",
    "model.add(Dropout(0.25))\n",
    "model.add(Conv2D(128, (3, 3), activation='relu'))\n",
    "model.add(Dropout(0.4))\n",
    "model.add(Flatten())\n",
    "model.add(Dense(128, activation='relu'))\n",
    "model.add(Dropout(0.3))\n",
    "model.add(Dense(num_classes, activation='softmax'))\n",
    "\n",
    "model.compile(loss=keras.losses.categorical_crossentropy,\n",
    "              optimizer=keras.optimizers.Adam(),\n",
    "              metrics=['accuracy'])"
   ]
  },
  {
   "cell_type": "code",
   "execution_count": 12,
   "metadata": {
    "colab": {
     "autoexec": {
      "startup": false,
      "wait_interval": 0
     },
     "base_uri": "https://localhost:8080/",
     "height": 739
    },
    "colab_type": "code",
    "executionInfo": {
     "elapsed": 762,
     "status": "ok",
     "timestamp": 1527006392895,
     "user": {
      "displayName": "Sergiy Doroshenko",
      "photoUrl": "//lh5.googleusercontent.com/-ZHU_BWQI6Dk/AAAAAAAAAAI/AAAAAAAACRQ/Greo3A_fYWk/s50-c-k-no/photo.jpg",
      "userId": "103686202862696076454"
     },
     "user_tz": -180
    },
    "id": "TjBQpj1-wmUz",
    "outputId": "789ba8a6-1610-4f81-c4ab-ae98986eef79"
   },
   "outputs": [
    {
     "name": "stdout",
     "output_type": "stream",
     "text": [
      "_________________________________________________________________\n",
      "Layer (type)                 Output Shape              Param #   \n",
      "=================================================================\n",
      "conv2d_1 (Conv2D)            (None, 26, 26, 32)        320       \n",
      "_________________________________________________________________\n",
      "max_pooling2d_1 (MaxPooling2 (None, 13, 13, 32)        0         \n",
      "_________________________________________________________________\n",
      "dropout_1 (Dropout)          (None, 13, 13, 32)        0         \n",
      "_________________________________________________________________\n",
      "conv2d_2 (Conv2D)            (None, 11, 11, 64)        18496     \n",
      "_________________________________________________________________\n",
      "max_pooling2d_2 (MaxPooling2 (None, 5, 5, 64)          0         \n",
      "_________________________________________________________________\n",
      "dropout_2 (Dropout)          (None, 5, 5, 64)          0         \n",
      "_________________________________________________________________\n",
      "conv2d_3 (Conv2D)            (None, 3, 3, 128)         73856     \n",
      "_________________________________________________________________\n",
      "dropout_3 (Dropout)          (None, 3, 3, 128)         0         \n",
      "_________________________________________________________________\n",
      "flatten_1 (Flatten)          (None, 1152)              0         \n",
      "_________________________________________________________________\n",
      "dense_1 (Dense)              (None, 128)               147584    \n",
      "_________________________________________________________________\n",
      "dropout_4 (Dropout)          (None, 128)               0         \n",
      "_________________________________________________________________\n",
      "dense_2 (Dense)              (None, 10)                1290      \n",
      "=================================================================\n",
      "Total params: 241,546\n",
      "Trainable params: 241,546\n",
      "Non-trainable params: 0\n",
      "_________________________________________________________________\n"
     ]
    }
   ],
   "source": [
    "model.summary()"
   ]
  },
  {
   "cell_type": "code",
   "execution_count": 13,
   "metadata": {
    "colab": {
     "autoexec": {
      "startup": false,
      "wait_interval": 0
     }
    },
    "colab_type": "code",
    "id": "NXcd6YDlwmU2"
   },
   "outputs": [
    {
     "name": "stdout",
     "output_type": "stream",
     "text": [
      "Train on 48000 samples, validate on 12000 samples\n",
      "Epoch 1/50\n",
      "48000/48000 [==============================] - 58s 1ms/step - loss: 0.8611 - acc: 0.6795 - val_loss: 0.5426 - val_acc: 0.7977\n",
      "Epoch 2/50\n",
      "48000/48000 [==============================] - 58s 1ms/step - loss: 0.5304 - acc: 0.8042 - val_loss: 0.4222 - val_acc: 0.8453\n",
      "Epoch 3/50\n",
      "25088/48000 [==============>...............] - ETA: 25s - loss: 0.4640 - acc: 0.8276"
     ]
    },
    {
     "ename": "KeyboardInterrupt",
     "evalue": "",
     "output_type": "error",
     "traceback": [
      "\u001b[1;31m---------------------------------------------------------------------------\u001b[0m",
      "\u001b[1;31mKeyboardInterrupt\u001b[0m                         Traceback (most recent call last)",
      "\u001b[1;32m<ipython-input-13-2ffa221f924d>\u001b[0m in \u001b[0;36m<module>\u001b[1;34m()\u001b[0m\n\u001b[0;32m      3\u001b[0m           \u001b[0mepochs\u001b[0m\u001b[1;33m=\u001b[0m\u001b[0mepochs\u001b[0m\u001b[1;33m,\u001b[0m\u001b[1;33m\u001b[0m\u001b[0m\n\u001b[0;32m      4\u001b[0m           \u001b[0mverbose\u001b[0m\u001b[1;33m=\u001b[0m\u001b[1;36m1\u001b[0m\u001b[1;33m,\u001b[0m\u001b[1;33m\u001b[0m\u001b[0m\n\u001b[1;32m----> 5\u001b[1;33m           validation_data=(X_val, y_val))\n\u001b[0m\u001b[0;32m      6\u001b[0m \u001b[0mscore\u001b[0m \u001b[1;33m=\u001b[0m \u001b[0mmodel\u001b[0m\u001b[1;33m.\u001b[0m\u001b[0mevaluate\u001b[0m\u001b[1;33m(\u001b[0m\u001b[0mX_test\u001b[0m\u001b[1;33m,\u001b[0m \u001b[0my_test\u001b[0m\u001b[1;33m,\u001b[0m \u001b[0mverbose\u001b[0m\u001b[1;33m=\u001b[0m\u001b[1;36m0\u001b[0m\u001b[1;33m)\u001b[0m\u001b[1;33m\u001b[0m\u001b[0m\n\u001b[0;32m      7\u001b[0m \u001b[0mmodel\u001b[0m\u001b[1;33m.\u001b[0m\u001b[0msave\u001b[0m\u001b[1;33m(\u001b[0m\u001b[1;34m'./fashion_2.h5'\u001b[0m\u001b[1;33m)\u001b[0m\u001b[1;33m\u001b[0m\u001b[0m\n",
      "\u001b[1;32mc:\\users\\webse\\appdata\\local\\programs\\python\\python36\\lib\\site-packages\\keras\\models.py\u001b[0m in \u001b[0;36mfit\u001b[1;34m(self, x, y, batch_size, epochs, verbose, callbacks, validation_split, validation_data, shuffle, class_weight, sample_weight, initial_epoch, steps_per_epoch, validation_steps, **kwargs)\u001b[0m\n\u001b[0;32m    963\u001b[0m                               \u001b[0minitial_epoch\u001b[0m\u001b[1;33m=\u001b[0m\u001b[0minitial_epoch\u001b[0m\u001b[1;33m,\u001b[0m\u001b[1;33m\u001b[0m\u001b[0m\n\u001b[0;32m    964\u001b[0m                               \u001b[0msteps_per_epoch\u001b[0m\u001b[1;33m=\u001b[0m\u001b[0msteps_per_epoch\u001b[0m\u001b[1;33m,\u001b[0m\u001b[1;33m\u001b[0m\u001b[0m\n\u001b[1;32m--> 965\u001b[1;33m                               validation_steps=validation_steps)\n\u001b[0m\u001b[0;32m    966\u001b[0m \u001b[1;33m\u001b[0m\u001b[0m\n\u001b[0;32m    967\u001b[0m     def evaluate(self, x=None, y=None,\n",
      "\u001b[1;32mc:\\users\\webse\\appdata\\local\\programs\\python\\python36\\lib\\site-packages\\keras\\engine\\training.py\u001b[0m in \u001b[0;36mfit\u001b[1;34m(self, x, y, batch_size, epochs, verbose, callbacks, validation_split, validation_data, shuffle, class_weight, sample_weight, initial_epoch, steps_per_epoch, validation_steps, **kwargs)\u001b[0m\n\u001b[0;32m   1667\u001b[0m                               \u001b[0minitial_epoch\u001b[0m\u001b[1;33m=\u001b[0m\u001b[0minitial_epoch\u001b[0m\u001b[1;33m,\u001b[0m\u001b[1;33m\u001b[0m\u001b[0m\n\u001b[0;32m   1668\u001b[0m                               \u001b[0msteps_per_epoch\u001b[0m\u001b[1;33m=\u001b[0m\u001b[0msteps_per_epoch\u001b[0m\u001b[1;33m,\u001b[0m\u001b[1;33m\u001b[0m\u001b[0m\n\u001b[1;32m-> 1669\u001b[1;33m                               validation_steps=validation_steps)\n\u001b[0m\u001b[0;32m   1670\u001b[0m \u001b[1;33m\u001b[0m\u001b[0m\n\u001b[0;32m   1671\u001b[0m     def evaluate(self, x=None, y=None,\n",
      "\u001b[1;32mc:\\users\\webse\\appdata\\local\\programs\\python\\python36\\lib\\site-packages\\keras\\engine\\training.py\u001b[0m in \u001b[0;36m_fit_loop\u001b[1;34m(self, f, ins, out_labels, batch_size, epochs, verbose, callbacks, val_f, val_ins, shuffle, callback_metrics, initial_epoch, steps_per_epoch, validation_steps)\u001b[0m\n\u001b[0;32m   1204\u001b[0m                         \u001b[0mins_batch\u001b[0m\u001b[1;33m[\u001b[0m\u001b[0mi\u001b[0m\u001b[1;33m]\u001b[0m \u001b[1;33m=\u001b[0m \u001b[0mins_batch\u001b[0m\u001b[1;33m[\u001b[0m\u001b[0mi\u001b[0m\u001b[1;33m]\u001b[0m\u001b[1;33m.\u001b[0m\u001b[0mtoarray\u001b[0m\u001b[1;33m(\u001b[0m\u001b[1;33m)\u001b[0m\u001b[1;33m\u001b[0m\u001b[0m\n\u001b[0;32m   1205\u001b[0m \u001b[1;33m\u001b[0m\u001b[0m\n\u001b[1;32m-> 1206\u001b[1;33m                     \u001b[0mouts\u001b[0m \u001b[1;33m=\u001b[0m \u001b[0mf\u001b[0m\u001b[1;33m(\u001b[0m\u001b[0mins_batch\u001b[0m\u001b[1;33m)\u001b[0m\u001b[1;33m\u001b[0m\u001b[0m\n\u001b[0m\u001b[0;32m   1207\u001b[0m                     \u001b[1;32mif\u001b[0m \u001b[1;32mnot\u001b[0m \u001b[0misinstance\u001b[0m\u001b[1;33m(\u001b[0m\u001b[0mouts\u001b[0m\u001b[1;33m,\u001b[0m \u001b[0mlist\u001b[0m\u001b[1;33m)\u001b[0m\u001b[1;33m:\u001b[0m\u001b[1;33m\u001b[0m\u001b[0m\n\u001b[0;32m   1208\u001b[0m                         \u001b[0mouts\u001b[0m \u001b[1;33m=\u001b[0m \u001b[1;33m[\u001b[0m\u001b[0mouts\u001b[0m\u001b[1;33m]\u001b[0m\u001b[1;33m\u001b[0m\u001b[0m\n",
      "\u001b[1;32mc:\\users\\webse\\appdata\\local\\programs\\python\\python36\\lib\\site-packages\\keras\\backend\\tensorflow_backend.py\u001b[0m in \u001b[0;36m__call__\u001b[1;34m(self, inputs)\u001b[0m\n\u001b[0;32m   2473\u001b[0m         \u001b[0msession\u001b[0m \u001b[1;33m=\u001b[0m \u001b[0mget_session\u001b[0m\u001b[1;33m(\u001b[0m\u001b[1;33m)\u001b[0m\u001b[1;33m\u001b[0m\u001b[0m\n\u001b[0;32m   2474\u001b[0m         updated = session.run(fetches=fetches, feed_dict=feed_dict,\n\u001b[1;32m-> 2475\u001b[1;33m                               **self.session_kwargs)\n\u001b[0m\u001b[0;32m   2476\u001b[0m         \u001b[1;32mreturn\u001b[0m \u001b[0mupdated\u001b[0m\u001b[1;33m[\u001b[0m\u001b[1;33m:\u001b[0m\u001b[0mlen\u001b[0m\u001b[1;33m(\u001b[0m\u001b[0mself\u001b[0m\u001b[1;33m.\u001b[0m\u001b[0moutputs\u001b[0m\u001b[1;33m)\u001b[0m\u001b[1;33m]\u001b[0m\u001b[1;33m\u001b[0m\u001b[0m\n\u001b[0;32m   2477\u001b[0m \u001b[1;33m\u001b[0m\u001b[0m\n",
      "\u001b[1;32mc:\\users\\webse\\appdata\\local\\programs\\python\\python36\\lib\\site-packages\\tensorflow\\python\\client\\session.py\u001b[0m in \u001b[0;36mrun\u001b[1;34m(self, fetches, feed_dict, options, run_metadata)\u001b[0m\n\u001b[0;32m    893\u001b[0m     \u001b[1;32mtry\u001b[0m\u001b[1;33m:\u001b[0m\u001b[1;33m\u001b[0m\u001b[0m\n\u001b[0;32m    894\u001b[0m       result = self._run(None, fetches, feed_dict, options_ptr,\n\u001b[1;32m--> 895\u001b[1;33m                          run_metadata_ptr)\n\u001b[0m\u001b[0;32m    896\u001b[0m       \u001b[1;32mif\u001b[0m \u001b[0mrun_metadata\u001b[0m\u001b[1;33m:\u001b[0m\u001b[1;33m\u001b[0m\u001b[0m\n\u001b[0;32m    897\u001b[0m         \u001b[0mproto_data\u001b[0m \u001b[1;33m=\u001b[0m \u001b[0mtf_session\u001b[0m\u001b[1;33m.\u001b[0m\u001b[0mTF_GetBuffer\u001b[0m\u001b[1;33m(\u001b[0m\u001b[0mrun_metadata_ptr\u001b[0m\u001b[1;33m)\u001b[0m\u001b[1;33m\u001b[0m\u001b[0m\n",
      "\u001b[1;32mc:\\users\\webse\\appdata\\local\\programs\\python\\python36\\lib\\site-packages\\tensorflow\\python\\client\\session.py\u001b[0m in \u001b[0;36m_run\u001b[1;34m(self, handle, fetches, feed_dict, options, run_metadata)\u001b[0m\n\u001b[0;32m   1126\u001b[0m     \u001b[1;32mif\u001b[0m \u001b[0mfinal_fetches\u001b[0m \u001b[1;32mor\u001b[0m \u001b[0mfinal_targets\u001b[0m \u001b[1;32mor\u001b[0m \u001b[1;33m(\u001b[0m\u001b[0mhandle\u001b[0m \u001b[1;32mand\u001b[0m \u001b[0mfeed_dict_tensor\u001b[0m\u001b[1;33m)\u001b[0m\u001b[1;33m:\u001b[0m\u001b[1;33m\u001b[0m\u001b[0m\n\u001b[0;32m   1127\u001b[0m       results = self._do_run(handle, final_targets, final_fetches,\n\u001b[1;32m-> 1128\u001b[1;33m                              feed_dict_tensor, options, run_metadata)\n\u001b[0m\u001b[0;32m   1129\u001b[0m     \u001b[1;32melse\u001b[0m\u001b[1;33m:\u001b[0m\u001b[1;33m\u001b[0m\u001b[0m\n\u001b[0;32m   1130\u001b[0m       \u001b[0mresults\u001b[0m \u001b[1;33m=\u001b[0m \u001b[1;33m[\u001b[0m\u001b[1;33m]\u001b[0m\u001b[1;33m\u001b[0m\u001b[0m\n",
      "\u001b[1;32mc:\\users\\webse\\appdata\\local\\programs\\python\\python36\\lib\\site-packages\\tensorflow\\python\\client\\session.py\u001b[0m in \u001b[0;36m_do_run\u001b[1;34m(self, handle, target_list, fetch_list, feed_dict, options, run_metadata)\u001b[0m\n\u001b[0;32m   1342\u001b[0m     \u001b[1;32mif\u001b[0m \u001b[0mhandle\u001b[0m \u001b[1;32mis\u001b[0m \u001b[1;32mNone\u001b[0m\u001b[1;33m:\u001b[0m\u001b[1;33m\u001b[0m\u001b[0m\n\u001b[0;32m   1343\u001b[0m       return self._do_call(_run_fn, self._session, feeds, fetches, targets,\n\u001b[1;32m-> 1344\u001b[1;33m                            options, run_metadata)\n\u001b[0m\u001b[0;32m   1345\u001b[0m     \u001b[1;32melse\u001b[0m\u001b[1;33m:\u001b[0m\u001b[1;33m\u001b[0m\u001b[0m\n\u001b[0;32m   1346\u001b[0m       \u001b[1;32mreturn\u001b[0m \u001b[0mself\u001b[0m\u001b[1;33m.\u001b[0m\u001b[0m_do_call\u001b[0m\u001b[1;33m(\u001b[0m\u001b[0m_prun_fn\u001b[0m\u001b[1;33m,\u001b[0m \u001b[0mself\u001b[0m\u001b[1;33m.\u001b[0m\u001b[0m_session\u001b[0m\u001b[1;33m,\u001b[0m \u001b[0mhandle\u001b[0m\u001b[1;33m,\u001b[0m \u001b[0mfeeds\u001b[0m\u001b[1;33m,\u001b[0m \u001b[0mfetches\u001b[0m\u001b[1;33m)\u001b[0m\u001b[1;33m\u001b[0m\u001b[0m\n",
      "\u001b[1;32mc:\\users\\webse\\appdata\\local\\programs\\python\\python36\\lib\\site-packages\\tensorflow\\python\\client\\session.py\u001b[0m in \u001b[0;36m_do_call\u001b[1;34m(self, fn, *args)\u001b[0m\n\u001b[0;32m   1348\u001b[0m   \u001b[1;32mdef\u001b[0m \u001b[0m_do_call\u001b[0m\u001b[1;33m(\u001b[0m\u001b[0mself\u001b[0m\u001b[1;33m,\u001b[0m \u001b[0mfn\u001b[0m\u001b[1;33m,\u001b[0m \u001b[1;33m*\u001b[0m\u001b[0margs\u001b[0m\u001b[1;33m)\u001b[0m\u001b[1;33m:\u001b[0m\u001b[1;33m\u001b[0m\u001b[0m\n\u001b[0;32m   1349\u001b[0m     \u001b[1;32mtry\u001b[0m\u001b[1;33m:\u001b[0m\u001b[1;33m\u001b[0m\u001b[0m\n\u001b[1;32m-> 1350\u001b[1;33m       \u001b[1;32mreturn\u001b[0m \u001b[0mfn\u001b[0m\u001b[1;33m(\u001b[0m\u001b[1;33m*\u001b[0m\u001b[0margs\u001b[0m\u001b[1;33m)\u001b[0m\u001b[1;33m\u001b[0m\u001b[0m\n\u001b[0m\u001b[0;32m   1351\u001b[0m     \u001b[1;32mexcept\u001b[0m \u001b[0merrors\u001b[0m\u001b[1;33m.\u001b[0m\u001b[0mOpError\u001b[0m \u001b[1;32mas\u001b[0m \u001b[0me\u001b[0m\u001b[1;33m:\u001b[0m\u001b[1;33m\u001b[0m\u001b[0m\n\u001b[0;32m   1352\u001b[0m       \u001b[0mmessage\u001b[0m \u001b[1;33m=\u001b[0m \u001b[0mcompat\u001b[0m\u001b[1;33m.\u001b[0m\u001b[0mas_text\u001b[0m\u001b[1;33m(\u001b[0m\u001b[0me\u001b[0m\u001b[1;33m.\u001b[0m\u001b[0mmessage\u001b[0m\u001b[1;33m)\u001b[0m\u001b[1;33m\u001b[0m\u001b[0m\n",
      "\u001b[1;32mc:\\users\\webse\\appdata\\local\\programs\\python\\python36\\lib\\site-packages\\tensorflow\\python\\client\\session.py\u001b[0m in \u001b[0;36m_run_fn\u001b[1;34m(session, feed_dict, fetch_list, target_list, options, run_metadata)\u001b[0m\n\u001b[0;32m   1327\u001b[0m           return tf_session.TF_Run(session, options,\n\u001b[0;32m   1328\u001b[0m                                    \u001b[0mfeed_dict\u001b[0m\u001b[1;33m,\u001b[0m \u001b[0mfetch_list\u001b[0m\u001b[1;33m,\u001b[0m \u001b[0mtarget_list\u001b[0m\u001b[1;33m,\u001b[0m\u001b[1;33m\u001b[0m\u001b[0m\n\u001b[1;32m-> 1329\u001b[1;33m                                    status, run_metadata)\n\u001b[0m\u001b[0;32m   1330\u001b[0m \u001b[1;33m\u001b[0m\u001b[0m\n\u001b[0;32m   1331\u001b[0m     \u001b[1;32mdef\u001b[0m \u001b[0m_prun_fn\u001b[0m\u001b[1;33m(\u001b[0m\u001b[0msession\u001b[0m\u001b[1;33m,\u001b[0m \u001b[0mhandle\u001b[0m\u001b[1;33m,\u001b[0m \u001b[0mfeed_dict\u001b[0m\u001b[1;33m,\u001b[0m \u001b[0mfetch_list\u001b[0m\u001b[1;33m)\u001b[0m\u001b[1;33m:\u001b[0m\u001b[1;33m\u001b[0m\u001b[0m\n",
      "\u001b[1;31mKeyboardInterrupt\u001b[0m: "
     ]
    }
   ],
   "source": [
    "history = model.fit(X_train, y_train,\n",
    "          batch_size=batch_size,\n",
    "          epochs=epochs,\n",
    "          verbose=1,\n",
    "          validation_data=(X_val, y_val))\n",
    "score = model.evaluate(X_test, y_test, verbose=0)\n",
    "model.save('./fashion_2.h5')"
   ]
  },
  {
   "cell_type": "code",
   "execution_count": 93,
   "metadata": {
    "colab": {
     "autoexec": {
      "startup": false,
      "wait_interval": 0
     },
     "base_uri": "https://localhost:8080/",
     "height": 709
    },
    "colab_type": "code",
    "executionInfo": {
     "elapsed": 6943066,
     "status": "ok",
     "timestamp": 1527013348552,
     "user": {
      "displayName": "Sergiy Doroshenko",
      "photoUrl": "//lh5.googleusercontent.com/-ZHU_BWQI6Dk/AAAAAAAAAAI/AAAAAAAACRQ/Greo3A_fYWk/s50-c-k-no/photo.jpg",
      "userId": "103686202862696076454"
     },
     "user_tz": -180
    },
    "id": "gIxgTWSvwmU5",
    "outputId": "2d91a5ee-5995-4891-9d20-cf84ba53c7a6"
   },
   "outputs": [
    {
     "name": "stdout",
     "output_type": "stream",
     "text": [
      "Epoch 1/30\n",
      "256/256 [==============================] - 67s 263ms/step - loss: 0.4566 - acc: 0.8356 - val_loss: 0.3933 - val_acc: 0.8578\n",
      "Epoch 2/30\n",
      "256/256 [==============================] - 64s 250ms/step - loss: 0.4220 - acc: 0.8453 - val_loss: 0.3978 - val_acc: 0.8522\n",
      "Epoch 3/30\n",
      "256/256 [==============================] - 60s 234ms/step - loss: 0.4266 - acc: 0.8462 - val_loss: 0.3969 - val_acc: 0.8552\n",
      "Epoch 4/30\n",
      "256/256 [==============================] - 59s 232ms/step - loss: 0.4346 - acc: 0.8428 - val_loss: 0.3959 - val_acc: 0.8512\n",
      "Epoch 5/30\n",
      "256/256 [==============================] - 60s 233ms/step - loss: 0.4234 - acc: 0.8434 - val_loss: 0.3695 - val_acc: 0.8614\n",
      "Epoch 6/30\n",
      "256/256 [==============================] - 59s 232ms/step - loss: 0.4071 - acc: 0.8539 - val_loss: 0.3744 - val_acc: 0.8618\n",
      "Epoch 7/30\n",
      "256/256 [==============================] - 61s 236ms/step - loss: 0.4138 - acc: 0.8517 - val_loss: 0.3687 - val_acc: 0.8647\n",
      "Epoch 8/30\n",
      "256/256 [==============================] - 61s 237ms/step - loss: 0.3921 - acc: 0.8572 - val_loss: 0.3631 - val_acc: 0.8668\n",
      "Epoch 9/30\n",
      "256/256 [==============================] - 60s 234ms/step - loss: 0.3849 - acc: 0.8635 - val_loss: 0.3587 - val_acc: 0.8692\n",
      "Epoch 10/30\n",
      "256/256 [==============================] - 60s 234ms/step - loss: 0.3956 - acc: 0.8571 - val_loss: 0.3565 - val_acc: 0.8696\n",
      "Epoch 11/30\n",
      "256/256 [==============================] - 60s 235ms/step - loss: 0.3784 - acc: 0.8623 - val_loss: 0.3429 - val_acc: 0.8737\n",
      "Epoch 12/30\n",
      "256/256 [==============================] - 60s 236ms/step - loss: 0.3771 - acc: 0.8657 - val_loss: 0.3446 - val_acc: 0.8754\n",
      "Epoch 13/30\n",
      "256/256 [==============================] - 61s 239ms/step - loss: 0.3729 - acc: 0.8668 - val_loss: 0.3393 - val_acc: 0.8729\n",
      "Epoch 14/30\n",
      "256/256 [==============================] - 61s 238ms/step - loss: 0.3659 - acc: 0.8672 - val_loss: 0.3337 - val_acc: 0.8776\n",
      "Epoch 15/30\n",
      "256/256 [==============================] - 60s 236ms/step - loss: 0.3650 - acc: 0.8689 - val_loss: 0.3377 - val_acc: 0.8777\n",
      "Epoch 16/30\n",
      "256/256 [==============================] - 61s 238ms/step - loss: 0.3533 - acc: 0.8702 - val_loss: 0.3303 - val_acc: 0.8788\n",
      "Epoch 17/30\n",
      "256/256 [==============================] - 61s 238ms/step - loss: 0.3670 - acc: 0.8649 - val_loss: 0.3217 - val_acc: 0.8797\n",
      "Epoch 18/30\n",
      "256/256 [==============================] - 61s 237ms/step - loss: 0.3369 - acc: 0.8778 - val_loss: 0.3299 - val_acc: 0.8778\n",
      "Epoch 19/30\n",
      "256/256 [==============================] - 61s 237ms/step - loss: 0.3592 - acc: 0.8685 - val_loss: 0.3259 - val_acc: 0.8781\n",
      "Epoch 20/30\n",
      "256/256 [==============================] - 61s 238ms/step - loss: 0.3395 - acc: 0.8784 - val_loss: 0.3228 - val_acc: 0.8820\n",
      "Epoch 21/30\n",
      "256/256 [==============================] - 61s 239ms/step - loss: 0.3334 - acc: 0.8810 - val_loss: 0.3230 - val_acc: 0.8781\n",
      "Epoch 22/30\n",
      "256/256 [==============================] - 61s 238ms/step - loss: 0.3454 - acc: 0.8751 - val_loss: 0.3132 - val_acc: 0.8840\n",
      "Epoch 23/30\n",
      "256/256 [==============================] - 62s 241ms/step - loss: 0.3300 - acc: 0.8811 - val_loss: 0.3111 - val_acc: 0.8868\n",
      "Epoch 24/30\n",
      "256/256 [==============================] - 62s 240ms/step - loss: 0.3334 - acc: 0.8784 - val_loss: 0.3073 - val_acc: 0.8865\n",
      "Epoch 25/30\n",
      "256/256 [==============================] - 61s 240ms/step - loss: 0.3166 - acc: 0.8838 - val_loss: 0.3157 - val_acc: 0.8839\n",
      "Epoch 26/30\n",
      "256/256 [==============================] - 62s 240ms/step - loss: 0.3249 - acc: 0.8821 - val_loss: 0.3235 - val_acc: 0.8802\n",
      "Epoch 27/30\n",
      "256/256 [==============================] - 62s 241ms/step - loss: 0.3178 - acc: 0.8867 - val_loss: 0.3088 - val_acc: 0.8862\n",
      "Epoch 28/30\n",
      "256/256 [==============================] - 62s 241ms/step - loss: 0.3234 - acc: 0.8845 - val_loss: 0.3045 - val_acc: 0.8877\n",
      "Epoch 29/30\n",
      "256/256 [==============================] - 61s 240ms/step - loss: 0.3097 - acc: 0.8890 - val_loss: 0.3159 - val_acc: 0.8836\n",
      "Epoch 30/30\n",
      "256/256 [==============================] - 62s 242ms/step - loss: 0.3051 - acc: 0.8912 - val_loss: 0.3045 - val_acc: 0.8907\n"
     ]
    }
   ],
   "source": [
    "\n"
   ]
  },
  {
   "cell_type": "code",
   "execution_count": 94,
   "metadata": {
    "colab": {
     "autoexec": {
      "startup": false,
      "wait_interval": 0
     },
     "base_uri": "https://localhost:8080/",
     "height": 706
    },
    "colab_type": "code",
    "executionInfo": {
     "elapsed": 1428,
     "status": "ok",
     "timestamp": 1527013350014,
     "user": {
      "displayName": "Sergiy Doroshenko",
      "photoUrl": "//lh5.googleusercontent.com/-ZHU_BWQI6Dk/AAAAAAAAAAI/AAAAAAAACRQ/Greo3A_fYWk/s50-c-k-no/photo.jpg",
      "userId": "103686202862696076454"
     },
     "user_tz": -180
    },
    "id": "exNUDYpMwmU-",
    "outputId": "0bf76aa5-7800-4dc9-dcdf-008060552551"
   },
   "outputs": [
    {
     "data": {
      "image/png": "[encoded data removed]",
      "text/plain": [
       "<matplotlib.figure.Figure at 0x2535a58c278>"
      ]
     },
     "metadata": {},
     "output_type": "display_data"
    },
    {
     "data": {
      "image/png": "[encoded data removed]",
      "text/plain": [
       "<matplotlib.figure.Figure at 0x25359191208>"
      ]
     },
     "metadata": {},
     "output_type": "display_data"
    }
   ],
   "source": [
    "import matplotlib.pyplot as plt\n",
    "\n",
    "acc = history.history['acc']\n",
    "val_acc = history.history['val_acc']\n",
    "loss = history.history['loss']\n",
    "val_loss = history.history['val_loss']\n",
    "\n",
    "epochs = range(len(acc))\n",
    "\n",
    "plt.plot(epochs, acc, 'bo', label='Training acc')\n",
    "plt.plot(epochs, val_acc, 'b', label='Validation acc')\n",
    "plt.title('Training and validation accuracy')\n",
    "plt.legend()\n",
    "\n",
    "plt.figure()\n",
    "\n",
    "plt.plot(epochs, loss, 'bo', label='Training loss')\n",
    "plt.plot(epochs, val_loss, 'b', label='Validation loss')\n",
    "plt.title('Training and validation loss')\n",
    "plt.legend()\n",
    "\n",
    "plt.show()"
   ]
  },
  {
   "cell_type": "code",
   "execution_count": 95,
   "metadata": {
    "colab": {
     "autoexec": {
      "startup": false,
      "wait_interval": 0
     },
     "base_uri": "https://localhost:8080/",
     "height": 34
    },
    "colab_type": "code",
    "executionInfo": {
     "elapsed": 744,
     "status": "ok",
     "timestamp": 1526676005611,
     "user": {
      "displayName": "Sergiy Doroshenko",
      "photoUrl": "//lh5.googleusercontent.com/-ZHU_BWQI6Dk/AAAAAAAAAAI/AAAAAAAACRQ/Greo3A_fYWk/s50-c-k-no/photo.jpg",
      "userId": "103686202862696076454"
     },
     "user_tz": -180
    },
    "id": "AUV0kenlwmVC",
    "outputId": "6501b941-8ae4-415a-8f6e-597e33babc35"
   },
   "outputs": [
    {
     "name": "stdout",
     "output_type": "stream",
     "text": [
      "dict_keys(['val_loss', 'val_acc', 'loss', 'acc'])\n"
     ]
    }
   ],
   "source": [
    "print(history.history.keys())"
   ]
  },
  {
   "cell_type": "code",
   "execution_count": 96,
   "metadata": {
    "colab": {
     "autoexec": {
      "startup": false,
      "wait_interval": 0
     },
     "base_uri": "https://localhost:8080/",
     "height": 50
    },
    "colab_type": "code",
    "executionInfo": {
     "elapsed": 4292,
     "status": "ok",
     "timestamp": 1527013354348,
     "user": {
      "displayName": "Sergiy Doroshenko",
      "photoUrl": "//lh5.googleusercontent.com/-ZHU_BWQI6Dk/AAAAAAAAAAI/AAAAAAAACRQ/Greo3A_fYWk/s50-c-k-no/photo.jpg",
      "userId": "103686202862696076454"
     },
     "user_tz": -180
    },
    "id": "HinDSdTmwmVF",
    "outputId": "1b2f4fbc-f3be-4aeb-81aa-12fcce9abd77"
   },
   "outputs": [],
   "source": [
    "from keras.preprocessing.image import ImageDataGenerator\n",
    "test_datagen = ImageDataGenerator(featurewise_center=True, featurewise_std_normalization=True)\n",
    "test_datagen.fit(X_test)\n",
    "test_generator = test_datagen.flow(\n",
    "X_test,\n",
    "y_test,\n",
    "batch_size=32)"
   ]
  },
  {
   "cell_type": "code",
   "execution_count": 97,
   "metadata": {},
   "outputs": [],
   "source": [
    "import numpy as np\n",
    "res = model.predict_generator(test_generator)"
   ]
  },
  {
   "cell_type": "code",
   "execution_count": 98,
   "metadata": {
    "colab": {
     "autoexec": {
      "startup": false,
      "wait_interval": 0
     }
    },
    "colab_type": "code",
    "id": "j8tNaqdswmVK"
   },
   "outputs": [
    {
     "name": "stdout",
     "output_type": "stream",
     "text": [
      "[2.2223036251730983, 0.8393]\n",
      "Test loss: 2.2223036251730983\n",
      "Test accuracy: 0.8393\n"
     ]
    }
   ],
   "source": [
    "print(score)\n",
    "print('Test loss:', score[0])\n",
    "print('Test accuracy:', score[1])"
   ]
  },
  {
   "cell_type": "code",
   "execution_count": null,
   "metadata": {
    "colab": {
     "autoexec": {
      "startup": false,
      "wait_interval": 0
     },
     "base_uri": "https://localhost:8080/",
     "height": 34
    },
    "colab_type": "code",
    "executionInfo": {
     "elapsed": 715,
     "status": "ok",
     "timestamp": 1526852038777,
     "user": {
      "displayName": "Sergiy Doroshenko",
      "photoUrl": "//lh5.googleusercontent.com/-ZHU_BWQI6Dk/AAAAAAAAAAI/AAAAAAAACRQ/Greo3A_fYWk/s50-c-k-no/photo.jpg",
      "userId": "103686202862696076454"
     },
     "user_tz": -180
    },
    "id": "AKdA5BlPwmVM",
    "outputId": "4e6feb4e-d39c-448d-ac4d-12b1f7475ec8"
   },
   "outputs": [
    {
     "data": {
      "text/plain": [
       "130400"
      ]
     },
     "execution_count": 26,
     "metadata": {
      "tags": []
     },
     "output_type": "execute_result"
    }
   ],
   "source": [
    "len(test_generator.filenames)"
   ]
  },
  {
   "cell_type": "code",
   "execution_count": null,
   "metadata": {
    "colab": {
     "autoexec": {
      "startup": false,
      "wait_interval": 0
     },
     "base_uri": "https://localhost:8080/",
     "height": 34
    },
    "colab_type": "code",
    "executionInfo": {
     "elapsed": 705,
     "status": "ok",
     "timestamp": 1526852042834,
     "user": {
      "displayName": "Sergiy Doroshenko",
      "photoUrl": "//lh5.googleusercontent.com/-ZHU_BWQI6Dk/AAAAAAAAAAI/AAAAAAAACRQ/Greo3A_fYWk/s50-c-k-no/photo.jpg",
      "userId": "103686202862696076454"
     },
     "user_tz": -180
    },
    "id": "Yj1F-b2HZJDg",
    "outputId": "b12cdf2d-21e0-4962-ca50-b4c4e61c9df6"
   },
   "outputs": [
    {
     "data": {
      "text/plain": [
       "0.0126115"
      ]
     },
     "execution_count": 27,
     "metadata": {
      "tags": []
     },
     "output_type": "execute_result"
    }
   ],
   "source": [
    "res[100][5]"
   ]
  },
  {
   "cell_type": "code",
   "execution_count": null,
   "metadata": {
    "colab": {
     "autoexec": {
      "startup": false,
      "wait_interval": 0
     },
     "base_uri": "https://localhost:8080/",
     "height": 244
    },
    "colab_type": "code",
    "executionInfo": {
     "elapsed": 529,
     "status": "ok",
     "timestamp": 1527013921892,
     "user": {
      "displayName": "Sergiy Doroshenko",
      "photoUrl": "//lh5.googleusercontent.com/-ZHU_BWQI6Dk/AAAAAAAAAAI/AAAAAAAACRQ/Greo3A_fYWk/s50-c-k-no/photo.jpg",
      "userId": "103686202862696076454"
     },
     "user_tz": -180
    },
    "id": "0RyIXc9TwmV7",
    "outputId": "67fbcf89-4948-40a5-e7c9-2aedaa391701"
   },
   "outputs": [
    {
     "data": {
      "text/html": [
       "<div>\n",
       "<style scoped>\n",
       "    .dataframe tbody tr th:only-of-type {\n",
       "        vertical-align: middle;\n",
       "    }\n",
       "\n",
       "    .dataframe tbody tr th {\n",
       "        vertical-align: top;\n",
       "    }\n",
       "\n",
       "    .dataframe thead th {\n",
       "        text-align: right;\n",
       "    }\n",
       "</style>\n",
       "<table border=\"1\" class=\"dataframe\">\n",
       "  <thead>\n",
       "    <tr style=\"text-align: right;\">\n",
       "      <th></th>\n",
       "      <th>acantharia_protist</th>\n",
       "      <th>acantharia_protist_big_center</th>\n",
       "      <th>acantharia_protist_halo</th>\n",
       "      <th>amphipods</th>\n",
       "      <th>appendicularian_fritillaridae</th>\n",
       "      <th>appendicularian_s_shape</th>\n",
       "      <th>appendicularian_slight_curve</th>\n",
       "      <th>appendicularian_straight</th>\n",
       "      <th>artifacts</th>\n",
       "      <th>artifacts_edge</th>\n",
       "      <th>...</th>\n",
       "      <th>trichodesmium_tuft</th>\n",
       "      <th>trochophore_larvae</th>\n",
       "      <th>tunicate_doliolid</th>\n",
       "      <th>tunicate_doliolid_nurse</th>\n",
       "      <th>tunicate_partial</th>\n",
       "      <th>tunicate_salp</th>\n",
       "      <th>tunicate_salp_chains</th>\n",
       "      <th>unknown_blobs_and_smudges</th>\n",
       "      <th>unknown_sticks</th>\n",
       "      <th>unknown_unclassified</th>\n",
       "    </tr>\n",
       "  </thead>\n",
       "  <tbody>\n",
       "    <tr>\n",
       "      <th>1.jpg</th>\n",
       "      <td>0.030023</td>\n",
       "      <td>0.00039</td>\n",
       "      <td>0.002175</td>\n",
       "      <td>0.001533</td>\n",
       "      <td>0.000493</td>\n",
       "      <td>0.022557</td>\n",
       "      <td>0.018688</td>\n",
       "      <td>0.008578</td>\n",
       "      <td>0.012234</td>\n",
       "      <td>0.005953</td>\n",
       "      <td>...</td>\n",
       "      <td>0.021413</td>\n",
       "      <td>0.000871</td>\n",
       "      <td>0.014855</td>\n",
       "      <td>0.012931</td>\n",
       "      <td>0.011088</td>\n",
       "      <td>0.008216</td>\n",
       "      <td>0.002267</td>\n",
       "      <td>0.010644</td>\n",
       "      <td>0.005649</td>\n",
       "      <td>0.014549</td>\n",
       "    </tr>\n",
       "    <tr>\n",
       "      <th>10.jpg</th>\n",
       "      <td>0.030023</td>\n",
       "      <td>0.00039</td>\n",
       "      <td>0.002175</td>\n",
       "      <td>0.001533</td>\n",
       "      <td>0.000493</td>\n",
       "      <td>0.022557</td>\n",
       "      <td>0.018688</td>\n",
       "      <td>0.008578</td>\n",
       "      <td>0.012234</td>\n",
       "      <td>0.005953</td>\n",
       "      <td>...</td>\n",
       "      <td>0.021413</td>\n",
       "      <td>0.000871</td>\n",
       "      <td>0.014855</td>\n",
       "      <td>0.012931</td>\n",
       "      <td>0.011088</td>\n",
       "      <td>0.008216</td>\n",
       "      <td>0.002267</td>\n",
       "      <td>0.010644</td>\n",
       "      <td>0.005649</td>\n",
       "      <td>0.014549</td>\n",
       "    </tr>\n",
       "    <tr>\n",
       "      <th>100.jpg</th>\n",
       "      <td>0.030023</td>\n",
       "      <td>0.00039</td>\n",
       "      <td>0.002175</td>\n",
       "      <td>0.001533</td>\n",
       "      <td>0.000493</td>\n",
       "      <td>0.022557</td>\n",
       "      <td>0.018688</td>\n",
       "      <td>0.008578</td>\n",
       "      <td>0.012234</td>\n",
       "      <td>0.005953</td>\n",
       "      <td>...</td>\n",
       "      <td>0.021413</td>\n",
       "      <td>0.000871</td>\n",
       "      <td>0.014855</td>\n",
       "      <td>0.012931</td>\n",
       "      <td>0.011088</td>\n",
       "      <td>0.008216</td>\n",
       "      <td>0.002267</td>\n",
       "      <td>0.010644</td>\n",
       "      <td>0.005649</td>\n",
       "      <td>0.014549</td>\n",
       "    </tr>\n",
       "    <tr>\n",
       "      <th>1000.jpg</th>\n",
       "      <td>0.030023</td>\n",
       "      <td>0.00039</td>\n",
       "      <td>0.002175</td>\n",
       "      <td>0.001533</td>\n",
       "      <td>0.000493</td>\n",
       "      <td>0.022557</td>\n",
       "      <td>0.018688</td>\n",
       "      <td>0.008578</td>\n",
       "      <td>0.012234</td>\n",
       "      <td>0.005953</td>\n",
       "      <td>...</td>\n",
       "      <td>0.021413</td>\n",
       "      <td>0.000871</td>\n",
       "      <td>0.014855</td>\n",
       "      <td>0.012931</td>\n",
       "      <td>0.011088</td>\n",
       "      <td>0.008216</td>\n",
       "      <td>0.002267</td>\n",
       "      <td>0.010644</td>\n",
       "      <td>0.005649</td>\n",
       "      <td>0.014549</td>\n",
       "    </tr>\n",
       "    <tr>\n",
       "      <th>10000.jpg</th>\n",
       "      <td>0.030023</td>\n",
       "      <td>0.00039</td>\n",
       "      <td>0.002175</td>\n",
       "      <td>0.001533</td>\n",
       "      <td>0.000493</td>\n",
       "      <td>0.022557</td>\n",
       "      <td>0.018688</td>\n",
       "      <td>0.008578</td>\n",
       "      <td>0.012234</td>\n",
       "      <td>0.005953</td>\n",
       "      <td>...</td>\n",
       "      <td>0.021413</td>\n",
       "      <td>0.000871</td>\n",
       "      <td>0.014855</td>\n",
       "      <td>0.012931</td>\n",
       "      <td>0.011088</td>\n",
       "      <td>0.008216</td>\n",
       "      <td>0.002267</td>\n",
       "      <td>0.010644</td>\n",
       "      <td>0.005649</td>\n",
       "      <td>0.014549</td>\n",
       "    </tr>\n",
       "  </tbody>\n",
       "</table>\n",
       "<p>5 rows × 121 columns</p>\n",
       "</div>"
      ],
      "text/plain": [
       "           acantharia_protist  acantharia_protist_big_center  \\\n",
       "1.jpg                0.030023                        0.00039   \n",
       "10.jpg               0.030023                        0.00039   \n",
       "100.jpg              0.030023                        0.00039   \n",
       "1000.jpg             0.030023                        0.00039   \n",
       "10000.jpg            0.030023                        0.00039   \n",
       "\n",
       "           acantharia_protist_halo  amphipods  appendicularian_fritillaridae  \\\n",
       "1.jpg                     0.002175   0.001533                       0.000493   \n",
       "10.jpg                    0.002175   0.001533                       0.000493   \n",
       "100.jpg                   0.002175   0.001533                       0.000493   \n",
       "1000.jpg                  0.002175   0.001533                       0.000493   \n",
       "10000.jpg                 0.002175   0.001533                       0.000493   \n",
       "\n",
       "           appendicularian_s_shape  appendicularian_slight_curve  \\\n",
       "1.jpg                     0.022557                      0.018688   \n",
       "10.jpg                    0.022557                      0.018688   \n",
       "100.jpg                   0.022557                      0.018688   \n",
       "1000.jpg                  0.022557                      0.018688   \n",
       "10000.jpg                 0.022557                      0.018688   \n",
       "\n",
       "           appendicularian_straight  artifacts  artifacts_edge  \\\n",
       "1.jpg                      0.008578   0.012234        0.005953   \n",
       "10.jpg                     0.008578   0.012234        0.005953   \n",
       "100.jpg                    0.008578   0.012234        0.005953   \n",
       "1000.jpg                   0.008578   0.012234        0.005953   \n",
       "10000.jpg                  0.008578   0.012234        0.005953   \n",
       "\n",
       "                   ...           trichodesmium_tuft  trochophore_larvae  \\\n",
       "1.jpg              ...                     0.021413            0.000871   \n",
       "10.jpg             ...                     0.021413            0.000871   \n",
       "100.jpg            ...                     0.021413            0.000871   \n",
       "1000.jpg           ...                     0.021413            0.000871   \n",
       "10000.jpg          ...                     0.021413            0.000871   \n",
       "\n",
       "           tunicate_doliolid  tunicate_doliolid_nurse  tunicate_partial  \\\n",
       "1.jpg               0.014855                 0.012931          0.011088   \n",
       "10.jpg              0.014855                 0.012931          0.011088   \n",
       "100.jpg             0.014855                 0.012931          0.011088   \n",
       "1000.jpg            0.014855                 0.012931          0.011088   \n",
       "10000.jpg           0.014855                 0.012931          0.011088   \n",
       "\n",
       "           tunicate_salp  tunicate_salp_chains  unknown_blobs_and_smudges  \\\n",
       "1.jpg           0.008216              0.002267                   0.010644   \n",
       "10.jpg          0.008216              0.002267                   0.010644   \n",
       "100.jpg         0.008216              0.002267                   0.010644   \n",
       "1000.jpg        0.008216              0.002267                   0.010644   \n",
       "10000.jpg       0.008216              0.002267                   0.010644   \n",
       "\n",
       "           unknown_sticks  unknown_unclassified  \n",
       "1.jpg            0.005649              0.014549  \n",
       "10.jpg           0.005649              0.014549  \n",
       "100.jpg          0.005649              0.014549  \n",
       "1000.jpg         0.005649              0.014549  \n",
       "10000.jpg        0.005649              0.014549  \n",
       "\n",
       "[5 rows x 121 columns]"
      ]
     },
     "execution_count": 71,
     "metadata": {
      "tags": []
     },
     "output_type": "execute_result"
    }
   ],
   "source": [
    "import pandas as pd\n",
    "image_index = [x.replace(\"test/\",\"\") for x in test_generator.filenames]\n",
    "df = pd.DataFrame(data=res, columns=[*train_generator.class_indices],index=image_index)\n",
    "df.head()"
   ]
  },
  {
   "cell_type": "code",
   "execution_count": null,
   "metadata": {
    "colab": {
     "autoexec": {
      "startup": false,
      "wait_interval": 0
     },
     "base_uri": "https://localhost:8080/",
     "height": 274
    },
    "colab_type": "code",
    "executionInfo": {
     "elapsed": 490,
     "status": "ok",
     "timestamp": 1527013922622,
     "user": {
      "displayName": "Sergiy Doroshenko",
      "photoUrl": "//lh5.googleusercontent.com/-ZHU_BWQI6Dk/AAAAAAAAAAI/AAAAAAAACRQ/Greo3A_fYWk/s50-c-k-no/photo.jpg",
      "userId": "103686202862696076454"
     },
     "user_tz": -180
    },
    "id": "rR_flPQ1wmV-",
    "outputId": "07d6e9ef-512d-456b-a560-8cb16655534a"
   },
   "outputs": [
    {
     "data": {
      "text/html": [
       "<div>\n",
       "<style scoped>\n",
       "    .dataframe tbody tr th:only-of-type {\n",
       "        vertical-align: middle;\n",
       "    }\n",
       "\n",
       "    .dataframe tbody tr th {\n",
       "        vertical-align: top;\n",
       "    }\n",
       "\n",
       "    .dataframe thead th {\n",
       "        text-align: right;\n",
       "    }\n",
       "</style>\n",
       "<table border=\"1\" class=\"dataframe\">\n",
       "  <thead>\n",
       "    <tr style=\"text-align: right;\">\n",
       "      <th></th>\n",
       "      <th>acantharia_protist</th>\n",
       "      <th>acantharia_protist_big_center</th>\n",
       "      <th>acantharia_protist_halo</th>\n",
       "      <th>amphipods</th>\n",
       "      <th>appendicularian_fritillaridae</th>\n",
       "      <th>appendicularian_s_shape</th>\n",
       "      <th>appendicularian_slight_curve</th>\n",
       "      <th>appendicularian_straight</th>\n",
       "      <th>artifacts</th>\n",
       "      <th>artifacts_edge</th>\n",
       "      <th>...</th>\n",
       "      <th>trichodesmium_tuft</th>\n",
       "      <th>trochophore_larvae</th>\n",
       "      <th>tunicate_doliolid</th>\n",
       "      <th>tunicate_doliolid_nurse</th>\n",
       "      <th>tunicate_partial</th>\n",
       "      <th>tunicate_salp</th>\n",
       "      <th>tunicate_salp_chains</th>\n",
       "      <th>unknown_blobs_and_smudges</th>\n",
       "      <th>unknown_sticks</th>\n",
       "      <th>unknown_unclassified</th>\n",
       "    </tr>\n",
       "    <tr>\n",
       "      <th>image</th>\n",
       "      <th></th>\n",
       "      <th></th>\n",
       "      <th></th>\n",
       "      <th></th>\n",
       "      <th></th>\n",
       "      <th></th>\n",
       "      <th></th>\n",
       "      <th></th>\n",
       "      <th></th>\n",
       "      <th></th>\n",
       "      <th></th>\n",
       "      <th></th>\n",
       "      <th></th>\n",
       "      <th></th>\n",
       "      <th></th>\n",
       "      <th></th>\n",
       "      <th></th>\n",
       "      <th></th>\n",
       "      <th></th>\n",
       "      <th></th>\n",
       "      <th></th>\n",
       "    </tr>\n",
       "  </thead>\n",
       "  <tbody>\n",
       "    <tr>\n",
       "      <th>1.jpg</th>\n",
       "      <td>0.030023</td>\n",
       "      <td>0.00039</td>\n",
       "      <td>0.002175</td>\n",
       "      <td>0.001533</td>\n",
       "      <td>0.000493</td>\n",
       "      <td>0.022557</td>\n",
       "      <td>0.018688</td>\n",
       "      <td>0.008578</td>\n",
       "      <td>0.012234</td>\n",
       "      <td>0.005953</td>\n",
       "      <td>...</td>\n",
       "      <td>0.021413</td>\n",
       "      <td>0.000871</td>\n",
       "      <td>0.014855</td>\n",
       "      <td>0.012931</td>\n",
       "      <td>0.011088</td>\n",
       "      <td>0.008216</td>\n",
       "      <td>0.002267</td>\n",
       "      <td>0.010644</td>\n",
       "      <td>0.005649</td>\n",
       "      <td>0.014549</td>\n",
       "    </tr>\n",
       "    <tr>\n",
       "      <th>10.jpg</th>\n",
       "      <td>0.030023</td>\n",
       "      <td>0.00039</td>\n",
       "      <td>0.002175</td>\n",
       "      <td>0.001533</td>\n",
       "      <td>0.000493</td>\n",
       "      <td>0.022557</td>\n",
       "      <td>0.018688</td>\n",
       "      <td>0.008578</td>\n",
       "      <td>0.012234</td>\n",
       "      <td>0.005953</td>\n",
       "      <td>...</td>\n",
       "      <td>0.021413</td>\n",
       "      <td>0.000871</td>\n",
       "      <td>0.014855</td>\n",
       "      <td>0.012931</td>\n",
       "      <td>0.011088</td>\n",
       "      <td>0.008216</td>\n",
       "      <td>0.002267</td>\n",
       "      <td>0.010644</td>\n",
       "      <td>0.005649</td>\n",
       "      <td>0.014549</td>\n",
       "    </tr>\n",
       "    <tr>\n",
       "      <th>100.jpg</th>\n",
       "      <td>0.030023</td>\n",
       "      <td>0.00039</td>\n",
       "      <td>0.002175</td>\n",
       "      <td>0.001533</td>\n",
       "      <td>0.000493</td>\n",
       "      <td>0.022557</td>\n",
       "      <td>0.018688</td>\n",
       "      <td>0.008578</td>\n",
       "      <td>0.012234</td>\n",
       "      <td>0.005953</td>\n",
       "      <td>...</td>\n",
       "      <td>0.021413</td>\n",
       "      <td>0.000871</td>\n",
       "      <td>0.014855</td>\n",
       "      <td>0.012931</td>\n",
       "      <td>0.011088</td>\n",
       "      <td>0.008216</td>\n",
       "      <td>0.002267</td>\n",
       "      <td>0.010644</td>\n",
       "      <td>0.005649</td>\n",
       "      <td>0.014549</td>\n",
       "    </tr>\n",
       "    <tr>\n",
       "      <th>1000.jpg</th>\n",
       "      <td>0.030023</td>\n",
       "      <td>0.00039</td>\n",
       "      <td>0.002175</td>\n",
       "      <td>0.001533</td>\n",
       "      <td>0.000493</td>\n",
       "      <td>0.022557</td>\n",
       "      <td>0.018688</td>\n",
       "      <td>0.008578</td>\n",
       "      <td>0.012234</td>\n",
       "      <td>0.005953</td>\n",
       "      <td>...</td>\n",
       "      <td>0.021413</td>\n",
       "      <td>0.000871</td>\n",
       "      <td>0.014855</td>\n",
       "      <td>0.012931</td>\n",
       "      <td>0.011088</td>\n",
       "      <td>0.008216</td>\n",
       "      <td>0.002267</td>\n",
       "      <td>0.010644</td>\n",
       "      <td>0.005649</td>\n",
       "      <td>0.014549</td>\n",
       "    </tr>\n",
       "    <tr>\n",
       "      <th>10000.jpg</th>\n",
       "      <td>0.030023</td>\n",
       "      <td>0.00039</td>\n",
       "      <td>0.002175</td>\n",
       "      <td>0.001533</td>\n",
       "      <td>0.000493</td>\n",
       "      <td>0.022557</td>\n",
       "      <td>0.018688</td>\n",
       "      <td>0.008578</td>\n",
       "      <td>0.012234</td>\n",
       "      <td>0.005953</td>\n",
       "      <td>...</td>\n",
       "      <td>0.021413</td>\n",
       "      <td>0.000871</td>\n",
       "      <td>0.014855</td>\n",
       "      <td>0.012931</td>\n",
       "      <td>0.011088</td>\n",
       "      <td>0.008216</td>\n",
       "      <td>0.002267</td>\n",
       "      <td>0.010644</td>\n",
       "      <td>0.005649</td>\n",
       "      <td>0.014549</td>\n",
       "    </tr>\n",
       "  </tbody>\n",
       "</table>\n",
       "<p>5 rows × 121 columns</p>\n",
       "</div>"
      ],
      "text/plain": [
       "           acantharia_protist  acantharia_protist_big_center  \\\n",
       "image                                                          \n",
       "1.jpg                0.030023                        0.00039   \n",
       "10.jpg               0.030023                        0.00039   \n",
       "100.jpg              0.030023                        0.00039   \n",
       "1000.jpg             0.030023                        0.00039   \n",
       "10000.jpg            0.030023                        0.00039   \n",
       "\n",
       "           acantharia_protist_halo  amphipods  appendicularian_fritillaridae  \\\n",
       "image                                                                          \n",
       "1.jpg                     0.002175   0.001533                       0.000493   \n",
       "10.jpg                    0.002175   0.001533                       0.000493   \n",
       "100.jpg                   0.002175   0.001533                       0.000493   \n",
       "1000.jpg                  0.002175   0.001533                       0.000493   \n",
       "10000.jpg                 0.002175   0.001533                       0.000493   \n",
       "\n",
       "           appendicularian_s_shape  appendicularian_slight_curve  \\\n",
       "image                                                              \n",
       "1.jpg                     0.022557                      0.018688   \n",
       "10.jpg                    0.022557                      0.018688   \n",
       "100.jpg                   0.022557                      0.018688   \n",
       "1000.jpg                  0.022557                      0.018688   \n",
       "10000.jpg                 0.022557                      0.018688   \n",
       "\n",
       "           appendicularian_straight  artifacts  artifacts_edge  \\\n",
       "image                                                            \n",
       "1.jpg                      0.008578   0.012234        0.005953   \n",
       "10.jpg                     0.008578   0.012234        0.005953   \n",
       "100.jpg                    0.008578   0.012234        0.005953   \n",
       "1000.jpg                   0.008578   0.012234        0.005953   \n",
       "10000.jpg                  0.008578   0.012234        0.005953   \n",
       "\n",
       "                   ...           trichodesmium_tuft  trochophore_larvae  \\\n",
       "image              ...                                                    \n",
       "1.jpg              ...                     0.021413            0.000871   \n",
       "10.jpg             ...                     0.021413            0.000871   \n",
       "100.jpg            ...                     0.021413            0.000871   \n",
       "1000.jpg           ...                     0.021413            0.000871   \n",
       "10000.jpg          ...                     0.021413            0.000871   \n",
       "\n",
       "           tunicate_doliolid  tunicate_doliolid_nurse  tunicate_partial  \\\n",
       "image                                                                     \n",
       "1.jpg               0.014855                 0.012931          0.011088   \n",
       "10.jpg              0.014855                 0.012931          0.011088   \n",
       "100.jpg             0.014855                 0.012931          0.011088   \n",
       "1000.jpg            0.014855                 0.012931          0.011088   \n",
       "10000.jpg           0.014855                 0.012931          0.011088   \n",
       "\n",
       "           tunicate_salp  tunicate_salp_chains  unknown_blobs_and_smudges  \\\n",
       "image                                                                       \n",
       "1.jpg           0.008216              0.002267                   0.010644   \n",
       "10.jpg          0.008216              0.002267                   0.010644   \n",
       "100.jpg         0.008216              0.002267                   0.010644   \n",
       "1000.jpg        0.008216              0.002267                   0.010644   \n",
       "10000.jpg       0.008216              0.002267                   0.010644   \n",
       "\n",
       "           unknown_sticks  unknown_unclassified  \n",
       "image                                            \n",
       "1.jpg            0.005649              0.014549  \n",
       "10.jpg           0.005649              0.014549  \n",
       "100.jpg          0.005649              0.014549  \n",
       "1000.jpg         0.005649              0.014549  \n",
       "10000.jpg        0.005649              0.014549  \n",
       "\n",
       "[5 rows x 121 columns]"
      ]
     },
     "execution_count": 72,
     "metadata": {
      "tags": []
     },
     "output_type": "execute_result"
    }
   ],
   "source": [
    "df.index.name = 'image'\n",
    "df.head()"
   ]
  },
  {
   "cell_type": "code",
   "execution_count": null,
   "metadata": {
    "colab": {
     "autoexec": {
      "startup": false,
      "wait_interval": 0
     },
     "base_uri": "https://localhost:8080/",
     "height": 185
    },
    "colab_type": "code",
    "executionInfo": {
     "elapsed": 24124,
     "status": "ok",
     "timestamp": 1527013946921,
     "user": {
      "displayName": "Sergiy Doroshenko",
      "photoUrl": "//lh5.googleusercontent.com/-ZHU_BWQI6Dk/AAAAAAAAAAI/AAAAAAAACRQ/Greo3A_fYWk/s50-c-k-no/photo.jpg",
      "userId": "103686202862696076454"
     },
     "user_tz": -180
    },
    "id": "VGWonxNpJeDr",
    "outputId": "157f85c2-0f7b-4e0f-f35c-e87136cc80a4"
   },
   "outputs": [
    {
     "data": {
      "text/plain": [
       "Index(['image', 'acantharia_protist', 'acantharia_protist_big_center',\n",
       "       'acantharia_protist_halo', 'amphipods', 'appendicularian_fritillaridae',\n",
       "       'appendicularian_s_shape', 'appendicularian_slight_curve',\n",
       "       'appendicularian_straight', 'artifacts',\n",
       "       ...\n",
       "       'trichodesmium_tuft', 'trochophore_larvae', 'tunicate_doliolid',\n",
       "       'tunicate_doliolid_nurse', 'tunicate_partial', 'tunicate_salp',\n",
       "       'tunicate_salp_chains', 'unknown_blobs_and_smudges', 'unknown_sticks',\n",
       "       'unknown_unclassified'],\n",
       "      dtype='object', length=122)"
      ]
     },
     "execution_count": 73,
     "metadata": {
      "tags": []
     },
     "output_type": "execute_result"
    }
   ],
   "source": [
    "df.to_csv(\"/content/plankton/result.csv\", encoding='utf-8',index=image_index)\n",
    "result2 = pd.read_csv('/content/plankton/result.csv')\n",
    "result2.columns"
   ]
  },
  {
   "cell_type": "code",
   "execution_count": null,
   "metadata": {
    "colab": {
     "autoexec": {
      "startup": false,
      "wait_interval": 0
     },
     "base_uri": "https://localhost:8080/",
     "height": 34
    },
    "colab_type": "code",
    "executionInfo": {
     "elapsed": 28450,
     "status": "ok",
     "timestamp": 1527013975426,
     "user": {
      "displayName": "Sergiy Doroshenko",
      "photoUrl": "//lh5.googleusercontent.com/-ZHU_BWQI6Dk/AAAAAAAAAAI/AAAAAAAACRQ/Greo3A_fYWk/s50-c-k-no/photo.jpg",
      "userId": "103686202862696076454"
     },
     "user_tz": -180
    },
    "id": "37GymmJtGME1",
    "outputId": "aec9a6c6-9291-45fd-84ff-6e5fb4b1beb5"
   },
   "outputs": [
    {
     "name": "stdout",
     "output_type": "stream",
     "text": [
      "Successfully submitted to National Data Science Bowl"
     ]
    }
   ],
   "source": [
    "!kaggle competitions submit -c datasciencebowl -f /content/plankton/result.csv -m \"Adam(lr=0.001) 20 epoch gray scale\""
   ]
  },
  {
   "cell_type": "code",
   "execution_count": null,
   "metadata": {
    "colab": {
     "autoexec": {
      "startup": false,
      "wait_interval": 0
     }
    },
    "colab_type": "code",
    "id": "IcrwP662s002"
   },
   "outputs": [],
   "source": [
    "from google.colab import files\n",
    "files.download('/content/plankton/plankton_1.h5')"
   ]
  }
 ],
 "metadata": {
  "accelerator": "GPU",
  "colab": {
   "collapsed_sections": [],
   "default_view": {},
   "name": "fashionMNIST.ipynb",
   "provenance": [],
   "version": "0.3.2",
   "views": {}
  },
  "kernelspec": {
   "display_name": "Python 3",
   "language": "python",
   "name": "python3"
  },
  "language_info": {
   "codemirror_mode": {
    "name": "ipython",
    "version": 3
   },
   "file_extension": ".py",
   "mimetype": "text/x-python",
   "name": "python",
   "nbconvert_exporter": "python",
   "pygments_lexer": "ipython3",
   "version": "3.6.3"
  }
 },
 "nbformat": 4,
 "nbformat_minor": 2
}
