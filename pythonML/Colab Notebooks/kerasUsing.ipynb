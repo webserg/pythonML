{
 "cells": [
  {
   "cell_type": "code",
   "execution_count": 1,
   "metadata": {
    "colab": {
     "autoexec": {
      "startup": false,
      "wait_interval": 0
     }
    },
    "colab_type": "code",
    "id": "_JCsV1se18uu"
   },
   "outputs": [],
   "source": [
    "import numpy as np"
   ]
  },
  {
   "cell_type": "code",
   "execution_count": 2,
   "metadata": {
    "colab": {
     "autoexec": {
      "startup": false,
      "wait_interval": 0
     },
     "base_uri": "https://localhost:8080/",
     "height": 54,
     "output_extras": [
      {
       "item_id": 1
      },
      {
       "item_id": 2
      }
     ]
    },
    "colab_type": "code",
    "executionInfo": {
     "elapsed": 7408,
     "status": "ok",
     "timestamp": 1521490136200,
     "user": {
      "displayName": "Sergiy Doroshenko",
      "photoUrl": "//lh5.googleusercontent.com/-ZHU_BWQI6Dk/AAAAAAAAAAI/AAAAAAAACRQ/Greo3A_fYWk/s50-c-k-no/photo.jpg",
      "userId": "103686202862696076454"
     },
     "user_tz": -120
    },
    "id": "XSKR2-sJ4Mtc",
    "outputId": "2c5ff653-0a34-4ae3-b8a4-de9727ac1e2c"
   },
   "outputs": [
    {
     "name": "stderr",
     "output_type": "stream",
     "text": [
      "Using TensorFlow backend.\n"
     ]
    },
    {
     "data": {
      "text/plain": [
       "'2.2.4'"
      ]
     },
     "execution_count": 2,
     "metadata": {},
     "output_type": "execute_result"
    }
   ],
   "source": [
    "import keras\n",
    "keras.__version__"
   ]
  },
  {
   "cell_type": "code",
   "execution_count": 3,
   "metadata": {
    "colab": {
     "autoexec": {
      "startup": false,
      "wait_interval": 0
     },
     "base_uri": "https://localhost:8080/",
     "height": 36,
     "output_extras": [
      {
       "item_id": 1
      }
     ]
    },
    "colab_type": "code",
    "executionInfo": {
     "elapsed": 886,
     "status": "ok",
     "timestamp": 1521490183898,
     "user": {
      "displayName": "Sergiy Doroshenko",
      "photoUrl": "//lh5.googleusercontent.com/-ZHU_BWQI6Dk/AAAAAAAAAAI/AAAAAAAACRQ/Greo3A_fYWk/s50-c-k-no/photo.jpg",
      "userId": "103686202862696076454"
     },
     "user_tz": -120
    },
    "id": "QrSC1vLz4a2c",
    "outputId": "2ff828ad-deca-46f6-c28c-b45a485713ed"
   },
   "outputs": [
    {
     "data": {
      "text/plain": [
       "'C:\\\\git\\\\pythonML\\\\pythonML\\\\notebooks\\\\colab'"
      ]
     },
     "execution_count": 3,
     "metadata": {},
     "output_type": "execute_result"
    }
   ],
   "source": [
    "%pwd"
   ]
  },
  {
   "cell_type": "code",
   "execution_count": null,
   "metadata": {},
   "outputs": [],
   "source": []
  }
 ],
 "metadata": {
  "accelerator": "GPU",
  "colab": {
   "default_view": {},
   "name": "kerasUsing.ipynb",
   "provenance": [],
   "toc_visible": true,
   "version": "0.3.2",
   "views": {}
  },
  "kernelspec": {
   "display_name": "Python [conda env:tensorflow]",
   "language": "python",
   "name": "conda-env-tensorflow-py"
  },
  "language_info": {
   "codemirror_mode": {
    "name": "ipython",
    "version": 3
   },
   "file_extension": ".py",
   "mimetype": "text/x-python",
   "name": "python",
   "nbconvert_exporter": "python",
   "pygments_lexer": "ipython3",
   "version": "3.6.6"
  }
 },
 "nbformat": 4,
 "nbformat_minor": 4
}
